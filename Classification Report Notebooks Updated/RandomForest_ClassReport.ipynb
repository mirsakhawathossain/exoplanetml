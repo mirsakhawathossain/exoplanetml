{
 "cells": [
  {
   "cell_type": "code",
   "execution_count": 1,
   "metadata": {
    "execution": {
     "iopub.execute_input": "2024-04-16T06:48:35.939167Z",
     "iopub.status.busy": "2024-04-16T06:48:35.937643Z",
     "iopub.status.idle": "2024-04-16T06:48:49.468112Z",
     "shell.execute_reply": "2024-04-16T06:48:49.464433Z"
    },
    "tags": []
   },
   "outputs": [
    {
     "name": "stdout",
     "output_type": "stream",
     "text": [
      "Collecting scikit-learn\r\n",
      "  Downloading scikit_learn-1.4.2-cp39-cp39-manylinux_2_17_x86_64.manylinux2014_x86_64.whl (12.2 MB)\r\n",
      "\u001b[2K     \u001b[90m━━━━━━━━━━━━━━━━━━━━━━━━━━━━━━━━━━━━━━━━\u001b[0m \u001b[32m12.2/12.2 MB\u001b[0m \u001b[31m16.8 MB/s\u001b[0m eta \u001b[36m0:00:00\u001b[0m\r\n",
      "\u001b[?25hCollecting joblib>=1.2.0\r\n",
      "  Downloading joblib-1.4.0-py3-none-any.whl (301 kB)\r\n",
      "\u001b[2K     \u001b[90m━━━━━━━━━━━━━━━━━━━━━━━━━━━━━━━━━━━━━━\u001b[0m \u001b[32m301.2/301.2 kB\u001b[0m \u001b[31m17.3 MB/s\u001b[0m eta \u001b[36m0:00:00\u001b[0m\r\n",
      "\u001b[?25hRequirement already satisfied: scipy>=1.6.0 in /home/idies/mambaforge/envs/py39/lib/python3.9/site-packages (from scikit-learn) (1.9.3)\r\n",
      "Requirement already satisfied: numpy>=1.19.5 in /home/idies/mambaforge/envs/py39/lib/python3.9/site-packages (from scikit-learn) (1.23.4)\r\n",
      "Collecting threadpoolctl>=2.0.0\r\n",
      "  Downloading threadpoolctl-3.4.0-py3-none-any.whl (17 kB)\r\n",
      "Installing collected packages: threadpoolctl, joblib, scikit-learn\r\n",
      "Successfully installed joblib-1.4.0 scikit-learn-1.4.2 threadpoolctl-3.4.0\r\n"
     ]
    }
   ],
   "source": [
    "import sys\n",
    "!{sys.executable} -m pip install scikit-learn"
   ]
  },
  {
   "cell_type": "code",
   "execution_count": 2,
   "metadata": {
    "execution": {
     "iopub.execute_input": "2024-04-16T06:48:49.479396Z",
     "iopub.status.busy": "2024-04-16T06:48:49.478715Z",
     "iopub.status.idle": "2024-04-16T06:48:55.290963Z",
     "shell.execute_reply": "2024-04-16T06:48:55.288422Z"
    },
    "tags": []
   },
   "outputs": [
    {
     "name": "stdout",
     "output_type": "stream",
     "text": [
      "Collecting yellowbrick\r\n",
      "  Downloading yellowbrick-1.5-py3-none-any.whl (282 kB)\r\n",
      "\u001b[2K     \u001b[90m━━━━━━━━━━━━━━━━━━━━━━━━━━━━━━━━━━━━━━━\u001b[0m \u001b[32m282.6/282.6 kB\u001b[0m \u001b[31m7.0 MB/s\u001b[0m eta \u001b[36m0:00:00\u001b[0m\r\n",
      "\u001b[?25hRequirement already satisfied: scikit-learn>=1.0.0 in /home/idies/mambaforge/envs/py39/lib/python3.9/site-packages (from yellowbrick) (1.4.2)\r\n",
      "Requirement already satisfied: matplotlib!=3.0.0,>=2.0.2 in /home/idies/mambaforge/envs/py39/lib/python3.9/site-packages (from yellowbrick) (3.6.2)\r\n",
      "Requirement already satisfied: cycler>=0.10.0 in /home/idies/mambaforge/envs/py39/lib/python3.9/site-packages (from yellowbrick) (0.11.0)\r\n",
      "Requirement already satisfied: numpy>=1.16.0 in /home/idies/mambaforge/envs/py39/lib/python3.9/site-packages (from yellowbrick) (1.23.4)\r\n",
      "Requirement already satisfied: scipy>=1.0.0 in /home/idies/mambaforge/envs/py39/lib/python3.9/site-packages (from yellowbrick) (1.9.3)\r\n",
      "Requirement already satisfied: pillow>=6.2.0 in /home/idies/mambaforge/envs/py39/lib/python3.9/site-packages (from matplotlib!=3.0.0,>=2.0.2->yellowbrick) (9.2.0)\r\n",
      "Requirement already satisfied: fonttools>=4.22.0 in /home/idies/mambaforge/envs/py39/lib/python3.9/site-packages (from matplotlib!=3.0.0,>=2.0.2->yellowbrick) (4.38.0)\r\n",
      "Requirement already satisfied: contourpy>=1.0.1 in /home/idies/mambaforge/envs/py39/lib/python3.9/site-packages (from matplotlib!=3.0.0,>=2.0.2->yellowbrick) (1.0.6)\r\n",
      "Requirement already satisfied: packaging>=20.0 in /home/idies/mambaforge/envs/py39/lib/python3.9/site-packages (from matplotlib!=3.0.0,>=2.0.2->yellowbrick) (21.3)\r\n",
      "Requirement already satisfied: kiwisolver>=1.0.1 in /home/idies/mambaforge/envs/py39/lib/python3.9/site-packages (from matplotlib!=3.0.0,>=2.0.2->yellowbrick) (1.4.4)\r\n",
      "Requirement already satisfied: pyparsing>=2.2.1 in /home/idies/mambaforge/envs/py39/lib/python3.9/site-packages (from matplotlib!=3.0.0,>=2.0.2->yellowbrick) (3.0.9)\r\n",
      "Requirement already satisfied: python-dateutil>=2.7 in /home/idies/mambaforge/envs/py39/lib/python3.9/site-packages (from matplotlib!=3.0.0,>=2.0.2->yellowbrick) (2.8.2)\r\n",
      "Requirement already satisfied: joblib>=1.2.0 in /home/idies/mambaforge/envs/py39/lib/python3.9/site-packages (from scikit-learn>=1.0.0->yellowbrick) (1.4.0)\r\n",
      "Requirement already satisfied: threadpoolctl>=2.0.0 in /home/idies/mambaforge/envs/py39/lib/python3.9/site-packages (from scikit-learn>=1.0.0->yellowbrick) (3.4.0)\r\n",
      "Requirement already satisfied: six>=1.5 in /home/idies/mambaforge/envs/py39/lib/python3.9/site-packages (from python-dateutil>=2.7->matplotlib!=3.0.0,>=2.0.2->yellowbrick) (1.16.0)\r\n",
      "Installing collected packages: yellowbrick\r\n",
      "Successfully installed yellowbrick-1.5\r\n"
     ]
    }
   ],
   "source": [
    "import sys\n",
    "!{sys.executable} -m pip install yellowbrick"
   ]
  },
  {
   "cell_type": "code",
   "execution_count": 3,
   "metadata": {
    "execution": {
     "iopub.execute_input": "2024-04-16T06:48:55.302038Z",
     "iopub.status.busy": "2024-04-16T06:48:55.301386Z",
     "iopub.status.idle": "2024-04-16T06:48:56.885150Z",
     "shell.execute_reply": "2024-04-16T06:48:56.883015Z"
    },
    "tags": []
   },
   "outputs": [],
   "source": [
    "import matplotlib as mpl\n",
    "import matplotlib.pyplot as plt\n",
    "\n",
    "%matplotlib inline\n",
    "# import seaborn as sns\n",
    "# sns.set()\n",
    "mpl.rcParams[\"figure.figsize\"] = (10, 10)\n",
    "mpl.rcParams[\"axes.grid\"] = False\n",
    "mpl.rcParams[\"font.size\"] = 16"
   ]
  },
  {
   "cell_type": "code",
   "execution_count": 4,
   "metadata": {
    "execution": {
     "iopub.execute_input": "2024-04-16T06:48:56.894699Z",
     "iopub.status.busy": "2024-04-16T06:48:56.893962Z",
     "iopub.status.idle": "2024-04-16T06:48:56.905552Z",
     "shell.execute_reply": "2024-04-16T06:48:56.903417Z"
    },
    "tags": []
   },
   "outputs": [],
   "source": [
    "import numpy as np"
   ]
  },
  {
   "cell_type": "code",
   "execution_count": 5,
   "metadata": {
    "execution": {
     "iopub.execute_input": "2024-04-16T06:48:56.913825Z",
     "iopub.status.busy": "2024-04-16T06:48:56.913281Z",
     "iopub.status.idle": "2024-04-16T06:48:57.155269Z",
     "shell.execute_reply": "2024-04-16T06:48:57.153235Z"
    },
    "tags": []
   },
   "outputs": [],
   "source": [
    "X_train = np.load('/home/idies/workspace/Storage/s.hossain18/Permanent/PCA_Robust/X_train_pca.npy')\n",
    "X_test = np.load('/home/idies/workspace/Storage/s.hossain18/Permanent/PCA_Robust/X_test_pca.npy')\n",
    "y_train = np.load('/home/idies/workspace/Storage/s.hossain18/Permanent/PCA_Robust/y_train.npy')\n",
    "y_test = np.load('/home/idies/workspace/Storage/s.hossain18/Permanent/PCA_Robust/y_test.npy')"
   ]
  },
  {
   "cell_type": "code",
   "execution_count": 6,
   "metadata": {
    "execution": {
     "iopub.execute_input": "2024-04-16T06:48:57.165932Z",
     "iopub.status.busy": "2024-04-16T06:48:57.165316Z",
     "iopub.status.idle": "2024-04-16T06:48:58.753144Z",
     "shell.execute_reply": "2024-04-16T06:48:58.750338Z"
    },
    "tags": []
   },
   "outputs": [],
   "source": [
    "from sklearn.model_selection import RepeatedStratifiedKFold\n",
    "cv = RepeatedStratifiedKFold(n_splits=10, n_repeats=10, random_state=41)"
   ]
  },
  {
   "cell_type": "code",
   "execution_count": 7,
   "metadata": {
    "execution": {
     "iopub.execute_input": "2024-04-16T06:48:58.762670Z",
     "iopub.status.busy": "2024-04-16T06:48:58.761811Z",
     "iopub.status.idle": "2024-04-16T06:48:59.008101Z",
     "shell.execute_reply": "2024-04-16T06:48:59.005452Z"
    },
    "tags": []
   },
   "outputs": [],
   "source": [
    "from sklearn.ensemble import RandomForestClassifier"
   ]
  },
  {
   "cell_type": "code",
   "execution_count": 8,
   "metadata": {
    "execution": {
     "iopub.execute_input": "2024-04-16T06:48:59.016398Z",
     "iopub.status.busy": "2024-04-16T06:48:59.015560Z",
     "iopub.status.idle": "2024-04-16T06:48:59.027133Z",
     "shell.execute_reply": "2024-04-16T06:48:59.024635Z"
    },
    "tags": []
   },
   "outputs": [],
   "source": [
    "rf_classifier = RandomForestClassifier(criterion='gini',max_depth=192,max_features=None,min_samples_leaf=5,min_samples_split=12,n_estimators=400,random_state=43,n_jobs = -1)"
   ]
  },
  {
   "cell_type": "code",
   "execution_count": 9,
   "metadata": {
    "execution": {
     "iopub.execute_input": "2024-04-16T06:48:59.039105Z",
     "iopub.status.busy": "2024-04-16T06:48:59.038487Z",
     "iopub.status.idle": "2024-04-16T06:49:39.130224Z",
     "shell.execute_reply": "2024-04-16T06:49:39.127640Z"
    }
   },
   "outputs": [
    {
     "data": {
      "text/html": [
       "<style>#sk-container-id-1 {\n",
       "  /* Definition of color scheme common for light and dark mode */\n",
       "  --sklearn-color-text: black;\n",
       "  --sklearn-color-line: gray;\n",
       "  /* Definition of color scheme for unfitted estimators */\n",
       "  --sklearn-color-unfitted-level-0: #fff5e6;\n",
       "  --sklearn-color-unfitted-level-1: #f6e4d2;\n",
       "  --sklearn-color-unfitted-level-2: #ffe0b3;\n",
       "  --sklearn-color-unfitted-level-3: chocolate;\n",
       "  /* Definition of color scheme for fitted estimators */\n",
       "  --sklearn-color-fitted-level-0: #f0f8ff;\n",
       "  --sklearn-color-fitted-level-1: #d4ebff;\n",
       "  --sklearn-color-fitted-level-2: #b3dbfd;\n",
       "  --sklearn-color-fitted-level-3: cornflowerblue;\n",
       "\n",
       "  /* Specific color for light theme */\n",
       "  --sklearn-color-text-on-default-background: var(--sg-text-color, var(--theme-code-foreground, var(--jp-content-font-color1, black)));\n",
       "  --sklearn-color-background: var(--sg-background-color, var(--theme-background, var(--jp-layout-color0, white)));\n",
       "  --sklearn-color-border-box: var(--sg-text-color, var(--theme-code-foreground, var(--jp-content-font-color1, black)));\n",
       "  --sklearn-color-icon: #696969;\n",
       "\n",
       "  @media (prefers-color-scheme: dark) {\n",
       "    /* Redefinition of color scheme for dark theme */\n",
       "    --sklearn-color-text-on-default-background: var(--sg-text-color, var(--theme-code-foreground, var(--jp-content-font-color1, white)));\n",
       "    --sklearn-color-background: var(--sg-background-color, var(--theme-background, var(--jp-layout-color0, #111)));\n",
       "    --sklearn-color-border-box: var(--sg-text-color, var(--theme-code-foreground, var(--jp-content-font-color1, white)));\n",
       "    --sklearn-color-icon: #878787;\n",
       "  }\n",
       "}\n",
       "\n",
       "#sk-container-id-1 {\n",
       "  color: var(--sklearn-color-text);\n",
       "}\n",
       "\n",
       "#sk-container-id-1 pre {\n",
       "  padding: 0;\n",
       "}\n",
       "\n",
       "#sk-container-id-1 input.sk-hidden--visually {\n",
       "  border: 0;\n",
       "  clip: rect(1px 1px 1px 1px);\n",
       "  clip: rect(1px, 1px, 1px, 1px);\n",
       "  height: 1px;\n",
       "  margin: -1px;\n",
       "  overflow: hidden;\n",
       "  padding: 0;\n",
       "  position: absolute;\n",
       "  width: 1px;\n",
       "}\n",
       "\n",
       "#sk-container-id-1 div.sk-dashed-wrapped {\n",
       "  border: 1px dashed var(--sklearn-color-line);\n",
       "  margin: 0 0.4em 0.5em 0.4em;\n",
       "  box-sizing: border-box;\n",
       "  padding-bottom: 0.4em;\n",
       "  background-color: var(--sklearn-color-background);\n",
       "}\n",
       "\n",
       "#sk-container-id-1 div.sk-container {\n",
       "  /* jupyter's `normalize.less` sets `[hidden] { display: none; }`\n",
       "     but bootstrap.min.css set `[hidden] { display: none !important; }`\n",
       "     so we also need the `!important` here to be able to override the\n",
       "     default hidden behavior on the sphinx rendered scikit-learn.org.\n",
       "     See: https://github.com/scikit-learn/scikit-learn/issues/21755 */\n",
       "  display: inline-block !important;\n",
       "  position: relative;\n",
       "}\n",
       "\n",
       "#sk-container-id-1 div.sk-text-repr-fallback {\n",
       "  display: none;\n",
       "}\n",
       "\n",
       "div.sk-parallel-item,\n",
       "div.sk-serial,\n",
       "div.sk-item {\n",
       "  /* draw centered vertical line to link estimators */\n",
       "  background-image: linear-gradient(var(--sklearn-color-text-on-default-background), var(--sklearn-color-text-on-default-background));\n",
       "  background-size: 2px 100%;\n",
       "  background-repeat: no-repeat;\n",
       "  background-position: center center;\n",
       "}\n",
       "\n",
       "/* Parallel-specific style estimator block */\n",
       "\n",
       "#sk-container-id-1 div.sk-parallel-item::after {\n",
       "  content: \"\";\n",
       "  width: 100%;\n",
       "  border-bottom: 2px solid var(--sklearn-color-text-on-default-background);\n",
       "  flex-grow: 1;\n",
       "}\n",
       "\n",
       "#sk-container-id-1 div.sk-parallel {\n",
       "  display: flex;\n",
       "  align-items: stretch;\n",
       "  justify-content: center;\n",
       "  background-color: var(--sklearn-color-background);\n",
       "  position: relative;\n",
       "}\n",
       "\n",
       "#sk-container-id-1 div.sk-parallel-item {\n",
       "  display: flex;\n",
       "  flex-direction: column;\n",
       "}\n",
       "\n",
       "#sk-container-id-1 div.sk-parallel-item:first-child::after {\n",
       "  align-self: flex-end;\n",
       "  width: 50%;\n",
       "}\n",
       "\n",
       "#sk-container-id-1 div.sk-parallel-item:last-child::after {\n",
       "  align-self: flex-start;\n",
       "  width: 50%;\n",
       "}\n",
       "\n",
       "#sk-container-id-1 div.sk-parallel-item:only-child::after {\n",
       "  width: 0;\n",
       "}\n",
       "\n",
       "/* Serial-specific style estimator block */\n",
       "\n",
       "#sk-container-id-1 div.sk-serial {\n",
       "  display: flex;\n",
       "  flex-direction: column;\n",
       "  align-items: center;\n",
       "  background-color: var(--sklearn-color-background);\n",
       "  padding-right: 1em;\n",
       "  padding-left: 1em;\n",
       "}\n",
       "\n",
       "\n",
       "/* Toggleable style: style used for estimator/Pipeline/ColumnTransformer box that is\n",
       "clickable and can be expanded/collapsed.\n",
       "- Pipeline and ColumnTransformer use this feature and define the default style\n",
       "- Estimators will overwrite some part of the style using the `sk-estimator` class\n",
       "*/\n",
       "\n",
       "/* Pipeline and ColumnTransformer style (default) */\n",
       "\n",
       "#sk-container-id-1 div.sk-toggleable {\n",
       "  /* Default theme specific background. It is overwritten whether we have a\n",
       "  specific estimator or a Pipeline/ColumnTransformer */\n",
       "  background-color: var(--sklearn-color-background);\n",
       "}\n",
       "\n",
       "/* Toggleable label */\n",
       "#sk-container-id-1 label.sk-toggleable__label {\n",
       "  cursor: pointer;\n",
       "  display: block;\n",
       "  width: 100%;\n",
       "  margin-bottom: 0;\n",
       "  padding: 0.5em;\n",
       "  box-sizing: border-box;\n",
       "  text-align: center;\n",
       "}\n",
       "\n",
       "#sk-container-id-1 label.sk-toggleable__label-arrow:before {\n",
       "  /* Arrow on the left of the label */\n",
       "  content: \"▸\";\n",
       "  float: left;\n",
       "  margin-right: 0.25em;\n",
       "  color: var(--sklearn-color-icon);\n",
       "}\n",
       "\n",
       "#sk-container-id-1 label.sk-toggleable__label-arrow:hover:before {\n",
       "  color: var(--sklearn-color-text);\n",
       "}\n",
       "\n",
       "/* Toggleable content - dropdown */\n",
       "\n",
       "#sk-container-id-1 div.sk-toggleable__content {\n",
       "  max-height: 0;\n",
       "  max-width: 0;\n",
       "  overflow: hidden;\n",
       "  text-align: left;\n",
       "  /* unfitted */\n",
       "  background-color: var(--sklearn-color-unfitted-level-0);\n",
       "}\n",
       "\n",
       "#sk-container-id-1 div.sk-toggleable__content.fitted {\n",
       "  /* fitted */\n",
       "  background-color: var(--sklearn-color-fitted-level-0);\n",
       "}\n",
       "\n",
       "#sk-container-id-1 div.sk-toggleable__content pre {\n",
       "  margin: 0.2em;\n",
       "  border-radius: 0.25em;\n",
       "  color: var(--sklearn-color-text);\n",
       "  /* unfitted */\n",
       "  background-color: var(--sklearn-color-unfitted-level-0);\n",
       "}\n",
       "\n",
       "#sk-container-id-1 div.sk-toggleable__content.fitted pre {\n",
       "  /* unfitted */\n",
       "  background-color: var(--sklearn-color-fitted-level-0);\n",
       "}\n",
       "\n",
       "#sk-container-id-1 input.sk-toggleable__control:checked~div.sk-toggleable__content {\n",
       "  /* Expand drop-down */\n",
       "  max-height: 200px;\n",
       "  max-width: 100%;\n",
       "  overflow: auto;\n",
       "}\n",
       "\n",
       "#sk-container-id-1 input.sk-toggleable__control:checked~label.sk-toggleable__label-arrow:before {\n",
       "  content: \"▾\";\n",
       "}\n",
       "\n",
       "/* Pipeline/ColumnTransformer-specific style */\n",
       "\n",
       "#sk-container-id-1 div.sk-label input.sk-toggleable__control:checked~label.sk-toggleable__label {\n",
       "  color: var(--sklearn-color-text);\n",
       "  background-color: var(--sklearn-color-unfitted-level-2);\n",
       "}\n",
       "\n",
       "#sk-container-id-1 div.sk-label.fitted input.sk-toggleable__control:checked~label.sk-toggleable__label {\n",
       "  background-color: var(--sklearn-color-fitted-level-2);\n",
       "}\n",
       "\n",
       "/* Estimator-specific style */\n",
       "\n",
       "/* Colorize estimator box */\n",
       "#sk-container-id-1 div.sk-estimator input.sk-toggleable__control:checked~label.sk-toggleable__label {\n",
       "  /* unfitted */\n",
       "  background-color: var(--sklearn-color-unfitted-level-2);\n",
       "}\n",
       "\n",
       "#sk-container-id-1 div.sk-estimator.fitted input.sk-toggleable__control:checked~label.sk-toggleable__label {\n",
       "  /* fitted */\n",
       "  background-color: var(--sklearn-color-fitted-level-2);\n",
       "}\n",
       "\n",
       "#sk-container-id-1 div.sk-label label.sk-toggleable__label,\n",
       "#sk-container-id-1 div.sk-label label {\n",
       "  /* The background is the default theme color */\n",
       "  color: var(--sklearn-color-text-on-default-background);\n",
       "}\n",
       "\n",
       "/* On hover, darken the color of the background */\n",
       "#sk-container-id-1 div.sk-label:hover label.sk-toggleable__label {\n",
       "  color: var(--sklearn-color-text);\n",
       "  background-color: var(--sklearn-color-unfitted-level-2);\n",
       "}\n",
       "\n",
       "/* Label box, darken color on hover, fitted */\n",
       "#sk-container-id-1 div.sk-label.fitted:hover label.sk-toggleable__label.fitted {\n",
       "  color: var(--sklearn-color-text);\n",
       "  background-color: var(--sklearn-color-fitted-level-2);\n",
       "}\n",
       "\n",
       "/* Estimator label */\n",
       "\n",
       "#sk-container-id-1 div.sk-label label {\n",
       "  font-family: monospace;\n",
       "  font-weight: bold;\n",
       "  display: inline-block;\n",
       "  line-height: 1.2em;\n",
       "}\n",
       "\n",
       "#sk-container-id-1 div.sk-label-container {\n",
       "  text-align: center;\n",
       "}\n",
       "\n",
       "/* Estimator-specific */\n",
       "#sk-container-id-1 div.sk-estimator {\n",
       "  font-family: monospace;\n",
       "  border: 1px dotted var(--sklearn-color-border-box);\n",
       "  border-radius: 0.25em;\n",
       "  box-sizing: border-box;\n",
       "  margin-bottom: 0.5em;\n",
       "  /* unfitted */\n",
       "  background-color: var(--sklearn-color-unfitted-level-0);\n",
       "}\n",
       "\n",
       "#sk-container-id-1 div.sk-estimator.fitted {\n",
       "  /* fitted */\n",
       "  background-color: var(--sklearn-color-fitted-level-0);\n",
       "}\n",
       "\n",
       "/* on hover */\n",
       "#sk-container-id-1 div.sk-estimator:hover {\n",
       "  /* unfitted */\n",
       "  background-color: var(--sklearn-color-unfitted-level-2);\n",
       "}\n",
       "\n",
       "#sk-container-id-1 div.sk-estimator.fitted:hover {\n",
       "  /* fitted */\n",
       "  background-color: var(--sklearn-color-fitted-level-2);\n",
       "}\n",
       "\n",
       "/* Specification for estimator info (e.g. \"i\" and \"?\") */\n",
       "\n",
       "/* Common style for \"i\" and \"?\" */\n",
       "\n",
       ".sk-estimator-doc-link,\n",
       "a:link.sk-estimator-doc-link,\n",
       "a:visited.sk-estimator-doc-link {\n",
       "  float: right;\n",
       "  font-size: smaller;\n",
       "  line-height: 1em;\n",
       "  font-family: monospace;\n",
       "  background-color: var(--sklearn-color-background);\n",
       "  border-radius: 1em;\n",
       "  height: 1em;\n",
       "  width: 1em;\n",
       "  text-decoration: none !important;\n",
       "  margin-left: 1ex;\n",
       "  /* unfitted */\n",
       "  border: var(--sklearn-color-unfitted-level-1) 1pt solid;\n",
       "  color: var(--sklearn-color-unfitted-level-1);\n",
       "}\n",
       "\n",
       ".sk-estimator-doc-link.fitted,\n",
       "a:link.sk-estimator-doc-link.fitted,\n",
       "a:visited.sk-estimator-doc-link.fitted {\n",
       "  /* fitted */\n",
       "  border: var(--sklearn-color-fitted-level-1) 1pt solid;\n",
       "  color: var(--sklearn-color-fitted-level-1);\n",
       "}\n",
       "\n",
       "/* On hover */\n",
       "div.sk-estimator:hover .sk-estimator-doc-link:hover,\n",
       ".sk-estimator-doc-link:hover,\n",
       "div.sk-label-container:hover .sk-estimator-doc-link:hover,\n",
       ".sk-estimator-doc-link:hover {\n",
       "  /* unfitted */\n",
       "  background-color: var(--sklearn-color-unfitted-level-3);\n",
       "  color: var(--sklearn-color-background);\n",
       "  text-decoration: none;\n",
       "}\n",
       "\n",
       "div.sk-estimator.fitted:hover .sk-estimator-doc-link.fitted:hover,\n",
       ".sk-estimator-doc-link.fitted:hover,\n",
       "div.sk-label-container:hover .sk-estimator-doc-link.fitted:hover,\n",
       ".sk-estimator-doc-link.fitted:hover {\n",
       "  /* fitted */\n",
       "  background-color: var(--sklearn-color-fitted-level-3);\n",
       "  color: var(--sklearn-color-background);\n",
       "  text-decoration: none;\n",
       "}\n",
       "\n",
       "/* Span, style for the box shown on hovering the info icon */\n",
       ".sk-estimator-doc-link span {\n",
       "  display: none;\n",
       "  z-index: 9999;\n",
       "  position: relative;\n",
       "  font-weight: normal;\n",
       "  right: .2ex;\n",
       "  padding: .5ex;\n",
       "  margin: .5ex;\n",
       "  width: min-content;\n",
       "  min-width: 20ex;\n",
       "  max-width: 50ex;\n",
       "  color: var(--sklearn-color-text);\n",
       "  box-shadow: 2pt 2pt 4pt #999;\n",
       "  /* unfitted */\n",
       "  background: var(--sklearn-color-unfitted-level-0);\n",
       "  border: .5pt solid var(--sklearn-color-unfitted-level-3);\n",
       "}\n",
       "\n",
       ".sk-estimator-doc-link.fitted span {\n",
       "  /* fitted */\n",
       "  background: var(--sklearn-color-fitted-level-0);\n",
       "  border: var(--sklearn-color-fitted-level-3);\n",
       "}\n",
       "\n",
       ".sk-estimator-doc-link:hover span {\n",
       "  display: block;\n",
       "}\n",
       "\n",
       "/* \"?\"-specific style due to the `<a>` HTML tag */\n",
       "\n",
       "#sk-container-id-1 a.estimator_doc_link {\n",
       "  float: right;\n",
       "  font-size: 1rem;\n",
       "  line-height: 1em;\n",
       "  font-family: monospace;\n",
       "  background-color: var(--sklearn-color-background);\n",
       "  border-radius: 1rem;\n",
       "  height: 1rem;\n",
       "  width: 1rem;\n",
       "  text-decoration: none;\n",
       "  /* unfitted */\n",
       "  color: var(--sklearn-color-unfitted-level-1);\n",
       "  border: var(--sklearn-color-unfitted-level-1) 1pt solid;\n",
       "}\n",
       "\n",
       "#sk-container-id-1 a.estimator_doc_link.fitted {\n",
       "  /* fitted */\n",
       "  border: var(--sklearn-color-fitted-level-1) 1pt solid;\n",
       "  color: var(--sklearn-color-fitted-level-1);\n",
       "}\n",
       "\n",
       "/* On hover */\n",
       "#sk-container-id-1 a.estimator_doc_link:hover {\n",
       "  /* unfitted */\n",
       "  background-color: var(--sklearn-color-unfitted-level-3);\n",
       "  color: var(--sklearn-color-background);\n",
       "  text-decoration: none;\n",
       "}\n",
       "\n",
       "#sk-container-id-1 a.estimator_doc_link.fitted:hover {\n",
       "  /* fitted */\n",
       "  background-color: var(--sklearn-color-fitted-level-3);\n",
       "}\n",
       "</style><div id=\"sk-container-id-1\" class=\"sk-top-container\"><div class=\"sk-text-repr-fallback\"><pre>RandomForestClassifier(max_depth=192, max_features=None, min_samples_leaf=5,\n",
       "                       min_samples_split=12, n_estimators=400, n_jobs=-1,\n",
       "                       random_state=43)</pre><b>In a Jupyter environment, please rerun this cell to show the HTML representation or trust the notebook. <br />On GitHub, the HTML representation is unable to render, please try loading this page with nbviewer.org.</b></div><div class=\"sk-container\" hidden><div class=\"sk-item\"><div class=\"sk-estimator fitted sk-toggleable\"><input class=\"sk-toggleable__control sk-hidden--visually\" id=\"sk-estimator-id-1\" type=\"checkbox\" checked><label for=\"sk-estimator-id-1\" class=\"sk-toggleable__label fitted sk-toggleable__label-arrow fitted\">&nbsp;&nbsp;RandomForestClassifier<a class=\"sk-estimator-doc-link fitted\" rel=\"noreferrer\" target=\"_blank\" href=\"https://scikit-learn.org/1.4/modules/generated/sklearn.ensemble.RandomForestClassifier.html\">?<span>Documentation for RandomForestClassifier</span></a><span class=\"sk-estimator-doc-link fitted\">i<span>Fitted</span></span></label><div class=\"sk-toggleable__content fitted\"><pre>RandomForestClassifier(max_depth=192, max_features=None, min_samples_leaf=5,\n",
       "                       min_samples_split=12, n_estimators=400, n_jobs=-1,\n",
       "                       random_state=43)</pre></div> </div></div></div></div>"
      ],
      "text/plain": [
       "RandomForestClassifier(max_depth=192, max_features=None, min_samples_leaf=5,\n",
       "                       min_samples_split=12, n_estimators=400, n_jobs=-1,\n",
       "                       random_state=43)"
      ]
     },
     "execution_count": 9,
     "metadata": {},
     "output_type": "execute_result"
    }
   ],
   "source": [
    "rf_classifier.fit(X_train, np.ravel(y_train))"
   ]
  },
  {
   "cell_type": "code",
   "execution_count": 10,
   "metadata": {
    "execution": {
     "iopub.execute_input": "2024-04-16T06:49:39.138924Z",
     "iopub.status.busy": "2024-04-16T06:49:39.138210Z",
     "iopub.status.idle": "2024-04-16T06:49:45.496908Z",
     "shell.execute_reply": "2024-04-16T06:49:45.494375Z"
    },
    "tags": []
   },
   "outputs": [
    {
     "data": {
      "image/png": "[encoded data removed]",
      "text/plain": [
       "<Figure size 1000x1000 with 2 Axes>"
      ]
     },
     "metadata": {},
     "output_type": "display_data"
    }
   ],
   "source": [
    "from sklearn.metrics import ConfusionMatrixDisplay, confusion_matrix\n",
    "\n",
    "y_pred = rf_classifier.predict(X_test)\n",
    "cm = confusion_matrix(y_test, y_pred)\n",
    "\n",
    "cm_display = ConfusionMatrixDisplay(cm).plot()\n",
    "plt.title('Confusion Matrix of Model By Random Forest')\n",
    "# Save the figure as '.eps' file.\n",
    "plt.savefig('/home/idies/workspace/Storage/s.hossain18/Permanent/Figures/confusion_matrix_randomforest.pdf', format='pdf', dpi=300)\n",
    "plt.savefig('/home/idies/workspace/Storage/s.hossain18/Permanent/Figures/confusion_matrix_randomforest.eps', format='eps', dpi=300)\n",
    "plt.savefig('/home/idies/workspace/Storage/s.hossain18/Permanent/Figures/confusion_matrix_randomforest.jpg', dpi=300)  \n",
    "plt.show()"
   ]
  },
  {
   "cell_type": "code",
   "execution_count": 11,
   "metadata": {
    "execution": {
     "iopub.execute_input": "2024-04-16T06:49:45.505798Z",
     "iopub.status.busy": "2024-04-16T06:49:45.505185Z",
     "iopub.status.idle": "2024-04-16T06:49:45.516068Z",
     "shell.execute_reply": "2024-04-16T06:49:45.513728Z"
    },
    "tags": []
   },
   "outputs": [],
   "source": [
    "from itertools import cycle\n",
    "from sklearn.metrics import roc_curve, auc\n",
    "from numpy import interp\n",
    "from sklearn.metrics import roc_auc_score"
   ]
  },
  {
   "cell_type": "code",
   "execution_count": 12,
   "metadata": {
    "execution": {
     "iopub.execute_input": "2024-04-16T06:49:45.523805Z",
     "iopub.status.busy": "2024-04-16T06:49:45.523210Z",
     "iopub.status.idle": "2024-04-16T06:50:24.874185Z",
     "shell.execute_reply": "2024-04-16T06:50:24.871267Z"
    },
    "tags": []
   },
   "outputs": [],
   "source": [
    "y_fit = rf_classifier.fit(X_train, np.ravel(y_train))"
   ]
  },
  {
   "cell_type": "code",
   "execution_count": 13,
   "metadata": {
    "execution": {
     "iopub.execute_input": "2024-04-16T06:50:24.884788Z",
     "iopub.status.busy": "2024-04-16T06:50:24.884171Z",
     "iopub.status.idle": "2024-04-16T06:50:25.281398Z",
     "shell.execute_reply": "2024-04-16T06:50:25.277757Z"
    },
    "tags": []
   },
   "outputs": [],
   "source": [
    "#y_score = y_fit.predict_proba(X_test)[:,1]\n",
    "y_score = y_fit.predict_proba(X_test)\n",
    "#y_score = y_fit.predict(X_test)"
   ]
  },
  {
   "cell_type": "code",
   "execution_count": 14,
   "metadata": {
    "execution": {
     "iopub.execute_input": "2024-04-16T06:50:25.291118Z",
     "iopub.status.busy": "2024-04-16T06:50:25.290459Z",
     "iopub.status.idle": "2024-04-16T06:50:25.300358Z",
     "shell.execute_reply": "2024-04-16T06:50:25.298333Z"
    },
    "tags": []
   },
   "outputs": [],
   "source": [
    "#n_classes = np.unique(y_test).shape[0]"
   ]
  },
  {
   "cell_type": "code",
   "execution_count": 15,
   "metadata": {
    "execution": {
     "iopub.execute_input": "2024-04-16T06:50:25.307726Z",
     "iopub.status.busy": "2024-04-16T06:50:25.307131Z",
     "iopub.status.idle": "2024-04-16T06:50:25.319160Z",
     "shell.execute_reply": "2024-04-16T06:50:25.317170Z"
    },
    "tags": []
   },
   "outputs": [],
   "source": [
    "# Set the default text font size\n",
    "plt.rc('font', size=20)# Set the axes title font size\n",
    "plt.rc('axes', titlesize=20)# Set the axes labels font size\n",
    "plt.rc('axes', labelsize=20)# Set the font size for x tick labels\n",
    "plt.rc('xtick', labelsize=20)# Set the font size for y tick labels\n",
    "plt.rc('ytick', labelsize=20)# Set the legend font size\n",
    "plt.rc('legend', fontsize=17)# Set the font size of the figure title\n",
    "plt.rc('figure', titlesize=20)"
   ]
  },
  {
   "cell_type": "code",
   "execution_count": 16,
   "metadata": {
    "execution": {
     "iopub.execute_input": "2024-04-16T06:50:25.326651Z",
     "iopub.status.busy": "2024-04-16T06:50:25.326066Z",
     "iopub.status.idle": "2024-04-16T06:50:28.260727Z",
     "shell.execute_reply": "2024-04-16T06:50:28.258267Z"
    },
    "tags": []
   },
   "outputs": [
    {
     "name": "stderr",
     "output_type": "stream",
     "text": [
      "No artists with labels found to put in legend.  Note that artists whose label start with an underscore are ignored when legend() is called with no argument.\n",
      "The PostScript backend does not support transparency; partially transparent artists will be rendered opaque.\n"
     ]
    },
    {
     "data": {
      "image/png": "[encoded data removed]",
      "text/plain": [
       "<Figure size 1000x1000 with 1 Axes>"
      ]
     },
     "metadata": {},
     "output_type": "display_data"
    }
   ],
   "source": [
    "from sklearn.metrics import RocCurveDisplay, roc_curve\n",
    "\n",
    "y_score = rf_classifier.predict_proba(X_test)[:, 1]\n",
    "\n",
    "fpr, tpr, _ = roc_curve(y_test, y_score, pos_label=rf_classifier.classes_[1])\n",
    "roc_display = RocCurveDisplay(fpr=fpr, tpr=tpr).plot()\n",
    "#plt.legend(loc=\"lower right\")\n",
    "plt.title('ROC Curve of Model By Random Forest')\n",
    "plt.savefig('/home/idies/workspace/Storage/s.hossain18/Permanent/Figures/roc_curve_randomforest.pdf', format='pdf', dpi=300)\n",
    "plt.savefig('/home/idies/workspace/Storage/s.hossain18/Permanent/Figures/roc_curve_randomforest.eps', format='eps', dpi=300)\n",
    "plt.savefig('/home/idies/workspace/Storage/s.hossain18/Permanent/Figures/roc_curve_randomforest.jpg', dpi=300)\n",
    "plt.show()"
   ]
  },
  {
   "cell_type": "code",
   "execution_count": 17,
   "metadata": {
    "execution": {
     "iopub.execute_input": "2024-04-16T06:50:28.286399Z",
     "iopub.status.busy": "2024-04-16T06:50:28.285726Z",
     "iopub.status.idle": "2024-04-16T06:50:30.495225Z",
     "shell.execute_reply": "2024-04-16T06:50:30.492505Z"
    },
    "tags": []
   },
   "outputs": [
    {
     "data": {
      "image/png": "[encoded data removed]",
      "text/plain": [
       "<Figure size 1000x1000 with 1 Axes>"
      ]
     },
     "metadata": {},
     "output_type": "display_data"
    }
   ],
   "source": [
    "from sklearn.metrics import PrecisionRecallDisplay, precision_recall_curve\n",
    "\n",
    "#prec, recall, _ = precision_recall_curve(y_test, y_score, pos_label=rf_classifier.classes_[1])\n",
    "prec, recall, _ = precision_recall_curve(y_test, y_score, pos_label=None)\n",
    "pr_display = PrecisionRecallDisplay(precision=prec, recall=recall).plot()\n",
    "plt.title('Precision Recall Curve of Model By Random Forest')\n",
    "plt.savefig('/home/idies/workspace/Storage/s.hossain18/Permanent/Figures/precall_curve_randomforest.pdf', format='pdf', dpi=300)\n",
    "plt.savefig('/home/idies/workspace/Storage/s.hossain18/Permanent/Figures/precall_curve_randomforest.eps', format='eps', dpi=300)\n",
    "plt.savefig('/home/idies/workspace/Storage/s.hossain18/Permanent/Figures/precall_curve_randomforest.jpg', dpi=300)\n",
    "plt.show()"
   ]
  },
  {
   "cell_type": "code",
   "execution_count": 18,
   "metadata": {
    "execution": {
     "iopub.execute_input": "2024-04-16T06:50:30.503850Z",
     "iopub.status.busy": "2024-04-16T06:50:30.503206Z",
     "iopub.status.idle": "2024-04-16T06:50:30.513597Z",
     "shell.execute_reply": "2024-04-16T06:50:30.511249Z"
    }
   },
   "outputs": [],
   "source": [
    "from sklearn.model_selection import cross_val_score"
   ]
  },
  {
   "cell_type": "code",
   "execution_count": 19,
   "metadata": {
    "execution": {
     "iopub.execute_input": "2024-04-16T06:50:30.521112Z",
     "iopub.status.busy": "2024-04-16T06:50:30.520455Z",
     "iopub.status.idle": "2024-04-16T07:18:12.171352Z",
     "shell.execute_reply": "2024-04-16T07:18:12.164542Z"
    },
    "tags": []
   },
   "outputs": [],
   "source": [
    "scores_randomforest_accuracy = cross_val_score(rf_classifier,X_test,np.ravel(y_test),cv=cv,scoring='accuracy',n_jobs=-1)"
   ]
  },
  {
   "cell_type": "code",
   "execution_count": 20,
   "metadata": {
    "execution": {
     "iopub.execute_input": "2024-04-16T07:18:12.199167Z",
     "iopub.status.busy": "2024-04-16T07:18:12.198059Z",
     "iopub.status.idle": "2024-04-16T07:18:12.219007Z",
     "shell.execute_reply": "2024-04-16T07:18:12.215077Z"
    }
   },
   "outputs": [
    {
     "name": "stdout",
     "output_type": "stream",
     "text": [
      "Random Forest accuracy 0.7926863468634687\n"
     ]
    }
   ],
   "source": [
    "print('Random Forest accuracy',scores_randomforest_accuracy.mean())"
   ]
  },
  {
   "cell_type": "code",
   "execution_count": 21,
   "metadata": {
    "execution": {
     "iopub.execute_input": "2024-04-16T07:18:12.227089Z",
     "iopub.status.busy": "2024-04-16T07:18:12.226428Z",
     "iopub.status.idle": "2024-04-16T07:18:12.236270Z",
     "shell.execute_reply": "2024-04-16T07:18:12.234058Z"
    }
   },
   "outputs": [],
   "source": [
    "from sklearn.metrics import precision_score, make_scorer"
   ]
  },
  {
   "cell_type": "code",
   "execution_count": 22,
   "metadata": {
    "execution": {
     "iopub.execute_input": "2024-04-16T07:18:12.244011Z",
     "iopub.status.busy": "2024-04-16T07:18:12.243380Z",
     "iopub.status.idle": "2024-04-16T07:18:12.256121Z",
     "shell.execute_reply": "2024-04-16T07:18:12.253639Z"
    }
   },
   "outputs": [],
   "source": [
    "precision = make_scorer(precision_score,average='weighted')"
   ]
  },
  {
   "cell_type": "code",
   "execution_count": 23,
   "metadata": {
    "execution": {
     "iopub.execute_input": "2024-04-16T07:18:12.263640Z",
     "iopub.status.busy": "2024-04-16T07:18:12.263047Z",
     "iopub.status.idle": "2024-04-16T07:46:09.613099Z",
     "shell.execute_reply": "2024-04-16T07:46:09.609109Z"
    }
   },
   "outputs": [],
   "source": [
    "scores_randomforest_precision = cross_val_score(rf_classifier,X_test,np.ravel(y_test),cv=cv,scoring=precision,n_jobs=-1)"
   ]
  },
  {
   "cell_type": "code",
   "execution_count": 24,
   "metadata": {
    "execution": {
     "iopub.execute_input": "2024-04-16T07:46:09.634366Z",
     "iopub.status.busy": "2024-04-16T07:46:09.633662Z",
     "iopub.status.idle": "2024-04-16T07:46:09.648896Z",
     "shell.execute_reply": "2024-04-16T07:46:09.646780Z"
    }
   },
   "outputs": [
    {
     "name": "stdout",
     "output_type": "stream",
     "text": [
      "Random Forest precision 0.7945019668054201\n"
     ]
    }
   ],
   "source": [
    "print('Random Forest precision',scores_randomforest_precision.mean())"
   ]
  },
  {
   "cell_type": "code",
   "execution_count": 25,
   "metadata": {
    "execution": {
     "iopub.execute_input": "2024-04-16T07:46:09.658580Z",
     "iopub.status.busy": "2024-04-16T07:46:09.657986Z",
     "iopub.status.idle": "2024-04-16T07:46:09.667649Z",
     "shell.execute_reply": "2024-04-16T07:46:09.665492Z"
    }
   },
   "outputs": [],
   "source": [
    "from sklearn.metrics import recall_score"
   ]
  },
  {
   "cell_type": "code",
   "execution_count": 26,
   "metadata": {
    "execution": {
     "iopub.execute_input": "2024-04-16T07:46:09.675261Z",
     "iopub.status.busy": "2024-04-16T07:46:09.674659Z",
     "iopub.status.idle": "2024-04-16T07:46:09.685280Z",
     "shell.execute_reply": "2024-04-16T07:46:09.683132Z"
    }
   },
   "outputs": [],
   "source": [
    "recall = make_scorer(recall_score,average='weighted')"
   ]
  },
  {
   "cell_type": "code",
   "execution_count": 27,
   "metadata": {
    "execution": {
     "iopub.execute_input": "2024-04-16T07:46:09.693145Z",
     "iopub.status.busy": "2024-04-16T07:46:09.692534Z",
     "iopub.status.idle": "2024-04-16T08:14:18.080799Z",
     "shell.execute_reply": "2024-04-16T08:14:18.075587Z"
    }
   },
   "outputs": [],
   "source": [
    "scores_randomforest_recall = cross_val_score(rf_classifier,X_test,np.ravel(y_test),cv=cv,scoring=recall,n_jobs=-1)"
   ]
  },
  {
   "cell_type": "code",
   "execution_count": 28,
   "metadata": {
    "execution": {
     "iopub.execute_input": "2024-04-16T08:14:18.102272Z",
     "iopub.status.busy": "2024-04-16T08:14:18.101555Z",
     "iopub.status.idle": "2024-04-16T08:14:18.122765Z",
     "shell.execute_reply": "2024-04-16T08:14:18.114633Z"
    }
   },
   "outputs": [
    {
     "name": "stdout",
     "output_type": "stream",
     "text": [
      "Random Forest recall 0.7926863468634687\n"
     ]
    }
   ],
   "source": [
    "print('Random Forest recall',scores_randomforest_recall.mean())"
   ]
  },
  {
   "cell_type": "code",
   "execution_count": 29,
   "metadata": {
    "execution": {
     "iopub.execute_input": "2024-04-16T08:14:18.135426Z",
     "iopub.status.busy": "2024-04-16T08:14:18.134754Z",
     "iopub.status.idle": "2024-04-16T08:42:30.887129Z",
     "shell.execute_reply": "2024-04-16T08:42:30.883295Z"
    }
   },
   "outputs": [],
   "source": [
    "scores_randomforest_f1 = cross_val_score(rf_classifier,X_test,np.ravel(y_test),cv=cv,scoring='f1_weighted',n_jobs=-1)"
   ]
  },
  {
   "cell_type": "code",
   "execution_count": 30,
   "metadata": {
    "execution": {
     "iopub.execute_input": "2024-04-16T08:42:30.908662Z",
     "iopub.status.busy": "2024-04-16T08:42:30.907959Z",
     "iopub.status.idle": "2024-04-16T08:42:30.922903Z",
     "shell.execute_reply": "2024-04-16T08:42:30.920745Z"
    },
    "tags": []
   },
   "outputs": [
    {
     "name": "stdout",
     "output_type": "stream",
     "text": [
      "Random Forest f1 0.7724843083573661\n"
     ]
    }
   ],
   "source": [
    "print('Random Forest f1',scores_randomforest_f1.mean())"
   ]
  },
  {
   "cell_type": "code",
   "execution_count": 31,
   "metadata": {
    "execution": {
     "iopub.execute_input": "2024-04-16T08:42:30.936433Z",
     "iopub.status.busy": "2024-04-16T08:42:30.935792Z",
     "iopub.status.idle": "2024-04-16T09:10:44.221836Z",
     "shell.execute_reply": "2024-04-16T09:10:44.218507Z"
    }
   },
   "outputs": [],
   "source": [
    "scores_randomforest_auc = cross_val_score(rf_classifier,X_test,np.ravel(y_test),cv=cv,scoring='roc_auc',n_jobs=-1)"
   ]
  },
  {
   "cell_type": "code",
   "execution_count": 32,
   "metadata": {
    "execution": {
     "iopub.execute_input": "2024-04-16T09:10:44.251521Z",
     "iopub.status.busy": "2024-04-16T09:10:44.250789Z",
     "iopub.status.idle": "2024-04-16T09:10:44.265278Z",
     "shell.execute_reply": "2024-04-16T09:10:44.263172Z"
    }
   },
   "outputs": [
    {
     "name": "stdout",
     "output_type": "stream",
     "text": [
      "Random Forest auc 0.8458685924027479\n"
     ]
    }
   ],
   "source": [
    "print('Random Forest auc',scores_randomforest_auc.mean())"
   ]
  }
 ],
 "metadata": {
  "kernelspec": {
   "display_name": "Python 3.9 (py39)",
   "language": "python",
   "name": "py39"
  },
  "language_info": {
   "codemirror_mode": {
    "name": "ipython",
    "version": 3
   },
   "file_extension": ".py",
   "mimetype": "text/x-python",
   "name": "python",
   "nbconvert_exporter": "python",
   "pygments_lexer": "ipython3",
   "version": "3.9.13"
  }
 },
 "nbformat": 4,
 "nbformat_minor": 4
}

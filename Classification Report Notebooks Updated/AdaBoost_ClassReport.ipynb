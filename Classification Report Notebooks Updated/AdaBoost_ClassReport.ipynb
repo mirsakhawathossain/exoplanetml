{
 "cells": [
  {
   "cell_type": "code",
   "execution_count": 1,
   "metadata": {
    "execution": {
     "iopub.execute_input": "2024-04-08T04:28:36.717118Z",
     "iopub.status.busy": "2024-04-08T04:28:36.716455Z",
     "iopub.status.idle": "2024-04-08T04:28:48.214349Z",
     "shell.execute_reply": "2024-04-08T04:28:48.211457Z"
    }
   },
   "outputs": [
    {
     "name": "stdout",
     "output_type": "stream",
     "text": [
      "Collecting scikit-learn\r\n",
      "  Downloading scikit_learn-1.4.1.post1-cp39-cp39-manylinux_2_17_x86_64.manylinux2014_x86_64.whl (12.2 MB)\r\n",
      "\u001b[2K     \u001b[90m━━━━━━━━━━━━━━━━━━━━━━━━━━━━━━━━━━━━━━━━\u001b[0m \u001b[32m12.2/12.2 MB\u001b[0m \u001b[31m22.3 MB/s\u001b[0m eta \u001b[36m0:00:00\u001b[0m\r\n",
      "\u001b[?25hRequirement already satisfied: numpy<2.0,>=1.19.5 in /home/idies/mambaforge/envs/py39/lib/python3.9/site-packages (from scikit-learn) (1.23.4)\r\n",
      "Collecting threadpoolctl>=2.0.0\r\n",
      "  Downloading threadpoolctl-3.4.0-py3-none-any.whl (17 kB)\r\n",
      "Collecting joblib>=1.2.0\r\n",
      "  Downloading joblib-1.3.2-py3-none-any.whl (302 kB)\r\n",
      "\u001b[2K     \u001b[90m━━━━━━━━━━━━━━━━━━━━━━━━━━━━━━━━━━━━━━\u001b[0m \u001b[32m302.2/302.2 kB\u001b[0m \u001b[31m17.5 MB/s\u001b[0m eta \u001b[36m0:00:00\u001b[0m\r\n",
      "\u001b[?25hRequirement already satisfied: scipy>=1.6.0 in /home/idies/mambaforge/envs/py39/lib/python3.9/site-packages (from scikit-learn) (1.9.3)\r\n",
      "Installing collected packages: threadpoolctl, joblib, scikit-learn\r\n",
      "Successfully installed joblib-1.3.2 scikit-learn-1.4.1.post1 threadpoolctl-3.4.0\r\n"
     ]
    }
   ],
   "source": [
    "import sys\n",
    "!{sys.executable} -m pip install scikit-learn"
   ]
  },
  {
   "cell_type": "code",
   "execution_count": 2,
   "metadata": {
    "execution": {
     "iopub.execute_input": "2024-04-08T04:28:48.222547Z",
     "iopub.status.busy": "2024-04-08T04:28:48.222030Z",
     "iopub.status.idle": "2024-04-08T04:28:50.147815Z",
     "shell.execute_reply": "2024-04-08T04:28:50.145799Z"
    }
   },
   "outputs": [],
   "source": [
    "import matplotlib as mpl\n",
    "import matplotlib.pyplot as plt\n",
    "\n",
    "%matplotlib inline\n",
    "# import seaborn as sns\n",
    "# sns.set()\n",
    "mpl.rcParams[\"figure.figsize\"] = (10, 10)\n",
    "mpl.rcParams[\"axes.grid\"] = False\n",
    "mpl.rcParams[\"font.size\"] = 16"
   ]
  },
  {
   "cell_type": "code",
   "execution_count": 3,
   "metadata": {
    "execution": {
     "iopub.execute_input": "2024-04-08T04:28:50.156489Z",
     "iopub.status.busy": "2024-04-08T04:28:50.155804Z",
     "iopub.status.idle": "2024-04-08T04:28:50.165041Z",
     "shell.execute_reply": "2024-04-08T04:28:50.163088Z"
    }
   },
   "outputs": [],
   "source": [
    "import numpy as np"
   ]
  },
  {
   "cell_type": "code",
   "execution_count": 4,
   "metadata": {
    "execution": {
     "iopub.execute_input": "2024-04-08T04:28:50.171730Z",
     "iopub.status.busy": "2024-04-08T04:28:50.171265Z",
     "iopub.status.idle": "2024-04-08T04:28:50.840055Z",
     "shell.execute_reply": "2024-04-08T04:28:50.837899Z"
    }
   },
   "outputs": [],
   "source": [
    "X_train = np.load('/home/idies/workspace/Storage/s.hossain18/Permanent/PCA_Robust/X_train_pca.npy')\n",
    "X_test = np.load('/home/idies/workspace/Storage/s.hossain18/Permanent/PCA_Robust/X_test_pca.npy')\n",
    "y_train = np.load('/home/idies/workspace/Storage/s.hossain18/Permanent/PCA_Robust/y_train.npy')\n",
    "y_test = np.load('/home/idies/workspace/Storage/s.hossain18/Permanent/PCA_Robust/y_test.npy')"
   ]
  },
  {
   "cell_type": "code",
   "execution_count": 5,
   "metadata": {
    "execution": {
     "iopub.execute_input": "2024-04-08T04:28:50.849158Z",
     "iopub.status.busy": "2024-04-08T04:28:50.848625Z",
     "iopub.status.idle": "2024-04-08T04:28:52.163370Z",
     "shell.execute_reply": "2024-04-08T04:28:52.161463Z"
    }
   },
   "outputs": [],
   "source": [
    "from sklearn.model_selection import RepeatedStratifiedKFold\n",
    "cv = RepeatedStratifiedKFold(n_splits=10, n_repeats=10, random_state=41)"
   ]
  },
  {
   "cell_type": "code",
   "execution_count": 6,
   "metadata": {
    "execution": {
     "iopub.execute_input": "2024-04-08T04:28:52.171595Z",
     "iopub.status.busy": "2024-04-08T04:28:52.170948Z",
     "iopub.status.idle": "2024-04-08T04:28:52.355036Z",
     "shell.execute_reply": "2024-04-08T04:28:52.353006Z"
    }
   },
   "outputs": [],
   "source": [
    "from sklearn.ensemble import AdaBoostClassifier\n",
    "from sklearn.tree import DecisionTreeClassifier"
   ]
  },
  {
   "cell_type": "code",
   "execution_count": 7,
   "metadata": {
    "execution": {
     "iopub.execute_input": "2024-04-08T04:28:52.363023Z",
     "iopub.status.busy": "2024-04-08T04:28:52.362331Z",
     "iopub.status.idle": "2024-04-08T04:28:52.371558Z",
     "shell.execute_reply": "2024-04-08T04:28:52.369785Z"
    }
   },
   "outputs": [],
   "source": [
    "# Create an instance of the decision tree classifier with a specified maximum depth\n",
    "base_estimator = DecisionTreeClassifier(max_depth=3, random_state=11)"
   ]
  },
  {
   "cell_type": "code",
   "execution_count": 8,
   "metadata": {
    "execution": {
     "iopub.execute_input": "2024-04-08T04:28:52.377837Z",
     "iopub.status.busy": "2024-04-08T04:28:52.377350Z",
     "iopub.status.idle": "2024-04-08T04:28:52.385972Z",
     "shell.execute_reply": "2024-04-08T04:28:52.384202Z"
    }
   },
   "outputs": [],
   "source": [
    "# Create an instance of the classifier\n",
    "adaboost_classifier = AdaBoostClassifier(algorithm='SAMME',learning_rate=0.5,n_estimators=500,estimator=base_estimator,random_state=43)"
   ]
  },
  {
   "cell_type": "code",
   "execution_count": 9,
   "metadata": {
    "execution": {
     "iopub.execute_input": "2024-04-08T04:28:52.392123Z",
     "iopub.status.busy": "2024-04-08T04:28:52.391613Z",
     "iopub.status.idle": "2024-04-08T04:38:18.994743Z",
     "shell.execute_reply": "2024-04-08T04:38:18.992905Z"
    }
   },
   "outputs": [
    {
     "data": {
      "text/html": [
       "<style>#sk-container-id-1 {\n",
       "  /* Definition of color scheme common for light and dark mode */\n",
       "  --sklearn-color-text: black;\n",
       "  --sklearn-color-line: gray;\n",
       "  /* Definition of color scheme for unfitted estimators */\n",
       "  --sklearn-color-unfitted-level-0: #fff5e6;\n",
       "  --sklearn-color-unfitted-level-1: #f6e4d2;\n",
       "  --sklearn-color-unfitted-level-2: #ffe0b3;\n",
       "  --sklearn-color-unfitted-level-3: chocolate;\n",
       "  /* Definition of color scheme for fitted estimators */\n",
       "  --sklearn-color-fitted-level-0: #f0f8ff;\n",
       "  --sklearn-color-fitted-level-1: #d4ebff;\n",
       "  --sklearn-color-fitted-level-2: #b3dbfd;\n",
       "  --sklearn-color-fitted-level-3: cornflowerblue;\n",
       "\n",
       "  /* Specific color for light theme */\n",
       "  --sklearn-color-text-on-default-background: var(--sg-text-color, var(--theme-code-foreground, var(--jp-content-font-color1, black)));\n",
       "  --sklearn-color-background: var(--sg-background-color, var(--theme-background, var(--jp-layout-color0, white)));\n",
       "  --sklearn-color-border-box: var(--sg-text-color, var(--theme-code-foreground, var(--jp-content-font-color1, black)));\n",
       "  --sklearn-color-icon: #696969;\n",
       "\n",
       "  @media (prefers-color-scheme: dark) {\n",
       "    /* Redefinition of color scheme for dark theme */\n",
       "    --sklearn-color-text-on-default-background: var(--sg-text-color, var(--theme-code-foreground, var(--jp-content-font-color1, white)));\n",
       "    --sklearn-color-background: var(--sg-background-color, var(--theme-background, var(--jp-layout-color0, #111)));\n",
       "    --sklearn-color-border-box: var(--sg-text-color, var(--theme-code-foreground, var(--jp-content-font-color1, white)));\n",
       "    --sklearn-color-icon: #878787;\n",
       "  }\n",
       "}\n",
       "\n",
       "#sk-container-id-1 {\n",
       "  color: var(--sklearn-color-text);\n",
       "}\n",
       "\n",
       "#sk-container-id-1 pre {\n",
       "  padding: 0;\n",
       "}\n",
       "\n",
       "#sk-container-id-1 input.sk-hidden--visually {\n",
       "  border: 0;\n",
       "  clip: rect(1px 1px 1px 1px);\n",
       "  clip: rect(1px, 1px, 1px, 1px);\n",
       "  height: 1px;\n",
       "  margin: -1px;\n",
       "  overflow: hidden;\n",
       "  padding: 0;\n",
       "  position: absolute;\n",
       "  width: 1px;\n",
       "}\n",
       "\n",
       "#sk-container-id-1 div.sk-dashed-wrapped {\n",
       "  border: 1px dashed var(--sklearn-color-line);\n",
       "  margin: 0 0.4em 0.5em 0.4em;\n",
       "  box-sizing: border-box;\n",
       "  padding-bottom: 0.4em;\n",
       "  background-color: var(--sklearn-color-background);\n",
       "}\n",
       "\n",
       "#sk-container-id-1 div.sk-container {\n",
       "  /* jupyter's `normalize.less` sets `[hidden] { display: none; }`\n",
       "     but bootstrap.min.css set `[hidden] { display: none !important; }`\n",
       "     so we also need the `!important` here to be able to override the\n",
       "     default hidden behavior on the sphinx rendered scikit-learn.org.\n",
       "     See: https://github.com/scikit-learn/scikit-learn/issues/21755 */\n",
       "  display: inline-block !important;\n",
       "  position: relative;\n",
       "}\n",
       "\n",
       "#sk-container-id-1 div.sk-text-repr-fallback {\n",
       "  display: none;\n",
       "}\n",
       "\n",
       "div.sk-parallel-item,\n",
       "div.sk-serial,\n",
       "div.sk-item {\n",
       "  /* draw centered vertical line to link estimators */\n",
       "  background-image: linear-gradient(var(--sklearn-color-text-on-default-background), var(--sklearn-color-text-on-default-background));\n",
       "  background-size: 2px 100%;\n",
       "  background-repeat: no-repeat;\n",
       "  background-position: center center;\n",
       "}\n",
       "\n",
       "/* Parallel-specific style estimator block */\n",
       "\n",
       "#sk-container-id-1 div.sk-parallel-item::after {\n",
       "  content: \"\";\n",
       "  width: 100%;\n",
       "  border-bottom: 2px solid var(--sklearn-color-text-on-default-background);\n",
       "  flex-grow: 1;\n",
       "}\n",
       "\n",
       "#sk-container-id-1 div.sk-parallel {\n",
       "  display: flex;\n",
       "  align-items: stretch;\n",
       "  justify-content: center;\n",
       "  background-color: var(--sklearn-color-background);\n",
       "  position: relative;\n",
       "}\n",
       "\n",
       "#sk-container-id-1 div.sk-parallel-item {\n",
       "  display: flex;\n",
       "  flex-direction: column;\n",
       "}\n",
       "\n",
       "#sk-container-id-1 div.sk-parallel-item:first-child::after {\n",
       "  align-self: flex-end;\n",
       "  width: 50%;\n",
       "}\n",
       "\n",
       "#sk-container-id-1 div.sk-parallel-item:last-child::after {\n",
       "  align-self: flex-start;\n",
       "  width: 50%;\n",
       "}\n",
       "\n",
       "#sk-container-id-1 div.sk-parallel-item:only-child::after {\n",
       "  width: 0;\n",
       "}\n",
       "\n",
       "/* Serial-specific style estimator block */\n",
       "\n",
       "#sk-container-id-1 div.sk-serial {\n",
       "  display: flex;\n",
       "  flex-direction: column;\n",
       "  align-items: center;\n",
       "  background-color: var(--sklearn-color-background);\n",
       "  padding-right: 1em;\n",
       "  padding-left: 1em;\n",
       "}\n",
       "\n",
       "\n",
       "/* Toggleable style: style used for estimator/Pipeline/ColumnTransformer box that is\n",
       "clickable and can be expanded/collapsed.\n",
       "- Pipeline and ColumnTransformer use this feature and define the default style\n",
       "- Estimators will overwrite some part of the style using the `sk-estimator` class\n",
       "*/\n",
       "\n",
       "/* Pipeline and ColumnTransformer style (default) */\n",
       "\n",
       "#sk-container-id-1 div.sk-toggleable {\n",
       "  /* Default theme specific background. It is overwritten whether we have a\n",
       "  specific estimator or a Pipeline/ColumnTransformer */\n",
       "  background-color: var(--sklearn-color-background);\n",
       "}\n",
       "\n",
       "/* Toggleable label */\n",
       "#sk-container-id-1 label.sk-toggleable__label {\n",
       "  cursor: pointer;\n",
       "  display: block;\n",
       "  width: 100%;\n",
       "  margin-bottom: 0;\n",
       "  padding: 0.5em;\n",
       "  box-sizing: border-box;\n",
       "  text-align: center;\n",
       "}\n",
       "\n",
       "#sk-container-id-1 label.sk-toggleable__label-arrow:before {\n",
       "  /* Arrow on the left of the label */\n",
       "  content: \"▸\";\n",
       "  float: left;\n",
       "  margin-right: 0.25em;\n",
       "  color: var(--sklearn-color-icon);\n",
       "}\n",
       "\n",
       "#sk-container-id-1 label.sk-toggleable__label-arrow:hover:before {\n",
       "  color: var(--sklearn-color-text);\n",
       "}\n",
       "\n",
       "/* Toggleable content - dropdown */\n",
       "\n",
       "#sk-container-id-1 div.sk-toggleable__content {\n",
       "  max-height: 0;\n",
       "  max-width: 0;\n",
       "  overflow: hidden;\n",
       "  text-align: left;\n",
       "  /* unfitted */\n",
       "  background-color: var(--sklearn-color-unfitted-level-0);\n",
       "}\n",
       "\n",
       "#sk-container-id-1 div.sk-toggleable__content.fitted {\n",
       "  /* fitted */\n",
       "  background-color: var(--sklearn-color-fitted-level-0);\n",
       "}\n",
       "\n",
       "#sk-container-id-1 div.sk-toggleable__content pre {\n",
       "  margin: 0.2em;\n",
       "  border-radius: 0.25em;\n",
       "  color: var(--sklearn-color-text);\n",
       "  /* unfitted */\n",
       "  background-color: var(--sklearn-color-unfitted-level-0);\n",
       "}\n",
       "\n",
       "#sk-container-id-1 div.sk-toggleable__content.fitted pre {\n",
       "  /* unfitted */\n",
       "  background-color: var(--sklearn-color-fitted-level-0);\n",
       "}\n",
       "\n",
       "#sk-container-id-1 input.sk-toggleable__control:checked~div.sk-toggleable__content {\n",
       "  /* Expand drop-down */\n",
       "  max-height: 200px;\n",
       "  max-width: 100%;\n",
       "  overflow: auto;\n",
       "}\n",
       "\n",
       "#sk-container-id-1 input.sk-toggleable__control:checked~label.sk-toggleable__label-arrow:before {\n",
       "  content: \"▾\";\n",
       "}\n",
       "\n",
       "/* Pipeline/ColumnTransformer-specific style */\n",
       "\n",
       "#sk-container-id-1 div.sk-label input.sk-toggleable__control:checked~label.sk-toggleable__label {\n",
       "  color: var(--sklearn-color-text);\n",
       "  background-color: var(--sklearn-color-unfitted-level-2);\n",
       "}\n",
       "\n",
       "#sk-container-id-1 div.sk-label.fitted input.sk-toggleable__control:checked~label.sk-toggleable__label {\n",
       "  background-color: var(--sklearn-color-fitted-level-2);\n",
       "}\n",
       "\n",
       "/* Estimator-specific style */\n",
       "\n",
       "/* Colorize estimator box */\n",
       "#sk-container-id-1 div.sk-estimator input.sk-toggleable__control:checked~label.sk-toggleable__label {\n",
       "  /* unfitted */\n",
       "  background-color: var(--sklearn-color-unfitted-level-2);\n",
       "}\n",
       "\n",
       "#sk-container-id-1 div.sk-estimator.fitted input.sk-toggleable__control:checked~label.sk-toggleable__label {\n",
       "  /* fitted */\n",
       "  background-color: var(--sklearn-color-fitted-level-2);\n",
       "}\n",
       "\n",
       "#sk-container-id-1 div.sk-label label.sk-toggleable__label,\n",
       "#sk-container-id-1 div.sk-label label {\n",
       "  /* The background is the default theme color */\n",
       "  color: var(--sklearn-color-text-on-default-background);\n",
       "}\n",
       "\n",
       "/* On hover, darken the color of the background */\n",
       "#sk-container-id-1 div.sk-label:hover label.sk-toggleable__label {\n",
       "  color: var(--sklearn-color-text);\n",
       "  background-color: var(--sklearn-color-unfitted-level-2);\n",
       "}\n",
       "\n",
       "/* Label box, darken color on hover, fitted */\n",
       "#sk-container-id-1 div.sk-label.fitted:hover label.sk-toggleable__label.fitted {\n",
       "  color: var(--sklearn-color-text);\n",
       "  background-color: var(--sklearn-color-fitted-level-2);\n",
       "}\n",
       "\n",
       "/* Estimator label */\n",
       "\n",
       "#sk-container-id-1 div.sk-label label {\n",
       "  font-family: monospace;\n",
       "  font-weight: bold;\n",
       "  display: inline-block;\n",
       "  line-height: 1.2em;\n",
       "}\n",
       "\n",
       "#sk-container-id-1 div.sk-label-container {\n",
       "  text-align: center;\n",
       "}\n",
       "\n",
       "/* Estimator-specific */\n",
       "#sk-container-id-1 div.sk-estimator {\n",
       "  font-family: monospace;\n",
       "  border: 1px dotted var(--sklearn-color-border-box);\n",
       "  border-radius: 0.25em;\n",
       "  box-sizing: border-box;\n",
       "  margin-bottom: 0.5em;\n",
       "  /* unfitted */\n",
       "  background-color: var(--sklearn-color-unfitted-level-0);\n",
       "}\n",
       "\n",
       "#sk-container-id-1 div.sk-estimator.fitted {\n",
       "  /* fitted */\n",
       "  background-color: var(--sklearn-color-fitted-level-0);\n",
       "}\n",
       "\n",
       "/* on hover */\n",
       "#sk-container-id-1 div.sk-estimator:hover {\n",
       "  /* unfitted */\n",
       "  background-color: var(--sklearn-color-unfitted-level-2);\n",
       "}\n",
       "\n",
       "#sk-container-id-1 div.sk-estimator.fitted:hover {\n",
       "  /* fitted */\n",
       "  background-color: var(--sklearn-color-fitted-level-2);\n",
       "}\n",
       "\n",
       "/* Specification for estimator info (e.g. \"i\" and \"?\") */\n",
       "\n",
       "/* Common style for \"i\" and \"?\" */\n",
       "\n",
       ".sk-estimator-doc-link,\n",
       "a:link.sk-estimator-doc-link,\n",
       "a:visited.sk-estimator-doc-link {\n",
       "  float: right;\n",
       "  font-size: smaller;\n",
       "  line-height: 1em;\n",
       "  font-family: monospace;\n",
       "  background-color: var(--sklearn-color-background);\n",
       "  border-radius: 1em;\n",
       "  height: 1em;\n",
       "  width: 1em;\n",
       "  text-decoration: none !important;\n",
       "  margin-left: 1ex;\n",
       "  /* unfitted */\n",
       "  border: var(--sklearn-color-unfitted-level-1) 1pt solid;\n",
       "  color: var(--sklearn-color-unfitted-level-1);\n",
       "}\n",
       "\n",
       ".sk-estimator-doc-link.fitted,\n",
       "a:link.sk-estimator-doc-link.fitted,\n",
       "a:visited.sk-estimator-doc-link.fitted {\n",
       "  /* fitted */\n",
       "  border: var(--sklearn-color-fitted-level-1) 1pt solid;\n",
       "  color: var(--sklearn-color-fitted-level-1);\n",
       "}\n",
       "\n",
       "/* On hover */\n",
       "div.sk-estimator:hover .sk-estimator-doc-link:hover,\n",
       ".sk-estimator-doc-link:hover,\n",
       "div.sk-label-container:hover .sk-estimator-doc-link:hover,\n",
       ".sk-estimator-doc-link:hover {\n",
       "  /* unfitted */\n",
       "  background-color: var(--sklearn-color-unfitted-level-3);\n",
       "  color: var(--sklearn-color-background);\n",
       "  text-decoration: none;\n",
       "}\n",
       "\n",
       "div.sk-estimator.fitted:hover .sk-estimator-doc-link.fitted:hover,\n",
       ".sk-estimator-doc-link.fitted:hover,\n",
       "div.sk-label-container:hover .sk-estimator-doc-link.fitted:hover,\n",
       ".sk-estimator-doc-link.fitted:hover {\n",
       "  /* fitted */\n",
       "  background-color: var(--sklearn-color-fitted-level-3);\n",
       "  color: var(--sklearn-color-background);\n",
       "  text-decoration: none;\n",
       "}\n",
       "\n",
       "/* Span, style for the box shown on hovering the info icon */\n",
       ".sk-estimator-doc-link span {\n",
       "  display: none;\n",
       "  z-index: 9999;\n",
       "  position: relative;\n",
       "  font-weight: normal;\n",
       "  right: .2ex;\n",
       "  padding: .5ex;\n",
       "  margin: .5ex;\n",
       "  width: min-content;\n",
       "  min-width: 20ex;\n",
       "  max-width: 50ex;\n",
       "  color: var(--sklearn-color-text);\n",
       "  box-shadow: 2pt 2pt 4pt #999;\n",
       "  /* unfitted */\n",
       "  background: var(--sklearn-color-unfitted-level-0);\n",
       "  border: .5pt solid var(--sklearn-color-unfitted-level-3);\n",
       "}\n",
       "\n",
       ".sk-estimator-doc-link.fitted span {\n",
       "  /* fitted */\n",
       "  background: var(--sklearn-color-fitted-level-0);\n",
       "  border: var(--sklearn-color-fitted-level-3);\n",
       "}\n",
       "\n",
       ".sk-estimator-doc-link:hover span {\n",
       "  display: block;\n",
       "}\n",
       "\n",
       "/* \"?\"-specific style due to the `<a>` HTML tag */\n",
       "\n",
       "#sk-container-id-1 a.estimator_doc_link {\n",
       "  float: right;\n",
       "  font-size: 1rem;\n",
       "  line-height: 1em;\n",
       "  font-family: monospace;\n",
       "  background-color: var(--sklearn-color-background);\n",
       "  border-radius: 1rem;\n",
       "  height: 1rem;\n",
       "  width: 1rem;\n",
       "  text-decoration: none;\n",
       "  /* unfitted */\n",
       "  color: var(--sklearn-color-unfitted-level-1);\n",
       "  border: var(--sklearn-color-unfitted-level-1) 1pt solid;\n",
       "}\n",
       "\n",
       "#sk-container-id-1 a.estimator_doc_link.fitted {\n",
       "  /* fitted */\n",
       "  border: var(--sklearn-color-fitted-level-1) 1pt solid;\n",
       "  color: var(--sklearn-color-fitted-level-1);\n",
       "}\n",
       "\n",
       "/* On hover */\n",
       "#sk-container-id-1 a.estimator_doc_link:hover {\n",
       "  /* unfitted */\n",
       "  background-color: var(--sklearn-color-unfitted-level-3);\n",
       "  color: var(--sklearn-color-background);\n",
       "  text-decoration: none;\n",
       "}\n",
       "\n",
       "#sk-container-id-1 a.estimator_doc_link.fitted:hover {\n",
       "  /* fitted */\n",
       "  background-color: var(--sklearn-color-fitted-level-3);\n",
       "}\n",
       "</style><div id=\"sk-container-id-1\" class=\"sk-top-container\"><div class=\"sk-text-repr-fallback\"><pre>AdaBoostClassifier(algorithm=&#x27;SAMME&#x27;,\n",
       "                   estimator=DecisionTreeClassifier(max_depth=3,\n",
       "                                                    random_state=11),\n",
       "                   learning_rate=0.5, n_estimators=500, random_state=43)</pre><b>In a Jupyter environment, please rerun this cell to show the HTML representation or trust the notebook. <br />On GitHub, the HTML representation is unable to render, please try loading this page with nbviewer.org.</b></div><div class=\"sk-container\" hidden><div class=\"sk-item sk-dashed-wrapped\"><div class=\"sk-label-container\"><div class=\"sk-label fitted sk-toggleable\"><input class=\"sk-toggleable__control sk-hidden--visually\" id=\"sk-estimator-id-1\" type=\"checkbox\" ><label for=\"sk-estimator-id-1\" class=\"sk-toggleable__label fitted sk-toggleable__label-arrow fitted\">&nbsp;&nbsp;AdaBoostClassifier<a class=\"sk-estimator-doc-link fitted\" rel=\"noreferrer\" target=\"_blank\" href=\"https://scikit-learn.org/1.4/modules/generated/sklearn.ensemble.AdaBoostClassifier.html\">?<span>Documentation for AdaBoostClassifier</span></a><span class=\"sk-estimator-doc-link fitted\">i<span>Fitted</span></span></label><div class=\"sk-toggleable__content fitted\"><pre>AdaBoostClassifier(algorithm=&#x27;SAMME&#x27;,\n",
       "                   estimator=DecisionTreeClassifier(max_depth=3,\n",
       "                                                    random_state=11),\n",
       "                   learning_rate=0.5, n_estimators=500, random_state=43)</pre></div> </div></div><div class=\"sk-parallel\"><div class=\"sk-parallel-item\"><div class=\"sk-item\"><div class=\"sk-label-container\"><div class=\"sk-label fitted sk-toggleable\"><input class=\"sk-toggleable__control sk-hidden--visually\" id=\"sk-estimator-id-2\" type=\"checkbox\" ><label for=\"sk-estimator-id-2\" class=\"sk-toggleable__label fitted sk-toggleable__label-arrow fitted\">estimator: DecisionTreeClassifier</label><div class=\"sk-toggleable__content fitted\"><pre>DecisionTreeClassifier(max_depth=3, random_state=11)</pre></div> </div></div><div class=\"sk-serial\"><div class=\"sk-item\"><div class=\"sk-estimator fitted sk-toggleable\"><input class=\"sk-toggleable__control sk-hidden--visually\" id=\"sk-estimator-id-3\" type=\"checkbox\" ><label for=\"sk-estimator-id-3\" class=\"sk-toggleable__label fitted sk-toggleable__label-arrow fitted\">&nbsp;DecisionTreeClassifier<a class=\"sk-estimator-doc-link fitted\" rel=\"noreferrer\" target=\"_blank\" href=\"https://scikit-learn.org/1.4/modules/generated/sklearn.tree.DecisionTreeClassifier.html\">?<span>Documentation for DecisionTreeClassifier</span></a></label><div class=\"sk-toggleable__content fitted\"><pre>DecisionTreeClassifier(max_depth=3, random_state=11)</pre></div> </div></div></div></div></div></div></div></div></div>"
      ],
      "text/plain": [
       "AdaBoostClassifier(algorithm='SAMME',\n",
       "                   estimator=DecisionTreeClassifier(max_depth=3,\n",
       "                                                    random_state=11),\n",
       "                   learning_rate=0.5, n_estimators=500, random_state=43)"
      ]
     },
     "execution_count": 9,
     "metadata": {},
     "output_type": "execute_result"
    }
   ],
   "source": [
    "adaboost_classifier.fit(X_train, np.ravel(y_train))"
   ]
  },
  {
   "cell_type": "code",
   "execution_count": 10,
   "metadata": {
    "execution": {
     "iopub.execute_input": "2024-04-08T04:38:19.003949Z",
     "iopub.status.busy": "2024-04-08T04:38:19.003408Z",
     "iopub.status.idle": "2024-04-08T04:38:27.486961Z",
     "shell.execute_reply": "2024-04-08T04:38:27.485074Z"
    }
   },
   "outputs": [
    {
     "data": {
      "image/png": "[encoded data removed]",
      "text/plain": [
       "<Figure size 1000x1000 with 2 Axes>"
      ]
     },
     "metadata": {},
     "output_type": "display_data"
    }
   ],
   "source": [
    "from sklearn.metrics import ConfusionMatrixDisplay, confusion_matrix\n",
    "\n",
    "y_pred = adaboost_classifier.predict(X_test)\n",
    "cm = confusion_matrix(y_test, y_pred)\n",
    "\n",
    "cm_display = ConfusionMatrixDisplay(cm).plot()\n",
    "plt.title('Confusion Matrix of Model By AdaBoost')\n",
    "# Save the figure as '.eps' file.\n",
    "plt.savefig('/home/idies/workspace/Storage/s.hossain18/Permanent/Figures/confusion_matrix_adaboost.pdf', format='pdf', dpi=300)\n",
    "plt.savefig('/home/idies/workspace/Storage/s.hossain18/Permanent/Figures/confusion_matrix_adaboost.eps', format='eps', dpi=300)\n",
    "plt.savefig('/home/idies/workspace/Storage/s.hossain18/Permanent/Figures/confusion_matrix_adaboost.jpg', dpi=300)  \n",
    "plt.show()"
   ]
  },
  {
   "cell_type": "code",
   "execution_count": 11,
   "metadata": {
    "execution": {
     "iopub.execute_input": "2024-04-08T04:38:27.493812Z",
     "iopub.status.busy": "2024-04-08T04:38:27.493297Z",
     "iopub.status.idle": "2024-04-08T04:38:27.502839Z",
     "shell.execute_reply": "2024-04-08T04:38:27.501154Z"
    }
   },
   "outputs": [],
   "source": [
    "from itertools import cycle\n",
    "from sklearn.metrics import roc_curve, auc\n",
    "from numpy import interp\n",
    "from sklearn.metrics import roc_auc_score"
   ]
  },
  {
   "cell_type": "code",
   "execution_count": 12,
   "metadata": {
    "execution": {
     "iopub.execute_input": "2024-04-08T04:38:27.509000Z",
     "iopub.status.busy": "2024-04-08T04:38:27.508467Z",
     "iopub.status.idle": "2024-04-08T04:48:41.862291Z",
     "shell.execute_reply": "2024-04-08T04:48:41.858524Z"
    }
   },
   "outputs": [],
   "source": [
    "y_fit = adaboost_classifier.fit(X_train, np.ravel(y_train))"
   ]
  },
  {
   "cell_type": "code",
   "execution_count": 13,
   "metadata": {
    "execution": {
     "iopub.execute_input": "2024-04-08T04:48:41.880019Z",
     "iopub.status.busy": "2024-04-08T04:48:41.879486Z",
     "iopub.status.idle": "2024-04-08T04:48:45.179135Z",
     "shell.execute_reply": "2024-04-08T04:48:45.175992Z"
    }
   },
   "outputs": [],
   "source": [
    "#y_score = y_fit.predict_proba(X_test)[:,1]\n",
    "y_score = y_fit.predict_proba(X_test)\n",
    "#y_score = y_fit.predict(X_test)"
   ]
  },
  {
   "cell_type": "code",
   "execution_count": 14,
   "metadata": {
    "execution": {
     "iopub.execute_input": "2024-04-08T04:48:45.189147Z",
     "iopub.status.busy": "2024-04-08T04:48:45.188613Z",
     "iopub.status.idle": "2024-04-08T04:48:45.202896Z",
     "shell.execute_reply": "2024-04-08T04:48:45.200959Z"
    }
   },
   "outputs": [],
   "source": [
    "# Set the default text font size\n",
    "plt.rc('font', size=20)# Set the axes title font size\n",
    "plt.rc('axes', titlesize=20)# Set the axes labels font size\n",
    "plt.rc('axes', labelsize=20)# Set the font size for x tick labels\n",
    "plt.rc('xtick', labelsize=20)# Set the font size for y tick labels\n",
    "plt.rc('ytick', labelsize=20)# Set the legend font size\n",
    "plt.rc('legend', fontsize=17)# Set the font size of the figure title\n",
    "plt.rc('figure', titlesize=20)"
   ]
  },
  {
   "cell_type": "code",
   "execution_count": 15,
   "metadata": {
    "execution": {
     "iopub.execute_input": "2024-04-08T04:48:45.209501Z",
     "iopub.status.busy": "2024-04-08T04:48:45.209025Z",
     "iopub.status.idle": "2024-04-08T04:48:50.802792Z",
     "shell.execute_reply": "2024-04-08T04:48:50.800783Z"
    }
   },
   "outputs": [
    {
     "name": "stderr",
     "output_type": "stream",
     "text": [
      "No artists with labels found to put in legend.  Note that artists whose label start with an underscore are ignored when legend() is called with no argument.\n",
      "The PostScript backend does not support transparency; partially transparent artists will be rendered opaque.\n"
     ]
    },
    {
     "data": {
      "image/png": "[encoded data removed]",
      "text/plain": [
       "<Figure size 1000x1000 with 1 Axes>"
      ]
     },
     "metadata": {},
     "output_type": "display_data"
    }
   ],
   "source": [
    "from sklearn.metrics import RocCurveDisplay, roc_curve\n",
    "\n",
    "y_score = adaboost_classifier.predict_proba(X_test)[:, 1]\n",
    "\n",
    "fpr, tpr, _ = roc_curve(y_test, y_score, pos_label=adaboost_classifier.classes_[1])\n",
    "roc_display = RocCurveDisplay(fpr=fpr, tpr=tpr).plot()\n",
    "#plt.legend(loc=\"lower right\")\n",
    "plt.title('ROC Curve of Model By AdaBoost')\n",
    "plt.savefig('/home/idies/workspace/Storage/s.hossain18/Permanent/Figures/roc_curve_adaboost.pdf', format='pdf', dpi=300)\n",
    "plt.savefig('/home/idies/workspace/Storage/s.hossain18/Permanent/Figures/roc_curve_adaboost.eps', format='eps', dpi=300)\n",
    "plt.savefig('/home/idies/workspace/Storage/s.hossain18/Permanent/Figures/roc_curve_adaboost.jpg', dpi=300)\n",
    "plt.show()"
   ]
  },
  {
   "cell_type": "code",
   "execution_count": 16,
   "metadata": {
    "execution": {
     "iopub.execute_input": "2024-04-08T04:48:50.810510Z",
     "iopub.status.busy": "2024-04-08T04:48:50.810003Z",
     "iopub.status.idle": "2024-04-08T04:48:52.986939Z",
     "shell.execute_reply": "2024-04-08T04:48:52.984876Z"
    }
   },
   "outputs": [
    {
     "data": {
      "image/png": "[encoded data removed]",
      "text/plain": [
       "<Figure size 1000x1000 with 1 Axes>"
      ]
     },
     "metadata": {},
     "output_type": "display_data"
    }
   ],
   "source": [
    "from sklearn.metrics import PrecisionRecallDisplay, precision_recall_curve\n",
    "\n",
    "#prec, recall, _ = precision_recall_curve(y_test, y_score, pos_label=rf_classifier.classes_[1])\n",
    "prec, recall, _ = precision_recall_curve(y_test, y_score, pos_label=None)\n",
    "pr_display = PrecisionRecallDisplay(precision=prec, recall=recall).plot()\n",
    "plt.title('Precision Recall Curve of Model By AdaBoost')\n",
    "plt.savefig('/home/idies/workspace/Storage/s.hossain18/Permanent/Figures/precall_curve_adaboost.pdf', format='pdf', dpi=300)\n",
    "plt.savefig('/home/idies/workspace/Storage/s.hossain18/Permanent/Figures/precall_curve_adaboost.eps', format='eps', dpi=300)\n",
    "plt.savefig('/home/idies/workspace/Storage/s.hossain18/Permanent/Figures/precall_curve_adaboost.jpg', dpi=300)\n",
    "plt.show()"
   ]
  },
  {
   "cell_type": "code",
   "execution_count": 17,
   "metadata": {
    "execution": {
     "iopub.execute_input": "2024-04-08T04:48:52.993944Z",
     "iopub.status.busy": "2024-04-08T04:48:52.993393Z",
     "iopub.status.idle": "2024-04-08T04:48:53.050438Z",
     "shell.execute_reply": "2024-04-08T04:48:53.048115Z"
    }
   },
   "outputs": [],
   "source": [
    "X = np.vstack((X_train,X_test))\n",
    "y = np.vstack((y_train,y_test))"
   ]
  },
  {
   "cell_type": "code",
   "execution_count": 18,
   "metadata": {
    "execution": {
     "iopub.execute_input": "2024-04-08T04:48:53.058638Z",
     "iopub.status.busy": "2024-04-08T04:48:53.058139Z",
     "iopub.status.idle": "2024-04-08T04:48:53.068024Z",
     "shell.execute_reply": "2024-04-08T04:48:53.065827Z"
    }
   },
   "outputs": [],
   "source": [
    "from sklearn.model_selection import cross_val_score"
   ]
  },
  {
   "cell_type": "code",
   "execution_count": 19,
   "metadata": {
    "execution": {
     "iopub.execute_input": "2024-04-08T04:48:53.074369Z",
     "iopub.status.busy": "2024-04-08T04:48:53.073883Z",
     "iopub.status.idle": "2024-04-08T05:54:20.242403Z",
     "shell.execute_reply": "2024-04-08T05:54:20.238049Z"
    }
   },
   "outputs": [],
   "source": [
    "scores_adaboost_accuracy = cross_val_score(adaboost_classifier,X,np.ravel(y),cv=cv,scoring='accuracy',n_jobs=-1)"
   ]
  },
  {
   "cell_type": "code",
   "execution_count": 20,
   "metadata": {
    "execution": {
     "iopub.execute_input": "2024-04-08T05:54:20.258959Z",
     "iopub.status.busy": "2024-04-08T05:54:20.258373Z",
     "iopub.status.idle": "2024-04-08T05:54:20.275747Z",
     "shell.execute_reply": "2024-04-08T05:54:20.273578Z"
    }
   },
   "outputs": [
    {
     "name": "stdout",
     "output_type": "stream",
     "text": [
      "AdaBoost accuracy 0.8168833087149188\n"
     ]
    }
   ],
   "source": [
    "print('AdaBoost accuracy',scores_adaboost_accuracy.mean())"
   ]
  },
  {
   "cell_type": "code",
   "execution_count": 21,
   "metadata": {
    "execution": {
     "iopub.execute_input": "2024-04-08T05:54:20.281839Z",
     "iopub.status.busy": "2024-04-08T05:54:20.281349Z",
     "iopub.status.idle": "2024-04-08T05:54:20.290986Z",
     "shell.execute_reply": "2024-04-08T05:54:20.288798Z"
    }
   },
   "outputs": [],
   "source": [
    "from sklearn.metrics import precision_score, make_scorer"
   ]
  },
  {
   "cell_type": "code",
   "execution_count": 22,
   "metadata": {
    "execution": {
     "iopub.execute_input": "2024-04-08T05:54:20.297107Z",
     "iopub.status.busy": "2024-04-08T05:54:20.296595Z",
     "iopub.status.idle": "2024-04-08T05:54:20.319514Z",
     "shell.execute_reply": "2024-04-08T05:54:20.317519Z"
    }
   },
   "outputs": [],
   "source": [
    "precision = make_scorer(precision_score,average='weighted')"
   ]
  },
  {
   "cell_type": "code",
   "execution_count": 23,
   "metadata": {
    "execution": {
     "iopub.execute_input": "2024-04-08T05:54:20.325103Z",
     "iopub.status.busy": "2024-04-08T05:54:20.324588Z",
     "iopub.status.idle": "2024-04-08T06:58:59.487607Z",
     "shell.execute_reply": "2024-04-08T06:58:59.480349Z"
    }
   },
   "outputs": [],
   "source": [
    "scores_adaboost_precision = cross_val_score(adaboost_classifier,X,np.ravel(y),cv=cv,scoring=precision,n_jobs=-1)"
   ]
  },
  {
   "cell_type": "code",
   "execution_count": 24,
   "metadata": {
    "execution": {
     "iopub.execute_input": "2024-04-08T06:58:59.510519Z",
     "iopub.status.busy": "2024-04-08T06:58:59.509951Z",
     "iopub.status.idle": "2024-04-08T06:58:59.526359Z",
     "shell.execute_reply": "2024-04-08T06:58:59.524467Z"
    }
   },
   "outputs": [
    {
     "name": "stdout",
     "output_type": "stream",
     "text": [
      "AdaBoost precision 0.8173725387967362\n"
     ]
    }
   ],
   "source": [
    "print('AdaBoost precision',scores_adaboost_precision.mean())"
   ]
  },
  {
   "cell_type": "code",
   "execution_count": 25,
   "metadata": {
    "execution": {
     "iopub.execute_input": "2024-04-08T06:58:59.532712Z",
     "iopub.status.busy": "2024-04-08T06:58:59.532215Z",
     "iopub.status.idle": "2024-04-08T06:58:59.541323Z",
     "shell.execute_reply": "2024-04-08T06:58:59.539448Z"
    }
   },
   "outputs": [],
   "source": [
    "from sklearn.metrics import recall_score"
   ]
  },
  {
   "cell_type": "code",
   "execution_count": 26,
   "metadata": {
    "execution": {
     "iopub.execute_input": "2024-04-08T06:58:59.546845Z",
     "iopub.status.busy": "2024-04-08T06:58:59.546357Z",
     "iopub.status.idle": "2024-04-08T06:58:59.556835Z",
     "shell.execute_reply": "2024-04-08T06:58:59.554914Z"
    }
   },
   "outputs": [],
   "source": [
    "recall = make_scorer(recall_score,average='weighted')"
   ]
  },
  {
   "cell_type": "code",
   "execution_count": 27,
   "metadata": {
    "execution": {
     "iopub.execute_input": "2024-04-08T06:58:59.562676Z",
     "iopub.status.busy": "2024-04-08T06:58:59.562185Z",
     "iopub.status.idle": "2024-04-08T08:03:23.305056Z",
     "shell.execute_reply": "2024-04-08T08:03:23.301598Z"
    }
   },
   "outputs": [],
   "source": [
    "scores_adaboost_recall = cross_val_score(adaboost_classifier,X,np.ravel(y),cv=cv,scoring=recall,n_jobs=-1)"
   ]
  },
  {
   "cell_type": "code",
   "execution_count": 28,
   "metadata": {
    "execution": {
     "iopub.execute_input": "2024-04-08T08:03:23.318958Z",
     "iopub.status.busy": "2024-04-08T08:03:23.318347Z",
     "iopub.status.idle": "2024-04-08T08:03:23.334177Z",
     "shell.execute_reply": "2024-04-08T08:03:23.332227Z"
    }
   },
   "outputs": [
    {
     "name": "stdout",
     "output_type": "stream",
     "text": [
      "AdaBoost recall 0.8168833087149188\n"
     ]
    }
   ],
   "source": [
    "print('AdaBoost recall',scores_adaboost_recall.mean())"
   ]
  },
  {
   "cell_type": "code",
   "execution_count": 29,
   "metadata": {
    "execution": {
     "iopub.execute_input": "2024-04-08T08:03:23.340282Z",
     "iopub.status.busy": "2024-04-08T08:03:23.339739Z",
     "iopub.status.idle": "2024-04-08T09:08:25.207583Z",
     "shell.execute_reply": "2024-04-08T09:08:25.204016Z"
    }
   },
   "outputs": [],
   "source": [
    "scores_adaboost_f1 = cross_val_score(adaboost_classifier,X,np.ravel(y),cv=cv,scoring='f1_weighted',n_jobs=-1)"
   ]
  },
  {
   "cell_type": "code",
   "execution_count": 30,
   "metadata": {
    "execution": {
     "iopub.execute_input": "2024-04-08T09:08:25.223953Z",
     "iopub.status.busy": "2024-04-08T09:08:25.223368Z",
     "iopub.status.idle": "2024-04-08T09:08:25.237668Z",
     "shell.execute_reply": "2024-04-08T09:08:25.235684Z"
    }
   },
   "outputs": [
    {
     "name": "stdout",
     "output_type": "stream",
     "text": [
      "AdaBoost f1 0.8039604138283479\n"
     ]
    }
   ],
   "source": [
    "print('AdaBoost f1',scores_adaboost_f1.mean())"
   ]
  },
  {
   "cell_type": "code",
   "execution_count": 31,
   "metadata": {
    "execution": {
     "iopub.execute_input": "2024-04-08T09:08:25.244369Z",
     "iopub.status.busy": "2024-04-08T09:08:25.243837Z",
     "iopub.status.idle": "2024-04-08T10:13:05.076349Z",
     "shell.execute_reply": "2024-04-08T10:13:05.072637Z"
    }
   },
   "outputs": [],
   "source": [
    "scores_adaboost_auc = cross_val_score(adaboost_classifier,X,np.ravel(y),cv=cv,scoring='roc_auc',n_jobs=-1)"
   ]
  },
  {
   "cell_type": "code",
   "execution_count": 32,
   "metadata": {
    "execution": {
     "iopub.execute_input": "2024-04-08T10:13:05.090501Z",
     "iopub.status.busy": "2024-04-08T10:13:05.089934Z",
     "iopub.status.idle": "2024-04-08T10:13:05.105416Z",
     "shell.execute_reply": "2024-04-08T10:13:05.103596Z"
    }
   },
   "outputs": [
    {
     "name": "stdout",
     "output_type": "stream",
     "text": [
      "AdaBoost auc 0.8576860975405975\n"
     ]
    }
   ],
   "source": [
    "print('AdaBoost auc',scores_adaboost_auc.mean())"
   ]
  }
 ],
 "metadata": {
  "kernelspec": {
   "display_name": "Python 3.9 (py39)",
   "language": "python",
   "name": "py39"
  },
  "language_info": {
   "codemirror_mode": {
    "name": "ipython",
    "version": 3
   },
   "file_extension": ".py",
   "mimetype": "text/x-python",
   "name": "python",
   "nbconvert_exporter": "python",
   "pygments_lexer": "ipython3",
   "version": "3.9.13"
  }
 },
 "nbformat": 4,
 "nbformat_minor": 4
}

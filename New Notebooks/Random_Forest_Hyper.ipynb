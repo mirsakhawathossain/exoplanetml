{
 "cells": [
  {
   "cell_type": "code",
   "execution_count": 1,
   "metadata": {
    "execution": {
     "iopub.execute_input": "2023-03-28T02:05:30.222537Z",
     "iopub.status.busy": "2023-03-28T02:05:30.221261Z",
     "iopub.status.idle": "2023-03-28T02:05:30.227634Z",
     "shell.execute_reply": "2023-03-28T02:05:30.226592Z"
    }
   },
   "outputs": [],
   "source": [
    "import warnings\n",
    "warnings.filterwarnings('ignore')"
   ]
  },
  {
   "cell_type": "code",
   "execution_count": 2,
   "metadata": {
    "execution": {
     "iopub.execute_input": "2023-03-28T02:05:30.236824Z",
     "iopub.status.busy": "2023-03-28T02:05:30.235605Z",
     "iopub.status.idle": "2023-03-28T02:05:51.395316Z",
     "shell.execute_reply": "2023-03-28T02:05:51.393899Z"
    }
   },
   "outputs": [
    {
     "name": "stdout",
     "output_type": "stream",
     "text": [
      "Collecting optuna\r\n",
      "  Downloading optuna-3.1.0-py3-none-any.whl (365 kB)\r\n",
      "\u001b[K     |████████████████████████████████| 365 kB 10.4 MB/s \r\n",
      "\u001b[?25hRequirement already satisfied: tqdm in /home/idies/miniconda3/envs/py38/lib/python3.8/site-packages (from optuna) (4.50.2)\r\n",
      "Requirement already satisfied: packaging>=20.0 in /home/idies/miniconda3/envs/py38/lib/python3.8/site-packages (from optuna) (20.4)\r\n",
      "Collecting cmaes>=0.9.1\r\n",
      "  Downloading cmaes-0.9.1-py3-none-any.whl (21 kB)\r\n",
      "Collecting alembic>=1.5.0\r\n",
      "  Downloading alembic-1.10.2-py3-none-any.whl (212 kB)\r\n",
      "\u001b[K     |████████████████████████████████| 212 kB 26.2 MB/s \r\n",
      "\u001b[?25hRequirement already satisfied: numpy in /home/idies/miniconda3/envs/py38/lib/python3.8/site-packages (from optuna) (1.19.4)\r\n",
      "Collecting colorlog\r\n",
      "  Downloading colorlog-6.7.0-py2.py3-none-any.whl (11 kB)\r\n",
      "Requirement already satisfied: PyYAML in /home/idies/miniconda3/envs/py38/lib/python3.8/site-packages (from optuna) (5.3.1)\r\n",
      "Requirement already satisfied: sqlalchemy>=1.3.0 in /home/idies/miniconda3/envs/py38/lib/python3.8/site-packages (from optuna) (1.3.20)\r\n",
      "Requirement already satisfied: pyparsing>=2.0.2 in /home/idies/miniconda3/envs/py38/lib/python3.8/site-packages (from packaging>=20.0->optuna) (2.4.7)\r\n",
      "Requirement already satisfied: six in /home/idies/miniconda3/envs/py38/lib/python3.8/site-packages (from packaging>=20.0->optuna) (1.15.0)\r\n",
      "Collecting Mako\r\n",
      "  Downloading Mako-1.2.4-py3-none-any.whl (78 kB)\r\n",
      "\u001b[K     |████████████████████████████████| 78 kB 4.9 MB/s \r\n",
      "\u001b[?25hCollecting importlib-resources; python_version < \"3.9\"\r\n",
      "  Downloading importlib_resources-5.12.0-py3-none-any.whl (36 kB)\r\n",
      "Collecting typing-extensions>=4\r\n",
      "  Downloading typing_extensions-4.5.0-py3-none-any.whl (27 kB)\r\n",
      "Requirement already satisfied: importlib-metadata; python_version < \"3.9\" in /home/idies/miniconda3/envs/py38/lib/python3.8/site-packages (from alembic>=1.5.0->optuna) (2.0.0)\r\n",
      "Requirement already satisfied: MarkupSafe>=0.9.2 in /home/idies/miniconda3/envs/py38/lib/python3.8/site-packages (from Mako->alembic>=1.5.0->optuna) (1.1.1)\r\n",
      "Requirement already satisfied: zipp>=3.1.0; python_version < \"3.10\" in /home/idies/miniconda3/envs/py38/lib/python3.8/site-packages (from importlib-resources; python_version < \"3.9\"->alembic>=1.5.0->optuna) (3.4.0)\r\n",
      "Installing collected packages: cmaes, Mako, importlib-resources, typing-extensions, alembic, colorlog, optuna\r\n",
      "  Attempting uninstall: typing-extensions\r\n",
      "    Found existing installation: typing-extensions 3.7.4.3\r\n",
      "    Uninstalling typing-extensions-3.7.4.3:\r\n",
      "      Successfully uninstalled typing-extensions-3.7.4.3\r\n",
      "Successfully installed Mako-1.2.4 alembic-1.10.2 cmaes-0.9.1 colorlog-6.7.0 importlib-resources-5.12.0 optuna-3.1.0 typing-extensions-4.5.0\r\n"
     ]
    }
   ],
   "source": [
    "import sys\n",
    "!{sys.executable} -m pip install optuna"
   ]
  },
  {
   "cell_type": "code",
   "execution_count": 3,
   "metadata": {
    "execution": {
     "iopub.execute_input": "2023-03-28T02:05:51.407515Z",
     "iopub.status.busy": "2023-03-28T02:05:51.406372Z",
     "iopub.status.idle": "2023-03-28T02:06:07.517674Z",
     "shell.execute_reply": "2023-03-28T02:06:07.516412Z"
    }
   },
   "outputs": [
    {
     "name": "stdout",
     "output_type": "stream",
     "text": [
      "Collecting scikit-learn\r\n",
      "  Downloading scikit_learn-1.2.2-cp38-cp38-manylinux_2_17_x86_64.manylinux2014_x86_64.whl (9.8 MB)\r\n",
      "\u001b[K     |████████████████████████████████| 9.8 MB 10.9 MB/s \r\n",
      "\u001b[?25hRequirement already satisfied, skipping upgrade: threadpoolctl>=2.0.0 in /home/idies/miniconda3/envs/py38/lib/python3.8/site-packages (from scikit-learn) (2.1.0)\r\n",
      "Requirement already satisfied, skipping upgrade: scipy>=1.3.2 in /home/idies/miniconda3/envs/py38/lib/python3.8/site-packages (from scikit-learn) (1.6.0)\r\n",
      "Requirement already satisfied, skipping upgrade: numpy>=1.17.3 in /home/idies/miniconda3/envs/py38/lib/python3.8/site-packages (from scikit-learn) (1.19.4)\r\n",
      "Collecting joblib>=1.1.1\r\n",
      "  Downloading joblib-1.2.0-py3-none-any.whl (297 kB)\r\n",
      "\u001b[K     |████████████████████████████████| 297 kB 21.0 MB/s \r\n",
      "\u001b[?25hInstalling collected packages: joblib, scikit-learn\r\n",
      "  Attempting uninstall: joblib\r\n",
      "    Found existing installation: joblib 0.17.0\r\n",
      "    Uninstalling joblib-0.17.0:\r\n",
      "      Successfully uninstalled joblib-0.17.0\r\n",
      "  Attempting uninstall: scikit-learn\r\n",
      "    Found existing installation: scikit-learn 0.23.2\r\n",
      "    Uninstalling scikit-learn-0.23.2:\r\n",
      "      Successfully uninstalled scikit-learn-0.23.2\r\n",
      "Successfully installed joblib-1.2.0 scikit-learn-1.2.2\r\n"
     ]
    }
   ],
   "source": [
    "import sys\n",
    "!{sys.executable} -m pip install scikit-learn --upgrade"
   ]
  },
  {
   "cell_type": "code",
   "execution_count": 4,
   "metadata": {
    "execution": {
     "iopub.execute_input": "2023-03-28T02:06:07.535170Z",
     "iopub.status.busy": "2023-03-28T02:06:07.528464Z",
     "iopub.status.idle": "2023-03-28T02:06:30.367524Z",
     "shell.execute_reply": "2023-03-28T02:06:30.368494Z"
    }
   },
   "outputs": [
    {
     "name": "stdout",
     "output_type": "stream",
     "text": [
      "Collecting scikit-learn-intelex\r\n",
      "  Downloading scikit_learn_intelex-2023.0.1-py38-none-manylinux1_x86_64.whl (83 kB)\r\n",
      "\u001b[K     |████████████████████████████████| 83 kB 1.0 MB/s \r\n",
      "\u001b[?25hRequirement already satisfied: scikit-learn>=0.22 in /home/idies/miniconda3/envs/py38/lib/python3.8/site-packages (from scikit-learn-intelex) (1.2.2)\r\n",
      "Collecting daal4py==2023.0.1\r\n",
      "  Downloading daal4py-2023.0.1-py38-none-manylinux1_x86_64.whl (12.6 MB)\r\n",
      "\u001b[K     |████████████████████████████████| 12.6 MB 20.1 MB/s \r\n",
      "\u001b[?25hRequirement already satisfied: scipy>=1.3.2 in /home/idies/miniconda3/envs/py38/lib/python3.8/site-packages (from scikit-learn>=0.22->scikit-learn-intelex) (1.6.0)\r\n",
      "Requirement already satisfied: numpy>=1.17.3 in /home/idies/miniconda3/envs/py38/lib/python3.8/site-packages (from scikit-learn>=0.22->scikit-learn-intelex) (1.19.4)\r\n",
      "Requirement already satisfied: joblib>=1.1.1 in /home/idies/miniconda3/envs/py38/lib/python3.8/site-packages (from scikit-learn>=0.22->scikit-learn-intelex) (1.2.0)\r\n",
      "Requirement already satisfied: threadpoolctl>=2.0.0 in /home/idies/miniconda3/envs/py38/lib/python3.8/site-packages (from scikit-learn>=0.22->scikit-learn-intelex) (2.1.0)\r\n",
      "Collecting daal==2023.0.1\r\n",
      "  Downloading daal-2023.0.1-py2.py3-none-manylinux1_x86_64.whl (85.5 MB)\r\n",
      "\u001b[K     |████████████████████████████████| 85.5 MB 48 kB/s \r\n",
      "\u001b[?25hCollecting tbb==2021.*\r\n",
      "  Downloading tbb-2021.8.0-py2.py3-none-manylinux1_x86_64.whl (4.0 MB)\r\n",
      "\u001b[K     |████████████████████████████████| 4.0 MB 21.4 MB/s \r\n",
      "\u001b[?25hInstalling collected packages: tbb, daal, daal4py, scikit-learn-intelex\r\n",
      "Successfully installed daal-2023.0.1 daal4py-2023.0.1 scikit-learn-intelex-2023.0.1 tbb-2021.8.0\r\n"
     ]
    }
   ],
   "source": [
    "import sys\n",
    "!{sys.executable} -m pip install scikit-learn-intelex"
   ]
  },
  {
   "cell_type": "code",
   "execution_count": 5,
   "metadata": {
    "execution": {
     "iopub.execute_input": "2023-03-28T02:06:30.379216Z",
     "iopub.status.busy": "2023-03-28T02:06:30.378042Z",
     "iopub.status.idle": "2023-03-28T02:06:33.193097Z",
     "shell.execute_reply": "2023-03-28T02:06:33.191688Z"
    }
   },
   "outputs": [
    {
     "name": "stdout",
     "output_type": "stream",
     "text": [
      "Scikit-learn was successfully globally patched by Intel(R) Extension for Scikit-learn\n"
     ]
    },
    {
     "name": "stderr",
     "output_type": "stream",
     "text": [
      "Intel(R) Extension for Scikit-learn* enabled (https://github.com/intel/scikit-learn-intelex)\n"
     ]
    }
   ],
   "source": [
    "from sklearnex import patch_sklearn\n",
    "patch_sklearn(global_patch=True)"
   ]
  },
  {
   "cell_type": "code",
   "execution_count": 6,
   "metadata": {
    "execution": {
     "iopub.execute_input": "2023-03-28T02:06:33.202043Z",
     "iopub.status.busy": "2023-03-28T02:06:33.200655Z",
     "iopub.status.idle": "2023-03-28T02:06:33.207213Z",
     "shell.execute_reply": "2023-03-28T02:06:33.205931Z"
    }
   },
   "outputs": [],
   "source": [
    "import pandas as pd\n",
    "import numpy as np"
   ]
  },
  {
   "cell_type": "code",
   "execution_count": 7,
   "metadata": {
    "execution": {
     "iopub.execute_input": "2023-03-28T02:06:33.218531Z",
     "iopub.status.busy": "2023-03-28T02:06:33.217251Z",
     "iopub.status.idle": "2023-03-28T02:07:24.185660Z",
     "shell.execute_reply": "2023-03-28T02:07:24.184283Z"
    }
   },
   "outputs": [],
   "source": [
    "df = pd.read_csv('https://gitlab.com/mirsakhawathossain/exodata/-/raw/main/dataset/exodata.csv').sort_index(axis=0)"
   ]
  },
  {
   "cell_type": "code",
   "execution_count": 8,
   "metadata": {
    "execution": {
     "iopub.execute_input": "2023-03-28T02:07:24.198366Z",
     "iopub.status.busy": "2023-03-28T02:07:24.195676Z",
     "iopub.status.idle": "2023-03-28T02:07:26.152372Z",
     "shell.execute_reply": "2023-03-28T02:07:26.150993Z"
    }
   },
   "outputs": [],
   "source": [
    "columns_1 = df.columns[df.mean()==1]\n",
    "columns_2 = df.columns[df.mean()==0]\n",
    "df = df.drop(columns=columns_1)\n",
    "df = df.drop(columns=columns_2)"
   ]
  },
  {
   "cell_type": "code",
   "execution_count": 9,
   "metadata": {
    "execution": {
     "iopub.execute_input": "2023-03-28T02:07:26.637893Z",
     "iopub.status.busy": "2023-03-28T02:07:26.635882Z",
     "iopub.status.idle": "2023-03-28T02:07:26.641915Z",
     "shell.execute_reply": "2023-03-28T02:07:26.640647Z"
    }
   },
   "outputs": [],
   "source": [
    "X = df.drop(['exoplanet'],axis=1)"
   ]
  },
  {
   "cell_type": "code",
   "execution_count": 10,
   "metadata": {
    "execution": {
     "iopub.execute_input": "2023-03-28T02:07:26.657795Z",
     "iopub.status.busy": "2023-03-28T02:07:26.656012Z",
     "iopub.status.idle": "2023-03-28T02:07:26.664954Z",
     "shell.execute_reply": "2023-03-28T02:07:26.663690Z"
    }
   },
   "outputs": [
    {
     "data": {
      "text/plain": [
       "(75458, 741)"
      ]
     },
     "execution_count": 1,
     "metadata": {},
     "output_type": "execute_result"
    }
   ],
   "source": [
    "X.shape"
   ]
  },
  {
   "cell_type": "code",
   "execution_count": 11,
   "metadata": {
    "execution": {
     "iopub.execute_input": "2023-03-28T02:07:26.676378Z",
     "iopub.status.busy": "2023-03-28T02:07:26.674443Z",
     "iopub.status.idle": "2023-03-28T02:07:26.680914Z",
     "shell.execute_reply": "2023-03-28T02:07:26.679960Z"
    }
   },
   "outputs": [],
   "source": [
    "y = df[['exoplanet']]"
   ]
  },
  {
   "cell_type": "code",
   "execution_count": 12,
   "metadata": {
    "execution": {
     "iopub.execute_input": "2023-03-28T02:07:26.690525Z",
     "iopub.status.busy": "2023-03-28T02:07:26.689399Z",
     "iopub.status.idle": "2023-03-28T02:07:26.712252Z",
     "shell.execute_reply": "2023-03-28T02:07:26.711334Z"
    }
   },
   "outputs": [
    {
     "data": {
      "text/plain": [
       "exoplanet\n",
       "1            40084\n",
       "0            35374\n",
       "dtype: int64"
      ]
     },
     "execution_count": 1,
     "metadata": {},
     "output_type": "execute_result"
    }
   ],
   "source": [
    "y.value_counts()"
   ]
  },
  {
   "cell_type": "code",
   "execution_count": 13,
   "metadata": {
    "execution": {
     "iopub.execute_input": "2023-03-28T02:07:26.719650Z",
     "iopub.status.busy": "2023-03-28T02:07:26.718591Z",
     "iopub.status.idle": "2023-03-28T02:07:26.724218Z",
     "shell.execute_reply": "2023-03-28T02:07:26.723246Z"
    }
   },
   "outputs": [],
   "source": [
    "from sklearn.model_selection import train_test_split"
   ]
  },
  {
   "cell_type": "code",
   "execution_count": 14,
   "metadata": {
    "execution": {
     "iopub.execute_input": "2023-03-28T02:07:26.756455Z",
     "iopub.status.busy": "2023-03-28T02:07:26.751069Z",
     "iopub.status.idle": "2023-03-28T02:07:27.963548Z",
     "shell.execute_reply": "2023-03-28T02:07:27.964506Z"
    }
   },
   "outputs": [],
   "source": [
    "X_train, X_test, y_train, y_test = train_test_split(X, y, test_size=0.4, random_state=43,stratify=y)"
   ]
  },
  {
   "cell_type": "code",
   "execution_count": 15,
   "metadata": {
    "execution": {
     "iopub.execute_input": "2023-03-28T02:07:27.974027Z",
     "iopub.status.busy": "2023-03-28T02:07:27.972834Z",
     "iopub.status.idle": "2023-03-28T02:07:27.982573Z",
     "shell.execute_reply": "2023-03-28T02:07:27.983733Z"
    }
   },
   "outputs": [
    {
     "name": "stdout",
     "output_type": "stream",
     "text": [
      "(45274, 741)\n",
      "(30184, 741)\n"
     ]
    }
   ],
   "source": [
    "print(X_train.shape)\n",
    "print(X_test.shape)"
   ]
  },
  {
   "cell_type": "code",
   "execution_count": 1,
   "metadata": {
    "execution": {
     "iopub.execute_input": "2023-03-28T02:07:27.991580Z",
     "iopub.status.busy": "2023-03-28T02:07:27.990438Z",
     "iopub.status.idle": "2023-03-28T02:07:27.997802Z",
     "shell.execute_reply": "2023-03-28T02:07:27.996587Z"
    }
   },
   "outputs": [],
   "source": [
    "#from sklearn.preprocessing import QuantileTransformer\n",
    "#qt = QuantileTransformer()\n",
    "from sklearn.preprocessing import StandardScaler\n",
    "qt = StandardScaler()"
   ]
  },
  {
   "cell_type": "code",
   "execution_count": 17,
   "metadata": {
    "execution": {
     "iopub.execute_input": "2023-03-28T02:07:28.110666Z",
     "iopub.status.busy": "2023-03-28T02:07:28.109279Z",
     "iopub.status.idle": "2023-03-28T02:07:46.641716Z",
     "shell.execute_reply": "2023-03-28T02:07:46.642670Z"
    }
   },
   "outputs": [],
   "source": [
    "X_train = qt.fit_transform(X_train)\n",
    "X_test = qt.transform(X_test)"
   ]
  },
  {
   "cell_type": "code",
   "execution_count": 18,
   "metadata": {
    "execution": {
     "iopub.execute_input": "2023-03-28T02:07:46.651270Z",
     "iopub.status.busy": "2023-03-28T02:07:46.650110Z",
     "iopub.status.idle": "2023-03-28T02:07:47.332843Z",
     "shell.execute_reply": "2023-03-28T02:07:47.331668Z"
    }
   },
   "outputs": [],
   "source": [
    "import optuna\n",
    "from sklearn.model_selection import cross_val_score, RepeatedKFold\n",
    "from sklearn.ensemble import RandomForestClassifier\n"
   ]
  },
  {
   "cell_type": "code",
   "execution_count": 19,
   "metadata": {
    "execution": {
     "iopub.execute_input": "2023-03-28T02:07:47.347048Z",
     "iopub.status.busy": "2023-03-28T02:07:47.344097Z",
     "iopub.status.idle": "2023-03-28T02:07:47.352998Z",
     "shell.execute_reply": "2023-03-28T02:07:47.352035Z"
    }
   },
   "outputs": [],
   "source": [
    "def objective(trial):\n",
    "    max_depth = trial.suggest_int('max_depth', 1, 5)\n",
    "    min_samples_split = trial.suggest_int('min_samples_split', 2, 6)\n",
    "    min_samples_leaf = trial.suggest_int('min_samples_leaf', 1, 5)\n",
    "    max_features = trial.suggest_categorical('max_features', ['sqrt', 'log2', None])\n",
    "    criterion = trial.suggest_categorical('criterion', ['gini', 'entropy'])\n",
    "    n_estimators = trial.suggest_int('n_estimators', 50, 100, step=10)\n",
    "\n",
    "    clf = RandomForestClassifier(\n",
    "        max_depth=max_depth,\n",
    "        min_samples_split=min_samples_split,\n",
    "        min_samples_leaf=min_samples_leaf,\n",
    "        max_features=max_features,\n",
    "        criterion=criterion,\n",
    "        n_estimators=n_estimators,\n",
    "        random_state=43,n_jobs = -1)\n",
    "\n",
    "    rskf = RepeatedKFold(n_splits=5, n_repeats=10, random_state=41)\n",
    "    accs = np.mean(cross_val_score(clf, X_train, y_train, cv=rskf))\n",
    "    return 1 - np.mean(accs)"
   ]
  },
  {
   "cell_type": "code",
   "execution_count": 20,
   "metadata": {
    "execution": {
     "iopub.execute_input": "2023-03-28T02:07:47.361965Z",
     "iopub.status.busy": "2023-03-28T02:07:47.360792Z",
     "iopub.status.idle": "2023-03-28T02:07:47.368937Z",
     "shell.execute_reply": "2023-03-28T02:07:47.369846Z"
    }
   },
   "outputs": [
    {
     "name": "stderr",
     "output_type": "stream",
     "text": [
      "\u001b[32m[I 2023-03-28 02:07:47,358]\u001b[0m A new study created in memory with name: no-name-951d3642-4712-4959-b599-f6a966cbaabe\u001b[0m\n"
     ]
    }
   ],
   "source": [
    "# Define the study object to manage the optimization process\n",
    "study = optuna.create_study(direction='minimize',pruner=optuna.pruners.HyperbandPruner(min_resource=1, max_resource='auto', reduction_factor=3))"
   ]
  },
  {
   "cell_type": "code",
   "execution_count": 21,
   "metadata": {
    "execution": {
     "iopub.execute_input": "2023-03-28T02:07:47.387765Z",
     "iopub.status.busy": "2023-03-28T02:07:47.386583Z",
     "iopub.status.idle": "2023-03-28T06:10:14.507767Z",
     "shell.execute_reply": "2023-03-28T06:10:14.509601Z"
    }
   },
   "outputs": [
    {
     "name": "stderr",
     "output_type": "stream",
     "text": [
      "\u001b[32m[I 2023-03-28 02:17:15,125]\u001b[0m Trial 6 finished with value: 0.32898360838100427 and parameters: {'max_depth': 1, 'min_samples_split': 6, 'min_samples_leaf': 3, 'max_features': 'log2', 'criterion': 'gini', 'n_estimators': 50}. Best is trial 6 with value: 0.32898360838100427.\u001b[0m\n",
      "\u001b[32m[I 2023-03-28 02:17:39,763]\u001b[0m Trial 1 finished with value: 0.3255842775118113 and parameters: {'max_depth': 1, 'min_samples_split': 6, 'min_samples_leaf': 1, 'max_features': 'sqrt', 'criterion': 'gini', 'n_estimators': 50}. Best is trial 1 with value: 0.3255842775118113.\u001b[0m\n",
      "\u001b[32m[I 2023-03-28 02:17:41,895]\u001b[0m Trial 2 finished with value: 0.31598284054797543 and parameters: {'max_depth': 2, 'min_samples_split': 2, 'min_samples_leaf': 2, 'max_features': 'log2', 'criterion': 'gini', 'n_estimators': 60}. Best is trial 2 with value: 0.31598284054797543.\u001b[0m\n",
      "\u001b[32m[I 2023-03-28 02:17:47,576]\u001b[0m Trial 7 finished with value: 0.3320537688038283 and parameters: {'max_depth': 1, 'min_samples_split': 6, 'min_samples_leaf': 3, 'max_features': 'log2', 'criterion': 'gini', 'n_estimators': 70}. Best is trial 2 with value: 0.31598284054797543.\u001b[0m\n",
      "\u001b[32m[I 2023-03-28 02:18:06,044]\u001b[0m Trial 25 finished with value: 0.3002364464663033 and parameters: {'max_depth': 3, 'min_samples_split': 2, 'min_samples_leaf': 5, 'max_features': 'sqrt', 'criterion': 'gini', 'n_estimators': 50}. Best is trial 25 with value: 0.3002364464663033.\u001b[0m\n",
      "\u001b[32m[I 2023-03-28 02:18:09,782]\u001b[0m Trial 20 finished with value: 0.3085702031750843 and parameters: {'max_depth': 2, 'min_samples_split': 4, 'min_samples_leaf': 3, 'max_features': 'sqrt', 'criterion': 'gini', 'n_estimators': 60}. Best is trial 25 with value: 0.3002364464663033.\u001b[0m\n",
      "\u001b[32m[I 2023-03-28 02:18:15,786]\u001b[0m Trial 12 finished with value: 0.33043911632969236 and parameters: {'max_depth': 1, 'min_samples_split': 3, 'min_samples_leaf': 5, 'max_features': 'sqrt', 'criterion': 'gini', 'n_estimators': 90}. Best is trial 25 with value: 0.3002364464663033.\u001b[0m\n",
      "\u001b[32m[I 2023-03-28 02:18:16,083]\u001b[0m Trial 28 finished with value: 0.33256179421416165 and parameters: {'max_depth': 1, 'min_samples_split': 2, 'min_samples_leaf': 5, 'max_features': 'log2', 'criterion': 'gini', 'n_estimators': 90}. Best is trial 25 with value: 0.3002364464663033.\u001b[0m\n",
      "\u001b[32m[I 2023-03-28 02:18:25,564]\u001b[0m Trial 19 finished with value: 0.3085702031750843 and parameters: {'max_depth': 2, 'min_samples_split': 6, 'min_samples_leaf': 3, 'max_features': 'sqrt', 'criterion': 'gini', 'n_estimators': 60}. Best is trial 25 with value: 0.3002364464663033.\u001b[0m\n",
      "\u001b[32m[I 2023-03-28 02:18:35,895]\u001b[0m Trial 23 finished with value: 0.3101382277535474 and parameters: {'max_depth': 3, 'min_samples_split': 3, 'min_samples_leaf': 5, 'max_features': 'log2', 'criterion': 'gini', 'n_estimators': 90}. Best is trial 25 with value: 0.3002364464663033.\u001b[0m\n",
      "\u001b[32m[I 2023-03-28 02:18:46,766]\u001b[0m Trial 8 finished with value: 0.3001060221894598 and parameters: {'max_depth': 4, 'min_samples_split': 6, 'min_samples_leaf': 5, 'max_features': 'log2', 'criterion': 'gini', 'n_estimators': 90}. Best is trial 8 with value: 0.3001060221894598.\u001b[0m\n",
      "\u001b[32m[I 2023-03-28 02:19:33,704]\u001b[0m Trial 22 finished with value: 0.30587977942517297 and parameters: {'max_depth': 1, 'min_samples_split': 4, 'min_samples_leaf': 2, 'max_features': None, 'criterion': 'gini', 'n_estimators': 50}. Best is trial 8 with value: 0.3001060221894598.\u001b[0m\n",
      "\u001b[32m[I 2023-03-28 02:19:37,125]\u001b[0m Trial 5 finished with value: 0.2957635813440115 and parameters: {'max_depth': 4, 'min_samples_split': 6, 'min_samples_leaf': 2, 'max_features': 'sqrt', 'criterion': 'gini', 'n_estimators': 100}. Best is trial 5 with value: 0.2957635813440115.\u001b[0m\n",
      "\u001b[32m[I 2023-03-28 02:20:04,457]\u001b[0m Trial 9 finished with value: 0.28682911281315115 and parameters: {'max_depth': 5, 'min_samples_split': 3, 'min_samples_leaf': 2, 'max_features': 'sqrt', 'criterion': 'gini', 'n_estimators': 90}. Best is trial 9 with value: 0.28682911281315115.\u001b[0m\n",
      "\u001b[32m[I 2023-03-28 02:21:46,840]\u001b[0m Trial 29 finished with value: 0.30566111155632014 and parameters: {'max_depth': 2, 'min_samples_split': 5, 'min_samples_leaf': 1, 'max_features': None, 'criterion': 'gini', 'n_estimators': 60}. Best is trial 9 with value: 0.28682911281315115.\u001b[0m\n",
      "\u001b[32m[I 2023-03-28 02:22:27,428]\u001b[0m Trial 18 finished with value: 0.3057030763452905 and parameters: {'max_depth': 2, 'min_samples_split': 6, 'min_samples_leaf': 1, 'max_features': None, 'criterion': 'gini', 'n_estimators': 80}. Best is trial 9 with value: 0.28682911281315115.\u001b[0m\n",
      "\u001b[32m[I 2023-03-28 02:22:50,873]\u001b[0m Trial 27 finished with value: 0.3057030763452905 and parameters: {'max_depth': 2, 'min_samples_split': 5, 'min_samples_leaf': 2, 'max_features': None, 'criterion': 'gini', 'n_estimators': 80}. Best is trial 9 with value: 0.28682911281315115.\u001b[0m\n",
      "\u001b[32m[I 2023-03-28 02:25:09,201]\u001b[0m Trial 17 finished with value: 0.2911163470127147 and parameters: {'max_depth': 4, 'min_samples_split': 6, 'min_samples_leaf': 3, 'max_features': None, 'criterion': 'gini', 'n_estimators': 80}. Best is trial 9 with value: 0.28682911281315115.\u001b[0m\n",
      "\u001b[32m[I 2023-03-28 02:25:40,844]\u001b[0m Trial 0 finished with value: 0.2912179451665977 and parameters: {'max_depth': 4, 'min_samples_split': 3, 'min_samples_leaf': 1, 'max_features': None, 'criterion': 'gini', 'n_estimators': 100}. Best is trial 9 with value: 0.28682911281315115.\u001b[0m\n",
      "\u001b[32m[I 2023-03-28 04:23:16,118]\u001b[0m Trial 11 finished with value: 0.30471353265766465 and parameters: {'max_depth': 3, 'min_samples_split': 3, 'min_samples_leaf': 5, 'max_features': 'log2', 'criterion': 'entropy', 'n_estimators': 60}. Best is trial 9 with value: 0.28682911281315115.\u001b[0m\n",
      "\u001b[32m[I 2023-03-28 04:23:20,545]\u001b[0m Trial 13 finished with value: 0.29519594306057617 and parameters: {'max_depth': 5, 'min_samples_split': 4, 'min_samples_leaf': 4, 'max_features': 'log2', 'criterion': 'entropy', 'n_estimators': 60}. Best is trial 9 with value: 0.28682911281315115.\u001b[0m\n",
      "\u001b[32m[I 2023-03-28 04:53:44,949]\u001b[0m Trial 3 finished with value: 0.30594604018322114 and parameters: {'max_depth': 3, 'min_samples_split': 4, 'min_samples_leaf': 2, 'max_features': None, 'criterion': 'entropy', 'n_estimators': 60}. Best is trial 9 with value: 0.28682911281315115.\u001b[0m\n",
      "\u001b[32m[I 2023-03-28 04:54:17,211]\u001b[0m Trial 4 finished with value: 0.3067058562789775 and parameters: {'max_depth': 2, 'min_samples_split': 5, 'min_samples_leaf': 2, 'max_features': None, 'criterion': 'entropy', 'n_estimators': 50}. Best is trial 9 with value: 0.28682911281315115.\u001b[0m\n",
      "\u001b[32m[I 2023-03-28 05:28:45,711]\u001b[0m Trial 10 finished with value: 0.3130516468036373 and parameters: {'max_depth': 2, 'min_samples_split': 6, 'min_samples_leaf': 3, 'max_features': 'log2', 'criterion': 'entropy', 'n_estimators': 70}. Best is trial 9 with value: 0.28682911281315115.\u001b[0m\n",
      "\u001b[32m[I 2023-03-28 05:29:19,325]\u001b[0m Trial 30 finished with value: 0.2941887337244098 and parameters: {'max_depth': 5, 'min_samples_split': 4, 'min_samples_leaf': 4, 'max_features': 'log2', 'criterion': 'entropy', 'n_estimators': 70}. Best is trial 9 with value: 0.28682911281315115.\u001b[0m\n",
      "\u001b[32m[I 2023-03-28 05:30:11,688]\u001b[0m Trial 21 finished with value: 0.30392720698936637 and parameters: {'max_depth': 3, 'min_samples_split': 2, 'min_samples_leaf': 1, 'max_features': 'log2', 'criterion': 'entropy', 'n_estimators': 80}. Best is trial 9 with value: 0.28682911281315115.\u001b[0m\n",
      "\u001b[32m[I 2023-03-28 05:30:13,351]\u001b[0m Trial 31 finished with value: 0.32637938831212976 and parameters: {'max_depth': 1, 'min_samples_split': 2, 'min_samples_leaf': 5, 'max_features': 'log2', 'criterion': 'entropy', 'n_estimators': 80}. Best is trial 9 with value: 0.28682911281315115.\u001b[0m\n",
      "\u001b[32m[I 2023-03-28 05:32:02,251]\u001b[0m Trial 24 finished with value: 0.32148693775136783 and parameters: {'max_depth': 1, 'min_samples_split': 4, 'min_samples_leaf': 1, 'max_features': 'sqrt', 'criterion': 'entropy', 'n_estimators': 90}. Best is trial 9 with value: 0.28682911281315115.\u001b[0m\n",
      "\u001b[32m[I 2023-03-28 05:32:04,202]\u001b[0m Trial 14 finished with value: 0.3004020029769233 and parameters: {'max_depth': 3, 'min_samples_split': 5, 'min_samples_leaf': 1, 'max_features': 'sqrt', 'criterion': 'entropy', 'n_estimators': 70}. Best is trial 9 with value: 0.28682911281315115.\u001b[0m\n",
      "\u001b[32m[I 2023-03-28 05:35:07,506]\u001b[0m Trial 26 finished with value: 0.28841720765656986 and parameters: {'max_depth': 5, 'min_samples_split': 4, 'min_samples_leaf': 1, 'max_features': 'sqrt', 'criterion': 'entropy', 'n_estimators': 80}. Best is trial 9 with value: 0.28682911281315115.\u001b[0m\n",
      "\u001b[32m[I 2023-03-28 06:09:41,430]\u001b[0m Trial 16 finished with value: 0.3066395945451288 and parameters: {'max_depth': 2, 'min_samples_split': 6, 'min_samples_leaf': 2, 'max_features': None, 'criterion': 'entropy', 'n_estimators': 90}. Best is trial 9 with value: 0.28682911281315115.\u001b[0m\n",
      "\u001b[32m[I 2023-03-28 06:10:14,303]\u001b[0m Trial 15 finished with value: 0.2960220221099321 and parameters: {'max_depth': 4, 'min_samples_split': 3, 'min_samples_leaf': 3, 'max_features': None, 'criterion': 'entropy', 'n_estimators': 90}. Best is trial 9 with value: 0.28682911281315115.\u001b[0m\n"
     ]
    }
   ],
   "source": [
    "# Run the hyperparameter optimization\n",
    "n_trials = None\n",
    "n_jobs = -1\n",
    "timeout= 60\n",
    "study.optimize(objective, n_trials=n_trials, n_jobs=n_jobs, timeout=timeout,show_progress_bar=True,gc_after_trial=True)"
   ]
  },
  {
   "cell_type": "code",
   "execution_count": 22,
   "metadata": {
    "execution": {
     "iopub.execute_input": "2023-03-28T06:10:14.522767Z",
     "iopub.status.busy": "2023-03-28T06:10:14.521494Z",
     "iopub.status.idle": "2023-03-28T06:10:14.529526Z",
     "shell.execute_reply": "2023-03-28T06:10:14.528438Z"
    }
   },
   "outputs": [
    {
     "name": "stdout",
     "output_type": "stream",
     "text": [
      "Best hyperparameters:\n",
      "{'max_depth': 5, 'min_samples_split': 3, 'min_samples_leaf': 2, 'max_features': 'sqrt', 'criterion': 'gini', 'n_estimators': 90}\n"
     ]
    }
   ],
   "source": [
    "# Print the best hyperparameters found\n",
    "print('Best hyperparameters:')\n",
    "print(study.best_params)"
   ]
  },
  {
   "cell_type": "code",
   "execution_count": 23,
   "metadata": {
    "execution": {
     "iopub.execute_input": "2023-03-28T06:10:14.538288Z",
     "iopub.status.busy": "2023-03-28T06:10:14.537075Z",
     "iopub.status.idle": "2023-03-28T06:10:14.545194Z",
     "shell.execute_reply": "2023-03-28T06:10:14.544183Z"
    }
   },
   "outputs": [
    {
     "name": "stdout",
     "output_type": "stream",
     "text": [
      "Best score: 0.7131708871868488\n"
     ]
    }
   ],
   "source": [
    "best_score = 1 - study.best_value\n",
    "print('Best score:', best_score)"
   ]
  }
 ],
 "metadata": {
  "kernelspec": {
   "display_name": "Python 3.8 (py38)",
   "language": "python",
   "name": "py38"
  },
  "language_info": {
   "codemirror_mode": {
    "name": "ipython",
    "version": 3
   },
   "file_extension": ".py",
   "mimetype": "text/x-python",
   "name": "python",
   "nbconvert_exporter": "python",
   "pygments_lexer": "ipython3",
   "version": "3.8.5"
  }
 },
 "nbformat": 4,
 "nbformat_minor": 4
}

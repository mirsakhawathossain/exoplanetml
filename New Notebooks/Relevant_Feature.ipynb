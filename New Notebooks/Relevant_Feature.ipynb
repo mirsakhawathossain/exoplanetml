{
 "cells": [
  {
   "cell_type": "code",
   "execution_count": 1,
   "metadata": {},
   "outputs": [],
   "source": [
    "import warnings\n",
    "warnings.filterwarnings('ignore')"
   ]
  },
  {
   "cell_type": "code",
   "execution_count": 2,
   "metadata": {},
   "outputs": [],
   "source": [
    "import pandas as pd"
   ]
  },
  {
   "cell_type": "code",
   "execution_count": 3,
   "metadata": {},
   "outputs": [],
   "source": [
    "df = pd.read_csv('https://gitlab.com/mirsakhawathossain/exodata/-/raw/main/dataset/exodata.csv').sort_index(axis=0)"
   ]
  },
  {
   "cell_type": "code",
   "execution_count": 4,
   "metadata": {},
   "outputs": [],
   "source": [
    "columns_1 = df.columns[df.mean()==1]\n",
    "columns_2 = df.columns[df.mean()==0]\n",
    "df = df.drop(columns=columns_1)\n",
    "df = df.drop(columns=columns_2)"
   ]
  },
  {
   "cell_type": "code",
   "execution_count": 5,
   "metadata": {},
   "outputs": [],
   "source": [
    "X = df.drop(['exoplanet'],axis=1)"
   ]
  },
  {
   "cell_type": "code",
   "execution_count": 39,
   "metadata": {},
   "outputs": [],
   "source": [
    "#y = df[['exoplanet']].to_numpy()"
   ]
  },
  {
   "cell_type": "code",
   "execution_count": 41,
   "metadata": {},
   "outputs": [],
   "source": [
    "y = df['exoplanet']"
   ]
  },
  {
   "cell_type": "code",
   "execution_count": 18,
   "metadata": {},
   "outputs": [
    {
     "data": {
      "text/plain": [
       "pandas.core.series.Series"
      ]
     },
     "execution_count": 18,
     "metadata": {},
     "output_type": "execute_result"
    }
   ],
   "source": [
    "type(y)"
   ]
  },
  {
   "cell_type": "code",
   "execution_count": 11,
   "metadata": {},
   "outputs": [
    {
     "name": "stdout",
     "output_type": "stream",
     "text": [
      "Requirement already satisfied: tsfresh in /home/idies/miniconda3/envs/py38/lib/python3.8/site-packages (0.20.0)\n",
      "Requirement already satisfied: statsmodels>=0.13 in /home/idies/miniconda3/envs/py38/lib/python3.8/site-packages (from tsfresh) (0.13.5)\n",
      "Requirement already satisfied: patsy>=0.4.1 in /home/idies/miniconda3/envs/py38/lib/python3.8/site-packages (from tsfresh) (0.5.1)\n",
      "Requirement already satisfied: dask[dataframe]>=2.9.0 in /home/idies/miniconda3/envs/py38/lib/python3.8/site-packages (from tsfresh) (2.30.0)\n",
      "Requirement already satisfied: numpy>=1.15.1 in /home/idies/miniconda3/envs/py38/lib/python3.8/site-packages (from tsfresh) (1.19.4)\n",
      "Requirement already satisfied: stumpy>=1.7.2 in /home/idies/miniconda3/envs/py38/lib/python3.8/site-packages (from tsfresh) (1.11.1)\n",
      "Requirement already satisfied: scikit-learn>=0.22.0 in /home/idies/miniconda3/envs/py38/lib/python3.8/site-packages (from tsfresh) (0.23.2)\n",
      "Requirement already satisfied: tqdm>=4.10.0 in /home/idies/miniconda3/envs/py38/lib/python3.8/site-packages (from tsfresh) (4.50.2)\n",
      "Requirement already satisfied: cloudpickle in /home/idies/miniconda3/envs/py38/lib/python3.8/site-packages (from tsfresh) (1.6.0)\n",
      "Requirement already satisfied: requests>=2.9.1 in /home/idies/miniconda3/envs/py38/lib/python3.8/site-packages (from tsfresh) (2.24.0)\n",
      "Requirement already satisfied: pandas>=0.25.0 in /home/idies/miniconda3/envs/py38/lib/python3.8/site-packages (from tsfresh) (1.1.3)\n",
      "Requirement already satisfied: scipy>=1.2.0 in /home/idies/miniconda3/envs/py38/lib/python3.8/site-packages (from tsfresh) (1.6.0)\n",
      "Requirement already satisfied: distributed>=2.11.0 in /home/idies/miniconda3/envs/py38/lib/python3.8/site-packages (from tsfresh) (2.30.1)\n",
      "Requirement already satisfied: packaging>=21.3 in /home/idies/miniconda3/envs/py38/lib/python3.8/site-packages (from statsmodels>=0.13->tsfresh) (23.1)\n",
      "Requirement already satisfied: six in /home/idies/miniconda3/envs/py38/lib/python3.8/site-packages (from patsy>=0.4.1->tsfresh) (1.15.0)\n",
      "Requirement already satisfied: pyyaml in /home/idies/miniconda3/envs/py38/lib/python3.8/site-packages (from dask[dataframe]>=2.9.0->tsfresh) (5.3.1)\n",
      "Requirement already satisfied: fsspec>=0.6.0; extra == \"dataframe\" in /home/idies/miniconda3/envs/py38/lib/python3.8/site-packages (from dask[dataframe]>=2.9.0->tsfresh) (0.8.3)\n",
      "Requirement already satisfied: partd>=0.3.10; extra == \"dataframe\" in /home/idies/miniconda3/envs/py38/lib/python3.8/site-packages (from dask[dataframe]>=2.9.0->tsfresh) (1.1.0)\n",
      "Requirement already satisfied: toolz>=0.8.2; extra == \"dataframe\" in /home/idies/miniconda3/envs/py38/lib/python3.8/site-packages (from dask[dataframe]>=2.9.0->tsfresh) (0.11.1)\n",
      "Requirement already satisfied: numba>=0.54 in /home/idies/miniconda3/envs/py38/lib/python3.8/site-packages (from stumpy>=1.7.2->tsfresh) (0.56.4)\n",
      "Requirement already satisfied: threadpoolctl>=2.0.0 in /home/idies/miniconda3/envs/py38/lib/python3.8/site-packages (from scikit-learn>=0.22.0->tsfresh) (2.1.0)\n",
      "Requirement already satisfied: joblib>=0.11 in /home/idies/miniconda3/envs/py38/lib/python3.8/site-packages (from scikit-learn>=0.22.0->tsfresh) (0.17.0)\n",
      "Requirement already satisfied: idna<3,>=2.5 in /home/idies/miniconda3/envs/py38/lib/python3.8/site-packages (from requests>=2.9.1->tsfresh) (2.10)\n",
      "Requirement already satisfied: certifi>=2017.4.17 in /home/idies/miniconda3/envs/py38/lib/python3.8/site-packages (from requests>=2.9.1->tsfresh) (2020.12.5)\n",
      "Requirement already satisfied: urllib3!=1.25.0,!=1.25.1,<1.26,>=1.21.1 in /home/idies/miniconda3/envs/py38/lib/python3.8/site-packages (from requests>=2.9.1->tsfresh) (1.24.3)\n",
      "Requirement already satisfied: chardet<4,>=3.0.2 in /home/idies/miniconda3/envs/py38/lib/python3.8/site-packages (from requests>=2.9.1->tsfresh) (3.0.4)\n",
      "Requirement already satisfied: pytz>=2017.2 in /home/idies/miniconda3/envs/py38/lib/python3.8/site-packages (from pandas>=0.25.0->tsfresh) (2020.1)\n",
      "Requirement already satisfied: python-dateutil>=2.7.3 in /home/idies/miniconda3/envs/py38/lib/python3.8/site-packages (from pandas>=0.25.0->tsfresh) (2.8.0)\n",
      "Requirement already satisfied: tblib>=1.6.0 in /home/idies/miniconda3/envs/py38/lib/python3.8/site-packages (from distributed>=2.11.0->tsfresh) (1.7.0)\n",
      "Requirement already satisfied: click>=6.6 in /home/idies/miniconda3/envs/py38/lib/python3.8/site-packages (from distributed>=2.11.0->tsfresh) (7.1.2)\n",
      "Requirement already satisfied: sortedcontainers!=2.0.0,!=2.0.1 in /home/idies/miniconda3/envs/py38/lib/python3.8/site-packages (from distributed>=2.11.0->tsfresh) (2.2.2)\n",
      "Requirement already satisfied: setuptools in /home/idies/miniconda3/envs/py38/lib/python3.8/site-packages (from distributed>=2.11.0->tsfresh) (50.3.1.post20201107)\n",
      "Requirement already satisfied: psutil>=5.0 in /home/idies/miniconda3/envs/py38/lib/python3.8/site-packages (from distributed>=2.11.0->tsfresh) (5.7.2)\n",
      "Requirement already satisfied: tornado>=6.0.3; python_version >= \"3.8\" in /home/idies/miniconda3/envs/py38/lib/python3.8/site-packages (from distributed>=2.11.0->tsfresh) (6.0.4)\n",
      "Requirement already satisfied: zict>=0.1.3 in /home/idies/miniconda3/envs/py38/lib/python3.8/site-packages (from distributed>=2.11.0->tsfresh) (2.0.0)\n",
      "Requirement already satisfied: msgpack>=0.6.0 in /home/idies/miniconda3/envs/py38/lib/python3.8/site-packages (from distributed>=2.11.0->tsfresh) (1.0.0)\n",
      "Requirement already satisfied: locket in /home/idies/miniconda3/envs/py38/lib/python3.8/site-packages (from partd>=0.3.10; extra == \"dataframe\"->dask[dataframe]>=2.9.0->tsfresh) (0.2.0)\n",
      "Requirement already satisfied: llvmlite<0.40,>=0.39.0dev0 in /home/idies/miniconda3/envs/py38/lib/python3.8/site-packages (from numba>=0.54->stumpy>=1.7.2->tsfresh) (0.39.1)\n",
      "Requirement already satisfied: importlib-metadata; python_version < \"3.9\" in /home/idies/miniconda3/envs/py38/lib/python3.8/site-packages (from numba>=0.54->stumpy>=1.7.2->tsfresh) (2.0.0)\n",
      "Requirement already satisfied: heapdict in /home/idies/miniconda3/envs/py38/lib/python3.8/site-packages (from zict>=0.1.3->distributed>=2.11.0->tsfresh) (1.0.1)\n",
      "Requirement already satisfied: zipp>=0.5 in /home/idies/miniconda3/envs/py38/lib/python3.8/site-packages (from importlib-metadata; python_version < \"3.9\"->numba>=0.54->stumpy>=1.7.2->tsfresh) (3.4.0)\n"
     ]
    }
   ],
   "source": [
    "import sys\n",
    "!{sys.executable} -m pip install tsfresh"
   ]
  },
  {
   "cell_type": "code",
   "execution_count": 12,
   "metadata": {},
   "outputs": [],
   "source": [
    "from tsfresh import extract_features, select_features\n",
    "from tsfresh.feature_selection.relevance import calculate_relevance_table"
   ]
  },
  {
   "cell_type": "code",
   "execution_count": 34,
   "metadata": {},
   "outputs": [],
   "source": [
    "# Calculate relevance table\n",
    "relevance_table = calculate_relevance_table(X, y,fdr_level=0.05,n_jobs=16)"
   ]
  },
  {
   "cell_type": "code",
   "execution_count": 35,
   "metadata": {},
   "outputs": [
    {
     "data": {
      "text/plain": [
       "Index(['feature', 'type', 'p_value', 'relevant'], dtype='object')"
      ]
     },
     "execution_count": 35,
     "metadata": {},
     "output_type": "execute_result"
    }
   ],
   "source": [
    "relevance_table.columns"
   ]
  },
  {
   "cell_type": "code",
   "execution_count": 38,
   "metadata": {},
   "outputs": [
    {
     "data": {
      "text/html": [
       "<div>\n",
       "<style scoped>\n",
       "    .dataframe tbody tr th:only-of-type {\n",
       "        vertical-align: middle;\n",
       "    }\n",
       "\n",
       "    .dataframe tbody tr th {\n",
       "        vertical-align: top;\n",
       "    }\n",
       "\n",
       "    .dataframe thead th {\n",
       "        text-align: right;\n",
       "    }\n",
       "</style>\n",
       "<table border=\"1\" class=\"dataframe\">\n",
       "  <thead>\n",
       "    <tr style=\"text-align: right;\">\n",
       "      <th></th>\n",
       "      <th>feature</th>\n",
       "      <th>type</th>\n",
       "      <th>p_value</th>\n",
       "      <th>relevant</th>\n",
       "    </tr>\n",
       "    <tr>\n",
       "      <th>feature</th>\n",
       "      <th></th>\n",
       "      <th></th>\n",
       "      <th></th>\n",
       "      <th></th>\n",
       "    </tr>\n",
       "  </thead>\n",
       "  <tbody>\n",
       "    <tr>\n",
       "      <th>PDCSAP_FLUX__spkt_welch_density__coeff_2</th>\n",
       "      <td>PDCSAP_FLUX__spkt_welch_density__coeff_2</td>\n",
       "      <td>real</td>\n",
       "      <td>0.000000</td>\n",
       "      <td>True</td>\n",
       "    </tr>\n",
       "    <tr>\n",
       "      <th>PDCSAP_FLUX__change_quantiles__f_agg_\"var\"__isabs_True__qh_0.6__ql_0.0</th>\n",
       "      <td>PDCSAP_FLUX__change_quantiles__f_agg_\"var\"__is...</td>\n",
       "      <td>real</td>\n",
       "      <td>0.000000</td>\n",
       "      <td>True</td>\n",
       "    </tr>\n",
       "    <tr>\n",
       "      <th>PDCSAP_FLUX__change_quantiles__f_agg_\"var\"__isabs_False__qh_0.8__ql_0.0</th>\n",
       "      <td>PDCSAP_FLUX__change_quantiles__f_agg_\"var\"__is...</td>\n",
       "      <td>real</td>\n",
       "      <td>0.000000</td>\n",
       "      <td>True</td>\n",
       "    </tr>\n",
       "    <tr>\n",
       "      <th>PDCSAP_FLUX__fft_coefficient__attr_\"abs\"__coeff_94</th>\n",
       "      <td>PDCSAP_FLUX__fft_coefficient__attr_\"abs\"__coef...</td>\n",
       "      <td>real</td>\n",
       "      <td>0.000000</td>\n",
       "      <td>True</td>\n",
       "    </tr>\n",
       "    <tr>\n",
       "      <th>PDCSAP_FLUX__lempel_ziv_complexity__bins_2</th>\n",
       "      <td>PDCSAP_FLUX__lempel_ziv_complexity__bins_2</td>\n",
       "      <td>real</td>\n",
       "      <td>0.000000</td>\n",
       "      <td>True</td>\n",
       "    </tr>\n",
       "    <tr>\n",
       "      <th>...</th>\n",
       "      <td>...</td>\n",
       "      <td>...</td>\n",
       "      <td>...</td>\n",
       "      <td>...</td>\n",
       "    </tr>\n",
       "    <tr>\n",
       "      <th>PDCSAP_FLUX__cwt_coefficients__coeff_12__w_10__widths_(2, 5, 10, 20)</th>\n",
       "      <td>PDCSAP_FLUX__cwt_coefficients__coeff_12__w_10_...</td>\n",
       "      <td>real</td>\n",
       "      <td>0.995719</td>\n",
       "      <td>False</td>\n",
       "    </tr>\n",
       "    <tr>\n",
       "      <th>PDCSAP_FLUX__cwt_coefficients__coeff_13__w_20__widths_(2, 5, 10, 20)</th>\n",
       "      <td>PDCSAP_FLUX__cwt_coefficients__coeff_13__w_20_...</td>\n",
       "      <td>real</td>\n",
       "      <td>0.996357</td>\n",
       "      <td>False</td>\n",
       "    </tr>\n",
       "    <tr>\n",
       "      <th>PDCSAP_FLUX__quantile__q_0.2</th>\n",
       "      <td>PDCSAP_FLUX__quantile__q_0.2</td>\n",
       "      <td>real</td>\n",
       "      <td>0.999602</td>\n",
       "      <td>False</td>\n",
       "    </tr>\n",
       "    <tr>\n",
       "      <th>PDCSAP_FLUX__cwt_coefficients__coeff_14__w_20__widths_(2, 5, 10, 20)</th>\n",
       "      <td>PDCSAP_FLUX__cwt_coefficients__coeff_14__w_20_...</td>\n",
       "      <td>real</td>\n",
       "      <td>0.999859</td>\n",
       "      <td>False</td>\n",
       "    </tr>\n",
       "    <tr>\n",
       "      <th>PDCSAP_FLUX__symmetry_looking__r_0.2</th>\n",
       "      <td>PDCSAP_FLUX__symmetry_looking__r_0.2</td>\n",
       "      <td>binary</td>\n",
       "      <td>1.000000</td>\n",
       "      <td>False</td>\n",
       "    </tr>\n",
       "  </tbody>\n",
       "</table>\n",
       "<p>741 rows × 4 columns</p>\n",
       "</div>"
      ],
      "text/plain": [
       "                                                                                              feature  \\\n",
       "feature                                                                                                 \n",
       "PDCSAP_FLUX__spkt_welch_density__coeff_2                     PDCSAP_FLUX__spkt_welch_density__coeff_2   \n",
       "PDCSAP_FLUX__change_quantiles__f_agg_\"var\"__isa...  PDCSAP_FLUX__change_quantiles__f_agg_\"var\"__is...   \n",
       "PDCSAP_FLUX__change_quantiles__f_agg_\"var\"__isa...  PDCSAP_FLUX__change_quantiles__f_agg_\"var\"__is...   \n",
       "PDCSAP_FLUX__fft_coefficient__attr_\"abs\"__coeff_94  PDCSAP_FLUX__fft_coefficient__attr_\"abs\"__coef...   \n",
       "PDCSAP_FLUX__lempel_ziv_complexity__bins_2                 PDCSAP_FLUX__lempel_ziv_complexity__bins_2   \n",
       "...                                                                                               ...   \n",
       "PDCSAP_FLUX__cwt_coefficients__coeff_12__w_10__...  PDCSAP_FLUX__cwt_coefficients__coeff_12__w_10_...   \n",
       "PDCSAP_FLUX__cwt_coefficients__coeff_13__w_20__...  PDCSAP_FLUX__cwt_coefficients__coeff_13__w_20_...   \n",
       "PDCSAP_FLUX__quantile__q_0.2                                             PDCSAP_FLUX__quantile__q_0.2   \n",
       "PDCSAP_FLUX__cwt_coefficients__coeff_14__w_20__...  PDCSAP_FLUX__cwt_coefficients__coeff_14__w_20_...   \n",
       "PDCSAP_FLUX__symmetry_looking__r_0.2                             PDCSAP_FLUX__symmetry_looking__r_0.2   \n",
       "\n",
       "                                                      type   p_value  relevant  \n",
       "feature                                                                         \n",
       "PDCSAP_FLUX__spkt_welch_density__coeff_2              real  0.000000      True  \n",
       "PDCSAP_FLUX__change_quantiles__f_agg_\"var\"__isa...    real  0.000000      True  \n",
       "PDCSAP_FLUX__change_quantiles__f_agg_\"var\"__isa...    real  0.000000      True  \n",
       "PDCSAP_FLUX__fft_coefficient__attr_\"abs\"__coeff_94    real  0.000000      True  \n",
       "PDCSAP_FLUX__lempel_ziv_complexity__bins_2            real  0.000000      True  \n",
       "...                                                    ...       ...       ...  \n",
       "PDCSAP_FLUX__cwt_coefficients__coeff_12__w_10__...    real  0.995719     False  \n",
       "PDCSAP_FLUX__cwt_coefficients__coeff_13__w_20__...    real  0.996357     False  \n",
       "PDCSAP_FLUX__quantile__q_0.2                          real  0.999602     False  \n",
       "PDCSAP_FLUX__cwt_coefficients__coeff_14__w_20__...    real  0.999859     False  \n",
       "PDCSAP_FLUX__symmetry_looking__r_0.2                binary  1.000000     False  \n",
       "\n",
       "[741 rows x 4 columns]"
      ]
     },
     "execution_count": 38,
     "metadata": {},
     "output_type": "execute_result"
    }
   ],
   "source": [
    "relevance_table"
   ]
  },
  {
   "cell_type": "code",
   "execution_count": 65,
   "metadata": {},
   "outputs": [
    {
     "data": {
      "text/html": [
       "<div>\n",
       "<style scoped>\n",
       "    .dataframe tbody tr th:only-of-type {\n",
       "        vertical-align: middle;\n",
       "    }\n",
       "\n",
       "    .dataframe tbody tr th {\n",
       "        vertical-align: top;\n",
       "    }\n",
       "\n",
       "    .dataframe thead th {\n",
       "        text-align: right;\n",
       "    }\n",
       "</style>\n",
       "<table border=\"1\" class=\"dataframe\">\n",
       "  <thead>\n",
       "    <tr style=\"text-align: right;\">\n",
       "      <th></th>\n",
       "      <th>feature</th>\n",
       "      <th>type</th>\n",
       "      <th>p_value</th>\n",
       "      <th>relevant</th>\n",
       "    </tr>\n",
       "    <tr>\n",
       "      <th>feature</th>\n",
       "      <th></th>\n",
       "      <th></th>\n",
       "      <th></th>\n",
       "      <th></th>\n",
       "    </tr>\n",
       "  </thead>\n",
       "  <tbody>\n",
       "    <tr>\n",
       "      <th>PDCSAP_FLUX__change_quantiles__f_agg_\"mean\"__isabs_False__qh_0.8__ql_0.4</th>\n",
       "      <td>PDCSAP_FLUX__change_quantiles__f_agg_\"mean\"__i...</td>\n",
       "      <td>real</td>\n",
       "      <td>0.002998</td>\n",
       "      <td>False</td>\n",
       "    </tr>\n",
       "    <tr>\n",
       "      <th>PDCSAP_FLUX__change_quantiles__f_agg_\"mean\"__isabs_False__qh_0.8__ql_0.0</th>\n",
       "      <td>PDCSAP_FLUX__change_quantiles__f_agg_\"mean\"__i...</td>\n",
       "      <td>real</td>\n",
       "      <td>0.003012</td>\n",
       "      <td>False</td>\n",
       "    </tr>\n",
       "    <tr>\n",
       "      <th>PDCSAP_FLUX__fft_coefficient__attr_\"imag\"__coeff_15</th>\n",
       "      <td>PDCSAP_FLUX__fft_coefficient__attr_\"imag\"__coe...</td>\n",
       "      <td>real</td>\n",
       "      <td>0.003167</td>\n",
       "      <td>False</td>\n",
       "    </tr>\n",
       "    <tr>\n",
       "      <th>PDCSAP_FLUX__fft_coefficient__attr_\"real\"__coeff_34</th>\n",
       "      <td>PDCSAP_FLUX__fft_coefficient__attr_\"real\"__coe...</td>\n",
       "      <td>real</td>\n",
       "      <td>0.003172</td>\n",
       "      <td>False</td>\n",
       "    </tr>\n",
       "    <tr>\n",
       "      <th>PDCSAP_FLUX__fft_coefficient__attr_\"imag\"__coeff_54</th>\n",
       "      <td>PDCSAP_FLUX__fft_coefficient__attr_\"imag\"__coe...</td>\n",
       "      <td>real</td>\n",
       "      <td>0.003462</td>\n",
       "      <td>False</td>\n",
       "    </tr>\n",
       "    <tr>\n",
       "      <th>...</th>\n",
       "      <td>...</td>\n",
       "      <td>...</td>\n",
       "      <td>...</td>\n",
       "      <td>...</td>\n",
       "    </tr>\n",
       "    <tr>\n",
       "      <th>PDCSAP_FLUX__cwt_coefficients__coeff_12__w_10__widths_(2, 5, 10, 20)</th>\n",
       "      <td>PDCSAP_FLUX__cwt_coefficients__coeff_12__w_10_...</td>\n",
       "      <td>real</td>\n",
       "      <td>0.995719</td>\n",
       "      <td>False</td>\n",
       "    </tr>\n",
       "    <tr>\n",
       "      <th>PDCSAP_FLUX__cwt_coefficients__coeff_13__w_20__widths_(2, 5, 10, 20)</th>\n",
       "      <td>PDCSAP_FLUX__cwt_coefficients__coeff_13__w_20_...</td>\n",
       "      <td>real</td>\n",
       "      <td>0.996357</td>\n",
       "      <td>False</td>\n",
       "    </tr>\n",
       "    <tr>\n",
       "      <th>PDCSAP_FLUX__quantile__q_0.2</th>\n",
       "      <td>PDCSAP_FLUX__quantile__q_0.2</td>\n",
       "      <td>real</td>\n",
       "      <td>0.999602</td>\n",
       "      <td>False</td>\n",
       "    </tr>\n",
       "    <tr>\n",
       "      <th>PDCSAP_FLUX__cwt_coefficients__coeff_14__w_20__widths_(2, 5, 10, 20)</th>\n",
       "      <td>PDCSAP_FLUX__cwt_coefficients__coeff_14__w_20_...</td>\n",
       "      <td>real</td>\n",
       "      <td>0.999859</td>\n",
       "      <td>False</td>\n",
       "    </tr>\n",
       "    <tr>\n",
       "      <th>PDCSAP_FLUX__symmetry_looking__r_0.2</th>\n",
       "      <td>PDCSAP_FLUX__symmetry_looking__r_0.2</td>\n",
       "      <td>binary</td>\n",
       "      <td>1.000000</td>\n",
       "      <td>False</td>\n",
       "    </tr>\n",
       "  </tbody>\n",
       "</table>\n",
       "<p>425 rows × 4 columns</p>\n",
       "</div>"
      ],
      "text/plain": [
       "                                                                                              feature  \\\n",
       "feature                                                                                                 \n",
       "PDCSAP_FLUX__change_quantiles__f_agg_\"mean\"__is...  PDCSAP_FLUX__change_quantiles__f_agg_\"mean\"__i...   \n",
       "PDCSAP_FLUX__change_quantiles__f_agg_\"mean\"__is...  PDCSAP_FLUX__change_quantiles__f_agg_\"mean\"__i...   \n",
       "PDCSAP_FLUX__fft_coefficient__attr_\"imag\"__coef...  PDCSAP_FLUX__fft_coefficient__attr_\"imag\"__coe...   \n",
       "PDCSAP_FLUX__fft_coefficient__attr_\"real\"__coef...  PDCSAP_FLUX__fft_coefficient__attr_\"real\"__coe...   \n",
       "PDCSAP_FLUX__fft_coefficient__attr_\"imag\"__coef...  PDCSAP_FLUX__fft_coefficient__attr_\"imag\"__coe...   \n",
       "...                                                                                               ...   \n",
       "PDCSAP_FLUX__cwt_coefficients__coeff_12__w_10__...  PDCSAP_FLUX__cwt_coefficients__coeff_12__w_10_...   \n",
       "PDCSAP_FLUX__cwt_coefficients__coeff_13__w_20__...  PDCSAP_FLUX__cwt_coefficients__coeff_13__w_20_...   \n",
       "PDCSAP_FLUX__quantile__q_0.2                                             PDCSAP_FLUX__quantile__q_0.2   \n",
       "PDCSAP_FLUX__cwt_coefficients__coeff_14__w_20__...  PDCSAP_FLUX__cwt_coefficients__coeff_14__w_20_...   \n",
       "PDCSAP_FLUX__symmetry_looking__r_0.2                             PDCSAP_FLUX__symmetry_looking__r_0.2   \n",
       "\n",
       "                                                      type   p_value  relevant  \n",
       "feature                                                                         \n",
       "PDCSAP_FLUX__change_quantiles__f_agg_\"mean\"__is...    real  0.002998     False  \n",
       "PDCSAP_FLUX__change_quantiles__f_agg_\"mean\"__is...    real  0.003012     False  \n",
       "PDCSAP_FLUX__fft_coefficient__attr_\"imag\"__coef...    real  0.003167     False  \n",
       "PDCSAP_FLUX__fft_coefficient__attr_\"real\"__coef...    real  0.003172     False  \n",
       "PDCSAP_FLUX__fft_coefficient__attr_\"imag\"__coef...    real  0.003462     False  \n",
       "...                                                    ...       ...       ...  \n",
       "PDCSAP_FLUX__cwt_coefficients__coeff_12__w_10__...    real  0.995719     False  \n",
       "PDCSAP_FLUX__cwt_coefficients__coeff_13__w_20__...    real  0.996357     False  \n",
       "PDCSAP_FLUX__quantile__q_0.2                          real  0.999602     False  \n",
       "PDCSAP_FLUX__cwt_coefficients__coeff_14__w_20__...    real  0.999859     False  \n",
       "PDCSAP_FLUX__symmetry_looking__r_0.2                binary  1.000000     False  \n",
       "\n",
       "[425 rows x 4 columns]"
      ]
     },
     "execution_count": 65,
     "metadata": {},
     "output_type": "execute_result"
    }
   ],
   "source": [
    "relevance_table[relevance_table['relevant'] == False]"
   ]
  },
  {
   "cell_type": "code",
   "execution_count": 67,
   "metadata": {},
   "outputs": [],
   "source": [
    "relevance_table[relevance_table['relevant'] == False][['feature']].to_csv('/home/idies/workspace/Storage/s.hossain18/Permanent/unrelevant_features.csv', index=False)"
   ]
  },
  {
   "cell_type": "code",
   "execution_count": null,
   "metadata": {},
   "outputs": [],
   "source": []
  }
 ],
 "metadata": {
  "kernelspec": {
   "display_name": "Python 3.8 (py38)",
   "language": "python",
   "name": "py38"
  },
  "language_info": {
   "codemirror_mode": {
    "name": "ipython",
    "version": 3
   },
   "file_extension": ".py",
   "mimetype": "text/x-python",
   "name": "python",
   "nbconvert_exporter": "python",
   "pygments_lexer": "ipython3",
   "version": "3.8.5"
  }
 },
 "nbformat": 4,
 "nbformat_minor": 4
}

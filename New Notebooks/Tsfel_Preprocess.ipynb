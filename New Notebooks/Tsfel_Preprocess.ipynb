{
 "cells": [
  {
   "cell_type": "code",
   "execution_count": 2,
   "metadata": {
    "colab": {
     "base_uri": "https://localhost:8080/"
    },
    "execution": {
     "iopub.execute_input": "2023-05-16T08:34:54.653119Z",
     "iopub.status.busy": "2023-05-16T08:34:54.650438Z",
     "iopub.status.idle": "2023-05-16T08:34:54.663312Z",
     "shell.execute_reply": "2023-05-16T08:34:54.661250Z",
     "shell.execute_reply.started": "2023-05-16T08:34:54.652988Z"
    },
    "id": "J86rp92D6ScX",
    "outputId": "601641f2-33c6-433f-bf9b-390687e34501",
    "tags": []
   },
   "outputs": [],
   "source": [
    "#!cd /content/data-extract && git pull"
   ]
  },
  {
   "cell_type": "code",
   "execution_count": 1,
   "metadata": {
    "execution": {
     "iopub.execute_input": "2023-05-16T09:23:39.481515Z",
     "iopub.status.busy": "2023-05-16T09:23:39.479757Z",
     "iopub.status.idle": "2023-05-16T09:23:56.388821Z",
     "shell.execute_reply": "2023-05-16T09:23:56.381935Z",
     "shell.execute_reply.started": "2023-05-16T09:23:39.481263Z"
    },
    "tags": []
   },
   "outputs": [
    {
     "name": "stdout",
     "output_type": "stream",
     "text": [
      "Collecting astropy\n",
      "  Downloading astropy-5.2.2-cp39-cp39-manylinux_2_12_x86_64.manylinux2010_x86_64.whl (11.2 MB)\n",
      "\u001b[2K     \u001b[90m━━━━━━━━━━━━━━━━━━━━━━━━━━━━━━━━━━━━━━━━\u001b[0m \u001b[32m11.2/11.2 MB\u001b[0m \u001b[31m16.2 MB/s\u001b[0m eta \u001b[36m0:00:00\u001b[0m00:01\u001b[0m00:01\u001b[0m\n",
      "\u001b[?25hRequirement already satisfied: PyYAML>=3.13 in /home/idies/mambaforge/envs/py39/lib/python3.9/site-packages (from astropy) (6.0)\n",
      "Requirement already satisfied: packaging>=19.0 in /home/idies/mambaforge/envs/py39/lib/python3.9/site-packages (from astropy) (21.3)\n",
      "Collecting pyerfa>=2.0\n",
      "  Downloading pyerfa-2.0.0.3-cp39-cp39-manylinux_2_17_x86_64.manylinux2014_x86_64.whl (741 kB)\n",
      "\u001b[2K     \u001b[90m━━━━━━━━━━━━━━━━━━━━━━━━━━━━━━━━━━━━━━\u001b[0m \u001b[32m741.1/741.1 kB\u001b[0m \u001b[31m16.4 MB/s\u001b[0m eta \u001b[36m0:00:00\u001b[0m00:01\u001b[0m\n",
      "\u001b[?25hRequirement already satisfied: numpy>=1.20 in /home/idies/mambaforge/envs/py39/lib/python3.9/site-packages (from astropy) (1.23.4)\n",
      "Requirement already satisfied: pyparsing!=3.0.5,>=2.0.2 in /home/idies/mambaforge/envs/py39/lib/python3.9/site-packages (from packaging>=19.0->astropy) (3.0.9)\n",
      "Installing collected packages: pyerfa, astropy\n",
      "Successfully installed astropy-5.2.2 pyerfa-2.0.0.3\n"
     ]
    }
   ],
   "source": [
    "import sys\n",
    "!{sys.executable} -m pip install astropy"
   ]
  },
  {
   "cell_type": "code",
   "execution_count": null,
   "metadata": {
    "id": "NLMOsjSTgvO4"
   },
   "outputs": [],
   "source": [
    "#!git clone https://gitlab.com/mirsakhawathossain/data-extract.git"
   ]
  },
  {
   "cell_type": "code",
   "execution_count": 2,
   "metadata": {
    "colab": {
     "base_uri": "https://localhost:8080/"
    },
    "execution": {
     "iopub.execute_input": "2023-05-16T09:23:56.394106Z",
     "iopub.status.busy": "2023-05-16T09:23:56.392947Z",
     "iopub.status.idle": "2023-05-16T09:24:37.085759Z",
     "shell.execute_reply": "2023-05-16T09:24:37.082529Z",
     "shell.execute_reply.started": "2023-05-16T09:23:56.394019Z"
    },
    "id": "KXSvIX7-Xnjf",
    "outputId": "a3443aaf-27d8-488c-80f6-5cdb463c7287",
    "tags": []
   },
   "outputs": [
    {
     "name": "stdout",
     "output_type": "stream",
     "text": [
      "Collecting tsfel\n",
      "  Downloading tsfel-0.1.5-py3-none-any.whl (46 kB)\n",
      "\u001b[2K     \u001b[90m━━━━━━━━━━━━━━━━━━━━━━━━━━━━━━━━━━━━━━━━\u001b[0m \u001b[32m46.9/46.9 kB\u001b[0m \u001b[31m4.5 MB/s\u001b[0m eta \u001b[36m0:00:00\u001b[0m\n",
      "\u001b[?25hRequirement already satisfied: ipython>=7.4.0 in /home/idies/mambaforge/envs/py39/lib/python3.9/site-packages (from tsfel) (8.6.0)\n",
      "Requirement already satisfied: numpy>=1.18.5 in /home/idies/mambaforge/envs/py39/lib/python3.9/site-packages (from tsfel) (1.23.4)\n",
      "Collecting oauth2client>=4.1.3\n",
      "  Downloading oauth2client-4.1.3-py2.py3-none-any.whl (98 kB)\n",
      "\u001b[2K     \u001b[90m━━━━━━━━━━━━━━━━━━━━━━━━━━━━━━━━━━━━━━━━\u001b[0m \u001b[32m98.2/98.2 kB\u001b[0m \u001b[31m7.4 MB/s\u001b[0m eta \u001b[36m0:00:00\u001b[0m\n",
      "\u001b[?25hCollecting gspread>=3.1.0\n",
      "  Downloading gspread-5.9.0-py3-none-any.whl (40 kB)\n",
      "\u001b[2K     \u001b[90m━━━━━━━━━━━━━━━━━━━━━━━━━━━━━━━━━━━━━━━━\u001b[0m \u001b[32m41.0/41.0 kB\u001b[0m \u001b[31m3.9 MB/s\u001b[0m eta \u001b[36m0:00:00\u001b[0m\n",
      "\u001b[?25hRequirement already satisfied: scipy>=1.7.3 in /home/idies/mambaforge/envs/py39/lib/python3.9/site-packages (from tsfel) (1.9.3)\n",
      "Requirement already satisfied: setuptools>=47.1.1 in /home/idies/mambaforge/envs/py39/lib/python3.9/site-packages (from tsfel) (65.5.1)\n",
      "Collecting pandas>=1.5.3\n",
      "  Downloading pandas-2.0.1-cp39-cp39-manylinux_2_17_x86_64.manylinux2014_x86_64.whl (12.4 MB)\n",
      "\u001b[2K     \u001b[90m━━━━━━━━━━━━━━━━━━━━━━━━━━━━━━━━━━━━━━━━\u001b[0m \u001b[32m12.4/12.4 MB\u001b[0m \u001b[31m12.2 MB/s\u001b[0m eta \u001b[36m0:00:00\u001b[0m00:01\u001b[0m00:01\u001b[0m\n",
      "\u001b[?25hCollecting Sphinx>=1.8.5\n",
      "  Downloading sphinx-7.0.1-py3-none-any.whl (3.0 MB)\n",
      "\u001b[2K     \u001b[90m━━━━━━━━━━━━━━━━━━━━━━━━━━━━━━━━━━━━━━━━\u001b[0m \u001b[32m3.0/3.0 MB\u001b[0m \u001b[31m27.8 MB/s\u001b[0m eta \u001b[36m0:00:00\u001b[0m00:01\u001b[0m00:01\u001b[0m\n",
      "\u001b[?25hRequirement already satisfied: google-auth>=1.12.0 in /home/idies/mambaforge/envs/py39/lib/python3.9/site-packages (from gspread>=3.1.0->tsfel) (2.14.1)\n",
      "Requirement already satisfied: google-auth-oauthlib>=0.4.1 in /home/idies/mambaforge/envs/py39/lib/python3.9/site-packages (from gspread>=3.1.0->tsfel) (0.4.6)\n",
      "Requirement already satisfied: jedi>=0.16 in /home/idies/mambaforge/envs/py39/lib/python3.9/site-packages (from ipython>=7.4.0->tsfel) (0.18.1)\n",
      "Requirement already satisfied: pickleshare in /home/idies/mambaforge/envs/py39/lib/python3.9/site-packages (from ipython>=7.4.0->tsfel) (0.7.5)\n",
      "Requirement already satisfied: pygments>=2.4.0 in /home/idies/mambaforge/envs/py39/lib/python3.9/site-packages (from ipython>=7.4.0->tsfel) (2.13.0)\n",
      "Requirement already satisfied: matplotlib-inline in /home/idies/mambaforge/envs/py39/lib/python3.9/site-packages (from ipython>=7.4.0->tsfel) (0.1.6)\n",
      "Requirement already satisfied: pexpect>4.3 in /home/idies/mambaforge/envs/py39/lib/python3.9/site-packages (from ipython>=7.4.0->tsfel) (4.8.0)\n",
      "Requirement already satisfied: backcall in /home/idies/mambaforge/envs/py39/lib/python3.9/site-packages (from ipython>=7.4.0->tsfel) (0.2.0)\n",
      "Requirement already satisfied: decorator in /home/idies/mambaforge/envs/py39/lib/python3.9/site-packages (from ipython>=7.4.0->tsfel) (5.1.1)\n",
      "Requirement already satisfied: stack-data in /home/idies/mambaforge/envs/py39/lib/python3.9/site-packages (from ipython>=7.4.0->tsfel) (0.6.1)\n",
      "Requirement already satisfied: traitlets>=5 in /home/idies/mambaforge/envs/py39/lib/python3.9/site-packages (from ipython>=7.4.0->tsfel) (5.5.0)\n",
      "Requirement already satisfied: prompt-toolkit<3.1.0,>3.0.1 in /home/idies/mambaforge/envs/py39/lib/python3.9/site-packages (from ipython>=7.4.0->tsfel) (3.0.32)\n",
      "Collecting httplib2>=0.9.1\n",
      "  Downloading httplib2-0.22.0-py3-none-any.whl (96 kB)\n",
      "\u001b[2K     \u001b[90m━━━━━━━━━━━━━━━━━━━━━━━━━━━━━━━━━━━━━━━━\u001b[0m \u001b[32m96.9/96.9 kB\u001b[0m \u001b[31m7.1 MB/s\u001b[0m eta \u001b[36m0:00:00\u001b[0m\n",
      "\u001b[?25hRequirement already satisfied: pyasn1-modules>=0.0.5 in /home/idies/mambaforge/envs/py39/lib/python3.9/site-packages (from oauth2client>=4.1.3->tsfel) (0.2.8)\n",
      "Requirement already satisfied: six>=1.6.1 in /home/idies/mambaforge/envs/py39/lib/python3.9/site-packages (from oauth2client>=4.1.3->tsfel) (1.16.0)\n",
      "Requirement already satisfied: rsa>=3.1.4 in /home/idies/mambaforge/envs/py39/lib/python3.9/site-packages (from oauth2client>=4.1.3->tsfel) (4.9)\n",
      "Requirement already satisfied: pyasn1>=0.1.7 in /home/idies/mambaforge/envs/py39/lib/python3.9/site-packages (from oauth2client>=4.1.3->tsfel) (0.4.8)\n",
      "Requirement already satisfied: python-dateutil>=2.8.2 in /home/idies/mambaforge/envs/py39/lib/python3.9/site-packages (from pandas>=1.5.3->tsfel) (2.8.2)\n",
      "Collecting tzdata>=2022.1\n",
      "  Downloading tzdata-2023.3-py2.py3-none-any.whl (341 kB)\n",
      "\u001b[2K     \u001b[90m━━━━━━━━━━━━━━━━━━━━━━━━━━━━━━━━━━━━━━\u001b[0m \u001b[32m341.8/341.8 kB\u001b[0m \u001b[31m11.1 MB/s\u001b[0m eta \u001b[36m0:00:00\u001b[0m\n",
      "\u001b[?25hRequirement already satisfied: pytz>=2020.1 in /home/idies/mambaforge/envs/py39/lib/python3.9/site-packages (from pandas>=1.5.3->tsfel) (2022.6)\n",
      "Requirement already satisfied: babel>=2.9 in /home/idies/mambaforge/envs/py39/lib/python3.9/site-packages (from Sphinx>=1.8.5->tsfel) (2.11.0)\n",
      "Collecting docutils<0.21,>=0.18.1\n",
      "  Downloading docutils-0.20-py3-none-any.whl (577 kB)\n",
      "\u001b[2K     \u001b[90m━━━━━━━━━━━━━━━━━━━━━━━━━━━━━━━━━━━━━━\u001b[0m \u001b[32m577.9/577.9 kB\u001b[0m \u001b[31m17.4 MB/s\u001b[0m eta \u001b[36m0:00:00\u001b[0m\n",
      "\u001b[?25hCollecting sphinxcontrib-applehelp\n",
      "  Downloading sphinxcontrib_applehelp-1.0.4-py3-none-any.whl (120 kB)\n",
      "\u001b[2K     \u001b[90m━━━━━━━━━━━━━━━━━━━━━━━━━━━━━━━━━━━━━━━\u001b[0m \u001b[32m120.6/120.6 kB\u001b[0m \u001b[31m5.2 MB/s\u001b[0m eta \u001b[36m0:00:00\u001b[0m\n",
      "\u001b[?25hCollecting sphinxcontrib-qthelp\n",
      "  Downloading sphinxcontrib_qthelp-1.0.3-py2.py3-none-any.whl (90 kB)\n",
      "\u001b[2K     \u001b[90m━━━━━━━━━━━━━━━━━━━━━━━━━━━━━━━━━━━━━━━━\u001b[0m \u001b[32m90.6/90.6 kB\u001b[0m \u001b[31m9.3 MB/s\u001b[0m eta \u001b[36m0:00:00\u001b[0m\n",
      "\u001b[?25hCollecting sphinxcontrib-devhelp\n",
      "  Downloading sphinxcontrib_devhelp-1.0.2-py2.py3-none-any.whl (84 kB)\n",
      "\u001b[2K     \u001b[90m━━━━━━━━━━━━━━━━━━━━━━━━━━━━━━━━━━━━━━━━\u001b[0m \u001b[32m84.7/84.7 kB\u001b[0m \u001b[31m9.3 MB/s\u001b[0m eta \u001b[36m0:00:00\u001b[0m\n",
      "\u001b[?25hCollecting alabaster<0.8,>=0.7\n",
      "  Downloading alabaster-0.7.13-py3-none-any.whl (13 kB)\n",
      "Collecting imagesize>=1.3\n",
      "  Downloading imagesize-1.4.1-py2.py3-none-any.whl (8.8 kB)\n",
      "Requirement already satisfied: packaging>=21.0 in /home/idies/mambaforge/envs/py39/lib/python3.9/site-packages (from Sphinx>=1.8.5->tsfel) (21.3)\n",
      "Collecting sphinxcontrib-htmlhelp>=2.0.0\n",
      "  Downloading sphinxcontrib_htmlhelp-2.0.1-py3-none-any.whl (99 kB)\n",
      "\u001b[2K     \u001b[90m━━━━━━━━━━━━━━━━━━━━━━━━━━━━━━━━━━━━━━━━\u001b[0m \u001b[32m99.8/99.8 kB\u001b[0m \u001b[31m10.4 MB/s\u001b[0m eta \u001b[36m0:00:00\u001b[0m\n",
      "\u001b[?25hCollecting sphinxcontrib-jsmath\n",
      "  Downloading sphinxcontrib_jsmath-1.0.1-py2.py3-none-any.whl (5.1 kB)\n",
      "Collecting snowballstemmer>=2.0\n",
      "  Downloading snowballstemmer-2.2.0-py2.py3-none-any.whl (93 kB)\n",
      "\u001b[2K     \u001b[90m━━━━━━━━━━━━━━━━━━━━━━━━━━━━━━━━━━━━━━━━\u001b[0m \u001b[32m93.0/93.0 kB\u001b[0m \u001b[31m9.9 MB/s\u001b[0m eta \u001b[36m0:00:00\u001b[0m\n",
      "\u001b[?25hCollecting sphinxcontrib-serializinghtml>=1.1.5\n",
      "  Downloading sphinxcontrib_serializinghtml-1.1.5-py2.py3-none-any.whl (94 kB)\n",
      "\u001b[2K     \u001b[90m━━━━━━━━━━━━━━━━━━━━━━━━━━━━━━━━━━━━━━━━\u001b[0m \u001b[32m94.0/94.0 kB\u001b[0m \u001b[31m4.3 MB/s\u001b[0m eta \u001b[36m0:00:00\u001b[0m\n",
      "\u001b[?25hRequirement already satisfied: Jinja2>=3.0 in /home/idies/mambaforge/envs/py39/lib/python3.9/site-packages (from Sphinx>=1.8.5->tsfel) (3.1.2)\n",
      "Requirement already satisfied: importlib-metadata>=4.8 in /home/idies/mambaforge/envs/py39/lib/python3.9/site-packages (from Sphinx>=1.8.5->tsfel) (5.0.0)\n",
      "Requirement already satisfied: requests>=2.25.0 in /home/idies/mambaforge/envs/py39/lib/python3.9/site-packages (from Sphinx>=1.8.5->tsfel) (2.28.1)\n",
      "Requirement already satisfied: cachetools<6.0,>=2.0.0 in /home/idies/mambaforge/envs/py39/lib/python3.9/site-packages (from google-auth>=1.12.0->gspread>=3.1.0->tsfel) (5.2.0)\n",
      "Requirement already satisfied: requests-oauthlib>=0.7.0 in /home/idies/mambaforge/envs/py39/lib/python3.9/site-packages (from google-auth-oauthlib>=0.4.1->gspread>=3.1.0->tsfel) (1.3.1)\n",
      "Requirement already satisfied: pyparsing!=3.0.0,!=3.0.1,!=3.0.2,!=3.0.3,<4,>=2.4.2 in /home/idies/mambaforge/envs/py39/lib/python3.9/site-packages (from httplib2>=0.9.1->oauth2client>=4.1.3->tsfel) (3.0.9)\n",
      "Requirement already satisfied: zipp>=0.5 in /home/idies/mambaforge/envs/py39/lib/python3.9/site-packages (from importlib-metadata>=4.8->Sphinx>=1.8.5->tsfel) (3.10.0)\n",
      "Requirement already satisfied: parso<0.9.0,>=0.8.0 in /home/idies/mambaforge/envs/py39/lib/python3.9/site-packages (from jedi>=0.16->ipython>=7.4.0->tsfel) (0.8.3)\n",
      "Requirement already satisfied: MarkupSafe>=2.0 in /home/idies/mambaforge/envs/py39/lib/python3.9/site-packages (from Jinja2>=3.0->Sphinx>=1.8.5->tsfel) (2.1.1)\n",
      "Requirement already satisfied: ptyprocess>=0.5 in /home/idies/mambaforge/envs/py39/lib/python3.9/site-packages (from pexpect>4.3->ipython>=7.4.0->tsfel) (0.7.0)\n",
      "Requirement already satisfied: wcwidth in /home/idies/mambaforge/envs/py39/lib/python3.9/site-packages (from prompt-toolkit<3.1.0,>3.0.1->ipython>=7.4.0->tsfel) (0.2.5)\n",
      "Requirement already satisfied: urllib3<1.27,>=1.21.1 in /home/idies/mambaforge/envs/py39/lib/python3.9/site-packages (from requests>=2.25.0->Sphinx>=1.8.5->tsfel) (1.26.11)\n",
      "Requirement already satisfied: charset-normalizer<3,>=2 in /home/idies/mambaforge/envs/py39/lib/python3.9/site-packages (from requests>=2.25.0->Sphinx>=1.8.5->tsfel) (2.1.1)\n",
      "Requirement already satisfied: idna<4,>=2.5 in /home/idies/mambaforge/envs/py39/lib/python3.9/site-packages (from requests>=2.25.0->Sphinx>=1.8.5->tsfel) (3.4)\n",
      "Requirement already satisfied: certifi>=2017.4.17 in /home/idies/mambaforge/envs/py39/lib/python3.9/site-packages (from requests>=2.25.0->Sphinx>=1.8.5->tsfel) (2022.12.7)\n",
      "Requirement already satisfied: asttokens>=2.1.0 in /home/idies/mambaforge/envs/py39/lib/python3.9/site-packages (from stack-data->ipython>=7.4.0->tsfel) (2.1.0)\n",
      "Requirement already satisfied: executing>=1.2.0 in /home/idies/mambaforge/envs/py39/lib/python3.9/site-packages (from stack-data->ipython>=7.4.0->tsfel) (1.2.0)\n",
      "Requirement already satisfied: pure-eval in /home/idies/mambaforge/envs/py39/lib/python3.9/site-packages (from stack-data->ipython>=7.4.0->tsfel) (0.2.2)\n",
      "Requirement already satisfied: oauthlib>=3.0.0 in /home/idies/mambaforge/envs/py39/lib/python3.9/site-packages (from requests-oauthlib>=0.7.0->google-auth-oauthlib>=0.4.1->gspread>=3.1.0->tsfel) (3.2.2)\n",
      "Installing collected packages: snowballstemmer, tzdata, sphinxcontrib-serializinghtml, sphinxcontrib-qthelp, sphinxcontrib-jsmath, sphinxcontrib-htmlhelp, sphinxcontrib-devhelp, sphinxcontrib-applehelp, imagesize, httplib2, docutils, alabaster, Sphinx, pandas, oauth2client, gspread, tsfel\n",
      "  Attempting uninstall: pandas\n",
      "    Found existing installation: pandas 1.5.1\n",
      "    Uninstalling pandas-1.5.1:\n",
      "      Successfully uninstalled pandas-1.5.1\n",
      "\u001b[31mERROR: pip's dependency resolver does not currently take into account all the packages that are installed. This behaviour is the source of the following dependency conflicts.\n",
      "bqplot 0.12.36 requires pandas<2.0.0,>=1.0.0, but you have pandas 2.0.1 which is incompatible.\u001b[0m\u001b[31m\n",
      "\u001b[0mSuccessfully installed Sphinx-7.0.1 alabaster-0.7.13 docutils-0.20 gspread-5.9.0 httplib2-0.22.0 imagesize-1.4.1 oauth2client-4.1.3 pandas-2.0.1 snowballstemmer-2.2.0 sphinxcontrib-applehelp-1.0.4 sphinxcontrib-devhelp-1.0.2 sphinxcontrib-htmlhelp-2.0.1 sphinxcontrib-jsmath-1.0.1 sphinxcontrib-qthelp-1.0.3 sphinxcontrib-serializinghtml-1.1.5 tsfel-0.1.5 tzdata-2023.3\n"
     ]
    }
   ],
   "source": [
    "import sys\n",
    "!{sys.executable} -m pip install tsfel"
   ]
  },
  {
   "cell_type": "code",
   "execution_count": null,
   "metadata": {
    "id": "t0pJ7oRLdFLg"
   },
   "outputs": [],
   "source": [
    "#for f in import_filenames:\n",
    "#    read = Table.read(f, format='ascii.ipac')\n",
    "#    data = read.to_pandas()\n",
    "#    for i in range(0,data['set'].max()+1):\n",
    "#      data['TIME'] = data['TIME'] + 2454833\n",
    "#      data['TIME'] = Time(data['TIME'].values, format='jd', scale='utc').datetime\n",
    "#      data['TIME'] = data['TIME'].apply(lambda x: x.timestamp())\n",
    "#      time_diff = data['TIME'].diff().mean()\n",
    "#      sampling_freq = 1 / time_diff\n",
    "#      newdf = data[data.set==i].drop(columns=['set'])\n",
    "#      feature = tsfel.time_series_features_extractor(cfg_file, newdf, fs=sampling_freq)\n",
    "#      dataframe = pd.concat([data,feature],ignore_index=True, sort=False)\n",
    "#dataframe.to_csv('ts_kepler_1.csv', index=False)     "
   ]
  },
  {
   "cell_type": "code",
   "execution_count": 3,
   "metadata": {
    "execution": {
     "iopub.execute_input": "2023-05-16T09:24:37.091872Z",
     "iopub.status.busy": "2023-05-16T09:24:37.091096Z",
     "iopub.status.idle": "2023-05-16T09:24:43.553843Z",
     "shell.execute_reply": "2023-05-16T09:24:43.551179Z",
     "shell.execute_reply.started": "2023-05-16T09:24:37.091786Z"
    },
    "id": "wA6b-pBAn2KX",
    "tags": []
   },
   "outputs": [],
   "source": [
    "import os\n",
    "import glob\n",
    "from astropy.table import Table\n",
    "from astropy.time import Time\n",
    "import pandas as pd\n",
    "import tsfel"
   ]
  },
  {
   "cell_type": "code",
   "execution_count": 7,
   "metadata": {
    "execution": {
     "iopub.execute_input": "2023-05-16T09:24:53.041728Z",
     "iopub.status.busy": "2023-05-16T09:24:53.040900Z",
     "iopub.status.idle": "2023-05-16T09:24:53.051530Z",
     "shell.execute_reply": "2023-05-16T09:24:53.049805Z",
     "shell.execute_reply.started": "2023-05-16T09:24:53.041658Z"
    },
    "id": "j7xV-sdzoogg",
    "tags": []
   },
   "outputs": [],
   "source": [
    " # Set the working directory\n",
    "os.chdir(\"/home/idies/workspace/Temporary/s.hossain18/scratch/data-extract/data\")"
   ]
  },
  {
   "cell_type": "code",
   "execution_count": 5,
   "metadata": {
    "execution": {
     "iopub.execute_input": "2023-05-16T09:24:43.577619Z",
     "iopub.status.busy": "2023-05-16T09:24:43.577019Z",
     "iopub.status.idle": "2023-05-16T09:24:43.589010Z",
     "shell.execute_reply": "2023-05-16T09:24:43.587033Z",
     "shell.execute_reply.started": "2023-05-16T09:24:43.577561Z"
    },
    "id": "Ogz3wTWuotu5",
    "tags": []
   },
   "outputs": [],
   "source": [
    "# Find all files with a certain extension\n",
    "extension_1 = 'tbl'\n",
    "import_filenames = [i for i in glob.glob('*.{}'.format(extension_1))]"
   ]
  },
  {
   "cell_type": "code",
   "execution_count": 6,
   "metadata": {
    "execution": {
     "iopub.execute_input": "2023-05-16T09:24:43.591809Z",
     "iopub.status.busy": "2023-05-16T09:24:43.591167Z",
     "iopub.status.idle": "2023-05-16T09:24:43.601981Z",
     "shell.execute_reply": "2023-05-16T09:24:43.600030Z",
     "shell.execute_reply.started": "2023-05-16T09:24:43.591757Z"
    },
    "id": "52vR8dRto17X",
    "tags": []
   },
   "outputs": [],
   "source": [
    "cfg_file = tsfel.get_features_by_domain()\n",
    "\n",
    "dataframe_list = [] # Create an empty list to store dataframes"
   ]
  },
  {
   "cell_type": "code",
   "execution_count": null,
   "metadata": {
    "execution": {
     "iopub.execute_input": "2023-05-16T09:28:58.074924Z",
     "iopub.status.busy": "2023-05-16T09:28:58.073858Z"
    },
    "tags": []
   },
   "outputs": [
    {
     "name": "stdout",
     "output_type": "stream",
     "text": [
      "*** Feature extraction started ***\n",
      "60\n"
     ]
    },
    {
     "data": {
      "text/html": [
       "\n",
       "              <p>\n",
       "                  Progress: 100% Complete\n",
       "              <p/>            \n",
       "              <progress\n",
       "                  value='60'\n",
       "                  max='60',\n",
       "                  style='width: 25%',\n",
       "              >\n",
       "                  60\n",
       "              </progress>\n",
       "\n",
       "    "
      ],
      "text/plain": [
       "<IPython.core.display.HTML object>"
      ]
     },
     "metadata": {},
     "output_type": "display_data"
    },
    {
     "name": "stdout",
     "output_type": "stream",
     "text": [
      "\n",
      "*** Feature extraction finished ***\n",
      "*** Feature extraction started ***\n",
      "60\n"
     ]
    },
    {
     "data": {
      "text/html": [
       "\n",
       "              <p>\n",
       "                  Progress: 100% Complete\n",
       "              <p/>            \n",
       "              <progress\n",
       "                  value='60'\n",
       "                  max='60',\n",
       "                  style='width: 25%',\n",
       "              >\n",
       "                  60\n",
       "              </progress>\n",
       "\n",
       "    "
      ],
      "text/plain": [
       "<IPython.core.display.HTML object>"
      ]
     },
     "metadata": {},
     "output_type": "display_data"
    },
    {
     "name": "stdout",
     "output_type": "stream",
     "text": [
      "\n",
      "*** Feature extraction finished ***\n",
      "*** Feature extraction started ***\n",
      "60\n"
     ]
    },
    {
     "data": {
      "text/html": [
       "\n",
       "              <p>\n",
       "                  Progress: 100% Complete\n",
       "              <p/>            \n",
       "              <progress\n",
       "                  value='60'\n",
       "                  max='60',\n",
       "                  style='width: 25%',\n",
       "              >\n",
       "                  60\n",
       "              </progress>\n",
       "\n",
       "    "
      ],
      "text/plain": [
       "<IPython.core.display.HTML object>"
      ]
     },
     "metadata": {},
     "output_type": "display_data"
    },
    {
     "name": "stdout",
     "output_type": "stream",
     "text": [
      "\n",
      "*** Feature extraction finished ***\n",
      "*** Feature extraction started ***\n",
      "60\n"
     ]
    },
    {
     "data": {
      "text/html": [
       "\n",
       "              <p>\n",
       "                  Progress: 100% Complete\n",
       "              <p/>            \n",
       "              <progress\n",
       "                  value='60'\n",
       "                  max='60',\n",
       "                  style='width: 25%',\n",
       "              >\n",
       "                  60\n",
       "              </progress>\n",
       "\n",
       "    "
      ],
      "text/plain": [
       "<IPython.core.display.HTML object>"
      ]
     },
     "metadata": {},
     "output_type": "display_data"
    },
    {
     "name": "stdout",
     "output_type": "stream",
     "text": [
      "\n",
      "*** Feature extraction finished ***\n",
      "*** Feature extraction started ***\n",
      "60\n"
     ]
    },
    {
     "data": {
      "text/html": [
       "\n",
       "              <p>\n",
       "                  Progress: 100% Complete\n",
       "              <p/>            \n",
       "              <progress\n",
       "                  value='60'\n",
       "                  max='60',\n",
       "                  style='width: 25%',\n",
       "              >\n",
       "                  60\n",
       "              </progress>\n",
       "\n",
       "    "
      ],
      "text/plain": [
       "<IPython.core.display.HTML object>"
      ]
     },
     "metadata": {},
     "output_type": "display_data"
    },
    {
     "name": "stdout",
     "output_type": "stream",
     "text": [
      "\n",
      "*** Feature extraction finished ***\n",
      "*** Feature extraction started ***\n",
      "60\n"
     ]
    },
    {
     "data": {
      "text/html": [
       "\n",
       "              <p>\n",
       "                  Progress: 100% Complete\n",
       "              <p/>            \n",
       "              <progress\n",
       "                  value='60'\n",
       "                  max='60',\n",
       "                  style='width: 25%',\n",
       "              >\n",
       "                  60\n",
       "              </progress>\n",
       "\n",
       "    "
      ],
      "text/plain": [
       "<IPython.core.display.HTML object>"
      ]
     },
     "metadata": {},
     "output_type": "display_data"
    },
    {
     "name": "stdout",
     "output_type": "stream",
     "text": [
      "\n",
      "*** Feature extraction finished ***\n",
      "*** Feature extraction started ***\n",
      "60\n"
     ]
    },
    {
     "data": {
      "text/html": [
       "\n",
       "              <p>\n",
       "                  Progress: 100% Complete\n",
       "              <p/>            \n",
       "              <progress\n",
       "                  value='60'\n",
       "                  max='60',\n",
       "                  style='width: 25%',\n",
       "              >\n",
       "                  60\n",
       "              </progress>\n",
       "\n",
       "    "
      ],
      "text/plain": [
       "<IPython.core.display.HTML object>"
      ]
     },
     "metadata": {},
     "output_type": "display_data"
    },
    {
     "name": "stdout",
     "output_type": "stream",
     "text": [
      "\n",
      "*** Feature extraction finished ***\n",
      "*** Feature extraction started ***\n",
      "60\n"
     ]
    },
    {
     "data": {
      "text/html": [
       "\n",
       "              <p>\n",
       "                  Progress: 100% Complete\n",
       "              <p/>            \n",
       "              <progress\n",
       "                  value='60'\n",
       "                  max='60',\n",
       "                  style='width: 25%',\n",
       "              >\n",
       "                  60\n",
       "              </progress>\n",
       "\n",
       "    "
      ],
      "text/plain": [
       "<IPython.core.display.HTML object>"
      ]
     },
     "metadata": {},
     "output_type": "display_data"
    },
    {
     "name": "stdout",
     "output_type": "stream",
     "text": [
      "\n",
      "*** Feature extraction finished ***\n",
      "*** Feature extraction started ***\n",
      "60\n"
     ]
    },
    {
     "data": {
      "text/html": [
       "\n",
       "              <p>\n",
       "                  Progress: 71% Complete\n",
       "              <p/>            \n",
       "              <progress\n",
       "                  value='43'\n",
       "                  max='60',\n",
       "                  style='width: 25%',\n",
       "              >\n",
       "                  43\n",
       "              </progress>\n",
       "\n",
       "    "
      ],
      "text/plain": [
       "<IPython.core.display.HTML object>"
      ]
     },
     "metadata": {},
     "output_type": "display_data"
    }
   ],
   "source": [
    "for f in import_filenames:\n",
    "    read = Table.read(f, format='ascii.ipac')\n",
    "    data = read.to_pandas()\n",
    "    data['TIME'] = data['TIME'] + 2454833\n",
    "    data['TIME'] = Time(data['TIME'].values, format='jd', scale='utc').datetime\n",
    "    data['TIME'] = data['TIME'].apply(lambda x: x.timestamp()).astype('int64')\n",
    "    for i in range(0,data['set'].max()+1):\n",
    "        newdf = data[data.set==i].drop(columns=['set'])\n",
    "        time_diff = data['TIME'].diff().mean()\n",
    "        sampling_freq = 1 / time_diff\n",
    "        feature = tsfel.time_series_features_extractor(cfg_file, newdf, fs=sampling_freq,n_jobs=-1)\n",
    "        dataframe_list.append(feature) # Append each dataframe to the list\n"
   ]
  },
  {
   "cell_type": "code",
   "execution_count": null,
   "metadata": {
    "colab": {
     "base_uri": "https://localhost:8080/",
     "height": 1000
    },
    "execution": {
     "iopub.execute_input": "2023-05-16T08:36:52.713553Z",
     "iopub.status.busy": "2023-05-16T08:36:52.712282Z"
    },
    "id": "3wo1Bv-0o5co",
    "outputId": "7eb23352-f546-40e3-8d92-20793aa5a0e7"
   },
   "outputs": [
    {
     "name": "stdout",
     "output_type": "stream",
     "text": [
      "*** Feature extraction started ***\n",
      "60\n"
     ]
    },
    {
     "data": {
      "text/html": [
       "\n",
       "              <p>\n",
       "                  Progress: 100% Complete\n",
       "              <p/>            \n",
       "              <progress\n",
       "                  value='60'\n",
       "                  max='60',\n",
       "                  style='width: 25%',\n",
       "              >\n",
       "                  60\n",
       "              </progress>\n",
       "\n",
       "    "
      ],
      "text/plain": [
       "<IPython.core.display.HTML object>"
      ]
     },
     "metadata": {},
     "output_type": "display_data"
    },
    {
     "name": "stdout",
     "output_type": "stream",
     "text": [
      "\n",
      "*** Feature extraction finished ***\n",
      "*** Feature extraction started ***\n",
      "60\n"
     ]
    },
    {
     "data": {
      "text/html": [
       "\n",
       "              <p>\n",
       "                  Progress: 100% Complete\n",
       "              <p/>            \n",
       "              <progress\n",
       "                  value='60'\n",
       "                  max='60',\n",
       "                  style='width: 25%',\n",
       "              >\n",
       "                  60\n",
       "              </progress>\n",
       "\n",
       "    "
      ],
      "text/plain": [
       "<IPython.core.display.HTML object>"
      ]
     },
     "metadata": {},
     "output_type": "display_data"
    },
    {
     "name": "stdout",
     "output_type": "stream",
     "text": [
      "\n",
      "*** Feature extraction finished ***\n",
      "*** Feature extraction started ***\n",
      "60\n"
     ]
    },
    {
     "data": {
      "text/html": [
       "\n",
       "              <p>\n",
       "                  Progress: 100% Complete\n",
       "              <p/>            \n",
       "              <progress\n",
       "                  value='60'\n",
       "                  max='60',\n",
       "                  style='width: 25%',\n",
       "              >\n",
       "                  60\n",
       "              </progress>\n",
       "\n",
       "    "
      ],
      "text/plain": [
       "<IPython.core.display.HTML object>"
      ]
     },
     "metadata": {},
     "output_type": "display_data"
    },
    {
     "name": "stdout",
     "output_type": "stream",
     "text": [
      "\n",
      "*** Feature extraction finished ***\n",
      "*** Feature extraction started ***\n",
      "60\n"
     ]
    },
    {
     "data": {
      "text/html": [
       "\n",
       "              <p>\n",
       "                  Progress: 100% Complete\n",
       "              <p/>            \n",
       "              <progress\n",
       "                  value='60'\n",
       "                  max='60',\n",
       "                  style='width: 25%',\n",
       "              >\n",
       "                  60\n",
       "              </progress>\n",
       "\n",
       "    "
      ],
      "text/plain": [
       "<IPython.core.display.HTML object>"
      ]
     },
     "metadata": {},
     "output_type": "display_data"
    },
    {
     "name": "stdout",
     "output_type": "stream",
     "text": [
      "\n",
      "*** Feature extraction finished ***\n",
      "*** Feature extraction started ***\n",
      "60\n"
     ]
    },
    {
     "data": {
      "text/html": [
       "\n",
       "              <p>\n",
       "                  Progress: 100% Complete\n",
       "              <p/>            \n",
       "              <progress\n",
       "                  value='60'\n",
       "                  max='60',\n",
       "                  style='width: 25%',\n",
       "              >\n",
       "                  60\n",
       "              </progress>\n",
       "\n",
       "    "
      ],
      "text/plain": [
       "<IPython.core.display.HTML object>"
      ]
     },
     "metadata": {},
     "output_type": "display_data"
    },
    {
     "name": "stdout",
     "output_type": "stream",
     "text": [
      "\n",
      "*** Feature extraction finished ***\n",
      "*** Feature extraction started ***\n",
      "60\n"
     ]
    },
    {
     "data": {
      "text/html": [
       "\n",
       "              <p>\n",
       "                  Progress: 100% Complete\n",
       "              <p/>            \n",
       "              <progress\n",
       "                  value='60'\n",
       "                  max='60',\n",
       "                  style='width: 25%',\n",
       "              >\n",
       "                  60\n",
       "              </progress>\n",
       "\n",
       "    "
      ],
      "text/plain": [
       "<IPython.core.display.HTML object>"
      ]
     },
     "metadata": {},
     "output_type": "display_data"
    },
    {
     "name": "stdout",
     "output_type": "stream",
     "text": [
      "\n",
      "*** Feature extraction finished ***\n",
      "*** Feature extraction started ***\n",
      "60\n"
     ]
    },
    {
     "data": {
      "text/html": [
       "\n",
       "              <p>\n",
       "                  Progress: 100% Complete\n",
       "              <p/>            \n",
       "              <progress\n",
       "                  value='60'\n",
       "                  max='60',\n",
       "                  style='width: 25%',\n",
       "              >\n",
       "                  60\n",
       "              </progress>\n",
       "\n",
       "    "
      ],
      "text/plain": [
       "<IPython.core.display.HTML object>"
      ]
     },
     "metadata": {},
     "output_type": "display_data"
    },
    {
     "name": "stdout",
     "output_type": "stream",
     "text": [
      "\n",
      "*** Feature extraction finished ***\n",
      "*** Feature extraction started ***\n",
      "60\n"
     ]
    },
    {
     "data": {
      "text/html": [
       "\n",
       "              <p>\n",
       "                  Progress: 100% Complete\n",
       "              <p/>            \n",
       "              <progress\n",
       "                  value='60'\n",
       "                  max='60',\n",
       "                  style='width: 25%',\n",
       "              >\n",
       "                  60\n",
       "              </progress>\n",
       "\n",
       "    "
      ],
      "text/plain": [
       "<IPython.core.display.HTML object>"
      ]
     },
     "metadata": {},
     "output_type": "display_data"
    },
    {
     "name": "stdout",
     "output_type": "stream",
     "text": [
      "\n",
      "*** Feature extraction finished ***\n",
      "*** Feature extraction started ***\n",
      "60\n"
     ]
    },
    {
     "data": {
      "text/html": [
       "\n",
       "              <p>\n",
       "                  Progress: 100% Complete\n",
       "              <p/>            \n",
       "              <progress\n",
       "                  value='60'\n",
       "                  max='60',\n",
       "                  style='width: 25%',\n",
       "              >\n",
       "                  60\n",
       "              </progress>\n",
       "\n",
       "    "
      ],
      "text/plain": [
       "<IPython.core.display.HTML object>"
      ]
     },
     "metadata": {},
     "output_type": "display_data"
    },
    {
     "name": "stdout",
     "output_type": "stream",
     "text": [
      "\n",
      "*** Feature extraction finished ***\n",
      "*** Feature extraction started ***\n",
      "60\n"
     ]
    },
    {
     "data": {
      "text/html": [
       "\n",
       "              <p>\n",
       "                  Progress: 100% Complete\n",
       "              <p/>            \n",
       "              <progress\n",
       "                  value='60'\n",
       "                  max='60',\n",
       "                  style='width: 25%',\n",
       "              >\n",
       "                  60\n",
       "              </progress>\n",
       "\n",
       "    "
      ],
      "text/plain": [
       "<IPython.core.display.HTML object>"
      ]
     },
     "metadata": {},
     "output_type": "display_data"
    },
    {
     "name": "stdout",
     "output_type": "stream",
     "text": [
      "\n",
      "*** Feature extraction finished ***\n",
      "*** Feature extraction started ***\n",
      "60\n"
     ]
    },
    {
     "data": {
      "text/html": [
       "\n",
       "              <p>\n",
       "                  Progress: 100% Complete\n",
       "              <p/>            \n",
       "              <progress\n",
       "                  value='60'\n",
       "                  max='60',\n",
       "                  style='width: 25%',\n",
       "              >\n",
       "                  60\n",
       "              </progress>\n",
       "\n",
       "    "
      ],
      "text/plain": [
       "<IPython.core.display.HTML object>"
      ]
     },
     "metadata": {},
     "output_type": "display_data"
    },
    {
     "name": "stdout",
     "output_type": "stream",
     "text": [
      "\n",
      "*** Feature extraction finished ***\n",
      "*** Feature extraction started ***\n",
      "60\n"
     ]
    },
    {
     "data": {
      "text/html": [
       "\n",
       "              <p>\n",
       "                  Progress: 100% Complete\n",
       "              <p/>            \n",
       "              <progress\n",
       "                  value='60'\n",
       "                  max='60',\n",
       "                  style='width: 25%',\n",
       "              >\n",
       "                  60\n",
       "              </progress>\n",
       "\n",
       "    "
      ],
      "text/plain": [
       "<IPython.core.display.HTML object>"
      ]
     },
     "metadata": {},
     "output_type": "display_data"
    },
    {
     "name": "stdout",
     "output_type": "stream",
     "text": [
      "\n",
      "*** Feature extraction finished ***\n",
      "*** Feature extraction started ***\n",
      "60\n"
     ]
    },
    {
     "data": {
      "text/html": [
       "\n",
       "              <p>\n",
       "                  Progress: 100% Complete\n",
       "              <p/>            \n",
       "              <progress\n",
       "                  value='60'\n",
       "                  max='60',\n",
       "                  style='width: 25%',\n",
       "              >\n",
       "                  60\n",
       "              </progress>\n",
       "\n",
       "    "
      ],
      "text/plain": [
       "<IPython.core.display.HTML object>"
      ]
     },
     "metadata": {},
     "output_type": "display_data"
    },
    {
     "name": "stdout",
     "output_type": "stream",
     "text": [
      "\n",
      "*** Feature extraction finished ***\n",
      "*** Feature extraction started ***\n",
      "60\n"
     ]
    },
    {
     "data": {
      "text/html": [
       "\n",
       "              <p>\n",
       "                  Progress: 100% Complete\n",
       "              <p/>            \n",
       "              <progress\n",
       "                  value='60'\n",
       "                  max='60',\n",
       "                  style='width: 25%',\n",
       "              >\n",
       "                  60\n",
       "              </progress>\n",
       "\n",
       "    "
      ],
      "text/plain": [
       "<IPython.core.display.HTML object>"
      ]
     },
     "metadata": {},
     "output_type": "display_data"
    },
    {
     "name": "stdout",
     "output_type": "stream",
     "text": [
      "\n",
      "*** Feature extraction finished ***\n",
      "*** Feature extraction started ***\n",
      "60\n"
     ]
    },
    {
     "data": {
      "text/html": [
       "\n",
       "              <p>\n",
       "                  Progress: 100% Complete\n",
       "              <p/>            \n",
       "              <progress\n",
       "                  value='60'\n",
       "                  max='60',\n",
       "                  style='width: 25%',\n",
       "              >\n",
       "                  60\n",
       "              </progress>\n",
       "\n",
       "    "
      ],
      "text/plain": [
       "<IPython.core.display.HTML object>"
      ]
     },
     "metadata": {},
     "output_type": "display_data"
    },
    {
     "name": "stdout",
     "output_type": "stream",
     "text": [
      "\n",
      "*** Feature extraction finished ***\n",
      "*** Feature extraction started ***\n",
      "60\n"
     ]
    },
    {
     "data": {
      "text/html": [
       "\n",
       "              <p>\n",
       "                  Progress: 100% Complete\n",
       "              <p/>            \n",
       "              <progress\n",
       "                  value='60'\n",
       "                  max='60',\n",
       "                  style='width: 25%',\n",
       "              >\n",
       "                  60\n",
       "              </progress>\n",
       "\n",
       "    "
      ],
      "text/plain": [
       "<IPython.core.display.HTML object>"
      ]
     },
     "metadata": {},
     "output_type": "display_data"
    },
    {
     "name": "stdout",
     "output_type": "stream",
     "text": [
      "\n",
      "*** Feature extraction finished ***\n",
      "*** Feature extraction started ***\n",
      "60\n"
     ]
    },
    {
     "data": {
      "text/html": [
       "\n",
       "              <p>\n",
       "                  Progress: 100% Complete\n",
       "              <p/>            \n",
       "              <progress\n",
       "                  value='60'\n",
       "                  max='60',\n",
       "                  style='width: 25%',\n",
       "              >\n",
       "                  60\n",
       "              </progress>\n",
       "\n",
       "    "
      ],
      "text/plain": [
       "<IPython.core.display.HTML object>"
      ]
     },
     "metadata": {},
     "output_type": "display_data"
    },
    {
     "name": "stdout",
     "output_type": "stream",
     "text": [
      "\n",
      "*** Feature extraction finished ***\n",
      "*** Feature extraction started ***\n",
      "60\n"
     ]
    },
    {
     "data": {
      "text/html": [
       "\n",
       "              <p>\n",
       "                  Progress: 100% Complete\n",
       "              <p/>            \n",
       "              <progress\n",
       "                  value='60'\n",
       "                  max='60',\n",
       "                  style='width: 25%',\n",
       "              >\n",
       "                  60\n",
       "              </progress>\n",
       "\n",
       "    "
      ],
      "text/plain": [
       "<IPython.core.display.HTML object>"
      ]
     },
     "metadata": {},
     "output_type": "display_data"
    },
    {
     "name": "stdout",
     "output_type": "stream",
     "text": [
      "\n",
      "*** Feature extraction finished ***\n",
      "*** Feature extraction started ***\n",
      "60\n"
     ]
    },
    {
     "data": {
      "text/html": [
       "\n",
       "              <p>\n",
       "                  Progress: 6% Complete\n",
       "              <p/>            \n",
       "              <progress\n",
       "                  value='4'\n",
       "                  max='60',\n",
       "                  style='width: 25%',\n",
       "              >\n",
       "                  4\n",
       "              </progress>\n",
       "\n",
       "    "
      ],
      "text/plain": [
       "<IPython.core.display.HTML object>"
      ]
     },
     "metadata": {},
     "output_type": "display_data"
    }
   ],
   "source": [
    "# Concatenate all dataframes in the list\n",
    "dataframe = pd.concat(dataframe_list, ignore_index=True, sort=False)\n",
    "dataframe.drop_duplicates(keep=False, inplace=True)\n",
    "\n",
    "# Write the final dataframe to a CSV file\n",
    "dataframe.to_csv('/home/idies/workspace/Storage/s.hossain18/Permanent/Data/ts_kepler_4.csv', index=False)"
   ]
  },
  {
   "cell_type": "code",
   "execution_count": null,
   "metadata": {
    "id": "U1O4FAb33N-M"
   },
   "outputs": [],
   "source": []
  }
 ],
 "metadata": {
  "colab": {
   "provenance": []
  },
  "gpuClass": "standard",
  "kernelspec": {
   "display_name": "Python 3.9 (py39)",
   "language": "python",
   "name": "py39"
  },
  "language_info": {
   "codemirror_mode": {
    "name": "ipython",
    "version": 3
   },
   "file_extension": ".py",
   "mimetype": "text/x-python",
   "name": "python",
   "nbconvert_exporter": "python",
   "pygments_lexer": "ipython3",
   "version": "3.9.13"
  }
 },
 "nbformat": 4,
 "nbformat_minor": 4
}

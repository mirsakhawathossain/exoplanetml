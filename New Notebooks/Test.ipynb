{
 "cells": [
  {
   "cell_type": "code",
   "execution_count": 1,
   "metadata": {
    "execution": {
     "iopub.execute_input": "2023-05-20T07:32:54.969806Z",
     "iopub.status.busy": "2023-05-20T07:32:54.968791Z",
     "iopub.status.idle": "2023-05-20T07:32:55.994254Z",
     "shell.execute_reply": "2023-05-20T07:32:55.992066Z",
     "shell.execute_reply.started": "2023-05-20T07:32:54.969613Z"
    },
    "tags": []
   },
   "outputs": [],
   "source": [
    "import pandas as pd"
   ]
  },
  {
   "cell_type": "code",
   "execution_count": 1,
   "metadata": {},
   "outputs": [
    {
     "data": {
      "text/html": [
       "<table style=\"border: 2px solid white;\">\n",
       "<tr>\n",
       "<td style=\"vertical-align: top; border: 0px solid white\">\n",
       "<h3 style=\"text-align: left;\">Client</h3>\n",
       "<ul style=\"text-align: left; list-style: none; margin: 0; padding: 0;\">\n",
       "  <li><b>Scheduler: </b>tcp://127.0.0.1:37588</li>\n",
       "  <li><b>Dashboard: </b><a href='http://127.0.0.1:8787/status' target='_blank'>http://127.0.0.1:8787/status</a></li>\n",
       "</ul>\n",
       "</td>\n",
       "<td style=\"vertical-align: top; border: 0px solid white\">\n",
       "<h3 style=\"text-align: left;\">Cluster</h3>\n",
       "<ul style=\"text-align: left; list-style:none; margin: 0; padding: 0;\">\n",
       "  <li><b>Workers: </b>16</li>\n",
       "  <li><b>Cores: </b>16</li>\n",
       "  <li><b>Memory: </b>107.37 GB</li>\n",
       "</ul>\n",
       "</td>\n",
       "</tr>\n",
       "</table>"
      ],
      "text/plain": [
       "<Client: 'tcp://127.0.0.1:37588' processes=16 threads=16, memory=107.37 GB>"
      ]
     },
     "execution_count": 1,
     "metadata": {},
     "output_type": "execute_result"
    }
   ],
   "source": [
    "from dask.distributed import Client\n",
    "import joblib\n",
    "import os\n",
    "client = Client(n_workers=os.cpu_count())\n",
    "client"
   ]
  },
  {
   "cell_type": "code",
   "execution_count": null,
   "metadata": {},
   "outputs": [],
   "source": [
    "import dask.dataframe as dd\n",
    "\n",
    "df = dd.read_csv('Data/ts_kepler_1.csv',sample=10000000)\n",
    "df"
   ]
  },
  {
   "cell_type": "code",
   "execution_count": 3,
   "metadata": {
    "execution": {
     "iopub.execute_input": "2023-05-20T07:33:05.896659Z",
     "iopub.status.busy": "2023-05-20T07:33:05.895643Z"
    },
    "tags": []
   },
   "outputs": [
    {
     "ename": "NameError",
     "evalue": "name 'pd' is not defined",
     "output_type": "error",
     "traceback": [
      "\u001b[0;31m\u001b[0m",
      "\u001b[0;31mNameError\u001b[0mTraceback (most recent call last)",
      "\u001b[0;32m<ipython-input-3-b367a90fe893>\u001b[0m in \u001b[0;36m<module>\u001b[0;34m\u001b[0m\n\u001b[0;32m----> 1\u001b[0;31m \u001b[0mdata\u001b[0m \u001b[0;34m=\u001b[0m \u001b[0mpd\u001b[0m\u001b[0;34m.\u001b[0m\u001b[0mread_csv\u001b[0m\u001b[0;34m(\u001b[0m\u001b[0;34m'Data/ts_kepler_1.csv'\u001b[0m\u001b[0;34m,\u001b[0m\u001b[0mblocksize\u001b[0m\u001b[0;34m=\u001b[0m\u001b[0;36m256e6\u001b[0m\u001b[0;34m)\u001b[0m\u001b[0;34m\u001b[0m\u001b[0;34m\u001b[0m\u001b[0m\n\u001b[0m",
      "\u001b[0;31mNameError\u001b[0m: name 'pd' is not defined"
     ]
    }
   ],
   "source": [
    "data = pd.read_csv('Data/ts_kepler_1.csv')"
   ]
  },
  {
   "cell_type": "code",
   "execution_count": null,
   "metadata": {
    "tags": []
   },
   "outputs": [],
   "source": [
    "data.head(5)"
   ]
  },
  {
   "cell_type": "code",
   "execution_count": null,
   "metadata": {},
   "outputs": [],
   "source": [
    "#/home/idies/workspace/Storage/s.hossain18/Permanent/Data/ts_kepler_2.csv"
   ]
  },
  {
   "cell_type": "code",
   "execution_count": 1,
   "metadata": {
    "execution": {
     "iopub.execute_input": "2023-05-20T07:36:49.083093Z",
     "iopub.status.busy": "2023-05-20T07:36:49.081944Z",
     "iopub.status.idle": "2023-05-20T07:37:31.875419Z",
     "shell.execute_reply": "2023-05-20T07:37:31.872916Z",
     "shell.execute_reply.started": "2023-05-20T07:36:49.082895Z"
    }
   },
   "outputs": [
    {
     "name": "stdout",
     "output_type": "stream",
     "text": [
      "Collecting modin\n",
      "  Downloading modin-0.20.1-py3-none-any.whl (1.1 MB)\n",
      "\u001b[2K     \u001b[90m━━━━━━━━━━━━━━━━━━━━━━━━━━━━━━━━━━━━━━━━\u001b[0m \u001b[32m1.1/1.1 MB\u001b[0m \u001b[31m8.8 MB/s\u001b[0m eta \u001b[36m0:00:00\u001b[0m:00:01\u001b[0m00:01\u001b[0m\n",
      "\u001b[?25hRequirement already satisfied: fsspec in /home/idies/mambaforge/envs/py39/lib/python3.9/site-packages (from modin) (2022.11.0)\n",
      "Requirement already satisfied: numpy>=1.18.5 in /home/idies/mambaforge/envs/py39/lib/python3.9/site-packages (from modin) (1.23.4)\n",
      "Collecting pandas==1.5.3\n",
      "  Downloading pandas-1.5.3-cp39-cp39-manylinux_2_17_x86_64.manylinux2014_x86_64.whl (12.2 MB)\n",
      "\u001b[2K     \u001b[90m━━━━━━━━━━━━━━━━━━━━━━━━━━━━━━━━━━━━━━━━\u001b[0m \u001b[32m12.2/12.2 MB\u001b[0m \u001b[31m16.8 MB/s\u001b[0m eta \u001b[36m0:00:00\u001b[0m00:01\u001b[0m00:01\u001b[0m\n",
      "\u001b[?25hRequirement already satisfied: psutil in /home/idies/mambaforge/envs/py39/lib/python3.9/site-packages (from modin) (5.9.4)\n",
      "Requirement already satisfied: packaging in /home/idies/mambaforge/envs/py39/lib/python3.9/site-packages (from modin) (21.3)\n",
      "Requirement already satisfied: pytz>=2020.1 in /home/idies/mambaforge/envs/py39/lib/python3.9/site-packages (from pandas==1.5.3->modin) (2022.6)\n",
      "Requirement already satisfied: python-dateutil>=2.8.1 in /home/idies/mambaforge/envs/py39/lib/python3.9/site-packages (from pandas==1.5.3->modin) (2.8.2)\n",
      "Requirement already satisfied: pyparsing!=3.0.5,>=2.0.2 in /home/idies/mambaforge/envs/py39/lib/python3.9/site-packages (from packaging->modin) (3.0.9)\n",
      "Requirement already satisfied: six>=1.5 in /home/idies/mambaforge/envs/py39/lib/python3.9/site-packages (from python-dateutil>=2.8.1->pandas==1.5.3->modin) (1.16.0)\n",
      "Installing collected packages: pandas, modin\n",
      "  Attempting uninstall: pandas\n",
      "    Found existing installation: pandas 1.5.1\n",
      "    Uninstalling pandas-1.5.1:\n",
      "      Successfully uninstalled pandas-1.5.1\n",
      "Successfully installed modin-0.20.1 pandas-1.5.3\n"
     ]
    }
   ],
   "source": [
    "import sys\n",
    "!{sys.executable} -m pip install modin"
   ]
  },
  {
   "cell_type": "code",
   "execution_count": 4,
   "metadata": {},
   "outputs": [
    {
     "name": "stderr",
     "output_type": "stream",
     "text": [
      "<frozen importlib._bootstrap>:219: RuntimeWarning: pandas._libs.tslibs.conversion._TSObject size changed, may indicate binary incompatibility. Expected 80 from C header, got 88 from PyObject\n"
     ]
    },
    {
     "ename": "ValueError",
     "evalue": "pandas._libs.tslibs.nattype._NaT size changed, may indicate binary incompatibility. Expected 64 from C header, got 56 from PyObject",
     "output_type": "error",
     "traceback": [
      "\u001b[0;31m\u001b[0m",
      "\u001b[0;31mValueError\u001b[0mTraceback (most recent call last)",
      "\u001b[0;32m<ipython-input-4-245deb0e529f>\u001b[0m in \u001b[0;36m<module>\u001b[0;34m\u001b[0m\n\u001b[0;32m----> 1\u001b[0;31m \u001b[0;32mimport\u001b[0m \u001b[0mtsfel\u001b[0m\u001b[0;34m\u001b[0m\u001b[0;34m\u001b[0m\u001b[0m\n\u001b[0m",
      "\u001b[0;32m~/miniconda3/envs/py38/lib/python3.8/site-packages/tsfel/__init__.py\u001b[0m in \u001b[0;36m<module>\u001b[0;34m\u001b[0m\n\u001b[0;32m----> 1\u001b[0;31m \u001b[0;32mfrom\u001b[0m \u001b[0mtsfel\u001b[0m\u001b[0;34m.\u001b[0m\u001b[0mutils\u001b[0m \u001b[0;32mimport\u001b[0m \u001b[0;34m*\u001b[0m\u001b[0;34m\u001b[0m\u001b[0;34m\u001b[0m\u001b[0m\n\u001b[0m\u001b[1;32m      2\u001b[0m \u001b[0;32mfrom\u001b[0m \u001b[0mtsfel\u001b[0m\u001b[0;34m.\u001b[0m\u001b[0mfeature_extraction\u001b[0m \u001b[0;32mimport\u001b[0m \u001b[0;34m*\u001b[0m\u001b[0;34m\u001b[0m\u001b[0;34m\u001b[0m\u001b[0m\n",
      "\u001b[0;32m~/miniconda3/envs/py38/lib/python3.8/site-packages/tsfel/utils/__init__.py\u001b[0m in \u001b[0;36m<module>\u001b[0;34m\u001b[0m\n\u001b[0;32m----> 1\u001b[0;31m \u001b[0;32mfrom\u001b[0m \u001b[0mtsfel\u001b[0m\u001b[0;34m.\u001b[0m\u001b[0mutils\u001b[0m\u001b[0;34m.\u001b[0m\u001b[0mgSheetsFilters\u001b[0m \u001b[0;32mimport\u001b[0m \u001b[0;34m*\u001b[0m\u001b[0;34m\u001b[0m\u001b[0;34m\u001b[0m\u001b[0m\n\u001b[0m\u001b[1;32m      2\u001b[0m \u001b[0;32mfrom\u001b[0m \u001b[0mtsfel\u001b[0m\u001b[0;34m.\u001b[0m\u001b[0mutils\u001b[0m\u001b[0;34m.\u001b[0m\u001b[0mcalculate_complexity\u001b[0m \u001b[0;32mimport\u001b[0m \u001b[0;34m*\u001b[0m\u001b[0;34m\u001b[0m\u001b[0;34m\u001b[0m\u001b[0m\n\u001b[1;32m      3\u001b[0m \u001b[0;32mfrom\u001b[0m \u001b[0mtsfel\u001b[0m\u001b[0;34m.\u001b[0m\u001b[0mutils\u001b[0m\u001b[0;34m.\u001b[0m\u001b[0msignal_processing\u001b[0m \u001b[0;32mimport\u001b[0m \u001b[0;34m*\u001b[0m\u001b[0;34m\u001b[0m\u001b[0;34m\u001b[0m\u001b[0m\n\u001b[1;32m      4\u001b[0m \u001b[0;32mfrom\u001b[0m \u001b[0mtsfel\u001b[0m\u001b[0;34m.\u001b[0m\u001b[0mutils\u001b[0m\u001b[0;34m.\u001b[0m\u001b[0madd_personal_features\u001b[0m \u001b[0;32mimport\u001b[0m \u001b[0;34m*\u001b[0m\u001b[0;34m\u001b[0m\u001b[0;34m\u001b[0m\u001b[0m\n\u001b[1;32m      5\u001b[0m \u001b[0;32mfrom\u001b[0m \u001b[0mtsfel\u001b[0m\u001b[0;34m.\u001b[0m\u001b[0mutils\u001b[0m\u001b[0;34m.\u001b[0m\u001b[0mprogress_bar\u001b[0m \u001b[0;32mimport\u001b[0m \u001b[0;34m*\u001b[0m\u001b[0;34m\u001b[0m\u001b[0;34m\u001b[0m\u001b[0m\n",
      "\u001b[0;32m~/miniconda3/envs/py38/lib/python3.8/site-packages/tsfel/utils/gSheetsFilters.py\u001b[0m in \u001b[0;36m<module>\u001b[0;34m\u001b[0m\n\u001b[1;32m      7\u001b[0m \u001b[0;34m\u001b[0m\u001b[0m\n\u001b[1;32m      8\u001b[0m \u001b[0;32mimport\u001b[0m \u001b[0mtsfel\u001b[0m\u001b[0;34m\u001b[0m\u001b[0;34m\u001b[0m\u001b[0m\n\u001b[0;32m----> 9\u001b[0;31m \u001b[0;32mfrom\u001b[0m \u001b[0mtsfel\u001b[0m\u001b[0;34m.\u001b[0m\u001b[0mfeature_extraction\u001b[0m\u001b[0;34m.\u001b[0m\u001b[0mfeatures_settings\u001b[0m \u001b[0;32mimport\u001b[0m \u001b[0mload_json\u001b[0m\u001b[0;34m\u001b[0m\u001b[0;34m\u001b[0m\u001b[0m\n\u001b[0m\u001b[1;32m     10\u001b[0m \u001b[0;32mfrom\u001b[0m \u001b[0mtsfel\u001b[0m\u001b[0;34m.\u001b[0m\u001b[0mutils\u001b[0m\u001b[0;34m.\u001b[0m\u001b[0mcalculate_complexity\u001b[0m \u001b[0;32mimport\u001b[0m \u001b[0mcompute_complexity\u001b[0m\u001b[0;34m\u001b[0m\u001b[0;34m\u001b[0m\u001b[0m\n\u001b[1;32m     11\u001b[0m \u001b[0;34m\u001b[0m\u001b[0m\n",
      "\u001b[0;32m~/miniconda3/envs/py38/lib/python3.8/site-packages/tsfel/feature_extraction/__init__.py\u001b[0m in \u001b[0;36m<module>\u001b[0;34m\u001b[0m\n\u001b[0;32m----> 1\u001b[0;31m \u001b[0;32mfrom\u001b[0m \u001b[0mtsfel\u001b[0m\u001b[0;34m.\u001b[0m\u001b[0mfeature_extraction\u001b[0m\u001b[0;34m.\u001b[0m\u001b[0mcalc_features\u001b[0m \u001b[0;32mimport\u001b[0m \u001b[0;34m*\u001b[0m\u001b[0;34m\u001b[0m\u001b[0;34m\u001b[0m\u001b[0m\n\u001b[0m\u001b[1;32m      2\u001b[0m \u001b[0;32mfrom\u001b[0m \u001b[0mtsfel\u001b[0m\u001b[0;34m.\u001b[0m\u001b[0mfeature_extraction\u001b[0m\u001b[0;34m.\u001b[0m\u001b[0mfeatures\u001b[0m \u001b[0;32mimport\u001b[0m \u001b[0;34m*\u001b[0m\u001b[0;34m\u001b[0m\u001b[0;34m\u001b[0m\u001b[0m\n\u001b[1;32m      3\u001b[0m \u001b[0;32mfrom\u001b[0m \u001b[0mtsfel\u001b[0m\u001b[0;34m.\u001b[0m\u001b[0mfeature_extraction\u001b[0m\u001b[0;34m.\u001b[0m\u001b[0mfeatures_settings\u001b[0m \u001b[0;32mimport\u001b[0m \u001b[0;34m*\u001b[0m\u001b[0;34m\u001b[0m\u001b[0;34m\u001b[0m\u001b[0m\n\u001b[1;32m      4\u001b[0m \u001b[0;32mfrom\u001b[0m \u001b[0mtsfel\u001b[0m\u001b[0;34m.\u001b[0m\u001b[0mfeature_extraction\u001b[0m\u001b[0;34m.\u001b[0m\u001b[0mfeatures_utils\u001b[0m \u001b[0;32mimport\u001b[0m \u001b[0;34m*\u001b[0m\u001b[0;34m\u001b[0m\u001b[0;34m\u001b[0m\u001b[0m\n",
      "\u001b[0;32m~/miniconda3/envs/py38/lib/python3.8/site-packages/tsfel/feature_extraction/calc_features.py\u001b[0m in \u001b[0;36m<module>\u001b[0;34m\u001b[0m\n\u001b[1;32m     11\u001b[0m \u001b[0;34m\u001b[0m\u001b[0m\n\u001b[1;32m     12\u001b[0m \u001b[0;32mimport\u001b[0m \u001b[0mnumpy\u001b[0m \u001b[0;32mas\u001b[0m \u001b[0mnp\u001b[0m\u001b[0;34m\u001b[0m\u001b[0;34m\u001b[0m\u001b[0m\n\u001b[0;32m---> 13\u001b[0;31m \u001b[0;32mimport\u001b[0m \u001b[0mpandas\u001b[0m \u001b[0;32mas\u001b[0m \u001b[0mpd\u001b[0m\u001b[0;34m\u001b[0m\u001b[0;34m\u001b[0m\u001b[0m\n\u001b[0m\u001b[1;32m     14\u001b[0m \u001b[0;34m\u001b[0m\u001b[0m\n\u001b[1;32m     15\u001b[0m \u001b[0;32mfrom\u001b[0m \u001b[0mIPython\u001b[0m \u001b[0;32mimport\u001b[0m \u001b[0mget_ipython\u001b[0m\u001b[0;34m\u001b[0m\u001b[0;34m\u001b[0m\u001b[0m\n",
      "\u001b[0;32m~/miniconda3/envs/py38/lib/python3.8/site-packages/pandas/__init__.py\u001b[0m in \u001b[0;36m<module>\u001b[0;34m\u001b[0m\n\u001b[1;32m     28\u001b[0m \u001b[0;34m\u001b[0m\u001b[0m\n\u001b[1;32m     29\u001b[0m \u001b[0;32mtry\u001b[0m\u001b[0;34m:\u001b[0m\u001b[0;34m\u001b[0m\u001b[0;34m\u001b[0m\u001b[0m\n\u001b[0;32m---> 30\u001b[0;31m     \u001b[0;32mfrom\u001b[0m \u001b[0mpandas\u001b[0m\u001b[0;34m.\u001b[0m\u001b[0m_libs\u001b[0m \u001b[0;32mimport\u001b[0m \u001b[0mhashtable\u001b[0m \u001b[0;32mas\u001b[0m \u001b[0m_hashtable\u001b[0m\u001b[0;34m,\u001b[0m \u001b[0mlib\u001b[0m \u001b[0;32mas\u001b[0m \u001b[0m_lib\u001b[0m\u001b[0;34m,\u001b[0m \u001b[0mtslib\u001b[0m \u001b[0;32mas\u001b[0m \u001b[0m_tslib\u001b[0m\u001b[0;34m\u001b[0m\u001b[0;34m\u001b[0m\u001b[0m\n\u001b[0m\u001b[1;32m     31\u001b[0m \u001b[0;32mexcept\u001b[0m \u001b[0mImportError\u001b[0m \u001b[0;32mas\u001b[0m \u001b[0me\u001b[0m\u001b[0;34m:\u001b[0m  \u001b[0;31m# pragma: no cover\u001b[0m\u001b[0;34m\u001b[0m\u001b[0;34m\u001b[0m\u001b[0m\n\u001b[1;32m     32\u001b[0m     \u001b[0;31m# hack but overkill to use re\u001b[0m\u001b[0;34m\u001b[0m\u001b[0;34m\u001b[0m\u001b[0;34m\u001b[0m\u001b[0m\n",
      "\u001b[0;32mpandas/_libs/tslib.pyx\u001b[0m in \u001b[0;36minit pandas._libs.tslib\u001b[0;34m()\u001b[0m\n",
      "\u001b[0;31mValueError\u001b[0m: pandas._libs.tslibs.nattype._NaT size changed, may indicate binary incompatibility. Expected 64 from C header, got 56 from PyObject"
     ]
    }
   ],
   "source": [
    "import tsfel"
   ]
  },
  {
   "cell_type": "code",
   "execution_count": 2,
   "metadata": {
    "execution": {
     "iopub.execute_input": "2023-05-20T02:13:33.337111Z",
     "iopub.status.busy": "2023-05-20T02:13:33.336279Z",
     "iopub.status.idle": "2023-05-20T02:13:59.800284Z",
     "shell.execute_reply": "2023-05-20T02:13:59.797219Z",
     "shell.execute_reply.started": "2023-05-20T02:13:33.337040Z"
    }
   },
   "outputs": [
    {
     "name": "stdout",
     "output_type": "stream",
     "text": [
      "Collecting dask-ml\n",
      "  Downloading dask_ml-2023.3.24-py3-none-any.whl (148 kB)\n",
      "\u001b[2K     \u001b[90m━━━━━━━━━━━━━━━━━━━━━━━━━━━━━━━━━━━━━━━\u001b[0m \u001b[32m148.7/148.7 kB\u001b[0m \u001b[31m5.4 MB/s\u001b[0m eta \u001b[36m0:00:00\u001b[0m\n",
      "\u001b[?25hCollecting multipledispatch>=0.4.9\n",
      "  Downloading multipledispatch-0.6.0-py3-none-any.whl (11 kB)\n",
      "Collecting numba>=0.51.0\n",
      "  Downloading numba-0.57.0-cp39-cp39-manylinux2014_x86_64.manylinux_2_17_x86_64.whl (3.6 MB)\n",
      "\u001b[2K     \u001b[90m━━━━━━━━━━━━━━━━━━━━━━━━━━━━━━━━━━━━━━━━\u001b[0m \u001b[32m3.6/3.6 MB\u001b[0m \u001b[31m14.2 MB/s\u001b[0m eta \u001b[36m0:00:00\u001b[0m00:01\u001b[0m00:01\u001b[0m\n",
      "\u001b[?25hRequirement already satisfied: dask[array,dataframe]>=2.4.0 in /home/idies/mambaforge/envs/py39/lib/python3.9/site-packages (from dask-ml) (2022.11.0)\n",
      "Requirement already satisfied: pandas>=0.24.2 in /home/idies/mambaforge/envs/py39/lib/python3.9/site-packages (from dask-ml) (1.5.1)\n",
      "Requirement already satisfied: scipy in /home/idies/mambaforge/envs/py39/lib/python3.9/site-packages (from dask-ml) (1.9.3)\n",
      "Requirement already satisfied: distributed>=2.4.0 in /home/idies/mambaforge/envs/py39/lib/python3.9/site-packages (from dask-ml) (2022.11.0)\n",
      "Requirement already satisfied: numpy>=1.20.0 in /home/idies/mambaforge/envs/py39/lib/python3.9/site-packages (from dask-ml) (1.23.4)\n",
      "Requirement already satisfied: packaging in /home/idies/mambaforge/envs/py39/lib/python3.9/site-packages (from dask-ml) (21.3)\n",
      "Collecting dask-glm>=0.2.0\n",
      "  Downloading dask_glm-0.2.0-py2.py3-none-any.whl (12 kB)\n",
      "Collecting scikit-learn>=1.2.0\n",
      "  Downloading scikit_learn-1.2.2-cp39-cp39-manylinux_2_17_x86_64.manylinux2014_x86_64.whl (9.6 MB)\n",
      "\u001b[2K     \u001b[90m━━━━━━━━━━━━━━━━━━━━━━━━━━━━━━━━━━━━━━━━\u001b[0m \u001b[32m9.6/9.6 MB\u001b[0m \u001b[31m20.0 MB/s\u001b[0m eta \u001b[36m0:00:00\u001b[0m00:01\u001b[0m00:01\u001b[0m\n",
      "\u001b[?25hRequirement already satisfied: cloudpickle>=0.2.2 in /home/idies/mambaforge/envs/py39/lib/python3.9/site-packages (from dask-glm>=0.2.0->dask-ml) (2.2.0)\n",
      "Requirement already satisfied: partd>=0.3.10 in /home/idies/mambaforge/envs/py39/lib/python3.9/site-packages (from dask[array,dataframe]>=2.4.0->dask-ml) (1.3.0)\n",
      "Requirement already satisfied: toolz>=0.8.2 in /home/idies/mambaforge/envs/py39/lib/python3.9/site-packages (from dask[array,dataframe]>=2.4.0->dask-ml) (0.12.0)\n",
      "Requirement already satisfied: pyyaml>=5.3.1 in /home/idies/mambaforge/envs/py39/lib/python3.9/site-packages (from dask[array,dataframe]>=2.4.0->dask-ml) (6.0)\n",
      "Requirement already satisfied: fsspec>=0.6.0 in /home/idies/mambaforge/envs/py39/lib/python3.9/site-packages (from dask[array,dataframe]>=2.4.0->dask-ml) (2022.11.0)\n",
      "Requirement already satisfied: click>=7.0 in /home/idies/mambaforge/envs/py39/lib/python3.9/site-packages (from dask[array,dataframe]>=2.4.0->dask-ml) (8.1.3)\n",
      "Requirement already satisfied: tblib>=1.6.0 in /home/idies/mambaforge/envs/py39/lib/python3.9/site-packages (from distributed>=2.4.0->dask-ml) (1.7.0)\n",
      "Requirement already satisfied: msgpack>=0.6.0 in /home/idies/mambaforge/envs/py39/lib/python3.9/site-packages (from distributed>=2.4.0->dask-ml) (1.0.4)\n",
      "Requirement already satisfied: tornado<6.2,>=6.0.3 in /home/idies/mambaforge/envs/py39/lib/python3.9/site-packages (from distributed>=2.4.0->dask-ml) (6.1)\n",
      "Requirement already satisfied: locket>=1.0.0 in /home/idies/mambaforge/envs/py39/lib/python3.9/site-packages (from distributed>=2.4.0->dask-ml) (1.0.0)\n",
      "Requirement already satisfied: zict>=0.1.3 in /home/idies/mambaforge/envs/py39/lib/python3.9/site-packages (from distributed>=2.4.0->dask-ml) (2.2.0)\n",
      "Requirement already satisfied: jinja2 in /home/idies/mambaforge/envs/py39/lib/python3.9/site-packages (from distributed>=2.4.0->dask-ml) (3.1.2)\n",
      "Requirement already satisfied: sortedcontainers!=2.0.0,!=2.0.1 in /home/idies/mambaforge/envs/py39/lib/python3.9/site-packages (from distributed>=2.4.0->dask-ml) (2.4.0)\n",
      "Requirement already satisfied: psutil>=5.0 in /home/idies/mambaforge/envs/py39/lib/python3.9/site-packages (from distributed>=2.4.0->dask-ml) (5.9.4)\n",
      "Requirement already satisfied: urllib3 in /home/idies/mambaforge/envs/py39/lib/python3.9/site-packages (from distributed>=2.4.0->dask-ml) (1.26.11)\n",
      "Requirement already satisfied: six in /home/idies/mambaforge/envs/py39/lib/python3.9/site-packages (from multipledispatch>=0.4.9->dask-ml) (1.16.0)\n",
      "Collecting llvmlite<0.41,>=0.40.0dev0\n",
      "  Downloading llvmlite-0.40.0-cp39-cp39-manylinux_2_17_x86_64.manylinux2014_x86_64.whl (42.1 MB)\n",
      "\u001b[2K     \u001b[90m━━━━━━━━━━━━━━━━━━━━━━━━━━━━━━━━━━━━━━━━\u001b[0m \u001b[32m42.1/42.1 MB\u001b[0m \u001b[31m5.6 MB/s\u001b[0m eta \u001b[36m0:00:00\u001b[0m:00:01\u001b[0m00:01\u001b[0m\n",
      "\u001b[?25hRequirement already satisfied: pyparsing!=3.0.5,>=2.0.2 in /home/idies/mambaforge/envs/py39/lib/python3.9/site-packages (from packaging->dask-ml) (3.0.9)\n",
      "Requirement already satisfied: python-dateutil>=2.8.1 in /home/idies/mambaforge/envs/py39/lib/python3.9/site-packages (from pandas>=0.24.2->dask-ml) (2.8.2)\n",
      "Requirement already satisfied: pytz>=2020.1 in /home/idies/mambaforge/envs/py39/lib/python3.9/site-packages (from pandas>=0.24.2->dask-ml) (2022.6)\n",
      "Collecting threadpoolctl>=2.0.0\n",
      "  Downloading threadpoolctl-3.1.0-py3-none-any.whl (14 kB)\n",
      "Collecting joblib>=1.1.1\n",
      "  Downloading joblib-1.2.0-py3-none-any.whl (297 kB)\n",
      "\u001b[2K     \u001b[90m━━━━━━━━━━━━━━━━━━━━━━━━━━━━━━━━━━━━━━\u001b[0m \u001b[32m298.0/298.0 kB\u001b[0m \u001b[31m19.9 MB/s\u001b[0m eta \u001b[36m0:00:00\u001b[0m\n",
      "\u001b[?25hRequirement already satisfied: heapdict in /home/idies/mambaforge/envs/py39/lib/python3.9/site-packages (from zict>=0.1.3->distributed>=2.4.0->dask-ml) (1.0.1)\n",
      "Requirement already satisfied: MarkupSafe>=2.0 in /home/idies/mambaforge/envs/py39/lib/python3.9/site-packages (from jinja2->distributed>=2.4.0->dask-ml) (2.1.1)\n",
      "Installing collected packages: threadpoolctl, multipledispatch, llvmlite, joblib, scikit-learn, numba, dask-glm, dask-ml\n",
      "Successfully installed dask-glm-0.2.0 dask-ml-2023.3.24 joblib-1.2.0 llvmlite-0.40.0 multipledispatch-0.6.0 numba-0.57.0 scikit-learn-1.2.2 threadpoolctl-3.1.0\n"
     ]
    }
   ],
   "source": [
    "import sys\n",
    "!{sys.executable} -m pip install dask-ml"
   ]
  },
  {
   "cell_type": "code",
   "execution_count": 1,
   "metadata": {
    "execution": {
     "iopub.execute_input": "2023-05-20T03:00:21.807723Z",
     "iopub.status.busy": "2023-05-20T03:00:21.806783Z",
     "iopub.status.idle": "2023-05-20T03:00:29.000288Z",
     "shell.execute_reply": "2023-05-20T03:00:28.997751Z",
     "shell.execute_reply.started": "2023-05-20T03:00:21.807499Z"
    },
    "tags": []
   },
   "outputs": [
    {
     "name": "stderr",
     "output_type": "stream",
     "text": [
      "2023-05-19 23:00:26,426 - distributed.diskutils - INFO - Found stale lock file and directory '/tmp/dask-worker-space/worker-go_j_6uj', purging\n",
      "2023-05-19 23:00:26,428 - distributed.diskutils - INFO - Found stale lock file and directory '/tmp/dask-worker-space/worker-2h9cw7ya', purging\n",
      "2023-05-19 23:00:26,429 - distributed.diskutils - INFO - Found stale lock file and directory '/tmp/dask-worker-space/worker-eaj7gyl3', purging\n",
      "2023-05-19 23:00:26,431 - distributed.diskutils - INFO - Found stale lock file and directory '/tmp/dask-worker-space/worker-tmi31raf', purging\n",
      "2023-05-19 23:00:26,433 - distributed.diskutils - INFO - Found stale lock file and directory '/tmp/dask-worker-space/worker-aoqdlx5f', purging\n",
      "2023-05-19 23:00:26,435 - distributed.diskutils - INFO - Found stale lock file and directory '/tmp/dask-worker-space/worker-77x4mosd', purging\n",
      "2023-05-19 23:00:26,436 - distributed.diskutils - INFO - Found stale lock file and directory '/tmp/dask-worker-space/worker-ncmgjo1x', purging\n",
      "2023-05-19 23:00:26,438 - distributed.diskutils - INFO - Found stale lock file and directory '/tmp/dask-worker-space/worker-eayk50d2', purging\n",
      "2023-05-19 23:00:26,440 - distributed.diskutils - INFO - Found stale lock file and directory '/tmp/dask-worker-space/worker-xbxwtsru', purging\n",
      "2023-05-19 23:00:26,441 - distributed.diskutils - INFO - Found stale lock file and directory '/tmp/dask-worker-space/worker-3wva_lyw', purging\n",
      "2023-05-19 23:00:26,443 - distributed.diskutils - INFO - Found stale lock file and directory '/tmp/dask-worker-space/worker-24r3nz81', purging\n",
      "2023-05-19 23:00:26,445 - distributed.diskutils - INFO - Found stale lock file and directory '/tmp/dask-worker-space/worker-u_i772ym', purging\n",
      "2023-05-19 23:00:26,447 - distributed.diskutils - INFO - Found stale lock file and directory '/tmp/dask-worker-space/worker-rp_kusl6', purging\n",
      "2023-05-19 23:00:26,449 - distributed.diskutils - INFO - Found stale lock file and directory '/tmp/dask-worker-space/worker-j1bdrgka', purging\n",
      "2023-05-19 23:00:26,450 - distributed.diskutils - INFO - Found stale lock file and directory '/tmp/dask-worker-space/worker-xqqcgd0r', purging\n",
      "2023-05-19 23:00:26,452 - distributed.diskutils - INFO - Found stale lock file and directory '/tmp/dask-worker-space/worker-evbekaec', purging\n",
      "2023-05-19 23:00:26,461 - distributed.diskutils - INFO - Found stale lock file and directory '/tmp/dask-worker-space/worker-13i8mcnp', purging\n",
      "2023-05-19 23:00:26,463 - distributed.diskutils - INFO - Found stale lock file and directory '/tmp/dask-worker-space/worker-jqfxl6uv', purging\n",
      "2023-05-19 23:00:26,472 - distributed.diskutils - INFO - Found stale lock file and directory '/tmp/dask-worker-space/worker-uqzai_4f', purging\n",
      "2023-05-19 23:00:26,474 - distributed.diskutils - INFO - Found stale lock file and directory '/tmp/dask-worker-space/worker-beaosqhi', purging\n",
      "2023-05-19 23:00:26,475 - distributed.diskutils - INFO - Found stale lock file and directory '/tmp/dask-worker-space/worker-8yrzfrro', purging\n",
      "2023-05-19 23:00:26,477 - distributed.diskutils - INFO - Found stale lock file and directory '/tmp/dask-worker-space/worker-x_cxelwq', purging\n",
      "2023-05-19 23:00:26,479 - distributed.diskutils - INFO - Found stale lock file and directory '/tmp/dask-worker-space/worker-91bpseb9', purging\n",
      "2023-05-19 23:00:26,480 - distributed.diskutils - INFO - Found stale lock file and directory '/tmp/dask-worker-space/worker-u4qt09dm', purging\n",
      "2023-05-19 23:00:26,486 - distributed.diskutils - INFO - Found stale lock file and directory '/tmp/dask-worker-space/worker-g75el4jw', purging\n",
      "2023-05-19 23:00:26,488 - distributed.diskutils - INFO - Found stale lock file and directory '/tmp/dask-worker-space/worker-_no3iapc', purging\n",
      "2023-05-19 23:00:26,493 - distributed.diskutils - INFO - Found stale lock file and directory '/tmp/dask-worker-space/worker-_eazhdk9', purging\n",
      "2023-05-19 23:00:26,495 - distributed.diskutils - INFO - Found stale lock file and directory '/tmp/dask-worker-space/worker-o3h2okg5', purging\n",
      "2023-05-19 23:00:26,496 - distributed.diskutils - INFO - Found stale lock file and directory '/tmp/dask-worker-space/worker-eb834rxt', purging\n",
      "2023-05-19 23:00:26,498 - distributed.diskutils - INFO - Found stale lock file and directory '/tmp/dask-worker-space/worker-qbze7rjq', purging\n",
      "2023-05-19 23:00:26,500 - distributed.diskutils - INFO - Found stale lock file and directory '/tmp/dask-worker-space/worker-2h5tjtm2', purging\n",
      "2023-05-19 23:00:26,501 - distributed.diskutils - INFO - Found stale lock file and directory '/tmp/dask-worker-space/worker-gthyt24y', purging\n",
      "2023-05-19 23:00:26,504 - distributed.diskutils - INFO - Found stale lock file and directory '/tmp/dask-worker-space/worker-t7f9gh8w', purging\n",
      "2023-05-19 23:00:26,505 - distributed.diskutils - INFO - Found stale lock file and directory '/tmp/dask-worker-space/worker-pagn2p0s', purging\n",
      "2023-05-19 23:00:26,507 - distributed.diskutils - INFO - Found stale lock file and directory '/tmp/dask-worker-space/worker-aqfxcrha', purging\n",
      "2023-05-19 23:00:26,509 - distributed.diskutils - INFO - Found stale lock file and directory '/tmp/dask-worker-space/worker-v_jf4i69', purging\n",
      "2023-05-19 23:00:26,510 - distributed.diskutils - INFO - Found stale lock file and directory '/tmp/dask-worker-space/worker-9muyp3oc', purging\n",
      "2023-05-19 23:00:26,512 - distributed.diskutils - INFO - Found stale lock file and directory '/tmp/dask-worker-space/worker-dd532cpa', purging\n",
      "2023-05-19 23:00:26,513 - distributed.diskutils - INFO - Found stale lock file and directory '/tmp/dask-worker-space/worker-suv1jrtr', purging\n",
      "2023-05-19 23:00:26,516 - distributed.diskutils - INFO - Found stale lock file and directory '/tmp/dask-worker-space/worker-9cb09ltn', purging\n"
     ]
    }
   ],
   "source": [
    "from dask.distributed import Client\n",
    "client = Client()"
   ]
  },
  {
   "cell_type": "code",
   "execution_count": null,
   "metadata": {},
   "outputs": [],
   "source": [
    "import numpy as np\n",
    "from dask_ml.model_selection import IncrementalSearchCV\n",
    "from dask_ml.datasets import make_classification\n",
    "X, y = make_classification(n_samples=5000000, n_features=20,chunks=100000, random_state=0)\n",
    "from sklearn.linear_model import SGDClassifier\n",
    "model = SGDClassifier(tol=1e-3, penalty='elasticnet', random_state=0)\n",
    "params = {'alpha': np.logspace(-2, 1, num=1000),'l1_ratio': np.linspace(0, 1, num=1000),'average': [True, False]}\n",
    "search = IncrementalSearchCV(model, params, random_state=0)\n",
    "search.fit(X, y, classes=[0, 1])"
   ]
  }
 ],
 "metadata": {
  "kernelspec": {
   "display_name": "Python 3.8 (py38)",
   "language": "python",
   "name": "py38"
  },
  "language_info": {
   "codemirror_mode": {
    "name": "ipython",
    "version": 3
   },
   "file_extension": ".py",
   "mimetype": "text/x-python",
   "name": "python",
   "nbconvert_exporter": "python",
   "pygments_lexer": "ipython3",
   "version": "3.8.5"
  }
 },
 "nbformat": 4,
 "nbformat_minor": 4
}

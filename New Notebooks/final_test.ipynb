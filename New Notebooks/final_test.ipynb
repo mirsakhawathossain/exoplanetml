{
 "cells": [
  {
   "cell_type": "code",
   "execution_count": 3,
   "id": "2f89d29d",
   "metadata": {
    "execution": {
     "iopub.execute_input": "2023-07-02T08:54:17.281250Z",
     "iopub.status.busy": "2023-07-02T08:54:17.280272Z",
     "iopub.status.idle": "2023-07-02T08:54:17.297724Z",
     "shell.execute_reply": "2023-07-02T08:54:17.295266Z",
     "shell.execute_reply.started": "2023-07-02T08:54:17.281150Z"
    },
    "tags": []
   },
   "outputs": [],
   "source": [
    "import pandas as pd"
   ]
  },
  {
   "cell_type": "code",
   "execution_count": 4,
   "id": "d3a3bc19",
   "metadata": {
    "execution": {
     "iopub.execute_input": "2023-07-02T08:54:19.663306Z",
     "iopub.status.busy": "2023-07-02T08:54:19.662518Z",
     "iopub.status.idle": "2023-07-02T08:54:23.519183Z",
     "shell.execute_reply": "2023-07-02T08:54:23.517258Z",
     "shell.execute_reply.started": "2023-07-02T08:54:19.663247Z"
    },
    "tags": []
   },
   "outputs": [],
   "source": [
    "data = pd.read_csv('/home/idies/workspace/Storage/s.hossain18/Permanent/exodata.csv').sort_index(axis=0)"
   ]
  },
  {
   "cell_type": "code",
   "execution_count": 31,
   "id": "5c4b79a8",
   "metadata": {
    "execution": {
     "iopub.execute_input": "2023-06-25T05:58:24.454213Z",
     "iopub.status.busy": "2023-06-25T05:58:24.453590Z",
     "iopub.status.idle": "2023-06-25T05:58:24.622142Z",
     "shell.execute_reply": "2023-06-25T05:58:24.619474Z",
     "shell.execute_reply.started": "2023-06-25T05:58:24.454156Z"
    },
    "tags": []
   },
   "outputs": [
    {
     "data": {
      "text/html": [
       "<div>\n",
       "<style scoped>\n",
       "    .dataframe tbody tr th:only-of-type {\n",
       "        vertical-align: middle;\n",
       "    }\n",
       "\n",
       "    .dataframe tbody tr th {\n",
       "        vertical-align: top;\n",
       "    }\n",
       "\n",
       "    .dataframe thead th {\n",
       "        text-align: right;\n",
       "    }\n",
       "</style>\n",
       "<table border=\"1\" class=\"dataframe\">\n",
       "  <thead>\n",
       "    <tr style=\"text-align: right;\">\n",
       "      <th></th>\n",
       "      <th>0__has_duplicate_max</th>\n",
       "      <th>0__has_duplicate_min</th>\n",
       "      <th>0__has_duplicate</th>\n",
       "      <th>0__sum_values</th>\n",
       "      <th>0__abs_energy</th>\n",
       "      <th>0__mean_abs_change</th>\n",
       "      <th>0__mean_change</th>\n",
       "      <th>0__mean_second_derivative_central</th>\n",
       "      <th>0__median</th>\n",
       "      <th>0__mean</th>\n",
       "      <th>...</th>\n",
       "      <th>0__fourier_entropy__bins_5</th>\n",
       "      <th>0__fourier_entropy__bins_10</th>\n",
       "      <th>0__fourier_entropy__bins_100</th>\n",
       "      <th>0__permutation_entropy__dimension_3__tau_1</th>\n",
       "      <th>0__permutation_entropy__dimension_4__tau_1</th>\n",
       "      <th>0__permutation_entropy__dimension_5__tau_1</th>\n",
       "      <th>0__permutation_entropy__dimension_6__tau_1</th>\n",
       "      <th>0__permutation_entropy__dimension_7__tau_1</th>\n",
       "      <th>0__mean_n_absolute_max__number_of_maxima_7</th>\n",
       "      <th>exoplanet</th>\n",
       "    </tr>\n",
       "  </thead>\n",
       "  <tbody>\n",
       "    <tr>\n",
       "      <th>0</th>\n",
       "      <td>0.0</td>\n",
       "      <td>0.0</td>\n",
       "      <td>1.0</td>\n",
       "      <td>2.064484e+08</td>\n",
       "      <td>9.087643e+13</td>\n",
       "      <td>49.472137</td>\n",
       "      <td>-1.596880</td>\n",
       "      <td>0.233340</td>\n",
       "      <td>440294.340</td>\n",
       "      <td>440188.539467</td>\n",
       "      <td>...</td>\n",
       "      <td>0.170467</td>\n",
       "      <td>0.226363</td>\n",
       "      <td>0.683850</td>\n",
       "      <td>1.731587</td>\n",
       "      <td>2.948862</td>\n",
       "      <td>4.207599</td>\n",
       "      <td>5.161319</td>\n",
       "      <td>5.692017</td>\n",
       "      <td>440732.865714</td>\n",
       "      <td>1</td>\n",
       "    </tr>\n",
       "    <tr>\n",
       "      <th>1</th>\n",
       "      <td>0.0</td>\n",
       "      <td>0.0</td>\n",
       "      <td>1.0</td>\n",
       "      <td>4.033714e+07</td>\n",
       "      <td>3.469264e+12</td>\n",
       "      <td>11.189566</td>\n",
       "      <td>-0.061365</td>\n",
       "      <td>0.013920</td>\n",
       "      <td>86008.328</td>\n",
       "      <td>86006.694215</td>\n",
       "      <td>...</td>\n",
       "      <td>0.589282</td>\n",
       "      <td>0.987024</td>\n",
       "      <td>3.059897</td>\n",
       "      <td>1.784421</td>\n",
       "      <td>3.140410</td>\n",
       "      <td>4.650275</td>\n",
       "      <td>5.755482</td>\n",
       "      <td>6.079708</td>\n",
       "      <td>86037.216571</td>\n",
       "      <td>1</td>\n",
       "    </tr>\n",
       "    <tr>\n",
       "      <th>2</th>\n",
       "      <td>0.0</td>\n",
       "      <td>0.0</td>\n",
       "      <td>1.0</td>\n",
       "      <td>2.356355e+08</td>\n",
       "      <td>1.183882e+14</td>\n",
       "      <td>31.821496</td>\n",
       "      <td>-0.043205</td>\n",
       "      <td>-0.006702</td>\n",
       "      <td>502421.660</td>\n",
       "      <td>502421.010704</td>\n",
       "      <td>...</td>\n",
       "      <td>0.822180</td>\n",
       "      <td>1.484769</td>\n",
       "      <td>3.485233</td>\n",
       "      <td>1.787237</td>\n",
       "      <td>3.155666</td>\n",
       "      <td>4.653332</td>\n",
       "      <td>5.759202</td>\n",
       "      <td>6.072590</td>\n",
       "      <td>502495.228571</td>\n",
       "      <td>1</td>\n",
       "    </tr>\n",
       "    <tr>\n",
       "      <th>3</th>\n",
       "      <td>0.0</td>\n",
       "      <td>0.0</td>\n",
       "      <td>1.0</td>\n",
       "      <td>1.542565e+08</td>\n",
       "      <td>5.073574e+13</td>\n",
       "      <td>20.735256</td>\n",
       "      <td>0.017564</td>\n",
       "      <td>-0.000428</td>\n",
       "      <td>328907.410</td>\n",
       "      <td>328905.047953</td>\n",
       "      <td>...</td>\n",
       "      <td>0.090729</td>\n",
       "      <td>0.136002</td>\n",
       "      <td>0.136002</td>\n",
       "      <td>1.788031</td>\n",
       "      <td>3.154802</td>\n",
       "      <td>4.640576</td>\n",
       "      <td>5.760329</td>\n",
       "      <td>6.089821</td>\n",
       "      <td>329106.067143</td>\n",
       "      <td>1</td>\n",
       "    </tr>\n",
       "    <tr>\n",
       "      <th>4</th>\n",
       "      <td>0.0</td>\n",
       "      <td>0.0</td>\n",
       "      <td>1.0</td>\n",
       "      <td>6.463351e+07</td>\n",
       "      <td>8.907230e+12</td>\n",
       "      <td>13.109850</td>\n",
       "      <td>0.032970</td>\n",
       "      <td>0.038822</td>\n",
       "      <td>137811.190</td>\n",
       "      <td>137811.322132</td>\n",
       "      <td>...</td>\n",
       "      <td>0.641543</td>\n",
       "      <td>1.172295</td>\n",
       "      <td>3.166886</td>\n",
       "      <td>1.791362</td>\n",
       "      <td>3.152715</td>\n",
       "      <td>4.640313</td>\n",
       "      <td>5.736220</td>\n",
       "      <td>6.063607</td>\n",
       "      <td>137844.580000</td>\n",
       "      <td>1</td>\n",
       "    </tr>\n",
       "  </tbody>\n",
       "</table>\n",
       "<p>5 rows × 741 columns</p>\n",
       "</div>"
      ],
      "text/plain": [
       "   0__has_duplicate_max  0__has_duplicate_min  0__has_duplicate  \\\n",
       "0                   0.0                   0.0               1.0   \n",
       "1                   0.0                   0.0               1.0   \n",
       "2                   0.0                   0.0               1.0   \n",
       "3                   0.0                   0.0               1.0   \n",
       "4                   0.0                   0.0               1.0   \n",
       "\n",
       "   0__sum_values  0__abs_energy  0__mean_abs_change  0__mean_change  \\\n",
       "0   2.064484e+08   9.087643e+13           49.472137       -1.596880   \n",
       "1   4.033714e+07   3.469264e+12           11.189566       -0.061365   \n",
       "2   2.356355e+08   1.183882e+14           31.821496       -0.043205   \n",
       "3   1.542565e+08   5.073574e+13           20.735256        0.017564   \n",
       "4   6.463351e+07   8.907230e+12           13.109850        0.032970   \n",
       "\n",
       "   0__mean_second_derivative_central   0__median        0__mean  ...  \\\n",
       "0                           0.233340  440294.340  440188.539467  ...   \n",
       "1                           0.013920   86008.328   86006.694215  ...   \n",
       "2                          -0.006702  502421.660  502421.010704  ...   \n",
       "3                          -0.000428  328907.410  328905.047953  ...   \n",
       "4                           0.038822  137811.190  137811.322132  ...   \n",
       "\n",
       "   0__fourier_entropy__bins_5  0__fourier_entropy__bins_10  \\\n",
       "0                    0.170467                     0.226363   \n",
       "1                    0.589282                     0.987024   \n",
       "2                    0.822180                     1.484769   \n",
       "3                    0.090729                     0.136002   \n",
       "4                    0.641543                     1.172295   \n",
       "\n",
       "   0__fourier_entropy__bins_100  0__permutation_entropy__dimension_3__tau_1  \\\n",
       "0                      0.683850                                    1.731587   \n",
       "1                      3.059897                                    1.784421   \n",
       "2                      3.485233                                    1.787237   \n",
       "3                      0.136002                                    1.788031   \n",
       "4                      3.166886                                    1.791362   \n",
       "\n",
       "   0__permutation_entropy__dimension_4__tau_1  \\\n",
       "0                                    2.948862   \n",
       "1                                    3.140410   \n",
       "2                                    3.155666   \n",
       "3                                    3.154802   \n",
       "4                                    3.152715   \n",
       "\n",
       "   0__permutation_entropy__dimension_5__tau_1  \\\n",
       "0                                    4.207599   \n",
       "1                                    4.650275   \n",
       "2                                    4.653332   \n",
       "3                                    4.640576   \n",
       "4                                    4.640313   \n",
       "\n",
       "   0__permutation_entropy__dimension_6__tau_1  \\\n",
       "0                                    5.161319   \n",
       "1                                    5.755482   \n",
       "2                                    5.759202   \n",
       "3                                    5.760329   \n",
       "4                                    5.736220   \n",
       "\n",
       "   0__permutation_entropy__dimension_7__tau_1  \\\n",
       "0                                    5.692017   \n",
       "1                                    6.079708   \n",
       "2                                    6.072590   \n",
       "3                                    6.089821   \n",
       "4                                    6.063607   \n",
       "\n",
       "   0__mean_n_absolute_max__number_of_maxima_7  exoplanet  \n",
       "0                               440732.865714          1  \n",
       "1                                86037.216571          1  \n",
       "2                               502495.228571          1  \n",
       "3                               329106.067143          1  \n",
       "4                               137844.580000          1  \n",
       "\n",
       "[5 rows x 741 columns]"
      ]
     },
     "execution_count": 31,
     "metadata": {},
     "output_type": "execute_result"
    }
   ],
   "source": [
    "data.head(5)"
   ]
  },
  {
   "cell_type": "code",
   "execution_count": 32,
   "id": "5b3d7cf8",
   "metadata": {
    "execution": {
     "iopub.execute_input": "2023-06-25T05:58:24.753455Z",
     "iopub.status.busy": "2023-06-25T05:58:24.752554Z",
     "iopub.status.idle": "2023-06-25T05:58:25.794239Z",
     "shell.execute_reply": "2023-06-25T05:58:25.790888Z",
     "shell.execute_reply.started": "2023-06-25T05:58:24.753370Z"
    },
    "tags": []
   },
   "outputs": [],
   "source": [
    "# Find columns with only 0 or 1 values\n",
    "columns_to_drop = []\n",
    "for column in data.columns:\n",
    "    unique_values = data[column].unique()\n",
    "    if len(unique_values) == 1 or (len(unique_values) == 2 and 0 in unique_values and 1 in unique_values):\n",
    "        columns_to_drop.append(column)\n",
    "\n",
    "# Drop the identified columns\n",
    "df_filtered = data.drop(columns=columns_to_drop)\n"
   ]
  },
  {
   "cell_type": "code",
   "execution_count": 33,
   "id": "00512276",
   "metadata": {
    "execution": {
     "iopub.execute_input": "2023-06-25T05:58:29.082086Z",
     "iopub.status.busy": "2023-06-25T05:58:29.080943Z",
     "iopub.status.idle": "2023-06-25T05:58:29.215373Z",
     "shell.execute_reply": "2023-06-25T05:58:29.211634Z",
     "shell.execute_reply.started": "2023-06-25T05:58:29.081996Z"
    },
    "tags": []
   },
   "outputs": [
    {
     "data": {
      "text/html": [
       "<div>\n",
       "<style scoped>\n",
       "    .dataframe tbody tr th:only-of-type {\n",
       "        vertical-align: middle;\n",
       "    }\n",
       "\n",
       "    .dataframe tbody tr th {\n",
       "        vertical-align: top;\n",
       "    }\n",
       "\n",
       "    .dataframe thead th {\n",
       "        text-align: right;\n",
       "    }\n",
       "</style>\n",
       "<table border=\"1\" class=\"dataframe\">\n",
       "  <thead>\n",
       "    <tr style=\"text-align: right;\">\n",
       "      <th></th>\n",
       "      <th>0__sum_values</th>\n",
       "      <th>0__abs_energy</th>\n",
       "      <th>0__mean_abs_change</th>\n",
       "      <th>0__mean_change</th>\n",
       "      <th>0__mean_second_derivative_central</th>\n",
       "      <th>0__median</th>\n",
       "      <th>0__mean</th>\n",
       "      <th>0__length</th>\n",
       "      <th>0__standard_deviation</th>\n",
       "      <th>0__variation_coefficient</th>\n",
       "      <th>...</th>\n",
       "      <th>0__fourier_entropy__bins_3</th>\n",
       "      <th>0__fourier_entropy__bins_5</th>\n",
       "      <th>0__fourier_entropy__bins_10</th>\n",
       "      <th>0__fourier_entropy__bins_100</th>\n",
       "      <th>0__permutation_entropy__dimension_3__tau_1</th>\n",
       "      <th>0__permutation_entropy__dimension_4__tau_1</th>\n",
       "      <th>0__permutation_entropy__dimension_5__tau_1</th>\n",
       "      <th>0__permutation_entropy__dimension_6__tau_1</th>\n",
       "      <th>0__permutation_entropy__dimension_7__tau_1</th>\n",
       "      <th>0__mean_n_absolute_max__number_of_maxima_7</th>\n",
       "    </tr>\n",
       "  </thead>\n",
       "  <tbody>\n",
       "    <tr>\n",
       "      <th>0</th>\n",
       "      <td>2.064484e+08</td>\n",
       "      <td>9.087643e+13</td>\n",
       "      <td>49.472137</td>\n",
       "      <td>-1.596880</td>\n",
       "      <td>0.233340</td>\n",
       "      <td>440294.340</td>\n",
       "      <td>440188.539467</td>\n",
       "      <td>469.0</td>\n",
       "      <td>648.705379</td>\n",
       "      <td>0.001474</td>\n",
       "      <td>...</td>\n",
       "      <td>0.155665</td>\n",
       "      <td>0.170467</td>\n",
       "      <td>0.226363</td>\n",
       "      <td>0.683850</td>\n",
       "      <td>1.731587</td>\n",
       "      <td>2.948862</td>\n",
       "      <td>4.207599</td>\n",
       "      <td>5.161319</td>\n",
       "      <td>5.692017</td>\n",
       "      <td>440732.865714</td>\n",
       "    </tr>\n",
       "    <tr>\n",
       "      <th>1</th>\n",
       "      <td>4.033714e+07</td>\n",
       "      <td>3.469264e+12</td>\n",
       "      <td>11.189566</td>\n",
       "      <td>-0.061365</td>\n",
       "      <td>0.013920</td>\n",
       "      <td>86008.328</td>\n",
       "      <td>86006.694215</td>\n",
       "      <td>469.0</td>\n",
       "      <td>15.264155</td>\n",
       "      <td>0.000177</td>\n",
       "      <td>...</td>\n",
       "      <td>0.331889</td>\n",
       "      <td>0.589282</td>\n",
       "      <td>0.987024</td>\n",
       "      <td>3.059897</td>\n",
       "      <td>1.784421</td>\n",
       "      <td>3.140410</td>\n",
       "      <td>4.650275</td>\n",
       "      <td>5.755482</td>\n",
       "      <td>6.079708</td>\n",
       "      <td>86037.216571</td>\n",
       "    </tr>\n",
       "    <tr>\n",
       "      <th>2</th>\n",
       "      <td>2.356355e+08</td>\n",
       "      <td>1.183882e+14</td>\n",
       "      <td>31.821496</td>\n",
       "      <td>-0.043205</td>\n",
       "      <td>-0.006702</td>\n",
       "      <td>502421.660</td>\n",
       "      <td>502421.010704</td>\n",
       "      <td>469.0</td>\n",
       "      <td>29.967096</td>\n",
       "      <td>0.000060</td>\n",
       "      <td>...</td>\n",
       "      <td>0.451914</td>\n",
       "      <td>0.822180</td>\n",
       "      <td>1.484769</td>\n",
       "      <td>3.485233</td>\n",
       "      <td>1.787237</td>\n",
       "      <td>3.155666</td>\n",
       "      <td>4.653332</td>\n",
       "      <td>5.759202</td>\n",
       "      <td>6.072590</td>\n",
       "      <td>502495.228571</td>\n",
       "    </tr>\n",
       "    <tr>\n",
       "      <th>3</th>\n",
       "      <td>1.542565e+08</td>\n",
       "      <td>5.073574e+13</td>\n",
       "      <td>20.735256</td>\n",
       "      <td>0.017564</td>\n",
       "      <td>-0.000428</td>\n",
       "      <td>328907.410</td>\n",
       "      <td>328905.047953</td>\n",
       "      <td>469.0</td>\n",
       "      <td>110.932912</td>\n",
       "      <td>0.000337</td>\n",
       "      <td>...</td>\n",
       "      <td>0.045395</td>\n",
       "      <td>0.090729</td>\n",
       "      <td>0.136002</td>\n",
       "      <td>0.136002</td>\n",
       "      <td>1.788031</td>\n",
       "      <td>3.154802</td>\n",
       "      <td>4.640576</td>\n",
       "      <td>5.760329</td>\n",
       "      <td>6.089821</td>\n",
       "      <td>329106.067143</td>\n",
       "    </tr>\n",
       "    <tr>\n",
       "      <th>4</th>\n",
       "      <td>6.463351e+07</td>\n",
       "      <td>8.907230e+12</td>\n",
       "      <td>13.109850</td>\n",
       "      <td>0.032970</td>\n",
       "      <td>0.038822</td>\n",
       "      <td>137811.190</td>\n",
       "      <td>137811.322132</td>\n",
       "      <td>469.0</td>\n",
       "      <td>13.595516</td>\n",
       "      <td>0.000099</td>\n",
       "      <td>...</td>\n",
       "      <td>0.351390</td>\n",
       "      <td>0.641543</td>\n",
       "      <td>1.172295</td>\n",
       "      <td>3.166886</td>\n",
       "      <td>1.791362</td>\n",
       "      <td>3.152715</td>\n",
       "      <td>4.640313</td>\n",
       "      <td>5.736220</td>\n",
       "      <td>6.063607</td>\n",
       "      <td>137844.580000</td>\n",
       "    </tr>\n",
       "  </tbody>\n",
       "</table>\n",
       "<p>5 rows × 725 columns</p>\n",
       "</div>"
      ],
      "text/plain": [
       "   0__sum_values  0__abs_energy  0__mean_abs_change  0__mean_change  \\\n",
       "0   2.064484e+08   9.087643e+13           49.472137       -1.596880   \n",
       "1   4.033714e+07   3.469264e+12           11.189566       -0.061365   \n",
       "2   2.356355e+08   1.183882e+14           31.821496       -0.043205   \n",
       "3   1.542565e+08   5.073574e+13           20.735256        0.017564   \n",
       "4   6.463351e+07   8.907230e+12           13.109850        0.032970   \n",
       "\n",
       "   0__mean_second_derivative_central   0__median        0__mean  0__length  \\\n",
       "0                           0.233340  440294.340  440188.539467      469.0   \n",
       "1                           0.013920   86008.328   86006.694215      469.0   \n",
       "2                          -0.006702  502421.660  502421.010704      469.0   \n",
       "3                          -0.000428  328907.410  328905.047953      469.0   \n",
       "4                           0.038822  137811.190  137811.322132      469.0   \n",
       "\n",
       "   0__standard_deviation  0__variation_coefficient  ...  \\\n",
       "0             648.705379                  0.001474  ...   \n",
       "1              15.264155                  0.000177  ...   \n",
       "2              29.967096                  0.000060  ...   \n",
       "3             110.932912                  0.000337  ...   \n",
       "4              13.595516                  0.000099  ...   \n",
       "\n",
       "   0__fourier_entropy__bins_3  0__fourier_entropy__bins_5  \\\n",
       "0                    0.155665                    0.170467   \n",
       "1                    0.331889                    0.589282   \n",
       "2                    0.451914                    0.822180   \n",
       "3                    0.045395                    0.090729   \n",
       "4                    0.351390                    0.641543   \n",
       "\n",
       "   0__fourier_entropy__bins_10  0__fourier_entropy__bins_100  \\\n",
       "0                     0.226363                      0.683850   \n",
       "1                     0.987024                      3.059897   \n",
       "2                     1.484769                      3.485233   \n",
       "3                     0.136002                      0.136002   \n",
       "4                     1.172295                      3.166886   \n",
       "\n",
       "   0__permutation_entropy__dimension_3__tau_1  \\\n",
       "0                                    1.731587   \n",
       "1                                    1.784421   \n",
       "2                                    1.787237   \n",
       "3                                    1.788031   \n",
       "4                                    1.791362   \n",
       "\n",
       "   0__permutation_entropy__dimension_4__tau_1  \\\n",
       "0                                    2.948862   \n",
       "1                                    3.140410   \n",
       "2                                    3.155666   \n",
       "3                                    3.154802   \n",
       "4                                    3.152715   \n",
       "\n",
       "   0__permutation_entropy__dimension_5__tau_1  \\\n",
       "0                                    4.207599   \n",
       "1                                    4.650275   \n",
       "2                                    4.653332   \n",
       "3                                    4.640576   \n",
       "4                                    4.640313   \n",
       "\n",
       "   0__permutation_entropy__dimension_6__tau_1  \\\n",
       "0                                    5.161319   \n",
       "1                                    5.755482   \n",
       "2                                    5.759202   \n",
       "3                                    5.760329   \n",
       "4                                    5.736220   \n",
       "\n",
       "   0__permutation_entropy__dimension_7__tau_1  \\\n",
       "0                                    5.692017   \n",
       "1                                    6.079708   \n",
       "2                                    6.072590   \n",
       "3                                    6.089821   \n",
       "4                                    6.063607   \n",
       "\n",
       "   0__mean_n_absolute_max__number_of_maxima_7  \n",
       "0                               440732.865714  \n",
       "1                                86037.216571  \n",
       "2                               502495.228571  \n",
       "3                               329106.067143  \n",
       "4                               137844.580000  \n",
       "\n",
       "[5 rows x 725 columns]"
      ]
     },
     "execution_count": 33,
     "metadata": {},
     "output_type": "execute_result"
    }
   ],
   "source": [
    "df_filtered.head(5)"
   ]
  },
  {
   "cell_type": "code",
   "execution_count": 34,
   "id": "d2005f41",
   "metadata": {
    "execution": {
     "iopub.execute_input": "2023-06-25T05:58:31.970175Z",
     "iopub.status.busy": "2023-06-25T05:58:31.968677Z",
     "iopub.status.idle": "2023-06-25T05:58:32.018392Z",
     "shell.execute_reply": "2023-06-25T05:58:32.010984Z",
     "shell.execute_reply.started": "2023-06-25T05:58:31.970078Z"
    },
    "tags": []
   },
   "outputs": [],
   "source": [
    "X = df_filtered\n",
    "y = data[['exoplanet']]"
   ]
  },
  {
   "cell_type": "code",
   "execution_count": 7,
   "id": "c5ce5560",
   "metadata": {
    "execution": {
     "iopub.execute_input": "2023-06-25T05:45:18.048696Z",
     "iopub.status.busy": "2023-06-25T05:45:18.046939Z",
     "iopub.status.idle": "2023-06-25T05:46:19.619866Z",
     "shell.execute_reply": "2023-06-25T05:46:19.616035Z",
     "shell.execute_reply.started": "2023-06-25T05:45:18.048603Z"
    }
   },
   "outputs": [
    {
     "name": "stdout",
     "output_type": "stream",
     "text": [
      "Collecting scikit-learn-intelex\n",
      "  Downloading scikit_learn_intelex-2023.1.1-py39-none-manylinux1_x86_64.whl (115 kB)\n",
      "\u001b[2K     \u001b[90m━━━━━━━━━━━━━━━━━━━━━━━━━━━━━━━━━━━━━━━\u001b[0m \u001b[32m115.3/115.3 kB\u001b[0m \u001b[31m2.0 MB/s\u001b[0m eta \u001b[36m0:00:00\u001b[0m00:01\u001b[0m\n",
      "\u001b[?25hCollecting daal4py==2023.1.1\n",
      "  Downloading daal4py-2023.1.1-py39-none-manylinux1_x86_64.whl (13.9 MB)\n",
      "\u001b[2K     \u001b[90m━━━━━━━━━━━━━━━━━━━━━━━━━━━━━━━━━━━━━━━━\u001b[0m \u001b[32m13.9/13.9 MB\u001b[0m \u001b[31m4.7 MB/s\u001b[0m eta \u001b[36m0:00:00\u001b[0m00:01\u001b[0m00:01\u001b[0m\n",
      "\u001b[?25hCollecting scikit-learn>=0.22\n",
      "  Downloading scikit_learn-1.2.2-cp39-cp39-manylinux_2_17_x86_64.manylinux2014_x86_64.whl (9.6 MB)\n",
      "\u001b[2K     \u001b[90m━━━━━━━━━━━━━━━━━━━━━━━━━━━━━━━━━━━━━━━━\u001b[0m \u001b[32m9.6/9.6 MB\u001b[0m \u001b[31m7.0 MB/s\u001b[0m eta \u001b[36m0:00:00\u001b[0m00:01\u001b[0mm00:01\u001b[0m\n",
      "\u001b[?25hCollecting daal==2023.1.1\n",
      "  Downloading daal-2023.1.1-py2.py3-none-manylinux1_x86_64.whl (69.2 MB)\n",
      "\u001b[2K     \u001b[90m━━━━━━━━━━━━━━━━━━━━━━━━━━━━━━━━━━━━━━━━\u001b[0m \u001b[32m69.2/69.2 MB\u001b[0m \u001b[31m2.0 MB/s\u001b[0m eta \u001b[36m0:00:00\u001b[0m00:01\u001b[0m00:01\u001b[0mm\n",
      "\u001b[?25hRequirement already satisfied: numpy>=1.19 in /home/idies/mambaforge/envs/py39/lib/python3.9/site-packages (from daal4py==2023.1.1->scikit-learn-intelex) (1.23.4)\n",
      "Collecting tbb==2021.*\n",
      "  Downloading tbb-2021.9.0-py2.py3-none-manylinux1_x86_64.whl (4.0 MB)\n",
      "\u001b[2K     \u001b[90m━━━━━━━━━━━━━━━━━━━━━━━━━━━━━━━━━━━━━━━━\u001b[0m \u001b[32m4.0/4.0 MB\u001b[0m \u001b[31m10.5 MB/s\u001b[0m eta \u001b[36m0:00:00\u001b[0m00:01\u001b[0m00:01\u001b[0m\n",
      "\u001b[?25hRequirement already satisfied: scipy>=1.3.2 in /home/idies/mambaforge/envs/py39/lib/python3.9/site-packages (from scikit-learn>=0.22->scikit-learn-intelex) (1.9.3)\n",
      "Collecting threadpoolctl>=2.0.0\n",
      "  Downloading threadpoolctl-3.1.0-py3-none-any.whl (14 kB)\n",
      "Collecting joblib>=1.1.1\n",
      "  Downloading joblib-1.2.0-py3-none-any.whl (297 kB)\n",
      "\u001b[2K     \u001b[90m━━━━━━━━━━━━━━━━━━━━━━━━━━━━━━━━━━━━━━━\u001b[0m \u001b[32m298.0/298.0 kB\u001b[0m \u001b[31m4.0 MB/s\u001b[0m eta \u001b[36m0:00:00\u001b[0m00:01\u001b[0m\n",
      "\u001b[?25hInstalling collected packages: tbb, threadpoolctl, joblib, daal, scikit-learn, daal4py, scikit-learn-intelex\n",
      "Successfully installed daal-2023.1.1 daal4py-2023.1.1 joblib-1.2.0 scikit-learn-1.2.2 scikit-learn-intelex-2023.1.1 tbb-2021.9.0 threadpoolctl-3.1.0\n"
     ]
    }
   ],
   "source": [
    "import sys\n",
    "!{sys.executable} -m pip install scikit-learn-intelex"
   ]
  },
  {
   "cell_type": "code",
   "execution_count": 8,
   "id": "f758abc7",
   "metadata": {
    "execution": {
     "iopub.execute_input": "2023-06-25T05:46:31.965040Z",
     "iopub.status.busy": "2023-06-25T05:46:31.963919Z",
     "iopub.status.idle": "2023-06-25T05:46:42.918037Z",
     "shell.execute_reply": "2023-06-25T05:46:42.915911Z",
     "shell.execute_reply.started": "2023-06-25T05:46:31.964912Z"
    }
   },
   "outputs": [
    {
     "name": "stdout",
     "output_type": "stream",
     "text": [
      "Scikit-learn was successfully globally patched by Intel(R) Extension for Scikit-learn\n"
     ]
    },
    {
     "name": "stderr",
     "output_type": "stream",
     "text": [
      "Intel(R) Extension for Scikit-learn* enabled (https://github.com/intel/scikit-learn-intelex)\n"
     ]
    }
   ],
   "source": [
    "from sklearnex import patch_sklearn\n",
    "patch_sklearn(global_patch=True)"
   ]
  },
  {
   "cell_type": "code",
   "execution_count": 35,
   "id": "e0498f88-0152-47e7-8810-934f36d039b5",
   "metadata": {
    "execution": {
     "iopub.execute_input": "2023-06-25T05:58:37.642398Z",
     "iopub.status.busy": "2023-06-25T05:58:37.641018Z",
     "iopub.status.idle": "2023-06-25T05:58:37.703664Z",
     "shell.execute_reply": "2023-06-25T05:58:37.696645Z",
     "shell.execute_reply.started": "2023-06-25T05:58:37.642300Z"
    },
    "tags": []
   },
   "outputs": [
    {
     "data": {
      "text/plain": [
       "exoplanet\n",
       "1            4662\n",
       "0            2108\n",
       "dtype: int64"
      ]
     },
     "execution_count": 35,
     "metadata": {},
     "output_type": "execute_result"
    }
   ],
   "source": [
    "y.value_counts()"
   ]
  },
  {
   "cell_type": "code",
   "execution_count": 36,
   "id": "45934069-075d-4b2b-a6c6-be06de895044",
   "metadata": {
    "execution": {
     "iopub.execute_input": "2023-06-25T05:58:40.283134Z",
     "iopub.status.busy": "2023-06-25T05:58:40.282273Z",
     "iopub.status.idle": "2023-06-25T05:58:40.309663Z",
     "shell.execute_reply": "2023-06-25T05:58:40.307022Z",
     "shell.execute_reply.started": "2023-06-25T05:58:40.283075Z"
    },
    "tags": []
   },
   "outputs": [],
   "source": [
    "from sklearn.model_selection import train_test_split"
   ]
  },
  {
   "cell_type": "code",
   "execution_count": 37,
   "id": "f0b97a3f-41ef-40a0-994e-efc67892d62e",
   "metadata": {
    "execution": {
     "iopub.execute_input": "2023-06-25T05:58:42.749312Z",
     "iopub.status.busy": "2023-06-25T05:58:42.748339Z",
     "iopub.status.idle": "2023-06-25T05:58:43.507539Z",
     "shell.execute_reply": "2023-06-25T05:58:43.504681Z",
     "shell.execute_reply.started": "2023-06-25T05:58:42.749231Z"
    },
    "tags": []
   },
   "outputs": [],
   "source": [
    "X_train, X_test, y_train, y_test = train_test_split(X, y, test_size=0.4, random_state=43,stratify=y)"
   ]
  },
  {
   "cell_type": "code",
   "execution_count": 38,
   "id": "e68baad2-2ab7-4420-b32c-0e0ada40e969",
   "metadata": {
    "execution": {
     "iopub.execute_input": "2023-06-25T05:58:44.686718Z",
     "iopub.status.busy": "2023-06-25T05:58:44.685885Z",
     "iopub.status.idle": "2023-06-25T05:58:44.722649Z",
     "shell.execute_reply": "2023-06-25T05:58:44.713138Z",
     "shell.execute_reply.started": "2023-06-25T05:58:44.686662Z"
    },
    "tags": []
   },
   "outputs": [
    {
     "name": "stdout",
     "output_type": "stream",
     "text": [
      "(4062, 725)\n",
      "(2708, 725)\n"
     ]
    }
   ],
   "source": [
    "print(X_train.shape)\n",
    "print(X_test.shape)"
   ]
  },
  {
   "cell_type": "code",
   "execution_count": 39,
   "id": "27501232-25b6-49ea-9fe7-c66275acc84d",
   "metadata": {
    "execution": {
     "iopub.execute_input": "2023-06-25T05:58:47.453091Z",
     "iopub.status.busy": "2023-06-25T05:58:47.452165Z",
     "iopub.status.idle": "2023-06-25T05:58:47.472872Z",
     "shell.execute_reply": "2023-06-25T05:58:47.470565Z",
     "shell.execute_reply.started": "2023-06-25T05:58:47.453032Z"
    },
    "tags": []
   },
   "outputs": [],
   "source": [
    "from sklearn.preprocessing import RobustScaler\n",
    "qt = RobustScaler()"
   ]
  },
  {
   "cell_type": "code",
   "execution_count": 40,
   "id": "7d8e930f-fab7-4b15-a00d-4188bb61df91",
   "metadata": {
    "execution": {
     "iopub.execute_input": "2023-06-25T05:58:49.559130Z",
     "iopub.status.busy": "2023-06-25T05:58:49.558272Z",
     "iopub.status.idle": "2023-06-25T05:58:50.761039Z",
     "shell.execute_reply": "2023-06-25T05:58:50.758650Z",
     "shell.execute_reply.started": "2023-06-25T05:58:49.559071Z"
    },
    "tags": []
   },
   "outputs": [],
   "source": [
    "X_train = qt.fit_transform(X_train)\n",
    "X_test = qt.transform(X_test)"
   ]
  },
  {
   "cell_type": "code",
   "execution_count": 41,
   "id": "f9ac5388-9a60-4a6c-bf7b-ee4d7d836205",
   "metadata": {
    "execution": {
     "iopub.execute_input": "2023-06-25T05:58:53.922520Z",
     "iopub.status.busy": "2023-06-25T05:58:53.910027Z",
     "iopub.status.idle": "2023-06-25T05:58:53.933697Z",
     "shell.execute_reply": "2023-06-25T05:58:53.931835Z",
     "shell.execute_reply.started": "2023-06-25T05:58:53.922456Z"
    },
    "tags": []
   },
   "outputs": [],
   "source": [
    "from sklearn.model_selection import cross_val_score, RepeatedKFold\n",
    "from sklearn.tree import DecisionTreeClassifier\n",
    "from sklearn import metrics"
   ]
  },
  {
   "cell_type": "code",
   "execution_count": 87,
   "id": "3096558d-fd19-4326-86e5-ec27650b7d4c",
   "metadata": {
    "execution": {
     "iopub.execute_input": "2023-06-25T06:11:22.618001Z",
     "iopub.status.busy": "2023-06-25T06:11:22.617018Z",
     "iopub.status.idle": "2023-06-25T06:11:22.666425Z",
     "shell.execute_reply": "2023-06-25T06:11:22.663695Z",
     "shell.execute_reply.started": "2023-06-25T06:11:22.617943Z"
    },
    "tags": []
   },
   "outputs": [],
   "source": [
    "# Train and evaluate the decision tree classifier with given hyperparameters\n",
    "clf = DecisionTreeClassifier(max_depth=100,min_samples_split=0.0005,min_samples_leaf=5,max_features=None,criterion='log_loss',random_state=43)"
   ]
  },
  {
   "cell_type": "code",
   "execution_count": 88,
   "id": "f6962eba-3d26-46bb-bd81-09cad8cee3a4",
   "metadata": {
    "execution": {
     "iopub.execute_input": "2023-06-25T06:11:24.917519Z",
     "iopub.status.busy": "2023-06-25T06:11:24.916093Z",
     "iopub.status.idle": "2023-06-25T06:11:33.070184Z",
     "shell.execute_reply": "2023-06-25T06:11:33.067860Z",
     "shell.execute_reply.started": "2023-06-25T06:11:24.917424Z"
    },
    "tags": []
   },
   "outputs": [
    {
     "data": {
      "text/html": [
       "<style>#sk-container-id-19 {color: black;background-color: white;}#sk-container-id-19 pre{padding: 0;}#sk-container-id-19 div.sk-toggleable {background-color: white;}#sk-container-id-19 label.sk-toggleable__label {cursor: pointer;display: block;width: 100%;margin-bottom: 0;padding: 0.3em;box-sizing: border-box;text-align: center;}#sk-container-id-19 label.sk-toggleable__label-arrow:before {content: \"▸\";float: left;margin-right: 0.25em;color: #696969;}#sk-container-id-19 label.sk-toggleable__label-arrow:hover:before {color: black;}#sk-container-id-19 div.sk-estimator:hover label.sk-toggleable__label-arrow:before {color: black;}#sk-container-id-19 div.sk-toggleable__content {max-height: 0;max-width: 0;overflow: hidden;text-align: left;background-color: #f0f8ff;}#sk-container-id-19 div.sk-toggleable__content pre {margin: 0.2em;color: black;border-radius: 0.25em;background-color: #f0f8ff;}#sk-container-id-19 input.sk-toggleable__control:checked~div.sk-toggleable__content {max-height: 200px;max-width: 100%;overflow: auto;}#sk-container-id-19 input.sk-toggleable__control:checked~label.sk-toggleable__label-arrow:before {content: \"▾\";}#sk-container-id-19 div.sk-estimator input.sk-toggleable__control:checked~label.sk-toggleable__label {background-color: #d4ebff;}#sk-container-id-19 div.sk-label input.sk-toggleable__control:checked~label.sk-toggleable__label {background-color: #d4ebff;}#sk-container-id-19 input.sk-hidden--visually {border: 0;clip: rect(1px 1px 1px 1px);clip: rect(1px, 1px, 1px, 1px);height: 1px;margin: -1px;overflow: hidden;padding: 0;position: absolute;width: 1px;}#sk-container-id-19 div.sk-estimator {font-family: monospace;background-color: #f0f8ff;border: 1px dotted black;border-radius: 0.25em;box-sizing: border-box;margin-bottom: 0.5em;}#sk-container-id-19 div.sk-estimator:hover {background-color: #d4ebff;}#sk-container-id-19 div.sk-parallel-item::after {content: \"\";width: 100%;border-bottom: 1px solid gray;flex-grow: 1;}#sk-container-id-19 div.sk-label:hover label.sk-toggleable__label {background-color: #d4ebff;}#sk-container-id-19 div.sk-serial::before {content: \"\";position: absolute;border-left: 1px solid gray;box-sizing: border-box;top: 0;bottom: 0;left: 50%;z-index: 0;}#sk-container-id-19 div.sk-serial {display: flex;flex-direction: column;align-items: center;background-color: white;padding-right: 0.2em;padding-left: 0.2em;position: relative;}#sk-container-id-19 div.sk-item {position: relative;z-index: 1;}#sk-container-id-19 div.sk-parallel {display: flex;align-items: stretch;justify-content: center;background-color: white;position: relative;}#sk-container-id-19 div.sk-item::before, #sk-container-id-19 div.sk-parallel-item::before {content: \"\";position: absolute;border-left: 1px solid gray;box-sizing: border-box;top: 0;bottom: 0;left: 50%;z-index: -1;}#sk-container-id-19 div.sk-parallel-item {display: flex;flex-direction: column;z-index: 1;position: relative;background-color: white;}#sk-container-id-19 div.sk-parallel-item:first-child::after {align-self: flex-end;width: 50%;}#sk-container-id-19 div.sk-parallel-item:last-child::after {align-self: flex-start;width: 50%;}#sk-container-id-19 div.sk-parallel-item:only-child::after {width: 0;}#sk-container-id-19 div.sk-dashed-wrapped {border: 1px dashed gray;margin: 0 0.4em 0.5em 0.4em;box-sizing: border-box;padding-bottom: 0.4em;background-color: white;}#sk-container-id-19 div.sk-label label {font-family: monospace;font-weight: bold;display: inline-block;line-height: 1.2em;}#sk-container-id-19 div.sk-label-container {text-align: center;}#sk-container-id-19 div.sk-container {/* jupyter's `normalize.less` sets `[hidden] { display: none; }` but bootstrap.min.css set `[hidden] { display: none !important; }` so we also need the `!important` here to be able to override the default hidden behavior on the sphinx rendered scikit-learn.org. See: https://github.com/scikit-learn/scikit-learn/issues/21755 */display: inline-block !important;position: relative;}#sk-container-id-19 div.sk-text-repr-fallback {display: none;}</style><div id=\"sk-container-id-19\" class=\"sk-top-container\"><div class=\"sk-text-repr-fallback\"><pre>DecisionTreeClassifier(criterion=&#x27;log_loss&#x27;, max_depth=100, min_samples_leaf=5,\n",
       "                       min_samples_split=0.0005, random_state=43)</pre><b>In a Jupyter environment, please rerun this cell to show the HTML representation or trust the notebook. <br />On GitHub, the HTML representation is unable to render, please try loading this page with nbviewer.org.</b></div><div class=\"sk-container\" hidden><div class=\"sk-item\"><div class=\"sk-estimator sk-toggleable\"><input class=\"sk-toggleable__control sk-hidden--visually\" id=\"sk-estimator-id-19\" type=\"checkbox\" checked><label for=\"sk-estimator-id-19\" class=\"sk-toggleable__label sk-toggleable__label-arrow\">DecisionTreeClassifier</label><div class=\"sk-toggleable__content\"><pre>DecisionTreeClassifier(criterion=&#x27;log_loss&#x27;, max_depth=100, min_samples_leaf=5,\n",
       "                       min_samples_split=0.0005, random_state=43)</pre></div></div></div></div></div>"
      ],
      "text/plain": [
       "DecisionTreeClassifier(criterion='log_loss', max_depth=100, min_samples_leaf=5,\n",
       "                       min_samples_split=0.0005, random_state=43)"
      ]
     },
     "execution_count": 88,
     "metadata": {},
     "output_type": "execute_result"
    }
   ],
   "source": [
    "clf.fit(X_train, y_train)"
   ]
  },
  {
   "cell_type": "code",
   "execution_count": 89,
   "id": "dffe216f-4496-485f-b800-e98b169aee3e",
   "metadata": {
    "execution": {
     "iopub.execute_input": "2023-06-25T06:11:36.138330Z",
     "iopub.status.busy": "2023-06-25T06:11:36.134306Z",
     "iopub.status.idle": "2023-06-25T06:11:36.243898Z",
     "shell.execute_reply": "2023-06-25T06:11:36.236954Z",
     "shell.execute_reply.started": "2023-06-25T06:11:36.138271Z"
    },
    "tags": []
   },
   "outputs": [
    {
     "name": "stdout",
     "output_type": "stream",
     "text": [
      "0.7732644017725259\n"
     ]
    }
   ],
   "source": [
    "y_pred=clf.predict(X_test)\n",
    "print(metrics.accuracy_score(y_test,y_pred))"
   ]
  },
  {
   "cell_type": "code",
   "execution_count": 95,
   "id": "ef105b4d-1965-46fa-881f-ef471b362e32",
   "metadata": {
    "execution": {
     "iopub.execute_input": "2023-06-25T06:20:21.687238Z",
     "iopub.status.busy": "2023-06-25T06:20:21.685526Z",
     "iopub.status.idle": "2023-06-25T06:20:21.734594Z",
     "shell.execute_reply": "2023-06-25T06:20:21.714517Z",
     "shell.execute_reply.started": "2023-06-25T06:20:21.687140Z"
    },
    "tags": []
   },
   "outputs": [],
   "source": [
    "import numpy as np\n"
   ]
  },
  {
   "cell_type": "code",
   "execution_count": 96,
   "id": "4d65e723-ed27-4e57-aad6-777f6b1d3b52",
   "metadata": {
    "execution": {
     "iopub.execute_input": "2023-06-25T06:20:23.957326Z",
     "iopub.status.busy": "2023-06-25T06:20:23.955520Z",
     "iopub.status.idle": "2023-06-25T06:20:23.977667Z",
     "shell.execute_reply": "2023-06-25T06:20:23.973154Z",
     "shell.execute_reply.started": "2023-06-25T06:20:23.957187Z"
    },
    "tags": []
   },
   "outputs": [],
   "source": [
    "# Convert DataFrame to NumPy array\n",
    "data_array = y.to_numpy()"
   ]
  },
  {
   "cell_type": "code",
   "execution_count": 97,
   "id": "89fb9b44-c1c7-43e8-a8c6-318c137a0398",
   "metadata": {
    "execution": {
     "iopub.execute_input": "2023-06-25T06:20:27.016500Z",
     "iopub.status.busy": "2023-06-25T06:20:27.015050Z",
     "iopub.status.idle": "2023-06-25T06:20:27.199855Z",
     "shell.execute_reply": "2023-06-25T06:20:27.191878Z",
     "shell.execute_reply.started": "2023-06-25T06:20:27.016407Z"
    },
    "tags": []
   },
   "outputs": [],
   "source": [
    "# Save the NumPy array as .npy file\n",
    "np.save(\"/home/idies/workspace/Storage/s.hossain18/Permanent/data_target.npy\", data_array)"
   ]
  },
  {
   "cell_type": "code",
   "execution_count": 98,
   "id": "b9ca9f9a-5ad1-40b7-9e8f-8c45d0bd369b",
   "metadata": {
    "execution": {
     "iopub.execute_input": "2023-06-25T06:20:28.995019Z",
     "iopub.status.busy": "2023-06-25T06:20:28.979443Z",
     "iopub.status.idle": "2023-06-25T06:20:29.055516Z",
     "shell.execute_reply": "2023-06-25T06:20:29.053308Z",
     "shell.execute_reply.started": "2023-06-25T06:20:28.994938Z"
    },
    "tags": []
   },
   "outputs": [],
   "source": [
    "# Load the .npy file\n",
    "data_array = np.load(\"/home/idies/workspace/Storage/s.hossain18/Permanent/data_target.npy\")\n"
   ]
  },
  {
   "cell_type": "code",
   "execution_count": 99,
   "id": "863995f4-2de1-42dd-9688-2a76c6c91682",
   "metadata": {
    "execution": {
     "iopub.execute_input": "2023-06-25T06:20:36.768225Z",
     "iopub.status.busy": "2023-06-25T06:20:36.767266Z",
     "iopub.status.idle": "2023-06-25T06:20:36.806712Z",
     "shell.execute_reply": "2023-06-25T06:20:36.802889Z",
     "shell.execute_reply.started": "2023-06-25T06:20:36.768167Z"
    },
    "tags": []
   },
   "outputs": [
    {
     "name": "stdout",
     "output_type": "stream",
     "text": [
      "[[1]\n",
      " [1]\n",
      " [1]\n",
      " ...\n",
      " [0]\n",
      " [0]\n",
      " [0]]\n",
      "Shape: (6770, 1)\n",
      "Data Type: int64\n"
     ]
    }
   ],
   "source": [
    "# Check the loaded array\n",
    "print(data_array)\n",
    "print(\"Shape:\", data_array.shape)\n",
    "print(\"Data Type:\", data_array.dtype)"
   ]
  },
  {
   "cell_type": "code",
   "execution_count": 100,
   "id": "257dbc1f-0fe7-4962-b53f-d5353d7e66d1",
   "metadata": {
    "execution": {
     "iopub.execute_input": "2023-06-25T06:25:57.937658Z",
     "iopub.status.busy": "2023-06-25T06:25:57.934903Z",
     "iopub.status.idle": "2023-06-25T06:25:57.976878Z",
     "shell.execute_reply": "2023-06-25T06:25:57.974592Z",
     "shell.execute_reply.started": "2023-06-25T06:25:57.937517Z"
    }
   },
   "outputs": [
    {
     "data": {
      "text/plain": [
       "6770"
      ]
     },
     "execution_count": 100,
     "metadata": {},
     "output_type": "execute_result"
    }
   ],
   "source": [
    "X.shape[0]"
   ]
  },
  {
   "cell_type": "code",
   "execution_count": 103,
   "id": "5dfbe810-f035-4db9-84ff-9bd8d6a3d5b6",
   "metadata": {
    "execution": {
     "iopub.execute_input": "2023-06-25T06:33:10.255366Z",
     "iopub.status.busy": "2023-06-25T06:33:10.254107Z",
     "iopub.status.idle": "2023-06-25T06:34:04.613373Z",
     "shell.execute_reply": "2023-06-25T06:34:04.609016Z",
     "shell.execute_reply.started": "2023-06-25T06:33:10.255292Z"
    },
    "tags": []
   },
   "outputs": [
    {
     "name": "stdout",
     "output_type": "stream",
     "text": [
      "Columns with outliers:\n",
      "0__has_duplicate_max                           True\n",
      "0__has_duplicate_min                           True\n",
      "0__has_duplicate                               True\n",
      "0__sum_values                                  True\n",
      "0__abs_energy                                  True\n",
      "                                              ...  \n",
      "0__permutation_entropy__dimension_5__tau_1     True\n",
      "0__permutation_entropy__dimension_6__tau_1     True\n",
      "0__permutation_entropy__dimension_7__tau_1     True\n",
      "0__mean_n_absolute_max__number_of_maxima_7     True\n",
      "exoplanet                                     False\n",
      "Length: 741, dtype: bool\n"
     ]
    },
    {
     "data": {
      "image/png": "[encoded data removed]",
      "text/plain": [
       "<Figure size 640x480 with 1 Axes>"
      ]
     },
     "metadata": {},
     "output_type": "display_data"
    }
   ],
   "source": [
    "import pandas as pd\n",
    "import numpy as np\n",
    "import matplotlib.pyplot as plt\n",
    "\n",
    "# Assuming you have a DataFrame named 'df' containing your data\n",
    "\n",
    "# Calculate z-scores for each column\n",
    "z_scores = (data - data.mean()) / data.std()\n",
    "\n",
    "# Check for outliers using z-score threshold (e.g., z-score > 3 or z-score < -3)\n",
    "outliers = (z_scores > 3) | (z_scores < -3)\n",
    "\n",
    "# Identify columns with outliers\n",
    "columns_with_outliers = outliers.any()\n",
    "\n",
    "# Print columns with outliers\n",
    "print(\"Columns with outliers:\")\n",
    "print(columns_with_outliers)\n",
    "\n",
    "# Visualize outliers using box plots\n",
    "data.boxplot()\n",
    "plt.title(\"Box plot showing outliers\")\n",
    "plt.show()\n"
   ]
  },
  {
   "cell_type": "code",
   "execution_count": 104,
   "id": "f3ef1d98-057e-4be0-adff-c889a1c35720",
   "metadata": {
    "execution": {
     "iopub.execute_input": "2023-06-25T06:40:12.815382Z",
     "iopub.status.busy": "2023-06-25T06:40:12.813099Z",
     "iopub.status.idle": "2023-06-25T06:40:22.837471Z",
     "shell.execute_reply": "2023-06-25T06:40:22.834467Z",
     "shell.execute_reply.started": "2023-06-25T06:40:12.815233Z"
    }
   },
   "outputs": [
    {
     "name": "stderr",
     "output_type": "stream",
     "text": [
      "/home/idies/mambaforge/envs/py39/lib/python3.9/site-packages/sklearn/base.py:439: UserWarning: X does not have valid feature names, but IsolationForest was fitted with feature names\n",
      "  warnings.warn(\n"
     ]
    },
    {
     "name": "stdout",
     "output_type": "stream",
     "text": [
      "      0__has_duplicate_max  0__has_duplicate_min  0__has_duplicate  \\\n",
      "0                      0.0                   0.0               1.0   \n",
      "1                      0.0                   0.0               1.0   \n",
      "2                      0.0                   0.0               1.0   \n",
      "3                      0.0                   0.0               1.0   \n",
      "4                      0.0                   0.0               1.0   \n",
      "...                    ...                   ...               ...   \n",
      "6765                   0.0                   0.0               1.0   \n",
      "6766                   0.0                   0.0               1.0   \n",
      "6767                   0.0                   0.0               1.0   \n",
      "6768                   0.0                   0.0               1.0   \n",
      "6769                   0.0                   0.0               1.0   \n",
      "\n",
      "      0__sum_values  0__abs_energy  0__mean_abs_change  0__mean_change  \\\n",
      "0      2.064484e+08   9.087643e+13           49.472137       -1.596880   \n",
      "1      4.033714e+07   3.469264e+12           11.189566       -0.061365   \n",
      "2      2.356355e+08   1.183882e+14           31.821496       -0.043205   \n",
      "3      1.542565e+08   5.073574e+13           20.735256        0.017564   \n",
      "4      6.463351e+07   8.907230e+12           13.109850        0.032970   \n",
      "...             ...            ...                 ...             ...   \n",
      "6765   7.412234e+08   1.329009e+14           21.034592        0.031611   \n",
      "6766   6.835205e+06   1.052213e+10            5.053216       -0.000053   \n",
      "6767   6.158480e+07   2.335400e+12           11.852310        0.004296   \n",
      "6768   1.421724e+07   4.551978e+10            6.917559       -0.005043   \n",
      "6769   2.396035e+07   1.224091e+12           11.670474        0.054077   \n",
      "\n",
      "      0__mean_second_derivative_central    0__median        0__mean  ...  \\\n",
      "0                              0.233340  440294.3400  440188.539467  ...   \n",
      "1                              0.013920   86008.3280   86006.694215  ...   \n",
      "2                             -0.006702  502421.6600  502421.010704  ...   \n",
      "3                             -0.000428  328907.4100  328905.047953  ...   \n",
      "4                              0.038822  137811.1900  137811.322132  ...   \n",
      "...                                 ...          ...            ...  ...   \n",
      "6765                          -0.000934  179299.3300  179299.333928  ...   \n",
      "6766                           0.001566    1541.3411    1539.113866  ...   \n",
      "6767                          -0.005450   37920.9650   37921.675920  ...   \n",
      "6768                           0.002523    3202.0889    3201.360267  ...   \n",
      "6769                          -0.002209   51089.7460   51088.169883  ...   \n",
      "\n",
      "      0__fourier_entropy__bins_10  0__fourier_entropy__bins_100  \\\n",
      "0                        0.226363                      0.683850   \n",
      "1                        0.987024                      3.059897   \n",
      "2                        1.484769                      3.485233   \n",
      "3                        0.136002                      0.136002   \n",
      "4                        1.172295                      3.166886   \n",
      "...                           ...                           ...   \n",
      "6765                     0.136002                      0.712190   \n",
      "6766                     1.080672                      1.796163   \n",
      "6767                     1.074047                      2.807436   \n",
      "6768                     0.974663                      2.325253   \n",
      "6769                     0.325140                      1.689949   \n",
      "\n",
      "      0__permutation_entropy__dimension_3__tau_1  \\\n",
      "0                                       1.731587   \n",
      "1                                       1.784421   \n",
      "2                                       1.787237   \n",
      "3                                       1.788031   \n",
      "4                                       1.791362   \n",
      "...                                          ...   \n",
      "6765                                    1.789161   \n",
      "6766                                    1.791326   \n",
      "6767                                    1.751650   \n",
      "6768                                    1.791699   \n",
      "6769                                    1.791334   \n",
      "\n",
      "      0__permutation_entropy__dimension_4__tau_1  \\\n",
      "0                                       2.948862   \n",
      "1                                       3.140410   \n",
      "2                                       3.155666   \n",
      "3                                       3.154802   \n",
      "4                                       3.152715   \n",
      "...                                          ...   \n",
      "6765                                    3.155906   \n",
      "6766                                    3.174491   \n",
      "6767                                    3.034703   \n",
      "6768                                    3.177379   \n",
      "6769                                    3.167718   \n",
      "\n",
      "      0__permutation_entropy__dimension_5__tau_1  \\\n",
      "0                                       4.207599   \n",
      "1                                       4.650275   \n",
      "2                                       4.653332   \n",
      "3                                       4.640576   \n",
      "4                                       4.640313   \n",
      "...                                          ...   \n",
      "6765                                    4.716491   \n",
      "6766                                    4.768039   \n",
      "6767                                    4.461346   \n",
      "6768                                    4.771948   \n",
      "6769                                    4.693086   \n",
      "\n",
      "      0__permutation_entropy__dimension_6__tau_1  \\\n",
      "0                                       5.161319   \n",
      "1                                       5.755482   \n",
      "2                                       5.759202   \n",
      "3                                       5.760329   \n",
      "4                                       5.736220   \n",
      "...                                          ...   \n",
      "6765                                    6.362577   \n",
      "6766                                    6.477100   \n",
      "6767                                    5.839106   \n",
      "6768                                    6.485820   \n",
      "6769                                    5.762585   \n",
      "\n",
      "      0__permutation_entropy__dimension_7__tau_1  \\\n",
      "0                                       5.692017   \n",
      "1                                       6.079708   \n",
      "2                                       6.072590   \n",
      "3                                       6.089821   \n",
      "4                                       6.063607   \n",
      "...                                          ...   \n",
      "6765                                    7.671277   \n",
      "6766                                    7.827814   \n",
      "6767                                    6.771957   \n",
      "6768                                    7.861269   \n",
      "6769                                    6.077844   \n",
      "\n",
      "      0__mean_n_absolute_max__number_of_maxima_7  exoplanet  Anomaly  \n",
      "0                                  440732.865714          1        1  \n",
      "1                                   86037.216571          1        1  \n",
      "2                                  502495.228571          1        1  \n",
      "3                                  329106.067143          1        1  \n",
      "4                                  137844.580000          1        1  \n",
      "...                                          ...        ...      ...  \n",
      "6765                               179484.241429          0        1  \n",
      "6766                                 1562.118543          0        1  \n",
      "6767                                38000.597000          0        1  \n",
      "6768                                 3243.938914          0        1  \n",
      "6769                                51132.993286          0        1  \n",
      "\n",
      "[6770 rows x 742 columns]\n"
     ]
    }
   ],
   "source": [
    "from sklearn.ensemble import IsolationForest\n",
    "\n",
    "# Assuming you have a DataFrame named 'df' containing your data\n",
    "\n",
    "# Create an instance of Isolation Forest\n",
    "isolation_forest = IsolationForest(contamination=0.05)  # Adjust contamination parameter as needed\n",
    "\n",
    "# Fit the Isolation Forest model on the data\n",
    "isolation_forest.fit(data)\n",
    "\n",
    "# Predict anomaly labels (-1 for anomalies, 1 for normal data points)\n",
    "anomaly_labels = isolation_forest.predict(data)\n",
    "\n",
    "# Create a new DataFrame with anomaly labels\n",
    "df_anomalies = data.copy()\n",
    "df_anomalies['Anomaly'] = anomaly_labels\n",
    "\n",
    "# Print the DataFrame with anomaly labels\n",
    "print(df_anomalies)"
   ]
  },
  {
   "cell_type": "code",
   "execution_count": 105,
   "id": "00c1c57f-2ec1-4ea3-9d78-9a56435fa680",
   "metadata": {
    "execution": {
     "iopub.execute_input": "2023-06-25T06:55:19.678203Z",
     "iopub.status.busy": "2023-06-25T06:55:19.677016Z",
     "iopub.status.idle": "2023-06-25T06:55:19.720855Z",
     "shell.execute_reply": "2023-06-25T06:55:19.712171Z",
     "shell.execute_reply.started": "2023-06-25T06:55:19.678110Z"
    }
   },
   "outputs": [],
   "source": [
    "from sklearn.decomposition import IncrementalPCA"
   ]
  },
  {
   "cell_type": "code",
   "execution_count": 107,
   "id": "49eaf727-e9fd-4e57-84c6-ce1e331ca63f",
   "metadata": {
    "execution": {
     "iopub.execute_input": "2023-06-25T06:55:37.705919Z",
     "iopub.status.busy": "2023-06-25T06:55:37.704394Z",
     "iopub.status.idle": "2023-06-25T06:55:37.717546Z",
     "shell.execute_reply": "2023-06-25T06:55:37.714981Z",
     "shell.execute_reply.started": "2023-06-25T06:55:37.705825Z"
    },
    "tags": []
   },
   "outputs": [],
   "source": [
    "# Define the batch size and number of components\n",
    "batch_size = 100\n",
    "n_components = 10\n"
   ]
  },
  {
   "cell_type": "code",
   "execution_count": 108,
   "id": "5a6980ef-364f-4464-90c0-685b95615d50",
   "metadata": {
    "execution": {
     "iopub.execute_input": "2023-06-25T06:55:47.578851Z",
     "iopub.status.busy": "2023-06-25T06:55:47.577206Z",
     "iopub.status.idle": "2023-06-25T06:55:47.601168Z",
     "shell.execute_reply": "2023-06-25T06:55:47.598931Z",
     "shell.execute_reply.started": "2023-06-25T06:55:47.578777Z"
    }
   },
   "outputs": [],
   "source": [
    "# Create an instance of IncrementalPCA\n",
    "ipca = IncrementalPCA(n_components=n_components)"
   ]
  },
  {
   "cell_type": "code",
   "execution_count": 110,
   "id": "2ca0fe00-642a-4ff2-b208-7dda3465ced3",
   "metadata": {
    "execution": {
     "iopub.execute_input": "2023-06-25T06:58:32.965903Z",
     "iopub.status.busy": "2023-06-25T06:58:32.964584Z",
     "iopub.status.idle": "2023-06-25T07:06:21.300803Z",
     "shell.execute_reply": "2023-06-25T07:06:21.290014Z",
     "shell.execute_reply.started": "2023-06-25T06:58:32.965830Z"
    },
    "tags": []
   },
   "outputs": [],
   "source": [
    "# Perform Incremental PCA on the data in batches\n",
    "for batch_start in range(0, len(df_filtered), batch_size):\n",
    "    batch_end = batch_start + batch_size\n",
    "    batch_data = df_filtered.iloc[batch_start:batch_end]\n",
    "    ipca.partial_fit(batch_data)"
   ]
  },
  {
   "cell_type": "code",
   "execution_count": 111,
   "id": "9378265a-a4ee-4227-b40f-2ba8a0ad8595",
   "metadata": {
    "execution": {
     "iopub.execute_input": "2023-06-25T07:06:21.394653Z",
     "iopub.status.busy": "2023-06-25T07:06:21.393618Z",
     "iopub.status.idle": "2023-06-25T07:06:21.841526Z",
     "shell.execute_reply": "2023-06-25T07:06:21.838002Z",
     "shell.execute_reply.started": "2023-06-25T07:06:21.394579Z"
    }
   },
   "outputs": [],
   "source": [
    "# Transform the data using the learned components\n",
    "transformed_data = ipca.transform(df_filtered)\n"
   ]
  },
  {
   "cell_type": "code",
   "execution_count": 112,
   "id": "a72c58eb-2971-40cc-a9d0-fcf0c9421511",
   "metadata": {
    "execution": {
     "iopub.execute_input": "2023-06-25T07:07:17.304372Z",
     "iopub.status.busy": "2023-06-25T07:07:17.302452Z",
     "iopub.status.idle": "2023-06-25T07:07:17.336879Z",
     "shell.execute_reply": "2023-06-25T07:07:17.333848Z",
     "shell.execute_reply.started": "2023-06-25T07:07:17.304274Z"
    }
   },
   "outputs": [],
   "source": [
    "# Create a DataFrame from the transformed data\n",
    "df_transformed = pd.DataFrame(transformed_data, columns=[f'PC{i+1}' for i in range(n_components)])\n"
   ]
  },
  {
   "cell_type": "code",
   "execution_count": 113,
   "id": "de8e42fa-33ea-46aa-89c4-cf0158053209",
   "metadata": {
    "execution": {
     "iopub.execute_input": "2023-06-25T07:07:26.317295Z",
     "iopub.status.busy": "2023-06-25T07:07:26.316349Z",
     "iopub.status.idle": "2023-06-25T07:07:26.393567Z",
     "shell.execute_reply": "2023-06-25T07:07:26.390602Z",
     "shell.execute_reply.started": "2023-06-25T07:07:26.317236Z"
    }
   },
   "outputs": [
    {
     "data": {
      "text/html": [
       "<div>\n",
       "<style scoped>\n",
       "    .dataframe tbody tr th:only-of-type {\n",
       "        vertical-align: middle;\n",
       "    }\n",
       "\n",
       "    .dataframe tbody tr th {\n",
       "        vertical-align: top;\n",
       "    }\n",
       "\n",
       "    .dataframe thead th {\n",
       "        text-align: right;\n",
       "    }\n",
       "</style>\n",
       "<table border=\"1\" class=\"dataframe\">\n",
       "  <thead>\n",
       "    <tr style=\"text-align: right;\">\n",
       "      <th></th>\n",
       "      <th>PC1</th>\n",
       "      <th>PC2</th>\n",
       "      <th>PC3</th>\n",
       "      <th>PC4</th>\n",
       "      <th>PC5</th>\n",
       "      <th>PC6</th>\n",
       "      <th>PC7</th>\n",
       "      <th>PC8</th>\n",
       "      <th>PC9</th>\n",
       "      <th>PC10</th>\n",
       "    </tr>\n",
       "  </thead>\n",
       "  <tbody>\n",
       "    <tr>\n",
       "      <th>0</th>\n",
       "      <td>-2.400813e+18</td>\n",
       "      <td>5.317712e+13</td>\n",
       "      <td>-3.168945e+13</td>\n",
       "      <td>-9.334169e+12</td>\n",
       "      <td>-1.939027e+12</td>\n",
       "      <td>3.757560e+10</td>\n",
       "      <td>-3.635144e+11</td>\n",
       "      <td>-3.513608e+10</td>\n",
       "      <td>-6.064769e+08</td>\n",
       "      <td>2.357469e+07</td>\n",
       "    </tr>\n",
       "    <tr>\n",
       "      <th>1</th>\n",
       "      <td>-2.547444e+18</td>\n",
       "      <td>-1.037604e+13</td>\n",
       "      <td>-5.069717e+13</td>\n",
       "      <td>-2.770991e+13</td>\n",
       "      <td>-2.153753e+12</td>\n",
       "      <td>-4.790313e+10</td>\n",
       "      <td>-6.470913e+11</td>\n",
       "      <td>-1.248159e+11</td>\n",
       "      <td>-5.880681e+08</td>\n",
       "      <td>1.193945e+08</td>\n",
       "    </tr>\n",
       "    <tr>\n",
       "      <th>2</th>\n",
       "      <td>-2.328880e+18</td>\n",
       "      <td>6.909468e+13</td>\n",
       "      <td>-2.832190e+13</td>\n",
       "      <td>-7.873085e+11</td>\n",
       "      <td>-1.714467e+12</td>\n",
       "      <td>-1.685291e+11</td>\n",
       "      <td>-3.062953e+11</td>\n",
       "      <td>1.339662e+12</td>\n",
       "      <td>-2.801837e+09</td>\n",
       "      <td>7.358963e+08</td>\n",
       "    </tr>\n",
       "    <tr>\n",
       "      <th>3</th>\n",
       "      <td>-2.486920e+18</td>\n",
       "      <td>2.523249e+13</td>\n",
       "      <td>-4.002155e+13</td>\n",
       "      <td>-1.446283e+13</td>\n",
       "      <td>-2.010208e+12</td>\n",
       "      <td>-4.807024e+10</td>\n",
       "      <td>-5.168273e+11</td>\n",
       "      <td>1.576552e+11</td>\n",
       "      <td>-1.001197e+09</td>\n",
       "      <td>1.952870e+08</td>\n",
       "    </tr>\n",
       "    <tr>\n",
       "      <th>4</th>\n",
       "      <td>-2.544013e+18</td>\n",
       "      <td>-5.895688e+12</td>\n",
       "      <td>-4.936482e+13</td>\n",
       "      <td>-2.594853e+13</td>\n",
       "      <td>-2.139359e+12</td>\n",
       "      <td>-4.391874e+10</td>\n",
       "      <td>-6.515919e+11</td>\n",
       "      <td>-7.387762e+11</td>\n",
       "      <td>3.781832e+08</td>\n",
       "      <td>-2.298676e+08</td>\n",
       "    </tr>\n",
       "    <tr>\n",
       "      <th>...</th>\n",
       "      <td>...</td>\n",
       "      <td>...</td>\n",
       "      <td>...</td>\n",
       "      <td>...</td>\n",
       "      <td>...</td>\n",
       "      <td>...</td>\n",
       "      <td>...</td>\n",
       "      <td>...</td>\n",
       "      <td>...</td>\n",
       "      <td>...</td>\n",
       "    </tr>\n",
       "    <tr>\n",
       "      <th>6765</th>\n",
       "      <td>-2.538562e+18</td>\n",
       "      <td>1.038686e+14</td>\n",
       "      <td>-1.592393e+13</td>\n",
       "      <td>1.914627e+13</td>\n",
       "      <td>-1.868800e+12</td>\n",
       "      <td>-6.056135e+10</td>\n",
       "      <td>-3.651891e+11</td>\n",
       "      <td>4.521142e+10</td>\n",
       "      <td>-8.241141e+08</td>\n",
       "      <td>-2.935570e+07</td>\n",
       "    </tr>\n",
       "    <tr>\n",
       "      <th>6766</th>\n",
       "      <td>-2.548546e+18</td>\n",
       "      <td>-1.333998e+13</td>\n",
       "      <td>-5.159271e+13</td>\n",
       "      <td>-2.889810e+13</td>\n",
       "      <td>-2.161921e+12</td>\n",
       "      <td>-4.827701e+10</td>\n",
       "      <td>-6.517615e+11</td>\n",
       "      <td>-3.469796e+10</td>\n",
       "      <td>-7.302610e+08</td>\n",
       "      <td>1.762583e+08</td>\n",
       "    </tr>\n",
       "    <tr>\n",
       "      <th>6767</th>\n",
       "      <td>-2.548452e+18</td>\n",
       "      <td>-1.128111e+13</td>\n",
       "      <td>-5.096533e+13</td>\n",
       "      <td>-2.805204e+13</td>\n",
       "      <td>-2.156879e+12</td>\n",
       "      <td>-4.843995e+10</td>\n",
       "      <td>-6.467833e+11</td>\n",
       "      <td>-3.360962e+10</td>\n",
       "      <td>-7.313552e+08</td>\n",
       "      <td>1.702651e+08</td>\n",
       "    </tr>\n",
       "    <tr>\n",
       "      <th>6768</th>\n",
       "      <td>-2.548546e+18</td>\n",
       "      <td>-1.330884e+13</td>\n",
       "      <td>-5.158321e+13</td>\n",
       "      <td>-2.888528e+13</td>\n",
       "      <td>-2.161847e+12</td>\n",
       "      <td>-4.827874e+10</td>\n",
       "      <td>-6.516871e+11</td>\n",
       "      <td>-3.469388e+10</td>\n",
       "      <td>-7.302393e+08</td>\n",
       "      <td>1.758127e+08</td>\n",
       "    </tr>\n",
       "    <tr>\n",
       "      <th>6769</th>\n",
       "      <td>-2.548315e+18</td>\n",
       "      <td>-1.228399e+13</td>\n",
       "      <td>-5.127415e+13</td>\n",
       "      <td>-2.846846e+13</td>\n",
       "      <td>-2.158910e+12</td>\n",
       "      <td>-4.911331e+10</td>\n",
       "      <td>-6.486815e+11</td>\n",
       "      <td>-2.276826e+10</td>\n",
       "      <td>-7.485113e+08</td>\n",
       "      <td>1.799289e+08</td>\n",
       "    </tr>\n",
       "  </tbody>\n",
       "</table>\n",
       "<p>6770 rows × 10 columns</p>\n",
       "</div>"
      ],
      "text/plain": [
       "               PC1           PC2           PC3           PC4           PC5  \\\n",
       "0    -2.400813e+18  5.317712e+13 -3.168945e+13 -9.334169e+12 -1.939027e+12   \n",
       "1    -2.547444e+18 -1.037604e+13 -5.069717e+13 -2.770991e+13 -2.153753e+12   \n",
       "2    -2.328880e+18  6.909468e+13 -2.832190e+13 -7.873085e+11 -1.714467e+12   \n",
       "3    -2.486920e+18  2.523249e+13 -4.002155e+13 -1.446283e+13 -2.010208e+12   \n",
       "4    -2.544013e+18 -5.895688e+12 -4.936482e+13 -2.594853e+13 -2.139359e+12   \n",
       "...            ...           ...           ...           ...           ...   \n",
       "6765 -2.538562e+18  1.038686e+14 -1.592393e+13  1.914627e+13 -1.868800e+12   \n",
       "6766 -2.548546e+18 -1.333998e+13 -5.159271e+13 -2.889810e+13 -2.161921e+12   \n",
       "6767 -2.548452e+18 -1.128111e+13 -5.096533e+13 -2.805204e+13 -2.156879e+12   \n",
       "6768 -2.548546e+18 -1.330884e+13 -5.158321e+13 -2.888528e+13 -2.161847e+12   \n",
       "6769 -2.548315e+18 -1.228399e+13 -5.127415e+13 -2.846846e+13 -2.158910e+12   \n",
       "\n",
       "               PC6           PC7           PC8           PC9          PC10  \n",
       "0     3.757560e+10 -3.635144e+11 -3.513608e+10 -6.064769e+08  2.357469e+07  \n",
       "1    -4.790313e+10 -6.470913e+11 -1.248159e+11 -5.880681e+08  1.193945e+08  \n",
       "2    -1.685291e+11 -3.062953e+11  1.339662e+12 -2.801837e+09  7.358963e+08  \n",
       "3    -4.807024e+10 -5.168273e+11  1.576552e+11 -1.001197e+09  1.952870e+08  \n",
       "4    -4.391874e+10 -6.515919e+11 -7.387762e+11  3.781832e+08 -2.298676e+08  \n",
       "...            ...           ...           ...           ...           ...  \n",
       "6765 -6.056135e+10 -3.651891e+11  4.521142e+10 -8.241141e+08 -2.935570e+07  \n",
       "6766 -4.827701e+10 -6.517615e+11 -3.469796e+10 -7.302610e+08  1.762583e+08  \n",
       "6767 -4.843995e+10 -6.467833e+11 -3.360962e+10 -7.313552e+08  1.702651e+08  \n",
       "6768 -4.827874e+10 -6.516871e+11 -3.469388e+10 -7.302393e+08  1.758127e+08  \n",
       "6769 -4.911331e+10 -6.486815e+11 -2.276826e+10 -7.485113e+08  1.799289e+08  \n",
       "\n",
       "[6770 rows x 10 columns]"
      ]
     },
     "execution_count": 113,
     "metadata": {},
     "output_type": "execute_result"
    }
   ],
   "source": [
    "df_transformed"
   ]
  },
  {
   "cell_type": "code",
   "execution_count": 114,
   "id": "5f1c6aa4-7ad3-402b-9764-f18386c7516b",
   "metadata": {
    "execution": {
     "iopub.execute_input": "2023-06-25T07:07:59.703101Z",
     "iopub.status.busy": "2023-06-25T07:07:59.701136Z",
     "iopub.status.idle": "2023-06-25T07:07:59.721166Z",
     "shell.execute_reply": "2023-06-25T07:07:59.718511Z",
     "shell.execute_reply.started": "2023-06-25T07:07:59.703027Z"
    }
   },
   "outputs": [
    {
     "data": {
      "text/plain": [
       "array([[-2.40081311e+18,  5.31771192e+13, -3.16894472e+13, ...,\n",
       "        -3.51360769e+10, -6.06476882e+08,  2.35746934e+07],\n",
       "       [-2.54744429e+18, -1.03760414e+13, -5.06971700e+13, ...,\n",
       "        -1.24815918e+11, -5.88068145e+08,  1.19394513e+08],\n",
       "       [-2.32887967e+18,  6.90946800e+13, -2.83219008e+13, ...,\n",
       "         1.33966244e+12, -2.80183671e+09,  7.35896255e+08],\n",
       "       ...,\n",
       "       [-2.54845177e+18, -1.12811090e+13, -5.09653252e+13, ...,\n",
       "        -3.36096186e+10, -7.31355164e+08,  1.70265097e+08],\n",
       "       [-2.54854617e+18, -1.33088442e+13, -5.15832127e+13, ...,\n",
       "        -3.46938758e+10, -7.30239314e+08,  1.75812691e+08],\n",
       "       [-2.54831527e+18, -1.22839910e+13, -5.12741472e+13, ...,\n",
       "        -2.27682576e+10, -7.48511265e+08,  1.79928854e+08]])"
      ]
     },
     "execution_count": 114,
     "metadata": {},
     "output_type": "execute_result"
    }
   ],
   "source": [
    "transformed_data"
   ]
  },
  {
   "cell_type": "code",
   "execution_count": 2,
   "id": "61cfa5f8-1ca6-4be5-869c-873c89a08a37",
   "metadata": {
    "execution": {
     "iopub.execute_input": "2023-07-02T08:33:45.897472Z",
     "iopub.status.busy": "2023-07-02T08:33:45.896630Z",
     "iopub.status.idle": "2023-07-02T08:33:45.948622Z",
     "shell.execute_reply": "2023-07-02T08:33:45.946040Z",
     "shell.execute_reply.started": "2023-07-02T08:33:45.897411Z"
    },
    "tags": []
   },
   "outputs": [
    {
     "name": "stdout",
     "output_type": "stream",
     "text": [
      "     A    B\n",
      "0  1.0  5.0\n",
      "1  2.0  7.0\n",
      "2  2.0  7.0\n",
      "3  4.0  8.0\n"
     ]
    }
   ],
   "source": [
    "import pandas as pd\n",
    "import numpy as np\n",
    "# Create a sample DataFrame with missing values\n",
    "data = {'A': [1, 2, np.nan, 4], 'B': [5, np.nan, 7, 8]}\n",
    "df = pd.DataFrame(data)\n",
    "\n",
    "# Fill missing values with median of each column\n",
    "df_filled = df.fillna(df.median())\n",
    "\n",
    "print(df_filled)"
   ]
  },
  {
   "cell_type": "code",
   "execution_count": 7,
   "id": "2672f158-ea61-45cf-8507-95a11b5092b9",
   "metadata": {
    "execution": {
     "iopub.execute_input": "2023-07-02T08:56:17.919796Z",
     "iopub.status.busy": "2023-07-02T08:56:17.918625Z",
     "iopub.status.idle": "2023-07-02T08:56:17.935337Z",
     "shell.execute_reply": "2023-07-02T08:56:17.932808Z",
     "shell.execute_reply.started": "2023-07-02T08:56:17.919730Z"
    }
   },
   "outputs": [],
   "source": [
    "# Convert DataFrame to NumPy array\n",
    "data_array = data[['exoplanet']].to_numpy()"
   ]
  },
  {
   "cell_type": "code",
   "execution_count": 8,
   "id": "1e306d71-f933-4af2-ae0b-71d308a491f4",
   "metadata": {
    "execution": {
     "iopub.execute_input": "2023-07-02T08:56:23.782300Z",
     "iopub.status.busy": "2023-07-02T08:56:23.781507Z",
     "iopub.status.idle": "2023-07-02T08:56:23.940955Z",
     "shell.execute_reply": "2023-07-02T08:56:23.938940Z",
     "shell.execute_reply.started": "2023-07-02T08:56:23.782239Z"
    }
   },
   "outputs": [],
   "source": [
    "# Save NumPy array as npy file\n",
    "np.save('data.npy', data_array)"
   ]
  },
  {
   "cell_type": "code",
   "execution_count": 10,
   "id": "ca077011-1c91-4401-833d-4e09152e268c",
   "metadata": {
    "execution": {
     "iopub.execute_input": "2023-07-02T08:59:54.806678Z",
     "iopub.status.busy": "2023-07-02T08:59:54.805823Z",
     "iopub.status.idle": "2023-07-02T08:59:55.009599Z",
     "shell.execute_reply": "2023-07-02T08:59:55.007531Z",
     "shell.execute_reply.started": "2023-07-02T08:59:54.806603Z"
    }
   },
   "outputs": [],
   "source": [
    "data[['exoplanet']].to_csv('/home/idies/workspace/Storage/s.hossain18/Permanent/Data/data_target.csv', index=False)"
   ]
  },
  {
   "cell_type": "code",
   "execution_count": 11,
   "id": "6c4bf8db-ecc0-47ec-b099-5a164cbb0ad0",
   "metadata": {
    "execution": {
     "iopub.execute_input": "2023-07-02T09:00:31.168080Z",
     "iopub.status.busy": "2023-07-02T09:00:31.167231Z",
     "iopub.status.idle": "2023-07-02T09:00:31.198821Z",
     "shell.execute_reply": "2023-07-02T09:00:31.196751Z",
     "shell.execute_reply.started": "2023-07-02T09:00:31.168019Z"
    }
   },
   "outputs": [],
   "source": [
    "test = pd.read_csv('/home/idies/workspace/Storage/s.hossain18/Permanent/Data/data_target.csv')"
   ]
  },
  {
   "cell_type": "code",
   "execution_count": 12,
   "id": "3fcd86f8-6496-4eac-b301-be6f628526ba",
   "metadata": {
    "execution": {
     "iopub.execute_input": "2023-07-02T09:00:34.990921Z",
     "iopub.status.busy": "2023-07-02T09:00:34.990064Z",
     "iopub.status.idle": "2023-07-02T09:00:35.033586Z",
     "shell.execute_reply": "2023-07-02T09:00:35.031703Z",
     "shell.execute_reply.started": "2023-07-02T09:00:34.990807Z"
    }
   },
   "outputs": [
    {
     "data": {
      "text/html": [
       "<div>\n",
       "<style scoped>\n",
       "    .dataframe tbody tr th:only-of-type {\n",
       "        vertical-align: middle;\n",
       "    }\n",
       "\n",
       "    .dataframe tbody tr th {\n",
       "        vertical-align: top;\n",
       "    }\n",
       "\n",
       "    .dataframe thead th {\n",
       "        text-align: right;\n",
       "    }\n",
       "</style>\n",
       "<table border=\"1\" class=\"dataframe\">\n",
       "  <thead>\n",
       "    <tr style=\"text-align: right;\">\n",
       "      <th></th>\n",
       "      <th>exoplanet</th>\n",
       "    </tr>\n",
       "  </thead>\n",
       "  <tbody>\n",
       "    <tr>\n",
       "      <th>0</th>\n",
       "      <td>1</td>\n",
       "    </tr>\n",
       "    <tr>\n",
       "      <th>1</th>\n",
       "      <td>1</td>\n",
       "    </tr>\n",
       "    <tr>\n",
       "      <th>2</th>\n",
       "      <td>1</td>\n",
       "    </tr>\n",
       "    <tr>\n",
       "      <th>3</th>\n",
       "      <td>1</td>\n",
       "    </tr>\n",
       "    <tr>\n",
       "      <th>4</th>\n",
       "      <td>1</td>\n",
       "    </tr>\n",
       "    <tr>\n",
       "      <th>...</th>\n",
       "      <td>...</td>\n",
       "    </tr>\n",
       "    <tr>\n",
       "      <th>6765</th>\n",
       "      <td>0</td>\n",
       "    </tr>\n",
       "    <tr>\n",
       "      <th>6766</th>\n",
       "      <td>0</td>\n",
       "    </tr>\n",
       "    <tr>\n",
       "      <th>6767</th>\n",
       "      <td>0</td>\n",
       "    </tr>\n",
       "    <tr>\n",
       "      <th>6768</th>\n",
       "      <td>0</td>\n",
       "    </tr>\n",
       "    <tr>\n",
       "      <th>6769</th>\n",
       "      <td>0</td>\n",
       "    </tr>\n",
       "  </tbody>\n",
       "</table>\n",
       "<p>6770 rows × 1 columns</p>\n",
       "</div>"
      ],
      "text/plain": [
       "      exoplanet\n",
       "0             1\n",
       "1             1\n",
       "2             1\n",
       "3             1\n",
       "4             1\n",
       "...         ...\n",
       "6765          0\n",
       "6766          0\n",
       "6767          0\n",
       "6768          0\n",
       "6769          0\n",
       "\n",
       "[6770 rows x 1 columns]"
      ]
     },
     "execution_count": 12,
     "metadata": {},
     "output_type": "execute_result"
    }
   ],
   "source": [
    "test"
   ]
  },
  {
   "cell_type": "code",
   "execution_count": 32,
   "id": "f94ec4aa-6a2f-49c6-957f-79033c1798d6",
   "metadata": {
    "execution": {
     "iopub.execute_input": "2023-07-02T09:24:57.885395Z",
     "iopub.status.busy": "2023-07-02T09:24:57.882750Z",
     "iopub.status.idle": "2023-07-02T09:24:58.192358Z",
     "shell.execute_reply": "2023-07-02T09:24:58.190133Z",
     "shell.execute_reply.started": "2023-07-02T09:24:57.885334Z"
    },
    "tags": []
   },
   "outputs": [],
   "source": [
    "X = data.drop(['exoplanet'],axis=1)\n",
    "y = data[['exoplanet']]"
   ]
  },
  {
   "cell_type": "code",
   "execution_count": 33,
   "id": "7f5ca41e-4843-473b-92cd-07f96803be5b",
   "metadata": {
    "execution": {
     "iopub.execute_input": "2023-07-02T09:25:00.736669Z",
     "iopub.status.busy": "2023-07-02T09:25:00.735884Z",
     "iopub.status.idle": "2023-07-02T09:25:01.048763Z",
     "shell.execute_reply": "2023-07-02T09:25:01.046264Z",
     "shell.execute_reply.started": "2023-07-02T09:25:00.736608Z"
    },
    "tags": []
   },
   "outputs": [],
   "source": [
    "from sklearn.model_selection import train_test_split\n",
    "X_train, X_test, y_train, y_test = train_test_split(X, y, test_size=0.4, random_state=43,stratify=y)"
   ]
  },
  {
   "cell_type": "code",
   "execution_count": 34,
   "id": "972e5ad8-2ef4-4cdf-8b85-1ba9a91ba180",
   "metadata": {
    "execution": {
     "iopub.execute_input": "2023-07-02T09:25:02.938137Z",
     "iopub.status.busy": "2023-07-02T09:25:02.935955Z",
     "iopub.status.idle": "2023-07-02T09:25:02.960930Z",
     "shell.execute_reply": "2023-07-02T09:25:02.958182Z",
     "shell.execute_reply.started": "2023-07-02T09:25:02.938041Z"
    },
    "tags": []
   },
   "outputs": [
    {
     "data": {
      "text/plain": [
       "pandas.core.frame.DataFrame"
      ]
     },
     "execution_count": 34,
     "metadata": {},
     "output_type": "execute_result"
    }
   ],
   "source": [
    "type(y_train)"
   ]
  },
  {
   "cell_type": "code",
   "execution_count": 35,
   "id": "a4df0d54-bc34-4d81-a804-367ddb25b3b1",
   "metadata": {
    "execution": {
     "iopub.execute_input": "2023-07-02T09:25:06.585684Z",
     "iopub.status.busy": "2023-07-02T09:25:06.584893Z",
     "iopub.status.idle": "2023-07-02T09:25:06.596042Z",
     "shell.execute_reply": "2023-07-02T09:25:06.593990Z",
     "shell.execute_reply.started": "2023-07-02T09:25:06.585625Z"
    },
    "tags": []
   },
   "outputs": [],
   "source": [
    "from sklearn.preprocessing import QuantileTransformer\n",
    "qt = QuantileTransformer()"
   ]
  },
  {
   "cell_type": "code",
   "execution_count": 36,
   "id": "499a51c2-3775-4330-bfe8-75e16ebe86f8",
   "metadata": {
    "execution": {
     "iopub.execute_input": "2023-07-02T09:25:08.849140Z",
     "iopub.status.busy": "2023-07-02T09:25:08.848319Z",
     "iopub.status.idle": "2023-07-02T09:25:13.646283Z",
     "shell.execute_reply": "2023-07-02T09:25:13.644293Z",
     "shell.execute_reply.started": "2023-07-02T09:25:08.849080Z"
    },
    "tags": []
   },
   "outputs": [],
   "source": [
    "X_train = qt.fit_transform(X_train)\n",
    "X_test = qt.transform(X_test)"
   ]
  },
  {
   "cell_type": "code",
   "execution_count": 39,
   "id": "d14cafa7-bc49-4275-be2f-7be0bea6cd3a",
   "metadata": {
    "execution": {
     "iopub.execute_input": "2023-07-02T09:28:29.192477Z",
     "iopub.status.busy": "2023-07-02T09:28:29.191644Z",
     "iopub.status.idle": "2023-07-02T09:28:29.204401Z",
     "shell.execute_reply": "2023-07-02T09:28:29.202319Z",
     "shell.execute_reply.started": "2023-07-02T09:28:29.192417Z"
    },
    "tags": []
   },
   "outputs": [
    {
     "data": {
      "text/plain": [
       "4062"
      ]
     },
     "execution_count": 39,
     "metadata": {},
     "output_type": "execute_result"
    }
   ],
   "source": [
    "len(X_train)"
   ]
  },
  {
   "cell_type": "code",
   "execution_count": 19,
   "id": "0bb120e2-5ba5-44ce-9762-09488781b461",
   "metadata": {
    "execution": {
     "iopub.execute_input": "2023-07-02T09:09:45.093228Z",
     "iopub.status.busy": "2023-07-02T09:09:45.092367Z",
     "iopub.status.idle": "2023-07-02T09:09:45.250784Z",
     "shell.execute_reply": "2023-07-02T09:09:45.248242Z",
     "shell.execute_reply.started": "2023-07-02T09:09:45.093153Z"
    }
   },
   "outputs": [],
   "source": [
    "from sklearn.decomposition import PCA"
   ]
  },
  {
   "cell_type": "code",
   "execution_count": 20,
   "id": "33c0105c-b4bb-4de1-8344-590932467b08",
   "metadata": {
    "execution": {
     "iopub.execute_input": "2023-07-02T09:09:59.738034Z",
     "iopub.status.busy": "2023-07-02T09:09:59.737176Z",
     "iopub.status.idle": "2023-07-02T09:09:59.747869Z",
     "shell.execute_reply": "2023-07-02T09:09:59.745693Z",
     "shell.execute_reply.started": "2023-07-02T09:09:59.737974Z"
    }
   },
   "outputs": [],
   "source": [
    "pca = PCA(n_components=150)"
   ]
  },
  {
   "cell_type": "code",
   "execution_count": null,
   "id": "df25f9bf-8dc9-42a0-98c7-d57e137fb885",
   "metadata": {},
   "outputs": [],
   "source": [
    "# Transform the data using the learned components\n",
    "transformed_data = ipca.transform(data)\n"
   ]
  },
  {
   "cell_type": "code",
   "execution_count": 22,
   "id": "53e37392-2cd8-40c2-bd7a-7808c26b25f3",
   "metadata": {
    "execution": {
     "iopub.execute_input": "2023-07-02T09:10:50.220969Z",
     "iopub.status.busy": "2023-07-02T09:10:50.220033Z",
     "iopub.status.idle": "2023-07-02T09:10:53.177078Z",
     "shell.execute_reply": "2023-07-02T09:10:53.174290Z",
     "shell.execute_reply.started": "2023-07-02T09:10:50.220885Z"
    },
    "tags": []
   },
   "outputs": [
    {
     "data": {
      "text/html": [
       "<style>#sk-container-id-1 {color: black;}#sk-container-id-1 pre{padding: 0;}#sk-container-id-1 div.sk-toggleable {background-color: white;}#sk-container-id-1 label.sk-toggleable__label {cursor: pointer;display: block;width: 100%;margin-bottom: 0;padding: 0.3em;box-sizing: border-box;text-align: center;}#sk-container-id-1 label.sk-toggleable__label-arrow:before {content: \"▸\";float: left;margin-right: 0.25em;color: #696969;}#sk-container-id-1 label.sk-toggleable__label-arrow:hover:before {color: black;}#sk-container-id-1 div.sk-estimator:hover label.sk-toggleable__label-arrow:before {color: black;}#sk-container-id-1 div.sk-toggleable__content {max-height: 0;max-width: 0;overflow: hidden;text-align: left;background-color: #f0f8ff;}#sk-container-id-1 div.sk-toggleable__content pre {margin: 0.2em;color: black;border-radius: 0.25em;background-color: #f0f8ff;}#sk-container-id-1 input.sk-toggleable__control:checked~div.sk-toggleable__content {max-height: 200px;max-width: 100%;overflow: auto;}#sk-container-id-1 input.sk-toggleable__control:checked~label.sk-toggleable__label-arrow:before {content: \"▾\";}#sk-container-id-1 div.sk-estimator input.sk-toggleable__control:checked~label.sk-toggleable__label {background-color: #d4ebff;}#sk-container-id-1 div.sk-label input.sk-toggleable__control:checked~label.sk-toggleable__label {background-color: #d4ebff;}#sk-container-id-1 input.sk-hidden--visually {border: 0;clip: rect(1px 1px 1px 1px);clip: rect(1px, 1px, 1px, 1px);height: 1px;margin: -1px;overflow: hidden;padding: 0;position: absolute;width: 1px;}#sk-container-id-1 div.sk-estimator {font-family: monospace;background-color: #f0f8ff;border: 1px dotted black;border-radius: 0.25em;box-sizing: border-box;margin-bottom: 0.5em;}#sk-container-id-1 div.sk-estimator:hover {background-color: #d4ebff;}#sk-container-id-1 div.sk-parallel-item::after {content: \"\";width: 100%;border-bottom: 1px solid gray;flex-grow: 1;}#sk-container-id-1 div.sk-label:hover label.sk-toggleable__label {background-color: #d4ebff;}#sk-container-id-1 div.sk-serial::before {content: \"\";position: absolute;border-left: 1px solid gray;box-sizing: border-box;top: 0;bottom: 0;left: 50%;z-index: 0;}#sk-container-id-1 div.sk-serial {display: flex;flex-direction: column;align-items: center;background-color: white;padding-right: 0.2em;padding-left: 0.2em;position: relative;}#sk-container-id-1 div.sk-item {position: relative;z-index: 1;}#sk-container-id-1 div.sk-parallel {display: flex;align-items: stretch;justify-content: center;background-color: white;position: relative;}#sk-container-id-1 div.sk-item::before, #sk-container-id-1 div.sk-parallel-item::before {content: \"\";position: absolute;border-left: 1px solid gray;box-sizing: border-box;top: 0;bottom: 0;left: 50%;z-index: -1;}#sk-container-id-1 div.sk-parallel-item {display: flex;flex-direction: column;z-index: 1;position: relative;background-color: white;}#sk-container-id-1 div.sk-parallel-item:first-child::after {align-self: flex-end;width: 50%;}#sk-container-id-1 div.sk-parallel-item:last-child::after {align-self: flex-start;width: 50%;}#sk-container-id-1 div.sk-parallel-item:only-child::after {width: 0;}#sk-container-id-1 div.sk-dashed-wrapped {border: 1px dashed gray;margin: 0 0.4em 0.5em 0.4em;box-sizing: border-box;padding-bottom: 0.4em;background-color: white;}#sk-container-id-1 div.sk-label label {font-family: monospace;font-weight: bold;display: inline-block;line-height: 1.2em;}#sk-container-id-1 div.sk-label-container {text-align: center;}#sk-container-id-1 div.sk-container {/* jupyter's `normalize.less` sets `[hidden] { display: none; }` but bootstrap.min.css set `[hidden] { display: none !important; }` so we also need the `!important` here to be able to override the default hidden behavior on the sphinx rendered scikit-learn.org. See: https://github.com/scikit-learn/scikit-learn/issues/21755 */display: inline-block !important;position: relative;}#sk-container-id-1 div.sk-text-repr-fallback {display: none;}</style><div id=\"sk-container-id-1\" class=\"sk-top-container\"><div class=\"sk-text-repr-fallback\"><pre>PCA(n_components=150)</pre><b>In a Jupyter environment, please rerun this cell to show the HTML representation or trust the notebook. <br />On GitHub, the HTML representation is unable to render, please try loading this page with nbviewer.org.</b></div><div class=\"sk-container\" hidden><div class=\"sk-item\"><div class=\"sk-estimator sk-toggleable\"><input class=\"sk-toggleable__control sk-hidden--visually\" id=\"sk-estimator-id-1\" type=\"checkbox\" checked><label for=\"sk-estimator-id-1\" class=\"sk-toggleable__label sk-toggleable__label-arrow\">PCA</label><div class=\"sk-toggleable__content\"><pre>PCA(n_components=150)</pre></div></div></div></div></div>"
      ],
      "text/plain": [
       "PCA(n_components=150)"
      ]
     },
     "execution_count": 22,
     "metadata": {},
     "output_type": "execute_result"
    }
   ],
   "source": [
    "pca.fit(X_train)"
   ]
  },
  {
   "cell_type": "code",
   "execution_count": 23,
   "id": "a5d5f028-031a-4d46-b65c-0cb031496b4e",
   "metadata": {
    "execution": {
     "iopub.execute_input": "2023-07-02T09:11:14.856420Z",
     "iopub.status.busy": "2023-07-02T09:11:14.855590Z",
     "iopub.status.idle": "2023-07-02T09:11:14.870648Z",
     "shell.execute_reply": "2023-07-02T09:11:14.868427Z",
     "shell.execute_reply.started": "2023-07-02T09:11:14.856361Z"
    }
   },
   "outputs": [
    {
     "name": "stdout",
     "output_type": "stream",
     "text": [
      "[0.22293388 0.09060882 0.05559123 0.05260654 0.02402659 0.01767601\n",
      " 0.01151562 0.01007251 0.00861662 0.00716771 0.00648713 0.00552561\n",
      " 0.00533367 0.00486236 0.00440563 0.0040261  0.00391637 0.00374622\n",
      " 0.0036947  0.00363039 0.00355618 0.00346899 0.00343495 0.00338179\n",
      " 0.0032219  0.00315123 0.00309373 0.003077   0.00297848 0.00294453\n",
      " 0.00293666 0.00290555 0.00286703 0.00281312 0.00278099 0.00275873\n",
      " 0.00271746 0.00270909 0.00269479 0.00266255 0.00262861 0.00262585\n",
      " 0.00261987 0.00258151 0.00255251 0.00254482 0.00252941 0.00250254\n",
      " 0.00246208 0.00244262 0.00242857 0.00242749 0.00242062 0.0024028\n",
      " 0.0023713  0.00236746 0.00235649 0.00233859 0.00232633 0.00230892\n",
      " 0.0023063  0.0022774  0.00226166 0.00225637 0.00223163 0.00222434\n",
      " 0.00220893 0.00219568 0.00216845 0.00216251 0.00214084 0.00213909\n",
      " 0.00211728 0.00210982 0.00210243 0.0020918  0.00207562 0.00204938\n",
      " 0.00203956 0.00202838 0.00201746 0.00201304 0.00199716 0.00199083\n",
      " 0.00196123 0.0019546  0.00194607 0.00194166 0.0019251  0.00191106\n",
      " 0.00190413 0.00186576 0.00186128 0.00185136 0.00184609 0.0018298\n",
      " 0.00181725 0.00181575 0.00180861 0.00179326 0.00178761 0.00177271\n",
      " 0.00176736 0.0017586  0.00175138 0.00173349 0.00173056 0.00171866\n",
      " 0.0017099  0.00169144 0.00168744 0.00168183 0.00165026 0.00164212\n",
      " 0.00163635 0.00162964 0.00161588 0.00160351 0.00159474 0.00158211\n",
      " 0.00156839 0.00155406 0.00154955 0.00153783 0.00153145 0.00151632\n",
      " 0.00151311 0.0014961  0.00147442 0.00147045 0.00145746 0.00145309\n",
      " 0.00142913 0.00141998 0.00141602 0.00141231 0.00138625 0.00138298\n",
      " 0.00136902 0.00136606 0.00135434 0.00134302 0.00133759 0.00132188\n",
      " 0.0013091  0.00130448 0.00129517 0.0012842  0.00126096 0.00125224]\n"
     ]
    }
   ],
   "source": [
    "print(pca.explained_variance_ratio_)"
   ]
  },
  {
   "cell_type": "code",
   "execution_count": null,
   "id": "3b2f0420-de47-4fa4-9f7b-33f1b2465534",
   "metadata": {},
   "outputs": [],
   "source": []
  }
 ],
 "metadata": {
  "kernelspec": {
   "display_name": "Python 3.9 (py39)",
   "language": "python",
   "name": "py39"
  },
  "language_info": {
   "codemirror_mode": {
    "name": "ipython",
    "version": 3
   },
   "file_extension": ".py",
   "mimetype": "text/x-python",
   "name": "python",
   "nbconvert_exporter": "python",
   "pygments_lexer": "ipython3",
   "version": "3.9.13"
  }
 },
 "nbformat": 4,
 "nbformat_minor": 5
}

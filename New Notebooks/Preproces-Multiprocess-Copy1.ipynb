{
 "cells": [
  {
   "cell_type": "code",
   "execution_count": 1,
   "id": "488a9948",
   "metadata": {
    "execution": {
     "iopub.execute_input": "2023-06-14T07:19:01.200761Z",
     "iopub.status.busy": "2023-06-14T07:19:01.199889Z",
     "iopub.status.idle": "2023-06-14T07:19:01.211011Z",
     "shell.execute_reply": "2023-06-14T07:19:01.208821Z",
     "shell.execute_reply.started": "2023-06-14T07:19:01.200581Z"
    }
   },
   "outputs": [],
   "source": [
    "#!cd /home/idies/workspace/Temporary/s.hossain18/scratch/data-extract && git pull"
   ]
  },
  {
   "cell_type": "code",
   "execution_count": null,
   "id": "194544ec",
   "metadata": {},
   "outputs": [],
   "source": [
    "#import sys\n",
    "#!{sys.executable} -m pip install astropy"
   ]
  },
  {
   "cell_type": "code",
   "execution_count": 2,
   "id": "2e34e937",
   "metadata": {
    "execution": {
     "iopub.execute_input": "2023-06-14T07:19:08.610391Z",
     "iopub.status.busy": "2023-06-14T07:19:08.609604Z",
     "iopub.status.idle": "2023-06-14T07:19:14.072555Z",
     "shell.execute_reply": "2023-06-14T07:19:14.070087Z",
     "shell.execute_reply.started": "2023-06-14T07:19:08.610334Z"
    },
    "tags": []
   },
   "outputs": [
    {
     "name": "stdout",
     "output_type": "stream",
     "text": [
      "Requirement already satisfied: astropy==5.2.2 in /home/idies/mambaforge/envs/py39/lib/python3.9/site-packages (5.2.2)\n",
      "Requirement already satisfied: packaging>=19.0 in /home/idies/mambaforge/envs/py39/lib/python3.9/site-packages (from astropy==5.2.2) (21.3)\n",
      "Requirement already satisfied: numpy>=1.20 in /home/idies/mambaforge/envs/py39/lib/python3.9/site-packages (from astropy==5.2.2) (1.23.4)\n",
      "Requirement already satisfied: PyYAML>=3.13 in /home/idies/mambaforge/envs/py39/lib/python3.9/site-packages (from astropy==5.2.2) (6.0)\n",
      "Requirement already satisfied: pyerfa>=2.0 in /home/idies/mambaforge/envs/py39/lib/python3.9/site-packages (from astropy==5.2.2) (2.0.0.3)\n",
      "Requirement already satisfied: pyparsing!=3.0.5,>=2.0.2 in /home/idies/mambaforge/envs/py39/lib/python3.9/site-packages (from packaging>=19.0->astropy==5.2.2) (3.0.9)\n"
     ]
    }
   ],
   "source": [
    "import sys\n",
    "!{sys.executable} -m pip install astropy==5.2.2"
   ]
  },
  {
   "cell_type": "code",
   "execution_count": 3,
   "id": "692e05ab",
   "metadata": {
    "execution": {
     "iopub.execute_input": "2023-06-14T07:19:14.079073Z",
     "iopub.status.busy": "2023-06-14T07:19:14.078447Z",
     "iopub.status.idle": "2023-06-14T07:19:19.561355Z",
     "shell.execute_reply": "2023-06-14T07:19:19.558192Z",
     "shell.execute_reply.started": "2023-06-14T07:19:14.079001Z"
    },
    "tags": []
   },
   "outputs": [
    {
     "name": "stdout",
     "output_type": "stream",
     "text": [
      "Requirement already satisfied: tsfresh in /home/idies/mambaforge/envs/py39/lib/python3.9/site-packages (0.20.0)\n",
      "Requirement already satisfied: pandas>=0.25.0 in /home/idies/mambaforge/envs/py39/lib/python3.9/site-packages (from tsfresh) (1.5.1)\n",
      "Requirement already satisfied: tqdm>=4.10.0 in /home/idies/mambaforge/envs/py39/lib/python3.9/site-packages (from tsfresh) (4.64.1)\n",
      "Requirement already satisfied: requests>=2.9.1 in /home/idies/mambaforge/envs/py39/lib/python3.9/site-packages (from tsfresh) (2.28.1)\n",
      "Requirement already satisfied: numpy>=1.15.1 in /home/idies/mambaforge/envs/py39/lib/python3.9/site-packages (from tsfresh) (1.23.4)\n",
      "Requirement already satisfied: scipy>=1.2.0 in /home/idies/mambaforge/envs/py39/lib/python3.9/site-packages (from tsfresh) (1.9.3)\n",
      "Requirement already satisfied: statsmodels>=0.13 in /home/idies/mambaforge/envs/py39/lib/python3.9/site-packages (from tsfresh) (0.14.0)\n",
      "Requirement already satisfied: stumpy>=1.7.2 in /home/idies/mambaforge/envs/py39/lib/python3.9/site-packages (from tsfresh) (1.11.1)\n",
      "Requirement already satisfied: dask[dataframe]>=2.9.0 in /home/idies/mambaforge/envs/py39/lib/python3.9/site-packages (from tsfresh) (2022.11.0)\n",
      "Requirement already satisfied: distributed>=2.11.0 in /home/idies/mambaforge/envs/py39/lib/python3.9/site-packages (from tsfresh) (2022.11.0)\n",
      "Requirement already satisfied: patsy>=0.4.1 in /home/idies/mambaforge/envs/py39/lib/python3.9/site-packages (from tsfresh) (0.5.3)\n",
      "Requirement already satisfied: scikit-learn>=0.22.0 in /home/idies/mambaforge/envs/py39/lib/python3.9/site-packages (from tsfresh) (1.2.2)\n",
      "Requirement already satisfied: cloudpickle in /home/idies/mambaforge/envs/py39/lib/python3.9/site-packages (from tsfresh) (2.2.0)\n",
      "Requirement already satisfied: partd>=0.3.10 in /home/idies/mambaforge/envs/py39/lib/python3.9/site-packages (from dask[dataframe]>=2.9.0->tsfresh) (1.3.0)\n",
      "Requirement already satisfied: click>=7.0 in /home/idies/mambaforge/envs/py39/lib/python3.9/site-packages (from dask[dataframe]>=2.9.0->tsfresh) (8.1.3)\n",
      "Requirement already satisfied: fsspec>=0.6.0 in /home/idies/mambaforge/envs/py39/lib/python3.9/site-packages (from dask[dataframe]>=2.9.0->tsfresh) (2022.11.0)\n",
      "Requirement already satisfied: toolz>=0.8.2 in /home/idies/mambaforge/envs/py39/lib/python3.9/site-packages (from dask[dataframe]>=2.9.0->tsfresh) (0.12.0)\n",
      "Requirement already satisfied: packaging>=20.0 in /home/idies/mambaforge/envs/py39/lib/python3.9/site-packages (from dask[dataframe]>=2.9.0->tsfresh) (21.3)\n",
      "Requirement already satisfied: pyyaml>=5.3.1 in /home/idies/mambaforge/envs/py39/lib/python3.9/site-packages (from dask[dataframe]>=2.9.0->tsfresh) (6.0)\n",
      "Requirement already satisfied: sortedcontainers!=2.0.0,!=2.0.1 in /home/idies/mambaforge/envs/py39/lib/python3.9/site-packages (from distributed>=2.11.0->tsfresh) (2.4.0)\n",
      "Requirement already satisfied: msgpack>=0.6.0 in /home/idies/mambaforge/envs/py39/lib/python3.9/site-packages (from distributed>=2.11.0->tsfresh) (1.0.4)\n",
      "Requirement already satisfied: locket>=1.0.0 in /home/idies/mambaforge/envs/py39/lib/python3.9/site-packages (from distributed>=2.11.0->tsfresh) (1.0.0)\n",
      "Requirement already satisfied: zict>=0.1.3 in /home/idies/mambaforge/envs/py39/lib/python3.9/site-packages (from distributed>=2.11.0->tsfresh) (2.2.0)\n",
      "Requirement already satisfied: psutil>=5.0 in /home/idies/mambaforge/envs/py39/lib/python3.9/site-packages (from distributed>=2.11.0->tsfresh) (5.9.4)\n",
      "Requirement already satisfied: urllib3 in /home/idies/mambaforge/envs/py39/lib/python3.9/site-packages (from distributed>=2.11.0->tsfresh) (1.26.11)\n",
      "Requirement already satisfied: tblib>=1.6.0 in /home/idies/mambaforge/envs/py39/lib/python3.9/site-packages (from distributed>=2.11.0->tsfresh) (1.7.0)\n",
      "Requirement already satisfied: tornado<6.2,>=6.0.3 in /home/idies/mambaforge/envs/py39/lib/python3.9/site-packages (from distributed>=2.11.0->tsfresh) (6.1)\n",
      "Requirement already satisfied: jinja2 in /home/idies/mambaforge/envs/py39/lib/python3.9/site-packages (from distributed>=2.11.0->tsfresh) (3.1.2)\n",
      "Requirement already satisfied: python-dateutil>=2.8.1 in /home/idies/mambaforge/envs/py39/lib/python3.9/site-packages (from pandas>=0.25.0->tsfresh) (2.8.2)\n",
      "Requirement already satisfied: pytz>=2020.1 in /home/idies/mambaforge/envs/py39/lib/python3.9/site-packages (from pandas>=0.25.0->tsfresh) (2022.6)\n",
      "Requirement already satisfied: six in /home/idies/mambaforge/envs/py39/lib/python3.9/site-packages (from patsy>=0.4.1->tsfresh) (1.16.0)\n",
      "Requirement already satisfied: charset-normalizer<3,>=2 in /home/idies/mambaforge/envs/py39/lib/python3.9/site-packages (from requests>=2.9.1->tsfresh) (2.1.1)\n",
      "Requirement already satisfied: certifi>=2017.4.17 in /home/idies/mambaforge/envs/py39/lib/python3.9/site-packages (from requests>=2.9.1->tsfresh) (2022.12.7)\n",
      "Requirement already satisfied: idna<4,>=2.5 in /home/idies/mambaforge/envs/py39/lib/python3.9/site-packages (from requests>=2.9.1->tsfresh) (3.4)\n",
      "Requirement already satisfied: joblib>=1.1.1 in /home/idies/mambaforge/envs/py39/lib/python3.9/site-packages (from scikit-learn>=0.22.0->tsfresh) (1.2.0)\n",
      "Requirement already satisfied: threadpoolctl>=2.0.0 in /home/idies/mambaforge/envs/py39/lib/python3.9/site-packages (from scikit-learn>=0.22.0->tsfresh) (3.1.0)\n",
      "Requirement already satisfied: numba>=0.54 in /home/idies/mambaforge/envs/py39/lib/python3.9/site-packages (from stumpy>=1.7.2->tsfresh) (0.57.0)\n",
      "Requirement already satisfied: llvmlite<0.41,>=0.40.0dev0 in /home/idies/mambaforge/envs/py39/lib/python3.9/site-packages (from numba>=0.54->stumpy>=1.7.2->tsfresh) (0.40.1rc1)\n",
      "Requirement already satisfied: pyparsing!=3.0.5,>=2.0.2 in /home/idies/mambaforge/envs/py39/lib/python3.9/site-packages (from packaging>=20.0->dask[dataframe]>=2.9.0->tsfresh) (3.0.9)\n",
      "Requirement already satisfied: heapdict in /home/idies/mambaforge/envs/py39/lib/python3.9/site-packages (from zict>=0.1.3->distributed>=2.11.0->tsfresh) (1.0.1)\n",
      "Requirement already satisfied: MarkupSafe>=2.0 in /home/idies/mambaforge/envs/py39/lib/python3.9/site-packages (from jinja2->distributed>=2.11.0->tsfresh) (2.1.1)\n"
     ]
    }
   ],
   "source": [
    "import sys\n",
    "!{sys.executable} -m pip install tsfresh"
   ]
  },
  {
   "cell_type": "code",
   "execution_count": 4,
   "id": "0fbdf4b5",
   "metadata": {
    "execution": {
     "iopub.execute_input": "2023-06-14T07:19:19.565864Z",
     "iopub.status.busy": "2023-06-14T07:19:19.565223Z",
     "iopub.status.idle": "2023-06-14T07:26:52.102713Z",
     "shell.execute_reply": "2023-06-14T07:26:52.098229Z",
     "shell.execute_reply.started": "2023-06-14T07:19:19.565787Z"
    },
    "tags": []
   },
   "outputs": [
    {
     "name": "stderr",
     "output_type": "stream",
     "text": [
      "Feature Extraction: 100% 14/14 [01:18<00:00,  5.63s/it]\n",
      "Feature Extraction: 100% 11/11 [00:51<00:00,  4.70s/it]\n",
      "Feature Extraction: 100% 14/14 [01:10<00:00,  5.05s/it]\n",
      "Feature Extraction: 100% 14/14 [01:23<00:00,  5.94s/it]\n",
      "Feature Extraction: 100% 14/14 [01:03<00:00,  4.53s/it]\n",
      "Feature Extraction: 100% 13/13 [01:04<00:00,  4.95s/it]\n"
     ]
    },
    {
     "ename": "ValueError",
     "evalue": "At least one header line beginning and ending with delimiter required",
     "output_type": "error",
     "traceback": [
      "\u001b[0;31m---------------------------------------------------------------------------\u001b[0m",
      "\u001b[0;31mValueError\u001b[0m                                Traceback (most recent call last)",
      "Cell \u001b[0;32mIn [4], line 22\u001b[0m\n\u001b[1;32m     20\u001b[0m df \u001b[38;5;241m=\u001b[39m pd\u001b[38;5;241m.\u001b[39mDataFrame()\n\u001b[1;32m     21\u001b[0m \u001b[38;5;28;01mfor\u001b[39;00m f \u001b[38;5;129;01min\u001b[39;00m import_filenames:\n\u001b[0;32m---> 22\u001b[0m     read \u001b[38;5;241m=\u001b[39m \u001b[43mTable\u001b[49m\u001b[38;5;241;43m.\u001b[39;49m\u001b[43mread\u001b[49m\u001b[43m(\u001b[49m\u001b[43mf\u001b[49m\u001b[43m,\u001b[49m\u001b[43m \u001b[49m\u001b[38;5;28;43mformat\u001b[39;49m\u001b[38;5;241;43m=\u001b[39;49m\u001b[38;5;124;43m'\u001b[39;49m\u001b[38;5;124;43mascii.ipac\u001b[39;49m\u001b[38;5;124;43m'\u001b[39;49m\u001b[43m)\u001b[49m\n\u001b[1;32m     23\u001b[0m     data \u001b[38;5;241m=\u001b[39m read\u001b[38;5;241m.\u001b[39mto_pandas()\n\u001b[1;32m     24\u001b[0m     data[\u001b[38;5;124m'\u001b[39m\u001b[38;5;124mkind\u001b[39m\u001b[38;5;124m'\u001b[39m] \u001b[38;5;241m=\u001b[39m data[\u001b[38;5;124m'\u001b[39m\u001b[38;5;124mset\u001b[39m\u001b[38;5;124m'\u001b[39m]\n",
      "File \u001b[0;32m~/mambaforge/envs/py39/lib/python3.9/site-packages/astropy/table/connect.py:62\u001b[0m, in \u001b[0;36mTableRead.__call__\u001b[0;34m(self, *args, **kwargs)\u001b[0m\n\u001b[1;32m     59\u001b[0m units \u001b[38;5;241m=\u001b[39m kwargs\u001b[38;5;241m.\u001b[39mpop(\u001b[38;5;124m\"\u001b[39m\u001b[38;5;124munits\u001b[39m\u001b[38;5;124m\"\u001b[39m, \u001b[38;5;28;01mNone\u001b[39;00m)\n\u001b[1;32m     60\u001b[0m descriptions \u001b[38;5;241m=\u001b[39m kwargs\u001b[38;5;241m.\u001b[39mpop(\u001b[38;5;124m\"\u001b[39m\u001b[38;5;124mdescriptions\u001b[39m\u001b[38;5;124m\"\u001b[39m, \u001b[38;5;28;01mNone\u001b[39;00m)\n\u001b[0;32m---> 62\u001b[0m out \u001b[38;5;241m=\u001b[39m \u001b[38;5;28;43mself\u001b[39;49m\u001b[38;5;241;43m.\u001b[39;49m\u001b[43mregistry\u001b[49m\u001b[38;5;241;43m.\u001b[39;49m\u001b[43mread\u001b[49m\u001b[43m(\u001b[49m\u001b[38;5;28;43mcls\u001b[39;49m\u001b[43m,\u001b[49m\u001b[43m \u001b[49m\u001b[38;5;241;43m*\u001b[39;49m\u001b[43margs\u001b[49m\u001b[43m,\u001b[49m\u001b[43m \u001b[49m\u001b[38;5;241;43m*\u001b[39;49m\u001b[38;5;241;43m*\u001b[39;49m\u001b[43mkwargs\u001b[49m\u001b[43m)\u001b[49m\n\u001b[1;32m     64\u001b[0m \u001b[38;5;66;03m# For some readers (e.g., ascii.ecsv), the returned `out` class is not\u001b[39;00m\n\u001b[1;32m     65\u001b[0m \u001b[38;5;66;03m# guaranteed to be the same as the desired output `cls`.  If so,\u001b[39;00m\n\u001b[1;32m     66\u001b[0m \u001b[38;5;66;03m# try coercing to desired class without copying (io.registry.read\u001b[39;00m\n\u001b[1;32m     67\u001b[0m \u001b[38;5;66;03m# would normally do a copy).  The normal case here is swapping\u001b[39;00m\n\u001b[1;32m     68\u001b[0m \u001b[38;5;66;03m# Table <=> QTable.\u001b[39;00m\n\u001b[1;32m     69\u001b[0m \u001b[38;5;28;01mif\u001b[39;00m \u001b[38;5;28mcls\u001b[39m \u001b[38;5;129;01mis\u001b[39;00m \u001b[38;5;129;01mnot\u001b[39;00m out\u001b[38;5;241m.\u001b[39m\u001b[38;5;18m__class__\u001b[39m:\n",
      "File \u001b[0;32m~/mambaforge/envs/py39/lib/python3.9/site-packages/astropy/io/registry/core.py:219\u001b[0m, in \u001b[0;36mUnifiedInputRegistry.read\u001b[0;34m(self, cls, format, cache, *args, **kwargs)\u001b[0m\n\u001b[1;32m    214\u001b[0m     \u001b[38;5;28mformat\u001b[39m \u001b[38;5;241m=\u001b[39m \u001b[38;5;28mself\u001b[39m\u001b[38;5;241m.\u001b[39m_get_valid_format(\n\u001b[1;32m    215\u001b[0m         \u001b[38;5;124m\"\u001b[39m\u001b[38;5;124mread\u001b[39m\u001b[38;5;124m\"\u001b[39m, \u001b[38;5;28mcls\u001b[39m, path, fileobj, args, kwargs\n\u001b[1;32m    216\u001b[0m     )\n\u001b[1;32m    218\u001b[0m reader \u001b[38;5;241m=\u001b[39m \u001b[38;5;28mself\u001b[39m\u001b[38;5;241m.\u001b[39mget_reader(\u001b[38;5;28mformat\u001b[39m, \u001b[38;5;28mcls\u001b[39m)\n\u001b[0;32m--> 219\u001b[0m data \u001b[38;5;241m=\u001b[39m \u001b[43mreader\u001b[49m\u001b[43m(\u001b[49m\u001b[38;5;241;43m*\u001b[39;49m\u001b[43margs\u001b[49m\u001b[43m,\u001b[49m\u001b[43m \u001b[49m\u001b[38;5;241;43m*\u001b[39;49m\u001b[38;5;241;43m*\u001b[39;49m\u001b[43mkwargs\u001b[49m\u001b[43m)\u001b[49m\n\u001b[1;32m    221\u001b[0m \u001b[38;5;28;01mif\u001b[39;00m \u001b[38;5;129;01mnot\u001b[39;00m \u001b[38;5;28misinstance\u001b[39m(data, \u001b[38;5;28mcls\u001b[39m):\n\u001b[1;32m    222\u001b[0m     \u001b[38;5;66;03m# User has read with a subclass where only the parent class is\u001b[39;00m\n\u001b[1;32m    223\u001b[0m     \u001b[38;5;66;03m# registered.  This returns the parent class, so try coercing\u001b[39;00m\n\u001b[1;32m    224\u001b[0m     \u001b[38;5;66;03m# to desired subclass.\u001b[39;00m\n\u001b[1;32m    225\u001b[0m     \u001b[38;5;28;01mtry\u001b[39;00m:\n",
      "File \u001b[0;32m~/mambaforge/envs/py39/lib/python3.9/site-packages/astropy/io/ascii/connect.py:19\u001b[0m, in \u001b[0;36mio_read\u001b[0;34m(format, filename, **kwargs)\u001b[0m\n\u001b[1;32m     17\u001b[0m     \u001b[38;5;28mformat\u001b[39m \u001b[38;5;241m=\u001b[39m re\u001b[38;5;241m.\u001b[39msub(\u001b[38;5;124mr\u001b[39m\u001b[38;5;124m\"\u001b[39m\u001b[38;5;124m^ascii\u001b[39m\u001b[38;5;124m\\\u001b[39m\u001b[38;5;124m.\u001b[39m\u001b[38;5;124m\"\u001b[39m, \u001b[38;5;124m\"\u001b[39m\u001b[38;5;124m\"\u001b[39m, \u001b[38;5;28mformat\u001b[39m)\n\u001b[1;32m     18\u001b[0m     kwargs[\u001b[38;5;124m\"\u001b[39m\u001b[38;5;124mformat\u001b[39m\u001b[38;5;124m\"\u001b[39m] \u001b[38;5;241m=\u001b[39m \u001b[38;5;28mformat\u001b[39m\n\u001b[0;32m---> 19\u001b[0m \u001b[38;5;28;01mreturn\u001b[39;00m \u001b[43mread\u001b[49m\u001b[43m(\u001b[49m\u001b[43mfilename\u001b[49m\u001b[43m,\u001b[49m\u001b[43m \u001b[49m\u001b[38;5;241;43m*\u001b[39;49m\u001b[38;5;241;43m*\u001b[39;49m\u001b[43mkwargs\u001b[49m\u001b[43m)\u001b[49m\n",
      "File \u001b[0;32m~/mambaforge/envs/py39/lib/python3.9/site-packages/astropy/io/ascii/ui.py:426\u001b[0m, in \u001b[0;36mread\u001b[0;34m(table, guess, **kwargs)\u001b[0m\n\u001b[1;32m    424\u001b[0m     \u001b[38;5;28;01melse\u001b[39;00m:\n\u001b[1;32m    425\u001b[0m         reader \u001b[38;5;241m=\u001b[39m get_reader(\u001b[38;5;241m*\u001b[39m\u001b[38;5;241m*\u001b[39mnew_kwargs)\n\u001b[0;32m--> 426\u001b[0m         dat \u001b[38;5;241m=\u001b[39m \u001b[43mreader\u001b[49m\u001b[38;5;241;43m.\u001b[39;49m\u001b[43mread\u001b[49m\u001b[43m(\u001b[49m\u001b[43mtable\u001b[49m\u001b[43m)\u001b[49m\n\u001b[1;32m    427\u001b[0m         _read_trace\u001b[38;5;241m.\u001b[39mappend(\n\u001b[1;32m    428\u001b[0m             {\n\u001b[1;32m    429\u001b[0m                 \u001b[38;5;124m\"\u001b[39m\u001b[38;5;124mkwargs\u001b[39m\u001b[38;5;124m\"\u001b[39m: copy\u001b[38;5;241m.\u001b[39mdeepcopy(new_kwargs),\n\u001b[0;32m   (...)\u001b[0m\n\u001b[1;32m    432\u001b[0m             }\n\u001b[1;32m    433\u001b[0m         )\n\u001b[1;32m    435\u001b[0m \u001b[38;5;66;03m# Static analysis (pyright) indicates `dat` might be left undefined, so just\u001b[39;00m\n\u001b[1;32m    436\u001b[0m \u001b[38;5;66;03m# to be sure define it at the beginning and check here.\u001b[39;00m\n",
      "File \u001b[0;32m~/mambaforge/envs/py39/lib/python3.9/site-packages/astropy/io/ascii/core.py:1423\u001b[0m, in \u001b[0;36mBaseReader.read\u001b[0;34m(self, table)\u001b[0m\n\u001b[1;32m   1420\u001b[0m \u001b[38;5;28mself\u001b[39m\u001b[38;5;241m.\u001b[39mheader\u001b[38;5;241m.\u001b[39mupdate_meta(\u001b[38;5;28mself\u001b[39m\u001b[38;5;241m.\u001b[39mlines, \u001b[38;5;28mself\u001b[39m\u001b[38;5;241m.\u001b[39mmeta)\n\u001b[1;32m   1422\u001b[0m \u001b[38;5;66;03m# Get the table column definitions\u001b[39;00m\n\u001b[0;32m-> 1423\u001b[0m \u001b[38;5;28;43mself\u001b[39;49m\u001b[38;5;241;43m.\u001b[39;49m\u001b[43mheader\u001b[49m\u001b[38;5;241;43m.\u001b[39;49m\u001b[43mget_cols\u001b[49m\u001b[43m(\u001b[49m\u001b[38;5;28;43mself\u001b[39;49m\u001b[38;5;241;43m.\u001b[39;49m\u001b[43mlines\u001b[49m\u001b[43m)\u001b[49m\n\u001b[1;32m   1425\u001b[0m \u001b[38;5;66;03m# Make sure columns are valid\u001b[39;00m\n\u001b[1;32m   1426\u001b[0m \u001b[38;5;28mself\u001b[39m\u001b[38;5;241m.\u001b[39mheader\u001b[38;5;241m.\u001b[39mcheck_column_names(\u001b[38;5;28mself\u001b[39m\u001b[38;5;241m.\u001b[39mnames, \u001b[38;5;28mself\u001b[39m\u001b[38;5;241m.\u001b[39mstrict_names, \u001b[38;5;28mself\u001b[39m\u001b[38;5;241m.\u001b[39mguessing)\n",
      "File \u001b[0;32m~/mambaforge/envs/py39/lib/python3.9/site-packages/astropy/io/ascii/ipac.py:188\u001b[0m, in \u001b[0;36mIpacHeader.get_cols\u001b[0;34m(self, lines)\u001b[0m\n\u001b[1;32m    186\u001b[0m header_vals \u001b[38;5;241m=\u001b[39m [vals \u001b[38;5;28;01mfor\u001b[39;00m vals \u001b[38;5;129;01min\u001b[39;00m \u001b[38;5;28mself\u001b[39m\u001b[38;5;241m.\u001b[39msplitter(header_lines)]\n\u001b[1;32m    187\u001b[0m \u001b[38;5;28;01mif\u001b[39;00m \u001b[38;5;28mlen\u001b[39m(header_vals) \u001b[38;5;241m==\u001b[39m \u001b[38;5;241m0\u001b[39m:\n\u001b[0;32m--> 188\u001b[0m     \u001b[38;5;28;01mraise\u001b[39;00m \u001b[38;5;167;01mValueError\u001b[39;00m(\n\u001b[1;32m    189\u001b[0m         \u001b[38;5;124m\"\u001b[39m\u001b[38;5;124mAt least one header line beginning and ending with delimiter required\u001b[39m\u001b[38;5;124m\"\u001b[39m\n\u001b[1;32m    190\u001b[0m     )\n\u001b[1;32m    191\u001b[0m \u001b[38;5;28;01melif\u001b[39;00m \u001b[38;5;28mlen\u001b[39m(header_vals) \u001b[38;5;241m>\u001b[39m \u001b[38;5;241m4\u001b[39m:\n\u001b[1;32m    192\u001b[0m     \u001b[38;5;28;01mraise\u001b[39;00m \u001b[38;5;167;01mValueError\u001b[39;00m(\u001b[38;5;124m\"\u001b[39m\u001b[38;5;124mMore than four header lines were found\u001b[39m\u001b[38;5;124m\"\u001b[39m)\n",
      "\u001b[0;31mValueError\u001b[0m: At least one header line beginning and ending with delimiter required"
     ]
    }
   ],
   "source": [
    "# Correct code\n",
    "from tsfresh import extract_features\n",
    "from tsfresh.utilities.dataframe_functions import impute\n",
    "from tsfresh.feature_extraction import EfficientFCParameters\n",
    "from tsfresh.utilities.distribution import MultiprocessingDistributor\n",
    "\n",
    "import os\n",
    "import glob\n",
    "from astropy.table import Table\n",
    "import pandas as pd\n",
    "#from tsfresh import extract_features\n",
    "# Set the working directory\n",
    "os.chdir(\"/home/idies/workspace/Temporary/s.hossain18/scratch/tsfresh-extract/data_5\")\n",
    "#os.chdir(\"/home/idies/workspace/Storage/s.hossain18/Permanent/Data\")\n",
    "# ts fresh modules\n",
    "extraction_settings = EfficientFCParameters()\n",
    "# Find all files with a certain extension\n",
    "extension_1 = 'tbl'\n",
    "import_filenames = [i for i in glob.glob('*.{}'.format(extension_1))]\n",
    "df = pd.DataFrame()\n",
    "for f in import_filenames:\n",
    "    read = Table.read(f, format='ascii.ipac')\n",
    "    data = read.to_pandas()\n",
    "    data['kind'] = data['set']\n",
    "    # over four threads on the local machine\n",
    "    Distributor = MultiprocessingDistributor(n_workers=os.cpu_count(),disable_progressbar=False,progressbar_title=\"Feature Extraction\")\n",
    "\n",
    "    ts_data = extract_features(data, column_id='set', column_sort='TIME',column_kind='kind' , column_value='PDCSAP_FLUX', default_fc_parameters=extraction_settings,impute_function=impute,distributor=Distributor)\n",
    "    #df = df.append(ts_data)\n",
    "    df = pd.concat([df,ts_data],ignore_index=True, sort=False)\n",
    "\n",
    "# saving the dataframe\n",
    "df.drop_duplicates(keep='first', inplace=True)\n",
    "df.to_csv('/home/idies/workspace/Storage/s.hossain18/Permanent/FalsePositive/ts_fp_8.csv', index=False)"
   ]
  },
  {
   "cell_type": "code",
   "execution_count": null,
   "id": "7e82aafc-5e2d-46b9-a8e6-eb26298c5ece",
   "metadata": {},
   "outputs": [],
   "source": []
  }
 ],
 "metadata": {
  "kernelspec": {
   "display_name": "Python 3.9 (py39)",
   "language": "python",
   "name": "py39"
  },
  "language_info": {
   "codemirror_mode": {
    "name": "ipython",
    "version": 3
   },
   "file_extension": ".py",
   "mimetype": "text/x-python",
   "name": "python",
   "nbconvert_exporter": "python",
   "pygments_lexer": "ipython3",
   "version": "3.9.13"
  }
 },
 "nbformat": 4,
 "nbformat_minor": 5
}

{
 "cells": [
  {
   "cell_type": "code",
   "execution_count": 3,
   "id": "ec16a257-c1eb-43c3-88d3-b1c6cf4b3449",
   "metadata": {
    "execution": {
     "iopub.execute_input": "2023-07-02T08:37:21.012247Z",
     "iopub.status.busy": "2023-07-02T08:37:21.009699Z",
     "iopub.status.idle": "2023-07-02T08:37:44.651134Z",
     "shell.execute_reply": "2023-07-02T08:37:44.648137Z",
     "shell.execute_reply.started": "2023-07-02T08:37:21.012167Z"
    }
   },
   "outputs": [
    {
     "name": "stdout",
     "output_type": "stream",
     "text": [
      "Collecting scikit-learn-intelex\n",
      "  Downloading scikit_learn_intelex-2023.1.1-py39-none-manylinux1_x86_64.whl (115 kB)\n",
      "\u001b[2K     \u001b[90m━━━━━━━━━━━━━━━━━━━━━━━━━━━━━━━━━━━━━━━\u001b[0m \u001b[32m115.3/115.3 kB\u001b[0m \u001b[31m5.6 MB/s\u001b[0m eta \u001b[36m0:00:00\u001b[0m\n",
      "\u001b[?25hCollecting daal4py==2023.1.1\n",
      "  Downloading daal4py-2023.1.1-py39-none-manylinux1_x86_64.whl (13.9 MB)\n",
      "\u001b[2K     \u001b[90m━━━━━━━━━━━━━━━━━━━━━━━━━━━━━━━━━━━━━━━━\u001b[0m \u001b[32m13.9/13.9 MB\u001b[0m \u001b[31m19.1 MB/s\u001b[0m eta \u001b[36m0:00:00\u001b[0m00:01\u001b[0m00:01\u001b[0m\n",
      "\u001b[?25hCollecting scikit-learn>=0.22\n",
      "  Downloading scikit_learn-1.3.0-cp39-cp39-manylinux_2_17_x86_64.manylinux2014_x86_64.whl (10.9 MB)\n",
      "\u001b[2K     \u001b[90m━━━━━━━━━━━━━━━━━━━━━━━━━━━━━━━━━━━━━━━━\u001b[0m \u001b[32m10.9/10.9 MB\u001b[0m \u001b[31m21.3 MB/s\u001b[0m eta \u001b[36m0:00:00\u001b[0m00:01\u001b[0m0:01\u001b[0m\n",
      "\u001b[?25hRequirement already satisfied: numpy>=1.19 in /home/idies/mambaforge/envs/py39/lib/python3.9/site-packages (from daal4py==2023.1.1->scikit-learn-intelex) (1.23.4)\n",
      "Collecting daal==2023.1.1\n",
      "  Downloading daal-2023.1.1-py2.py3-none-manylinux1_x86_64.whl (69.2 MB)\n",
      "\u001b[2K     \u001b[90m━━━━━━━━━━━━━━━━━━━━━━━━━━━━━━━━━━━━━━━━\u001b[0m \u001b[32m69.2/69.2 MB\u001b[0m \u001b[31m4.7 MB/s\u001b[0m eta \u001b[36m0:00:00\u001b[0m:00:01\u001b[0m00:01\u001b[0m\n",
      "\u001b[?25hCollecting tbb==2021.*\n",
      "  Downloading tbb-2021.9.0-py2.py3-none-manylinux1_x86_64.whl (4.0 MB)\n",
      "\u001b[2K     \u001b[90m━━━━━━━━━━━━━━━━━━━━━━━━━━━━━━━━━━━━━━━━\u001b[0m \u001b[32m4.0/4.0 MB\u001b[0m \u001b[31m27.1 MB/s\u001b[0m eta \u001b[36m0:00:00\u001b[0m00:01\u001b[0m00:01\u001b[0m\n",
      "\u001b[?25hRequirement already satisfied: scipy>=1.5.0 in /home/idies/mambaforge/envs/py39/lib/python3.9/site-packages (from scikit-learn>=0.22->scikit-learn-intelex) (1.9.3)\n",
      "Collecting threadpoolctl>=2.0.0\n",
      "  Downloading threadpoolctl-3.1.0-py3-none-any.whl (14 kB)\n",
      "Collecting joblib>=1.1.1\n",
      "  Downloading joblib-1.3.1-py3-none-any.whl (301 kB)\n",
      "\u001b[2K     \u001b[90m━━━━━━━━━━━━━━━━━━━━━━━━━━━━━━━━━━━━━━\u001b[0m \u001b[32m302.0/302.0 kB\u001b[0m \u001b[31m19.5 MB/s\u001b[0m eta \u001b[36m0:00:00\u001b[0m\n",
      "\u001b[?25hInstalling collected packages: tbb, threadpoolctl, joblib, daal, scikit-learn, daal4py, scikit-learn-intelex\n",
      "Successfully installed daal-2023.1.1 daal4py-2023.1.1 joblib-1.3.1 scikit-learn-1.3.0 scikit-learn-intelex-2023.1.1 tbb-2021.9.0 threadpoolctl-3.1.0\n"
     ]
    }
   ],
   "source": [
    "import sys\n",
    "!{sys.executable} -m pip install scikit-learn-intelex"
   ]
  },
  {
   "cell_type": "code",
   "execution_count": null,
   "id": "823a70d1-d924-4182-ab0d-d8e243e838d4",
   "metadata": {},
   "outputs": [],
   "source": [
    "from sklearnex import patch_sklearn\n",
    "patch_sklearn(global_patch=True)"
   ]
  },
  {
   "cell_type": "code",
   "execution_count": 7,
   "id": "6f2ba058-77b8-42f8-b5f7-226b42496716",
   "metadata": {
    "execution": {
     "iopub.execute_input": "2023-07-02T08:44:27.180780Z",
     "iopub.status.busy": "2023-07-02T08:44:27.179685Z",
     "iopub.status.idle": "2023-07-02T08:44:28.304693Z",
     "shell.execute_reply": "2023-07-02T08:44:28.302704Z",
     "shell.execute_reply.started": "2023-07-02T08:44:27.180708Z"
    }
   },
   "outputs": [],
   "source": [
    "import pandas as pd\n",
    "import numpy as np"
   ]
  },
  {
   "cell_type": "code",
   "execution_count": null,
   "id": "cd476d17-4b07-4bba-a221-610bd02b8903",
   "metadata": {},
   "outputs": [],
   "source": [
    "data = pd.read_csv('/home/idies/workspace/Storage/s.hossain18/Permanent/exodata_big.csv').sort_index(axis=0)"
   ]
  },
  {
   "cell_type": "code",
   "execution_count": null,
   "id": "166d2623-fa20-49e9-9c57-339dd047da55",
   "metadata": {},
   "outputs": [],
   "source": [
    "# Fill missing values with median of each column\n",
    "for column in data.columns:\n",
    "    data[column].fillna(data[column].median(), inplace=True)"
   ]
  },
  {
   "cell_type": "code",
   "execution_count": 4,
   "id": "08ca0a9f-757e-4e77-a162-ac23873054b6",
   "metadata": {
    "execution": {
     "iopub.execute_input": "2023-07-02T08:38:24.719318Z",
     "iopub.status.busy": "2023-07-02T08:38:24.718316Z",
     "iopub.status.idle": "2023-07-02T08:38:27.756250Z",
     "shell.execute_reply": "2023-07-02T08:38:27.753834Z",
     "shell.execute_reply.started": "2023-07-02T08:38:24.719234Z"
    },
    "tags": []
   },
   "outputs": [],
   "source": [
    "from sklearn.utils import shuffle"
   ]
  },
  {
   "cell_type": "code",
   "execution_count": 6,
   "id": "d5cf434c-2446-49ed-a53a-677907e73193",
   "metadata": {
    "execution": {
     "iopub.execute_input": "2023-07-02T08:40:03.175139Z",
     "iopub.status.busy": "2023-07-02T08:40:03.174126Z",
     "iopub.status.idle": "2023-07-02T08:40:03.253220Z",
     "shell.execute_reply": "2023-07-02T08:40:03.250764Z",
     "shell.execute_reply.started": "2023-07-02T08:40:03.175042Z"
    },
    "tags": []
   },
   "outputs": [
    {
     "ename": "NameError",
     "evalue": "name 'data_filled' is not defined",
     "output_type": "error",
     "traceback": [
      "\u001b[0;31m---------------------------------------------------------------------------\u001b[0m",
      "\u001b[0;31mNameError\u001b[0m                                 Traceback (most recent call last)",
      "Cell \u001b[0;32mIn [6], line 1\u001b[0m\n\u001b[0;32m----> 1\u001b[0m data_shuffled \u001b[38;5;241m=\u001b[39m shuffle(\u001b[43mdata_filled\u001b[49m, random_state\u001b[38;5;241m=\u001b[39m\u001b[38;5;241m1\u001b[39m)\n",
      "\u001b[0;31mNameError\u001b[0m: name 'data_filled' is not defined"
     ]
    }
   ],
   "source": [
    "data_shuffled = shuffle(data_filled, random_state=1)"
   ]
  },
  {
   "cell_type": "code",
   "execution_count": null,
   "id": "85f760ef-68f5-4dd5-87ec-63de7c2800cd",
   "metadata": {},
   "outputs": [],
   "source": [
    "# Find columns with only 0 or 1 values\n",
    "columns_to_drop = []\n",
    "for column in data_shuffled.columns:\n",
    "    if column != \"exoplanet\":\n",
    "        unique_values = data_shuffled[column].unique()\n",
    "        if len(unique_values) == 1 or (len(unique_values) == 2 and 0 in unique_values and 1 in unique_values):\n",
    "            columns_to_drop.append(column)\n",
    "\n",
    "# Drop the identified columns\n",
    "df_filtered = data_shuffled.drop(columns=columns_to_drop)"
   ]
  },
  {
   "cell_type": "code",
   "execution_count": null,
   "id": "2b6fa7d8-b0ce-4996-b0a6-0507b3c23b3c",
   "metadata": {},
   "outputs": [],
   "source": [
    "from sklearn.model_selection import train_test_split"
   ]
  },
  {
   "cell_type": "code",
   "execution_count": null,
   "id": "403b469d-51ba-4183-9c9c-9d9722a856f7",
   "metadata": {},
   "outputs": [],
   "source": [
    "X_train, X_test, y_train, y_test = train_test_split(X, y, test_size=0.4, random_state=43,stratify=y)"
   ]
  },
  {
   "cell_type": "code",
   "execution_count": null,
   "id": "4dfa56c0-91e4-4f13-bf46-a7eefe0d9a98",
   "metadata": {},
   "outputs": [],
   "source": [
    "# Convert DataFrame to NumPy array\n",
    "y_train = y_train.to_numpy()\n",
    "y_test = y_test.to_numpy()\n",
    "# Save NumPy array as npy file\n",
    "np.save('/home/idies/workspace/Storage/s.hossain18/Permanent/PCA_Robust/y_train.npy', y_train)\n",
    "np.save('/home/idies/workspace/Storage/s.hossain18/Permanent/PCA_Robust/y_test.npy', y_test)"
   ]
  },
  {
   "cell_type": "code",
   "execution_count": 8,
   "id": "d5d34c81-170f-4148-bdd8-24133ed6f030",
   "metadata": {
    "execution": {
     "iopub.execute_input": "2023-07-02T09:21:43.708150Z",
     "iopub.status.busy": "2023-07-02T09:21:43.707298Z",
     "iopub.status.idle": "2023-07-02T09:21:43.717560Z",
     "shell.execute_reply": "2023-07-02T09:21:43.715428Z",
     "shell.execute_reply.started": "2023-07-02T09:21:43.708074Z"
    }
   },
   "outputs": [],
   "source": [
    "from sklearn.preprocessing import RobustScaler\n",
    "rs = RobustScaler()"
   ]
  },
  {
   "cell_type": "code",
   "execution_count": null,
   "id": "88726709-d08c-4beb-ba77-f29d02be27e7",
   "metadata": {},
   "outputs": [],
   "source": [
    "X_train = rs.fit_transform(X_train)\n",
    "X_test = rs.transform(X_test)"
   ]
  },
  {
   "cell_type": "code",
   "execution_count": null,
   "id": "63a81823-03a8-4775-b4e4-fd23e025cff9",
   "metadata": {},
   "outputs": [],
   "source": [
    "# Save NumPy array as npy file\n",
    "np.save('/home/idies/workspace/Storage/s.hossain18/Permanent/PCA_Robust/X_test.npy', X_test)"
   ]
  },
  {
   "cell_type": "code",
   "execution_count": 11,
   "id": "c38cff27-9a40-44be-bd8c-8450cc287425",
   "metadata": {
    "execution": {
     "iopub.execute_input": "2023-07-02T09:27:45.548186Z",
     "iopub.status.busy": "2023-07-02T09:27:45.547313Z",
     "iopub.status.idle": "2023-07-02T09:27:45.557989Z",
     "shell.execute_reply": "2023-07-02T09:27:45.555748Z",
     "shell.execute_reply.started": "2023-07-02T09:27:45.548110Z"
    },
    "tags": []
   },
   "outputs": [],
   "source": [
    "from sklearn.decomposition import IncrementalPCA\n",
    "# Define the batch size and number of components\n",
    "batch_size = 1000\n",
    "n_components = 200"
   ]
  },
  {
   "cell_type": "code",
   "execution_count": 10,
   "id": "ce3073f6-4d10-4ac6-9809-45328380f37f",
   "metadata": {
    "execution": {
     "iopub.execute_input": "2023-07-02T09:27:26.848480Z",
     "iopub.status.busy": "2023-07-02T09:27:26.847612Z",
     "iopub.status.idle": "2023-07-02T09:27:26.857677Z",
     "shell.execute_reply": "2023-07-02T09:27:26.855523Z",
     "shell.execute_reply.started": "2023-07-02T09:27:26.848417Z"
    }
   },
   "outputs": [],
   "source": [
    "# Create an instance of IncrementalPCA\n",
    "ipca = IncrementalPCA(n_components=n_components)"
   ]
  },
  {
   "cell_type": "code",
   "execution_count": null,
   "id": "f4f45ade-4e93-4949-81a3-0aaf8a087654",
   "metadata": {},
   "outputs": [],
   "source": [
    "# Perform Incremental PCA on the data in batches\n",
    "for batch_start in range(0, len(X_train), batch_size):\n",
    "    batch_end = batch_start + batch_size\n",
    "    batch_data = X_train[batch_start:batch_end]\n",
    "    ipca.partial_fit(batch_data)"
   ]
  },
  {
   "cell_type": "code",
   "execution_count": null,
   "id": "40d47301-10d8-4601-942a-b0728b754d14",
   "metadata": {},
   "outputs": [],
   "source": [
    "# Transform the data using the learned components\n",
    "transformed_data = ipca.transform(X_train)\n",
    "# Save NumPy array as npy file\n",
    "np.save('/home/idies/workspace/Storage/s.hossain18/Permanent/PCA_Robust/X_train_pca.npy', transformed_data)"
   ]
  },
  {
   "cell_type": "code",
   "execution_count": null,
   "id": "0f7749e5-066a-4ce2-b233-29c5e3becf83",
   "metadata": {},
   "outputs": [],
   "source": [
    "# Save DataFrame as Target\n",
    "#data_array = df_filtered[['exoplanet']].to_numpy()\n",
    "#df_filtered[['exoplanet']].to_csv('/home/idies/workspace/Storage/s.hossain18/Permanent/PCA_Robust/data_target.csv', index=False)"
   ]
  },
  {
   "cell_type": "code",
   "execution_count": null,
   "id": "a9620c4d-8977-4b3b-8154-ca31cec1ec21",
   "metadata": {},
   "outputs": [],
   "source": []
  },
  {
   "cell_type": "code",
   "execution_count": null,
   "id": "417d087a-af92-4899-b1e2-12ecf68bfeac",
   "metadata": {},
   "outputs": [],
   "source": []
  }
 ],
 "metadata": {
  "kernelspec": {
   "display_name": "Python 3.9 (py39)",
   "language": "python",
   "name": "py39"
  },
  "language_info": {
   "codemirror_mode": {
    "name": "ipython",
    "version": 3
   },
   "file_extension": ".py",
   "mimetype": "text/x-python",
   "name": "python",
   "nbconvert_exporter": "python",
   "pygments_lexer": "ipython3",
   "version": "3.9.13"
  }
 },
 "nbformat": 4,
 "nbformat_minor": 5
}

{
 "cells": [
  {
   "cell_type": "code",
   "execution_count": null,
   "id": "488a9948",
   "metadata": {},
   "outputs": [],
   "source": [
    "#!cd /home/idies/workspace/Temporary/s.hossain18/scratch/data-extract && git pull"
   ]
  },
  {
   "cell_type": "code",
   "execution_count": null,
   "id": "194544ec",
   "metadata": {},
   "outputs": [],
   "source": [
    "#import sys\n",
    "#!{sys.executable} -m pip install astropy"
   ]
  },
  {
   "cell_type": "code",
   "execution_count": 1,
   "id": "2e34e937",
   "metadata": {
    "execution": {
     "iopub.execute_input": "2023-05-17T02:26:53.205999Z",
     "iopub.status.busy": "2023-05-17T02:26:53.205158Z",
     "iopub.status.idle": "2023-05-17T02:27:10.482913Z",
     "shell.execute_reply": "2023-05-17T02:27:10.480313Z",
     "shell.execute_reply.started": "2023-05-17T02:26:53.205842Z"
    }
   },
   "outputs": [
    {
     "name": "stdout",
     "output_type": "stream",
     "text": [
      "Collecting astropy\n",
      "  Downloading astropy-5.2.2-cp39-cp39-manylinux_2_12_x86_64.manylinux2010_x86_64.whl (11.2 MB)\n",
      "\u001b[2K     \u001b[90m━━━━━━━━━━━━━━━━━━━━━━━━━━━━━━━━━━━━━━━━\u001b[0m \u001b[32m11.2/11.2 MB\u001b[0m \u001b[31m19.1 MB/s\u001b[0m eta \u001b[36m0:00:00\u001b[0m00:01\u001b[0m0:01\u001b[0m\n",
      "\u001b[?25hCollecting pyerfa>=2.0\n",
      "  Downloading pyerfa-2.0.0.3-cp39-cp39-manylinux_2_17_x86_64.manylinux2014_x86_64.whl (741 kB)\n",
      "\u001b[2K     \u001b[90m━━━━━━━━━━━━━━━━━━━━━━━━━━━━━━━━━━━━━━\u001b[0m \u001b[32m741.1/741.1 kB\u001b[0m \u001b[31m28.7 MB/s\u001b[0m eta \u001b[36m0:00:00\u001b[0m\n",
      "\u001b[?25hRequirement already satisfied: PyYAML>=3.13 in /home/idies/mambaforge/envs/py39/lib/python3.9/site-packages (from astropy) (6.0)\n",
      "Requirement already satisfied: packaging>=19.0 in /home/idies/mambaforge/envs/py39/lib/python3.9/site-packages (from astropy) (21.3)\n",
      "Requirement already satisfied: numpy>=1.20 in /home/idies/mambaforge/envs/py39/lib/python3.9/site-packages (from astropy) (1.23.4)\n",
      "Requirement already satisfied: pyparsing!=3.0.5,>=2.0.2 in /home/idies/mambaforge/envs/py39/lib/python3.9/site-packages (from packaging>=19.0->astropy) (3.0.9)\n",
      "Installing collected packages: pyerfa, astropy\n",
      "Successfully installed astropy-5.2.2 pyerfa-2.0.0.3\n"
     ]
    }
   ],
   "source": [
    "import sys\n",
    "!{sys.executable} -m pip install astropy==5.2.2"
   ]
  },
  {
   "cell_type": "code",
   "execution_count": 2,
   "id": "692e05ab",
   "metadata": {
    "execution": {
     "iopub.execute_input": "2023-05-17T02:27:10.516405Z",
     "iopub.status.busy": "2023-05-17T02:27:10.515875Z",
     "iopub.status.idle": "2023-05-17T02:27:42.683646Z",
     "shell.execute_reply": "2023-05-17T02:27:42.681001Z",
     "shell.execute_reply.started": "2023-05-17T02:27:10.516327Z"
    }
   },
   "outputs": [
    {
     "name": "stdout",
     "output_type": "stream",
     "text": [
      "Collecting tsfresh\n",
      "  Downloading tsfresh-0.20.0-py2.py3-none-any.whl (98 kB)\n",
      "\u001b[2K     \u001b[90m━━━━━━━━━━━━━━━━━━━━━━━━━━━━━━━━━━━━━━━━\u001b[0m \u001b[32m98.2/98.2 kB\u001b[0m \u001b[31m3.9 MB/s\u001b[0m eta \u001b[36m0:00:00\u001b[0m\n",
      "\u001b[?25hRequirement already satisfied: requests>=2.9.1 in /home/idies/mambaforge/envs/py39/lib/python3.9/site-packages (from tsfresh) (2.28.1)\n",
      "Collecting statsmodels>=0.13\n",
      "  Downloading statsmodels-0.14.0-cp39-cp39-manylinux_2_17_x86_64.manylinux2014_x86_64.whl (10.1 MB)\n",
      "\u001b[2K     \u001b[90m━━━━━━━━━━━━━━━━━━━━━━━━━━━━━━━━━━━━━━━━\u001b[0m \u001b[32m10.1/10.1 MB\u001b[0m \u001b[31m23.4 MB/s\u001b[0m eta \u001b[36m0:00:00\u001b[0m00:01\u001b[0m0:01\u001b[0m\n",
      "\u001b[?25hRequirement already satisfied: scipy>=1.2.0 in /home/idies/mambaforge/envs/py39/lib/python3.9/site-packages (from tsfresh) (1.9.3)\n",
      "Requirement already satisfied: tqdm>=4.10.0 in /home/idies/mambaforge/envs/py39/lib/python3.9/site-packages (from tsfresh) (4.64.1)\n",
      "Requirement already satisfied: numpy>=1.15.1 in /home/idies/mambaforge/envs/py39/lib/python3.9/site-packages (from tsfresh) (1.23.4)\n",
      "Requirement already satisfied: pandas>=0.25.0 in /home/idies/mambaforge/envs/py39/lib/python3.9/site-packages (from tsfresh) (1.5.1)\n",
      "Requirement already satisfied: dask[dataframe]>=2.9.0 in /home/idies/mambaforge/envs/py39/lib/python3.9/site-packages (from tsfresh) (2022.11.0)\n",
      "Collecting patsy>=0.4.1\n",
      "  Downloading patsy-0.5.3-py2.py3-none-any.whl (233 kB)\n",
      "\u001b[2K     \u001b[90m━━━━━━━━━━━━━━━━━━━━━━━━━━━━━━━━━━━━━━\u001b[0m \u001b[32m233.8/233.8 kB\u001b[0m \u001b[31m17.3 MB/s\u001b[0m eta \u001b[36m0:00:00\u001b[0m\n",
      "\u001b[?25hRequirement already satisfied: distributed>=2.11.0 in /home/idies/mambaforge/envs/py39/lib/python3.9/site-packages (from tsfresh) (2022.11.0)\n",
      "Collecting stumpy>=1.7.2\n",
      "  Downloading stumpy-1.11.1-py3-none-any.whl (136 kB)\n",
      "\u001b[2K     \u001b[90m━━━━━━━━━━━━━━━━━━━━━━━━━━━━━━━━━━━━━━━\u001b[0m \u001b[32m136.2/136.2 kB\u001b[0m \u001b[31m6.2 MB/s\u001b[0m eta \u001b[36m0:00:00\u001b[0m\n",
      "\u001b[?25hRequirement already satisfied: cloudpickle in /home/idies/mambaforge/envs/py39/lib/python3.9/site-packages (from tsfresh) (2.2.0)\n",
      "Collecting scikit-learn>=0.22.0\n",
      "  Downloading scikit_learn-1.2.2-cp39-cp39-manylinux_2_17_x86_64.manylinux2014_x86_64.whl (9.6 MB)\n",
      "\u001b[2K     \u001b[90m━━━━━━━━━━━━━━━━━━━━━━━━━━━━━━━━━━━━━━━━\u001b[0m \u001b[32m9.6/9.6 MB\u001b[0m \u001b[31m25.8 MB/s\u001b[0m eta \u001b[36m0:00:00\u001b[0m00:01\u001b[0m00:01\u001b[0m\n",
      "\u001b[?25hRequirement already satisfied: fsspec>=0.6.0 in /home/idies/mambaforge/envs/py39/lib/python3.9/site-packages (from dask[dataframe]>=2.9.0->tsfresh) (2022.11.0)\n",
      "Requirement already satisfied: pyyaml>=5.3.1 in /home/idies/mambaforge/envs/py39/lib/python3.9/site-packages (from dask[dataframe]>=2.9.0->tsfresh) (6.0)\n",
      "Requirement already satisfied: packaging>=20.0 in /home/idies/mambaforge/envs/py39/lib/python3.9/site-packages (from dask[dataframe]>=2.9.0->tsfresh) (21.3)\n",
      "Requirement already satisfied: click>=7.0 in /home/idies/mambaforge/envs/py39/lib/python3.9/site-packages (from dask[dataframe]>=2.9.0->tsfresh) (8.1.3)\n",
      "Requirement already satisfied: toolz>=0.8.2 in /home/idies/mambaforge/envs/py39/lib/python3.9/site-packages (from dask[dataframe]>=2.9.0->tsfresh) (0.12.0)\n",
      "Requirement already satisfied: partd>=0.3.10 in /home/idies/mambaforge/envs/py39/lib/python3.9/site-packages (from dask[dataframe]>=2.9.0->tsfresh) (1.3.0)\n",
      "Requirement already satisfied: jinja2 in /home/idies/mambaforge/envs/py39/lib/python3.9/site-packages (from distributed>=2.11.0->tsfresh) (3.1.2)\n",
      "Requirement already satisfied: urllib3 in /home/idies/mambaforge/envs/py39/lib/python3.9/site-packages (from distributed>=2.11.0->tsfresh) (1.26.11)\n",
      "Requirement already satisfied: tornado<6.2,>=6.0.3 in /home/idies/mambaforge/envs/py39/lib/python3.9/site-packages (from distributed>=2.11.0->tsfresh) (6.1)\n",
      "Requirement already satisfied: psutil>=5.0 in /home/idies/mambaforge/envs/py39/lib/python3.9/site-packages (from distributed>=2.11.0->tsfresh) (5.9.4)\n",
      "Requirement already satisfied: sortedcontainers!=2.0.0,!=2.0.1 in /home/idies/mambaforge/envs/py39/lib/python3.9/site-packages (from distributed>=2.11.0->tsfresh) (2.4.0)\n",
      "Requirement already satisfied: msgpack>=0.6.0 in /home/idies/mambaforge/envs/py39/lib/python3.9/site-packages (from distributed>=2.11.0->tsfresh) (1.0.4)\n",
      "Requirement already satisfied: locket>=1.0.0 in /home/idies/mambaforge/envs/py39/lib/python3.9/site-packages (from distributed>=2.11.0->tsfresh) (1.0.0)\n",
      "Requirement already satisfied: zict>=0.1.3 in /home/idies/mambaforge/envs/py39/lib/python3.9/site-packages (from distributed>=2.11.0->tsfresh) (2.2.0)\n",
      "Requirement already satisfied: tblib>=1.6.0 in /home/idies/mambaforge/envs/py39/lib/python3.9/site-packages (from distributed>=2.11.0->tsfresh) (1.7.0)\n",
      "Requirement already satisfied: python-dateutil>=2.8.1 in /home/idies/mambaforge/envs/py39/lib/python3.9/site-packages (from pandas>=0.25.0->tsfresh) (2.8.2)\n",
      "Requirement already satisfied: pytz>=2020.1 in /home/idies/mambaforge/envs/py39/lib/python3.9/site-packages (from pandas>=0.25.0->tsfresh) (2022.6)\n",
      "Requirement already satisfied: six in /home/idies/mambaforge/envs/py39/lib/python3.9/site-packages (from patsy>=0.4.1->tsfresh) (1.16.0)\n",
      "Requirement already satisfied: charset-normalizer<3,>=2 in /home/idies/mambaforge/envs/py39/lib/python3.9/site-packages (from requests>=2.9.1->tsfresh) (2.1.1)\n",
      "Requirement already satisfied: certifi>=2017.4.17 in /home/idies/mambaforge/envs/py39/lib/python3.9/site-packages (from requests>=2.9.1->tsfresh) (2022.12.7)\n",
      "Requirement already satisfied: idna<4,>=2.5 in /home/idies/mambaforge/envs/py39/lib/python3.9/site-packages (from requests>=2.9.1->tsfresh) (3.4)\n",
      "Collecting joblib>=1.1.1\n",
      "  Downloading joblib-1.2.0-py3-none-any.whl (297 kB)\n",
      "\u001b[2K     \u001b[90m━━━━━━━━━━━━━━━━━━━━━━━━━━━━━━━━━━━━━━\u001b[0m \u001b[32m298.0/298.0 kB\u001b[0m \u001b[31m19.5 MB/s\u001b[0m eta \u001b[36m0:00:00\u001b[0m\n",
      "\u001b[?25hCollecting threadpoolctl>=2.0.0\n",
      "  Downloading threadpoolctl-3.1.0-py3-none-any.whl (14 kB)\n",
      "Collecting numba>=0.54\n",
      "  Downloading numba-0.57.0-cp39-cp39-manylinux2014_x86_64.manylinux_2_17_x86_64.whl (3.6 MB)\n",
      "\u001b[2K     \u001b[90m━━━━━━━━━━━━━━━━━━━━━━━━━━━━━━━━━━━━━━━━\u001b[0m \u001b[32m3.6/3.6 MB\u001b[0m \u001b[31m27.4 MB/s\u001b[0m eta \u001b[36m0:00:00\u001b[0m00:01\u001b[0m00:01\u001b[0m\n",
      "\u001b[?25hCollecting llvmlite<0.41,>=0.40.0dev0\n",
      "  Downloading llvmlite-0.40.0-cp39-cp39-manylinux_2_17_x86_64.manylinux2014_x86_64.whl (42.1 MB)\n",
      "\u001b[2K     \u001b[90m━━━━━━━━━━━━━━━━━━━━━━━━━━━━━━━━━━━━━━━━\u001b[0m \u001b[32m42.1/42.1 MB\u001b[0m \u001b[31m7.6 MB/s\u001b[0m eta \u001b[36m0:00:00\u001b[0m:00:01\u001b[0m00:01\u001b[0m\n",
      "\u001b[?25hRequirement already satisfied: pyparsing!=3.0.5,>=2.0.2 in /home/idies/mambaforge/envs/py39/lib/python3.9/site-packages (from packaging>=20.0->dask[dataframe]>=2.9.0->tsfresh) (3.0.9)\n",
      "Requirement already satisfied: heapdict in /home/idies/mambaforge/envs/py39/lib/python3.9/site-packages (from zict>=0.1.3->distributed>=2.11.0->tsfresh) (1.0.1)\n",
      "Requirement already satisfied: MarkupSafe>=2.0 in /home/idies/mambaforge/envs/py39/lib/python3.9/site-packages (from jinja2->distributed>=2.11.0->tsfresh) (2.1.1)\n",
      "Installing collected packages: threadpoolctl, patsy, llvmlite, joblib, scikit-learn, numba, stumpy, statsmodels, tsfresh\n",
      "Successfully installed joblib-1.2.0 llvmlite-0.40.0 numba-0.57.0 patsy-0.5.3 scikit-learn-1.2.2 statsmodels-0.14.0 stumpy-1.11.1 threadpoolctl-3.1.0 tsfresh-0.20.0\n"
     ]
    }
   ],
   "source": [
    "import sys\n",
    "!{sys.executable} -m pip install tsfresh"
   ]
  },
  {
   "cell_type": "code",
   "execution_count": null,
   "id": "0fbdf4b5",
   "metadata": {
    "execution": {
     "iopub.execute_input": "2023-05-17T02:27:50.628777Z",
     "iopub.status.busy": "2023-05-17T02:27:50.627927Z"
    }
   },
   "outputs": [
    {
     "name": "stderr",
     "output_type": "stream",
     "text": [
      "Feature Extraction:   9% 4/44 [01:14<10:54, 16.35s/it]"
     ]
    }
   ],
   "source": [
    "# Correct code\n",
    "from tsfresh import extract_features\n",
    "from tsfresh.utilities.dataframe_functions import impute\n",
    "from tsfresh.feature_extraction import EfficientFCParameters\n",
    "from tsfresh.utilities.distribution import MultiprocessingDistributor\n",
    "\n",
    "import os\n",
    "import glob\n",
    "from astropy.table import Table\n",
    "import pandas as pd\n",
    "#from tsfresh import extract_features\n",
    "# Set the working directory\n",
    "os.chdir(\"/home/idies/workspace/Temporary/s.hossain18/scratch/tsfresh-extract/data_6\")\n",
    "#os.chdir(\"/home/idies/workspace/Storage/s.hossain18/Permanent/Data\")\n",
    "# ts fresh modules\n",
    "extraction_settings = EfficientFCParameters()\n",
    "# Find all files with a certain extension\n",
    "extension_1 = 'tbl'\n",
    "import_filenames = [i for i in glob.glob('*.{}'.format(extension_1))]\n",
    "df = pd.DataFrame()\n",
    "for f in import_filenames:\n",
    "    read = Table.read(f, format='ascii.ipac')\n",
    "    data = read.to_pandas()\n",
    "    data['kind'] = data['set']\n",
    "    # over four threads on the local machine\n",
    "    Distributor = MultiprocessingDistributor(n_workers=os.cpu_count(),disable_progressbar=False,progressbar_title=\"Feature Extraction\")\n",
    "\n",
    "    ts_data = extract_features(data, column_id='set', column_sort='TIME',column_kind='kind' , column_value='PDCSAP_FLUX', default_fc_parameters=extraction_settings,impute_function=impute,distributor=Distributor)\n",
    "    #df = df.append(ts_data)\n",
    "    df = pd.concat([df,ts_data],ignore_index=True, sort=False)\n",
    "\n",
    "# saving the dataframe\n",
    "df.drop_duplicates(keep='first', inplace=True)\n",
    "df.to_csv('/home/idies/workspace/Storage/s.hossain18/Permanent/FalsePositive/ts_fp_9.csv', index=False)"
   ]
  },
  {
   "cell_type": "code",
   "execution_count": null,
   "id": "e1d32bad",
   "metadata": {},
   "outputs": [],
   "source": []
  }
 ],
 "metadata": {
  "kernelspec": {
   "display_name": "Python 3.9 (py39)",
   "language": "python",
   "name": "py39"
  },
  "language_info": {
   "codemirror_mode": {
    "name": "ipython",
    "version": 3
   },
   "file_extension": ".py",
   "mimetype": "text/x-python",
   "name": "python",
   "nbconvert_exporter": "python",
   "pygments_lexer": "ipython3",
   "version": "3.9.13"
  }
 },
 "nbformat": 4,
 "nbformat_minor": 5
}

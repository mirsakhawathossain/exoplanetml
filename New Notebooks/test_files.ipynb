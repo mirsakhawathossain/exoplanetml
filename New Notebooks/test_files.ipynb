{
 "cells": [
  {
   "cell_type": "code",
   "execution_count": 11,
   "id": "2953d5f5-9c81-4d0c-9907-e4bfc381806d",
   "metadata": {
    "execution": {
     "iopub.execute_input": "2023-06-13T08:53:21.375135Z",
     "iopub.status.busy": "2023-06-13T08:53:21.374272Z",
     "iopub.status.idle": "2023-06-13T08:53:27.120898Z",
     "shell.execute_reply": "2023-06-13T08:53:27.118011Z",
     "shell.execute_reply.started": "2023-06-13T08:53:21.375074Z"
    },
    "tags": []
   },
   "outputs": [
    {
     "name": "stdout",
     "output_type": "stream",
     "text": [
      "Requirement already satisfied: astropy==5.2.2 in /home/idies/mambaforge/envs/py39/lib/python3.9/site-packages (5.2.2)\n",
      "Requirement already satisfied: pyerfa>=2.0 in /home/idies/mambaforge/envs/py39/lib/python3.9/site-packages (from astropy==5.2.2) (2.0.0.3)\n",
      "Requirement already satisfied: PyYAML>=3.13 in /home/idies/mambaforge/envs/py39/lib/python3.9/site-packages (from astropy==5.2.2) (6.0)\n",
      "Requirement already satisfied: numpy>=1.20 in /home/idies/mambaforge/envs/py39/lib/python3.9/site-packages (from astropy==5.2.2) (1.23.4)\n",
      "Requirement already satisfied: packaging>=19.0 in /home/idies/mambaforge/envs/py39/lib/python3.9/site-packages (from astropy==5.2.2) (21.3)\n",
      "Requirement already satisfied: pyparsing!=3.0.5,>=2.0.2 in /home/idies/mambaforge/envs/py39/lib/python3.9/site-packages (from packaging>=19.0->astropy==5.2.2) (3.0.9)\n"
     ]
    }
   ],
   "source": [
    "import sys\n",
    "!{sys.executable} -m pip install astropy==5.2.2"
   ]
  },
  {
   "cell_type": "code",
   "execution_count": 12,
   "id": "692e05ab",
   "metadata": {
    "execution": {
     "iopub.execute_input": "2023-06-13T08:53:27.126510Z",
     "iopub.status.busy": "2023-06-13T08:53:27.125791Z",
     "iopub.status.idle": "2023-06-13T08:53:32.802511Z",
     "shell.execute_reply": "2023-06-13T08:53:32.798967Z",
     "shell.execute_reply.started": "2023-06-13T08:53:27.126401Z"
    },
    "tags": []
   },
   "outputs": [
    {
     "name": "stdout",
     "output_type": "stream",
     "text": [
      "Requirement already satisfied: tsfresh in /home/idies/mambaforge/envs/py39/lib/python3.9/site-packages (0.20.0)\n",
      "Requirement already satisfied: pandas>=0.25.0 in /home/idies/mambaforge/envs/py39/lib/python3.9/site-packages (from tsfresh) (1.5.1)\n",
      "Requirement already satisfied: statsmodels>=0.13 in /home/idies/mambaforge/envs/py39/lib/python3.9/site-packages (from tsfresh) (0.14.0)\n",
      "Requirement already satisfied: numpy>=1.15.1 in /home/idies/mambaforge/envs/py39/lib/python3.9/site-packages (from tsfresh) (1.23.4)\n",
      "Requirement already satisfied: tqdm>=4.10.0 in /home/idies/mambaforge/envs/py39/lib/python3.9/site-packages (from tsfresh) (4.64.1)\n",
      "Requirement already satisfied: cloudpickle in /home/idies/mambaforge/envs/py39/lib/python3.9/site-packages (from tsfresh) (2.2.0)\n",
      "Requirement already satisfied: stumpy>=1.7.2 in /home/idies/mambaforge/envs/py39/lib/python3.9/site-packages (from tsfresh) (1.11.1)\n",
      "Requirement already satisfied: patsy>=0.4.1 in /home/idies/mambaforge/envs/py39/lib/python3.9/site-packages (from tsfresh) (0.5.3)\n",
      "Requirement already satisfied: scipy>=1.2.0 in /home/idies/mambaforge/envs/py39/lib/python3.9/site-packages (from tsfresh) (1.9.3)\n",
      "Requirement already satisfied: dask[dataframe]>=2.9.0 in /home/idies/mambaforge/envs/py39/lib/python3.9/site-packages (from tsfresh) (2022.11.0)\n",
      "Requirement already satisfied: scikit-learn>=0.22.0 in /home/idies/mambaforge/envs/py39/lib/python3.9/site-packages (from tsfresh) (1.2.2)\n",
      "Requirement already satisfied: distributed>=2.11.0 in /home/idies/mambaforge/envs/py39/lib/python3.9/site-packages (from tsfresh) (2022.11.0)\n",
      "Requirement already satisfied: requests>=2.9.1 in /home/idies/mambaforge/envs/py39/lib/python3.9/site-packages (from tsfresh) (2.28.1)\n",
      "Requirement already satisfied: partd>=0.3.10 in /home/idies/mambaforge/envs/py39/lib/python3.9/site-packages (from dask[dataframe]>=2.9.0->tsfresh) (1.3.0)\n",
      "Requirement already satisfied: toolz>=0.8.2 in /home/idies/mambaforge/envs/py39/lib/python3.9/site-packages (from dask[dataframe]>=2.9.0->tsfresh) (0.12.0)\n",
      "Requirement already satisfied: pyyaml>=5.3.1 in /home/idies/mambaforge/envs/py39/lib/python3.9/site-packages (from dask[dataframe]>=2.9.0->tsfresh) (6.0)\n",
      "Requirement already satisfied: packaging>=20.0 in /home/idies/mambaforge/envs/py39/lib/python3.9/site-packages (from dask[dataframe]>=2.9.0->tsfresh) (21.3)\n",
      "Requirement already satisfied: click>=7.0 in /home/idies/mambaforge/envs/py39/lib/python3.9/site-packages (from dask[dataframe]>=2.9.0->tsfresh) (8.1.3)\n",
      "Requirement already satisfied: fsspec>=0.6.0 in /home/idies/mambaforge/envs/py39/lib/python3.9/site-packages (from dask[dataframe]>=2.9.0->tsfresh) (2022.11.0)\n",
      "Requirement already satisfied: urllib3 in /home/idies/mambaforge/envs/py39/lib/python3.9/site-packages (from distributed>=2.11.0->tsfresh) (1.26.11)\n",
      "Requirement already satisfied: msgpack>=0.6.0 in /home/idies/mambaforge/envs/py39/lib/python3.9/site-packages (from distributed>=2.11.0->tsfresh) (1.0.4)\n",
      "Requirement already satisfied: jinja2 in /home/idies/mambaforge/envs/py39/lib/python3.9/site-packages (from distributed>=2.11.0->tsfresh) (3.1.2)\n",
      "Requirement already satisfied: locket>=1.0.0 in /home/idies/mambaforge/envs/py39/lib/python3.9/site-packages (from distributed>=2.11.0->tsfresh) (1.0.0)\n",
      "Requirement already satisfied: zict>=0.1.3 in /home/idies/mambaforge/envs/py39/lib/python3.9/site-packages (from distributed>=2.11.0->tsfresh) (2.2.0)\n",
      "Requirement already satisfied: psutil>=5.0 in /home/idies/mambaforge/envs/py39/lib/python3.9/site-packages (from distributed>=2.11.0->tsfresh) (5.9.4)\n",
      "Requirement already satisfied: sortedcontainers!=2.0.0,!=2.0.1 in /home/idies/mambaforge/envs/py39/lib/python3.9/site-packages (from distributed>=2.11.0->tsfresh) (2.4.0)\n",
      "Requirement already satisfied: tblib>=1.6.0 in /home/idies/mambaforge/envs/py39/lib/python3.9/site-packages (from distributed>=2.11.0->tsfresh) (1.7.0)\n",
      "Requirement already satisfied: tornado<6.2,>=6.0.3 in /home/idies/mambaforge/envs/py39/lib/python3.9/site-packages (from distributed>=2.11.0->tsfresh) (6.1)\n",
      "Requirement already satisfied: python-dateutil>=2.8.1 in /home/idies/mambaforge/envs/py39/lib/python3.9/site-packages (from pandas>=0.25.0->tsfresh) (2.8.2)\n",
      "Requirement already satisfied: pytz>=2020.1 in /home/idies/mambaforge/envs/py39/lib/python3.9/site-packages (from pandas>=0.25.0->tsfresh) (2022.6)\n",
      "Requirement already satisfied: six in /home/idies/mambaforge/envs/py39/lib/python3.9/site-packages (from patsy>=0.4.1->tsfresh) (1.16.0)\n",
      "Requirement already satisfied: idna<4,>=2.5 in /home/idies/mambaforge/envs/py39/lib/python3.9/site-packages (from requests>=2.9.1->tsfresh) (3.4)\n",
      "Requirement already satisfied: charset-normalizer<3,>=2 in /home/idies/mambaforge/envs/py39/lib/python3.9/site-packages (from requests>=2.9.1->tsfresh) (2.1.1)\n",
      "Requirement already satisfied: certifi>=2017.4.17 in /home/idies/mambaforge/envs/py39/lib/python3.9/site-packages (from requests>=2.9.1->tsfresh) (2022.12.7)\n",
      "Requirement already satisfied: threadpoolctl>=2.0.0 in /home/idies/mambaforge/envs/py39/lib/python3.9/site-packages (from scikit-learn>=0.22.0->tsfresh) (3.1.0)\n",
      "Requirement already satisfied: joblib>=1.1.1 in /home/idies/mambaforge/envs/py39/lib/python3.9/site-packages (from scikit-learn>=0.22.0->tsfresh) (1.2.0)\n",
      "Requirement already satisfied: numba>=0.54 in /home/idies/mambaforge/envs/py39/lib/python3.9/site-packages (from stumpy>=1.7.2->tsfresh) (0.57.0)\n",
      "Requirement already satisfied: llvmlite<0.41,>=0.40.0dev0 in /home/idies/mambaforge/envs/py39/lib/python3.9/site-packages (from numba>=0.54->stumpy>=1.7.2->tsfresh) (0.40.1rc1)\n",
      "Requirement already satisfied: pyparsing!=3.0.5,>=2.0.2 in /home/idies/mambaforge/envs/py39/lib/python3.9/site-packages (from packaging>=20.0->dask[dataframe]>=2.9.0->tsfresh) (3.0.9)\n",
      "Requirement already satisfied: heapdict in /home/idies/mambaforge/envs/py39/lib/python3.9/site-packages (from zict>=0.1.3->distributed>=2.11.0->tsfresh) (1.0.1)\n",
      "Requirement already satisfied: MarkupSafe>=2.0 in /home/idies/mambaforge/envs/py39/lib/python3.9/site-packages (from jinja2->distributed>=2.11.0->tsfresh) (2.1.1)\n"
     ]
    }
   ],
   "source": [
    "import sys\n",
    "!{sys.executable} -m pip install tsfresh"
   ]
  },
  {
   "cell_type": "code",
   "execution_count": null,
   "id": "0fbdf4b5",
   "metadata": {
    "execution": {
     "iopub.execute_input": "2023-06-13T08:54:24.023079Z",
     "iopub.status.busy": "2023-06-13T08:54:24.022161Z"
    },
    "tags": []
   },
   "outputs": [
    {
     "name": "stderr",
     "output_type": "stream",
     "text": [
      "Feature Extraction: 100% 11/11 [01:13<00:00,  6.71s/it]\n",
      "Feature Extraction: 100% 14/14 [01:30<00:00,  6.50s/it]\n",
      "Feature Extraction: 100% 14/14 [01:03<00:00,  4.57s/it]\n",
      "Feature Extraction:   0% 0/14 [00:00<?, ?it/s]"
     ]
    }
   ],
   "source": [
    "# Correct code\n",
    "from tsfresh import extract_features\n",
    "from tsfresh.utilities.dataframe_functions import impute\n",
    "from tsfresh.feature_extraction import EfficientFCParameters\n",
    "from tsfresh.utilities.distribution import MultiprocessingDistributor\n",
    "\n",
    "import os\n",
    "import glob\n",
    "from astropy.table import Table\n",
    "import pandas as pd\n",
    "#from tsfresh import extract_features\n",
    "# Set the working directory\n",
    "os.chdir(\"/home/idies/workspace/Temporary/s.hossain18/scratch/tsfresh-extract/data_5\")\n",
    "#os.chdir(\"/home/idies/workspace/Storage/s.hossain18/Permanent/Data\")\n",
    "# ts fresh modules\n",
    "extraction_settings = EfficientFCParameters()\n",
    "# Find all files with a certain extension\n",
    "extension_1 = 'tbl'\n",
    "import_filenames = [i for i in glob.glob('*.{}'.format(extension_1))]\n",
    "df = pd.DataFrame()\n",
    "for f in import_filenames:\n",
    "    read = Table.read(f, format='ascii.ipac')\n",
    "    data = read.to_pandas()\n",
    "    data['kind'] = data['set']\n",
    "    # over four threads on the local machine\n",
    "    Distributor = MultiprocessingDistributor(n_workers=os.cpu_count(),disable_progressbar=False,progressbar_title=\"Feature Extraction\")\n",
    "\n",
    "    ts_data = extract_features(data, column_id='set', column_sort='TIME',column_kind='kind' , column_value='PDCSAP_FLUX', default_fc_parameters=extraction_settings,impute_function=impute,distributor=Distributor)\n",
    "    #df = df.append(ts_data)\n",
    "    df = pd.concat([df,ts_data],ignore_index=True, sort=False)\n",
    "\n",
    "# saving the dataframe\n",
    "df.drop_duplicates(keep='first', inplace=True)\n",
    "df.to_csv('/home/idies/workspace/Storage/s.hossain18/Permanent/FalsePositive/ts_fp_5.csv', index=False)"
   ]
  },
  {
   "cell_type": "code",
   "execution_count": null,
   "id": "135660c4-44f6-4ca0-88bc-e852e9af7596",
   "metadata": {},
   "outputs": [],
   "source": []
  }
 ],
 "metadata": {
  "kernelspec": {
   "display_name": "Python 3.9 (py39)",
   "language": "python",
   "name": "py39"
  },
  "language_info": {
   "codemirror_mode": {
    "name": "ipython",
    "version": 3
   },
   "file_extension": ".py",
   "mimetype": "text/x-python",
   "name": "python",
   "nbconvert_exporter": "python",
   "pygments_lexer": "ipython3",
   "version": "3.9.13"
  }
 },
 "nbformat": 4,
 "nbformat_minor": 5
}

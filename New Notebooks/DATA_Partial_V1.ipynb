{
 "cells": [
  {
   "cell_type": "code",
   "execution_count": 1,
   "id": "4c4d7cbb-4ffa-4dab-8e7c-1aded069a03d",
   "metadata": {
    "execution": {
     "iopub.execute_input": "2023-07-05T06:45:49.008255Z",
     "iopub.status.busy": "2023-07-05T06:45:49.006103Z",
     "iopub.status.idle": "2023-07-05T06:46:11.914884Z",
     "shell.execute_reply": "2023-07-05T06:46:11.912033Z",
     "shell.execute_reply.started": "2023-07-05T06:45:49.008007Z"
    }
   },
   "outputs": [
    {
     "name": "stdout",
     "output_type": "stream",
     "text": [
      "Collecting scikit-learn-intelex\n",
      "  Downloading scikit_learn_intelex-2023.1.1-py39-none-manylinux1_x86_64.whl (115 kB)\n",
      "\u001b[2K     \u001b[90m━━━━━━━━━━━━━━━━━━━━━━━━━━━━━━━━━━━━━━━\u001b[0m \u001b[32m115.3/115.3 kB\u001b[0m \u001b[31m4.3 MB/s\u001b[0m eta \u001b[36m0:00:00\u001b[0m\n",
      "\u001b[?25hCollecting daal4py==2023.1.1\n",
      "  Downloading daal4py-2023.1.1-py39-none-manylinux1_x86_64.whl (13.9 MB)\n",
      "\u001b[2K     \u001b[90m━━━━━━━━━━━━━━━━━━━━━━━━━━━━━━━━━━━━━━━━\u001b[0m \u001b[32m13.9/13.9 MB\u001b[0m \u001b[31m21.8 MB/s\u001b[0m eta \u001b[36m0:00:00\u001b[0m00:01\u001b[0m00:01\u001b[0m\n",
      "\u001b[?25hCollecting scikit-learn>=0.22\n",
      "  Downloading scikit_learn-1.3.0-cp39-cp39-manylinux_2_17_x86_64.manylinux2014_x86_64.whl (10.9 MB)\n",
      "\u001b[2K     \u001b[90m━━━━━━━━━━━━━━━━━━━━━━━━━━━━━━━━━━━━━━━━\u001b[0m \u001b[32m10.9/10.9 MB\u001b[0m \u001b[31m17.6 MB/s\u001b[0m eta \u001b[36m0:00:00\u001b[0m00:01\u001b[0m0:01\u001b[0m\n",
      "\u001b[?25hCollecting daal==2023.1.1\n",
      "  Downloading daal-2023.1.1-py2.py3-none-manylinux1_x86_64.whl (69.2 MB)\n",
      "\u001b[2K     \u001b[90m━━━━━━━━━━━━━━━━━━━━━━━━━━━━━━━━━━━━━━━━\u001b[0m \u001b[32m69.2/69.2 MB\u001b[0m \u001b[31m7.0 MB/s\u001b[0m eta \u001b[36m0:00:00\u001b[0m:00:01\u001b[0m00:01\u001b[0m\n",
      "\u001b[?25hRequirement already satisfied: numpy>=1.19 in /home/idies/mambaforge/envs/py39/lib/python3.9/site-packages (from daal4py==2023.1.1->scikit-learn-intelex) (1.23.4)\n",
      "Collecting tbb==2021.*\n",
      "  Downloading tbb-2021.9.0-py2.py3-none-manylinux1_x86_64.whl (4.0 MB)\n",
      "\u001b[2K     \u001b[90m━━━━━━━━━━━━━━━━━━━━━━━━━━━━━━━━━━━━━━━━\u001b[0m \u001b[32m4.0/4.0 MB\u001b[0m \u001b[31m29.0 MB/s\u001b[0m eta \u001b[36m0:00:00\u001b[0m00:01\u001b[0m00:01\u001b[0m\n",
      "\u001b[?25hRequirement already satisfied: scipy>=1.5.0 in /home/idies/mambaforge/envs/py39/lib/python3.9/site-packages (from scikit-learn>=0.22->scikit-learn-intelex) (1.9.3)\n",
      "Collecting threadpoolctl>=2.0.0\n",
      "  Downloading threadpoolctl-3.1.0-py3-none-any.whl (14 kB)\n",
      "Collecting joblib>=1.1.1\n",
      "  Downloading joblib-1.3.1-py3-none-any.whl (301 kB)\n",
      "\u001b[2K     \u001b[90m━━━━━━━━━━━━━━━━━━━━━━━━━━━━━━━━━━━━━━\u001b[0m \u001b[32m302.0/302.0 kB\u001b[0m \u001b[31m20.1 MB/s\u001b[0m eta \u001b[36m0:00:00\u001b[0m\n",
      "\u001b[?25hInstalling collected packages: tbb, threadpoolctl, joblib, daal, scikit-learn, daal4py, scikit-learn-intelex\n",
      "Successfully installed daal-2023.1.1 daal4py-2023.1.1 joblib-1.3.1 scikit-learn-1.3.0 scikit-learn-intelex-2023.1.1 tbb-2021.9.0 threadpoolctl-3.1.0\n"
     ]
    }
   ],
   "source": [
    "import sys\n",
    "!{sys.executable} -m pip install scikit-learn-intelex"
   ]
  },
  {
   "cell_type": "code",
   "execution_count": 2,
   "id": "7ab2c08b-0382-4ccc-be8a-cd4a8a8a20b3",
   "metadata": {
    "execution": {
     "iopub.execute_input": "2023-07-05T06:46:11.919916Z",
     "iopub.status.busy": "2023-07-05T06:46:11.919337Z",
     "iopub.status.idle": "2023-07-05T06:46:16.580558Z",
     "shell.execute_reply": "2023-07-05T06:46:16.578178Z",
     "shell.execute_reply.started": "2023-07-05T06:46:11.919851Z"
    }
   },
   "outputs": [
    {
     "name": "stdout",
     "output_type": "stream",
     "text": [
      "Scikit-learn was successfully globally patched by Intel(R) Extension for Scikit-learn\n"
     ]
    },
    {
     "name": "stderr",
     "output_type": "stream",
     "text": [
      "Intel(R) Extension for Scikit-learn* enabled (https://github.com/intel/scikit-learn-intelex)\n"
     ]
    }
   ],
   "source": [
    "from sklearnex import patch_sklearn\n",
    "patch_sklearn(global_patch=True)"
   ]
  },
  {
   "cell_type": "code",
   "execution_count": 4,
   "id": "f386280e-6d01-4c6a-a99a-c720fe694776",
   "metadata": {
    "execution": {
     "iopub.execute_input": "2023-07-05T06:46:37.750531Z",
     "iopub.status.busy": "2023-07-05T06:46:37.749727Z",
     "iopub.status.idle": "2023-07-05T06:46:37.761253Z",
     "shell.execute_reply": "2023-07-05T06:46:37.758805Z",
     "shell.execute_reply.started": "2023-07-05T06:46:37.750475Z"
    },
    "tags": []
   },
   "outputs": [],
   "source": [
    "import pandas as pd\n",
    "import numpy as np"
   ]
  },
  {
   "cell_type": "code",
   "execution_count": null,
   "id": "5efd1cb5-2602-4313-81cf-6e342e2d8f40",
   "metadata": {},
   "outputs": [],
   "source": [
    "data = pd.read_csv('/home/idies/workspace/Storage/s.hossain18/Permanent/exodata_big.csv',low_memory=False,memory_map=True).sort_index(axis=0)"
   ]
  },
  {
   "cell_type": "code",
   "execution_count": null,
   "id": "cbee56b1-e03e-48bb-accd-215b4d272ed6",
   "metadata": {},
   "outputs": [],
   "source": [
    "# Fill missing values with median of each column\n",
    "for column in data.columns:\n",
    "    data[column].fillna(data[column].median(), inplace=True)"
   ]
  },
  {
   "cell_type": "code",
   "execution_count": null,
   "id": "866b7a0e-abd2-4a0b-9eb1-f7b2150cac9b",
   "metadata": {},
   "outputs": [],
   "source": [
    "from sklearn.utils import shuffle"
   ]
  },
  {
   "cell_type": "code",
   "execution_count": null,
   "id": "1319c4f8-2905-4489-af2a-18b862f063cf",
   "metadata": {},
   "outputs": [],
   "source": [
    "data_shuffled = shuffle(data, random_state=1)"
   ]
  },
  {
   "cell_type": "code",
   "execution_count": null,
   "id": "6c78da91-f27b-46c3-8f02-3792081c1be7",
   "metadata": {},
   "outputs": [],
   "source": [
    "# Find columns with only 0 or 1 values\n",
    "columns_to_drop = []\n",
    "for column in data_shuffled.columns:\n",
    "    if column != \"exoplanet\":\n",
    "        unique_values = data_shuffled[column].unique()\n",
    "        if len(unique_values) == 1 or (len(unique_values) == 2 and 0 in unique_values and 1 in unique_values):\n",
    "            columns_to_drop.append(column)\n",
    "\n",
    "# Drop the identified columns\n",
    "df_filtered = data_shuffled.drop(columns=columns_to_drop)"
   ]
  },
  {
   "cell_type": "code",
   "execution_count": null,
   "id": "6c745f99-e38e-40ac-90c3-9c82587aa857",
   "metadata": {},
   "outputs": [],
   "source": [
    "# Save DataFrame as Target\n",
    "df_filtered.to_csv('/home/idies/workspace/Storage/s.hossain18/Permanent/exp_data.csv', index=False)"
   ]
  },
  {
   "cell_type": "code",
   "execution_count": null,
   "id": "f34a6935-7c43-4f4b-8759-6109ca15d9c7",
   "metadata": {},
   "outputs": [],
   "source": []
  },
  {
   "cell_type": "code",
   "execution_count": null,
   "id": "26081326-330e-4c38-8ec6-6303827c7777",
   "metadata": {},
   "outputs": [],
   "source": []
  }
 ],
 "metadata": {
  "kernelspec": {
   "display_name": "Python 3.9 (py39)",
   "language": "python",
   "name": "py39"
  },
  "language_info": {
   "codemirror_mode": {
    "name": "ipython",
    "version": 3
   },
   "file_extension": ".py",
   "mimetype": "text/x-python",
   "name": "python",
   "nbconvert_exporter": "python",
   "pygments_lexer": "ipython3",
   "version": "3.9.13"
  }
 },
 "nbformat": 4,
 "nbformat_minor": 5
}

{
 "cells": [
  {
   "cell_type": "code",
   "execution_count": 13,
   "id": "ca96beb9-7b17-4dce-93b8-623543d0f828",
   "metadata": {
    "execution": {
     "iopub.execute_input": "2023-06-01T13:47:04.466570Z",
     "iopub.status.busy": "2023-06-01T13:47:04.465711Z",
     "iopub.status.idle": "2023-06-01T13:47:04.477042Z",
     "shell.execute_reply": "2023-06-01T13:47:04.474946Z",
     "shell.execute_reply.started": "2023-06-01T13:47:04.466512Z"
    },
    "tags": []
   },
   "outputs": [],
   "source": [
    "import os\n",
    "import glob\n",
    "import pandas as pd"
   ]
  },
  {
   "cell_type": "code",
   "execution_count": 14,
   "id": "7dc99840-8b29-4b42-bf0a-e0ae985d8d5f",
   "metadata": {
    "execution": {
     "iopub.execute_input": "2023-06-01T13:47:07.787983Z",
     "iopub.status.busy": "2023-06-01T13:47:07.787242Z",
     "iopub.status.idle": "2023-06-01T13:47:07.798147Z",
     "shell.execute_reply": "2023-06-01T13:47:07.795816Z",
     "shell.execute_reply.started": "2023-06-01T13:47:07.787912Z"
    },
    "tags": []
   },
   "outputs": [],
   "source": [
    "# Set the working directory\n",
    "os.chdir(\"/home/idies/workspace/Storage/s.hossain18/Permanent/FalsePositive/\")"
   ]
  },
  {
   "cell_type": "code",
   "execution_count": 15,
   "id": "f8133eb2-f473-4734-9def-64723336a2ad",
   "metadata": {
    "execution": {
     "iopub.execute_input": "2023-06-01T13:47:12.630550Z",
     "iopub.status.busy": "2023-06-01T13:47:12.629783Z",
     "iopub.status.idle": "2023-06-01T13:47:12.640803Z",
     "shell.execute_reply": "2023-06-01T13:47:12.639439Z",
     "shell.execute_reply.started": "2023-06-01T13:47:12.630491Z"
    },
    "tags": []
   },
   "outputs": [],
   "source": [
    "# Find all files with a certain extension\n",
    "extension_1 = 'csv'\n",
    "import_filenames = [i for i in glob.glob('*.{}'.format(extension_1))]\n",
    "df = pd.DataFrame()"
   ]
  },
  {
   "cell_type": "code",
   "execution_count": 19,
   "id": "c6b5039b-d739-41bc-b6a9-98c2ddd48933",
   "metadata": {
    "execution": {
     "iopub.execute_input": "2023-06-01T13:59:15.178970Z",
     "iopub.status.busy": "2023-06-01T13:59:15.178254Z",
     "iopub.status.idle": "2023-06-01T14:02:17.139729Z",
     "shell.execute_reply": "2023-06-01T14:02:17.137179Z",
     "shell.execute_reply.started": "2023-06-01T13:59:15.178914Z"
    },
    "tags": []
   },
   "outputs": [],
   "source": [
    "for f in import_filenames:\n",
    "    data = pd.read_csv(f,index_col=False)\n",
    "    df = pd.concat([df,data],ignore_index=True, sort=False)"
   ]
  },
  {
   "cell_type": "code",
   "execution_count": null,
   "id": "09427c86-ec6f-425d-91d0-801ba01af2ce",
   "metadata": {
    "execution": {
     "iopub.execute_input": "2023-06-01T14:04:55.916311Z",
     "iopub.status.busy": "2023-06-01T14:04:55.915462Z"
    }
   },
   "outputs": [],
   "source": [
    "# saving the dataframe\n",
    "df.drop_duplicates(keep='first', inplace=True)\n",
    "df.to_csv('/home/idies/workspace/Storage/s.hossain18/Permanent/Data/ts_falsepositive.csv', index=False)"
   ]
  },
  {
   "cell_type": "code",
   "execution_count": null,
   "id": "8d15fe83-1200-4cce-9ef6-59923ba4c6e6",
   "metadata": {},
   "outputs": [],
   "source": []
  }
 ],
 "metadata": {
  "kernelspec": {
   "display_name": "Python 3.9 (py39)",
   "language": "python",
   "name": "py39"
  },
  "language_info": {
   "codemirror_mode": {
    "name": "ipython",
    "version": 3
   },
   "file_extension": ".py",
   "mimetype": "text/x-python",
   "name": "python",
   "nbconvert_exporter": "python",
   "pygments_lexer": "ipython3",
   "version": "3.9.13"
  }
 },
 "nbformat": 4,
 "nbformat_minor": 5
}

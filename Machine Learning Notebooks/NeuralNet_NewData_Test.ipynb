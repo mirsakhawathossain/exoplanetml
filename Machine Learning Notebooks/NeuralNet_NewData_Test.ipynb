{
 "cells": [
  {
   "cell_type": "code",
   "execution_count": 1,
   "metadata": {
    "execution": {
     "iopub.execute_input": "2023-08-21T03:45:55.729450Z",
     "iopub.status.busy": "2023-08-21T03:45:55.728556Z",
     "iopub.status.idle": "2023-08-21T03:46:01.023335Z",
     "shell.execute_reply": "2023-08-21T03:46:01.020468Z",
     "shell.execute_reply.started": "2023-08-21T03:45:55.729298Z"
    }
   },
   "outputs": [
    {
     "name": "stdout",
     "output_type": "stream",
     "text": [
      "Requirement already satisfied: scikit-learn in /home/idies/mambaforge/envs/py39/lib/python3.9/site-packages (1.3.0)\n",
      "Requirement already satisfied: numpy>=1.17.3 in /home/idies/mambaforge/envs/py39/lib/python3.9/site-packages (from scikit-learn) (1.23.4)\n",
      "Requirement already satisfied: threadpoolctl>=2.0.0 in /home/idies/mambaforge/envs/py39/lib/python3.9/site-packages (from scikit-learn) (3.2.0)\n",
      "Requirement already satisfied: scipy>=1.5.0 in /home/idies/mambaforge/envs/py39/lib/python3.9/site-packages (from scikit-learn) (1.9.3)\n",
      "Requirement already satisfied: joblib>=1.1.1 in /home/idies/mambaforge/envs/py39/lib/python3.9/site-packages (from scikit-learn) (1.3.2)\n"
     ]
    }
   ],
   "source": [
    "import sys\n",
    "!{sys.executable} -m pip install scikit-learn"
   ]
  },
  {
   "cell_type": "code",
   "execution_count": 2,
   "metadata": {
    "execution": {
     "iopub.execute_input": "2023-08-21T03:46:01.029735Z",
     "iopub.status.busy": "2023-08-21T03:46:01.028209Z",
     "iopub.status.idle": "2023-08-21T03:46:06.308537Z",
     "shell.execute_reply": "2023-08-21T03:46:06.305793Z",
     "shell.execute_reply.started": "2023-08-21T03:46:01.029665Z"
    }
   },
   "outputs": [
    {
     "name": "stdout",
     "output_type": "stream",
     "text": [
      "Requirement already satisfied: scikit-optimize in /home/idies/mambaforge/envs/py39/lib/python3.9/site-packages (0.9.0)\n",
      "Requirement already satisfied: scikit-learn>=0.20.0 in /home/idies/mambaforge/envs/py39/lib/python3.9/site-packages (from scikit-optimize) (1.3.0)\n",
      "Requirement already satisfied: numpy>=1.13.3 in /home/idies/mambaforge/envs/py39/lib/python3.9/site-packages (from scikit-optimize) (1.23.4)\n",
      "Requirement already satisfied: pyaml>=16.9 in /home/idies/mambaforge/envs/py39/lib/python3.9/site-packages (from scikit-optimize) (23.7.0)\n",
      "Requirement already satisfied: joblib>=0.11 in /home/idies/mambaforge/envs/py39/lib/python3.9/site-packages (from scikit-optimize) (1.3.2)\n",
      "Requirement already satisfied: scipy>=0.19.1 in /home/idies/mambaforge/envs/py39/lib/python3.9/site-packages (from scikit-optimize) (1.9.3)\n",
      "Requirement already satisfied: PyYAML in /home/idies/mambaforge/envs/py39/lib/python3.9/site-packages (from pyaml>=16.9->scikit-optimize) (6.0)\n",
      "Requirement already satisfied: threadpoolctl>=2.0.0 in /home/idies/mambaforge/envs/py39/lib/python3.9/site-packages (from scikit-learn>=0.20.0->scikit-optimize) (3.2.0)\n"
     ]
    }
   ],
   "source": [
    "import sys\n",
    "!{sys.executable} -m pip install scikit-optimize"
   ]
  },
  {
   "cell_type": "code",
   "execution_count": 3,
   "metadata": {
    "execution": {
     "iopub.execute_input": "2023-08-21T03:46:06.313417Z",
     "iopub.status.busy": "2023-08-21T03:46:06.312416Z",
     "iopub.status.idle": "2023-08-21T03:46:11.504030Z",
     "shell.execute_reply": "2023-08-21T03:46:11.501496Z",
     "shell.execute_reply.started": "2023-08-21T03:46:06.313310Z"
    }
   },
   "outputs": [
    {
     "name": "stdout",
     "output_type": "stream",
     "text": [
      "Requirement already satisfied: scikeras in /home/idies/mambaforge/envs/py39/lib/python3.9/site-packages (0.11.0)\n",
      "Requirement already satisfied: packaging>=0.21 in /home/idies/mambaforge/envs/py39/lib/python3.9/site-packages (from scikeras) (21.3)\n",
      "Requirement already satisfied: scikit-learn>=1.0.0 in /home/idies/mambaforge/envs/py39/lib/python3.9/site-packages (from scikeras) (1.3.0)\n",
      "Requirement already satisfied: pyparsing!=3.0.5,>=2.0.2 in /home/idies/mambaforge/envs/py39/lib/python3.9/site-packages (from packaging>=0.21->scikeras) (3.0.9)\n",
      "Requirement already satisfied: threadpoolctl>=2.0.0 in /home/idies/mambaforge/envs/py39/lib/python3.9/site-packages (from scikit-learn>=1.0.0->scikeras) (3.2.0)\n",
      "Requirement already satisfied: numpy>=1.17.3 in /home/idies/mambaforge/envs/py39/lib/python3.9/site-packages (from scikit-learn>=1.0.0->scikeras) (1.23.4)\n",
      "Requirement already satisfied: scipy>=1.5.0 in /home/idies/mambaforge/envs/py39/lib/python3.9/site-packages (from scikit-learn>=1.0.0->scikeras) (1.9.3)\n",
      "Requirement already satisfied: joblib>=1.1.1 in /home/idies/mambaforge/envs/py39/lib/python3.9/site-packages (from scikit-learn>=1.0.0->scikeras) (1.3.2)\n"
     ]
    }
   ],
   "source": [
    "import sys\n",
    "!{sys.executable} -m pip install scikeras"
   ]
  },
  {
   "cell_type": "code",
   "execution_count": 41,
   "metadata": {
    "execution": {
     "iopub.execute_input": "2023-08-21T08:07:46.382098Z",
     "iopub.status.busy": "2023-08-21T08:07:46.381705Z",
     "iopub.status.idle": "2023-08-21T08:07:46.385762Z",
     "shell.execute_reply": "2023-08-21T08:07:46.385045Z",
     "shell.execute_reply.started": "2023-08-21T08:07:46.382067Z"
    },
    "tags": []
   },
   "outputs": [],
   "source": [
    "import numpy as np"
   ]
  },
  {
   "cell_type": "code",
   "execution_count": 42,
   "metadata": {
    "execution": {
     "iopub.execute_input": "2023-08-21T08:08:08.276029Z",
     "iopub.status.busy": "2023-08-21T08:08:08.275634Z",
     "iopub.status.idle": "2023-08-21T08:08:08.295544Z",
     "shell.execute_reply": "2023-08-21T08:08:08.294935Z",
     "shell.execute_reply.started": "2023-08-21T08:08:08.275998Z"
    },
    "tags": []
   },
   "outputs": [],
   "source": [
    "X_train = np.load('PCA_Robust/X_train_pca.npy')\n",
    "X_test = np.load('PCA_Robust/X_test_pca.npy')\n",
    "y_train = np.load('PCA_Robust/y_train.npy')\n",
    "y_test = np.load('PCA_Robust/y_test.npy')"
   ]
  },
  {
   "cell_type": "code",
   "execution_count": 43,
   "metadata": {
    "execution": {
     "iopub.execute_input": "2023-08-21T08:08:10.601155Z",
     "iopub.status.busy": "2023-08-21T08:08:10.600764Z",
     "iopub.status.idle": "2023-08-21T08:08:10.605006Z",
     "shell.execute_reply": "2023-08-21T08:08:10.604235Z",
     "shell.execute_reply.started": "2023-08-21T08:08:10.601129Z"
    },
    "tags": []
   },
   "outputs": [],
   "source": [
    "from sklearn.model_selection import RepeatedStratifiedKFold\n",
    "cv = RepeatedStratifiedKFold(n_splits=10, n_repeats=10, random_state=41)"
   ]
  },
  {
   "cell_type": "code",
   "execution_count": 73,
   "metadata": {
    "execution": {
     "iopub.execute_input": "2023-08-21T08:20:41.998578Z",
     "iopub.status.busy": "2023-08-21T08:20:41.998160Z",
     "iopub.status.idle": "2023-08-21T08:20:42.002838Z",
     "shell.execute_reply": "2023-08-21T08:20:42.002247Z",
     "shell.execute_reply.started": "2023-08-21T08:20:41.998553Z"
    },
    "tags": []
   },
   "outputs": [],
   "source": [
    "from sklearn.model_selection import RandomizedSearchCV\n",
    "from scipy.stats import randint, uniform\n",
    "import tensorflow as tf\n",
    "from tensorflow.keras.models import Sequential\n",
    "from tensorflow.keras.layers import Dense\n",
    "from tensorflow.keras import activations\n",
    "from tensorflow.keras import layers\n",
    "#from tensorflow.keras.wrappers.scikit_learn import KerasClassifier\n",
    "from scikeras.wrappers import KerasClassifier"
   ]
  },
  {
   "cell_type": "code",
   "execution_count": 74,
   "metadata": {
    "execution": {
     "iopub.execute_input": "2023-08-21T08:22:44.799136Z",
     "iopub.status.busy": "2023-08-21T08:22:44.798731Z",
     "iopub.status.idle": "2023-08-21T08:22:44.803719Z",
     "shell.execute_reply": "2023-08-21T08:22:44.802912Z",
     "shell.execute_reply.started": "2023-08-21T08:22:44.799110Z"
    },
    "tags": []
   },
   "outputs": [],
   "source": [
    "def create_model(hidden_layer_dim, meta):\n",
    "#    n_features_in_ = meta[\"n_features_in_\"]\n",
    "#    X_train_shape_ = meta[\"X_train_shape_\"]\n",
    "#    n_classes_ = meta[\"n_classes_\"]\n",
    "\n",
    "    model = Sequential()\n",
    "#    model.add(Dense(n_features_in_, input_shape=X_train_shape_[1:]))\n",
    "    model.add(layers.Activation(\"relu\"))\n",
    "    model.add(layers.Dense(hidden_layer_dim))\n",
    "    model.add(layers.Activation(\"relu\"))\n",
    "#    model.add(Dense(n_classes_))\n",
    "    model.add(layers.Activation(\"softmax\"))\n",
    "    return model"
   ]
  },
  {
   "cell_type": "code",
   "execution_count": 75,
   "metadata": {
    "execution": {
     "iopub.execute_input": "2023-08-21T08:22:47.560086Z",
     "iopub.status.busy": "2023-08-21T08:22:47.559695Z",
     "iopub.status.idle": "2023-08-21T08:22:47.563825Z",
     "shell.execute_reply": "2023-08-21T08:22:47.563026Z",
     "shell.execute_reply.started": "2023-08-21T08:22:47.560062Z"
    },
    "tags": []
   },
   "outputs": [],
   "source": [
    "# Create an instance of the KerasClassifier using the defined model function\n",
    "keras_classifier = KerasClassifier(create_model, verbose=0,loss=\"sparse_categorical_crossentropy\",hidden_layer_dim=100)"
   ]
  },
  {
   "cell_type": "code",
   "execution_count": 76,
   "metadata": {
    "execution": {
     "iopub.execute_input": "2023-08-21T08:22:49.535437Z",
     "iopub.status.busy": "2023-08-21T08:22:49.535057Z",
     "iopub.status.idle": "2023-08-21T08:22:49.539814Z",
     "shell.execute_reply": "2023-08-21T08:22:49.539278Z",
     "shell.execute_reply.started": "2023-08-21T08:22:49.535413Z"
    },
    "tags": []
   },
   "outputs": [
    {
     "data": {
      "text/plain": [
       "dict_keys(['model', 'build_fn', 'warm_start', 'random_state', 'optimizer', 'loss', 'metrics', 'batch_size', 'validation_batch_size', 'verbose', 'callbacks', 'validation_split', 'shuffle', 'run_eagerly', 'epochs', 'hidden_layer_dim', 'class_weight'])"
      ]
     },
     "execution_count": 76,
     "metadata": {},
     "output_type": "execute_result"
    }
   ],
   "source": [
    "keras_classifier.get_params().keys()"
   ]
  },
  {
   "cell_type": "code",
   "execution_count": 77,
   "metadata": {
    "execution": {
     "iopub.execute_input": "2023-08-21T08:22:52.875699Z",
     "iopub.status.busy": "2023-08-21T08:22:52.875322Z",
     "iopub.status.idle": "2023-08-21T08:22:52.879932Z",
     "shell.execute_reply": "2023-08-21T08:22:52.879203Z",
     "shell.execute_reply.started": "2023-08-21T08:22:52.875671Z"
    },
    "tags": []
   },
   "outputs": [],
   "source": [
    "params = {\n",
    "    'hidden_layer_dim': [250, 300, 350, 400],\n",
    "    'optimizer': ['adamax', 'sgd', 'adam'],\n",
    "    'loss': ['sparse_categorical_crossentropy'],\n",
    "    'optimizer__learning_rate': np.logspace(-5, -2, base=10)\n",
    "}\n"
   ]
  },
  {
   "cell_type": "code",
   "execution_count": 80,
   "metadata": {
    "execution": {
     "iopub.execute_input": "2023-08-21T08:25:35.310767Z",
     "iopub.status.busy": "2023-08-21T08:25:35.310338Z",
     "iopub.status.idle": "2023-08-21T08:25:35.314445Z",
     "shell.execute_reply": "2023-08-21T08:25:35.313835Z",
     "shell.execute_reply.started": "2023-08-21T08:25:35.310736Z"
    },
    "tags": []
   },
   "outputs": [],
   "source": [
    "# Create an instance of BayesianSearchCV\n",
    "random_cv = RandomizedSearchCV(keras_classifier, params, n_iter=1000, cv=cv, n_jobs=-1)"
   ]
  },
  {
   "cell_type": "code",
   "execution_count": null,
   "metadata": {
    "execution": {
     "iopub.execute_input": "2023-08-21T08:25:37.696005Z",
     "iopub.status.busy": "2023-08-21T08:25:37.695617Z"
    },
    "tags": []
   },
   "outputs": [
    {
     "name": "stderr",
     "output_type": "stream",
     "text": [
      "/opt/saturncloud/envs/saturn/lib/python3.9/site-packages/sklearn/model_selection/_search.py:292: UserWarning: The total space of parameters 600 is smaller than n_iter=1000. Running 600 iterations. For exhaustive searches, use GridSearchCV.\n",
      "  warnings.warn(\n"
     ]
    }
   ],
   "source": [
    "# Perform hyperparameter tuning using Bayesian optimization\n",
    "random_cv.fit(X_train, np.ravel(y_train))"
   ]
  },
  {
   "cell_type": "code",
   "execution_count": null,
   "metadata": {
    "execution": {
     "iopub.status.busy": "2023-08-21T03:46:53.924776Z",
     "iopub.status.idle": "2023-08-21T03:46:53.925564Z",
     "shell.execute_reply": "2023-08-21T03:46:53.925159Z",
     "shell.execute_reply.started": "2023-08-21T03:46:53.925117Z"
    }
   },
   "outputs": [],
   "source": [
    "# Print the best score and hyperparameters\n",
    "print(\"Train score:\", bayes_cv.best_score_)\n",
    "print(\"Test score:\", bayes_cv.score(X_test, y_test))\n",
    "print(\"Best hyperparameters:\", bayes_cv.best_params_)"
   ]
  },
  {
   "cell_type": "code",
   "execution_count": null,
   "metadata": {},
   "outputs": [],
   "source": [
    "keras.l"
   ]
  }
 ],
 "metadata": {
  "kernelspec": {
   "display_name": "saturn (Python 3)",
   "language": "python",
   "name": "python3"
  },
  "language_info": {
   "codemirror_mode": {
    "name": "ipython",
    "version": 3
   },
   "file_extension": ".py",
   "mimetype": "text/x-python",
   "name": "python",
   "nbconvert_exporter": "python",
   "pygments_lexer": "ipython3",
   "version": "3.9.15"
  }
 },
 "nbformat": 4,
 "nbformat_minor": 4
}

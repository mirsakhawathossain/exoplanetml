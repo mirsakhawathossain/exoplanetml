{
 "cells": [
  {
   "cell_type": "code",
   "execution_count": 1,
   "id": "236c948a-afd3-4298-8f92-84b17bfb0f92",
   "metadata": {
    "execution": {
     "iopub.execute_input": "2023-07-19T02:52:44.828563Z",
     "iopub.status.busy": "2023-07-19T02:52:44.827931Z",
     "iopub.status.idle": "2023-07-19T02:52:59.749607Z",
     "shell.execute_reply": "2023-07-19T02:52:59.747049Z"
    },
    "tags": []
   },
   "outputs": [
    {
     "name": "stdout",
     "output_type": "stream",
     "text": [
      "Collecting scikit-learn\r\n",
      "  Downloading scikit_learn-1.3.0-cp39-cp39-manylinux_2_17_x86_64.manylinux2014_x86_64.whl (10.9 MB)\r\n",
      "\u001b[2K     \u001b[90m━━━━━━━━━━━━━━━━━━━━━━━━━━━━━━━━━━━━━━━━\u001b[0m \u001b[32m10.9/10.9 MB\u001b[0m \u001b[31m11.9 MB/s\u001b[0m eta \u001b[36m0:00:00\u001b[0m\r\n",
      "\u001b[?25hRequirement already satisfied: scipy>=1.5.0 in /home/idies/mambaforge/envs/py39/lib/python3.9/site-packages (from scikit-learn) (1.9.3)\r\n",
      "Requirement already satisfied: numpy>=1.17.3 in /home/idies/mambaforge/envs/py39/lib/python3.9/site-packages (from scikit-learn) (1.23.4)\r\n",
      "Collecting threadpoolctl>=2.0.0\r\n",
      "  Downloading threadpoolctl-3.2.0-py3-none-any.whl (15 kB)\r\n",
      "Collecting joblib>=1.1.1\r\n",
      "  Downloading joblib-1.3.1-py3-none-any.whl (301 kB)\r\n",
      "\u001b[2K     \u001b[90m━━━━━━━━━━━━━━━━━━━━━━━━━━━━━━━━━━━━━━\u001b[0m \u001b[32m302.0/302.0 kB\u001b[0m \u001b[31m16.5 MB/s\u001b[0m eta \u001b[36m0:00:00\u001b[0m\r\n",
      "\u001b[?25hInstalling collected packages: threadpoolctl, joblib, scikit-learn\r\n",
      "Successfully installed joblib-1.3.1 scikit-learn-1.3.0 threadpoolctl-3.2.0\r\n"
     ]
    }
   ],
   "source": [
    "import sys\n",
    "!{sys.executable} -m pip install scikit-learn"
   ]
  },
  {
   "cell_type": "code",
   "execution_count": 2,
   "id": "d37aaf95-5c11-4dc4-84b5-aac0dd1ee418",
   "metadata": {
    "execution": {
     "iopub.execute_input": "2023-07-19T02:52:59.760098Z",
     "iopub.status.busy": "2023-07-19T02:52:59.759416Z",
     "iopub.status.idle": "2023-07-19T02:52:59.770130Z",
     "shell.execute_reply": "2023-07-19T02:52:59.767894Z"
    },
    "tags": []
   },
   "outputs": [],
   "source": [
    "#import sys\n",
    "#!{sys.executable} -m pip install scikit-learn-intelex"
   ]
  },
  {
   "cell_type": "code",
   "execution_count": 3,
   "id": "f67f0c79-eac5-4c0b-b21f-831313f93955",
   "metadata": {
    "execution": {
     "iopub.execute_input": "2023-07-19T02:52:59.776983Z",
     "iopub.status.busy": "2023-07-19T02:52:59.776380Z",
     "iopub.status.idle": "2023-07-19T02:52:59.793068Z",
     "shell.execute_reply": "2023-07-19T02:52:59.790964Z"
    },
    "tags": []
   },
   "outputs": [],
   "source": [
    "#from sklearnex import patch_sklearn\n",
    "#patch_sklearn(global_patch=True)"
   ]
  },
  {
   "cell_type": "code",
   "execution_count": 4,
   "id": "c9d1ea19-88e6-4216-9c8c-d73ab42c9094",
   "metadata": {
    "execution": {
     "iopub.execute_input": "2023-07-19T02:52:59.801019Z",
     "iopub.status.busy": "2023-07-19T02:52:59.800114Z",
     "iopub.status.idle": "2023-07-19T02:53:05.701875Z",
     "shell.execute_reply": "2023-07-19T02:53:05.698966Z"
    },
    "tags": []
   },
   "outputs": [
    {
     "name": "stdout",
     "output_type": "stream",
     "text": [
      "Collecting scikit-optimize\r\n",
      "  Downloading scikit_optimize-0.9.0-py2.py3-none-any.whl (100 kB)\r\n",
      "\u001b[2K     \u001b[90m━━━━━━━━━━━━━━━━━━━━━━━━━━━━━━━━━━━━━━━\u001b[0m \u001b[32m100.3/100.3 kB\u001b[0m \u001b[31m5.1 MB/s\u001b[0m eta \u001b[36m0:00:00\u001b[0m\r\n",
      "\u001b[?25hRequirement already satisfied: joblib>=0.11 in /home/idies/mambaforge/envs/py39/lib/python3.9/site-packages (from scikit-optimize) (1.3.1)\r\n",
      "Requirement already satisfied: scipy>=0.19.1 in /home/idies/mambaforge/envs/py39/lib/python3.9/site-packages (from scikit-optimize) (1.9.3)\r\n",
      "Requirement already satisfied: scikit-learn>=0.20.0 in /home/idies/mambaforge/envs/py39/lib/python3.9/site-packages (from scikit-optimize) (1.3.0)\r\n",
      "Requirement already satisfied: numpy>=1.13.3 in /home/idies/mambaforge/envs/py39/lib/python3.9/site-packages (from scikit-optimize) (1.23.4)\r\n",
      "Collecting pyaml>=16.9\r\n",
      "  Downloading pyaml-23.7.0-py3-none-any.whl (17 kB)\r\n",
      "Requirement already satisfied: PyYAML in /home/idies/mambaforge/envs/py39/lib/python3.9/site-packages (from pyaml>=16.9->scikit-optimize) (6.0)\r\n",
      "Requirement already satisfied: threadpoolctl>=2.0.0 in /home/idies/mambaforge/envs/py39/lib/python3.9/site-packages (from scikit-learn>=0.20.0->scikit-optimize) (3.2.0)\r\n",
      "Installing collected packages: pyaml, scikit-optimize\r\n",
      "Successfully installed pyaml-23.7.0 scikit-optimize-0.9.0\r\n"
     ]
    }
   ],
   "source": [
    "import sys\n",
    "!{sys.executable} -m pip install scikit-optimize"
   ]
  },
  {
   "cell_type": "code",
   "execution_count": 5,
   "id": "82c8ce37-ec20-4471-a17f-dac0509cc73b",
   "metadata": {
    "execution": {
     "iopub.execute_input": "2023-07-19T02:53:05.712583Z",
     "iopub.status.busy": "2023-07-19T02:53:05.711939Z",
     "iopub.status.idle": "2023-07-19T02:53:22.761155Z",
     "shell.execute_reply": "2023-07-19T02:53:22.757993Z"
    },
    "tags": []
   },
   "outputs": [
    {
     "name": "stdout",
     "output_type": "stream",
     "text": [
      "Collecting wandb\r\n",
      "  Downloading wandb-0.15.5-py3-none-any.whl (2.1 MB)\r\n",
      "\u001b[2K     \u001b[90m━━━━━━━━━━━━━━━━━━━━━━━━━━━━━━━━━━━━━━━━\u001b[0m \u001b[32m2.1/2.1 MB\u001b[0m \u001b[31m15.1 MB/s\u001b[0m eta \u001b[36m0:00:00\u001b[0m\r\n",
      "\u001b[?25hRequirement already satisfied: setuptools in /home/idies/mambaforge/envs/py39/lib/python3.9/site-packages (from wandb) (65.5.1)\r\n",
      "Collecting setproctitle\r\n",
      "  Downloading setproctitle-1.3.2-cp39-cp39-manylinux_2_5_x86_64.manylinux1_x86_64.manylinux_2_17_x86_64.manylinux2014_x86_64.whl (30 kB)\r\n",
      "Requirement already satisfied: protobuf!=4.21.0,<5,>=3.15.0 in /home/idies/mambaforge/envs/py39/lib/python3.9/site-packages (from wandb) (3.19.6)\r\n",
      "Requirement already satisfied: psutil>=5.0.0 in /home/idies/mambaforge/envs/py39/lib/python3.9/site-packages (from wandb) (5.9.4)\r\n",
      "Collecting appdirs>=1.4.3\r\n",
      "  Downloading appdirs-1.4.4-py2.py3-none-any.whl (9.6 kB)\r\n",
      "Collecting docker-pycreds>=0.4.0\r\n",
      "  Downloading docker_pycreds-0.4.0-py2.py3-none-any.whl (9.0 kB)\r\n",
      "Collecting GitPython!=3.1.29,>=1.0.0\r\n",
      "  Downloading GitPython-3.1.32-py3-none-any.whl (188 kB)\r\n",
      "\u001b[2K     \u001b[90m━━━━━━━━━━━━━━━━━━━━━━━━━━━━━━━━━━━━━━\u001b[0m \u001b[32m188.5/188.5 kB\u001b[0m \u001b[31m15.0 MB/s\u001b[0m eta \u001b[36m0:00:00\u001b[0m\r\n",
      "\u001b[?25hCollecting sentry-sdk>=1.0.0\r\n",
      "  Downloading sentry_sdk-1.28.1-py2.py3-none-any.whl (214 kB)\r\n",
      "\u001b[2K     \u001b[90m━━━━━━━━━━━━━━━━━━━━━━━━━━━━━━━━━━━━━━\u001b[0m \u001b[32m214.7/214.7 kB\u001b[0m \u001b[31m17.0 MB/s\u001b[0m eta \u001b[36m0:00:00\u001b[0m\r\n",
      "\u001b[?25hRequirement already satisfied: Click!=8.0.0,>=7.1 in /home/idies/mambaforge/envs/py39/lib/python3.9/site-packages (from wandb) (8.1.3)\r\n",
      "Requirement already satisfied: typing-extensions in /home/idies/mambaforge/envs/py39/lib/python3.9/site-packages (from wandb) (4.4.0)\r\n",
      "Collecting pathtools\r\n",
      "  Downloading pathtools-0.1.2.tar.gz (11 kB)\r\n",
      "  Preparing metadata (setup.py) ... \u001b[?25l-\b \b\\\b \b|\b \bdone\r\n",
      "\u001b[?25hRequirement already satisfied: PyYAML in /home/idies/mambaforge/envs/py39/lib/python3.9/site-packages (from wandb) (6.0)\r\n",
      "Requirement already satisfied: requests<3,>=2.0.0 in /home/idies/mambaforge/envs/py39/lib/python3.9/site-packages (from wandb) (2.28.1)\r\n",
      "Requirement already satisfied: six>=1.4.0 in /home/idies/mambaforge/envs/py39/lib/python3.9/site-packages (from docker-pycreds>=0.4.0->wandb) (1.16.0)\r\n",
      "Requirement already satisfied: gitdb<5,>=4.0.1 in /home/idies/mambaforge/envs/py39/lib/python3.9/site-packages (from GitPython!=3.1.29,>=1.0.0->wandb) (4.0.9)\r\n",
      "Requirement already satisfied: urllib3<1.27,>=1.21.1 in /home/idies/mambaforge/envs/py39/lib/python3.9/site-packages (from requests<3,>=2.0.0->wandb) (1.26.11)\r\n",
      "Requirement already satisfied: idna<4,>=2.5 in /home/idies/mambaforge/envs/py39/lib/python3.9/site-packages (from requests<3,>=2.0.0->wandb) (3.4)\r\n",
      "Requirement already satisfied: certifi>=2017.4.17 in /home/idies/mambaforge/envs/py39/lib/python3.9/site-packages (from requests<3,>=2.0.0->wandb) (2022.12.7)\r\n",
      "Requirement already satisfied: charset-normalizer<3,>=2 in /home/idies/mambaforge/envs/py39/lib/python3.9/site-packages (from requests<3,>=2.0.0->wandb) (2.1.1)\r\n",
      "Requirement already satisfied: smmap<6,>=3.0.1 in /home/idies/mambaforge/envs/py39/lib/python3.9/site-packages (from gitdb<5,>=4.0.1->GitPython!=3.1.29,>=1.0.0->wandb) (3.0.5)\r\n",
      "Building wheels for collected packages: pathtools\r\n",
      "  Building wheel for pathtools (setup.py) ... \u001b[?25l-\b \b\\\b \b|\b \b/\b \b-\b \b\\\b \bdone\r\n",
      "\u001b[?25h  Created wheel for pathtools: filename=pathtools-0.1.2-py3-none-any.whl size=8791 sha256=86a5540d647049e26e6e9dec71c66c1c6b45c3834d890242130b4f1a15ca566c\r\n",
      "  Stored in directory: /home/idies/.cache/pip/wheels/20/7c/09/4ad42725a29fce4bc21137c7f25f062b3655a4aea5b0e8d9a2\r\n",
      "Successfully built pathtools\r\n",
      "Installing collected packages: pathtools, appdirs, setproctitle, sentry-sdk, docker-pycreds, GitPython, wandb\r\n",
      "  Attempting uninstall: GitPython\r\n",
      "    Found existing installation: GitPython 3.1.29\r\n",
      "    Uninstalling GitPython-3.1.29:\r\n",
      "      Successfully uninstalled GitPython-3.1.29\r\n",
      "Successfully installed GitPython-3.1.32 appdirs-1.4.4 docker-pycreds-0.4.0 pathtools-0.1.2 sentry-sdk-1.28.1 setproctitle-1.3.2 wandb-0.15.5\r\n"
     ]
    }
   ],
   "source": [
    "import sys\n",
    "!{sys.executable} -m pip install wandb"
   ]
  },
  {
   "cell_type": "code",
   "execution_count": 6,
   "id": "e48aa4a0-4135-4e81-b608-2739a3ec850c",
   "metadata": {
    "execution": {
     "iopub.execute_input": "2023-07-19T02:53:22.772039Z",
     "iopub.status.busy": "2023-07-19T02:53:22.771313Z",
     "iopub.status.idle": "2023-07-19T02:53:22.782854Z",
     "shell.execute_reply": "2023-07-19T02:53:22.780832Z"
    }
   },
   "outputs": [],
   "source": [
    "import os\n",
    "os.environ['WANDB_API_KEY'] = 'b3c6dfb61d66930ee7d291c6b19c0ae0b5007c62'"
   ]
  },
  {
   "cell_type": "code",
   "execution_count": 7,
   "id": "805e9f42-7681-4ba2-a4dd-d0421f59c9b7",
   "metadata": {
    "execution": {
     "iopub.execute_input": "2023-07-19T02:53:22.790158Z",
     "iopub.status.busy": "2023-07-19T02:53:22.789537Z",
     "iopub.status.idle": "2023-07-19T02:53:41.367516Z",
     "shell.execute_reply": "2023-07-19T02:53:41.365896Z"
    }
   },
   "outputs": [
    {
     "name": "stderr",
     "output_type": "stream",
     "text": [
      "\u001b[34m\u001b[1mwandb\u001b[0m: Currently logged in as: \u001b[33msakhawat\u001b[0m. Use \u001b[1m`wandb login --relogin`\u001b[0m to force relogin\n",
      "\u001b[34m\u001b[1mwandb\u001b[0m: Tracking run with wandb version 0.15.5\n",
      "\u001b[34m\u001b[1mwandb\u001b[0m: Run data is saved locally in \u001b[35m\u001b[1m/home/idies/workspace/Temporary/s.hossain18/scratch/jobs/20230718/20230718225212-245032/wandb/run-20230718_225329-4at9p8p5\u001b[0m\n",
      "\u001b[34m\u001b[1mwandb\u001b[0m: Run \u001b[1m`wandb offline`\u001b[0m to turn off syncing.\n",
      "\u001b[34m\u001b[1mwandb\u001b[0m: Syncing run \u001b[33mRandom Forest\u001b[0m\n",
      "\u001b[34m\u001b[1mwandb\u001b[0m: ⭐️ View project at \u001b[34m\u001b[4mhttps://wandb.ai/sakhawat/exoplanetml\u001b[0m\n",
      "\u001b[34m\u001b[1mwandb\u001b[0m: 🚀 View run at \u001b[34m\u001b[4mhttps://wandb.ai/sakhawat/exoplanetml/runs/4at9p8p5\u001b[0m\n"
     ]
    },
    {
     "data": {
      "text/html": [
       "<button onClick=\"this.nextSibling.style.display='block';this.style.display='none';\">Display W&B run</button><iframe src='https://wandb.ai/sakhawat/exoplanetml/runs/4at9p8p5?jupyter=true' style='border:none;width:100%;height:420px;display:none;'></iframe>"
      ],
      "text/plain": [
       "<wandb.sdk.wandb_run.Run at 0x7f0e8add6d30>"
      ]
     },
     "execution_count": 7,
     "metadata": {},
     "output_type": "execute_result"
    }
   ],
   "source": [
    "import wandb\n",
    "wandb.init(project=\"exoplanetml\", entity=\"sakhawat\",save_code=True,name='Random Forest',job_type='analysis',reinit=True)"
   ]
  },
  {
   "cell_type": "code",
   "execution_count": 8,
   "id": "8e280634-124e-4882-b390-8d10e79abf59",
   "metadata": {
    "execution": {
     "iopub.execute_input": "2023-07-19T02:53:41.376089Z",
     "iopub.status.busy": "2023-07-19T02:53:41.375243Z",
     "iopub.status.idle": "2023-07-19T02:53:41.386666Z",
     "shell.execute_reply": "2023-07-19T02:53:41.384691Z"
    },
    "tags": []
   },
   "outputs": [],
   "source": [
    "import numpy as np"
   ]
  },
  {
   "cell_type": "code",
   "execution_count": 9,
   "id": "de90bcff-fe1b-4a38-a322-a1761248cb3f",
   "metadata": {
    "execution": {
     "iopub.execute_input": "2023-07-19T02:53:41.394077Z",
     "iopub.status.busy": "2023-07-19T02:53:41.393466Z",
     "iopub.status.idle": "2023-07-19T02:53:41.944114Z",
     "shell.execute_reply": "2023-07-19T02:53:41.942298Z"
    },
    "tags": []
   },
   "outputs": [],
   "source": [
    "X_train = np.load('/home/idies/workspace/Storage/s.hossain18/Permanent/PCA_Robust/X_train_pca.npy')\n",
    "X_test = np.load('/home/idies/workspace/Storage/s.hossain18/Permanent/PCA_Robust/X_test_pca.npy')\n",
    "y_train = np.load('/home/idies/workspace/Storage/s.hossain18/Permanent/PCA_Robust/y_train.npy')\n",
    "y_test = np.load('/home/idies/workspace/Storage/s.hossain18/Permanent/PCA_Robust/y_test.npy')"
   ]
  },
  {
   "cell_type": "code",
   "execution_count": 10,
   "id": "0e1b85e4-3801-4f50-b9c0-63b2d77befe5",
   "metadata": {
    "execution": {
     "iopub.execute_input": "2023-07-19T02:53:41.953784Z",
     "iopub.status.busy": "2023-07-19T02:53:41.953171Z",
     "iopub.status.idle": "2023-07-19T02:53:41.963002Z",
     "shell.execute_reply": "2023-07-19T02:53:41.960859Z"
    },
    "tags": []
   },
   "outputs": [],
   "source": [
    "#from sklearn.model_selection import RepeatedKFold\n",
    "#cv = RepeatedKFold(n_splits=5, n_repeats=10, random_state=41)"
   ]
  },
  {
   "cell_type": "code",
   "execution_count": 11,
   "id": "1fa6fc84-ff72-4891-9e0d-5f721517921d",
   "metadata": {
    "execution": {
     "iopub.execute_input": "2023-07-19T02:53:41.970320Z",
     "iopub.status.busy": "2023-07-19T02:53:41.969692Z",
     "iopub.status.idle": "2023-07-19T02:53:43.985195Z",
     "shell.execute_reply": "2023-07-19T02:53:43.982763Z"
    }
   },
   "outputs": [],
   "source": [
    "from sklearn.model_selection import RepeatedStratifiedKFold\n",
    "cv = RepeatedStratifiedKFold(n_splits=10, n_repeats=10, random_state=41)"
   ]
  },
  {
   "cell_type": "code",
   "execution_count": 12,
   "id": "3faa00ec-6e74-4bfb-899e-67ba77d1a990",
   "metadata": {
    "execution": {
     "iopub.execute_input": "2023-07-19T02:53:44.017913Z",
     "iopub.status.busy": "2023-07-19T02:53:44.016975Z",
     "iopub.status.idle": "2023-07-19T02:53:44.451866Z",
     "shell.execute_reply": "2023-07-19T02:53:44.449855Z"
    },
    "tags": []
   },
   "outputs": [],
   "source": [
    "from skopt import BayesSearchCV\n",
    "from sklearn.ensemble import RandomForestClassifier"
   ]
  },
  {
   "cell_type": "code",
   "execution_count": 13,
   "id": "27da1b40-3244-4ef0-bd84-e3689a409585",
   "metadata": {
    "execution": {
     "iopub.execute_input": "2023-07-19T02:53:44.461725Z",
     "iopub.status.busy": "2023-07-19T02:53:44.461062Z",
     "iopub.status.idle": "2023-07-19T02:53:44.471309Z",
     "shell.execute_reply": "2023-07-19T02:53:44.469531Z"
    },
    "tags": []
   },
   "outputs": [],
   "source": [
    "rf_classifier = RandomForestClassifier(random_state=43,n_jobs = -1)"
   ]
  },
  {
   "cell_type": "code",
   "execution_count": 14,
   "id": "85cbb280-c218-49bc-a02a-f83e4d48d4dd",
   "metadata": {
    "execution": {
     "iopub.execute_input": "2023-07-19T02:53:44.478603Z",
     "iopub.status.busy": "2023-07-19T02:53:44.478030Z",
     "iopub.status.idle": "2023-07-19T02:53:44.487577Z",
     "shell.execute_reply": "2023-07-19T02:53:44.486139Z"
    },
    "tags": []
   },
   "outputs": [],
   "source": [
    "# Define the parameter grid\n",
    "params = {\n",
    "'max_depth': (150, 200),\n",
    "'min_samples_split': (12, 20),\n",
    "'min_samples_leaf': (5, 10),\n",
    "'max_features': ['sqrt', 'log2', None],\n",
    "'criterion': ['gini', 'entropy'],\n",
    "'n_estimators': (400, 500)\n",
    "}"
   ]
  },
  {
   "cell_type": "code",
   "execution_count": 15,
   "id": "93cb95ce-623b-4b4b-aad4-4b1897837e84",
   "metadata": {
    "execution": {
     "iopub.execute_input": "2023-07-19T02:53:44.495583Z",
     "iopub.status.busy": "2023-07-19T02:53:44.495009Z",
     "iopub.status.idle": "2023-07-19T02:53:44.505796Z",
     "shell.execute_reply": "2023-07-19T02:53:44.503723Z"
    }
   },
   "outputs": [],
   "source": [
    "# Log the hyperparameters to wandb.config\n",
    "wandb.config.update(params)"
   ]
  },
  {
   "cell_type": "code",
   "execution_count": 16,
   "id": "6358048d-dd69-4354-9829-1c22668faecb",
   "metadata": {
    "execution": {
     "iopub.execute_input": "2023-07-19T02:53:44.514266Z",
     "iopub.status.busy": "2023-07-19T02:53:44.512593Z",
     "iopub.status.idle": "2023-07-19T02:53:44.532776Z",
     "shell.execute_reply": "2023-07-19T02:53:44.531064Z"
    },
    "tags": []
   },
   "outputs": [],
   "source": [
    "# Create an instance of BayesianSearchCV\n",
    "bayes_cv = BayesSearchCV(rf_classifier, params, n_iter=20, cv=cv, n_jobs=-1)"
   ]
  },
  {
   "cell_type": "code",
   "execution_count": 17,
   "id": "218ed238-56c7-474d-b6cd-c7f8512d224d",
   "metadata": {
    "execution": {
     "iopub.execute_input": "2023-07-19T02:53:44.541060Z",
     "iopub.status.busy": "2023-07-19T02:53:44.539579Z",
     "iopub.status.idle": "2023-07-19T14:18:24.755656Z",
     "shell.execute_reply": "2023-07-19T14:18:24.745251Z"
    },
    "tags": []
   },
   "outputs": [
    {
     "data": {
      "text/html": [
       "<style>#sk-container-id-1 {color: black;}#sk-container-id-1 pre{padding: 0;}#sk-container-id-1 div.sk-toggleable {background-color: white;}#sk-container-id-1 label.sk-toggleable__label {cursor: pointer;display: block;width: 100%;margin-bottom: 0;padding: 0.3em;box-sizing: border-box;text-align: center;}#sk-container-id-1 label.sk-toggleable__label-arrow:before {content: \"▸\";float: left;margin-right: 0.25em;color: #696969;}#sk-container-id-1 label.sk-toggleable__label-arrow:hover:before {color: black;}#sk-container-id-1 div.sk-estimator:hover label.sk-toggleable__label-arrow:before {color: black;}#sk-container-id-1 div.sk-toggleable__content {max-height: 0;max-width: 0;overflow: hidden;text-align: left;background-color: #f0f8ff;}#sk-container-id-1 div.sk-toggleable__content pre {margin: 0.2em;color: black;border-radius: 0.25em;background-color: #f0f8ff;}#sk-container-id-1 input.sk-toggleable__control:checked~div.sk-toggleable__content {max-height: 200px;max-width: 100%;overflow: auto;}#sk-container-id-1 input.sk-toggleable__control:checked~label.sk-toggleable__label-arrow:before {content: \"▾\";}#sk-container-id-1 div.sk-estimator input.sk-toggleable__control:checked~label.sk-toggleable__label {background-color: #d4ebff;}#sk-container-id-1 div.sk-label input.sk-toggleable__control:checked~label.sk-toggleable__label {background-color: #d4ebff;}#sk-container-id-1 input.sk-hidden--visually {border: 0;clip: rect(1px 1px 1px 1px);clip: rect(1px, 1px, 1px, 1px);height: 1px;margin: -1px;overflow: hidden;padding: 0;position: absolute;width: 1px;}#sk-container-id-1 div.sk-estimator {font-family: monospace;background-color: #f0f8ff;border: 1px dotted black;border-radius: 0.25em;box-sizing: border-box;margin-bottom: 0.5em;}#sk-container-id-1 div.sk-estimator:hover {background-color: #d4ebff;}#sk-container-id-1 div.sk-parallel-item::after {content: \"\";width: 100%;border-bottom: 1px solid gray;flex-grow: 1;}#sk-container-id-1 div.sk-label:hover label.sk-toggleable__label {background-color: #d4ebff;}#sk-container-id-1 div.sk-serial::before {content: \"\";position: absolute;border-left: 1px solid gray;box-sizing: border-box;top: 0;bottom: 0;left: 50%;z-index: 0;}#sk-container-id-1 div.sk-serial {display: flex;flex-direction: column;align-items: center;background-color: white;padding-right: 0.2em;padding-left: 0.2em;position: relative;}#sk-container-id-1 div.sk-item {position: relative;z-index: 1;}#sk-container-id-1 div.sk-parallel {display: flex;align-items: stretch;justify-content: center;background-color: white;position: relative;}#sk-container-id-1 div.sk-item::before, #sk-container-id-1 div.sk-parallel-item::before {content: \"\";position: absolute;border-left: 1px solid gray;box-sizing: border-box;top: 0;bottom: 0;left: 50%;z-index: -1;}#sk-container-id-1 div.sk-parallel-item {display: flex;flex-direction: column;z-index: 1;position: relative;background-color: white;}#sk-container-id-1 div.sk-parallel-item:first-child::after {align-self: flex-end;width: 50%;}#sk-container-id-1 div.sk-parallel-item:last-child::after {align-self: flex-start;width: 50%;}#sk-container-id-1 div.sk-parallel-item:only-child::after {width: 0;}#sk-container-id-1 div.sk-dashed-wrapped {border: 1px dashed gray;margin: 0 0.4em 0.5em 0.4em;box-sizing: border-box;padding-bottom: 0.4em;background-color: white;}#sk-container-id-1 div.sk-label label {font-family: monospace;font-weight: bold;display: inline-block;line-height: 1.2em;}#sk-container-id-1 div.sk-label-container {text-align: center;}#sk-container-id-1 div.sk-container {/* jupyter's `normalize.less` sets `[hidden] { display: none; }` but bootstrap.min.css set `[hidden] { display: none !important; }` so we also need the `!important` here to be able to override the default hidden behavior on the sphinx rendered scikit-learn.org. See: https://github.com/scikit-learn/scikit-learn/issues/21755 */display: inline-block !important;position: relative;}#sk-container-id-1 div.sk-text-repr-fallback {display: none;}</style><div id=\"sk-container-id-1\" class=\"sk-top-container\"><div class=\"sk-text-repr-fallback\"><pre>BayesSearchCV(cv=RepeatedStratifiedKFold(n_repeats=10, n_splits=10, random_state=41),\n",
       "              estimator=RandomForestClassifier(n_jobs=-1, random_state=43),\n",
       "              n_iter=20, n_jobs=-1,\n",
       "              search_spaces={&#x27;criterion&#x27;: [&#x27;gini&#x27;, &#x27;entropy&#x27;],\n",
       "                             &#x27;max_depth&#x27;: (150, 200),\n",
       "                             &#x27;max_features&#x27;: [&#x27;sqrt&#x27;, &#x27;log2&#x27;, None],\n",
       "                             &#x27;min_samples_leaf&#x27;: (5, 10),\n",
       "                             &#x27;min_samples_split&#x27;: (12, 20),\n",
       "                             &#x27;n_estimators&#x27;: (400, 500)})</pre><b>In a Jupyter environment, please rerun this cell to show the HTML representation or trust the notebook. <br />On GitHub, the HTML representation is unable to render, please try loading this page with nbviewer.org.</b></div><div class=\"sk-container\" hidden><div class=\"sk-item sk-dashed-wrapped\"><div class=\"sk-label-container\"><div class=\"sk-label sk-toggleable\"><input class=\"sk-toggleable__control sk-hidden--visually\" id=\"sk-estimator-id-1\" type=\"checkbox\" ><label for=\"sk-estimator-id-1\" class=\"sk-toggleable__label sk-toggleable__label-arrow\">BayesSearchCV</label><div class=\"sk-toggleable__content\"><pre>BayesSearchCV(cv=RepeatedStratifiedKFold(n_repeats=10, n_splits=10, random_state=41),\n",
       "              estimator=RandomForestClassifier(n_jobs=-1, random_state=43),\n",
       "              n_iter=20, n_jobs=-1,\n",
       "              search_spaces={&#x27;criterion&#x27;: [&#x27;gini&#x27;, &#x27;entropy&#x27;],\n",
       "                             &#x27;max_depth&#x27;: (150, 200),\n",
       "                             &#x27;max_features&#x27;: [&#x27;sqrt&#x27;, &#x27;log2&#x27;, None],\n",
       "                             &#x27;min_samples_leaf&#x27;: (5, 10),\n",
       "                             &#x27;min_samples_split&#x27;: (12, 20),\n",
       "                             &#x27;n_estimators&#x27;: (400, 500)})</pre></div></div></div><div class=\"sk-parallel\"><div class=\"sk-parallel-item\"><div class=\"sk-item\"><div class=\"sk-label-container\"><div class=\"sk-label sk-toggleable\"><input class=\"sk-toggleable__control sk-hidden--visually\" id=\"sk-estimator-id-2\" type=\"checkbox\" ><label for=\"sk-estimator-id-2\" class=\"sk-toggleable__label sk-toggleable__label-arrow\">estimator: RandomForestClassifier</label><div class=\"sk-toggleable__content\"><pre>RandomForestClassifier(n_jobs=-1, random_state=43)</pre></div></div></div><div class=\"sk-serial\"><div class=\"sk-item\"><div class=\"sk-estimator sk-toggleable\"><input class=\"sk-toggleable__control sk-hidden--visually\" id=\"sk-estimator-id-3\" type=\"checkbox\" ><label for=\"sk-estimator-id-3\" class=\"sk-toggleable__label sk-toggleable__label-arrow\">RandomForestClassifier</label><div class=\"sk-toggleable__content\"><pre>RandomForestClassifier(n_jobs=-1, random_state=43)</pre></div></div></div></div></div></div></div></div></div></div>"
      ],
      "text/plain": [
       "BayesSearchCV(cv=RepeatedStratifiedKFold(n_repeats=10, n_splits=10, random_state=41),\n",
       "              estimator=RandomForestClassifier(n_jobs=-1, random_state=43),\n",
       "              n_iter=20, n_jobs=-1,\n",
       "              search_spaces={'criterion': ['gini', 'entropy'],\n",
       "                             'max_depth': (150, 200),\n",
       "                             'max_features': ['sqrt', 'log2', None],\n",
       "                             'min_samples_leaf': (5, 10),\n",
       "                             'min_samples_split': (12, 20),\n",
       "                             'n_estimators': (400, 500)})"
      ]
     },
     "execution_count": 17,
     "metadata": {},
     "output_type": "execute_result"
    }
   ],
   "source": [
    "# Perform hyperparameter tuning using Bayesian optimization\n",
    "bayes_cv.fit(X_train, np.ravel(y_train))"
   ]
  },
  {
   "cell_type": "code",
   "execution_count": 18,
   "id": "796cad66-9dfc-4707-8919-f9985517842a",
   "metadata": {
    "execution": {
     "iopub.execute_input": "2023-07-19T14:18:24.787604Z",
     "iopub.status.busy": "2023-07-19T14:18:24.786865Z",
     "iopub.status.idle": "2023-07-19T14:18:25.401518Z",
     "shell.execute_reply": "2023-07-19T14:18:25.399011Z"
    },
    "tags": []
   },
   "outputs": [
    {
     "name": "stdout",
     "output_type": "stream",
     "text": [
      "Train score: 0.7963045714769854\n",
      "Test score: 0.8013293943870015\n",
      "Best hyperparameters: OrderedDict([('criterion', 'gini'), ('max_depth', 192), ('max_features', None), ('min_samples_leaf', 5), ('min_samples_split', 12), ('n_estimators', 400)])\n"
     ]
    }
   ],
   "source": [
    "# Print the best score and hyperparameters\n",
    "print(\"Train score:\", bayes_cv.best_score_)\n",
    "print(\"Test score:\", bayes_cv.score(X_test, y_test))\n",
    "print(\"Best hyperparameters:\", bayes_cv.best_params_)"
   ]
  },
  {
   "cell_type": "code",
   "execution_count": 19,
   "id": "f2ad0517-6b1d-4eab-ab9f-d51f1d92546d",
   "metadata": {
    "execution": {
     "iopub.execute_input": "2023-07-19T14:18:25.411548Z",
     "iopub.status.busy": "2023-07-19T14:18:25.410929Z",
     "iopub.status.idle": "2023-07-19T14:18:25.958161Z",
     "shell.execute_reply": "2023-07-19T14:18:25.955995Z"
    }
   },
   "outputs": [],
   "source": [
    "# Log the best score and hyperparameters\n",
    "wandb.log({\"Train score\": bayes_cv.best_score_})\n",
    "wandb.log({\"Test score\": bayes_cv.score(X_test, y_test)})\n",
    "wandb.log({\"Best hyperparameters\": bayes_cv.best_params_})"
   ]
  },
  {
   "cell_type": "code",
   "execution_count": 20,
   "id": "95a58621-0c56-4376-8965-e879bd02fbab",
   "metadata": {
    "execution": {
     "iopub.execute_input": "2023-07-19T14:18:25.970411Z",
     "iopub.status.busy": "2023-07-19T14:18:25.968551Z",
     "iopub.status.idle": "2023-07-19T14:18:30.240452Z",
     "shell.execute_reply": "2023-07-19T14:18:30.238059Z"
    }
   },
   "outputs": [
    {
     "name": "stderr",
     "output_type": "stream",
     "text": [
      "\u001b[34m\u001b[1mwandb\u001b[0m: Waiting for W&B process to finish... \u001b[32m(success).\u001b[0m\n",
      "\u001b[34m\u001b[1mwandb\u001b[0m: \n",
      "\u001b[34m\u001b[1mwandb\u001b[0m: Run history:\n",
      "\u001b[34m\u001b[1mwandb\u001b[0m:  Test score ▁\n",
      "\u001b[34m\u001b[1mwandb\u001b[0m: Train score ▁\n",
      "\u001b[34m\u001b[1mwandb\u001b[0m: \n",
      "\u001b[34m\u001b[1mwandb\u001b[0m: Run summary:\n",
      "\u001b[34m\u001b[1mwandb\u001b[0m:  Test score 0.80133\n",
      "\u001b[34m\u001b[1mwandb\u001b[0m: Train score 0.7963\n",
      "\u001b[34m\u001b[1mwandb\u001b[0m: \n",
      "\u001b[34m\u001b[1mwandb\u001b[0m: 🚀 View run \u001b[33mRandom Forest\u001b[0m at: \u001b[34m\u001b[4mhttps://wandb.ai/sakhawat/exoplanetml/runs/4at9p8p5\u001b[0m\n",
      "\u001b[34m\u001b[1mwandb\u001b[0m: Synced 6 W&B file(s), 0 media file(s), 0 artifact file(s) and 0 other file(s)\n",
      "\u001b[34m\u001b[1mwandb\u001b[0m: Find logs at: \u001b[35m\u001b[1m./wandb/run-20230718_225329-4at9p8p5/logs\u001b[0m\n"
     ]
    }
   ],
   "source": [
    "wandb.finish()"
   ]
  }
 ],
 "metadata": {
  "kernelspec": {
   "display_name": "Python 3.9 (py39)",
   "language": "python",
   "name": "py39"
  },
  "language_info": {
   "codemirror_mode": {
    "name": "ipython",
    "version": 3
   },
   "file_extension": ".py",
   "mimetype": "text/x-python",
   "name": "python",
   "nbconvert_exporter": "python",
   "pygments_lexer": "ipython3",
   "version": "3.9.13"
  }
 },
 "nbformat": 4,
 "nbformat_minor": 5
}

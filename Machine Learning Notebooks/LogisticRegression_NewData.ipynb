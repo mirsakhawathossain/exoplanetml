{
 "cells": [
  {
   "cell_type": "code",
   "execution_count": 2,
   "id": "236c948a-afd3-4298-8f92-84b17bfb0f92",
   "metadata": {
    "execution": {
     "iopub.execute_input": "2023-07-11T06:23:50.998312Z",
     "iopub.status.busy": "2023-07-11T06:23:50.997431Z",
     "iopub.status.idle": "2023-07-11T06:24:03.669573Z",
     "shell.execute_reply": "2023-07-11T06:24:03.666734Z",
     "shell.execute_reply.started": "2023-07-11T06:23:50.998232Z"
    },
    "tags": []
   },
   "outputs": [
    {
     "name": "stdout",
     "output_type": "stream",
     "text": [
      "Collecting scikit-learn\n",
      "  Downloading scikit_learn-1.3.0-cp39-cp39-manylinux_2_17_x86_64.manylinux2014_x86_64.whl (10.9 MB)\n",
      "\u001b[2K     \u001b[90m━━━━━━━━━━━━━━━━━━━━━━━━━━━━━━━━━━━━━━━━\u001b[0m \u001b[32m10.9/10.9 MB\u001b[0m \u001b[31m14.1 MB/s\u001b[0m eta \u001b[36m0:00:00\u001b[0m00:01\u001b[0m00:01\u001b[0m\n",
      "\u001b[?25hCollecting joblib>=1.1.1\n",
      "  Downloading joblib-1.3.1-py3-none-any.whl (301 kB)\n",
      "\u001b[2K     \u001b[90m━━━━━━━━━━━━━━━━━━━━━━━━━━━━━━━━━━━━━━\u001b[0m \u001b[32m302.0/302.0 kB\u001b[0m \u001b[31m18.7 MB/s\u001b[0m eta \u001b[36m0:00:00\u001b[0m\n",
      "\u001b[?25hCollecting threadpoolctl>=2.0.0\n",
      "  Downloading threadpoolctl-3.1.0-py3-none-any.whl (14 kB)\n",
      "Requirement already satisfied: numpy>=1.17.3 in /home/idies/mambaforge/envs/py39/lib/python3.9/site-packages (from scikit-learn) (1.23.4)\n",
      "Requirement already satisfied: scipy>=1.5.0 in /home/idies/mambaforge/envs/py39/lib/python3.9/site-packages (from scikit-learn) (1.9.3)\n",
      "Installing collected packages: threadpoolctl, joblib, scikit-learn\n",
      "Successfully installed joblib-1.3.1 scikit-learn-1.3.0 threadpoolctl-3.1.0\n"
     ]
    }
   ],
   "source": [
    "import sys\n",
    "!{sys.executable} -m pip install scikit-learn"
   ]
  },
  {
   "cell_type": "code",
   "execution_count": 3,
   "id": "d37aaf95-5c11-4dc4-84b5-aac0dd1ee418",
   "metadata": {
    "execution": {
     "iopub.execute_input": "2023-07-10T06:18:50.982824Z",
     "iopub.status.busy": "2023-07-10T06:18:50.982013Z",
     "iopub.status.idle": "2023-07-10T06:18:50.993355Z",
     "shell.execute_reply": "2023-07-10T06:18:50.991406Z",
     "shell.execute_reply.started": "2023-07-10T06:18:50.982748Z"
    },
    "tags": []
   },
   "outputs": [],
   "source": [
    "#import sys\n",
    "#!{sys.executable} -m pip install scikit-learn-intelex"
   ]
  },
  {
   "cell_type": "code",
   "execution_count": 2,
   "id": "f67f0c79-eac5-4c0b-b21f-831313f93955",
   "metadata": {
    "execution": {
     "iopub.execute_input": "2023-07-10T06:05:56.836763Z",
     "iopub.status.busy": "2023-07-10T06:05:56.835964Z",
     "iopub.status.idle": "2023-07-10T06:05:57.696539Z",
     "shell.execute_reply": "2023-07-10T06:05:57.693668Z",
     "shell.execute_reply.started": "2023-07-10T06:05:56.836678Z"
    },
    "tags": []
   },
   "outputs": [],
   "source": [
    "#from sklearnex import patch_sklearn\n",
    "#patch_sklearn(global_patch=True)"
   ]
  },
  {
   "cell_type": "code",
   "execution_count": 3,
   "id": "c9d1ea19-88e6-4216-9c8c-d73ab42c9094",
   "metadata": {
    "execution": {
     "iopub.execute_input": "2023-07-11T06:24:03.675268Z",
     "iopub.status.busy": "2023-07-11T06:24:03.674584Z",
     "iopub.status.idle": "2023-07-11T06:24:09.591015Z",
     "shell.execute_reply": "2023-07-11T06:24:09.587906Z",
     "shell.execute_reply.started": "2023-07-11T06:24:03.675196Z"
    },
    "tags": []
   },
   "outputs": [
    {
     "name": "stdout",
     "output_type": "stream",
     "text": [
      "Collecting scikit-optimize\n",
      "  Downloading scikit_optimize-0.9.0-py2.py3-none-any.whl (100 kB)\n",
      "\u001b[2K     \u001b[90m━━━━━━━━━━━━━━━━━━━━━━━━━━━━━━━━━━━━━━━\u001b[0m \u001b[32m100.3/100.3 kB\u001b[0m \u001b[31m6.0 MB/s\u001b[0m eta \u001b[36m0:00:00\u001b[0m\n",
      "\u001b[?25hRequirement already satisfied: scipy>=0.19.1 in /home/idies/mambaforge/envs/py39/lib/python3.9/site-packages (from scikit-optimize) (1.9.3)\n",
      "Collecting pyaml>=16.9\n",
      "  Downloading pyaml-23.7.0-py3-none-any.whl (17 kB)\n",
      "Requirement already satisfied: joblib>=0.11 in /home/idies/mambaforge/envs/py39/lib/python3.9/site-packages (from scikit-optimize) (1.3.1)\n",
      "Requirement already satisfied: numpy>=1.13.3 in /home/idies/mambaforge/envs/py39/lib/python3.9/site-packages (from scikit-optimize) (1.23.4)\n",
      "Requirement already satisfied: scikit-learn>=0.20.0 in /home/idies/mambaforge/envs/py39/lib/python3.9/site-packages (from scikit-optimize) (1.3.0)\n",
      "Requirement already satisfied: PyYAML in /home/idies/mambaforge/envs/py39/lib/python3.9/site-packages (from pyaml>=16.9->scikit-optimize) (6.0)\n",
      "Requirement already satisfied: threadpoolctl>=2.0.0 in /home/idies/mambaforge/envs/py39/lib/python3.9/site-packages (from scikit-learn>=0.20.0->scikit-optimize) (3.1.0)\n",
      "Installing collected packages: pyaml, scikit-optimize\n",
      "Successfully installed pyaml-23.7.0 scikit-optimize-0.9.0\n"
     ]
    }
   ],
   "source": [
    "import sys\n",
    "!{sys.executable} -m pip install scikit-optimize"
   ]
  },
  {
   "cell_type": "code",
   "execution_count": 4,
   "id": "82c8ce37-ec20-4471-a17f-dac0509cc73b",
   "metadata": {
    "execution": {
     "iopub.execute_input": "2023-07-11T06:24:09.595211Z",
     "iopub.status.busy": "2023-07-11T06:24:09.594551Z",
     "iopub.status.idle": "2023-07-11T06:24:14.813359Z",
     "shell.execute_reply": "2023-07-11T06:24:14.810171Z",
     "shell.execute_reply.started": "2023-07-11T06:24:09.595142Z"
    },
    "tags": []
   },
   "outputs": [
    {
     "name": "stdout",
     "output_type": "stream",
     "text": [
      "Requirement already satisfied: wandb in /home/idies/mambaforge/envs/py39/lib/python3.9/site-packages (0.15.5)\n",
      "Requirement already satisfied: GitPython!=3.1.29,>=1.0.0 in /home/idies/mambaforge/envs/py39/lib/python3.9/site-packages (from wandb) (3.1.32)\n",
      "Requirement already satisfied: Click!=8.0.0,>=7.1 in /home/idies/mambaforge/envs/py39/lib/python3.9/site-packages (from wandb) (8.1.3)\n",
      "Requirement already satisfied: psutil>=5.0.0 in /home/idies/mambaforge/envs/py39/lib/python3.9/site-packages (from wandb) (5.9.4)\n",
      "Requirement already satisfied: appdirs>=1.4.3 in /home/idies/mambaforge/envs/py39/lib/python3.9/site-packages (from wandb) (1.4.4)\n",
      "Requirement already satisfied: setproctitle in /home/idies/mambaforge/envs/py39/lib/python3.9/site-packages (from wandb) (1.3.2)\n",
      "Requirement already satisfied: setuptools in /home/idies/mambaforge/envs/py39/lib/python3.9/site-packages (from wandb) (65.5.1)\n",
      "Requirement already satisfied: typing-extensions in /home/idies/mambaforge/envs/py39/lib/python3.9/site-packages (from wandb) (4.4.0)\n",
      "Requirement already satisfied: sentry-sdk>=1.0.0 in /home/idies/mambaforge/envs/py39/lib/python3.9/site-packages (from wandb) (1.28.0)\n",
      "Requirement already satisfied: docker-pycreds>=0.4.0 in /home/idies/mambaforge/envs/py39/lib/python3.9/site-packages (from wandb) (0.4.0)\n",
      "Requirement already satisfied: PyYAML in /home/idies/mambaforge/envs/py39/lib/python3.9/site-packages (from wandb) (6.0)\n",
      "Requirement already satisfied: requests<3,>=2.0.0 in /home/idies/mambaforge/envs/py39/lib/python3.9/site-packages (from wandb) (2.28.1)\n",
      "Requirement already satisfied: protobuf!=4.21.0,<5,>=3.15.0 in /home/idies/mambaforge/envs/py39/lib/python3.9/site-packages (from wandb) (3.19.6)\n",
      "Requirement already satisfied: pathtools in /home/idies/mambaforge/envs/py39/lib/python3.9/site-packages (from wandb) (0.1.2)\n",
      "Requirement already satisfied: six>=1.4.0 in /home/idies/mambaforge/envs/py39/lib/python3.9/site-packages (from docker-pycreds>=0.4.0->wandb) (1.16.0)\n",
      "Requirement already satisfied: gitdb<5,>=4.0.1 in /home/idies/mambaforge/envs/py39/lib/python3.9/site-packages (from GitPython!=3.1.29,>=1.0.0->wandb) (4.0.9)\n",
      "Requirement already satisfied: urllib3<1.27,>=1.21.1 in /home/idies/mambaforge/envs/py39/lib/python3.9/site-packages (from requests<3,>=2.0.0->wandb) (1.26.11)\n",
      "Requirement already satisfied: idna<4,>=2.5 in /home/idies/mambaforge/envs/py39/lib/python3.9/site-packages (from requests<3,>=2.0.0->wandb) (3.4)\n",
      "Requirement already satisfied: charset-normalizer<3,>=2 in /home/idies/mambaforge/envs/py39/lib/python3.9/site-packages (from requests<3,>=2.0.0->wandb) (2.1.1)\n",
      "Requirement already satisfied: certifi>=2017.4.17 in /home/idies/mambaforge/envs/py39/lib/python3.9/site-packages (from requests<3,>=2.0.0->wandb) (2022.12.7)\n",
      "Requirement already satisfied: smmap<6,>=3.0.1 in /home/idies/mambaforge/envs/py39/lib/python3.9/site-packages (from gitdb<5,>=4.0.1->GitPython!=3.1.29,>=1.0.0->wandb) (3.0.5)\n"
     ]
    }
   ],
   "source": [
    "import sys\n",
    "!{sys.executable} -m pip install wandb"
   ]
  },
  {
   "cell_type": "code",
   "execution_count": 5,
   "id": "e48aa4a0-4135-4e81-b608-2739a3ec850c",
   "metadata": {
    "execution": {
     "iopub.execute_input": "2023-07-11T06:24:14.818860Z",
     "iopub.status.busy": "2023-07-11T06:24:14.818241Z",
     "iopub.status.idle": "2023-07-11T06:24:14.829392Z",
     "shell.execute_reply": "2023-07-11T06:24:14.827609Z",
     "shell.execute_reply.started": "2023-07-11T06:24:14.818787Z"
    }
   },
   "outputs": [],
   "source": [
    "import os\n",
    "os.environ['WANDB_API_KEY'] = 'b3c6dfb61d66930ee7d291c6b19c0ae0b5007c62'"
   ]
  },
  {
   "cell_type": "code",
   "execution_count": null,
   "id": "805e9f42-7681-4ba2-a4dd-d0421f59c9b7",
   "metadata": {},
   "outputs": [],
   "source": [
    "import wandb\n",
    "wandb.init(project=\"exoplanetml\", entity=\"sakhawat\",save_code=True,name='Logistic Regression',job_type='analysis',reinit=True)"
   ]
  },
  {
   "cell_type": "code",
   "execution_count": 5,
   "id": "8e280634-124e-4882-b390-8d10e79abf59",
   "metadata": {
    "execution": {
     "iopub.execute_input": "2023-07-10T06:19:04.203927Z",
     "iopub.status.busy": "2023-07-10T06:19:04.203110Z",
     "iopub.status.idle": "2023-07-10T06:19:04.419316Z",
     "shell.execute_reply": "2023-07-10T06:19:04.417051Z",
     "shell.execute_reply.started": "2023-07-10T06:19:04.203850Z"
    },
    "tags": []
   },
   "outputs": [],
   "source": [
    "import numpy as np"
   ]
  },
  {
   "cell_type": "code",
   "execution_count": 6,
   "id": "de90bcff-fe1b-4a38-a322-a1761248cb3f",
   "metadata": {
    "execution": {
     "iopub.execute_input": "2023-07-10T06:19:07.886011Z",
     "iopub.status.busy": "2023-07-10T06:19:07.884761Z",
     "iopub.status.idle": "2023-07-10T06:19:08.047657Z",
     "shell.execute_reply": "2023-07-10T06:19:08.045135Z",
     "shell.execute_reply.started": "2023-07-10T06:19:07.885911Z"
    },
    "tags": []
   },
   "outputs": [],
   "source": [
    "X_train = np.load('/home/idies/workspace/Storage/s.hossain18/Permanent/PCA_Robust/X_train_pca.npy')\n",
    "X_test = np.load('/home/idies/workspace/Storage/s.hossain18/Permanent/PCA_Robust/X_test_pca.npy')\n",
    "y_train = np.load('/home/idies/workspace/Storage/s.hossain18/Permanent/PCA_Robust/y_train.npy')\n",
    "y_test = np.load('/home/idies/workspace/Storage/s.hossain18/Permanent/PCA_Robust/y_test.npy')"
   ]
  },
  {
   "cell_type": "code",
   "execution_count": 7,
   "id": "0e1b85e4-3801-4f50-b9c0-63b2d77befe5",
   "metadata": {
    "execution": {
     "iopub.execute_input": "2023-07-10T06:19:10.326722Z",
     "iopub.status.busy": "2023-07-10T06:19:10.325708Z",
     "iopub.status.idle": "2023-07-10T06:19:11.708354Z",
     "shell.execute_reply": "2023-07-10T06:19:11.706340Z",
     "shell.execute_reply.started": "2023-07-10T06:19:10.326647Z"
    },
    "tags": []
   },
   "outputs": [],
   "source": [
    "#from sklearn.model_selection import RepeatedKFold\n",
    "#cv = RepeatedKFold(n_splits=5, n_repeats=10, random_state=41)"
   ]
  },
  {
   "cell_type": "code",
   "execution_count": null,
   "id": "1fa6fc84-ff72-4891-9e0d-5f721517921d",
   "metadata": {},
   "outputs": [],
   "source": [
    "from sklearn.model_selection import RepeatedStratifiedKFold\n",
    "cv = RepeatedStratifiedKFold(n_splits=10, n_repeats=10, random_state=41)"
   ]
  },
  {
   "cell_type": "code",
   "execution_count": 8,
   "id": "3faa00ec-6e74-4bfb-899e-67ba77d1a990",
   "metadata": {
    "execution": {
     "iopub.execute_input": "2023-07-10T06:19:14.202465Z",
     "iopub.status.busy": "2023-07-10T06:19:14.201456Z",
     "iopub.status.idle": "2023-07-10T06:19:14.524408Z",
     "shell.execute_reply": "2023-07-10T06:19:14.521699Z",
     "shell.execute_reply.started": "2023-07-10T06:19:14.202403Z"
    },
    "tags": []
   },
   "outputs": [],
   "source": [
    "from skopt import BayesSearchCV\n",
    "from sklearn.linear_model import LogisticRegression"
   ]
  },
  {
   "cell_type": "code",
   "execution_count": 9,
   "id": "27da1b40-3244-4ef0-bd84-e3689a409585",
   "metadata": {
    "execution": {
     "iopub.execute_input": "2023-07-10T06:19:17.300553Z",
     "iopub.status.busy": "2023-07-10T06:19:17.299697Z",
     "iopub.status.idle": "2023-07-10T06:19:17.310256Z",
     "shell.execute_reply": "2023-07-10T06:19:17.308112Z",
     "shell.execute_reply.started": "2023-07-10T06:19:17.300491Z"
    },
    "tags": []
   },
   "outputs": [],
   "source": [
    "lr_classifier = LogisticRegression(random_state=43,n_jobs = -1)"
   ]
  },
  {
   "cell_type": "code",
   "execution_count": 10,
   "id": "85cbb280-c218-49bc-a02a-f83e4d48d4dd",
   "metadata": {
    "execution": {
     "iopub.execute_input": "2023-07-10T06:19:19.457570Z",
     "iopub.status.busy": "2023-07-10T06:19:19.456677Z",
     "iopub.status.idle": "2023-07-10T06:19:19.469333Z",
     "shell.execute_reply": "2023-07-10T06:19:19.467266Z",
     "shell.execute_reply.started": "2023-07-10T06:19:19.457487Z"
    },
    "tags": []
   },
   "outputs": [],
   "source": [
    "# Define the parameter grid\n",
    "params = {\n",
    "    'C': (400, 500),\n",
    "    'penalty': ['l1', 'l2'],\n",
    "    'solver': ['liblinear', 'saga'],\n",
    "    'max_iter': (50, 100)\n",
    "}"
   ]
  },
  {
   "cell_type": "code",
   "execution_count": null,
   "id": "93cb95ce-623b-4b4b-aad4-4b1897837e84",
   "metadata": {},
   "outputs": [],
   "source": [
    "# Log the hyperparameters to wandb.config\n",
    "wandb.config.update(params)"
   ]
  },
  {
   "cell_type": "code",
   "execution_count": 11,
   "id": "6358048d-dd69-4354-9829-1c22668faecb",
   "metadata": {
    "execution": {
     "iopub.execute_input": "2023-07-10T06:19:22.025303Z",
     "iopub.status.busy": "2023-07-10T06:19:22.024456Z",
     "iopub.status.idle": "2023-07-10T06:19:22.047774Z",
     "shell.execute_reply": "2023-07-10T06:19:22.045735Z",
     "shell.execute_reply.started": "2023-07-10T06:19:22.025243Z"
    },
    "tags": []
   },
   "outputs": [],
   "source": [
    "# Create an instance of BayesianSearchCV\n",
    "bayes_cv = BayesSearchCV(lr_classifier, params, n_iter=20, cv=cv, n_jobs=-1)"
   ]
  },
  {
   "cell_type": "code",
   "execution_count": null,
   "id": "218ed238-56c7-474d-b6cd-c7f8512d224d",
   "metadata": {
    "execution": {
     "iopub.execute_input": "2023-07-10T06:19:24.477485Z",
     "iopub.status.busy": "2023-07-10T06:19:24.476629Z"
    },
    "tags": []
   },
   "outputs": [],
   "source": [
    "# Perform hyperparameter tuning using Bayesian optimization\n",
    "bayes_cv.fit(X_train, np.ravel(y_train))"
   ]
  },
  {
   "cell_type": "code",
   "execution_count": null,
   "id": "796cad66-9dfc-4707-8919-f9985517842a",
   "metadata": {
    "execution": {
     "iopub.status.busy": "2023-07-10T06:06:33.097472Z",
     "iopub.status.idle": "2023-07-10T06:06:33.098363Z",
     "shell.execute_reply": "2023-07-10T06:06:33.097906Z",
     "shell.execute_reply.started": "2023-07-10T06:06:33.097862Z"
    },
    "tags": []
   },
   "outputs": [],
   "source": [
    "# Print the best score and hyperparameters\n",
    "print(\"Train score:\", bayes_cv.best_score_)\n",
    "print(\"Test score:\", bayes_cv.score(X_test, y_test))\n",
    "print(\"Best hyperparameters:\", bayes_cv.best_params_)"
   ]
  },
  {
   "cell_type": "code",
   "execution_count": null,
   "id": "f2ad0517-6b1d-4eab-ab9f-d51f1d92546d",
   "metadata": {},
   "outputs": [],
   "source": [
    "# Log the best score and hyperparameters\n",
    "wandb.log({\"Train score\": bayes_cv.best_score_})\n",
    "wandb.log({\"Test score\": bayes_cv.score(X_test, y_test)})\n",
    "wandb.log({\"Best hyperparameters\": bayes_cv.best_params_})"
   ]
  },
  {
   "cell_type": "code",
   "execution_count": null,
   "id": "95a58621-0c56-4376-8965-e879bd02fbab",
   "metadata": {},
   "outputs": [],
   "source": [
    "wandb.finish()"
   ]
  }
 ],
 "metadata": {
  "kernelspec": {
   "display_name": "Python 3.9 (py39)",
   "language": "python",
   "name": "py39"
  },
  "language_info": {
   "codemirror_mode": {
    "name": "ipython",
    "version": 3
   },
   "file_extension": ".py",
   "mimetype": "text/x-python",
   "name": "python",
   "nbconvert_exporter": "python",
   "pygments_lexer": "ipython3",
   "version": "3.9.13"
  }
 },
 "nbformat": 4,
 "nbformat_minor": 5
}

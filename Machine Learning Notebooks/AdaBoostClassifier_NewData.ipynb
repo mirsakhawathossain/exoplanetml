{
 "cells": [
  {
   "cell_type": "code",
   "execution_count": 1,
   "metadata": {
    "execution": {
     "iopub.execute_input": "2023-08-03T03:22:31.741823Z",
     "iopub.status.busy": "2023-08-03T03:22:31.741137Z",
     "iopub.status.idle": "2023-08-03T03:22:46.615667Z",
     "shell.execute_reply": "2023-08-03T03:22:46.612703Z"
    }
   },
   "outputs": [
    {
     "name": "stdout",
     "output_type": "stream",
     "text": [
      "Collecting scikit-learn\r\n",
      "  Downloading scikit_learn-1.3.0-cp39-cp39-manylinux_2_17_x86_64.manylinux2014_x86_64.whl (10.9 MB)\r\n",
      "\u001b[2K     \u001b[90m━━━━━━━━━━━━━━━━━━━━━━━━━━━━━━━━━━━━━━━━\u001b[0m \u001b[32m10.9/10.9 MB\u001b[0m \u001b[31m13.0 MB/s\u001b[0m eta \u001b[36m0:00:00\u001b[0m\r\n",
      "\u001b[?25hRequirement already satisfied: scipy>=1.5.0 in /home/idies/mambaforge/envs/py39/lib/python3.9/site-packages (from scikit-learn) (1.9.3)\r\n",
      "Requirement already satisfied: numpy>=1.17.3 in /home/idies/mambaforge/envs/py39/lib/python3.9/site-packages (from scikit-learn) (1.23.4)\r\n",
      "Collecting threadpoolctl>=2.0.0\r\n",
      "  Downloading threadpoolctl-3.2.0-py3-none-any.whl (15 kB)\r\n",
      "Collecting joblib>=1.1.1\r\n",
      "  Downloading joblib-1.3.1-py3-none-any.whl (301 kB)\r\n",
      "\u001b[2K     \u001b[90m━━━━━━━━━━━━━━━━━━━━━━━━━━━━━━━━━━━━━━\u001b[0m \u001b[32m302.0/302.0 kB\u001b[0m \u001b[31m11.8 MB/s\u001b[0m eta \u001b[36m0:00:00\u001b[0m\r\n",
      "\u001b[?25hInstalling collected packages: threadpoolctl, joblib, scikit-learn\r\n",
      "Successfully installed joblib-1.3.1 scikit-learn-1.3.0 threadpoolctl-3.2.0\r\n"
     ]
    }
   ],
   "source": [
    "import sys\n",
    "!{sys.executable} -m pip install scikit-learn"
   ]
  },
  {
   "cell_type": "code",
   "execution_count": 2,
   "metadata": {
    "execution": {
     "iopub.execute_input": "2023-08-03T03:22:46.628659Z",
     "iopub.status.busy": "2023-08-03T03:22:46.628051Z",
     "iopub.status.idle": "2023-08-03T03:22:52.530916Z",
     "shell.execute_reply": "2023-08-03T03:22:52.527673Z"
    }
   },
   "outputs": [
    {
     "name": "stdout",
     "output_type": "stream",
     "text": [
      "Collecting scikit-optimize\r\n",
      "  Downloading scikit_optimize-0.9.0-py2.py3-none-any.whl (100 kB)\r\n",
      "\u001b[2K     \u001b[90m━━━━━━━━━━━━━━━━━━━━━━━━━━━━━━━━━━━━━━━\u001b[0m \u001b[32m100.3/100.3 kB\u001b[0m \u001b[31m4.6 MB/s\u001b[0m eta \u001b[36m0:00:00\u001b[0m\r\n",
      "\u001b[?25hRequirement already satisfied: numpy>=1.13.3 in /home/idies/mambaforge/envs/py39/lib/python3.9/site-packages (from scikit-optimize) (1.23.4)\r\n",
      "Requirement already satisfied: scikit-learn>=0.20.0 in /home/idies/mambaforge/envs/py39/lib/python3.9/site-packages (from scikit-optimize) (1.3.0)\r\n",
      "Requirement already satisfied: scipy>=0.19.1 in /home/idies/mambaforge/envs/py39/lib/python3.9/site-packages (from scikit-optimize) (1.9.3)\r\n",
      "Requirement already satisfied: joblib>=0.11 in /home/idies/mambaforge/envs/py39/lib/python3.9/site-packages (from scikit-optimize) (1.3.1)\r\n",
      "Collecting pyaml>=16.9\r\n",
      "  Downloading pyaml-23.7.0-py3-none-any.whl (17 kB)\r\n",
      "Requirement already satisfied: PyYAML in /home/idies/mambaforge/envs/py39/lib/python3.9/site-packages (from pyaml>=16.9->scikit-optimize) (6.0)\r\n",
      "Requirement already satisfied: threadpoolctl>=2.0.0 in /home/idies/mambaforge/envs/py39/lib/python3.9/site-packages (from scikit-learn>=0.20.0->scikit-optimize) (3.2.0)\r\n",
      "Installing collected packages: pyaml, scikit-optimize\r\n",
      "Successfully installed pyaml-23.7.0 scikit-optimize-0.9.0\r\n"
     ]
    }
   ],
   "source": [
    "import sys\n",
    "!{sys.executable} -m pip install scikit-optimize"
   ]
  },
  {
   "cell_type": "code",
   "execution_count": 3,
   "metadata": {
    "execution": {
     "iopub.execute_input": "2023-08-03T03:22:52.542533Z",
     "iopub.status.busy": "2023-08-03T03:22:52.541918Z",
     "iopub.status.idle": "2023-08-03T03:23:08.927568Z",
     "shell.execute_reply": "2023-08-03T03:23:08.925212Z"
    }
   },
   "outputs": [
    {
     "name": "stdout",
     "output_type": "stream",
     "text": [
      "Collecting wandb\r\n",
      "  Downloading wandb-0.15.8-py3-none-any.whl (2.1 MB)\r\n",
      "\u001b[2K     \u001b[90m━━━━━━━━━━━━━━━━━━━━━━━━━━━━━━━━━━━━━━━━\u001b[0m \u001b[32m2.1/2.1 MB\u001b[0m \u001b[31m14.0 MB/s\u001b[0m eta \u001b[36m0:00:00\u001b[0m\r\n",
      "\u001b[?25hRequirement already satisfied: PyYAML in /home/idies/mambaforge/envs/py39/lib/python3.9/site-packages (from wandb) (6.0)\r\n",
      "Requirement already satisfied: protobuf!=4.21.0,<5,>=3.15.0 in /home/idies/mambaforge/envs/py39/lib/python3.9/site-packages (from wandb) (3.19.6)\r\n",
      "Collecting GitPython!=3.1.29,>=1.0.0\r\n",
      "  Downloading GitPython-3.1.32-py3-none-any.whl (188 kB)\r\n",
      "\u001b[2K     \u001b[90m━━━━━━━━━━━━━━━━━━━━━━━━━━━━━━━━━━━━━━━\u001b[0m \u001b[32m188.5/188.5 kB\u001b[0m \u001b[31m6.7 MB/s\u001b[0m eta \u001b[36m0:00:00\u001b[0m\r\n",
      "\u001b[?25hCollecting appdirs>=1.4.3\r\n",
      "  Downloading appdirs-1.4.4-py2.py3-none-any.whl (9.6 kB)\r\n",
      "Requirement already satisfied: Click!=8.0.0,>=7.1 in /home/idies/mambaforge/envs/py39/lib/python3.9/site-packages (from wandb) (8.1.3)\r\n",
      "Requirement already satisfied: setuptools in /home/idies/mambaforge/envs/py39/lib/python3.9/site-packages (from wandb) (65.5.1)\r\n",
      "Requirement already satisfied: psutil>=5.0.0 in /home/idies/mambaforge/envs/py39/lib/python3.9/site-packages (from wandb) (5.9.4)\r\n",
      "Requirement already satisfied: requests<3,>=2.0.0 in /home/idies/mambaforge/envs/py39/lib/python3.9/site-packages (from wandb) (2.28.1)\r\n",
      "Collecting setproctitle\r\n",
      "  Downloading setproctitle-1.3.2-cp39-cp39-manylinux_2_5_x86_64.manylinux1_x86_64.manylinux_2_17_x86_64.manylinux2014_x86_64.whl (30 kB)\r\n",
      "Collecting pathtools\r\n",
      "  Downloading pathtools-0.1.2.tar.gz (11 kB)\r\n",
      "  Preparing metadata (setup.py) ... \u001b[?25l-\b \b\\\b \b|\b \bdone\r\n",
      "\u001b[?25hCollecting docker-pycreds>=0.4.0\r\n",
      "  Downloading docker_pycreds-0.4.0-py2.py3-none-any.whl (9.0 kB)\r\n",
      "Collecting sentry-sdk>=1.0.0\r\n",
      "  Downloading sentry_sdk-1.29.2-py2.py3-none-any.whl (215 kB)\r\n",
      "\u001b[2K     \u001b[90m━━━━━━━━━━━━━━━━━━━━━━━━━━━━━━━━━━━━━━━\u001b[0m \u001b[32m215.6/215.6 kB\u001b[0m \u001b[31m7.4 MB/s\u001b[0m eta \u001b[36m0:00:00\u001b[0m\r\n",
      "\u001b[?25hRequirement already satisfied: typing-extensions in /home/idies/mambaforge/envs/py39/lib/python3.9/site-packages (from wandb) (4.4.0)\r\n",
      "Requirement already satisfied: six>=1.4.0 in /home/idies/mambaforge/envs/py39/lib/python3.9/site-packages (from docker-pycreds>=0.4.0->wandb) (1.16.0)\r\n",
      "Requirement already satisfied: gitdb<5,>=4.0.1 in /home/idies/mambaforge/envs/py39/lib/python3.9/site-packages (from GitPython!=3.1.29,>=1.0.0->wandb) (4.0.9)\r\n",
      "Requirement already satisfied: charset-normalizer<3,>=2 in /home/idies/mambaforge/envs/py39/lib/python3.9/site-packages (from requests<3,>=2.0.0->wandb) (2.1.1)\r\n",
      "Requirement already satisfied: urllib3<1.27,>=1.21.1 in /home/idies/mambaforge/envs/py39/lib/python3.9/site-packages (from requests<3,>=2.0.0->wandb) (1.26.11)\r\n",
      "Requirement already satisfied: idna<4,>=2.5 in /home/idies/mambaforge/envs/py39/lib/python3.9/site-packages (from requests<3,>=2.0.0->wandb) (3.4)\r\n",
      "Requirement already satisfied: certifi>=2017.4.17 in /home/idies/mambaforge/envs/py39/lib/python3.9/site-packages (from requests<3,>=2.0.0->wandb) (2022.12.7)\r\n",
      "Requirement already satisfied: smmap<6,>=3.0.1 in /home/idies/mambaforge/envs/py39/lib/python3.9/site-packages (from gitdb<5,>=4.0.1->GitPython!=3.1.29,>=1.0.0->wandb) (3.0.5)\r\n",
      "Building wheels for collected packages: pathtools\r\n",
      "  Building wheel for pathtools (setup.py) ... \u001b[?25l-\b \b\\\b \b|\b \b/\b \b-\b \b\\\b \bdone\r\n",
      "\u001b[?25h  Created wheel for pathtools: filename=pathtools-0.1.2-py3-none-any.whl size=8791 sha256=b59f9b36ed28814665453cdffe871223fbb124152901523925fad94817a3a13b\r\n",
      "  Stored in directory: /home/idies/.cache/pip/wheels/20/7c/09/4ad42725a29fce4bc21137c7f25f062b3655a4aea5b0e8d9a2\r\n",
      "Successfully built pathtools\r\n",
      "Installing collected packages: pathtools, appdirs, setproctitle, sentry-sdk, docker-pycreds, GitPython, wandb\r\n",
      "  Attempting uninstall: GitPython\r\n",
      "    Found existing installation: GitPython 3.1.29\r\n",
      "    Uninstalling GitPython-3.1.29:\r\n",
      "      Successfully uninstalled GitPython-3.1.29\r\n",
      "Successfully installed GitPython-3.1.32 appdirs-1.4.4 docker-pycreds-0.4.0 pathtools-0.1.2 sentry-sdk-1.29.2 setproctitle-1.3.2 wandb-0.15.8\r\n"
     ]
    }
   ],
   "source": [
    "import sys\n",
    "!{sys.executable} -m pip install wandb"
   ]
  },
  {
   "cell_type": "code",
   "execution_count": 4,
   "metadata": {
    "execution": {
     "iopub.execute_input": "2023-08-03T03:23:08.938227Z",
     "iopub.status.busy": "2023-08-03T03:23:08.937567Z",
     "iopub.status.idle": "2023-08-03T03:23:08.948813Z",
     "shell.execute_reply": "2023-08-03T03:23:08.947129Z"
    }
   },
   "outputs": [],
   "source": [
    "import os\n",
    "os.environ['WANDB_API_KEY'] = 'b3c6dfb61d66930ee7d291c6b19c0ae0b5007c62'"
   ]
  },
  {
   "cell_type": "code",
   "execution_count": 5,
   "metadata": {
    "execution": {
     "iopub.execute_input": "2023-08-03T03:23:08.956253Z",
     "iopub.status.busy": "2023-08-03T03:23:08.955651Z",
     "iopub.status.idle": "2023-08-03T03:23:23.829317Z",
     "shell.execute_reply": "2023-08-03T03:23:23.826945Z"
    }
   },
   "outputs": [
    {
     "name": "stderr",
     "output_type": "stream",
     "text": [
      "\u001b[34m\u001b[1mwandb\u001b[0m: Currently logged in as: \u001b[33msakhawat\u001b[0m. Use \u001b[1m`wandb login --relogin`\u001b[0m to force relogin\n",
      "\u001b[34m\u001b[1mwandb\u001b[0m: Tracking run with wandb version 0.15.8\n",
      "\u001b[34m\u001b[1mwandb\u001b[0m: Run data is saved locally in \u001b[35m\u001b[1m/home/idies/workspace/Temporary/s.hossain18/scratch/jobs/20230802/20230802232202-245562/wandb/run-20230802_232314-49yjb8iz\u001b[0m\n",
      "\u001b[34m\u001b[1mwandb\u001b[0m: Run \u001b[1m`wandb offline`\u001b[0m to turn off syncing.\n",
      "\u001b[34m\u001b[1mwandb\u001b[0m: Syncing run \u001b[33mAdaBoost Classifier\u001b[0m\n",
      "\u001b[34m\u001b[1mwandb\u001b[0m: ⭐️ View project at \u001b[34m\u001b[4mhttps://wandb.ai/sakhawat/exoplanetml\u001b[0m\n",
      "\u001b[34m\u001b[1mwandb\u001b[0m: 🚀 View run at \u001b[34m\u001b[4mhttps://wandb.ai/sakhawat/exoplanetml/runs/49yjb8iz\u001b[0m\n"
     ]
    },
    {
     "data": {
      "text/html": [
       "<button onClick=\"this.nextSibling.style.display='block';this.style.display='none';\">Display W&B run</button><iframe src='https://wandb.ai/sakhawat/exoplanetml/runs/49yjb8iz?jupyter=true' style='border:none;width:100%;height:420px;display:none;'></iframe>"
      ],
      "text/plain": [
       "<wandb.sdk.wandb_run.Run at 0x7f4402015370>"
      ]
     },
     "execution_count": 5,
     "metadata": {},
     "output_type": "execute_result"
    }
   ],
   "source": [
    "import wandb\n",
    "wandb.init(project=\"exoplanetml\", entity=\"sakhawat\",save_code=True,name='AdaBoost Classifier',job_type='analysis',reinit=True)"
   ]
  },
  {
   "cell_type": "code",
   "execution_count": 6,
   "metadata": {
    "execution": {
     "iopub.execute_input": "2023-08-03T03:23:23.838105Z",
     "iopub.status.busy": "2023-08-03T03:23:23.837436Z",
     "iopub.status.idle": "2023-08-03T03:23:23.847831Z",
     "shell.execute_reply": "2023-08-03T03:23:23.845606Z"
    }
   },
   "outputs": [],
   "source": [
    "import numpy as np"
   ]
  },
  {
   "cell_type": "code",
   "execution_count": 7,
   "metadata": {
    "execution": {
     "iopub.execute_input": "2023-08-03T03:23:23.854727Z",
     "iopub.status.busy": "2023-08-03T03:23:23.854177Z",
     "iopub.status.idle": "2023-08-03T03:23:24.052508Z",
     "shell.execute_reply": "2023-08-03T03:23:24.049955Z"
    }
   },
   "outputs": [],
   "source": [
    "X_train = np.load('/home/idies/workspace/Storage/s.hossain18/Permanent/PCA_Robust/X_train_pca.npy')\n",
    "X_test = np.load('/home/idies/workspace/Storage/s.hossain18/Permanent/PCA_Robust/X_test_pca.npy')\n",
    "y_train = np.load('/home/idies/workspace/Storage/s.hossain18/Permanent/PCA_Robust/y_train.npy')\n",
    "y_test = np.load('/home/idies/workspace/Storage/s.hossain18/Permanent/PCA_Robust/y_test.npy')"
   ]
  },
  {
   "cell_type": "code",
   "execution_count": 8,
   "metadata": {
    "execution": {
     "iopub.execute_input": "2023-08-03T03:23:24.062238Z",
     "iopub.status.busy": "2023-08-03T03:23:24.061311Z",
     "iopub.status.idle": "2023-08-03T03:23:25.770043Z",
     "shell.execute_reply": "2023-08-03T03:23:25.767513Z"
    }
   },
   "outputs": [],
   "source": [
    "from sklearn.model_selection import RepeatedStratifiedKFold\n",
    "cv = RepeatedStratifiedKFold(n_splits=10, n_repeats=10, random_state=41)"
   ]
  },
  {
   "cell_type": "code",
   "execution_count": 9,
   "metadata": {
    "execution": {
     "iopub.execute_input": "2023-08-03T03:23:25.780455Z",
     "iopub.status.busy": "2023-08-03T03:23:25.779555Z",
     "iopub.status.idle": "2023-08-03T03:23:26.200088Z",
     "shell.execute_reply": "2023-08-03T03:23:26.197789Z"
    }
   },
   "outputs": [],
   "source": [
    "from skopt import BayesSearchCV\n",
    "from sklearn.ensemble import AdaBoostClassifier\n",
    "from sklearn.tree import DecisionTreeClassifier"
   ]
  },
  {
   "cell_type": "code",
   "execution_count": 10,
   "metadata": {
    "execution": {
     "iopub.execute_input": "2023-08-03T03:23:26.210305Z",
     "iopub.status.busy": "2023-08-03T03:23:26.209628Z",
     "iopub.status.idle": "2023-08-03T03:23:26.220037Z",
     "shell.execute_reply": "2023-08-03T03:23:26.218022Z"
    }
   },
   "outputs": [],
   "source": [
    "# Create an instance of the decision tree classifier with a specified maximum depth\n",
    "base_estimator = DecisionTreeClassifier(max_depth=3, random_state=11)"
   ]
  },
  {
   "cell_type": "code",
   "execution_count": 11,
   "metadata": {
    "execution": {
     "iopub.execute_input": "2023-08-03T03:23:26.227364Z",
     "iopub.status.busy": "2023-08-03T03:23:26.226786Z",
     "iopub.status.idle": "2023-08-03T03:23:26.236056Z",
     "shell.execute_reply": "2023-08-03T03:23:26.234047Z"
    }
   },
   "outputs": [],
   "source": [
    "# Create an instance of the classifier\n",
    "adaboost_classifier = AdaBoostClassifier(estimator=base_estimator,random_state=43)"
   ]
  },
  {
   "cell_type": "code",
   "execution_count": 12,
   "metadata": {
    "execution": {
     "iopub.execute_input": "2023-08-03T03:23:26.281886Z",
     "iopub.status.busy": "2023-08-03T03:23:26.281267Z",
     "iopub.status.idle": "2023-08-03T03:23:26.290972Z",
     "shell.execute_reply": "2023-08-03T03:23:26.288929Z"
    }
   },
   "outputs": [],
   "source": [
    "# Define the parameter grid\n",
    "params = {\n",
    "    'n_estimators': (200, 500),\n",
    "    'learning_rate': (0.01, 0.5),\n",
    "    'algorithm': ['SAMME', 'SAMME.R']\n",
    "}"
   ]
  },
  {
   "cell_type": "code",
   "execution_count": 13,
   "metadata": {
    "execution": {
     "iopub.execute_input": "2023-08-03T03:23:26.298248Z",
     "iopub.status.busy": "2023-08-03T03:23:26.297611Z",
     "iopub.status.idle": "2023-08-03T03:23:26.308733Z",
     "shell.execute_reply": "2023-08-03T03:23:26.306663Z"
    }
   },
   "outputs": [],
   "source": [
    "# Log the hyperparameters to wandb.config\n",
    "wandb.config.update(params)"
   ]
  },
  {
   "cell_type": "code",
   "execution_count": 14,
   "metadata": {
    "execution": {
     "iopub.execute_input": "2023-08-03T03:23:26.316101Z",
     "iopub.status.busy": "2023-08-03T03:23:26.315148Z",
     "iopub.status.idle": "2023-08-03T03:23:26.331707Z",
     "shell.execute_reply": "2023-08-03T03:23:26.329651Z"
    }
   },
   "outputs": [],
   "source": [
    "# Create an instance of BayesianSearchCV\n",
    "bayes_cv = BayesSearchCV(adaboost_classifier, params, n_iter=20, cv=cv, n_jobs=-1)"
   ]
  },
  {
   "cell_type": "code",
   "execution_count": 15,
   "metadata": {
    "execution": {
     "iopub.execute_input": "2023-08-03T03:23:26.340209Z",
     "iopub.status.busy": "2023-08-03T03:23:26.338464Z",
     "iopub.status.idle": "2023-08-03T17:45:36.917890Z",
     "shell.execute_reply": "2023-08-03T17:45:36.914027Z"
    }
   },
   "outputs": [
    {
     "data": {
      "text/html": [
       "<style>#sk-container-id-1 {color: black;}#sk-container-id-1 pre{padding: 0;}#sk-container-id-1 div.sk-toggleable {background-color: white;}#sk-container-id-1 label.sk-toggleable__label {cursor: pointer;display: block;width: 100%;margin-bottom: 0;padding: 0.3em;box-sizing: border-box;text-align: center;}#sk-container-id-1 label.sk-toggleable__label-arrow:before {content: \"▸\";float: left;margin-right: 0.25em;color: #696969;}#sk-container-id-1 label.sk-toggleable__label-arrow:hover:before {color: black;}#sk-container-id-1 div.sk-estimator:hover label.sk-toggleable__label-arrow:before {color: black;}#sk-container-id-1 div.sk-toggleable__content {max-height: 0;max-width: 0;overflow: hidden;text-align: left;background-color: #f0f8ff;}#sk-container-id-1 div.sk-toggleable__content pre {margin: 0.2em;color: black;border-radius: 0.25em;background-color: #f0f8ff;}#sk-container-id-1 input.sk-toggleable__control:checked~div.sk-toggleable__content {max-height: 200px;max-width: 100%;overflow: auto;}#sk-container-id-1 input.sk-toggleable__control:checked~label.sk-toggleable__label-arrow:before {content: \"▾\";}#sk-container-id-1 div.sk-estimator input.sk-toggleable__control:checked~label.sk-toggleable__label {background-color: #d4ebff;}#sk-container-id-1 div.sk-label input.sk-toggleable__control:checked~label.sk-toggleable__label {background-color: #d4ebff;}#sk-container-id-1 input.sk-hidden--visually {border: 0;clip: rect(1px 1px 1px 1px);clip: rect(1px, 1px, 1px, 1px);height: 1px;margin: -1px;overflow: hidden;padding: 0;position: absolute;width: 1px;}#sk-container-id-1 div.sk-estimator {font-family: monospace;background-color: #f0f8ff;border: 1px dotted black;border-radius: 0.25em;box-sizing: border-box;margin-bottom: 0.5em;}#sk-container-id-1 div.sk-estimator:hover {background-color: #d4ebff;}#sk-container-id-1 div.sk-parallel-item::after {content: \"\";width: 100%;border-bottom: 1px solid gray;flex-grow: 1;}#sk-container-id-1 div.sk-label:hover label.sk-toggleable__label {background-color: #d4ebff;}#sk-container-id-1 div.sk-serial::before {content: \"\";position: absolute;border-left: 1px solid gray;box-sizing: border-box;top: 0;bottom: 0;left: 50%;z-index: 0;}#sk-container-id-1 div.sk-serial {display: flex;flex-direction: column;align-items: center;background-color: white;padding-right: 0.2em;padding-left: 0.2em;position: relative;}#sk-container-id-1 div.sk-item {position: relative;z-index: 1;}#sk-container-id-1 div.sk-parallel {display: flex;align-items: stretch;justify-content: center;background-color: white;position: relative;}#sk-container-id-1 div.sk-item::before, #sk-container-id-1 div.sk-parallel-item::before {content: \"\";position: absolute;border-left: 1px solid gray;box-sizing: border-box;top: 0;bottom: 0;left: 50%;z-index: -1;}#sk-container-id-1 div.sk-parallel-item {display: flex;flex-direction: column;z-index: 1;position: relative;background-color: white;}#sk-container-id-1 div.sk-parallel-item:first-child::after {align-self: flex-end;width: 50%;}#sk-container-id-1 div.sk-parallel-item:last-child::after {align-self: flex-start;width: 50%;}#sk-container-id-1 div.sk-parallel-item:only-child::after {width: 0;}#sk-container-id-1 div.sk-dashed-wrapped {border: 1px dashed gray;margin: 0 0.4em 0.5em 0.4em;box-sizing: border-box;padding-bottom: 0.4em;background-color: white;}#sk-container-id-1 div.sk-label label {font-family: monospace;font-weight: bold;display: inline-block;line-height: 1.2em;}#sk-container-id-1 div.sk-label-container {text-align: center;}#sk-container-id-1 div.sk-container {/* jupyter's `normalize.less` sets `[hidden] { display: none; }` but bootstrap.min.css set `[hidden] { display: none !important; }` so we also need the `!important` here to be able to override the default hidden behavior on the sphinx rendered scikit-learn.org. See: https://github.com/scikit-learn/scikit-learn/issues/21755 */display: inline-block !important;position: relative;}#sk-container-id-1 div.sk-text-repr-fallback {display: none;}</style><div id=\"sk-container-id-1\" class=\"sk-top-container\"><div class=\"sk-text-repr-fallback\"><pre>BayesSearchCV(cv=RepeatedStratifiedKFold(n_repeats=10, n_splits=10, random_state=41),\n",
       "              estimator=AdaBoostClassifier(estimator=DecisionTreeClassifier(max_depth=3,\n",
       "                                                                            random_state=11),\n",
       "                                           random_state=43),\n",
       "              n_iter=20, n_jobs=-1,\n",
       "              search_spaces={&#x27;algorithm&#x27;: [&#x27;SAMME&#x27;, &#x27;SAMME.R&#x27;],\n",
       "                             &#x27;learning_rate&#x27;: (0.01, 0.5),\n",
       "                             &#x27;n_estimators&#x27;: (200, 500)})</pre><b>In a Jupyter environment, please rerun this cell to show the HTML representation or trust the notebook. <br />On GitHub, the HTML representation is unable to render, please try loading this page with nbviewer.org.</b></div><div class=\"sk-container\" hidden><div class=\"sk-item sk-dashed-wrapped\"><div class=\"sk-label-container\"><div class=\"sk-label sk-toggleable\"><input class=\"sk-toggleable__control sk-hidden--visually\" id=\"sk-estimator-id-1\" type=\"checkbox\" ><label for=\"sk-estimator-id-1\" class=\"sk-toggleable__label sk-toggleable__label-arrow\">BayesSearchCV</label><div class=\"sk-toggleable__content\"><pre>BayesSearchCV(cv=RepeatedStratifiedKFold(n_repeats=10, n_splits=10, random_state=41),\n",
       "              estimator=AdaBoostClassifier(estimator=DecisionTreeClassifier(max_depth=3,\n",
       "                                                                            random_state=11),\n",
       "                                           random_state=43),\n",
       "              n_iter=20, n_jobs=-1,\n",
       "              search_spaces={&#x27;algorithm&#x27;: [&#x27;SAMME&#x27;, &#x27;SAMME.R&#x27;],\n",
       "                             &#x27;learning_rate&#x27;: (0.01, 0.5),\n",
       "                             &#x27;n_estimators&#x27;: (200, 500)})</pre></div></div></div><div class=\"sk-parallel\"><div class=\"sk-parallel-item\"><div class=\"sk-item\"><div class=\"sk-label-container\"><div class=\"sk-label sk-toggleable\"><input class=\"sk-toggleable__control sk-hidden--visually\" id=\"sk-estimator-id-2\" type=\"checkbox\" ><label for=\"sk-estimator-id-2\" class=\"sk-toggleable__label sk-toggleable__label-arrow\">estimator: AdaBoostClassifier</label><div class=\"sk-toggleable__content\"><pre>AdaBoostClassifier(estimator=DecisionTreeClassifier(max_depth=3,\n",
       "                                                    random_state=11),\n",
       "                   random_state=43)</pre></div></div></div><div class=\"sk-serial\"><div class=\"sk-item sk-dashed-wrapped\"><div class=\"sk-parallel\"><div class=\"sk-parallel-item\"><div class=\"sk-item\"><div class=\"sk-label-container\"><div class=\"sk-label sk-toggleable\"><input class=\"sk-toggleable__control sk-hidden--visually\" id=\"sk-estimator-id-3\" type=\"checkbox\" ><label for=\"sk-estimator-id-3\" class=\"sk-toggleable__label sk-toggleable__label-arrow\">estimator: DecisionTreeClassifier</label><div class=\"sk-toggleable__content\"><pre>DecisionTreeClassifier(max_depth=3, random_state=11)</pre></div></div></div><div class=\"sk-serial\"><div class=\"sk-item\"><div class=\"sk-estimator sk-toggleable\"><input class=\"sk-toggleable__control sk-hidden--visually\" id=\"sk-estimator-id-4\" type=\"checkbox\" ><label for=\"sk-estimator-id-4\" class=\"sk-toggleable__label sk-toggleable__label-arrow\">DecisionTreeClassifier</label><div class=\"sk-toggleable__content\"><pre>DecisionTreeClassifier(max_depth=3, random_state=11)</pre></div></div></div></div></div></div></div></div></div></div></div></div></div></div></div>"
      ],
      "text/plain": [
       "BayesSearchCV(cv=RepeatedStratifiedKFold(n_repeats=10, n_splits=10, random_state=41),\n",
       "              estimator=AdaBoostClassifier(estimator=DecisionTreeClassifier(max_depth=3,\n",
       "                                                                            random_state=11),\n",
       "                                           random_state=43),\n",
       "              n_iter=20, n_jobs=-1,\n",
       "              search_spaces={'algorithm': ['SAMME', 'SAMME.R'],\n",
       "                             'learning_rate': (0.01, 0.5),\n",
       "                             'n_estimators': (200, 500)})"
      ]
     },
     "execution_count": 15,
     "metadata": {},
     "output_type": "execute_result"
    }
   ],
   "source": [
    "# Perform hyperparameter tuning using Bayesian optimization\n",
    "bayes_cv.fit(X_train, np.ravel(y_train))"
   ]
  },
  {
   "cell_type": "code",
   "execution_count": 16,
   "metadata": {
    "execution": {
     "iopub.execute_input": "2023-08-03T17:45:36.948194Z",
     "iopub.status.busy": "2023-08-03T17:45:36.947212Z",
     "iopub.status.idle": "2023-08-03T17:45:41.903485Z",
     "shell.execute_reply": "2023-08-03T17:45:41.900935Z"
    }
   },
   "outputs": [
    {
     "name": "stdout",
     "output_type": "stream",
     "text": [
      "Train score: 0.7981780055917987\n",
      "Test score: 0.8020679468242246\n",
      "Best hyperparameters: OrderedDict([('algorithm', 'SAMME'), ('learning_rate', 0.5), ('n_estimators', 500)])\n"
     ]
    }
   ],
   "source": [
    "# Print the best score and hyperparameters\n",
    "print(\"Train score:\", bayes_cv.best_score_)\n",
    "print(\"Test score:\", bayes_cv.score(X_test, y_test))\n",
    "print(\"Best hyperparameters:\", bayes_cv.best_params_)"
   ]
  },
  {
   "cell_type": "code",
   "execution_count": 17,
   "metadata": {
    "execution": {
     "iopub.execute_input": "2023-08-03T17:45:41.912540Z",
     "iopub.status.busy": "2023-08-03T17:45:41.911940Z",
     "iopub.status.idle": "2023-08-03T17:45:47.111017Z",
     "shell.execute_reply": "2023-08-03T17:45:47.108569Z"
    }
   },
   "outputs": [],
   "source": [
    "# Log the best score and hyperparameters\n",
    "wandb.log({\"Train score\": bayes_cv.best_score_})\n",
    "wandb.log({\"Test score\": bayes_cv.score(X_test, y_test)})\n",
    "wandb.log({\"Best hyperparameters\": bayes_cv.best_params_})"
   ]
  },
  {
   "cell_type": "code",
   "execution_count": 18,
   "metadata": {
    "execution": {
     "iopub.execute_input": "2023-08-03T17:45:47.122916Z",
     "iopub.status.busy": "2023-08-03T17:45:47.120973Z",
     "iopub.status.idle": "2023-08-03T17:45:52.384366Z",
     "shell.execute_reply": "2023-08-03T17:45:52.381984Z"
    }
   },
   "outputs": [
    {
     "name": "stderr",
     "output_type": "stream",
     "text": [
      "\u001b[34m\u001b[1mwandb\u001b[0m: Waiting for W&B process to finish... \u001b[32m(success).\u001b[0m\n",
      "\u001b[34m\u001b[1mwandb\u001b[0m: \n",
      "\u001b[34m\u001b[1mwandb\u001b[0m: Run history:\n",
      "\u001b[34m\u001b[1mwandb\u001b[0m:  Test score ▁\n",
      "\u001b[34m\u001b[1mwandb\u001b[0m: Train score ▁\n",
      "\u001b[34m\u001b[1mwandb\u001b[0m: \n",
      "\u001b[34m\u001b[1mwandb\u001b[0m: Run summary:\n",
      "\u001b[34m\u001b[1mwandb\u001b[0m:  Test score 0.80207\n",
      "\u001b[34m\u001b[1mwandb\u001b[0m: Train score 0.79818\n",
      "\u001b[34m\u001b[1mwandb\u001b[0m: \n",
      "\u001b[34m\u001b[1mwandb\u001b[0m: 🚀 View run \u001b[33mAdaBoost Classifier\u001b[0m at: \u001b[34m\u001b[4mhttps://wandb.ai/sakhawat/exoplanetml/runs/49yjb8iz\u001b[0m\n",
      "\u001b[34m\u001b[1mwandb\u001b[0m: Synced 6 W&B file(s), 0 media file(s), 0 artifact file(s) and 0 other file(s)\n",
      "\u001b[34m\u001b[1mwandb\u001b[0m: Find logs at: \u001b[35m\u001b[1m./wandb/run-20230802_232314-49yjb8iz/logs\u001b[0m\n"
     ]
    }
   ],
   "source": [
    "wandb.finish()"
   ]
  }
 ],
 "metadata": {
  "kernelspec": {
   "display_name": "Python 3.9 (py39)",
   "language": "python",
   "name": "py39"
  },
  "language_info": {
   "codemirror_mode": {
    "name": "ipython",
    "version": 3
   },
   "file_extension": ".py",
   "mimetype": "text/x-python",
   "name": "python",
   "nbconvert_exporter": "python",
   "pygments_lexer": "ipython3",
   "version": "3.9.13"
  }
 },
 "nbformat": 4,
 "nbformat_minor": 4
}

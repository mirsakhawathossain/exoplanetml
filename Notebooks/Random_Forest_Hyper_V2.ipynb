{
 "cells": [
  {
   "cell_type": "code",
   "execution_count": 1,
   "metadata": {
    "execution": {
     "iopub.execute_input": "2023-03-16T07:47:01.695614Z",
     "iopub.status.busy": "2023-03-16T07:47:01.693819Z",
     "iopub.status.idle": "2023-03-16T07:47:01.699497Z",
     "shell.execute_reply": "2023-03-16T07:47:01.698377Z"
    }
   },
   "outputs": [],
   "source": [
    "import warnings\n",
    "warnings.filterwarnings('ignore')"
   ]
  },
  {
   "cell_type": "code",
   "execution_count": 2,
   "metadata": {
    "execution": {
     "iopub.execute_input": "2023-03-16T07:47:01.708008Z",
     "iopub.status.busy": "2023-03-16T07:47:01.706467Z",
     "iopub.status.idle": "2023-03-16T07:47:28.428005Z",
     "shell.execute_reply": "2023-03-16T07:47:28.428926Z"
    }
   },
   "outputs": [
    {
     "name": "stdout",
     "output_type": "stream",
     "text": [
      "Requirement already satisfied: optuna in /home/idies/miniconda3/envs/py38/lib/python3.8/site-packages (3.1.0)\n",
      "Requirement already satisfied: tqdm in /home/idies/miniconda3/envs/py38/lib/python3.8/site-packages (from optuna) (4.50.2)\n",
      "Requirement already satisfied: colorlog in /home/idies/miniconda3/envs/py38/lib/python3.8/site-packages (from optuna) (6.7.0)\n",
      "Requirement already satisfied: PyYAML in /home/idies/miniconda3/envs/py38/lib/python3.8/site-packages (from optuna) (5.3.1)\n",
      "Requirement already satisfied: numpy in /home/idies/miniconda3/envs/py38/lib/python3.8/site-packages (from optuna) (1.19.4)\n",
      "Requirement already satisfied: alembic>=1.5.0 in /home/idies/miniconda3/envs/py38/lib/python3.8/site-packages (from optuna) (1.10.2)\n",
      "Requirement already satisfied: sqlalchemy>=1.3.0 in /home/idies/miniconda3/envs/py38/lib/python3.8/site-packages (from optuna) (1.3.20)\n",
      "Requirement already satisfied: packaging>=20.0 in /home/idies/miniconda3/envs/py38/lib/python3.8/site-packages (from optuna) (20.4)\n",
      "Requirement already satisfied: cmaes>=0.9.1 in /home/idies/miniconda3/envs/py38/lib/python3.8/site-packages (from optuna) (0.9.1)\n",
      "Requirement already satisfied: importlib-metadata; python_version < \"3.9\" in /home/idies/miniconda3/envs/py38/lib/python3.8/site-packages (from alembic>=1.5.0->optuna) (2.0.0)\n",
      "Requirement already satisfied: Mako in /home/idies/miniconda3/envs/py38/lib/python3.8/site-packages (from alembic>=1.5.0->optuna) (1.2.4)\n",
      "Requirement already satisfied: typing-extensions>=4 in /home/idies/miniconda3/envs/py38/lib/python3.8/site-packages (from alembic>=1.5.0->optuna) (4.5.0)\n",
      "Requirement already satisfied: importlib-resources; python_version < \"3.9\" in /home/idies/miniconda3/envs/py38/lib/python3.8/site-packages (from alembic>=1.5.0->optuna) (5.12.0)\n",
      "Requirement already satisfied: six in /home/idies/miniconda3/envs/py38/lib/python3.8/site-packages (from packaging>=20.0->optuna) (1.15.0)\n",
      "Requirement already satisfied: pyparsing>=2.0.2 in /home/idies/miniconda3/envs/py38/lib/python3.8/site-packages (from packaging>=20.0->optuna) (2.4.7)\n",
      "Requirement already satisfied: zipp>=0.5 in /home/idies/miniconda3/envs/py38/lib/python3.8/site-packages (from importlib-metadata; python_version < \"3.9\"->alembic>=1.5.0->optuna) (3.4.0)\n",
      "Requirement already satisfied: MarkupSafe>=0.9.2 in /home/idies/miniconda3/envs/py38/lib/python3.8/site-packages (from Mako->alembic>=1.5.0->optuna) (1.1.1)\n"
     ]
    }
   ],
   "source": [
    "import sys\n",
    "!{sys.executable} -m pip install optuna"
   ]
  },
  {
   "cell_type": "code",
   "execution_count": 3,
   "metadata": {},
   "outputs": [
    {
     "name": "stdout",
     "output_type": "stream",
     "text": [
      "Requirement already up-to-date: scikit-learn in /home/idies/miniconda3/envs/py38/lib/python3.8/site-packages (1.2.2)\n",
      "Requirement already satisfied, skipping upgrade: scipy>=1.3.2 in /home/idies/miniconda3/envs/py38/lib/python3.8/site-packages (from scikit-learn) (1.6.0)\n",
      "Requirement already satisfied, skipping upgrade: numpy>=1.17.3 in /home/idies/miniconda3/envs/py38/lib/python3.8/site-packages (from scikit-learn) (1.19.4)\n",
      "Requirement already satisfied, skipping upgrade: joblib>=1.1.1 in /home/idies/miniconda3/envs/py38/lib/python3.8/site-packages (from scikit-learn) (1.2.0)\n",
      "Requirement already satisfied, skipping upgrade: threadpoolctl>=2.0.0 in /home/idies/miniconda3/envs/py38/lib/python3.8/site-packages (from scikit-learn) (2.1.0)\n"
     ]
    }
   ],
   "source": [
    "import sys\n",
    "!{sys.executable} -m pip install scikit-learn --upgrade"
   ]
  },
  {
   "cell_type": "code",
   "execution_count": 4,
   "metadata": {
    "execution": {
     "iopub.execute_input": "2023-03-16T07:47:28.441848Z",
     "iopub.status.busy": "2023-03-16T07:47:28.440795Z",
     "iopub.status.idle": "2023-03-16T07:47:45.891266Z",
     "shell.execute_reply": "2023-03-16T07:47:45.890326Z"
    }
   },
   "outputs": [
    {
     "name": "stdout",
     "output_type": "stream",
     "text": [
      "Requirement already satisfied: scikit-learn-intelex in /home/idies/miniconda3/envs/py38/lib/python3.8/site-packages (2023.0.1)\n",
      "Requirement already satisfied: daal4py==2023.0.1 in /home/idies/miniconda3/envs/py38/lib/python3.8/site-packages (from scikit-learn-intelex) (2023.0.1)\n",
      "Requirement already satisfied: scikit-learn>=0.22 in /home/idies/miniconda3/envs/py38/lib/python3.8/site-packages (from scikit-learn-intelex) (1.2.2)\n",
      "Requirement already satisfied: daal==2023.0.1 in /home/idies/miniconda3/envs/py38/lib/python3.8/site-packages (from daal4py==2023.0.1->scikit-learn-intelex) (2023.0.1)\n",
      "Requirement already satisfied: numpy>=1.15 in /home/idies/miniconda3/envs/py38/lib/python3.8/site-packages (from daal4py==2023.0.1->scikit-learn-intelex) (1.19.4)\n",
      "Requirement already satisfied: joblib>=1.1.1 in /home/idies/miniconda3/envs/py38/lib/python3.8/site-packages (from scikit-learn>=0.22->scikit-learn-intelex) (1.2.0)\n",
      "Requirement already satisfied: threadpoolctl>=2.0.0 in /home/idies/miniconda3/envs/py38/lib/python3.8/site-packages (from scikit-learn>=0.22->scikit-learn-intelex) (2.1.0)\n",
      "Requirement already satisfied: scipy>=1.3.2 in /home/idies/miniconda3/envs/py38/lib/python3.8/site-packages (from scikit-learn>=0.22->scikit-learn-intelex) (1.6.0)\n",
      "Requirement already satisfied: tbb==2021.* in /home/idies/miniconda3/envs/py38/lib/python3.8/site-packages (from daal==2023.0.1->daal4py==2023.0.1->scikit-learn-intelex) (2021.8.0)\n"
     ]
    }
   ],
   "source": [
    "import sys\n",
    "!{sys.executable} -m pip install scikit-learn-intelex"
   ]
  },
  {
   "cell_type": "code",
   "execution_count": 5,
   "metadata": {
    "execution": {
     "iopub.execute_input": "2023-03-16T07:47:45.900013Z",
     "iopub.status.busy": "2023-03-16T07:47:45.899016Z",
     "iopub.status.idle": "2023-03-16T07:47:50.731272Z",
     "shell.execute_reply": "2023-03-16T07:47:50.732383Z"
    }
   },
   "outputs": [
    {
     "name": "stdout",
     "output_type": "stream",
     "text": [
      "Scikit-learn was successfully globally patched by Intel(R) Extension for Scikit-learn\n"
     ]
    },
    {
     "name": "stderr",
     "output_type": "stream",
     "text": [
      "Intel(R) Extension for Scikit-learn* enabled (https://github.com/intel/scikit-learn-intelex)\n"
     ]
    }
   ],
   "source": [
    "from sklearnex import patch_sklearn\n",
    "patch_sklearn(global_patch=True)"
   ]
  },
  {
   "cell_type": "code",
   "execution_count": 6,
   "metadata": {
    "execution": {
     "iopub.execute_input": "2023-03-16T07:47:50.740781Z",
     "iopub.status.busy": "2023-03-16T07:47:50.739077Z",
     "iopub.status.idle": "2023-03-16T07:47:50.743973Z",
     "shell.execute_reply": "2023-03-16T07:47:50.744819Z"
    }
   },
   "outputs": [],
   "source": [
    "import pandas as pd\n",
    "import numpy as np"
   ]
  },
  {
   "cell_type": "code",
   "execution_count": 7,
   "metadata": {
    "execution": {
     "iopub.execute_input": "2023-03-16T07:47:50.755142Z",
     "iopub.status.busy": "2023-03-16T07:47:50.753427Z",
     "iopub.status.idle": "2023-03-16T07:48:29.276168Z",
     "shell.execute_reply": "2023-03-16T07:48:29.274373Z"
    }
   },
   "outputs": [],
   "source": [
    "df = pd.read_csv('https://gitlab.com/mirsakhawathossain/exodata/-/raw/main/dataset/exodata.csv').sort_index(axis=0)"
   ]
  },
  {
   "cell_type": "code",
   "execution_count": 8,
   "metadata": {
    "execution": {
     "iopub.execute_input": "2023-03-16T07:48:29.286272Z",
     "iopub.status.busy": "2023-03-16T07:48:29.284712Z",
     "iopub.status.idle": "2023-03-16T07:48:31.143287Z",
     "shell.execute_reply": "2023-03-16T07:48:31.141584Z"
    }
   },
   "outputs": [],
   "source": [
    "columns_1 = df.columns[df.mean()==1]\n",
    "columns_2 = df.columns[df.mean()==0]\n",
    "df = df.drop(columns=columns_1)\n",
    "df = df.drop(columns=columns_2)"
   ]
  },
  {
   "cell_type": "code",
   "execution_count": 9,
   "metadata": {
    "execution": {
     "iopub.execute_input": "2023-03-16T07:48:31.641052Z",
     "iopub.status.busy": "2023-03-16T07:48:31.639430Z",
     "iopub.status.idle": "2023-03-16T07:48:31.647065Z",
     "shell.execute_reply": "2023-03-16T07:48:31.645405Z"
    }
   },
   "outputs": [],
   "source": [
    "X = df.drop(['exoplanet'],axis=1)"
   ]
  },
  {
   "cell_type": "code",
   "execution_count": 10,
   "metadata": {
    "execution": {
     "iopub.execute_input": "2023-03-16T07:48:31.665655Z",
     "iopub.status.busy": "2023-03-16T07:48:31.664037Z",
     "iopub.status.idle": "2023-03-16T07:48:31.673974Z",
     "shell.execute_reply": "2023-03-16T07:48:31.672353Z"
    }
   },
   "outputs": [
    {
     "data": {
      "text/plain": [
       "(75458, 741)"
      ]
     },
     "execution_count": 10,
     "metadata": {},
     "output_type": "execute_result"
    }
   ],
   "source": [
    "X.shape"
   ]
  },
  {
   "cell_type": "code",
   "execution_count": 11,
   "metadata": {
    "execution": {
     "iopub.execute_input": "2023-03-16T07:48:31.688177Z",
     "iopub.status.busy": "2023-03-16T07:48:31.686560Z",
     "iopub.status.idle": "2023-03-16T07:48:31.693471Z",
     "shell.execute_reply": "2023-03-16T07:48:31.692113Z"
    }
   },
   "outputs": [],
   "source": [
    "y = df[['exoplanet']]"
   ]
  },
  {
   "cell_type": "code",
   "execution_count": 12,
   "metadata": {
    "execution": {
     "iopub.execute_input": "2023-03-16T07:48:31.705086Z",
     "iopub.status.busy": "2023-03-16T07:48:31.703530Z",
     "iopub.status.idle": "2023-03-16T07:48:31.727564Z",
     "shell.execute_reply": "2023-03-16T07:48:31.725929Z"
    }
   },
   "outputs": [
    {
     "data": {
      "text/plain": [
       "exoplanet\n",
       "1            40084\n",
       "0            35374\n",
       "dtype: int64"
      ]
     },
     "execution_count": 12,
     "metadata": {},
     "output_type": "execute_result"
    }
   ],
   "source": [
    "y.value_counts()"
   ]
  },
  {
   "cell_type": "code",
   "execution_count": 13,
   "metadata": {
    "execution": {
     "iopub.execute_input": "2023-03-16T07:48:31.735509Z",
     "iopub.status.busy": "2023-03-16T07:48:31.733986Z",
     "iopub.status.idle": "2023-03-16T07:48:31.743848Z",
     "shell.execute_reply": "2023-03-16T07:48:31.745094Z"
    }
   },
   "outputs": [],
   "source": [
    "from sklearn.model_selection import train_test_split"
   ]
  },
  {
   "cell_type": "code",
   "execution_count": 14,
   "metadata": {
    "execution": {
     "iopub.execute_input": "2023-03-16T07:48:31.798056Z",
     "iopub.status.busy": "2023-03-16T07:48:31.793666Z",
     "iopub.status.idle": "2023-03-16T07:48:33.089426Z",
     "shell.execute_reply": "2023-03-16T07:48:33.088034Z"
    }
   },
   "outputs": [],
   "source": [
    "X_train, X_test, y_train, y_test = train_test_split(X, y, test_size=0.4, random_state=43,stratify=y)"
   ]
  },
  {
   "cell_type": "code",
   "execution_count": 15,
   "metadata": {
    "execution": {
     "iopub.execute_input": "2023-03-16T07:48:33.099907Z",
     "iopub.status.busy": "2023-03-16T07:48:33.098448Z",
     "iopub.status.idle": "2023-03-16T07:48:33.107143Z",
     "shell.execute_reply": "2023-03-16T07:48:33.105822Z"
    }
   },
   "outputs": [
    {
     "name": "stdout",
     "output_type": "stream",
     "text": [
      "(45274, 741)\n",
      "(30184, 741)\n"
     ]
    }
   ],
   "source": [
    "print(X_train.shape)\n",
    "print(X_test.shape)"
   ]
  },
  {
   "cell_type": "code",
   "execution_count": 16,
   "metadata": {
    "execution": {
     "iopub.execute_input": "2023-03-16T07:48:33.115648Z",
     "iopub.status.busy": "2023-03-16T07:48:33.114639Z",
     "iopub.status.idle": "2023-03-16T07:48:33.121231Z",
     "shell.execute_reply": "2023-03-16T07:48:33.120404Z"
    }
   },
   "outputs": [],
   "source": [
    "from sklearn.preprocessing import QuantileTransformer\n",
    "qt = QuantileTransformer()"
   ]
  },
  {
   "cell_type": "code",
   "execution_count": 17,
   "metadata": {
    "execution": {
     "iopub.execute_input": "2023-03-16T07:48:33.236095Z",
     "iopub.status.busy": "2023-03-16T07:48:33.234555Z",
     "iopub.status.idle": "2023-03-16T07:48:53.444865Z",
     "shell.execute_reply": "2023-03-16T07:48:53.445801Z"
    }
   },
   "outputs": [],
   "source": [
    "X_train = qt.fit_transform(X_train)\n",
    "X_test = qt.transform(X_test)"
   ]
  },
  {
   "cell_type": "code",
   "execution_count": 18,
   "metadata": {
    "execution": {
     "iopub.execute_input": "2023-03-16T07:48:53.453455Z",
     "iopub.status.busy": "2023-03-16T07:48:53.452398Z",
     "iopub.status.idle": "2023-03-16T07:48:54.306900Z",
     "shell.execute_reply": "2023-03-16T07:48:54.304987Z"
    }
   },
   "outputs": [],
   "source": [
    "import optuna\n",
    "from sklearn.model_selection import cross_val_score, RepeatedKFold\n",
    "from sklearn.ensemble import RandomForestClassifier\n"
   ]
  },
  {
   "cell_type": "code",
   "execution_count": 19,
   "metadata": {},
   "outputs": [],
   "source": [
    "def objective(trial):\n",
    "    max_depth = trial.suggest_int('max_depth', 5, 10)\n",
    "    min_samples_split = trial.suggest_int('min_samples_split', 6, 10)\n",
    "    min_samples_leaf = trial.suggest_int('min_samples_leaf', 5, 10)\n",
    "    max_features = trial.suggest_categorical('max_features', ['sqrt', 'log2', None])\n",
    "    criterion = trial.suggest_categorical('criterion', ['gini', 'entropy'])\n",
    "    n_estimators = trial.suggest_int('n_estimators', 150, 200, step=10)\n",
    "\n",
    "    clf = RandomForestClassifier(\n",
    "        max_depth=max_depth,\n",
    "        min_samples_split=min_samples_split,\n",
    "        min_samples_leaf=min_samples_leaf,\n",
    "        max_features=max_features,\n",
    "        criterion=criterion,\n",
    "        n_estimators=n_estimators,\n",
    "        random_state=43,n_jobs = -1)\n",
    "\n",
    "    rskf = RepeatedKFold(n_splits=5, n_repeats=10, random_state=41)\n",
    "    accs = np.mean(cross_val_score(clf, X_train, y_train, cv=rskf))\n",
    "    return 1 - np.mean(accs)"
   ]
  },
  {
   "cell_type": "code",
   "execution_count": 20,
   "metadata": {
    "execution": {
     "iopub.execute_input": "2023-03-16T07:48:54.347203Z",
     "iopub.status.busy": "2023-03-16T07:48:54.345851Z",
     "iopub.status.idle": "2023-03-16T07:48:54.354328Z",
     "shell.execute_reply": "2023-03-16T07:48:54.353208Z"
    }
   },
   "outputs": [
    {
     "name": "stderr",
     "output_type": "stream",
     "text": [
      "\u001b[32m[I 2023-03-25 05:54:28,175]\u001b[0m A new study created in memory with name: no-name-e595c699-c079-42b6-bc64-2e7d52d22304\u001b[0m\n"
     ]
    }
   ],
   "source": [
    "# Define the study object to manage the optimization process\n",
    "study = optuna.create_study(direction='minimize',pruner=optuna.pruners.HyperbandPruner(min_resource=1, max_resource='auto', reduction_factor=3))"
   ]
  },
  {
   "cell_type": "code",
   "execution_count": null,
   "metadata": {
    "execution": {
     "iopub.execute_input": "2023-03-16T07:48:54.376579Z",
     "iopub.status.busy": "2023-03-16T07:48:54.375458Z",
     "iopub.status.idle": "2023-03-16T09:11:04.241084Z",
     "shell.execute_reply": "2023-03-16T09:11:04.240090Z"
    }
   },
   "outputs": [],
   "source": [
    "# Run the hyperparameter optimization\n",
    "n_trials = None\n",
    "n_jobs = -1\n",
    "timeout= 60\n",
    "study.optimize(objective, n_trials=n_trials, n_jobs=n_jobs, timeout=timeout,show_progress_bar=True,gc_after_trial=True)"
   ]
  },
  {
   "cell_type": "code",
   "execution_count": 22,
   "metadata": {
    "execution": {
     "iopub.execute_input": "2023-03-16T09:11:04.249257Z",
     "iopub.status.busy": "2023-03-16T09:11:04.248196Z",
     "iopub.status.idle": "2023-03-16T09:11:04.254103Z",
     "shell.execute_reply": "2023-03-16T09:11:04.255175Z"
    }
   },
   "outputs": [
    {
     "name": "stdout",
     "output_type": "stream",
     "text": [
      "Best hyperparameters:\n",
      "{'max_depth': 10, 'min_samples_split': 8, 'min_samples_leaf': 10, 'max_features': None, 'criterion': 'gini'}\n"
     ]
    }
   ],
   "source": [
    "# Print the best hyperparameters found\n",
    "print('Best hyperparameters:')\n",
    "print(study.best_params)"
   ]
  },
  {
   "cell_type": "code",
   "execution_count": null,
   "metadata": {},
   "outputs": [],
   "source": [
    "best_score = 1 - study.best_value\n",
    "print('Best score:', best_score)"
   ]
  }
 ],
 "metadata": {
  "kernelspec": {
   "display_name": "Python 3.8 (py38)",
   "language": "python",
   "name": "py38"
  },
  "language_info": {
   "codemirror_mode": {
    "name": "ipython",
    "version": 3
   },
   "file_extension": ".py",
   "mimetype": "text/x-python",
   "name": "python",
   "nbconvert_exporter": "python",
   "pygments_lexer": "ipython3",
   "version": "3.8.5"
  }
 },
 "nbformat": 4,
 "nbformat_minor": 4
}

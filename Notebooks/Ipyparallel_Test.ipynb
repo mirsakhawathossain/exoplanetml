{
 "cells": [
  {
   "cell_type": "code",
   "execution_count": 1,
   "metadata": {},
   "outputs": [
    {
     "name": "stdout",
     "output_type": "stream",
     "text": [
      "Number of CPUs in the system: 16\n"
     ]
    }
   ],
   "source": [
    "import os\n",
    "print('Number of CPUs in the system: {}'.format(os.cpu_count()))"
   ]
  },
  {
   "cell_type": "code",
   "execution_count": 2,
   "metadata": {},
   "outputs": [
    {
     "name": "stdout",
     "output_type": "stream",
     "text": [
      "Collecting ipyparallel\n",
      "  Downloading ipyparallel-8.4.1-py3-none-any.whl (298 kB)\n",
      "\u001b[K     |████████████████████████████████| 298 kB 11.6 MB/s eta 0:00:01\n",
      "\u001b[?25hRequirement already satisfied: traitlets>=4.3 in /home/idies/miniconda3/envs/py38/lib/python3.8/site-packages (from ipyparallel) (5.0.5)\n",
      "Requirement already satisfied: python-dateutil>=2.1 in /home/idies/miniconda3/envs/py38/lib/python3.8/site-packages (from ipyparallel) (2.8.0)\n",
      "Requirement already satisfied: psutil in /home/idies/miniconda3/envs/py38/lib/python3.8/site-packages (from ipyparallel) (5.7.2)\n",
      "Requirement already satisfied: entrypoints in /home/idies/miniconda3/envs/py38/lib/python3.8/site-packages (from ipyparallel) (0.3)\n",
      "Requirement already satisfied: tornado>=5.1 in /home/idies/miniconda3/envs/py38/lib/python3.8/site-packages (from ipyparallel) (6.0.4)\n",
      "Requirement already satisfied: jupyter-client in /home/idies/miniconda3/envs/py38/lib/python3.8/site-packages (from ipyparallel) (6.1.7)\n",
      "Requirement already satisfied: decorator in /home/idies/miniconda3/envs/py38/lib/python3.8/site-packages (from ipyparallel) (4.4.2)\n",
      "Requirement already satisfied: ipykernel>=4.4 in /home/idies/miniconda3/envs/py38/lib/python3.8/site-packages (from ipyparallel) (5.3.4)\n",
      "Requirement already satisfied: ipython>=4 in /home/idies/miniconda3/envs/py38/lib/python3.8/site-packages (from ipyparallel) (7.19.0)\n",
      "Requirement already satisfied: pyzmq>=18 in /home/idies/miniconda3/envs/py38/lib/python3.8/site-packages (from ipyparallel) (19.0.2)\n",
      "Requirement already satisfied: tqdm in /home/idies/miniconda3/envs/py38/lib/python3.8/site-packages (from ipyparallel) (4.50.2)\n",
      "Requirement already satisfied: ipython-genutils in /home/idies/miniconda3/envs/py38/lib/python3.8/site-packages (from traitlets>=4.3->ipyparallel) (0.2.0)\n",
      "Requirement already satisfied: six>=1.5 in /home/idies/miniconda3/envs/py38/lib/python3.8/site-packages (from python-dateutil>=2.1->ipyparallel) (1.15.0)\n",
      "Requirement already satisfied: jupyter-core>=4.6.0 in /home/idies/miniconda3/envs/py38/lib/python3.8/site-packages (from jupyter-client->ipyparallel) (4.6.3)\n",
      "Requirement already satisfied: pexpect>4.3; sys_platform != \"win32\" in /home/idies/miniconda3/envs/py38/lib/python3.8/site-packages (from ipython>=4->ipyparallel) (4.8.0)\n",
      "Requirement already satisfied: pickleshare in /home/idies/miniconda3/envs/py38/lib/python3.8/site-packages (from ipython>=4->ipyparallel) (0.7.5)\n",
      "Requirement already satisfied: pygments in /home/idies/miniconda3/envs/py38/lib/python3.8/site-packages (from ipython>=4->ipyparallel) (2.7.2)\n",
      "Requirement already satisfied: backcall in /home/idies/miniconda3/envs/py38/lib/python3.8/site-packages (from ipython>=4->ipyparallel) (0.2.0)\n",
      "Requirement already satisfied: jedi>=0.10 in /home/idies/miniconda3/envs/py38/lib/python3.8/site-packages (from ipython>=4->ipyparallel) (0.17.1)\n",
      "Requirement already satisfied: prompt-toolkit!=3.0.0,!=3.0.1,<3.1.0,>=2.0.0 in /home/idies/miniconda3/envs/py38/lib/python3.8/site-packages (from ipython>=4->ipyparallel) (3.0.8)\n",
      "Requirement already satisfied: setuptools>=18.5 in /home/idies/miniconda3/envs/py38/lib/python3.8/site-packages (from ipython>=4->ipyparallel) (50.3.1.post20201107)\n",
      "Requirement already satisfied: ptyprocess>=0.5 in /home/idies/miniconda3/envs/py38/lib/python3.8/site-packages (from pexpect>4.3; sys_platform != \"win32\"->ipython>=4->ipyparallel) (0.6.0)\n",
      "Requirement already satisfied: parso<0.8.0,>=0.7.0 in /home/idies/miniconda3/envs/py38/lib/python3.8/site-packages (from jedi>=0.10->ipython>=4->ipyparallel) (0.7.0)\n",
      "Requirement already satisfied: wcwidth in /home/idies/miniconda3/envs/py38/lib/python3.8/site-packages (from prompt-toolkit!=3.0.0,!=3.0.1,<3.1.0,>=2.0.0->ipython>=4->ipyparallel) (0.2.5)\n",
      "Installing collected packages: ipyparallel\n",
      "Successfully installed ipyparallel-8.4.1\n"
     ]
    }
   ],
   "source": [
    "import sys\n",
    "!{sys.executable} -m pip install ipyparallel"
   ]
  },
  {
   "cell_type": "code",
   "execution_count": 3,
   "metadata": {},
   "outputs": [],
   "source": [
    "#import ipyparallel as ipp\n",
    "#cluster = ipp.Cluster()\n",
    "#cluster.start_cluster_sync()\n",
    "#rc = cluster.connect_client_sync()"
   ]
  },
  {
   "cell_type": "code",
   "execution_count": 3,
   "metadata": {},
   "outputs": [
    {
     "name": "stdout",
     "output_type": "stream",
     "text": [
      "Collecting tsfresh\n",
      "  Downloading tsfresh-0.19.0-py2.py3-none-any.whl (97 kB)\n",
      "\u001b[K     |████████████████████████████████| 97 kB 1.9 MB/s eta 0:00:01\n",
      "\u001b[?25hCollecting stumpy>=1.7.2\n",
      "  Downloading stumpy-1.11.1-py3-none-any.whl (136 kB)\n",
      "\u001b[K     |████████████████████████████████| 136 kB 11.0 MB/s eta 0:00:01\n",
      "\u001b[?25hRequirement already satisfied: pandas>=0.25.0 in /home/idies/miniconda3/envs/py38/lib/python3.8/site-packages (from tsfresh) (1.1.3)\n",
      "Requirement already satisfied: distributed>=2.11.0 in /home/idies/miniconda3/envs/py38/lib/python3.8/site-packages (from tsfresh) (2.30.1)\n",
      "Collecting matrixprofile<2.0.0,>=1.1.10\n",
      "  Downloading matrixprofile-1.1.10-cp38-cp38-manylinux2010_x86_64.whl (1.2 MB)\n",
      "\u001b[K     |████████████████████████████████| 1.2 MB 21.0 MB/s eta 0:00:01 21.0 MB/s eta 0:00:01\n",
      "\u001b[?25hRequirement already satisfied: patsy>=0.4.1 in /home/idies/miniconda3/envs/py38/lib/python3.8/site-packages (from tsfresh) (0.5.1)\n",
      "Requirement already satisfied: requests>=2.9.1 in /home/idies/miniconda3/envs/py38/lib/python3.8/site-packages (from tsfresh) (2.24.0)\n",
      "Requirement already satisfied: scikit-learn>=0.22.0 in /home/idies/miniconda3/envs/py38/lib/python3.8/site-packages (from tsfresh) (0.23.2)\n",
      "Requirement already satisfied: cloudpickle in /home/idies/miniconda3/envs/py38/lib/python3.8/site-packages (from tsfresh) (1.6.0)\n",
      "Requirement already satisfied: dask[dataframe]>=2.9.0 in /home/idies/miniconda3/envs/py38/lib/python3.8/site-packages (from tsfresh) (2.30.0)\n",
      "Requirement already satisfied: scipy>=1.2.0 in /home/idies/miniconda3/envs/py38/lib/python3.8/site-packages (from tsfresh) (1.6.0)\n",
      "Requirement already satisfied: numpy>=1.15.1 in /home/idies/miniconda3/envs/py38/lib/python3.8/site-packages (from tsfresh) (1.19.4)\n",
      "Collecting statsmodels>=0.13\n",
      "  Downloading statsmodels-0.13.5-cp38-cp38-manylinux_2_17_x86_64.manylinux2014_x86_64.whl (9.9 MB)\n",
      "\u001b[K     |████████████████████████████████| 9.9 MB 15.6 MB/s eta 0:00:01                         | 808 kB 15.6 MB/s eta 0:00:01 |███████▍                        | 2.3 MB 15.6 MB/s eta 0:00:01    | 7.3 MB 15.6 MB/s eta 0:00:016 MB/s eta 0:00:01\n",
      "\u001b[?25hRequirement already satisfied: tqdm>=4.10.0 in /home/idies/miniconda3/envs/py38/lib/python3.8/site-packages (from tsfresh) (4.50.2)\n",
      "Collecting numba>=0.54\n",
      "  Downloading numba-0.56.4-cp38-cp38-manylinux2014_x86_64.manylinux_2_17_x86_64.whl (3.5 MB)\n",
      "\u001b[K     |████████████████████████████████| 3.5 MB 16.6 MB/s eta 0:00:01�                         | 706 kB 16.6 MB/s eta 0:00:01��█████████             | 2.1 MB 16.6 MB/s eta 0:00:01��█████████████████████▏| 3.4 MB 16.6 MB/s eta 0:00:01\n",
      "\u001b[?25hRequirement already satisfied: python-dateutil>=2.7.3 in /home/idies/miniconda3/envs/py38/lib/python3.8/site-packages (from pandas>=0.25.0->tsfresh) (2.8.0)\n",
      "Requirement already satisfied: pytz>=2017.2 in /home/idies/miniconda3/envs/py38/lib/python3.8/site-packages (from pandas>=0.25.0->tsfresh) (2020.1)\n",
      "Requirement already satisfied: pyyaml in /home/idies/miniconda3/envs/py38/lib/python3.8/site-packages (from distributed>=2.11.0->tsfresh) (5.3.1)\n",
      "Requirement already satisfied: msgpack>=0.6.0 in /home/idies/miniconda3/envs/py38/lib/python3.8/site-packages (from distributed>=2.11.0->tsfresh) (1.0.0)\n",
      "Requirement already satisfied: sortedcontainers!=2.0.0,!=2.0.1 in /home/idies/miniconda3/envs/py38/lib/python3.8/site-packages (from distributed>=2.11.0->tsfresh) (2.2.2)\n",
      "Requirement already satisfied: setuptools in /home/idies/miniconda3/envs/py38/lib/python3.8/site-packages (from distributed>=2.11.0->tsfresh) (50.3.1.post20201107)\n",
      "Requirement already satisfied: zict>=0.1.3 in /home/idies/miniconda3/envs/py38/lib/python3.8/site-packages (from distributed>=2.11.0->tsfresh) (2.0.0)\n",
      "Requirement already satisfied: tornado>=6.0.3; python_version >= \"3.8\" in /home/idies/miniconda3/envs/py38/lib/python3.8/site-packages (from distributed>=2.11.0->tsfresh) (6.0.4)\n",
      "Requirement already satisfied: click>=6.6 in /home/idies/miniconda3/envs/py38/lib/python3.8/site-packages (from distributed>=2.11.0->tsfresh) (7.1.2)\n",
      "Requirement already satisfied: tblib>=1.6.0 in /home/idies/miniconda3/envs/py38/lib/python3.8/site-packages (from distributed>=2.11.0->tsfresh) (1.7.0)\n",
      "Requirement already satisfied: toolz>=0.8.2 in /home/idies/miniconda3/envs/py38/lib/python3.8/site-packages (from distributed>=2.11.0->tsfresh) (0.11.1)\n",
      "Requirement already satisfied: psutil>=5.0 in /home/idies/miniconda3/envs/py38/lib/python3.8/site-packages (from distributed>=2.11.0->tsfresh) (5.7.2)\n",
      "Requirement already satisfied: matplotlib>=3.0.3 in /home/idies/miniconda3/envs/py38/lib/python3.8/site-packages (from matrixprofile<2.0.0,>=1.1.10->tsfresh) (3.3.2)\n",
      "Collecting protobuf==3.11.2\n",
      "  Downloading protobuf-3.11.2-cp38-cp38-manylinux1_x86_64.whl (1.3 MB)\n",
      "\u001b[K     |████████████████████████████████| 1.3 MB 25.6 MB/s eta 0:00:01�▌                         | 256 kB 25.6 MB/s eta 0:00:01\n",
      "\u001b[?25hRequirement already satisfied: six in /home/idies/miniconda3/envs/py38/lib/python3.8/site-packages (from patsy>=0.4.1->tsfresh) (1.15.0)\n",
      "Requirement already satisfied: urllib3!=1.25.0,!=1.25.1,<1.26,>=1.21.1 in /home/idies/miniconda3/envs/py38/lib/python3.8/site-packages (from requests>=2.9.1->tsfresh) (1.24.3)\n",
      "Requirement already satisfied: idna<3,>=2.5 in /home/idies/miniconda3/envs/py38/lib/python3.8/site-packages (from requests>=2.9.1->tsfresh) (2.10)\n",
      "Requirement already satisfied: chardet<4,>=3.0.2 in /home/idies/miniconda3/envs/py38/lib/python3.8/site-packages (from requests>=2.9.1->tsfresh) (3.0.4)\n",
      "Requirement already satisfied: certifi>=2017.4.17 in /home/idies/miniconda3/envs/py38/lib/python3.8/site-packages (from requests>=2.9.1->tsfresh) (2020.12.5)\n",
      "Requirement already satisfied: threadpoolctl>=2.0.0 in /home/idies/miniconda3/envs/py38/lib/python3.8/site-packages (from scikit-learn>=0.22.0->tsfresh) (2.1.0)\n",
      "Requirement already satisfied: joblib>=0.11 in /home/idies/miniconda3/envs/py38/lib/python3.8/site-packages (from scikit-learn>=0.22.0->tsfresh) (0.17.0)\n",
      "Requirement already satisfied: fsspec>=0.6.0; extra == \"dataframe\" in /home/idies/miniconda3/envs/py38/lib/python3.8/site-packages (from dask[dataframe]>=2.9.0->tsfresh) (0.8.3)\n",
      "Requirement already satisfied: partd>=0.3.10; extra == \"dataframe\" in /home/idies/miniconda3/envs/py38/lib/python3.8/site-packages (from dask[dataframe]>=2.9.0->tsfresh) (1.1.0)\n",
      "Collecting packaging>=21.3\n",
      "  Downloading packaging-21.3-py3-none-any.whl (40 kB)\n",
      "\u001b[K     |████████████████████████████████| 40 kB 4.6 MB/s  eta 0:00:01\n",
      "\u001b[?25hCollecting llvmlite<0.40,>=0.39.0dev0\n",
      "  Downloading llvmlite-0.39.1-cp38-cp38-manylinux_2_17_x86_64.manylinux2014_x86_64.whl (34.6 MB)\n",
      "\u001b[K     |████████████████████████████████| 34.6 MB 63 kB/s s eta 0:00:01   |▎                               | 276 kB 16.2 MB/s eta 0:00:03            | 7.1 MB 16.2 MB/s eta 0:00:02��█████                       | 9.7 MB 16.2 MB/s eta 0:00:02eta 0:00:02      | 12.6 MB 16.2 MB/s eta 0:00:02MB/s eta 0:00:02    |███████████████▋                | 16.9 MB 16.2 MB/s eta 0:00:02��███████▋              | 19.1 MB 16.2 MB/s eta 0:00:01��█████████▊          | 23.6 MB 16.8 MB/s eta 0:00:01B 16.8 MB/s eta 0:00:01|█████████████████████████▎      | 27.3 MB 16.8 MB/s eta 0:00:01��█████████████████▎    | 29.5 MB 16.8 MB/s eta 0:00:01��█████████████████    | 30.4 MB 16.8 MB/s eta 0:00:01█████████████████▎  | 31.7 MB 16.8 MB/s eta 0:00:01█████▍ | 32.9 MB 16.8 MB/s eta 0:00:01�█████████████████████████▌| 34.1 MB 16.8 MB/s eta 0:00:01\n",
      "\u001b[?25hRequirement already satisfied: importlib-metadata; python_version < \"3.9\" in /home/idies/miniconda3/envs/py38/lib/python3.8/site-packages (from numba>=0.54->stumpy>=1.7.2->tsfresh) (2.0.0)\n",
      "Requirement already satisfied: heapdict in /home/idies/miniconda3/envs/py38/lib/python3.8/site-packages (from zict>=0.1.3->distributed>=2.11.0->tsfresh) (1.0.1)\n",
      "Requirement already satisfied: pillow>=6.2.0 in /home/idies/miniconda3/envs/py38/lib/python3.8/site-packages (from matplotlib>=3.0.3->matrixprofile<2.0.0,>=1.1.10->tsfresh) (8.0.1)\n",
      "Requirement already satisfied: cycler>=0.10 in /home/idies/miniconda3/envs/py38/lib/python3.8/site-packages (from matplotlib>=3.0.3->matrixprofile<2.0.0,>=1.1.10->tsfresh) (0.10.0)\n",
      "Requirement already satisfied: kiwisolver>=1.0.1 in /home/idies/miniconda3/envs/py38/lib/python3.8/site-packages (from matplotlib>=3.0.3->matrixprofile<2.0.0,>=1.1.10->tsfresh) (1.3.0)\n",
      "Requirement already satisfied: pyparsing!=2.0.4,!=2.1.2,!=2.1.6,>=2.0.3 in /home/idies/miniconda3/envs/py38/lib/python3.8/site-packages (from matplotlib>=3.0.3->matrixprofile<2.0.0,>=1.1.10->tsfresh) (2.4.7)\n",
      "Requirement already satisfied: locket in /home/idies/miniconda3/envs/py38/lib/python3.8/site-packages (from partd>=0.3.10; extra == \"dataframe\"->dask[dataframe]>=2.9.0->tsfresh) (0.2.0)\n",
      "Requirement already satisfied: zipp>=0.5 in /home/idies/miniconda3/envs/py38/lib/python3.8/site-packages (from importlib-metadata; python_version < \"3.9\"->numba>=0.54->stumpy>=1.7.2->tsfresh) (3.4.0)\n"
     ]
    },
    {
     "name": "stdout",
     "output_type": "stream",
     "text": [
      "Installing collected packages: llvmlite, numba, stumpy, protobuf, matrixprofile, packaging, statsmodels, tsfresh\n",
      "  Attempting uninstall: llvmlite\n",
      "    Found existing installation: llvmlite 0.34.0\n",
      "    Uninstalling llvmlite-0.34.0:\n",
      "      Successfully uninstalled llvmlite-0.34.0\n",
      "  Attempting uninstall: numba\n",
      "    Found existing installation: numba 0.51.2\n",
      "    Uninstalling numba-0.51.2:\n",
      "      Successfully uninstalled numba-0.51.2\n",
      "  Attempting uninstall: protobuf\n",
      "    Found existing installation: protobuf 3.13.0\n",
      "    Uninstalling protobuf-3.13.0:\n",
      "      Successfully uninstalled protobuf-3.13.0\n",
      "  Attempting uninstall: packaging\n",
      "    Found existing installation: packaging 20.4\n",
      "    Uninstalling packaging-20.4:\n",
      "      Successfully uninstalled packaging-20.4\n",
      "  Attempting uninstall: statsmodels\n",
      "    Found existing installation: statsmodels 0.12.0\n",
      "    Uninstalling statsmodels-0.12.0:\n",
      "      Successfully uninstalled statsmodels-0.12.0\n",
      "\u001b[31mERROR: After October 2020 you may experience errors when installing or updating packages. This is because pip will change the way that it resolves dependency conflicts.\n",
      "\n",
      "We recommend you use --use-feature=2020-resolver to test your packages with the new resolver before it becomes the default.\n",
      "\n",
      "tensorflow 2.3.0 requires keras-preprocessing<1.2,>=1.1.1, but you'll have keras-preprocessing 1.1.0 which is incompatible.\n",
      "tensorflow 2.3.0 requires numpy<1.19.0,>=1.16.0, but you'll have numpy 1.19.4 which is incompatible.\n",
      "tensorflow 2.3.0 requires scipy==1.4.1, but you'll have scipy 1.6.0 which is incompatible.\n",
      "statsmodels 0.13.5 requires patsy>=0.5.2, but you'll have patsy 0.5.1 which is incompatible.\n",
      "pytest-cov 2.10.1 requires pytest>=4.6, but you'll have pytest 0.0.0 which is incompatible.\u001b[0m\n",
      "Successfully installed llvmlite-0.39.1 matrixprofile-1.1.10 numba-0.56.4 packaging-21.3 protobuf-3.11.2 statsmodels-0.13.5 stumpy-1.11.1 tsfresh-0.19.0\n"
     ]
    }
   ],
   "source": [
    "import sys\n",
    "!{sys.executable} -m pip install tsfresh"
   ]
  },
  {
   "cell_type": "code",
   "execution_count": 4,
   "metadata": {},
   "outputs": [
    {
     "name": "stdout",
     "output_type": "stream",
     "text": [
      "Using existing profile dir: '/home/idies/.ipython/profile_default'\n",
      "Starting 16 engines with <class 'ipyparallel.cluster.launcher.LocalEngineSetLauncher'>\n"
     ]
    },
    {
     "data": {
      "application/vnd.jupyter.widget-view+json": {
       "model_id": "9029637f054343878f23e0a04b460e61",
       "version_major": 2,
       "version_minor": 0
      },
      "text/plain": [
       "HBox(children=(HTML(value=''), FloatProgress(value=0.0, max=16.0), HTML(value='')))"
      ]
     },
     "metadata": {},
     "output_type": "display_data"
    },
    {
     "name": "stdout",
     "output_type": "stream",
     "text": [
      "\n"
     ]
    },
    {
     "data": {
      "text/plain": [
       "[0, 1, 2, 3, 4, 5, 6, 7, 8, 9, 10, 11, 12, 13, 14, 15]"
      ]
     },
     "execution_count": 4,
     "metadata": {},
     "output_type": "execute_result"
    }
   ],
   "source": [
    "import os\n",
    "import ipyparallel as ipp\n",
    "ipp.__version__   # check that at least version 7\n",
    "mycluster = ipp.Cluster(n = int(os.cpu_count()))\n",
    "mycluster.start_cluster_sync()\n",
    "\n",
    "rc = mycluster.connect_client_sync()\n",
    "rc.wait_for_engines(n = int(os.cpu_count()))\n",
    "rc.ids\n"
   ]
  },
  {
   "cell_type": "code",
   "execution_count": 7,
   "metadata": {},
   "outputs": [
    {
     "data": {
      "text/plain": [
       "['Hello, World',\n",
       " 'Hello, World',\n",
       " 'Hello, World',\n",
       " 'Hello, World',\n",
       " 'Hello, World',\n",
       " 'Hello, World',\n",
       " 'Hello, World',\n",
       " 'Hello, World',\n",
       " 'Hello, World',\n",
       " 'Hello, World',\n",
       " 'Hello, World',\n",
       " 'Hello, World',\n",
       " 'Hello, World',\n",
       " 'Hello, World',\n",
       " 'Hello, World',\n",
       " 'Hello, World']"
      ]
     },
     "execution_count": 7,
     "metadata": {},
     "output_type": "execute_result"
    }
   ],
   "source": [
    "dview = rc[:]\n",
    "# Cause execution on main process to wait while tasks sent to workers finish\n",
    "dview.block = True   \n",
    "dview.apply(lambda : \"Hello, World\")\n"
   ]
  },
  {
   "cell_type": "code",
   "execution_count": 5,
   "metadata": {},
   "outputs": [],
   "source": [
    "lview = rc.load_balanced_view() # default load-balanced view"
   ]
  },
  {
   "cell_type": "code",
   "execution_count": 10,
   "metadata": {},
   "outputs": [
    {
     "data": {
      "text/plain": [
       "['Hello, World',\n",
       " 'Hello, World',\n",
       " 'Hello, World',\n",
       " 'Hello, World',\n",
       " 'Hello, World',\n",
       " 'Hello, World',\n",
       " 'Hello, World',\n",
       " 'Hello, World',\n",
       " 'Hello, World',\n",
       " 'Hello, World',\n",
       " 'Hello, World',\n",
       " 'Hello, World',\n",
       " 'Hello, World',\n",
       " 'Hello, World',\n",
       " 'Hello, World',\n",
       " 'Hello, World']"
      ]
     },
     "execution_count": 10,
     "metadata": {},
     "output_type": "execute_result"
    }
   ],
   "source": [
    "#lview = c[:]\n",
    "# Cause execution on main process to wait while tasks sent to workers finish\n",
    "dview.block = True   \n",
    "dview.apply(lambda : \"Hello, World\")\n"
   ]
  },
  {
   "cell_type": "code",
   "execution_count": 8,
   "metadata": {},
   "outputs": [
    {
     "data": {
      "text/plain": [
       "<AsyncResult(execute): finished>"
      ]
     },
     "execution_count": 8,
     "metadata": {},
     "output_type": "execute_result"
    }
   ],
   "source": [
    "dview.execute('from sklearn.ensemble import RandomForestRegressor as rfr')\n",
    "dview.execute('import numpy as np')"
   ]
  },
  {
   "cell_type": "code",
   "execution_count": 10,
   "metadata": {},
   "outputs": [],
   "source": [
    "#dview.execute('pip install tsfresh')"
   ]
  },
  {
   "cell_type": "code",
   "execution_count": 9,
   "metadata": {},
   "outputs": [
    {
     "data": {
      "text/plain": [
       "<AsyncResult(execute): finished>"
      ]
     },
     "execution_count": 9,
     "metadata": {},
     "output_type": "execute_result"
    }
   ],
   "source": [
    "dview.execute('from tsfresh import extract_features')\n",
    "dview.execute('from tsfresh.utilities.dataframe_functions import impute')\n",
    "dview.execute('from tsfresh.feature_extraction import ComprehensiveFCParameters')\n",
    "dview.execute('import os')\n",
    "dview.execute('import glob')\n",
    "dview.execute('from astropy.table import Table')\n",
    "dview.execute('import pandas as pd')"
   ]
  },
  {
   "cell_type": "code",
   "execution_count": 15,
   "metadata": {},
   "outputs": [],
   "source": [
    "def looFit(index, Ylocal, Xlocal):\n",
    "    rf = rfr(n_estimators=100)\n",
    "    fitted = rf.fit(np.delete(Xlocal, index, axis = 0), np.delete(Ylocal, index))\n",
    "    pred = rf.predict(np.array([Xlocal[index, :]]))\n",
    "    return(pred[0])\n"
   ]
  },
  {
   "cell_type": "code",
   "execution_count": 16,
   "metadata": {},
   "outputs": [
    {
     "data": {
      "text/plain": [
       "[None,\n",
       " None,\n",
       " None,\n",
       " None,\n",
       " None,\n",
       " None,\n",
       " None,\n",
       " None,\n",
       " None,\n",
       " None,\n",
       " None,\n",
       " None,\n",
       " None,\n",
       " None,\n",
       " None,\n",
       " None]"
      ]
     },
     "execution_count": 16,
     "metadata": {},
     "output_type": "execute_result"
    }
   ],
   "source": [
    "import numpy as np\n",
    "X = np.random.random((200,5))\n",
    "Y = np.random.random(200)\n",
    "mydict = dict(X = X, Y = Y, looFit = looFit)\n",
    "lview.push(mydict)"
   ]
  },
  {
   "cell_type": "code",
   "execution_count": 17,
   "metadata": {},
   "outputs": [
    {
     "name": "stdout",
     "output_type": "stream",
     "text": [
      "[0.47273738651352487, 0.5758062069572971, 0.4575282041293287, 0.35179085505451463, 0.47816158567500927, 0.5290074019126499, 0.5368385671288748, 0.6138308849105077, 0.4704461210894488, 0.5287497557309716]\n"
     ]
    }
   ],
   "source": [
    "# Need a wrapper function because map() only operates on one argument\n",
    "def wrapper(i):\n",
    "    return(looFit(i, Y, X))\n",
    "\n",
    "n = len(Y)\n",
    "import time\n",
    "time.time()\n",
    "# Run a parallel map, executing the wrapper function on indices 0,...,n-1\n",
    "lview = c.load_balanced_view()\n",
    "# Cause execution on main process to wait while tasks sent to workers finish\n",
    "lview.block = True \n",
    "pred = lview.map(wrapper, range(n))   # Run calculation in parallel\n",
    "time.time()\n",
    "print(pred[0:10])\n"
   ]
  },
  {
   "cell_type": "code",
   "execution_count": 18,
   "metadata": {},
   "outputs": [
    {
     "ename": "AttributeError",
     "evalue": "'LoadBalancedView' object has no attribute 'execute'",
     "output_type": "error",
     "traceback": [
      "\u001b[0;31m\u001b[0m",
      "\u001b[0;31mAttributeError\u001b[0mTraceback (most recent call last)",
      "\u001b[0;32m<ipython-input-18-8dbf5bb86720>\u001b[0m in \u001b[0;36m<module>\u001b[0;34m\u001b[0m\n\u001b[0;32m----> 1\u001b[0;31m \u001b[0mlview\u001b[0m\u001b[0;34m.\u001b[0m\u001b[0mexecute\u001b[0m\u001b[0;34m(\u001b[0m\u001b[0;34m'pip install tsfresh'\u001b[0m\u001b[0;34m)\u001b[0m\u001b[0;34m\u001b[0m\u001b[0;34m\u001b[0m\u001b[0m\n\u001b[0m",
      "\u001b[0;31mAttributeError\u001b[0m: 'LoadBalancedView' object has no attribute 'execute'"
     ]
    }
   ],
   "source": [
    "lview.execute('pip install tsfresh')"
   ]
  },
  {
   "cell_type": "code",
   "execution_count": 11,
   "metadata": {},
   "outputs": [],
   "source": [
    "%px a = np.random.random(4)"
   ]
  },
  {
   "cell_type": "code",
   "execution_count": 12,
   "metadata": {},
   "outputs": [
    {
     "data": {
      "text/plain": [
       "\u001b[0;31mOut[0:2]: \u001b[0m2.0362446557326344"
      ]
     },
     "metadata": {
      "after": [],
      "completed": "2022-11-07T16:07:29.190993Z",
      "data": {},
      "engine_id": 0,
      "engine_uuid": "3a91be36-7e22c32adf62302d2f70b7c9",
      "error": null,
      "execute_input": "a.sum()",
      "execute_result": {
       "data": {
        "text/plain": "2.0362446557326344"
       },
       "execution_count": 2,
       "metadata": {}
      },
      "follow": [],
      "is_broadcast": false,
      "is_coalescing": false,
      "msg_id": "90fef210-f0093f4733c7388a863a1f9b_177",
      "outputs": [],
      "received": "2022-11-07T16:07:29.216747",
      "started": "2022-11-07T16:07:28.994378",
      "status": "ok",
      "stderr": "",
      "stdout": "",
      "submitted": "2022-11-07T16:07:28.963532Z"
     },
     "output_type": "display_data"
    },
    {
     "data": {
      "text/plain": [
       "\u001b[0;31mOut[2:2]: \u001b[0m1.8471508047363203"
      ]
     },
     "metadata": {
      "after": [],
      "completed": "2022-11-07T16:07:29.110259Z",
      "data": {},
      "engine_id": 2,
      "engine_uuid": "3e71f322-ec1979ec048e83333af8fb4e",
      "error": null,
      "execute_input": "a.sum()",
      "execute_result": {
       "data": {
        "text/plain": "1.8471508047363203"
       },
       "execution_count": 2,
       "metadata": {}
      },
      "follow": [],
      "is_broadcast": false,
      "is_coalescing": false,
      "msg_id": "90fef210-f0093f4733c7388a863a1f9b_179",
      "outputs": [],
      "received": "2022-11-07T16:07:29.207012",
      "started": "2022-11-07T16:07:28.994850",
      "status": "ok",
      "stderr": "",
      "stdout": "",
      "submitted": "2022-11-07T16:07:28.964765Z"
     },
     "output_type": "display_data"
    },
    {
     "data": {
      "text/plain": [
       "\u001b[0;31mOut[7:2]: \u001b[0m1.6396417166100914"
      ]
     },
     "metadata": {
      "after": [],
      "completed": "2022-11-07T16:07:29.192843Z",
      "data": {},
      "engine_id": 7,
      "engine_uuid": "bda3b23f-9b20d17f79beae37e63b58fe",
      "error": null,
      "execute_input": "a.sum()",
      "execute_result": {
       "data": {
        "text/plain": "1.6396417166100914"
       },
       "execution_count": 2,
       "metadata": {}
      },
      "follow": [],
      "is_broadcast": false,
      "is_coalescing": false,
      "msg_id": "90fef210-f0093f4733c7388a863a1f9b_184",
      "outputs": [],
      "received": "2022-11-07T16:07:29.218368",
      "started": "2022-11-07T16:07:29.012050",
      "status": "ok",
      "stderr": "",
      "stdout": "",
      "submitted": "2022-11-07T16:07:28.966316Z"
     },
     "output_type": "display_data"
    },
    {
     "data": {
      "text/plain": [
       "\u001b[0;31mOut[5:2]: \u001b[0m1.778058458411706"
      ]
     },
     "metadata": {
      "after": [],
      "completed": "2022-11-07T16:07:29.192984Z",
      "data": {},
      "engine_id": 5,
      "engine_uuid": "5cf57f66-747507b4ff25e9e7e54646a7",
      "error": null,
      "execute_input": "a.sum()",
      "execute_result": {
       "data": {
        "text/plain": "1.778058458411706"
       },
       "execution_count": 2,
       "metadata": {}
      },
      "follow": [],
      "is_broadcast": false,
      "is_coalescing": false,
      "msg_id": "90fef210-f0093f4733c7388a863a1f9b_182",
      "outputs": [],
      "received": "2022-11-07T16:07:29.219889",
      "started": "2022-11-07T16:07:29.012105",
      "status": "ok",
      "stderr": "",
      "stdout": "",
      "submitted": "2022-11-07T16:07:28.965703Z"
     },
     "output_type": "display_data"
    },
    {
     "data": {
      "text/plain": [
       "\u001b[0;31mOut[12:2]: \u001b[0m1.7256427838055366"
      ]
     },
     "metadata": {
      "after": [],
      "completed": "2022-11-07T16:07:29.195940Z",
      "data": {},
      "engine_id": 12,
      "engine_uuid": "bb85c7f5-c95e81347e1621497c654a19",
      "error": null,
      "execute_input": "a.sum()",
      "execute_result": {
       "data": {
        "text/plain": "1.7256427838055366"
       },
       "execution_count": 2,
       "metadata": {}
      },
      "follow": [],
      "is_broadcast": false,
      "is_coalescing": false,
      "msg_id": "90fef210-f0093f4733c7388a863a1f9b_189",
      "outputs": [],
      "received": "2022-11-07T16:07:29.221189",
      "started": "2022-11-07T16:07:29.013542",
      "status": "ok",
      "stderr": "",
      "stdout": "",
      "submitted": "2022-11-07T16:07:28.967908Z"
     },
     "output_type": "display_data"
    },
    {
     "data": {
      "text/plain": [
       "\u001b[0;31mOut[8:2]: \u001b[0m1.7697715964586247"
      ]
     },
     "metadata": {
      "after": [],
      "completed": "2022-11-07T16:07:29.198471Z",
      "data": {},
      "engine_id": 8,
      "engine_uuid": "576abd5c-1619b5fbc3f777f18b3727d6",
      "error": null,
      "execute_input": "a.sum()",
      "execute_result": {
       "data": {
        "text/plain": "1.7697715964586247"
       },
       "execution_count": 2,
       "metadata": {}
      },
      "follow": [],
      "is_broadcast": false,
      "is_coalescing": false,
      "msg_id": "90fef210-f0093f4733c7388a863a1f9b_185",
      "outputs": [],
      "received": "2022-11-07T16:07:29.222581",
      "started": "2022-11-07T16:07:29.014600",
      "status": "ok",
      "stderr": "",
      "stdout": "",
      "submitted": "2022-11-07T16:07:28.966601Z"
     },
     "output_type": "display_data"
    },
    {
     "data": {
      "text/plain": [
       "\u001b[0;31mOut[11:2]: \u001b[0m2.671598170429154"
      ]
     },
     "metadata": {
      "after": [],
      "completed": "2022-11-07T16:07:29.199711Z",
      "data": {},
      "engine_id": 11,
      "engine_uuid": "4ac8b6e9-e5dd044381d012ccb5ab3791",
      "error": null,
      "execute_input": "a.sum()",
      "execute_result": {
       "data": {
        "text/plain": "2.671598170429154"
       },
       "execution_count": 2,
       "metadata": {}
      },
      "follow": [],
      "is_broadcast": false,
      "is_coalescing": false,
      "msg_id": "90fef210-f0093f4733c7388a863a1f9b_188",
      "outputs": [],
      "received": "2022-11-07T16:07:29.224886",
      "started": "2022-11-07T16:07:29.015338",
      "status": "ok",
      "stderr": "",
      "stdout": "",
      "submitted": "2022-11-07T16:07:28.967624Z"
     },
     "output_type": "display_data"
    },
    {
     "data": {
      "text/plain": [
       "\u001b[0;31mOut[13:2]: \u001b[0m1.6142644906354353"
      ]
     },
     "metadata": {
      "after": [],
      "completed": "2022-11-07T16:07:29.199301Z",
      "data": {},
      "engine_id": 13,
      "engine_uuid": "9fc709c5-ea2bf5a5e62c66ab20dd68bd",
      "error": null,
      "execute_input": "a.sum()",
      "execute_result": {
       "data": {
        "text/plain": "1.6142644906354353"
       },
       "execution_count": 2,
       "metadata": {}
      },
      "follow": [],
      "is_broadcast": false,
      "is_coalescing": false,
      "msg_id": "90fef210-f0093f4733c7388a863a1f9b_190",
      "outputs": [],
      "received": "2022-11-07T16:07:29.223705",
      "started": "2022-11-07T16:07:29.014353",
      "status": "ok",
      "stderr": "",
      "stdout": "",
      "submitted": "2022-11-07T16:07:28.968204Z"
     },
     "output_type": "display_data"
    },
    {
     "data": {
      "text/plain": [
       "\u001b[0;31mOut[9:2]: \u001b[0m1.4087110400140266"
      ]
     },
     "metadata": {
      "after": [],
      "completed": "2022-11-07T16:07:29.199530Z",
      "data": {},
      "engine_id": 9,
      "engine_uuid": "ce31fc19-09afd9de86940e252770a7a5",
      "error": null,
      "execute_input": "a.sum()",
      "execute_result": {
       "data": {
        "text/plain": "1.4087110400140266"
       },
       "execution_count": 2,
       "metadata": {}
      },
      "follow": [],
      "is_broadcast": false,
      "is_coalescing": false,
      "msg_id": "90fef210-f0093f4733c7388a863a1f9b_186",
      "outputs": [],
      "received": "2022-11-07T16:07:29.225973",
      "started": "2022-11-07T16:07:29.014130",
      "status": "ok",
      "stderr": "",
      "stdout": "",
      "submitted": "2022-11-07T16:07:28.966982Z"
     },
     "output_type": "display_data"
    },
    {
     "data": {
      "text/plain": [
       "\u001b[0;31mOut[4:2]: \u001b[0m1.4673172363168012"
      ]
     },
     "metadata": {
      "after": [],
      "completed": "2022-11-07T16:07:29.202034Z",
      "data": {},
      "engine_id": 4,
      "engine_uuid": "f9d19f46-80c77dd20126389c7a59da52",
      "error": null,
      "execute_input": "a.sum()",
      "execute_result": {
       "data": {
        "text/plain": "1.4673172363168012"
       },
       "execution_count": 2,
       "metadata": {}
      },
      "follow": [],
      "is_broadcast": false,
      "is_coalescing": false,
      "msg_id": "90fef210-f0093f4733c7388a863a1f9b_181",
      "outputs": [],
      "received": "2022-11-07T16:07:29.228153",
      "started": "2022-11-07T16:07:28.998165",
      "status": "ok",
      "stderr": "",
      "stdout": "",
      "submitted": "2022-11-07T16:07:28.965414Z"
     },
     "output_type": "display_data"
    },
    {
     "data": {
      "text/plain": [
       "\u001b[0;31mOut[6:2]: \u001b[0m1.9014729244444033"
      ]
     },
     "metadata": {
      "after": [],
      "completed": "2022-11-07T16:07:29.202361Z",
      "data": {},
      "engine_id": 6,
      "engine_uuid": "a0fabd4d-8377bd47390765f8dc057d21",
      "error": null,
      "execute_input": "a.sum()",
      "execute_result": {
       "data": {
        "text/plain": "1.9014729244444033"
       },
       "execution_count": 2,
       "metadata": {}
      },
      "follow": [],
      "is_broadcast": false,
      "is_coalescing": false,
      "msg_id": "90fef210-f0093f4733c7388a863a1f9b_183",
      "outputs": [],
      "received": "2022-11-07T16:07:29.227056",
      "started": "2022-11-07T16:07:29.012704",
      "status": "ok",
      "stderr": "",
      "stdout": "",
      "submitted": "2022-11-07T16:07:28.965990Z"
     },
     "output_type": "display_data"
    },
    {
     "data": {
      "text/plain": [
       "\u001b[0;31mOut[10:2]: \u001b[0m0.4350018523325364"
      ]
     },
     "metadata": {
      "after": [],
      "completed": "2022-11-07T16:07:29.203822Z",
      "data": {},
      "engine_id": 10,
      "engine_uuid": "721af5b0-c698d9c3aa3fb2f737b4c805",
      "error": null,
      "execute_input": "a.sum()",
      "execute_result": {
       "data": {
        "text/plain": "0.4350018523325364"
       },
       "execution_count": 2,
       "metadata": {}
      },
      "follow": [],
      "is_broadcast": false,
      "is_coalescing": false,
      "msg_id": "90fef210-f0093f4733c7388a863a1f9b_187",
      "outputs": [],
      "received": "2022-11-07T16:07:29.294837",
      "started": "2022-11-07T16:07:29.014386",
      "status": "ok",
      "stderr": "",
      "stdout": "",
      "submitted": "2022-11-07T16:07:28.967323Z"
     },
     "output_type": "display_data"
    },
    {
     "data": {
      "text/plain": [
       "\u001b[0;31mOut[1:2]: \u001b[0m2.647963514660554"
      ]
     },
     "metadata": {
      "after": [],
      "completed": "2022-11-07T16:07:29.204004Z",
      "data": {},
      "engine_id": 1,
      "engine_uuid": "18ef0b02-cbc84fd7d063da9e490fa75a",
      "error": null,
      "execute_input": "a.sum()",
      "execute_result": {
       "data": {
        "text/plain": "2.647963514660554"
       },
       "execution_count": 2,
       "metadata": {}
      },
      "follow": [],
      "is_broadcast": false,
      "is_coalescing": false,
      "msg_id": "90fef210-f0093f4733c7388a863a1f9b_178",
      "outputs": [],
      "received": "2022-11-07T16:07:29.293557",
      "started": "2022-11-07T16:07:28.995055",
      "status": "ok",
      "stderr": "",
      "stdout": "",
      "submitted": "2022-11-07T16:07:28.963932Z"
     },
     "output_type": "display_data"
    },
    {
     "data": {
      "text/plain": [
       "\u001b[0;31mOut[15:2]: \u001b[0m1.478559525857312"
      ]
     },
     "metadata": {
      "after": [],
      "completed": "2022-11-07T16:07:29.218566Z",
      "data": {},
      "engine_id": 15,
      "engine_uuid": "d7f9c6fc-3c0f2d24d54784b0dc374425",
      "error": null,
      "execute_input": "a.sum()",
      "execute_result": {
       "data": {
        "text/plain": "1.478559525857312"
       },
       "execution_count": 2,
       "metadata": {}
      },
      "follow": [],
      "is_broadcast": false,
      "is_coalescing": false,
      "msg_id": "90fef210-f0093f4733c7388a863a1f9b_192",
      "outputs": [],
      "received": "2022-11-07T16:07:29.295937",
      "started": "2022-11-07T16:07:29.016166",
      "status": "ok",
      "stderr": "",
      "stdout": "",
      "submitted": "2022-11-07T16:07:28.968905Z"
     },
     "output_type": "display_data"
    },
    {
     "data": {
      "text/plain": [
       "\u001b[0;31mOut[14:2]: \u001b[0m1.6551343272863592"
      ]
     },
     "metadata": {
      "after": [],
      "completed": "2022-11-07T16:07:29.220332Z",
      "data": {},
      "engine_id": 14,
      "engine_uuid": "1e2b4631-063bb5cb20aeb91ab872c1ad",
      "error": null,
      "execute_input": "a.sum()",
      "execute_result": {
       "data": {
        "text/plain": "1.6551343272863592"
       },
       "execution_count": 2,
       "metadata": {}
      },
      "follow": [],
      "is_broadcast": false,
      "is_coalescing": false,
      "msg_id": "90fef210-f0093f4733c7388a863a1f9b_191",
      "outputs": [],
      "received": "2022-11-07T16:07:29.297037",
      "started": "2022-11-07T16:07:29.092510",
      "status": "ok",
      "stderr": "",
      "stdout": "",
      "submitted": "2022-11-07T16:07:28.968532Z"
     },
     "output_type": "display_data"
    },
    {
     "data": {
      "text/plain": [
       "\u001b[0;31mOut[3:2]: \u001b[0m2.44962289944247"
      ]
     },
     "metadata": {
      "after": [],
      "completed": "2022-11-07T16:07:29.292996Z",
      "data": {},
      "engine_id": 3,
      "engine_uuid": "7a8ba527-7d02c8603199444ce9c650b6",
      "error": null,
      "execute_input": "a.sum()",
      "execute_result": {
       "data": {
        "text/plain": "2.44962289944247"
       },
       "execution_count": 2,
       "metadata": {}
      },
      "follow": [],
      "is_broadcast": false,
      "is_coalescing": false,
      "msg_id": "90fef210-f0093f4733c7388a863a1f9b_180",
      "outputs": [],
      "received": "2022-11-07T16:07:29.298119",
      "started": "2022-11-07T16:07:28.997084",
      "status": "ok",
      "stderr": "",
      "stdout": "",
      "submitted": "2022-11-07T16:07:28.965049Z"
     },
     "output_type": "display_data"
    }
   ],
   "source": [
    "%px a.sum()"
   ]
  },
  {
   "cell_type": "code",
   "execution_count": 14,
   "metadata": {},
   "outputs": [],
   "source": [
    "import numpy as np\n",
    "a = np.random.random(4)"
   ]
  },
  {
   "cell_type": "code",
   "execution_count": 16,
   "metadata": {},
   "outputs": [
    {
     "data": {
      "text/plain": [
       "[stdout:0] [0.22354866 0.80681176 0.96847607 0.03740816]\n"
      ]
     },
     "metadata": {},
     "output_type": "display_data"
    },
    {
     "data": {
      "text/plain": [
       "[stdout:1] [0.38070512 0.83089734 0.60472086 0.8316402 ]\n"
      ]
     },
     "metadata": {},
     "output_type": "display_data"
    },
    {
     "data": {
      "text/plain": [
       "[stdout:3] [0.50042788 0.60904967 0.69830824 0.6418371 ]\n"
      ]
     },
     "metadata": {},
     "output_type": "display_data"
    },
    {
     "data": {
      "text/plain": [
       "[stdout:2] [0.08200129 0.92907465 0.15192682 0.68414805]\n"
      ]
     },
     "metadata": {},
     "output_type": "display_data"
    },
    {
     "data": {
      "text/plain": [
       "[stdout:5] [0.16092716 0.09382458 0.77438712 0.74891961]\n"
      ]
     },
     "metadata": {},
     "output_type": "display_data"
    },
    {
     "data": {
      "text/plain": [
       "[stdout:7] [0.08693395 0.57172296 0.17428174 0.80670307]\n"
      ]
     },
     "metadata": {},
     "output_type": "display_data"
    },
    {
     "data": {
      "text/plain": [
       "[stdout:4] [0.45147523 0.5822631  0.00870712 0.42487178]\n"
      ]
     },
     "metadata": {},
     "output_type": "display_data"
    },
    {
     "data": {
      "text/plain": [
       "[stdout:6] [0.55640734 0.41437381 0.50967216 0.42101961]\n"
      ]
     },
     "metadata": {},
     "output_type": "display_data"
    },
    {
     "data": {
      "text/plain": [
       "[stdout:14] [0.94476072 0.28373404 0.35331642 0.07332315]\n"
      ]
     },
     "metadata": {},
     "output_type": "display_data"
    },
    {
     "data": {
      "text/plain": [
       "[stdout:8] [0.6907628  0.29988873 0.23988987 0.5392302 ]\n"
      ]
     },
     "metadata": {},
     "output_type": "display_data"
    },
    {
     "data": {
      "text/plain": [
       "[stdout:10] [0.22094156 0.1091395  0.0252725  0.07964829]\n"
      ]
     },
     "metadata": {},
     "output_type": "display_data"
    },
    {
     "data": {
      "text/plain": [
       "[stdout:9] [0.2616899  0.29438989 0.83074847 0.02188278]\n"
      ]
     },
     "metadata": {},
     "output_type": "display_data"
    },
    {
     "data": {
      "text/plain": [
       "[stdout:12] [0.05472815 0.65165895 0.3723624  0.64689329]\n"
      ]
     },
     "metadata": {},
     "output_type": "display_data"
    },
    {
     "data": {
      "text/plain": [
       "[stdout:11] [0.50738643 0.78621293 0.81967169 0.55832712]\n"
      ]
     },
     "metadata": {},
     "output_type": "display_data"
    },
    {
     "data": {
      "text/plain": [
       "[stdout:15] [0.27414393 0.44905122 0.45297488 0.30238948]\n"
      ]
     },
     "metadata": {},
     "output_type": "display_data"
    },
    {
     "data": {
      "text/plain": [
       "[stdout:13] [0.47451754 0.11712145 0.34772487 0.67490063]\n"
      ]
     },
     "metadata": {},
     "output_type": "display_data"
    }
   ],
   "source": [
    "%px print(a)"
   ]
  },
  {
   "cell_type": "code",
   "execution_count": 17,
   "metadata": {},
   "outputs": [],
   "source": [
    "%px os.chdir(\"/home/idies/workspace/Temporary/s.hossain18/scratch/data-extract/data\")"
   ]
  },
  {
   "cell_type": "code",
   "execution_count": 18,
   "metadata": {},
   "outputs": [],
   "source": [
    "%px extraction_settings = ComprehensiveFCParameters()"
   ]
  },
  {
   "cell_type": "code",
   "execution_count": 19,
   "metadata": {},
   "outputs": [],
   "source": [
    "%px extension_1 = 'tbl'\n",
    "%px import_filenames = [i for i in glob.glob('*.{}'.format(extension_1))]\n",
    "%px df = pd.DataFrame()"
   ]
  },
  {
   "cell_type": "code",
   "execution_count": 25,
   "metadata": {},
   "outputs": [
    {
     "name": "stdout",
     "output_type": "stream",
     "text": [
      "%autopx enabled\n"
     ]
    },
    {
     "ename": "NameError",
     "evalue": "name 'glob' is not defined",
     "output_type": "error",
     "traceback": [
      "\u001b[0;31m\u001b[0m",
      "\u001b[0;31mNameError\u001b[0mTraceback (most recent call last)",
      "\u001b[0;32m<ipython-input-25-bdd814b1cc31>\u001b[0m in \u001b[0;36m<module>\u001b[0;34m\u001b[0m\n\u001b[1;32m      1\u001b[0m \u001b[0mget_ipython\u001b[0m\u001b[0;34m(\u001b[0m\u001b[0;34m)\u001b[0m\u001b[0;34m.\u001b[0m\u001b[0mrun_line_magic\u001b[0m\u001b[0;34m(\u001b[0m\u001b[0;34m'autopx'\u001b[0m\u001b[0;34m,\u001b[0m \u001b[0;34m''\u001b[0m\u001b[0;34m)\u001b[0m\u001b[0;34m\u001b[0m\u001b[0;34m\u001b[0m\u001b[0m\n\u001b[0;32m----> 2\u001b[0;31m \u001b[0mimport_filenames\u001b[0m \u001b[0;34m=\u001b[0m \u001b[0;34m[\u001b[0m\u001b[0mi\u001b[0m \u001b[0;32mfor\u001b[0m \u001b[0mi\u001b[0m \u001b[0;32min\u001b[0m \u001b[0mglob\u001b[0m\u001b[0;34m.\u001b[0m\u001b[0mglob\u001b[0m\u001b[0;34m(\u001b[0m\u001b[0;34m'*.{}'\u001b[0m\u001b[0;34m.\u001b[0m\u001b[0mformat\u001b[0m\u001b[0;34m(\u001b[0m\u001b[0mextension_1\u001b[0m\u001b[0;34m)\u001b[0m\u001b[0;34m)\u001b[0m\u001b[0;34m]\u001b[0m\u001b[0;34m\u001b[0m\u001b[0;34m\u001b[0m\u001b[0m\n\u001b[0m\u001b[1;32m      3\u001b[0m \u001b[0;32mfor\u001b[0m \u001b[0mf\u001b[0m \u001b[0;32min\u001b[0m \u001b[0mimport_filenames\u001b[0m\u001b[0;34m:\u001b[0m\u001b[0;34m\u001b[0m\u001b[0;34m\u001b[0m\u001b[0m\n\u001b[1;32m      4\u001b[0m     \u001b[0mread\u001b[0m \u001b[0;34m=\u001b[0m \u001b[0mTable\u001b[0m\u001b[0;34m.\u001b[0m\u001b[0mread\u001b[0m\u001b[0;34m(\u001b[0m\u001b[0mf\u001b[0m\u001b[0;34m,\u001b[0m \u001b[0mformat\u001b[0m\u001b[0;34m=\u001b[0m\u001b[0;34m'ascii.ipac'\u001b[0m\u001b[0;34m)\u001b[0m\u001b[0;34m\u001b[0m\u001b[0;34m\u001b[0m\u001b[0m\n\u001b[1;32m      5\u001b[0m     \u001b[0mdata\u001b[0m \u001b[0;34m=\u001b[0m \u001b[0mread\u001b[0m\u001b[0;34m.\u001b[0m\u001b[0mto_pandas\u001b[0m\u001b[0;34m(\u001b[0m\u001b[0;34m)\u001b[0m\u001b[0;34m\u001b[0m\u001b[0;34m\u001b[0m\u001b[0m\n",
      "\u001b[0;31mNameError\u001b[0m: name 'glob' is not defined"
     ]
    }
   ],
   "source": [
    "%autopx\n",
    "import_filenames = [i for i in glob.glob('*.{}'.format(extension_1))]\n",
    "for f in import_filenames:\n",
    "    read = Table.read(f, format='ascii.ipac')\n",
    "    data = read.to_pandas()\n",
    "    # over four threads on the local machine\n",
    "    Distributor = MultiprocessingDistributor(n_workers=32,disable_progressbar=False,progressbar_title=\"Feature Extraction\")\n",
    "\n",
    "    ts_data = extract_features(data, column_id='set', column_sort='TIME', default_fc_parameters=extraction_settings,impute_function=impute,distributor=Distributor,chunksize=1)\n",
    "    #df = df.append(ts_data)\n",
    "    df = pd.concat([ts_data,df],ignore_index=True, sort=False)\n",
    "    del ts_data"
   ]
  },
  {
   "cell_type": "code",
   "execution_count": null,
   "metadata": {},
   "outputs": [],
   "source": []
  }
 ],
 "metadata": {
  "kernelspec": {
   "display_name": "Python 3.8 (py38)",
   "language": "python",
   "name": "py38"
  },
  "language_info": {
   "codemirror_mode": {
    "name": "ipython",
    "version": 3
   },
   "file_extension": ".py",
   "mimetype": "text/x-python",
   "name": "python",
   "nbconvert_exporter": "python",
   "pygments_lexer": "ipython3",
   "version": "3.8.5"
  }
 },
 "nbformat": 4,
 "nbformat_minor": 4
}

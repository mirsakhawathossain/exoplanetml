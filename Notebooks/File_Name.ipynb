{
 "cells": [
  {
   "cell_type": "code",
   "execution_count": 29,
   "id": "bc004e0d-c2cf-4a47-b8dd-3c34180b7793",
   "metadata": {},
   "outputs": [],
   "source": [
    "# https://docs.astropy.org/en/stable/table/pandas.html"
   ]
  },
  {
   "cell_type": "code",
   "execution_count": 22,
   "id": "6de9e0db-8ed8-484e-8b61-70fbbc9ae390",
   "metadata": {},
   "outputs": [
    {
     "data": {
      "text/html": [
       "<div>\n",
       "<style scoped>\n",
       "    .dataframe tbody tr th:only-of-type {\n",
       "        vertical-align: middle;\n",
       "    }\n",
       "\n",
       "    .dataframe tbody tr th {\n",
       "        vertical-align: top;\n",
       "    }\n",
       "\n",
       "    .dataframe thead th {\n",
       "        text-align: right;\n",
       "    }\n",
       "</style>\n",
       "<table border=\"1\" class=\"dataframe\">\n",
       "  <thead>\n",
       "    <tr style=\"text-align: right;\">\n",
       "      <th></th>\n",
       "      <th>set</th>\n",
       "      <th>TIME</th>\n",
       "      <th>PDCSAP_FLUX</th>\n",
       "    </tr>\n",
       "  </thead>\n",
       "  <tbody>\n",
       "    <tr>\n",
       "      <th>count</th>\n",
       "      <td>181325.000000</td>\n",
       "      <td>181325.000000</td>\n",
       "      <td>181325.000000</td>\n",
       "    </tr>\n",
       "    <tr>\n",
       "      <th>mean</th>\n",
       "      <td>7.480722</td>\n",
       "      <td>839.752442</td>\n",
       "      <td>24944.236802</td>\n",
       "    </tr>\n",
       "    <tr>\n",
       "      <th>std</th>\n",
       "      <td>4.351878</td>\n",
       "      <td>422.387648</td>\n",
       "      <td>7282.309489</td>\n",
       "    </tr>\n",
       "    <tr>\n",
       "      <th>min</th>\n",
       "      <td>0.000000</td>\n",
       "      <td>131.511799</td>\n",
       "      <td>13976.136000</td>\n",
       "    </tr>\n",
       "    <tr>\n",
       "      <th>25%</th>\n",
       "      <td>4.000000</td>\n",
       "      <td>467.806569</td>\n",
       "      <td>15938.811000</td>\n",
       "    </tr>\n",
       "    <tr>\n",
       "      <th>50%</th>\n",
       "      <td>8.000000</td>\n",
       "      <td>841.680209</td>\n",
       "      <td>27518.137000</td>\n",
       "    </tr>\n",
       "    <tr>\n",
       "      <th>75%</th>\n",
       "      <td>11.000000</td>\n",
       "      <td>1206.317676</td>\n",
       "      <td>32038.025000</td>\n",
       "    </tr>\n",
       "    <tr>\n",
       "      <th>max</th>\n",
       "      <td>16.000000</td>\n",
       "      <td>1591.001012</td>\n",
       "      <td>33350.926000</td>\n",
       "    </tr>\n",
       "  </tbody>\n",
       "</table>\n",
       "</div>"
      ],
      "text/plain": [
       "                 set           TIME    PDCSAP_FLUX\n",
       "count  181325.000000  181325.000000  181325.000000\n",
       "mean        7.480722     839.752442   24944.236802\n",
       "std         4.351878     422.387648    7282.309489\n",
       "min         0.000000     131.511799   13976.136000\n",
       "25%         4.000000     467.806569   15938.811000\n",
       "50%         8.000000     841.680209   27518.137000\n",
       "75%        11.000000    1206.317676   32038.025000\n",
       "max        16.000000    1591.001012   33350.926000"
      ]
     },
     "execution_count": 22,
     "metadata": {},
     "output_type": "execute_result"
    }
   ],
   "source": [
    "# Correct code\n",
    "import os\n",
    "import glob\n",
    "from astropy.table import Table\n",
    "import pandas as pd\n",
    "# Set the working directory\n",
    "os.chdir(\"/home/jovyan/test/\")\n",
    "# Find all files with a certain extension\n",
    "extension_1 = 'tbl'\n",
    "import_filenames = [i for i in glob.glob('*.{}'.format(extension_1))]\n",
    "df = pd.DataFrame()\n",
    "for f in import_filenames:\n",
    "    read = Table.read(f, format='ascii.ipac')\n",
    "    read.to_pandas()\n",
    "    df = df.append(read.to_pandas())\n",
    "df.describe()"
   ]
  },
  {
   "cell_type": "code",
   "execution_count": 20,
   "id": "ca7a380e-3222-414c-8005-9aadf7611fa9",
   "metadata": {},
   "outputs": [
    {
     "data": {
      "text/plain": [
       "set            0\n",
       "TIME           0\n",
       "PDCSAP_FLUX    0\n",
       "dtype: int64"
      ]
     },
     "execution_count": 20,
     "metadata": {},
     "output_type": "execute_result"
    }
   ],
   "source": [
    "df.isnull().sum()"
   ]
  },
  {
   "cell_type": "code",
   "execution_count": 21,
   "id": "90b83bd2-fc0a-4f84-b1e9-a49342684c9e",
   "metadata": {},
   "outputs": [
    {
     "data": {
      "text/plain": [
       "0        False\n",
       "1        False\n",
       "2        False\n",
       "3        False\n",
       "4        False\n",
       "         ...  \n",
       "51726    False\n",
       "51727    False\n",
       "51728    False\n",
       "51729    False\n",
       "51730    False\n",
       "Length: 181325, dtype: bool"
      ]
     },
     "execution_count": 21,
     "metadata": {},
     "output_type": "execute_result"
    }
   ],
   "source": [
    "df.duplicated()"
   ]
  },
  {
   "cell_type": "code",
   "execution_count": 23,
   "id": "63fbefcc-1685-4460-a41f-c3b4eb887529",
   "metadata": {},
   "outputs": [
    {
     "data": {
      "text/plain": [
       "0        False\n",
       "1        False\n",
       "2        False\n",
       "3        False\n",
       "4        False\n",
       "         ...  \n",
       "51726    False\n",
       "51727    False\n",
       "51728    False\n",
       "51729    False\n",
       "51730    False\n",
       "Length: 181325, dtype: bool"
      ]
     },
     "execution_count": 23,
     "metadata": {},
     "output_type": "execute_result"
    }
   ],
   "source": [
    "df.duplicated()"
   ]
  },
  {
   "cell_type": "code",
   "execution_count": 27,
   "id": "72a193bf-0ebd-405f-b9e0-d2900bea305f",
   "metadata": {},
   "outputs": [
    {
     "data": {
      "text/html": [
       "<div>\n",
       "<style scoped>\n",
       "    .dataframe tbody tr th:only-of-type {\n",
       "        vertical-align: middle;\n",
       "    }\n",
       "\n",
       "    .dataframe tbody tr th {\n",
       "        vertical-align: top;\n",
       "    }\n",
       "\n",
       "    .dataframe thead th {\n",
       "        text-align: right;\n",
       "    }\n",
       "</style>\n",
       "<table border=\"1\" class=\"dataframe\">\n",
       "  <thead>\n",
       "    <tr style=\"text-align: right;\">\n",
       "      <th></th>\n",
       "      <th>set</th>\n",
       "      <th>TIME</th>\n",
       "      <th>PDCSAP_FLUX</th>\n",
       "    </tr>\n",
       "  </thead>\n",
       "  <tbody>\n",
       "    <tr>\n",
       "      <th>0</th>\n",
       "      <td>0</td>\n",
       "      <td>131.511799</td>\n",
       "      <td>33039.680</td>\n",
       "    </tr>\n",
       "    <tr>\n",
       "      <th>1</th>\n",
       "      <td>0</td>\n",
       "      <td>131.532234</td>\n",
       "      <td>33039.121</td>\n",
       "    </tr>\n",
       "    <tr>\n",
       "      <th>2</th>\n",
       "      <td>0</td>\n",
       "      <td>131.552669</td>\n",
       "      <td>33023.484</td>\n",
       "    </tr>\n",
       "    <tr>\n",
       "      <th>3</th>\n",
       "      <td>0</td>\n",
       "      <td>131.573103</td>\n",
       "      <td>33007.301</td>\n",
       "    </tr>\n",
       "    <tr>\n",
       "      <th>4</th>\n",
       "      <td>0</td>\n",
       "      <td>131.593537</td>\n",
       "      <td>33016.062</td>\n",
       "    </tr>\n",
       "    <tr>\n",
       "      <th>...</th>\n",
       "      <td>...</td>\n",
       "      <td>...</td>\n",
       "      <td>...</td>\n",
       "    </tr>\n",
       "    <tr>\n",
       "      <th>64792</th>\n",
       "      <td>16</td>\n",
       "      <td>1590.919125</td>\n",
       "      <td>32011.113</td>\n",
       "    </tr>\n",
       "    <tr>\n",
       "      <th>64793</th>\n",
       "      <td>16</td>\n",
       "      <td>1590.939559</td>\n",
       "      <td>32007.348</td>\n",
       "    </tr>\n",
       "    <tr>\n",
       "      <th>64794</th>\n",
       "      <td>16</td>\n",
       "      <td>1590.959994</td>\n",
       "      <td>32006.482</td>\n",
       "    </tr>\n",
       "    <tr>\n",
       "      <th>64795</th>\n",
       "      <td>16</td>\n",
       "      <td>1590.980428</td>\n",
       "      <td>32003.469</td>\n",
       "    </tr>\n",
       "    <tr>\n",
       "      <th>64796</th>\n",
       "      <td>16</td>\n",
       "      <td>1591.000863</td>\n",
       "      <td>32003.426</td>\n",
       "    </tr>\n",
       "  </tbody>\n",
       "</table>\n",
       "<p>64797 rows × 3 columns</p>\n",
       "</div>"
      ],
      "text/plain": [
       "       set         TIME  PDCSAP_FLUX\n",
       "0        0   131.511799    33039.680\n",
       "1        0   131.532234    33039.121\n",
       "2        0   131.552669    33023.484\n",
       "3        0   131.573103    33007.301\n",
       "4        0   131.593537    33016.062\n",
       "...    ...          ...          ...\n",
       "64792   16  1590.919125    32011.113\n",
       "64793   16  1590.939559    32007.348\n",
       "64794   16  1590.959994    32006.482\n",
       "64795   16  1590.980428    32003.469\n",
       "64796   16  1591.000863    32003.426\n",
       "\n",
       "[64797 rows x 3 columns]"
      ]
     },
     "execution_count": 27,
     "metadata": {},
     "output_type": "execute_result"
    }
   ],
   "source": [
    "from astropy.table import Table\n",
    "t = Table.read('Kepler-1039.tbl', format='ascii.ipac')\n",
    "data = t.to_pandas()\n",
    "data"
   ]
  },
  {
   "cell_type": "code",
   "execution_count": 28,
   "id": "99711862-7d74-477f-9b2f-81091d7aec24",
   "metadata": {},
   "outputs": [
    {
     "data": {
      "text/plain": [
       "181325"
      ]
     },
     "execution_count": 28,
     "metadata": {},
     "output_type": "execute_result"
    }
   ],
   "source": [
    "51731+64797+64797 "
   ]
  },
  {
   "cell_type": "code",
   "execution_count": null,
   "id": "25416d35-867f-4d80-ba5e-745e86bc8fe1",
   "metadata": {},
   "outputs": [],
   "source": [
    "# Correct code\n",
    "import os\n",
    "import glob\n",
    "from astropy.table import Table\n",
    "import pandas as pd\n",
    "import from tsfresh import extract_features\n",
    "# Set the working directory\n",
    "os.chdir(\"/home/jovyan/test/\")\n",
    "# Find all files with a certain extension\n",
    "extension_1 = 'tbl'\n",
    "import_filenames = [i for i in glob.glob('*.{}'.format(extension_1))]\n",
    "df = pd.DataFrame()\n",
    "for f in import_filenames:\n",
    "    read = Table.read(f, format='ascii.ipac')\n",
    "    data = read.to_pandas()\n",
    "    \n",
    "    df = df.append(read.to_pandas())\n",
    "df.describe()"
   ]
  },
  {
   "cell_type": "code",
   "execution_count": null,
   "id": "dce4de0f-d0ee-45a9-bada-e15590889b6f",
   "metadata": {},
   "outputs": [
    {
     "name": "stderr",
     "output_type": "stream",
     "text": [
      "Feature Extraction:  43%|████▎     | 6/14 [02:30<02:18, 17.36s/it]"
     ]
    }
   ],
   "source": [
    "from tsfresh import extract_features\n",
    "from tsfresh.utilities.dataframe_functions import impute\n",
    "from tsfresh.feature_extraction import ComprehensiveFCParameters\n",
    "from astropy.table import Table\n",
    "t = Table.read('test/Kepler-1037.tbl', format='ascii.ipac')\n",
    "df = t.to_pandas()\n",
    "\n",
    "extraction_settings = ComprehensiveFCParameters()\n",
    "\n",
    "X = extract_features(df, column_id='set', column_sort='TIME',\n",
    "                     default_fc_parameters=extraction_settings,\n",
    "                     # we impute = remove all NaN features automatically\n",
    "                     impute_function=impute)"
   ]
  },
  {
   "cell_type": "code",
   "execution_count": null,
   "id": "fc19ce0e-da4a-49f8-bfb7-3fd4e8f266b8",
   "metadata": {},
   "outputs": [],
   "source": []
  },
  {
   "cell_type": "code",
   "execution_count": null,
   "id": "2f793d4a-eb11-4063-a82f-8e692243db18",
   "metadata": {},
   "outputs": [
    {
     "name": "stderr",
     "output_type": "stream",
     "text": [
      "Feature Extraction:   6%|▌         | 1/17 [00:21<05:48, 21.81s/it]"
     ]
    }
   ],
   "source": [
    "# Correct code\n",
    "from tsfresh import extract_features\n",
    "from tsfresh.utilities.dataframe_functions import impute\n",
    "from tsfresh.feature_extraction import ComprehensiveFCParameters\n",
    "import os\n",
    "import glob\n",
    "from astropy.table import Table\n",
    "import pandas as pd\n",
    "from tsfresh import extract_features\n",
    "# Set the working directory\n",
    "os.chdir(\"/home/jovyan/test/\")\n",
    "# ts fresh modules\n",
    "extraction_settings = ComprehensiveFCParameters()\n",
    "# Find all files with a certain extension\n",
    "extension_1 = 'tbl'\n",
    "import_filenames = [i for i in glob.glob('*.{}'.format(extension_1))]\n",
    "df = pd.DataFrame()\n",
    "for f in import_filenames:\n",
    "    read = Table.read(f, format='ascii.ipac')\n",
    "    data = read.to_pandas()\n",
    "    ts_data = extract_features(data, column_id='set', column_sort='TIME', default_fc_parameters=extraction_settings,impute_function=impute)\n",
    "    df = df.append(ts_data)\n",
    "df.describe()"
   ]
  },
  {
   "cell_type": "code",
   "execution_count": 10,
   "id": "d04e59b4-316d-4aa2-a861-59cac477ebe4",
   "metadata": {},
   "outputs": [],
   "source": [
    "# importing pandas as pd\n",
    "import pandas as pd\n",
    "\n",
    "# list of name, degree, score\n",
    "nme = [\"aparna\", \"pankaj\", \"sudhir\", \"Geeku\"]\n",
    "deg = [\"MBA\", \"BCA\", \"M.Tech\", \"MBA\"]\n",
    "scr = [90, 40, 80, 98]\n",
    "\n",
    "# dictionary of lists\n",
    "dict = {'name': nme, 'degree': deg, 'score': scr}\n",
    "\t\n",
    "df = pd.DataFrame(dict)\n",
    "\n",
    "# saving the dataframe\n",
    "df.to_csv('file1.csv', index=False)\n"
   ]
  },
  {
   "cell_type": "code",
   "execution_count": 11,
   "id": "e368d0ac-eea9-4be5-ac3a-991cd860954b",
   "metadata": {},
   "outputs": [],
   "source": [
    "import pandas as pd\n",
    "data = pd.read_csv('file1.csv')"
   ]
  },
  {
   "cell_type": "code",
   "execution_count": 12,
   "id": "b5564e24-efad-4a2d-b850-714d38c003a2",
   "metadata": {},
   "outputs": [
    {
     "data": {
      "text/html": [
       "<div>\n",
       "<style scoped>\n",
       "    .dataframe tbody tr th:only-of-type {\n",
       "        vertical-align: middle;\n",
       "    }\n",
       "\n",
       "    .dataframe tbody tr th {\n",
       "        vertical-align: top;\n",
       "    }\n",
       "\n",
       "    .dataframe thead th {\n",
       "        text-align: right;\n",
       "    }\n",
       "</style>\n",
       "<table border=\"1\" class=\"dataframe\">\n",
       "  <thead>\n",
       "    <tr style=\"text-align: right;\">\n",
       "      <th></th>\n",
       "      <th>name</th>\n",
       "      <th>degree</th>\n",
       "      <th>score</th>\n",
       "    </tr>\n",
       "  </thead>\n",
       "  <tbody>\n",
       "    <tr>\n",
       "      <th>0</th>\n",
       "      <td>aparna</td>\n",
       "      <td>MBA</td>\n",
       "      <td>90</td>\n",
       "    </tr>\n",
       "    <tr>\n",
       "      <th>1</th>\n",
       "      <td>pankaj</td>\n",
       "      <td>BCA</td>\n",
       "      <td>40</td>\n",
       "    </tr>\n",
       "    <tr>\n",
       "      <th>2</th>\n",
       "      <td>sudhir</td>\n",
       "      <td>M.Tech</td>\n",
       "      <td>80</td>\n",
       "    </tr>\n",
       "    <tr>\n",
       "      <th>3</th>\n",
       "      <td>Geeku</td>\n",
       "      <td>MBA</td>\n",
       "      <td>98</td>\n",
       "    </tr>\n",
       "  </tbody>\n",
       "</table>\n",
       "</div>"
      ],
      "text/plain": [
       "     name  degree  score\n",
       "0  aparna     MBA     90\n",
       "1  pankaj     BCA     40\n",
       "2  sudhir  M.Tech     80\n",
       "3   Geeku     MBA     98"
      ]
     },
     "execution_count": 12,
     "metadata": {},
     "output_type": "execute_result"
    }
   ],
   "source": [
    "data.head()"
   ]
  },
  {
   "cell_type": "code",
   "execution_count": null,
   "id": "ee2d2cf6-b7b0-40aa-a808-c7704b1962b8",
   "metadata": {},
   "outputs": [],
   "source": []
  }
 ],
 "metadata": {
  "kernelspec": {
   "display_name": "Python 3 (ipykernel)",
   "language": "python",
   "name": "python3"
  },
  "language_info": {
   "codemirror_mode": {
    "name": "ipython",
    "version": 3
   },
   "file_extension": ".py",
   "mimetype": "text/x-python",
   "name": "python",
   "nbconvert_exporter": "python",
   "pygments_lexer": "ipython3",
   "version": "3.7.12"
  }
 },
 "nbformat": 4,
 "nbformat_minor": 5
}

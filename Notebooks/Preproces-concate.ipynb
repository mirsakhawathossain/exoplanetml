{
 "cells": [
  {
   "cell_type": "code",
   "execution_count": 1,
   "metadata": {},
   "outputs": [
    {
     "name": "stdout",
     "output_type": "stream",
     "text": [
      "Already up to date.\r\n"
     ]
    }
   ],
   "source": [
    "!cd /home/idies/workspace/Temporary/s.hossain18/scratch/data-extract && git pull"
   ]
  },
  {
   "cell_type": "code",
   "execution_count": 2,
   "metadata": {},
   "outputs": [
    {
     "name": "stdout",
     "output_type": "stream",
     "text": [
      "Collecting tsfresh\n",
      "  Downloading tsfresh-0.19.0-py2.py3-none-any.whl (97 kB)\n",
      "\u001b[K     |████████████████████████████████| 97 kB 1.9 MB/s  eta 0:00:01\n",
      "\u001b[?25hCollecting stumpy>=1.7.2\n",
      "  Downloading stumpy-1.11.1-py3-none-any.whl (136 kB)\n",
      "\u001b[K     |████████████████████████████████| 136 kB 18.7 MB/s eta 0:00:01\n",
      "\u001b[?25hRequirement already satisfied: requests>=2.9.1 in /home/idies/miniconda3/envs/py38/lib/python3.8/site-packages (from tsfresh) (2.24.0)\n",
      "Requirement already satisfied: patsy>=0.4.1 in /home/idies/miniconda3/envs/py38/lib/python3.8/site-packages (from tsfresh) (0.5.1)\n",
      "Requirement already satisfied: scikit-learn>=0.22.0 in /home/idies/miniconda3/envs/py38/lib/python3.8/site-packages (from tsfresh) (0.23.2)\n",
      "Requirement already satisfied: dask[dataframe]>=2.9.0 in /home/idies/miniconda3/envs/py38/lib/python3.8/site-packages (from tsfresh) (2.30.0)\n",
      "Requirement already satisfied: numpy>=1.15.1 in /home/idies/miniconda3/envs/py38/lib/python3.8/site-packages (from tsfresh) (1.19.4)\n",
      "Requirement already satisfied: distributed>=2.11.0 in /home/idies/miniconda3/envs/py38/lib/python3.8/site-packages (from tsfresh) (2.30.1)\n",
      "Collecting statsmodels>=0.13\n",
      "  Downloading statsmodels-0.13.5-cp38-cp38-manylinux_2_17_x86_64.manylinux2014_x86_64.whl (9.9 MB)\n",
      "\u001b[K     |████████████████████████████████| 9.9 MB 22.9 MB/s eta 0:00:01                  | 2.1 MB 22.9 MB/s eta 0:00:01    | 3.2 MB 22.9 MB/s eta 0:00:010:01          | 5.8 MB 22.9 MB/s eta 0:00:01�██████████████   | 9.0 MB 22.9 MB/s eta 0:00:01\n",
      "\u001b[?25hRequirement already satisfied: tqdm>=4.10.0 in /home/idies/miniconda3/envs/py38/lib/python3.8/site-packages (from tsfresh) (4.50.2)\n",
      "Requirement already satisfied: pandas>=0.25.0 in /home/idies/miniconda3/envs/py38/lib/python3.8/site-packages (from tsfresh) (1.1.3)\n",
      "Requirement already satisfied: cloudpickle in /home/idies/miniconda3/envs/py38/lib/python3.8/site-packages (from tsfresh) (1.6.0)\n",
      "Requirement already satisfied: scipy>=1.2.0 in /home/idies/miniconda3/envs/py38/lib/python3.8/site-packages (from tsfresh) (1.6.0)\n",
      "Collecting matrixprofile<2.0.0,>=1.1.10\n",
      "  Downloading matrixprofile-1.1.10-cp38-cp38-manylinux2010_x86_64.whl (1.2 MB)\n",
      "\u001b[K     |████████████████████████████████| 1.2 MB 20.3 MB/s eta 0:00:01\n",
      "\u001b[?25hCollecting numba>=0.54\n",
      "  Downloading numba-0.56.4-cp38-cp38-manylinux2014_x86_64.manylinux_2_17_x86_64.whl (3.5 MB)\n",
      "\u001b[K     |████████████████████████████████| 3.5 MB 19.4 MB/s eta 0:00:01█████▍                        | 808 kB 19.4 MB/s eta 0:00:01�█████████▍           | 2.2 MB 19.4 MB/s eta 0:00:01\n",
      "\u001b[?25hRequirement already satisfied: chardet<4,>=3.0.2 in /home/idies/miniconda3/envs/py38/lib/python3.8/site-packages (from requests>=2.9.1->tsfresh) (3.0.4)\n",
      "Requirement already satisfied: idna<3,>=2.5 in /home/idies/miniconda3/envs/py38/lib/python3.8/site-packages (from requests>=2.9.1->tsfresh) (2.10)\n",
      "Requirement already satisfied: certifi>=2017.4.17 in /home/idies/miniconda3/envs/py38/lib/python3.8/site-packages (from requests>=2.9.1->tsfresh) (2020.12.5)\n",
      "Requirement already satisfied: urllib3!=1.25.0,!=1.25.1,<1.26,>=1.21.1 in /home/idies/miniconda3/envs/py38/lib/python3.8/site-packages (from requests>=2.9.1->tsfresh) (1.24.3)\n",
      "Requirement already satisfied: six in /home/idies/miniconda3/envs/py38/lib/python3.8/site-packages (from patsy>=0.4.1->tsfresh) (1.15.0)\n",
      "Requirement already satisfied: joblib>=0.11 in /home/idies/miniconda3/envs/py38/lib/python3.8/site-packages (from scikit-learn>=0.22.0->tsfresh) (0.17.0)\n",
      "Requirement already satisfied: threadpoolctl>=2.0.0 in /home/idies/miniconda3/envs/py38/lib/python3.8/site-packages (from scikit-learn>=0.22.0->tsfresh) (2.1.0)\n",
      "Requirement already satisfied: pyyaml in /home/idies/miniconda3/envs/py38/lib/python3.8/site-packages (from dask[dataframe]>=2.9.0->tsfresh) (5.3.1)\n",
      "Requirement already satisfied: toolz>=0.8.2; extra == \"dataframe\" in /home/idies/miniconda3/envs/py38/lib/python3.8/site-packages (from dask[dataframe]>=2.9.0->tsfresh) (0.11.1)\n",
      "Requirement already satisfied: partd>=0.3.10; extra == \"dataframe\" in /home/idies/miniconda3/envs/py38/lib/python3.8/site-packages (from dask[dataframe]>=2.9.0->tsfresh) (1.1.0)\n",
      "Requirement already satisfied: fsspec>=0.6.0; extra == \"dataframe\" in /home/idies/miniconda3/envs/py38/lib/python3.8/site-packages (from dask[dataframe]>=2.9.0->tsfresh) (0.8.3)\n",
      "Requirement already satisfied: setuptools in /home/idies/miniconda3/envs/py38/lib/python3.8/site-packages (from distributed>=2.11.0->tsfresh) (50.3.1.post20201107)\n",
      "Requirement already satisfied: zict>=0.1.3 in /home/idies/miniconda3/envs/py38/lib/python3.8/site-packages (from distributed>=2.11.0->tsfresh) (2.0.0)\n",
      "Requirement already satisfied: msgpack>=0.6.0 in /home/idies/miniconda3/envs/py38/lib/python3.8/site-packages (from distributed>=2.11.0->tsfresh) (1.0.0)\n",
      "Requirement already satisfied: tornado>=6.0.3; python_version >= \"3.8\" in /home/idies/miniconda3/envs/py38/lib/python3.8/site-packages (from distributed>=2.11.0->tsfresh) (6.0.4)\n",
      "Requirement already satisfied: click>=6.6 in /home/idies/miniconda3/envs/py38/lib/python3.8/site-packages (from distributed>=2.11.0->tsfresh) (7.1.2)\n",
      "Requirement already satisfied: psutil>=5.0 in /home/idies/miniconda3/envs/py38/lib/python3.8/site-packages (from distributed>=2.11.0->tsfresh) (5.7.2)\n",
      "Requirement already satisfied: tblib>=1.6.0 in /home/idies/miniconda3/envs/py38/lib/python3.8/site-packages (from distributed>=2.11.0->tsfresh) (1.7.0)\n",
      "Requirement already satisfied: sortedcontainers!=2.0.0,!=2.0.1 in /home/idies/miniconda3/envs/py38/lib/python3.8/site-packages (from distributed>=2.11.0->tsfresh) (2.2.2)\n",
      "Collecting packaging>=21.3\n",
      "  Downloading packaging-21.3-py3-none-any.whl (40 kB)\n",
      "\u001b[K     |████████████████████████████████| 40 kB 4.0 MB/s  eta 0:00:01\n",
      "\u001b[?25hRequirement already satisfied: pytz>=2017.2 in /home/idies/miniconda3/envs/py38/lib/python3.8/site-packages (from pandas>=0.25.0->tsfresh) (2020.1)\n",
      "Requirement already satisfied: python-dateutil>=2.7.3 in /home/idies/miniconda3/envs/py38/lib/python3.8/site-packages (from pandas>=0.25.0->tsfresh) (2.8.0)\n",
      "Requirement already satisfied: matplotlib>=3.0.3 in /home/idies/miniconda3/envs/py38/lib/python3.8/site-packages (from matrixprofile<2.0.0,>=1.1.10->tsfresh) (3.3.2)\n",
      "Collecting protobuf==3.11.2\n",
      "  Downloading protobuf-3.11.2-cp38-cp38-manylinux1_x86_64.whl (1.3 MB)\n",
      "\u001b[K     |████████████████████████████████| 1.3 MB 27.4 MB/s eta 0:00:01�▌                         | 256 kB 27.4 MB/s eta 0:00:01\n",
      "\u001b[?25hRequirement already satisfied: importlib-metadata; python_version < \"3.9\" in /home/idies/miniconda3/envs/py38/lib/python3.8/site-packages (from numba>=0.54->stumpy>=1.7.2->tsfresh) (2.0.0)\n",
      "Collecting llvmlite<0.40,>=0.39.0dev0\n",
      "  Downloading llvmlite-0.39.1-cp38-cp38-manylinux_2_17_x86_64.manylinux2014_x86_64.whl (34.6 MB)\n",
      "\u001b[K     |████████████████████████████████| 34.6 MB 54 kB/s s eta 0:00:01 | 1.8 MB 21.6 MB/s eta 0:00:02ta 0:00:02  | 6.3 MB 21.6 MB/s eta 0:00:021.6 MB/s eta 0:00:02�█████████▌                     | 11.4 MB 21.6 MB/s eta 0:00:02      | 12.6 MB 21.6 MB/s eta 0:00:02��██▍                   | 13.5 MB 21.6 MB/s eta 0:00:01��█████████▋               | 17.9 MB 21.6 MB/s eta 0:00:01████████████▏              | 18.6 MB 21.6 MB/s eta 0:00:01�█████████           | 22.8 MB 21.6 MB/s eta 0:00:010:00:01�████████▉     | 29.1 MB 25.4 MB/s eta 0:00:01\n",
      "\u001b[?25hRequirement already satisfied: locket in /home/idies/miniconda3/envs/py38/lib/python3.8/site-packages (from partd>=0.3.10; extra == \"dataframe\"->dask[dataframe]>=2.9.0->tsfresh) (0.2.0)\n",
      "Requirement already satisfied: heapdict in /home/idies/miniconda3/envs/py38/lib/python3.8/site-packages (from zict>=0.1.3->distributed>=2.11.0->tsfresh) (1.0.1)\n",
      "Requirement already satisfied: pyparsing!=3.0.5,>=2.0.2 in /home/idies/miniconda3/envs/py38/lib/python3.8/site-packages (from packaging>=21.3->statsmodels>=0.13->tsfresh) (2.4.7)\n",
      "Requirement already satisfied: pillow>=6.2.0 in /home/idies/miniconda3/envs/py38/lib/python3.8/site-packages (from matplotlib>=3.0.3->matrixprofile<2.0.0,>=1.1.10->tsfresh) (8.0.1)\n",
      "Requirement already satisfied: kiwisolver>=1.0.1 in /home/idies/miniconda3/envs/py38/lib/python3.8/site-packages (from matplotlib>=3.0.3->matrixprofile<2.0.0,>=1.1.10->tsfresh) (1.3.0)\n"
     ]
    },
    {
     "name": "stdout",
     "output_type": "stream",
     "text": [
      "Requirement already satisfied: cycler>=0.10 in /home/idies/miniconda3/envs/py38/lib/python3.8/site-packages (from matplotlib>=3.0.3->matrixprofile<2.0.0,>=1.1.10->tsfresh) (0.10.0)\n",
      "Requirement already satisfied: zipp>=0.5 in /home/idies/miniconda3/envs/py38/lib/python3.8/site-packages (from importlib-metadata; python_version < \"3.9\"->numba>=0.54->stumpy>=1.7.2->tsfresh) (3.4.0)\n",
      "Installing collected packages: llvmlite, numba, stumpy, packaging, statsmodels, protobuf, matrixprofile, tsfresh\n",
      "  Attempting uninstall: llvmlite\n",
      "    Found existing installation: llvmlite 0.34.0\n",
      "    Uninstalling llvmlite-0.34.0:\n",
      "      Successfully uninstalled llvmlite-0.34.0\n",
      "  Attempting uninstall: numba\n",
      "    Found existing installation: numba 0.51.2\n",
      "    Uninstalling numba-0.51.2:\n",
      "      Successfully uninstalled numba-0.51.2\n",
      "  Attempting uninstall: packaging\n",
      "    Found existing installation: packaging 20.4\n",
      "    Uninstalling packaging-20.4:\n",
      "      Successfully uninstalled packaging-20.4\n",
      "  Attempting uninstall: statsmodels\n",
      "    Found existing installation: statsmodels 0.12.0\n",
      "    Uninstalling statsmodels-0.12.0:\n",
      "      Successfully uninstalled statsmodels-0.12.0\n",
      "  Attempting uninstall: protobuf\n",
      "    Found existing installation: protobuf 3.13.0\n",
      "    Uninstalling protobuf-3.13.0:\n",
      "      Successfully uninstalled protobuf-3.13.0\n",
      "\u001b[31mERROR: After October 2020 you may experience errors when installing or updating packages. This is because pip will change the way that it resolves dependency conflicts.\n",
      "\n",
      "We recommend you use --use-feature=2020-resolver to test your packages with the new resolver before it becomes the default.\n",
      "\n",
      "tensorflow 2.3.0 requires keras-preprocessing<1.2,>=1.1.1, but you'll have keras-preprocessing 1.1.0 which is incompatible.\n",
      "tensorflow 2.3.0 requires numpy<1.19.0,>=1.16.0, but you'll have numpy 1.19.4 which is incompatible.\n",
      "tensorflow 2.3.0 requires scipy==1.4.1, but you'll have scipy 1.6.0 which is incompatible.\n",
      "statsmodels 0.13.5 requires patsy>=0.5.2, but you'll have patsy 0.5.1 which is incompatible.\n",
      "pytest-cov 2.10.1 requires pytest>=4.6, but you'll have pytest 0.0.0 which is incompatible.\u001b[0m\n",
      "Successfully installed llvmlite-0.39.1 matrixprofile-1.1.10 numba-0.56.4 packaging-21.3 protobuf-3.11.2 statsmodels-0.13.5 stumpy-1.11.1 tsfresh-0.19.0\n"
     ]
    }
   ],
   "source": [
    "import sys\n",
    "!{sys.executable} -m pip install tsfresh"
   ]
  },
  {
   "cell_type": "code",
   "execution_count": null,
   "metadata": {},
   "outputs": [
    {
     "name": "stderr",
     "output_type": "stream",
     "text": [
      "Feature Extraction:  46%|████▌     | 6/13 [02:21<02:42, 23.21s/it]"
     ]
    }
   ],
   "source": [
    "# Correct code\n",
    "from tsfresh import extract_features\n",
    "from tsfresh.utilities.dataframe_functions import impute\n",
    "from tsfresh.feature_extraction import ComprehensiveFCParameters\n",
    "import os\n",
    "import glob\n",
    "from astropy.table import Table\n",
    "import pandas as pd\n",
    "from tsfresh import extract_features\n",
    "# Set the working directory\n",
    "os.chdir(\"/home/idies/workspace/Temporary/s.hossain18/scratch/data-extract/data\")\n",
    "# ts fresh modules\n",
    "extraction_settings = ComprehensiveFCParameters()\n",
    "# Find all files with a certain extension\n",
    "extension_1 = 'tbl'\n",
    "import_filenames = [i for i in glob.glob('*.{}'.format(extension_1))]\n",
    "df = pd.DataFrame()\n",
    "for f in import_filenames:\n",
    "    read = Table.read(f, format='ascii.ipac')\n",
    "    data = read.to_pandas()\n",
    "    ts_data = extract_features(data, column_id='set', column_sort='TIME', default_fc_parameters=extraction_settings,impute_function=impute,n_jobs=0)\n",
    "    #df = df.append(ts_data)\n",
    "    df = pd.concat([ts_data,df],ignore_index=True, sort=False)\n",
    "    del ts_data\n",
    "# saving the dataframe\n",
    "df.to_csv('/home/idies/workspace/Storage/s.hossain18/persistent/ts_false_2.csv', index=False)"
   ]
  },
  {
   "cell_type": "code",
   "execution_count": 5,
   "metadata": {},
   "outputs": [],
   "source": []
  },
  {
   "cell_type": "code",
   "execution_count": 7,
   "metadata": {},
   "outputs": [
    {
     "data": {
      "text/plain": [
       "Index(['PDCSAP_FLUX__variance_larger_than_standard_deviation',\n",
       "       'PDCSAP_FLUX__has_duplicate_max', 'PDCSAP_FLUX__has_duplicate_min',\n",
       "       'PDCSAP_FLUX__has_duplicate', 'PDCSAP_FLUX__sum_values',\n",
       "       'PDCSAP_FLUX__abs_energy', 'PDCSAP_FLUX__mean_abs_change',\n",
       "       'PDCSAP_FLUX__mean_change',\n",
       "       'PDCSAP_FLUX__mean_second_derivative_central', 'PDCSAP_FLUX__median',\n",
       "       ...\n",
       "       'PDCSAP_FLUX__permutation_entropy__dimension_6__tau_1',\n",
       "       'PDCSAP_FLUX__permutation_entropy__dimension_7__tau_1',\n",
       "       'PDCSAP_FLUX__query_similarity_count__query_None__threshold_0.0',\n",
       "       'PDCSAP_FLUX__matrix_profile__feature_\"min\"__threshold_0.98',\n",
       "       'PDCSAP_FLUX__matrix_profile__feature_\"max\"__threshold_0.98',\n",
       "       'PDCSAP_FLUX__matrix_profile__feature_\"mean\"__threshold_0.98',\n",
       "       'PDCSAP_FLUX__matrix_profile__feature_\"median\"__threshold_0.98',\n",
       "       'PDCSAP_FLUX__matrix_profile__feature_\"25\"__threshold_0.98',\n",
       "       'PDCSAP_FLUX__matrix_profile__feature_\"75\"__threshold_0.98',\n",
       "       'PDCSAP_FLUX__mean_n_absolute_max__number_of_maxima_7'],\n",
       "      dtype='object', length=789)"
      ]
     },
     "execution_count": 7,
     "metadata": {},
     "output_type": "execute_result"
    }
   ],
   "source": []
  },
  {
   "cell_type": "code",
   "execution_count": null,
   "metadata": {},
   "outputs": [],
   "source": []
  }
 ],
 "metadata": {
  "kernelspec": {
   "display_name": "Python 3.8 (py38)",
   "language": "python",
   "name": "py38"
  },
  "language_info": {
   "codemirror_mode": {
    "name": "ipython",
    "version": 3
   },
   "file_extension": ".py",
   "mimetype": "text/x-python",
   "name": "python",
   "nbconvert_exporter": "python",
   "pygments_lexer": "ipython3",
   "version": "3.8.5"
  }
 },
 "nbformat": 4,
 "nbformat_minor": 5
}

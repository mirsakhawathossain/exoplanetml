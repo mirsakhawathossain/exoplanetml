{
 "cells": [
  {
   "cell_type": "code",
   "execution_count": 1,
   "metadata": {},
   "outputs": [
    {
     "name": "stdout",
     "output_type": "stream",
     "text": [
      "Already up to date.\n"
     ]
    }
   ],
   "source": [
    "!cd /home/idies/workspace/Temporary/s.hossain18/scratch/data-extract && git pull"
   ]
  },
  {
   "cell_type": "code",
   "execution_count": 2,
   "metadata": {},
   "outputs": [
    {
     "name": "stdout",
     "output_type": "stream",
     "text": [
      "Requirement already satisfied: tsfresh in /home/idies/miniconda3/envs/py38/lib/python3.8/site-packages (0.19.0)\n",
      "Requirement already satisfied: scikit-learn>=0.22.0 in /home/idies/miniconda3/envs/py38/lib/python3.8/site-packages (from tsfresh) (0.23.2)\n",
      "Requirement already satisfied: statsmodels>=0.13 in /home/idies/miniconda3/envs/py38/lib/python3.8/site-packages (from tsfresh) (0.13.5)\n",
      "Requirement already satisfied: patsy>=0.4.1 in /home/idies/miniconda3/envs/py38/lib/python3.8/site-packages (from tsfresh) (0.5.1)\n",
      "Requirement already satisfied: numpy>=1.15.1 in /home/idies/miniconda3/envs/py38/lib/python3.8/site-packages (from tsfresh) (1.19.4)\n",
      "Requirement already satisfied: distributed>=2.11.0 in /home/idies/miniconda3/envs/py38/lib/python3.8/site-packages (from tsfresh) (2.30.1)\n",
      "Requirement already satisfied: matrixprofile<2.0.0,>=1.1.10 in /home/idies/miniconda3/envs/py38/lib/python3.8/site-packages (from tsfresh) (1.1.10)\n",
      "Requirement already satisfied: pandas>=0.25.0 in /home/idies/miniconda3/envs/py38/lib/python3.8/site-packages (from tsfresh) (1.1.3)\n",
      "Requirement already satisfied: tqdm>=4.10.0 in /home/idies/miniconda3/envs/py38/lib/python3.8/site-packages (from tsfresh) (4.50.2)\n",
      "Requirement already satisfied: cloudpickle in /home/idies/miniconda3/envs/py38/lib/python3.8/site-packages (from tsfresh) (1.6.0)\n",
      "Requirement already satisfied: dask[dataframe]>=2.9.0 in /home/idies/miniconda3/envs/py38/lib/python3.8/site-packages (from tsfresh) (2.30.0)\n",
      "Requirement already satisfied: scipy>=1.2.0 in /home/idies/miniconda3/envs/py38/lib/python3.8/site-packages (from tsfresh) (1.6.0)\n",
      "Requirement already satisfied: requests>=2.9.1 in /home/idies/miniconda3/envs/py38/lib/python3.8/site-packages (from tsfresh) (2.24.0)\n",
      "Requirement already satisfied: stumpy>=1.7.2 in /home/idies/miniconda3/envs/py38/lib/python3.8/site-packages (from tsfresh) (1.11.1)\n",
      "Requirement already satisfied: threadpoolctl>=2.0.0 in /home/idies/miniconda3/envs/py38/lib/python3.8/site-packages (from scikit-learn>=0.22.0->tsfresh) (2.1.0)\n",
      "Requirement already satisfied: joblib>=0.11 in /home/idies/miniconda3/envs/py38/lib/python3.8/site-packages (from scikit-learn>=0.22.0->tsfresh) (0.17.0)\n",
      "Requirement already satisfied: packaging>=21.3 in /home/idies/miniconda3/envs/py38/lib/python3.8/site-packages (from statsmodels>=0.13->tsfresh) (21.3)\n",
      "Requirement already satisfied: six in /home/idies/miniconda3/envs/py38/lib/python3.8/site-packages (from patsy>=0.4.1->tsfresh) (1.15.0)\n",
      "Requirement already satisfied: msgpack>=0.6.0 in /home/idies/miniconda3/envs/py38/lib/python3.8/site-packages (from distributed>=2.11.0->tsfresh) (1.0.0)\n",
      "Requirement already satisfied: sortedcontainers!=2.0.0,!=2.0.1 in /home/idies/miniconda3/envs/py38/lib/python3.8/site-packages (from distributed>=2.11.0->tsfresh) (2.2.2)\n",
      "Requirement already satisfied: tornado>=6.0.3; python_version >= \"3.8\" in /home/idies/miniconda3/envs/py38/lib/python3.8/site-packages (from distributed>=2.11.0->tsfresh) (6.0.4)\n",
      "Requirement already satisfied: click>=6.6 in /home/idies/miniconda3/envs/py38/lib/python3.8/site-packages (from distributed>=2.11.0->tsfresh) (7.1.2)\n",
      "Requirement already satisfied: psutil>=5.0 in /home/idies/miniconda3/envs/py38/lib/python3.8/site-packages (from distributed>=2.11.0->tsfresh) (5.7.2)\n",
      "Requirement already satisfied: toolz>=0.8.2 in /home/idies/miniconda3/envs/py38/lib/python3.8/site-packages (from distributed>=2.11.0->tsfresh) (0.11.1)\n",
      "Requirement already satisfied: tblib>=1.6.0 in /home/idies/miniconda3/envs/py38/lib/python3.8/site-packages (from distributed>=2.11.0->tsfresh) (1.7.0)\n",
      "Requirement already satisfied: zict>=0.1.3 in /home/idies/miniconda3/envs/py38/lib/python3.8/site-packages (from distributed>=2.11.0->tsfresh) (2.0.0)\n",
      "Requirement already satisfied: pyyaml in /home/idies/miniconda3/envs/py38/lib/python3.8/site-packages (from distributed>=2.11.0->tsfresh) (5.3.1)\n",
      "Requirement already satisfied: setuptools in /home/idies/miniconda3/envs/py38/lib/python3.8/site-packages (from distributed>=2.11.0->tsfresh) (50.3.1.post20201107)\n",
      "Requirement already satisfied: protobuf==3.11.2 in /home/idies/miniconda3/envs/py38/lib/python3.8/site-packages (from matrixprofile<2.0.0,>=1.1.10->tsfresh) (3.11.2)\n",
      "Requirement already satisfied: matplotlib>=3.0.3 in /home/idies/miniconda3/envs/py38/lib/python3.8/site-packages (from matrixprofile<2.0.0,>=1.1.10->tsfresh) (3.3.2)\n",
      "Requirement already satisfied: python-dateutil>=2.7.3 in /home/idies/miniconda3/envs/py38/lib/python3.8/site-packages (from pandas>=0.25.0->tsfresh) (2.8.0)\n",
      "Requirement already satisfied: pytz>=2017.2 in /home/idies/miniconda3/envs/py38/lib/python3.8/site-packages (from pandas>=0.25.0->tsfresh) (2020.1)\n",
      "Requirement already satisfied: fsspec>=0.6.0; extra == \"dataframe\" in /home/idies/miniconda3/envs/py38/lib/python3.8/site-packages (from dask[dataframe]>=2.9.0->tsfresh) (0.8.3)\n",
      "Requirement already satisfied: partd>=0.3.10; extra == \"dataframe\" in /home/idies/miniconda3/envs/py38/lib/python3.8/site-packages (from dask[dataframe]>=2.9.0->tsfresh) (1.1.0)\n",
      "Requirement already satisfied: certifi>=2017.4.17 in /home/idies/miniconda3/envs/py38/lib/python3.8/site-packages (from requests>=2.9.1->tsfresh) (2020.12.5)\n",
      "Requirement already satisfied: idna<3,>=2.5 in /home/idies/miniconda3/envs/py38/lib/python3.8/site-packages (from requests>=2.9.1->tsfresh) (2.10)\n",
      "Requirement already satisfied: chardet<4,>=3.0.2 in /home/idies/miniconda3/envs/py38/lib/python3.8/site-packages (from requests>=2.9.1->tsfresh) (3.0.4)\n",
      "Requirement already satisfied: urllib3!=1.25.0,!=1.25.1,<1.26,>=1.21.1 in /home/idies/miniconda3/envs/py38/lib/python3.8/site-packages (from requests>=2.9.1->tsfresh) (1.24.3)\n",
      "Requirement already satisfied: numba>=0.54 in /home/idies/miniconda3/envs/py38/lib/python3.8/site-packages (from stumpy>=1.7.2->tsfresh) (0.56.3)\n",
      "Requirement already satisfied: pyparsing!=3.0.5,>=2.0.2 in /home/idies/miniconda3/envs/py38/lib/python3.8/site-packages (from packaging>=21.3->statsmodels>=0.13->tsfresh) (2.4.7)\n",
      "Requirement already satisfied: heapdict in /home/idies/miniconda3/envs/py38/lib/python3.8/site-packages (from zict>=0.1.3->distributed>=2.11.0->tsfresh) (1.0.1)\n",
      "Requirement already satisfied: cycler>=0.10 in /home/idies/miniconda3/envs/py38/lib/python3.8/site-packages (from matplotlib>=3.0.3->matrixprofile<2.0.0,>=1.1.10->tsfresh) (0.10.0)\n",
      "Requirement already satisfied: pillow>=6.2.0 in /home/idies/miniconda3/envs/py38/lib/python3.8/site-packages (from matplotlib>=3.0.3->matrixprofile<2.0.0,>=1.1.10->tsfresh) (8.0.1)\n",
      "Requirement already satisfied: kiwisolver>=1.0.1 in /home/idies/miniconda3/envs/py38/lib/python3.8/site-packages (from matplotlib>=3.0.3->matrixprofile<2.0.0,>=1.1.10->tsfresh) (1.3.0)\n",
      "Requirement already satisfied: locket in /home/idies/miniconda3/envs/py38/lib/python3.8/site-packages (from partd>=0.3.10; extra == \"dataframe\"->dask[dataframe]>=2.9.0->tsfresh) (0.2.0)\n",
      "Requirement already satisfied: llvmlite<0.40,>=0.39.0dev0 in /home/idies/miniconda3/envs/py38/lib/python3.8/site-packages (from numba>=0.54->stumpy>=1.7.2->tsfresh) (0.39.1)\n",
      "Requirement already satisfied: importlib-metadata; python_version < \"3.9\" in /home/idies/miniconda3/envs/py38/lib/python3.8/site-packages (from numba>=0.54->stumpy>=1.7.2->tsfresh) (2.0.0)\n",
      "Requirement already satisfied: zipp>=0.5 in /home/idies/miniconda3/envs/py38/lib/python3.8/site-packages (from importlib-metadata; python_version < \"3.9\"->numba>=0.54->stumpy>=1.7.2->tsfresh) (3.4.0)\n"
     ]
    }
   ],
   "source": [
    "import sys\n",
    "!{sys.executable} -m pip install tsfresh"
   ]
  },
  {
   "cell_type": "code",
   "execution_count": 3,
   "metadata": {},
   "outputs": [
    {
     "name": "stdout",
     "output_type": "stream",
     "text": [
      "Requirement already satisfied: dask[complete] in /home/idies/miniconda3/envs/py38/lib/python3.8/site-packages (2.30.0)\n",
      "Requirement already satisfied: dask-jobqueue in /home/idies/miniconda3/envs/py38/lib/python3.8/site-packages (0.8.1)\n",
      "Requirement already satisfied: pyyaml in /home/idies/miniconda3/envs/py38/lib/python3.8/site-packages (from dask[complete]) (5.3.1)\n",
      "Requirement already satisfied: bokeh!=2.0.0,>=1.0.0; extra == \"complete\" in /home/idies/miniconda3/envs/py38/lib/python3.8/site-packages (from dask[complete]) (2.2.3)\n",
      "Requirement already satisfied: numpy>=1.13.0; extra == \"complete\" in /home/idies/miniconda3/envs/py38/lib/python3.8/site-packages (from dask[complete]) (1.19.4)\n",
      "Requirement already satisfied: fsspec>=0.6.0; extra == \"complete\" in /home/idies/miniconda3/envs/py38/lib/python3.8/site-packages (from dask[complete]) (0.8.3)\n",
      "Requirement already satisfied: partd>=0.3.10; extra == \"complete\" in /home/idies/miniconda3/envs/py38/lib/python3.8/site-packages (from dask[complete]) (1.1.0)\n",
      "Requirement already satisfied: cloudpickle>=0.2.2; extra == \"complete\" in /home/idies/miniconda3/envs/py38/lib/python3.8/site-packages (from dask[complete]) (1.6.0)\n",
      "Requirement already satisfied: pandas>=0.23.0; extra == \"complete\" in /home/idies/miniconda3/envs/py38/lib/python3.8/site-packages (from dask[complete]) (1.1.3)\n",
      "Requirement already satisfied: distributed>=2.0; extra == \"complete\" in /home/idies/miniconda3/envs/py38/lib/python3.8/site-packages (from dask[complete]) (2.30.1)\n",
      "Requirement already satisfied: toolz>=0.8.2; extra == \"complete\" in /home/idies/miniconda3/envs/py38/lib/python3.8/site-packages (from dask[complete]) (0.11.1)\n",
      "Requirement already satisfied: tornado>=5.1 in /home/idies/miniconda3/envs/py38/lib/python3.8/site-packages (from bokeh!=2.0.0,>=1.0.0; extra == \"complete\"->dask[complete]) (6.0.4)\n",
      "Requirement already satisfied: typing-extensions>=3.7.4 in /home/idies/miniconda3/envs/py38/lib/python3.8/site-packages (from bokeh!=2.0.0,>=1.0.0; extra == \"complete\"->dask[complete]) (3.7.4.3)\n",
      "Requirement already satisfied: pillow>=7.1.0 in /home/idies/miniconda3/envs/py38/lib/python3.8/site-packages (from bokeh!=2.0.0,>=1.0.0; extra == \"complete\"->dask[complete]) (8.0.1)\n",
      "Requirement already satisfied: python-dateutil>=2.1 in /home/idies/miniconda3/envs/py38/lib/python3.8/site-packages (from bokeh!=2.0.0,>=1.0.0; extra == \"complete\"->dask[complete]) (2.8.0)\n",
      "Requirement already satisfied: Jinja2>=2.7 in /home/idies/miniconda3/envs/py38/lib/python3.8/site-packages (from bokeh!=2.0.0,>=1.0.0; extra == \"complete\"->dask[complete]) (2.11.2)\n",
      "Requirement already satisfied: packaging>=16.8 in /home/idies/miniconda3/envs/py38/lib/python3.8/site-packages (from bokeh!=2.0.0,>=1.0.0; extra == \"complete\"->dask[complete]) (21.3)\n",
      "Requirement already satisfied: locket in /home/idies/miniconda3/envs/py38/lib/python3.8/site-packages (from partd>=0.3.10; extra == \"complete\"->dask[complete]) (0.2.0)\n",
      "Requirement already satisfied: pytz>=2017.2 in /home/idies/miniconda3/envs/py38/lib/python3.8/site-packages (from pandas>=0.23.0; extra == \"complete\"->dask[complete]) (2020.1)\n",
      "Requirement already satisfied: zict>=0.1.3 in /home/idies/miniconda3/envs/py38/lib/python3.8/site-packages (from distributed>=2.0; extra == \"complete\"->dask[complete]) (2.0.0)\n",
      "Requirement already satisfied: setuptools in /home/idies/miniconda3/envs/py38/lib/python3.8/site-packages (from distributed>=2.0; extra == \"complete\"->dask[complete]) (50.3.1.post20201107)\n",
      "Requirement already satisfied: tblib>=1.6.0 in /home/idies/miniconda3/envs/py38/lib/python3.8/site-packages (from distributed>=2.0; extra == \"complete\"->dask[complete]) (1.7.0)\n",
      "Requirement already satisfied: click>=6.6 in /home/idies/miniconda3/envs/py38/lib/python3.8/site-packages (from distributed>=2.0; extra == \"complete\"->dask[complete]) (7.1.2)\n",
      "Requirement already satisfied: sortedcontainers!=2.0.0,!=2.0.1 in /home/idies/miniconda3/envs/py38/lib/python3.8/site-packages (from distributed>=2.0; extra == \"complete\"->dask[complete]) (2.2.2)\n",
      "Requirement already satisfied: psutil>=5.0 in /home/idies/miniconda3/envs/py38/lib/python3.8/site-packages (from distributed>=2.0; extra == \"complete\"->dask[complete]) (5.7.2)\n",
      "Requirement already satisfied: msgpack>=0.6.0 in /home/idies/miniconda3/envs/py38/lib/python3.8/site-packages (from distributed>=2.0; extra == \"complete\"->dask[complete]) (1.0.0)\n",
      "Requirement already satisfied: six>=1.5 in /home/idies/miniconda3/envs/py38/lib/python3.8/site-packages (from python-dateutil>=2.1->bokeh!=2.0.0,>=1.0.0; extra == \"complete\"->dask[complete]) (1.15.0)\n",
      "Requirement already satisfied: MarkupSafe>=0.23 in /home/idies/miniconda3/envs/py38/lib/python3.8/site-packages (from Jinja2>=2.7->bokeh!=2.0.0,>=1.0.0; extra == \"complete\"->dask[complete]) (1.1.1)\n",
      "Requirement already satisfied: pyparsing!=3.0.5,>=2.0.2 in /home/idies/miniconda3/envs/py38/lib/python3.8/site-packages (from packaging>=16.8->bokeh!=2.0.0,>=1.0.0; extra == \"complete\"->dask[complete]) (2.4.7)\n",
      "Requirement already satisfied: heapdict in /home/idies/miniconda3/envs/py38/lib/python3.8/site-packages (from zict>=0.1.3->distributed>=2.0; extra == \"complete\"->dask[complete]) (1.0.1)\n"
     ]
    }
   ],
   "source": [
    "import sys\n",
    "!{sys.executable} -m pip install \"dask[complete]\" dask-jobqueue"
   ]
  },
  {
   "cell_type": "code",
   "execution_count": 5,
   "metadata": {},
   "outputs": [
    {
     "name": "stderr",
     "output_type": "stream",
     "text": [
      "/home/idies/miniconda3/envs/py38/lib/python3.8/site-packages/distributed/node.py:151: UserWarning: Port 8787 is already in use.\n",
      "Perhaps you already have a cluster running?\n",
      "Hosting the HTTP server on port 43945 instead\n",
      "  warnings.warn(\n"
     ]
    }
   ],
   "source": [
    "from dask.distributed import Client, LocalCluster\n",
    "cluster = LocalCluster(n_workers=20)\n",
    "client = Client(cluster)"
   ]
  },
  {
   "cell_type": "code",
   "execution_count": 5,
   "metadata": {},
   "outputs": [],
   "source": [
    "#from dask_jobqueue import PBSCluster\n",
    "#cluster = PBSCluster(cores=8, memory='24GB')\n",
    "#client = Client(cluster)"
   ]
  },
  {
   "cell_type": "code",
   "execution_count": 6,
   "metadata": {},
   "outputs": [
    {
     "ename": "TypeError",
     "evalue": "unsupported operand type(s) for /: 'int' and 'Client'",
     "output_type": "error",
     "traceback": [
      "\u001b[0;31m\u001b[0m",
      "\u001b[0;31mTypeError\u001b[0mTraceback (most recent call last)",
      "\u001b[0;32m<ipython-input-6-688290918e5c>\u001b[0m in \u001b[0;36m<module>\u001b[0;34m\u001b[0m\n\u001b[1;32m     26\u001b[0m     \u001b[0mdata_dask\u001b[0m \u001b[0;34m=\u001b[0m \u001b[0mdd\u001b[0m\u001b[0;34m.\u001b[0m\u001b[0mfrom_pandas\u001b[0m\u001b[0;34m(\u001b[0m\u001b[0mdata\u001b[0m\u001b[0;34m,\u001b[0m \u001b[0mnpartitions\u001b[0m\u001b[0;34m=\u001b[0m\u001b[0;36m100\u001b[0m\u001b[0;34m)\u001b[0m\u001b[0;34m\u001b[0m\u001b[0;34m\u001b[0m\u001b[0m\n\u001b[1;32m     27\u001b[0m     \u001b[0;31m#data_dask = data_dask.persist()\u001b[0m\u001b[0;34m\u001b[0m\u001b[0;34m\u001b[0m\u001b[0;34m\u001b[0m\u001b[0m\n\u001b[0;32m---> 28\u001b[0;31m     \u001b[0mDistributor\u001b[0m \u001b[0;34m=\u001b[0m \u001b[0mLocalDaskDistributor\u001b[0m\u001b[0;34m(\u001b[0m\u001b[0mclient\u001b[0m\u001b[0;34m)\u001b[0m\u001b[0;34m\u001b[0m\u001b[0;34m\u001b[0m\u001b[0m\n\u001b[0m\u001b[1;32m     29\u001b[0m     \u001b[0mts_data\u001b[0m \u001b[0;34m=\u001b[0m \u001b[0mextract_features\u001b[0m\u001b[0;34m(\u001b[0m\u001b[0mdata_dask\u001b[0m\u001b[0;34m,\u001b[0m \u001b[0mcolumn_id\u001b[0m\u001b[0;34m=\u001b[0m\u001b[0;34m'set'\u001b[0m\u001b[0;34m,\u001b[0m \u001b[0mcolumn_sort\u001b[0m\u001b[0;34m=\u001b[0m\u001b[0;34m'TIME'\u001b[0m\u001b[0;34m,\u001b[0m \u001b[0mdefault_fc_parameters\u001b[0m\u001b[0;34m=\u001b[0m\u001b[0mextraction_settings\u001b[0m\u001b[0;34m,\u001b[0m\u001b[0mimpute_function\u001b[0m\u001b[0;34m=\u001b[0m\u001b[0mimpute\u001b[0m\u001b[0;34m)\u001b[0m\u001b[0;34m\u001b[0m\u001b[0;34m\u001b[0m\u001b[0m\n\u001b[1;32m     30\u001b[0m     \u001b[0mresult\u001b[0m \u001b[0;34m=\u001b[0m \u001b[0mts_data\u001b[0m\u001b[0;34m.\u001b[0m\u001b[0mcompute\u001b[0m\u001b[0;34m(\u001b[0m\u001b[0;34m)\u001b[0m\u001b[0;34m\u001b[0m\u001b[0;34m\u001b[0m\u001b[0m\n",
      "\u001b[0;32m~/miniconda3/envs/py38/lib/python3.8/site-packages/tsfresh/utilities/distribution.py\u001b[0m in \u001b[0;36m__init__\u001b[0;34m(self, n_workers)\u001b[0m\n\u001b[1;32m    336\u001b[0m         \u001b[0;31m# attribute .local_dir_ is the path where the local dask workers store temporary files\u001b[0m\u001b[0;34m\u001b[0m\u001b[0;34m\u001b[0m\u001b[0;34m\u001b[0m\u001b[0m\n\u001b[1;32m    337\u001b[0m         \u001b[0mself\u001b[0m\u001b[0;34m.\u001b[0m\u001b[0mlocal_dir_\u001b[0m \u001b[0;34m=\u001b[0m \u001b[0mtempfile\u001b[0m\u001b[0;34m.\u001b[0m\u001b[0mmkdtemp\u001b[0m\u001b[0;34m(\u001b[0m\u001b[0;34m)\u001b[0m\u001b[0;34m\u001b[0m\u001b[0;34m\u001b[0m\u001b[0m\n\u001b[0;32m--> 338\u001b[0;31m         cluster = LocalCluster(\n\u001b[0m\u001b[1;32m    339\u001b[0m             \u001b[0mn_workers\u001b[0m\u001b[0;34m=\u001b[0m\u001b[0mn_workers\u001b[0m\u001b[0;34m,\u001b[0m \u001b[0mprocesses\u001b[0m\u001b[0;34m=\u001b[0m\u001b[0;32mFalse\u001b[0m\u001b[0;34m,\u001b[0m \u001b[0mlocal_directory\u001b[0m\u001b[0;34m=\u001b[0m\u001b[0mself\u001b[0m\u001b[0;34m.\u001b[0m\u001b[0mlocal_dir_\u001b[0m\u001b[0;34m\u001b[0m\u001b[0;34m\u001b[0m\u001b[0m\n\u001b[1;32m    340\u001b[0m         )\n",
      "\u001b[0;32m~/miniconda3/envs/py38/lib/python3.8/site-packages/distributed/deploy/local.py\u001b[0m in \u001b[0;36m__init__\u001b[0;34m(self, n_workers, threads_per_worker, processes, loop, start, host, ip, scheduler_port, silence_logs, dashboard_address, worker_dashboard_address, diagnostics_port, services, worker_services, service_kwargs, asynchronous, security, protocol, blocked_handlers, interface, worker_class, scheduler_kwargs, **worker_kwargs)\u001b[0m\n\u001b[1;32m    184\u001b[0m         \u001b[0;32mif\u001b[0m \u001b[0mn_workers\u001b[0m \u001b[0;32mand\u001b[0m \u001b[0mthreads_per_worker\u001b[0m \u001b[0;32mis\u001b[0m \u001b[0;32mNone\u001b[0m\u001b[0;34m:\u001b[0m\u001b[0;34m\u001b[0m\u001b[0;34m\u001b[0m\u001b[0m\n\u001b[1;32m    185\u001b[0m             \u001b[0;31m# Overcommit threads per worker, rather than undercommit\u001b[0m\u001b[0;34m\u001b[0m\u001b[0;34m\u001b[0m\u001b[0;34m\u001b[0m\u001b[0m\n\u001b[0;32m--> 186\u001b[0;31m             \u001b[0mthreads_per_worker\u001b[0m \u001b[0;34m=\u001b[0m \u001b[0mmax\u001b[0m\u001b[0;34m(\u001b[0m\u001b[0;36m1\u001b[0m\u001b[0;34m,\u001b[0m \u001b[0mint\u001b[0m\u001b[0;34m(\u001b[0m\u001b[0mmath\u001b[0m\u001b[0;34m.\u001b[0m\u001b[0mceil\u001b[0m\u001b[0;34m(\u001b[0m\u001b[0mCPU_COUNT\u001b[0m \u001b[0;34m/\u001b[0m \u001b[0mn_workers\u001b[0m\u001b[0;34m)\u001b[0m\u001b[0;34m)\u001b[0m\u001b[0;34m)\u001b[0m\u001b[0;34m\u001b[0m\u001b[0;34m\u001b[0m\u001b[0m\n\u001b[0m\u001b[1;32m    187\u001b[0m         \u001b[0;32mif\u001b[0m \u001b[0mn_workers\u001b[0m \u001b[0;32mand\u001b[0m \u001b[0;34m\"memory_limit\"\u001b[0m \u001b[0;32mnot\u001b[0m \u001b[0;32min\u001b[0m \u001b[0mworker_kwargs\u001b[0m\u001b[0;34m:\u001b[0m\u001b[0;34m\u001b[0m\u001b[0;34m\u001b[0m\u001b[0m\n\u001b[1;32m    188\u001b[0m             \u001b[0mworker_kwargs\u001b[0m\u001b[0;34m[\u001b[0m\u001b[0;34m\"memory_limit\"\u001b[0m\u001b[0;34m]\u001b[0m \u001b[0;34m=\u001b[0m \u001b[0mparse_memory_limit\u001b[0m\u001b[0;34m(\u001b[0m\u001b[0;34m\"auto\"\u001b[0m\u001b[0;34m,\u001b[0m \u001b[0;36m1\u001b[0m\u001b[0;34m,\u001b[0m \u001b[0mn_workers\u001b[0m\u001b[0;34m)\u001b[0m\u001b[0;34m\u001b[0m\u001b[0;34m\u001b[0m\u001b[0m\n",
      "\u001b[0;31mTypeError\u001b[0m: unsupported operand type(s) for /: 'int' and 'Client'"
     ]
    }
   ],
   "source": [
    "# Correct code\n",
    "from tsfresh import extract_features\n",
    "from tsfresh.utilities.dataframe_functions import impute\n",
    "from tsfresh.feature_extraction import ComprehensiveFCParameters\n",
    "from tsfresh.utilities.distribution import LocalDaskDistributor\n",
    "\n",
    "import os\n",
    "import glob\n",
    "from astropy.table import Table\n",
    "import pandas as pd\n",
    "import dask\n",
    "import dask.dataframe as dd\n",
    "from tsfresh import extract_features\n",
    "# Set the working directory\n",
    "os.chdir(\"/home/idies/workspace/Temporary/s.hossain18/scratch/data-extract/data\")\n",
    "# ts fresh modules\n",
    "extraction_settings = ComprehensiveFCParameters()\n",
    "# Find all files with a certain extension\n",
    "extension_1 = 'tbl'\n",
    "import_filenames = [i for i in glob.glob('*.{}'.format(extension_1))]\n",
    "#df = pd.DataFrame()\n",
    "#df = dd.from_pandas(df, npartitions=5)\n",
    "for f in import_filenames:\n",
    "    read = Table.read(f, format='ascii.ipac')\n",
    "    data = read.to_pandas()\n",
    "    data_dask = dd.from_pandas(data, npartitions=100)\n",
    "    #data_dask = data_dask.persist()\n",
    "    Distributor = LocalDaskDistributor(client)\n",
    "    ts_data = extract_features(data_dask, column_id='set', column_sort='TIME', default_fc_parameters=extraction_settings,impute_function=impute)\n",
    "    result = ts_data.compute()\n",
    "    #df = df.append(ts_data)\n",
    "    df = dd.concat([ts_data,df])\n",
    "# saving the dataframe\n",
    "df.to_csv('/home/idies/workspace/Storage/s.hossain18/persistent/ts_false_2.csv')"
   ]
  },
  {
   "cell_type": "code",
   "execution_count": null,
   "metadata": {},
   "outputs": [],
   "source": [
    "#import pandas as pd\n",
    "#import dask.dataframe as dd\n",
    "#x = pd.DataFrame()\n",
    "#data_dask = dd.from_pandas(x, npartitions=100)"
   ]
  },
  {
   "cell_type": "code",
   "execution_count": null,
   "metadata": {},
   "outputs": [],
   "source": []
  }
 ],
 "metadata": {
  "kernelspec": {
   "display_name": "Python 3.8 (py38)",
   "language": "python",
   "name": "py38"
  },
  "language_info": {
   "codemirror_mode": {
    "name": "ipython",
    "version": 3
   },
   "file_extension": ".py",
   "mimetype": "text/x-python",
   "name": "python",
   "nbconvert_exporter": "python",
   "pygments_lexer": "ipython3",
   "version": "3.8.5"
  }
 },
 "nbformat": 4,
 "nbformat_minor": 5
}

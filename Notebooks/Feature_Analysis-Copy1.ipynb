{
 "cells": [
  {
   "cell_type": "code",
   "execution_count": 2,
   "metadata": {},
   "outputs": [
    {
     "name": "stdout",
     "output_type": "stream",
     "text": [
      "Requirement already satisfied: modin in /home/idies/miniconda3/envs/py38/lib/python3.8/site-packages (0.15.2)\n",
      "Requirement already satisfied: tqdm in /home/idies/miniconda3/envs/py38/lib/python3.8/site-packages (4.50.2)\n",
      "Requirement already satisfied: pandas==1.4.3 in /home/idies/miniconda3/envs/py38/lib/python3.8/site-packages (from modin) (1.4.3)\n",
      "Requirement already satisfied: psutil in /home/idies/miniconda3/envs/py38/lib/python3.8/site-packages (from modin) (5.7.2)\n",
      "Requirement already satisfied: packaging in /home/idies/miniconda3/envs/py38/lib/python3.8/site-packages (from modin) (20.4)\n",
      "Requirement already satisfied: fsspec in /home/idies/miniconda3/envs/py38/lib/python3.8/site-packages (from modin) (0.8.3)\n",
      "Requirement already satisfied: numpy>=1.18.5 in /home/idies/miniconda3/envs/py38/lib/python3.8/site-packages (from modin) (1.19.4)\n",
      "Requirement already satisfied: python-dateutil>=2.8.1 in /home/idies/miniconda3/envs/py38/lib/python3.8/site-packages (from pandas==1.4.3->modin) (2.8.2)\n",
      "Requirement already satisfied: pytz>=2020.1 in /home/idies/miniconda3/envs/py38/lib/python3.8/site-packages (from pandas==1.4.3->modin) (2020.1)\n",
      "Requirement already satisfied: six in /home/idies/miniconda3/envs/py38/lib/python3.8/site-packages (from packaging->modin) (1.15.0)\n",
      "Requirement already satisfied: pyparsing>=2.0.2 in /home/idies/miniconda3/envs/py38/lib/python3.8/site-packages (from packaging->modin) (2.4.7)\n"
     ]
    }
   ],
   "source": [
    "import sys\n",
    "!{sys.executable} -m pip install modin tqdm"
   ]
  },
  {
   "cell_type": "code",
   "execution_count": 3,
   "metadata": {},
   "outputs": [],
   "source": [
    "import warnings\n",
    "warnings.filterwarnings('ignore')"
   ]
  },
  {
   "cell_type": "code",
   "execution_count": 4,
   "metadata": {},
   "outputs": [],
   "source": [
    "import modin.pandas as pd\n",
    "from tqdm import tqdm\n",
    "from modin.config import ProgressBar\n",
    "ProgressBar.enable()"
   ]
  },
  {
   "cell_type": "code",
   "execution_count": 5,
   "metadata": {},
   "outputs": [
    {
     "data": {
      "application/vnd.jupyter.widget-view+json": {
       "model_id": "e6717bffebfc436096516166f786eb98",
       "version_major": 2,
       "version_minor": 0
      },
      "text/plain": [
       "HBox(children=(HTML(value='Distributing Dataframe'), FloatProgress(value=0.0, max=16.0), HTML(value='')))"
      ]
     },
     "metadata": {},
     "output_type": "display_data"
    },
    {
     "name": "stdout",
     "output_type": "stream",
     "text": [
      "\n"
     ]
    }
   ],
   "source": [
    "blackhole_data = pd.read_csv('https://www.scidrive.org/vospace-2.0/data/8a90b0de-bb0a-4ae6-adf7-c5b1b5182ad6').sort_index(axis=0)"
   ]
  },
  {
   "cell_type": "code",
   "execution_count": 6,
   "metadata": {},
   "outputs": [
    {
     "data": {
      "text/html": [
       "<div>\n",
       "<style scoped>\n",
       "    .dataframe tbody tr th:only-of-type {\n",
       "        vertical-align: middle;\n",
       "    }\n",
       "\n",
       "    .dataframe tbody tr th {\n",
       "        vertical-align: top;\n",
       "    }\n",
       "\n",
       "    .dataframe thead th {\n",
       "        text-align: right;\n",
       "    }\n",
       "</style>\n",
       "<table border=\"1\" class=\"dataframe\">\n",
       "  <thead>\n",
       "    <tr style=\"text-align: right;\">\n",
       "      <th></th>\n",
       "      <th>Total_Stellar_Mass</th>\n",
       "      <th>Bulge_Stellar_Mass</th>\n",
       "      <th>Black_Hole_Mass</th>\n",
       "      <th>Hot_Gas_Mass</th>\n",
       "      <th>Mvir</th>\n",
       "      <th>Rvir</th>\n",
       "      <th>Vvir</th>\n",
       "      <th>Vmax</th>\n",
       "      <th>Velocity_Dispersion</th>\n",
       "      <th>Maximum_circular_velocity_of_the_halo</th>\n",
       "      <th>SDSS_u_Absolute</th>\n",
       "      <th>SDSS_u_Apparent</th>\n",
       "      <th>SDSS_g_Absolute</th>\n",
       "      <th>SDSS_g_Apparent</th>\n",
       "      <th>SDSS_r_Absolute</th>\n",
       "      <th>SDSS_r_Apparent</th>\n",
       "      <th>SDSS_i_Absolute</th>\n",
       "      <th>SDSS_i_Apparent</th>\n",
       "      <th>SDSS_z_Absolute</th>\n",
       "      <th>SDSS_z_Apparent</th>\n",
       "    </tr>\n",
       "  </thead>\n",
       "  <tbody>\n",
       "    <tr>\n",
       "      <th>0</th>\n",
       "      <td>0.387174</td>\n",
       "      <td>0.385160</td>\n",
       "      <td>0.001336</td>\n",
       "      <td>5.19501</td>\n",
       "      <td>38.087</td>\n",
       "      <td>0.117880</td>\n",
       "      <td>117.880</td>\n",
       "      <td>148.51</td>\n",
       "      <td>130.77</td>\n",
       "      <td>160.27</td>\n",
       "      <td>-15.5459</td>\n",
       "      <td>-15.5459</td>\n",
       "      <td>-17.1477</td>\n",
       "      <td>-17.1477</td>\n",
       "      <td>-17.8345</td>\n",
       "      <td>-17.8345</td>\n",
       "      <td>-18.1590</td>\n",
       "      <td>-18.1590</td>\n",
       "      <td>-18.3906</td>\n",
       "      <td>-18.3906</td>\n",
       "    </tr>\n",
       "    <tr>\n",
       "      <th>1</th>\n",
       "      <td>0.846767</td>\n",
       "      <td>0.433929</td>\n",
       "      <td>0.001186</td>\n",
       "      <td>66.12800</td>\n",
       "      <td>496.330</td>\n",
       "      <td>0.277398</td>\n",
       "      <td>277.398</td>\n",
       "      <td>312.77</td>\n",
       "      <td>316.34</td>\n",
       "      <td>352.57</td>\n",
       "      <td>-16.9576</td>\n",
       "      <td>-16.9576</td>\n",
       "      <td>-18.6827</td>\n",
       "      <td>-18.6827</td>\n",
       "      <td>-19.4239</td>\n",
       "      <td>-19.4239</td>\n",
       "      <td>-19.7875</td>\n",
       "      <td>-19.7875</td>\n",
       "      <td>-20.0660</td>\n",
       "      <td>-20.0660</td>\n",
       "    </tr>\n",
       "    <tr>\n",
       "      <th>2</th>\n",
       "      <td>7.126350</td>\n",
       "      <td>1.604110</td>\n",
       "      <td>0.002302</td>\n",
       "      <td>26.53040</td>\n",
       "      <td>275.640</td>\n",
       "      <td>0.228013</td>\n",
       "      <td>228.014</td>\n",
       "      <td>260.63</td>\n",
       "      <td>247.20</td>\n",
       "      <td>276.07</td>\n",
       "      <td>-19.5330</td>\n",
       "      <td>-19.5330</td>\n",
       "      <td>-21.2105</td>\n",
       "      <td>-21.2105</td>\n",
       "      <td>-21.9265</td>\n",
       "      <td>-21.9265</td>\n",
       "      <td>-22.2808</td>\n",
       "      <td>-22.2808</td>\n",
       "      <td>-22.5680</td>\n",
       "      <td>-22.5680</td>\n",
       "    </tr>\n",
       "    <tr>\n",
       "      <th>3</th>\n",
       "      <td>3.070790</td>\n",
       "      <td>1.558470</td>\n",
       "      <td>0.002598</td>\n",
       "      <td>18.74110</td>\n",
       "      <td>153.250</td>\n",
       "      <td>0.187491</td>\n",
       "      <td>187.491</td>\n",
       "      <td>215.71</td>\n",
       "      <td>209.56</td>\n",
       "      <td>244.55</td>\n",
       "      <td>-18.3343</td>\n",
       "      <td>-18.3343</td>\n",
       "      <td>-20.1066</td>\n",
       "      <td>-20.1066</td>\n",
       "      <td>-20.8614</td>\n",
       "      <td>-20.8614</td>\n",
       "      <td>-21.2333</td>\n",
       "      <td>-21.2333</td>\n",
       "      <td>-21.5355</td>\n",
       "      <td>-21.5355</td>\n",
       "    </tr>\n",
       "    <tr>\n",
       "      <th>4</th>\n",
       "      <td>10.361900</td>\n",
       "      <td>6.639080</td>\n",
       "      <td>0.008644</td>\n",
       "      <td>15.85170</td>\n",
       "      <td>186.370</td>\n",
       "      <td>0.200127</td>\n",
       "      <td>200.127</td>\n",
       "      <td>230.90</td>\n",
       "      <td>229.04</td>\n",
       "      <td>250.77</td>\n",
       "      <td>-20.1827</td>\n",
       "      <td>-20.1827</td>\n",
       "      <td>-21.8739</td>\n",
       "      <td>-21.8739</td>\n",
       "      <td>-22.5845</td>\n",
       "      <td>-22.5845</td>\n",
       "      <td>-22.9369</td>\n",
       "      <td>-22.9369</td>\n",
       "      <td>-23.2389</td>\n",
       "      <td>-23.2389</td>\n",
       "    </tr>\n",
       "  </tbody>\n",
       "</table>\n",
       "</div>"
      ],
      "text/plain": [
       "   Total_Stellar_Mass  Bulge_Stellar_Mass  Black_Hole_Mass  Hot_Gas_Mass  \\\n",
       "0            0.387174            0.385160         0.001336       5.19501   \n",
       "1            0.846767            0.433929         0.001186      66.12800   \n",
       "2            7.126350            1.604110         0.002302      26.53040   \n",
       "3            3.070790            1.558470         0.002598      18.74110   \n",
       "4           10.361900            6.639080         0.008644      15.85170   \n",
       "\n",
       "      Mvir      Rvir     Vvir    Vmax  Velocity_Dispersion  \\\n",
       "0   38.087  0.117880  117.880  148.51               130.77   \n",
       "1  496.330  0.277398  277.398  312.77               316.34   \n",
       "2  275.640  0.228013  228.014  260.63               247.20   \n",
       "3  153.250  0.187491  187.491  215.71               209.56   \n",
       "4  186.370  0.200127  200.127  230.90               229.04   \n",
       "\n",
       "   Maximum_circular_velocity_of_the_halo  SDSS_u_Absolute  SDSS_u_Apparent  \\\n",
       "0                                 160.27         -15.5459         -15.5459   \n",
       "1                                 352.57         -16.9576         -16.9576   \n",
       "2                                 276.07         -19.5330         -19.5330   \n",
       "3                                 244.55         -18.3343         -18.3343   \n",
       "4                                 250.77         -20.1827         -20.1827   \n",
       "\n",
       "   SDSS_g_Absolute  SDSS_g_Apparent  SDSS_r_Absolute  SDSS_r_Apparent  \\\n",
       "0         -17.1477         -17.1477         -17.8345         -17.8345   \n",
       "1         -18.6827         -18.6827         -19.4239         -19.4239   \n",
       "2         -21.2105         -21.2105         -21.9265         -21.9265   \n",
       "3         -20.1066         -20.1066         -20.8614         -20.8614   \n",
       "4         -21.8739         -21.8739         -22.5845         -22.5845   \n",
       "\n",
       "   SDSS_i_Absolute  SDSS_i_Apparent  SDSS_z_Absolute  SDSS_z_Apparent  \n",
       "0         -18.1590         -18.1590         -18.3906         -18.3906  \n",
       "1         -19.7875         -19.7875         -20.0660         -20.0660  \n",
       "2         -22.2808         -22.2808         -22.5680         -22.5680  \n",
       "3         -21.2333         -21.2333         -21.5355         -21.5355  \n",
       "4         -22.9369         -22.9369         -23.2389         -23.2389  "
      ]
     },
     "execution_count": 6,
     "metadata": {},
     "output_type": "execute_result"
    }
   ],
   "source": [
    " blackhole_data.head(5)"
   ]
  },
  {
   "cell_type": "code",
   "execution_count": 7,
   "metadata": {},
   "outputs": [
    {
     "data": {
      "text/plain": [
       "Total_Stellar_Mass                       0\n",
       "Bulge_Stellar_Mass                       0\n",
       "Black_Hole_Mass                          0\n",
       "Hot_Gas_Mass                             0\n",
       "Mvir                                     0\n",
       "Rvir                                     0\n",
       "Vvir                                     0\n",
       "Vmax                                     0\n",
       "Velocity_Dispersion                      0\n",
       "Maximum_circular_velocity_of_the_halo    0\n",
       "SDSS_u_Absolute                          0\n",
       "SDSS_u_Apparent                          0\n",
       "SDSS_g_Absolute                          0\n",
       "SDSS_g_Apparent                          0\n",
       "SDSS_r_Absolute                          0\n",
       "SDSS_r_Apparent                          0\n",
       "SDSS_i_Absolute                          0\n",
       "SDSS_i_Apparent                          0\n",
       "SDSS_z_Absolute                          0\n",
       "SDSS_z_Apparent                          0\n",
       "dtype: int64"
      ]
     },
     "execution_count": 7,
     "metadata": {},
     "output_type": "execute_result"
    }
   ],
   "source": [
    "blackhole_data.isnull().sum()"
   ]
  },
  {
   "cell_type": "code",
   "execution_count": 8,
   "metadata": {},
   "outputs": [
    {
     "data": {
      "text/plain": [
       "(5582544, 20)"
      ]
     },
     "execution_count": 8,
     "metadata": {},
     "output_type": "execute_result"
    }
   ],
   "source": [
    "blackhole_data.shape"
   ]
  },
  {
   "cell_type": "code",
   "execution_count": 9,
   "metadata": {},
   "outputs": [
    {
     "data": {
      "application/vnd.jupyter.widget-view+json": {
       "model_id": "e63fa63e14e94065bd4d4ff85c294644",
       "version_major": 2,
       "version_minor": 0
      },
      "text/plain": [
       "HBox(children=(HTML(value='Distributing Dataframe'), FloatProgress(value=0.0, max=1.0), HTML(value='')))"
      ]
     },
     "metadata": {},
     "output_type": "display_data"
    },
    {
     "name": "stdout",
     "output_type": "stream",
     "text": [
      "\n",
      "<class 'modin.pandas.dataframe.DataFrame'>\n",
      "Int64Index: 5582544 entries, 0 to 5582543\n",
      "Data columns (total 20 columns):\n",
      " #   Column                                 Non-Null Count    Dtype  \n",
      "---  -------------------------------------  ----------------  -----  \n",
      " 0   Total_Stellar_Mass                     5582544 non-null  float64\n",
      " 1   Bulge_Stellar_Mass                     5582544 non-null  float64\n",
      " 2   Black_Hole_Mass                        5582544 non-null  float64\n",
      " 3   Hot_Gas_Mass                           5582544 non-null  float64\n",
      " 4   Mvir                                   5582544 non-null  float64\n",
      " 5   Rvir                                   5582544 non-null  float64\n",
      " 6   Vvir                                   5582544 non-null  float64\n",
      " 7   Vmax                                   5582544 non-null  float64\n",
      " 8   Velocity_Dispersion                    5582544 non-null  float64\n",
      " 9   Maximum_circular_velocity_of_the_halo  5582544 non-null  float64\n",
      " 10  SDSS_u_Absolute                        5582544 non-null  float64\n",
      " 11  SDSS_u_Apparent                        5582544 non-null  float64\n",
      " 12  SDSS_g_Absolute                        5582544 non-null  float64\n",
      " 13  SDSS_g_Apparent                        5582544 non-null  float64\n",
      " 14  SDSS_r_Absolute                        5582544 non-null  float64\n",
      " 15  SDSS_r_Apparent                        5582544 non-null  float64\n",
      " 16  SDSS_i_Absolute                        5582544 non-null  float64\n",
      " 17  SDSS_i_Apparent                        5582544 non-null  float64\n",
      " 18  SDSS_z_Absolute                        5582544 non-null  float64\n",
      " 19  SDSS_z_Apparent                        5582544 non-null  float64\n",
      "dtypes: float64(20)\n",
      "memory usage: 894.4 MB\n"
     ]
    }
   ],
   "source": [
    " blackhole_data.info()"
   ]
  },
  {
   "cell_type": "code",
   "execution_count": 10,
   "metadata": {},
   "outputs": [],
   "source": [
    "import matplotlib.pyplot as plt\n",
    "%matplotlib inline\n",
    "import seaborn as sns\n",
    "sns.set()\n",
    "import matplotlib as mpl\n",
    "mpl.rcParams['figure.figsize'] = (30, 30)\n",
    "mpl.rcParams['axes.grid'] = True"
   ]
  },
  {
   "cell_type": "code",
   "execution_count": null,
   "metadata": {},
   "outputs": [],
   "source": [
    "corr=blackhole_data.corr()\n",
    "corr.style.background_gradient(cmap='PuBu')"
   ]
  },
  {
   "cell_type": "code",
   "execution_count": null,
   "metadata": {},
   "outputs": [],
   "source": [
    "sns.heatmap(blackhole_data.corr(),cmap='coolwarm',annot=True)"
   ]
  },
  {
   "cell_type": "code",
   "execution_count": null,
   "metadata": {},
   "outputs": [],
   "source": [
    " blackhole_data.describe()"
   ]
  },
  {
   "cell_type": "code",
   "execution_count": null,
   "metadata": {},
   "outputs": [],
   "source": [
    "dataframe = blackhole_data.drop(columns=['SDSS_u_Absolute','SDSS_u_Apparent','SDSS_g_Absolute','SDSS_g_Apparent','SDSS_r_Absolute','SDSS_r_Apparent','SDSS_i_Absolute','SDSS_i_Apparent','SDSS_z_Absolute','SDSS_z_Apparent'])"
   ]
  },
  {
   "cell_type": "code",
   "execution_count": null,
   "metadata": {},
   "outputs": [],
   "source": [
    " dataframe.head()"
   ]
  },
  {
   "cell_type": "code",
   "execution_count": null,
   "metadata": {},
   "outputs": [],
   "source": [
    " #Divide the features into Independent and Dependent Variable\n",
    "X = dataframe.drop('Black_Hole_Mass' , axis =1)\n",
    "y = dataframe['Black_Hole_Mass']"
   ]
  },
  {
   "cell_type": "code",
   "execution_count": null,
   "metadata": {},
   "outputs": [],
   "source": []
  }
 ],
 "metadata": {
  "kernelspec": {
   "display_name": "Python 3.8 (py38)",
   "language": "python",
   "name": "py38"
  },
  "language_info": {
   "codemirror_mode": {
    "name": "ipython",
    "version": 3
   },
   "file_extension": ".py",
   "mimetype": "text/x-python",
   "name": "python",
   "nbconvert_exporter": "python",
   "pygments_lexer": "ipython3",
   "version": "3.8.5"
  }
 },
 "nbformat": 4,
 "nbformat_minor": 4
}

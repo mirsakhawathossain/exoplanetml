{
 "cells": [
  {
   "cell_type": "code",
   "execution_count": 2,
   "metadata": {},
   "outputs": [
    {
     "name": "stdout",
     "output_type": "stream",
     "text": [
      "Number of CPUs in the system: 16\n"
     ]
    }
   ],
   "source": [
    "import os\n",
    "print('Number of CPUs in the system: {}'.format(os.cpu_count()))"
   ]
  },
  {
   "cell_type": "code",
   "execution_count": 4,
   "metadata": {},
   "outputs": [
    {
     "name": "stdout",
     "output_type": "stream",
     "text": [
      "Collecting ipyparallel\n",
      "  Downloading ipyparallel-8.4.1-py3-none-any.whl (298 kB)\n",
      "\u001b[K     |████████████████████████████████| 298 kB 9.3 MB/s eta 0:00:01\n",
      "\u001b[?25hRequirement already satisfied: psutil in /home/idies/miniconda3/envs/py38/lib/python3.8/site-packages (from ipyparallel) (5.7.2)\n",
      "Requirement already satisfied: decorator in /home/idies/miniconda3/envs/py38/lib/python3.8/site-packages (from ipyparallel) (4.4.2)\n",
      "Requirement already satisfied: traitlets>=4.3 in /home/idies/miniconda3/envs/py38/lib/python3.8/site-packages (from ipyparallel) (5.0.5)\n",
      "Requirement already satisfied: jupyter-client in /home/idies/miniconda3/envs/py38/lib/python3.8/site-packages (from ipyparallel) (6.1.7)\n",
      "Requirement already satisfied: ipython>=4 in /home/idies/miniconda3/envs/py38/lib/python3.8/site-packages (from ipyparallel) (7.19.0)\n",
      "Requirement already satisfied: entrypoints in /home/idies/miniconda3/envs/py38/lib/python3.8/site-packages (from ipyparallel) (0.3)\n",
      "Requirement already satisfied: ipykernel>=4.4 in /home/idies/miniconda3/envs/py38/lib/python3.8/site-packages (from ipyparallel) (5.3.4)\n",
      "Requirement already satisfied: tqdm in /home/idies/miniconda3/envs/py38/lib/python3.8/site-packages (from ipyparallel) (4.50.2)\n",
      "Requirement already satisfied: tornado>=5.1 in /home/idies/miniconda3/envs/py38/lib/python3.8/site-packages (from ipyparallel) (6.0.4)\n",
      "Requirement already satisfied: python-dateutil>=2.1 in /home/idies/miniconda3/envs/py38/lib/python3.8/site-packages (from ipyparallel) (2.8.0)\n",
      "Requirement already satisfied: pyzmq>=18 in /home/idies/miniconda3/envs/py38/lib/python3.8/site-packages (from ipyparallel) (19.0.2)\n",
      "Requirement already satisfied: ipython-genutils in /home/idies/miniconda3/envs/py38/lib/python3.8/site-packages (from traitlets>=4.3->ipyparallel) (0.2.0)\n",
      "Requirement already satisfied: jupyter-core>=4.6.0 in /home/idies/miniconda3/envs/py38/lib/python3.8/site-packages (from jupyter-client->ipyparallel) (4.6.3)\n",
      "Requirement already satisfied: setuptools>=18.5 in /home/idies/miniconda3/envs/py38/lib/python3.8/site-packages (from ipython>=4->ipyparallel) (50.3.1.post20201107)\n",
      "Requirement already satisfied: backcall in /home/idies/miniconda3/envs/py38/lib/python3.8/site-packages (from ipython>=4->ipyparallel) (0.2.0)\n",
      "Requirement already satisfied: pygments in /home/idies/miniconda3/envs/py38/lib/python3.8/site-packages (from ipython>=4->ipyparallel) (2.7.2)\n",
      "Requirement already satisfied: prompt-toolkit!=3.0.0,!=3.0.1,<3.1.0,>=2.0.0 in /home/idies/miniconda3/envs/py38/lib/python3.8/site-packages (from ipython>=4->ipyparallel) (3.0.8)\n",
      "Requirement already satisfied: pickleshare in /home/idies/miniconda3/envs/py38/lib/python3.8/site-packages (from ipython>=4->ipyparallel) (0.7.5)\n",
      "Requirement already satisfied: pexpect>4.3; sys_platform != \"win32\" in /home/idies/miniconda3/envs/py38/lib/python3.8/site-packages (from ipython>=4->ipyparallel) (4.8.0)\n",
      "Requirement already satisfied: jedi>=0.10 in /home/idies/miniconda3/envs/py38/lib/python3.8/site-packages (from ipython>=4->ipyparallel) (0.17.1)\n",
      "Requirement already satisfied: six>=1.5 in /home/idies/miniconda3/envs/py38/lib/python3.8/site-packages (from python-dateutil>=2.1->ipyparallel) (1.15.0)\n",
      "Requirement already satisfied: wcwidth in /home/idies/miniconda3/envs/py38/lib/python3.8/site-packages (from prompt-toolkit!=3.0.0,!=3.0.1,<3.1.0,>=2.0.0->ipython>=4->ipyparallel) (0.2.5)\n",
      "Requirement already satisfied: ptyprocess>=0.5 in /home/idies/miniconda3/envs/py38/lib/python3.8/site-packages (from pexpect>4.3; sys_platform != \"win32\"->ipython>=4->ipyparallel) (0.6.0)\n",
      "Requirement already satisfied: parso<0.8.0,>=0.7.0 in /home/idies/miniconda3/envs/py38/lib/python3.8/site-packages (from jedi>=0.10->ipython>=4->ipyparallel) (0.7.0)\n",
      "Installing collected packages: ipyparallel\n",
      "Successfully installed ipyparallel-8.4.1\n"
     ]
    }
   ],
   "source": [
    "import sys\n",
    "!{sys.executable} -m pip install ipyparallel"
   ]
  },
  {
   "cell_type": "code",
   "execution_count": 4,
   "metadata": {},
   "outputs": [
    {
     "name": "stdout",
     "output_type": "stream",
     "text": [
      "Using existing profile dir: '/home/idies/.ipython/profile_default'\n",
      "Starting 16 engines with <class 'ipyparallel.cluster.launcher.LocalEngineSetLauncher'>\n"
     ]
    },
    {
     "data": {
      "application/vnd.jupyter.widget-view+json": {
       "model_id": "aca6de90c3d74759966800930490978a",
       "version_major": 2,
       "version_minor": 0
      },
      "text/plain": [
       "HBox(children=(HTML(value=''), FloatProgress(value=0.0, max=16.0), HTML(value='')))"
      ]
     },
     "metadata": {},
     "output_type": "display_data"
    },
    {
     "name": "stdout",
     "output_type": "stream",
     "text": [
      "\n"
     ]
    },
    {
     "data": {
      "application/vnd.jupyter.widget-view+json": {
       "model_id": "8b19aa6c63074501ae2499d0f7fe795c",
       "version_major": 2,
       "version_minor": 0
      },
      "text/plain": [
       "HBox(children=(HTML(value='sleep'), FloatProgress(value=0.0, max=25.0), HTML(value='')))"
      ]
     },
     "metadata": {},
     "output_type": "display_data"
    },
    {
     "name": "stdout",
     "output_type": "stream",
     "text": [
      "\n",
      "Stopping engine(s): 1667797056\n",
      "engine set stopped 1667797056: {'engines': {'0': {'exit_code': 0, 'pid': 92, 'identifier': '0'}, '1': {'exit_code': 0, 'pid': 94, 'identifier': '1'}, '2': {'exit_code': 0, 'pid': 96, 'identifier': '2'}, '3': {'exit_code': 0, 'pid': 98, 'identifier': '3'}, '4': {'exit_code': 0, 'pid': 100, 'identifier': '4'}, '5': {'exit_code': 0, 'pid': 102, 'identifier': '5'}, '6': {'exit_code': 0, 'pid': 104, 'identifier': '6'}, '7': {'exit_code': 0, 'pid': 106, 'identifier': '7'}, '8': {'exit_code': 0, 'pid': 109, 'identifier': '8'}, '9': {'exit_code': 0, 'pid': 111, 'identifier': '9'}, '10': {'exit_code': 0, 'pid': 113, 'identifier': '10'}, '11': {'exit_code': 0, 'pid': 116, 'identifier': '11'}, '12': {'exit_code': 0, 'pid': 118, 'identifier': '12'}, '13': {'exit_code': 0, 'pid': 120, 'identifier': '13'}, '14': {'exit_code': 0, 'pid': 123, 'identifier': '14'}, '15': {'exit_code': 0, 'pid': 125, 'identifier': '15'}}, 'exit_code': 0}\n",
      "Stopping controller\n",
      "Controller stopped: {'exit_code': 0, 'pid': 62, 'identifier': 'ipcontroller-1667797055-lkx1-30'}\n"
     ]
    }
   ],
   "source": [
    "import time\n",
    "import ipyparallel as ipp\n",
    "\n",
    "task_durations = [1] * 25\n",
    "# request a cluster\n",
    "with ipp.Cluster() as rc:\n",
    "    # get a view on the cluster\n",
    "    view = rc.load_balanced_view()\n",
    "    # submit the tasks\n",
    "    asyncresult = view.map_async(time.sleep, task_durations)\n",
    "    # wait interactively for results\n",
    "    asyncresult.wait_interactive()\n",
    "    # retrieve actual results\n",
    "    result = asyncresult.get()\n",
    "# at this point, the cluster processes have been shutdown"
   ]
  },
  {
   "cell_type": "code",
   "execution_count": 5,
   "metadata": {},
   "outputs": [
    {
     "data": {
      "text/plain": [
       "[0, 1, 2, 3, 4, 5, 6, 7, 8, 9, 10, 11, 12, 13, 14, 15]"
      ]
     },
     "execution_count": 5,
     "metadata": {},
     "output_type": "execute_result"
    }
   ],
   "source": [
    "rc.ids"
   ]
  },
  {
   "cell_type": "code",
   "execution_count": 9,
   "metadata": {},
   "outputs": [],
   "source": [
    "bview = rc.load_balanced_view()"
   ]
  },
  {
   "cell_type": "code",
   "execution_count": 19,
   "metadata": {},
   "outputs": [
    {
     "name": "stdout",
     "output_type": "stream",
     "text": [
      "Using existing profile dir: '/home/idies/.ipython/profile_default'\n"
     ]
    },
    {
     "data": {
      "text/plain": [
       "<Cluster(cluster_id='1667799307-0nxw', profile='default')>"
      ]
     },
     "execution_count": 19,
     "metadata": {},
     "output_type": "execute_result"
    }
   ],
   "source": [
    "import ipyparallel as ipp\n",
    "\n",
    "cluster = ipp.Cluster()\n",
    "cluster"
   ]
  },
  {
   "cell_type": "code",
   "execution_count": 21,
   "metadata": {},
   "outputs": [
    {
     "name": "stdout",
     "output_type": "stream",
     "text": [
      "Using existing profile dir: '/home/idies/.ipython/profile_default'\n",
      "Starting 16 engines with <class 'ipyparallel.cluster.launcher.LocalEngineSetLauncher'>\n"
     ]
    },
    {
     "data": {
      "application/vnd.jupyter.widget-view+json": {
       "model_id": "9971ba0d1c2c41138af693b2254ed5e8",
       "version_major": 2,
       "version_minor": 0
      },
      "text/plain": [
       "HBox(children=(HTML(value=''), FloatProgress(value=0.0, max=16.0), HTML(value='')))"
      ]
     },
     "metadata": {},
     "output_type": "display_data"
    },
    {
     "name": "stdout",
     "output_type": "stream",
     "text": [
      "\n"
     ]
    },
    {
     "data": {
      "text/plain": [
       "[0, 1, 2, 3, 4, 5, 6, 7, 8, 9, 10, 11, 12, 13, 14, 15]"
      ]
     },
     "execution_count": 21,
     "metadata": {},
     "output_type": "execute_result"
    }
   ],
   "source": [
    "import ipyparallel as ipp\n",
    "\n",
    "rc = ipp.Cluster().start_and_connect_sync()\n",
    "dv = rc[:]\n",
    "rc.ids"
   ]
  },
  {
   "cell_type": "code",
   "execution_count": 32,
   "metadata": {},
   "outputs": [
    {
     "ename": "RuntimeError",
     "evalue": "Client cannot be used after its sockets have been closed",
     "output_type": "error",
     "traceback": [
      "\u001b[0;31m\u001b[0m",
      "\u001b[0;31mRuntimeError\u001b[0mTraceback (most recent call last)",
      "\u001b[0;32m<ipython-input-32-5cb2ff3390bf>\u001b[0m in \u001b[0;36m<module>\u001b[0;34m\u001b[0m\n\u001b[0;32m----> 1\u001b[0;31m \u001b[0mget_ipython\u001b[0m\u001b[0;34m(\u001b[0m\u001b[0;34m)\u001b[0m\u001b[0;34m.\u001b[0m\u001b[0mrun_line_magic\u001b[0m\u001b[0;34m(\u001b[0m\u001b[0;34m'px'\u001b[0m\u001b[0;34m,\u001b[0m \u001b[0;34m''\u001b[0m\u001b[0;34m)\u001b[0m\u001b[0;34m\u001b[0m\u001b[0;34m\u001b[0m\u001b[0m\n\u001b[0m\u001b[1;32m      2\u001b[0m \u001b[0ma\u001b[0m\u001b[0;34m=\u001b[0m\u001b[0;36m5\u001b[0m\u001b[0;34m\u001b[0m\u001b[0;34m\u001b[0m\u001b[0m\n\u001b[1;32m      3\u001b[0m \u001b[0mprint\u001b[0m\u001b[0;34m(\u001b[0m\u001b[0ma\u001b[0m\u001b[0;34m)\u001b[0m\u001b[0;34m\u001b[0m\u001b[0;34m\u001b[0m\u001b[0m\n",
      "\u001b[0;32m~/miniconda3/envs/py38/lib/python3.8/site-packages/IPython/core/interactiveshell.py\u001b[0m in \u001b[0;36mrun_line_magic\u001b[0;34m(self, magic_name, line, _stack_depth)\u001b[0m\n\u001b[1;32m   2325\u001b[0m                 \u001b[0mkwargs\u001b[0m\u001b[0;34m[\u001b[0m\u001b[0;34m'local_ns'\u001b[0m\u001b[0;34m]\u001b[0m \u001b[0;34m=\u001b[0m \u001b[0mself\u001b[0m\u001b[0;34m.\u001b[0m\u001b[0mget_local_scope\u001b[0m\u001b[0;34m(\u001b[0m\u001b[0mstack_depth\u001b[0m\u001b[0;34m)\u001b[0m\u001b[0;34m\u001b[0m\u001b[0;34m\u001b[0m\u001b[0m\n\u001b[1;32m   2326\u001b[0m             \u001b[0;32mwith\u001b[0m \u001b[0mself\u001b[0m\u001b[0;34m.\u001b[0m\u001b[0mbuiltin_trap\u001b[0m\u001b[0;34m:\u001b[0m\u001b[0;34m\u001b[0m\u001b[0;34m\u001b[0m\u001b[0m\n\u001b[0;32m-> 2327\u001b[0;31m                 \u001b[0mresult\u001b[0m \u001b[0;34m=\u001b[0m \u001b[0mfn\u001b[0m\u001b[0;34m(\u001b[0m\u001b[0;34m*\u001b[0m\u001b[0margs\u001b[0m\u001b[0;34m,\u001b[0m \u001b[0;34m**\u001b[0m\u001b[0mkwargs\u001b[0m\u001b[0;34m)\u001b[0m\u001b[0;34m\u001b[0m\u001b[0;34m\u001b[0m\u001b[0m\n\u001b[0m\u001b[1;32m   2328\u001b[0m             \u001b[0;32mreturn\u001b[0m \u001b[0mresult\u001b[0m\u001b[0;34m\u001b[0m\u001b[0;34m\u001b[0m\u001b[0m\n\u001b[1;32m   2329\u001b[0m \u001b[0;34m\u001b[0m\u001b[0m\n",
      "\u001b[0;32m~/miniconda3/envs/py38/lib/python3.8/site-packages/ipyparallel/client/magics.py\u001b[0m in \u001b[0;36mpx\u001b[0;34m(self, line)\u001b[0m\n\u001b[1;32m    356\u001b[0m             \u001b[0;34m[\u001b[0m\u001b[0mstdout\u001b[0m\u001b[0;34m:\u001b[0m\u001b[0;36m3\u001b[0m\u001b[0;34m]\u001b[0m \u001b[0;36m1237\u001b[0m\u001b[0;34m\u001b[0m\u001b[0;34m\u001b[0m\u001b[0m\n\u001b[1;32m    357\u001b[0m         \"\"\"\n\u001b[0;32m--> 358\u001b[0;31m         \u001b[0;32mreturn\u001b[0m \u001b[0mself\u001b[0m\u001b[0;34m.\u001b[0m\u001b[0mparallel_execute\u001b[0m\u001b[0;34m(\u001b[0m\u001b[0mline\u001b[0m\u001b[0;34m)\u001b[0m\u001b[0;34m\u001b[0m\u001b[0;34m\u001b[0m\u001b[0m\n\u001b[0m\u001b[1;32m    359\u001b[0m \u001b[0;34m\u001b[0m\u001b[0m\n\u001b[1;32m    360\u001b[0m     def parallel_execute(\n",
      "\u001b[0;32m~/miniconda3/envs/py38/lib/python3.8/site-packages/ipyparallel/client/magics.py\u001b[0m in \u001b[0;36mparallel_execute\u001b[0;34m(self, cell, block, groupby, save_name, stream_output, progress_after, signal_on_interrupt)\u001b[0m\n\u001b[1;32m    389\u001b[0m             \u001b[0mprint\u001b[0m\u001b[0;34m(\u001b[0m\u001b[0mbase\u001b[0m \u001b[0;34m+\u001b[0m \u001b[0;34m\" execution on engine(s): %s\"\u001b[0m \u001b[0;34m%\u001b[0m \u001b[0mstr_targets\u001b[0m\u001b[0;34m)\u001b[0m\u001b[0;34m\u001b[0m\u001b[0;34m\u001b[0m\u001b[0m\n\u001b[1;32m    390\u001b[0m \u001b[0;34m\u001b[0m\u001b[0m\n\u001b[0;32m--> 391\u001b[0;31m         \u001b[0mresult\u001b[0m \u001b[0;34m=\u001b[0m \u001b[0mself\u001b[0m\u001b[0;34m.\u001b[0m\u001b[0mview\u001b[0m\u001b[0;34m.\u001b[0m\u001b[0mexecute\u001b[0m\u001b[0;34m(\u001b[0m\u001b[0mcell\u001b[0m\u001b[0;34m,\u001b[0m \u001b[0msilent\u001b[0m\u001b[0;34m=\u001b[0m\u001b[0;32mFalse\u001b[0m\u001b[0;34m,\u001b[0m \u001b[0mblock\u001b[0m\u001b[0;34m=\u001b[0m\u001b[0;32mFalse\u001b[0m\u001b[0;34m)\u001b[0m\u001b[0;34m\u001b[0m\u001b[0;34m\u001b[0m\u001b[0m\n\u001b[0m\u001b[1;32m    392\u001b[0m         \u001b[0mresult\u001b[0m\u001b[0;34m.\u001b[0m\u001b[0m_fname\u001b[0m \u001b[0;34m=\u001b[0m \u001b[0;34m\"%px\"\u001b[0m\u001b[0;34m\u001b[0m\u001b[0;34m\u001b[0m\u001b[0m\n\u001b[1;32m    393\u001b[0m         \u001b[0mself\u001b[0m\u001b[0;34m.\u001b[0m\u001b[0mlast_result\u001b[0m \u001b[0;34m=\u001b[0m \u001b[0mresult\u001b[0m\u001b[0;34m\u001b[0m\u001b[0;34m\u001b[0m\u001b[0m\n",
      "\u001b[0;32m<decorator-gen-134>\u001b[0m in \u001b[0;36mexecute\u001b[0;34m(self, code, silent, targets, block)\u001b[0m\n",
      "\u001b[0;32m~/miniconda3/envs/py38/lib/python3.8/site-packages/ipyparallel/client/view.py\u001b[0m in \u001b[0;36msync_results\u001b[0;34m(f, self, *args, **kwargs)\u001b[0m\n\u001b[1;32m     51\u001b[0m     \u001b[0mself\u001b[0m\u001b[0;34m.\u001b[0m\u001b[0m_in_sync_results\u001b[0m \u001b[0;34m=\u001b[0m \u001b[0;32mTrue\u001b[0m\u001b[0;34m\u001b[0m\u001b[0;34m\u001b[0m\u001b[0m\n\u001b[1;32m     52\u001b[0m     \u001b[0;32mtry\u001b[0m\u001b[0;34m:\u001b[0m\u001b[0;34m\u001b[0m\u001b[0;34m\u001b[0m\u001b[0m\n\u001b[0;32m---> 53\u001b[0;31m         \u001b[0mret\u001b[0m \u001b[0;34m=\u001b[0m \u001b[0mf\u001b[0m\u001b[0;34m(\u001b[0m\u001b[0mself\u001b[0m\u001b[0;34m,\u001b[0m \u001b[0;34m*\u001b[0m\u001b[0margs\u001b[0m\u001b[0;34m,\u001b[0m \u001b[0;34m**\u001b[0m\u001b[0mkwargs\u001b[0m\u001b[0;34m)\u001b[0m\u001b[0;34m\u001b[0m\u001b[0;34m\u001b[0m\u001b[0m\n\u001b[0m\u001b[1;32m     54\u001b[0m     \u001b[0;32mfinally\u001b[0m\u001b[0;34m:\u001b[0m\u001b[0;34m\u001b[0m\u001b[0;34m\u001b[0m\u001b[0m\n\u001b[1;32m     55\u001b[0m         \u001b[0mself\u001b[0m\u001b[0;34m.\u001b[0m\u001b[0m_in_sync_results\u001b[0m \u001b[0;34m=\u001b[0m \u001b[0;32mFalse\u001b[0m\u001b[0;34m\u001b[0m\u001b[0;34m\u001b[0m\u001b[0m\n",
      "\u001b[0;32m<decorator-gen-133>\u001b[0m in \u001b[0;36mexecute\u001b[0;34m(self, code, silent, targets, block)\u001b[0m\n",
      "\u001b[0;32m~/miniconda3/envs/py38/lib/python3.8/site-packages/ipyparallel/client/view.py\u001b[0m in \u001b[0;36msave_ids\u001b[0;34m(f, self, *args, **kwargs)\u001b[0m\n\u001b[1;32m     35\u001b[0m     \u001b[0mn_previous\u001b[0m \u001b[0;34m=\u001b[0m \u001b[0mlen\u001b[0m\u001b[0;34m(\u001b[0m\u001b[0mself\u001b[0m\u001b[0;34m.\u001b[0m\u001b[0mclient\u001b[0m\u001b[0;34m.\u001b[0m\u001b[0mhistory\u001b[0m\u001b[0;34m)\u001b[0m\u001b[0;34m\u001b[0m\u001b[0;34m\u001b[0m\u001b[0m\n\u001b[1;32m     36\u001b[0m     \u001b[0;32mtry\u001b[0m\u001b[0;34m:\u001b[0m\u001b[0;34m\u001b[0m\u001b[0;34m\u001b[0m\u001b[0m\n\u001b[0;32m---> 37\u001b[0;31m         \u001b[0mret\u001b[0m \u001b[0;34m=\u001b[0m \u001b[0mf\u001b[0m\u001b[0;34m(\u001b[0m\u001b[0mself\u001b[0m\u001b[0;34m,\u001b[0m \u001b[0;34m*\u001b[0m\u001b[0margs\u001b[0m\u001b[0;34m,\u001b[0m \u001b[0;34m**\u001b[0m\u001b[0mkwargs\u001b[0m\u001b[0;34m)\u001b[0m\u001b[0;34m\u001b[0m\u001b[0;34m\u001b[0m\u001b[0m\n\u001b[0m\u001b[1;32m     38\u001b[0m     \u001b[0;32mfinally\u001b[0m\u001b[0;34m:\u001b[0m\u001b[0;34m\u001b[0m\u001b[0;34m\u001b[0m\u001b[0m\n\u001b[1;32m     39\u001b[0m         \u001b[0mnmsgs\u001b[0m \u001b[0;34m=\u001b[0m \u001b[0mlen\u001b[0m\u001b[0;34m(\u001b[0m\u001b[0mself\u001b[0m\u001b[0;34m.\u001b[0m\u001b[0mclient\u001b[0m\u001b[0;34m.\u001b[0m\u001b[0mhistory\u001b[0m\u001b[0;34m)\u001b[0m \u001b[0;34m-\u001b[0m \u001b[0mn_previous\u001b[0m\u001b[0;34m\u001b[0m\u001b[0;34m\u001b[0m\u001b[0m\n",
      "\u001b[0;32m~/miniconda3/envs/py38/lib/python3.8/site-packages/ipyparallel/client/view.py\u001b[0m in \u001b[0;36mexecute\u001b[0;34m(self, code, silent, targets, block)\u001b[0m\n\u001b[1;32m    656\u001b[0m         \u001b[0mfutures\u001b[0m \u001b[0;34m=\u001b[0m \u001b[0;34m[\u001b[0m\u001b[0;34m]\u001b[0m\u001b[0;34m\u001b[0m\u001b[0;34m\u001b[0m\u001b[0m\n\u001b[1;32m    657\u001b[0m         \u001b[0;32mfor\u001b[0m \u001b[0mident\u001b[0m \u001b[0;32min\u001b[0m \u001b[0m_idents\u001b[0m\u001b[0;34m:\u001b[0m\u001b[0;34m\u001b[0m\u001b[0;34m\u001b[0m\u001b[0m\n\u001b[0;32m--> 658\u001b[0;31m             future = self.client.send_execute_request(\n\u001b[0m\u001b[1;32m    659\u001b[0m                 \u001b[0mself\u001b[0m\u001b[0;34m.\u001b[0m\u001b[0m_socket\u001b[0m\u001b[0;34m,\u001b[0m \u001b[0mcode\u001b[0m\u001b[0;34m,\u001b[0m \u001b[0msilent\u001b[0m\u001b[0;34m=\u001b[0m\u001b[0msilent\u001b[0m\u001b[0;34m,\u001b[0m \u001b[0mident\u001b[0m\u001b[0;34m=\u001b[0m\u001b[0mident\u001b[0m\u001b[0;34m\u001b[0m\u001b[0;34m\u001b[0m\u001b[0m\n\u001b[1;32m    660\u001b[0m             )\n",
      "\u001b[0;32m~/miniconda3/envs/py38/lib/python3.8/site-packages/ipyparallel/client/client.py\u001b[0m in \u001b[0;36msend_execute_request\u001b[0;34m(self, socket, code, silent, metadata, ident, message_future_hook)\u001b[0m\n\u001b[1;32m   1978\u001b[0m \u001b[0;34m\u001b[0m\u001b[0m\n\u001b[1;32m   1979\u001b[0m         \u001b[0;32mif\u001b[0m \u001b[0mself\u001b[0m\u001b[0;34m.\u001b[0m\u001b[0m_closed\u001b[0m\u001b[0;34m:\u001b[0m\u001b[0;34m\u001b[0m\u001b[0;34m\u001b[0m\u001b[0m\n\u001b[0;32m-> 1980\u001b[0;31m             raise RuntimeError(\n\u001b[0m\u001b[1;32m   1981\u001b[0m                 \u001b[0;34m\"Client cannot be used after its sockets have been closed\"\u001b[0m\u001b[0;34m\u001b[0m\u001b[0;34m\u001b[0m\u001b[0m\n\u001b[1;32m   1982\u001b[0m             )\n",
      "\u001b[0;31mRuntimeError\u001b[0m: Client cannot be used after its sockets have been closed"
     ]
    }
   ],
   "source": [
    "%px \n",
    "a=5\n",
    "print(a)"
   ]
  },
  {
   "cell_type": "code",
   "execution_count": 11,
   "metadata": {},
   "outputs": [
    {
     "name": "stdout",
     "output_type": "stream",
     "text": [
      "Using existing profile dir: '/home/idies/.ipython/profile_default'\n",
      "Starting 16 engines with <class 'ipyparallel.cluster.launcher.LocalEngineSetLauncher'>\n"
     ]
    },
    {
     "data": {
      "application/vnd.jupyter.widget-view+json": {
       "model_id": "cec258a709fd42d3bb6db856d0b99a53",
       "version_major": 2,
       "version_minor": 0
      },
      "text/plain": [
       "HBox(children=(HTML(value=''), FloatProgress(value=0.0, max=16.0), HTML(value='')))"
      ]
     },
     "metadata": {},
     "output_type": "display_data"
    },
    {
     "name": "stdout",
     "output_type": "stream",
     "text": [
      "\n"
     ]
    },
    {
     "data": {
      "text/plain": [
       "[0, 1, 2, 3, 4, 5, 6, 7, 8, 9, 10, 11, 12, 13, 14, 15]"
      ]
     },
     "execution_count": 11,
     "metadata": {},
     "output_type": "execute_result"
    }
   ],
   "source": [
    "import ipyparallel as ipp\n",
    "\n",
    "rc = ipp.Cluster().start_and_connect_sync()\n",
    "dv = rc[:]\n",
    "rc.ids"
   ]
  },
  {
   "cell_type": "code",
   "execution_count": 13,
   "metadata": {},
   "outputs": [
    {
     "name": "stdout",
     "output_type": "stream",
     "text": [
      "Python Version :  3.8.5 (default, Sep  4 2020, 07:30:14) \n",
      "[GCC 7.3.0]\n",
      "IPyparallel Version :  8.4.1\n"
     ]
    }
   ],
   "source": [
    "import ipyparallel\n",
    "\n",
    "import sys\n",
    "import time\n",
    "\n",
    "print(\"Python Version : \", sys.version)\n",
    "print(\"IPyparallel Version : \", ipyparallel.__version__)"
   ]
  },
  {
   "cell_type": "code",
   "execution_count": 18,
   "metadata": {},
   "outputs": [
    {
     "name": "stdout",
     "output_type": "stream",
     "text": [
      "Waiting for connection file: ~/.ipython/profile_default/security/ipcontroller-client.json\n"
     ]
    },
    {
     "ename": "OSError",
     "evalue": "Connection file '~/.ipython/profile_default/security/ipcontroller-client.json' not found.\nYou have attempted to connect to an IPython Cluster but no Controller could be found.\nPlease double-check your configuration and ensure that a cluster is running.",
     "output_type": "error",
     "traceback": [
      "\u001b[0;31m\u001b[0m",
      "\u001b[0;31mOSError\u001b[0mTraceback (most recent call last)",
      "\u001b[0;32m<ipython-input-18-bb9cb560b3ef>\u001b[0m in \u001b[0;36m<module>\u001b[0;34m\u001b[0m\n\u001b[1;32m      1\u001b[0m \u001b[0;32mfrom\u001b[0m \u001b[0mipyparallel\u001b[0m \u001b[0;32mimport\u001b[0m \u001b[0mClient\u001b[0m\u001b[0;34m\u001b[0m\u001b[0;34m\u001b[0m\u001b[0m\n\u001b[0;32m----> 2\u001b[0;31m \u001b[0mclient\u001b[0m \u001b[0;34m=\u001b[0m \u001b[0mClient\u001b[0m\u001b[0;34m(\u001b[0m\u001b[0;34m)\u001b[0m\u001b[0;34m\u001b[0m\u001b[0;34m\u001b[0m\u001b[0m\n\u001b[0m\u001b[1;32m      3\u001b[0m \u001b[0mview\u001b[0m \u001b[0;34m=\u001b[0m \u001b[0mclient\u001b[0m\u001b[0;34m.\u001b[0m\u001b[0mload_balanced_view\u001b[0m\u001b[0;34m(\u001b[0m\u001b[0;34m)\u001b[0m\u001b[0;34m\u001b[0m\u001b[0;34m\u001b[0m\u001b[0m\n",
      "\u001b[0;32m~/miniconda3/envs/py38/lib/python3.8/site-packages/ipyparallel/client/client.py\u001b[0m in \u001b[0;36m__init__\u001b[0;34m(self, connection_info, url_file, profile, profile_dir, ipython_dir, context, debug, sshserver, sshkey, password, paramiko, timeout, cluster_id, cluster, **extra_args)\u001b[0m\n\u001b[1;32m    452\u001b[0m             \u001b[0;32mif\u001b[0m \u001b[0;32mnot\u001b[0m \u001b[0mos\u001b[0m\u001b[0;34m.\u001b[0m\u001b[0mpath\u001b[0m\u001b[0;34m.\u001b[0m\u001b[0mexists\u001b[0m\u001b[0;34m(\u001b[0m\u001b[0mconnection_file\u001b[0m\u001b[0;34m)\u001b[0m\u001b[0;34m:\u001b[0m\u001b[0;34m\u001b[0m\u001b[0;34m\u001b[0m\u001b[0m\n\u001b[1;32m    453\u001b[0m                 \u001b[0mmsg\u001b[0m \u001b[0;34m=\u001b[0m \u001b[0;34m'\\n'\u001b[0m\u001b[0;34m.\u001b[0m\u001b[0mjoin\u001b[0m\u001b[0;34m(\u001b[0m\u001b[0;34m[\u001b[0m\u001b[0;34mf\"Connection file {short!r} not found.\"\u001b[0m\u001b[0;34m,\u001b[0m \u001b[0mno_file_msg\u001b[0m\u001b[0;34m]\u001b[0m\u001b[0;34m)\u001b[0m\u001b[0;34m\u001b[0m\u001b[0;34m\u001b[0m\u001b[0m\n\u001b[0;32m--> 454\u001b[0;31m                 \u001b[0;32mraise\u001b[0m \u001b[0mOSError\u001b[0m\u001b[0;34m(\u001b[0m\u001b[0mmsg\u001b[0m\u001b[0;34m)\u001b[0m\u001b[0;34m\u001b[0m\u001b[0;34m\u001b[0m\u001b[0m\n\u001b[0m\u001b[1;32m    455\u001b[0m \u001b[0;34m\u001b[0m\u001b[0m\n\u001b[1;32m    456\u001b[0m             \u001b[0;32mwith\u001b[0m \u001b[0mopen\u001b[0m\u001b[0;34m(\u001b[0m\u001b[0mconnection_file\u001b[0m\u001b[0;34m)\u001b[0m \u001b[0;32mas\u001b[0m \u001b[0mf\u001b[0m\u001b[0;34m:\u001b[0m\u001b[0;34m\u001b[0m\u001b[0;34m\u001b[0m\u001b[0m\n",
      "\u001b[0;31mOSError\u001b[0m: Connection file '~/.ipython/profile_default/security/ipcontroller-client.json' not found.\nYou have attempted to connect to an IPython Cluster but no Controller could be found.\nPlease double-check your configuration and ensure that a cluster is running."
     ]
    }
   ],
   "source": [
    "from ipyparallel import Client\n",
    "client = Client()\n",
    "view = client.load_balanced_view()"
   ]
  },
  {
   "cell_type": "code",
<<<<<<< HEAD
=======
   "execution_count": 25,
   "metadata": {},
   "outputs": [
    {
     "name": "stdout",
     "output_type": "stream",
     "text": [
      "Using existing profile dir: '/home/idies/.ipython/profile_default'\n",
      "Starting 16 engines with <class 'ipyparallel.cluster.launcher.LocalEngineSetLauncher'>\n"
     ]
    },
    {
     "data": {
      "application/vnd.jupyter.widget-view+json": {
       "model_id": "6b7f46cdba154424bc73386f3d5edb05",
       "version_major": 2,
       "version_minor": 0
      },
      "text/plain": [
       "HBox(children=(HTML(value=''), FloatProgress(value=0.0, max=16.0), HTML(value='')))"
      ]
     },
     "metadata": {},
     "output_type": "display_data"
    },
    {
     "name": "stdout",
     "output_type": "stream",
     "text": [
      "\n"
     ]
    },
    {
     "data": {
      "text/plain": [
       "[0, 1, 2, 3, 4, 5, 6, 7, 8, 9, 10, 11, 12, 13, 14, 15]"
      ]
     },
     "execution_count": 25,
     "metadata": {},
     "output_type": "execute_result"
    }
   ],
   "source": [
    "import os\n",
    "import ipyparallel as ipp\n",
    "ipp.__version__   # check that at least version 7\n",
    "mycluster = ipp.Cluster(n = int(os.cpu_count()))\n",
    "mycluster.start_cluster_sync()\n",
    "\n",
    "c = mycluster.connect_client_sync()\n",
    "c.wait_for_engines(n = int(os.cpu_count()))\n",
    "c.ids\n"
   ]
  },
  {
   "cell_type": "code",
   "execution_count": 30,
   "metadata": {},
   "outputs": [
    {
     "data": {
      "text/plain": [
       "['Hello, World',\n",
       " 'Hello, World',\n",
       " 'Hello, World',\n",
       " 'Hello, World',\n",
       " 'Hello, World',\n",
       " 'Hello, World',\n",
       " 'Hello, World',\n",
       " 'Hello, World',\n",
       " 'Hello, World',\n",
       " 'Hello, World',\n",
       " 'Hello, World',\n",
       " 'Hello, World',\n",
       " 'Hello, World',\n",
       " 'Hello, World',\n",
       " 'Hello, World',\n",
       " 'Hello, World']"
      ]
     },
     "execution_count": 30,
     "metadata": {},
     "output_type": "execute_result"
    }
   ],
   "source": [
    "dview = c[:]\n",
    "# Cause execution on main process to wait while tasks sent to workers finish\n",
    "dview.block = True   \n",
    "dview.apply(lambda : \"Hello, World\")\n"
   ]
  },
  {
   "cell_type": "code",
   "execution_count": 31,
   "metadata": {},
   "outputs": [],
   "source": [
    "def looFit(index, Ylocal, Xlocal):\n",
    "    rf = rfr(n_estimators=100)\n",
    "    fitted = rf.fit(np.delete(Xlocal, index, axis = 0), np.delete(Ylocal, index))\n",
    "    pred = rf.predict(np.array([Xlocal[index, :]]))\n",
    "    return(pred[0])\n"
   ]
  },
  {
   "cell_type": "code",
   "execution_count": 32,
   "metadata": {},
   "outputs": [
    {
     "data": {
      "text/plain": [
       "[None,\n",
       " None,\n",
       " None,\n",
       " None,\n",
       " None,\n",
       " None,\n",
       " None,\n",
       " None,\n",
       " None,\n",
       " None,\n",
       " None,\n",
       " None,\n",
       " None,\n",
       " None,\n",
       " None,\n",
       " None]"
      ]
     },
     "execution_count": 32,
     "metadata": {},
     "output_type": "execute_result"
    }
   ],
   "source": [
    "dview.execute('from sklearn.ensemble import RandomForestRegressor as rfr')\n",
    "dview.execute('import numpy as np')\n",
    "# assume predictors are in 2-d array X and outcomes in 1-d array Y\n",
    "# here we generate random arrays for X and Y\n",
    "# we need to broadcast those data objects to the workers\n",
    "import numpy as np\n",
    "X = np.random.random((200,5))\n",
    "Y = np.random.random(200)\n",
    "mydict = dict(X = X, Y = Y, looFit = looFit)\n",
    "dview.push(mydict)\n"
   ]
  },
  {
   "cell_type": "code",
   "execution_count": 33,
   "metadata": {},
   "outputs": [
    {
     "name": "stdout",
     "output_type": "stream",
     "text": [
      "[0.4728242414882466, 0.7116144448725062, 0.41654540853712135, 0.4945465510160302, 0.5729413279332323, 0.524632661935314, 0.3283091572109699, 0.41274435909267565, 0.3382307565163589, 0.6318693325627855]\n"
     ]
    }
   ],
   "source": [
    "# Need a wrapper function because map() only operates on one argument\n",
    "def wrapper(i):\n",
    "    return(looFit(i, Y, X))\n",
    "\n",
    "n = len(Y)\n",
    "import time\n",
    "time.time()\n",
    "# Run a parallel map, executing the wrapper function on indices 0,...,n-1\n",
    "lview = c.load_balanced_view()\n",
    "# Cause execution on main process to wait while tasks sent to workers finish\n",
    "lview.block = True \n",
    "pred = lview.map(wrapper, range(n))   # Run calculation in parallel\n",
    "time.time()\n",
    "print(pred[0:10])\n"
   ]
  },
  {
   "cell_type": "code",
>>>>>>> 90e819767610bee4b4ce03d6f3a7a6533f7565a4
   "execution_count": null,
   "metadata": {},
   "outputs": [],
   "source": []
  }
 ],
 "metadata": {
  "kernelspec": {
   "display_name": "Python 3.8 (py38)",
   "language": "python",
   "name": "py38"
  },
  "language_info": {
   "codemirror_mode": {
    "name": "ipython",
    "version": 3
   },
   "file_extension": ".py",
   "mimetype": "text/x-python",
   "name": "python",
   "nbconvert_exporter": "python",
   "pygments_lexer": "ipython3",
   "version": "3.8.5"
  }
 },
 "nbformat": 4,
 "nbformat_minor": 4
}

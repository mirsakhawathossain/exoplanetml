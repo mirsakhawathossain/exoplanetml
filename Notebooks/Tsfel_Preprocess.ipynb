{
  "nbformat": 4,
  "nbformat_minor": 0,
  "metadata": {
    "colab": {
      "provenance": [],
      "gpuType": "T4"
    },
    "kernelspec": {
      "name": "python3",
      "display_name": "Python 3"
    },
    "language_info": {
      "name": "python"
    },
    "accelerator": "GPU",
    "gpuClass": "standard"
  },
  "cells": [
    {
      "cell_type": "code",
      "source": [
        "!git clone https://gitlab.com/mirsakhawathossain/data-extract.git"
      ],
      "metadata": {
        "colab": {
          "base_uri": "https://localhost:8080/"
        },
        "id": "NLMOsjSTgvO4",
        "outputId": "1847603e-31d6-4600-9ee2-273cc8a060fd"
      },
      "execution_count": 1,
      "outputs": [
        {
          "output_type": "stream",
          "name": "stdout",
          "text": [
            "Cloning into 'data-extract'...\n",
            "remote: Enumerating objects: 351, done.\u001b[K\n",
            "remote: Counting objects: 100% (248/248), done.\u001b[K\n",
            "remote: Compressing objects: 100% (247/247), done.\u001b[K\n",
            "remote: Total 351 (delta 2), reused 241 (delta 0), pack-reused 103\u001b[K\n",
            "Receiving objects: 100% (351/351), 2.36 GiB | 20.72 MiB/s, done.\n",
            "Resolving deltas: 100% (2/2), done.\n"
          ]
        }
      ]
    },
    {
      "cell_type": "code",
      "execution_count": 2,
      "metadata": {
        "colab": {
          "base_uri": "https://localhost:8080/"
        },
        "id": "KXSvIX7-Xnjf",
        "outputId": "20d6d2e6-e2a1-4bf4-f735-f910c6d44cdc"
      },
      "outputs": [
        {
          "output_type": "stream",
          "name": "stdout",
          "text": [
            "Looking in indexes: https://pypi.org/simple, https://us-python.pkg.dev/colab-wheels/public/simple/\n",
            "Collecting tsfel\n",
            "  Downloading tsfel-0.1.5-py3-none-any.whl (46 kB)\n",
            "\u001b[2K     \u001b[90m━━━━━━━━━━━━━━━━━━━━━━━━━━━━━━━━━━━━━━━━\u001b[0m \u001b[32m46.9/46.9 kB\u001b[0m \u001b[31m3.1 MB/s\u001b[0m eta \u001b[36m0:00:00\u001b[0m\n",
            "\u001b[?25hRequirement already satisfied: Sphinx>=1.8.5 in /usr/local/lib/python3.10/dist-packages (from tsfel) (3.5.4)\n",
            "Requirement already satisfied: pandas>=1.5.3 in /usr/local/lib/python3.10/dist-packages (from tsfel) (1.5.3)\n",
            "Requirement already satisfied: ipython>=7.4.0 in /usr/local/lib/python3.10/dist-packages (from tsfel) (7.34.0)\n",
            "Requirement already satisfied: gspread>=3.1.0 in /usr/local/lib/python3.10/dist-packages (from tsfel) (3.4.2)\n",
            "Requirement already satisfied: oauth2client>=4.1.3 in /usr/local/lib/python3.10/dist-packages (from tsfel) (4.1.3)\n",
            "Requirement already satisfied: scipy>=1.7.3 in /usr/local/lib/python3.10/dist-packages (from tsfel) (1.10.1)\n",
            "Requirement already satisfied: numpy>=1.18.5 in /usr/local/lib/python3.10/dist-packages (from tsfel) (1.22.4)\n",
            "Requirement already satisfied: setuptools>=47.1.1 in /usr/local/lib/python3.10/dist-packages (from tsfel) (67.7.2)\n",
            "Requirement already satisfied: google-auth in /usr/local/lib/python3.10/dist-packages (from gspread>=3.1.0->tsfel) (2.17.3)\n",
            "Requirement already satisfied: requests>=2.2.1 in /usr/local/lib/python3.10/dist-packages (from gspread>=3.1.0->tsfel) (2.27.1)\n",
            "Requirement already satisfied: matplotlib-inline in /usr/local/lib/python3.10/dist-packages (from ipython>=7.4.0->tsfel) (0.1.6)\n",
            "Requirement already satisfied: pygments in /usr/local/lib/python3.10/dist-packages (from ipython>=7.4.0->tsfel) (2.14.0)\n",
            "Requirement already satisfied: decorator in /usr/local/lib/python3.10/dist-packages (from ipython>=7.4.0->tsfel) (4.4.2)\n",
            "Requirement already satisfied: backcall in /usr/local/lib/python3.10/dist-packages (from ipython>=7.4.0->tsfel) (0.2.0)\n",
            "Requirement already satisfied: pexpect>4.3 in /usr/local/lib/python3.10/dist-packages (from ipython>=7.4.0->tsfel) (4.8.0)\n",
            "Collecting jedi>=0.16\n",
            "  Downloading jedi-0.18.2-py2.py3-none-any.whl (1.6 MB)\n",
            "\u001b[2K     \u001b[90m━━━━━━━━━━━━━━━━━━━━━━━━━━━━━━━━━━━━━━━━\u001b[0m \u001b[32m1.6/1.6 MB\u001b[0m \u001b[31m26.7 MB/s\u001b[0m eta \u001b[36m0:00:00\u001b[0m\n",
            "\u001b[?25hRequirement already satisfied: pickleshare in /usr/local/lib/python3.10/dist-packages (from ipython>=7.4.0->tsfel) (0.7.5)\n",
            "Requirement already satisfied: prompt-toolkit!=3.0.0,!=3.0.1,<3.1.0,>=2.0.0 in /usr/local/lib/python3.10/dist-packages (from ipython>=7.4.0->tsfel) (3.0.38)\n",
            "Requirement already satisfied: traitlets>=4.2 in /usr/local/lib/python3.10/dist-packages (from ipython>=7.4.0->tsfel) (5.7.1)\n",
            "Requirement already satisfied: rsa>=3.1.4 in /usr/local/lib/python3.10/dist-packages (from oauth2client>=4.1.3->tsfel) (4.9)\n",
            "Requirement already satisfied: pyasn1>=0.1.7 in /usr/local/lib/python3.10/dist-packages (from oauth2client>=4.1.3->tsfel) (0.5.0)\n",
            "Requirement already satisfied: pyasn1-modules>=0.0.5 in /usr/local/lib/python3.10/dist-packages (from oauth2client>=4.1.3->tsfel) (0.3.0)\n",
            "Requirement already satisfied: httplib2>=0.9.1 in /usr/local/lib/python3.10/dist-packages (from oauth2client>=4.1.3->tsfel) (0.21.0)\n",
            "Requirement already satisfied: six>=1.6.1 in /usr/local/lib/python3.10/dist-packages (from oauth2client>=4.1.3->tsfel) (1.16.0)\n",
            "Requirement already satisfied: pytz>=2020.1 in /usr/local/lib/python3.10/dist-packages (from pandas>=1.5.3->tsfel) (2022.7.1)\n",
            "Requirement already satisfied: python-dateutil>=2.8.1 in /usr/local/lib/python3.10/dist-packages (from pandas>=1.5.3->tsfel) (2.8.2)\n",
            "Requirement already satisfied: sphinxcontrib-serializinghtml in /usr/local/lib/python3.10/dist-packages (from Sphinx>=1.8.5->tsfel) (1.1.5)\n",
            "Requirement already satisfied: imagesize in /usr/local/lib/python3.10/dist-packages (from Sphinx>=1.8.5->tsfel) (1.4.1)\n",
            "Requirement already satisfied: snowballstemmer>=1.1 in /usr/local/lib/python3.10/dist-packages (from Sphinx>=1.8.5->tsfel) (2.2.0)\n",
            "Requirement already satisfied: sphinxcontrib-jsmath in /usr/local/lib/python3.10/dist-packages (from Sphinx>=1.8.5->tsfel) (1.0.1)\n",
            "Requirement already satisfied: Jinja2>=2.3 in /usr/local/lib/python3.10/dist-packages (from Sphinx>=1.8.5->tsfel) (3.1.2)\n",
            "Requirement already satisfied: babel>=1.3 in /usr/local/lib/python3.10/dist-packages (from Sphinx>=1.8.5->tsfel) (2.12.1)\n",
            "Requirement already satisfied: sphinxcontrib-qthelp in /usr/local/lib/python3.10/dist-packages (from Sphinx>=1.8.5->tsfel) (1.0.3)\n",
            "Requirement already satisfied: docutils<0.17,>=0.12 in /usr/local/lib/python3.10/dist-packages (from Sphinx>=1.8.5->tsfel) (0.16)\n",
            "Requirement already satisfied: sphinxcontrib-devhelp in /usr/local/lib/python3.10/dist-packages (from Sphinx>=1.8.5->tsfel) (1.0.2)\n",
            "Requirement already satisfied: sphinxcontrib-htmlhelp in /usr/local/lib/python3.10/dist-packages (from Sphinx>=1.8.5->tsfel) (2.0.1)\n",
            "Requirement already satisfied: alabaster<0.8,>=0.7 in /usr/local/lib/python3.10/dist-packages (from Sphinx>=1.8.5->tsfel) (0.7.13)\n",
            "Requirement already satisfied: packaging in /usr/local/lib/python3.10/dist-packages (from Sphinx>=1.8.5->tsfel) (23.1)\n",
            "Requirement already satisfied: sphinxcontrib-applehelp in /usr/local/lib/python3.10/dist-packages (from Sphinx>=1.8.5->tsfel) (1.0.4)\n",
            "Requirement already satisfied: pyparsing!=3.0.0,!=3.0.1,!=3.0.2,!=3.0.3,<4,>=2.4.2 in /usr/local/lib/python3.10/dist-packages (from httplib2>=0.9.1->oauth2client>=4.1.3->tsfel) (3.0.9)\n",
            "Requirement already satisfied: parso<0.9.0,>=0.8.0 in /usr/local/lib/python3.10/dist-packages (from jedi>=0.16->ipython>=7.4.0->tsfel) (0.8.3)\n",
            "Requirement already satisfied: MarkupSafe>=2.0 in /usr/local/lib/python3.10/dist-packages (from Jinja2>=2.3->Sphinx>=1.8.5->tsfel) (2.1.2)\n",
            "Requirement already satisfied: ptyprocess>=0.5 in /usr/local/lib/python3.10/dist-packages (from pexpect>4.3->ipython>=7.4.0->tsfel) (0.7.0)\n",
            "Requirement already satisfied: wcwidth in /usr/local/lib/python3.10/dist-packages (from prompt-toolkit!=3.0.0,!=3.0.1,<3.1.0,>=2.0.0->ipython>=7.4.0->tsfel) (0.2.6)\n",
            "Requirement already satisfied: urllib3<1.27,>=1.21.1 in /usr/local/lib/python3.10/dist-packages (from requests>=2.2.1->gspread>=3.1.0->tsfel) (1.26.15)\n",
            "Requirement already satisfied: idna<4,>=2.5 in /usr/local/lib/python3.10/dist-packages (from requests>=2.2.1->gspread>=3.1.0->tsfel) (3.4)\n",
            "Requirement already satisfied: certifi>=2017.4.17 in /usr/local/lib/python3.10/dist-packages (from requests>=2.2.1->gspread>=3.1.0->tsfel) (2022.12.7)\n",
            "Requirement already satisfied: charset-normalizer~=2.0.0 in /usr/local/lib/python3.10/dist-packages (from requests>=2.2.1->gspread>=3.1.0->tsfel) (2.0.12)\n",
            "Requirement already satisfied: cachetools<6.0,>=2.0.0 in /usr/local/lib/python3.10/dist-packages (from google-auth->gspread>=3.1.0->tsfel) (5.3.0)\n",
            "Installing collected packages: jedi, tsfel\n",
            "Successfully installed jedi-0.18.2 tsfel-0.1.5\n"
          ]
        }
      ],
      "source": [
        "import sys\n",
        "!{sys.executable} -m pip install tsfel"
      ]
    },
    {
      "cell_type": "code",
      "source": [
        "import os\n",
        "import glob\n",
        "from astropy.table import Table\n",
        "from astropy.time import Time\n",
        "import pandas as pd\n",
        "import tsfel"
      ],
      "metadata": {
        "id": "TDYS84MlX_f4"
      },
      "execution_count": 1,
      "outputs": []
    },
    {
      "cell_type": "code",
      "source": [
        "# Set the working directory\n",
        "os.chdir(\"/content/data-extract/data\")"
      ],
      "metadata": {
        "id": "jwASX5TFb2Sx"
      },
      "execution_count": 2,
      "outputs": []
    },
    {
      "cell_type": "code",
      "source": [
        "# Find all files with a certain extension\n",
        "extension_1 = 'tbl'\n",
        "import_filenames = [i for i in glob.glob('*.{}'.format(extension_1))]"
      ],
      "metadata": {
        "id": "4O_vqYx8b8ix"
      },
      "execution_count": 3,
      "outputs": []
    },
    {
      "cell_type": "code",
      "source": [
        "cfg_file = tsfel.get_features_by_domain()"
      ],
      "metadata": {
        "id": "KW0sDWyqca_w"
      },
      "execution_count": 4,
      "outputs": []
    },
    {
      "cell_type": "code",
      "source": [
        "dataframe = pd.DataFrame()\n"
      ],
      "metadata": {
        "id": "ZAG9RQ4QcFKI"
      },
      "execution_count": 5,
      "outputs": []
    },
    {
      "cell_type": "code",
      "source": [
        "for f in import_filenames:\n",
        "    read = Table.read(f, format='ascii.ipac')\n",
        "    data = read.to_pandas()\n",
        "    data['TIME'] = data['TIME'] + 2454833\n",
        "    data['TIME'] = Time(data['TIME'].values, format='jd', scale='utc').datetime\n",
        "    data['TIME'] = data['TIME'].apply(lambda x: x.timestamp())    \n",
        "    for i in range(0,data['set'].max()+1):\n",
        "      newdf = data[data.set==i].drop(columns=['set'])\n",
        "      time_diff = data['TIME'].diff().mean()\n",
        "      sampling_freq = 1 / time_diff\n",
        "      feature = tsfel.time_series_features_extractor(cfg_file, newdf, fs=sampling_freq,n_jobs=-1)\n",
        "      dataframe = pd.concat([data,feature],ignore_index=True, sort=False)\n",
        "dataframe.to_csv('ts_kepler_1.csv', index=False)     "
      ],
      "metadata": {
        "colab": {
          "base_uri": "https://localhost:8080/",
          "height": 141
        },
        "id": "iNAijTuYclFn",
        "outputId": "61d218a5-d425-4886-c898-469683e49341"
      },
      "execution_count": null,
      "outputs": [
        {
          "output_type": "stream",
          "name": "stdout",
          "text": [
            "*** Feature extraction started ***\n",
            "60\n"
          ]
        },
        {
          "output_type": "display_data",
          "data": {
            "text/plain": [
              "<IPython.core.display.HTML object>"
            ],
            "text/html": [
              "\n",
              "              <p>\n",
              "                  Progress: 100% Complete\n",
              "              <p/>            \n",
              "              <progress\n",
              "                  value='60'\n",
              "                  max='60',\n",
              "                  style='width: 25%',\n",
              "              >\n",
              "                  60\n",
              "              </progress>\n",
              "\n",
              "    "
            ]
          },
          "metadata": {}
        },
        {
          "output_type": "stream",
          "name": "stdout",
          "text": [
            "\n",
            "*** Feature extraction finished ***\n"
          ]
        }
      ]
    },
    {
      "cell_type": "code",
      "source": [
        "#for f in import_filenames:\n",
        "#    read = Table.read(f, format='ascii.ipac')\n",
        "#    data = read.to_pandas()\n",
        "#    for i in range(0,data['set'].max()+1):\n",
        "#      data['TIME'] = data['TIME'] + 2454833\n",
        "#      data['TIME'] = Time(data['TIME'].values, format='jd', scale='utc').datetime\n",
        "#      data['TIME'] = data['TIME'].apply(lambda x: x.timestamp())\n",
        "#      time_diff = data['TIME'].diff().mean()\n",
        "#      sampling_freq = 1 / time_diff\n",
        "#      newdf = data[data.set==i].drop(columns=['set'])\n",
        "#      feature = tsfel.time_series_features_extractor(cfg_file, newdf, fs=sampling_freq)\n",
        "#      dataframe = pd.concat([data,feature],ignore_index=True, sort=False)\n",
        "#dataframe.to_csv('ts_kepler_1.csv', index=False)     "
      ],
      "metadata": {
        "id": "t0pJ7oRLdFLg",
        "colab": {
          "base_uri": "https://localhost:8080/",
          "height": 141
        },
        "outputId": "9e2d574b-6883-49ba-c9d6-0f5d999e139e"
      },
      "execution_count": null,
      "outputs": [
        {
          "output_type": "stream",
          "name": "stdout",
          "text": [
            "*** Feature extraction started ***\n",
            "60\n"
          ]
        },
        {
          "output_type": "display_data",
          "data": {
            "text/plain": [
              "<IPython.core.display.HTML object>"
            ],
            "text/html": [
              "\n",
              "              <p>\n",
              "                  Progress: 100% Complete\n",
              "              <p/>            \n",
              "              <progress\n",
              "                  value='60'\n",
              "                  max='60',\n",
              "                  style='width: 25%',\n",
              "              >\n",
              "                  60\n",
              "              </progress>\n",
              "\n",
              "    "
            ]
          },
          "metadata": {}
        },
        {
          "output_type": "stream",
          "name": "stdout",
          "text": [
            "\n",
            "*** Feature extraction finished ***\n"
          ]
        }
      ]
    }
  ]
}
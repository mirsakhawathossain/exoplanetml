{
 "cells": [
  {
   "cell_type": "code",
   "execution_count": 2,
   "metadata": {},
   "outputs": [],
   "source": [
    "import warnings\n",
    "warnings.filterwarnings('ignore')"
   ]
  },
  {
   "cell_type": "code",
   "execution_count": 3,
   "metadata": {},
   "outputs": [
    {
     "name": "stdout",
     "output_type": "stream",
     "text": [
      "Requirement already satisfied: wandb in /home/idies/miniconda3/envs/py38/lib/python3.8/site-packages (0.13.10)\n",
      "Requirement already satisfied: appdirs>=1.4.3 in /home/idies/miniconda3/envs/py38/lib/python3.8/site-packages (from wandb) (1.4.4)\n",
      "Requirement already satisfied: Click!=8.0.0,>=7.0 in /home/idies/miniconda3/envs/py38/lib/python3.8/site-packages (from wandb) (7.1.2)\n",
      "Requirement already satisfied: setproctitle in /home/idies/miniconda3/envs/py38/lib/python3.8/site-packages (from wandb) (1.3.2)\n",
      "Requirement already satisfied: GitPython>=1.0.0 in /home/idies/miniconda3/envs/py38/lib/python3.8/site-packages (from wandb) (3.1.31)\n",
      "Requirement already satisfied: setuptools in /home/idies/miniconda3/envs/py38/lib/python3.8/site-packages (from wandb) (50.3.1.post20201107)\n",
      "Requirement already satisfied: protobuf!=4.21.0,<5,>=3.12.0; python_version < \"3.9\" and sys_platform == \"linux\" in /home/idies/miniconda3/envs/py38/lib/python3.8/site-packages (from wandb) (3.13.0)\n",
      "Requirement already satisfied: typing-extensions; python_version < \"3.10\" in /home/idies/miniconda3/envs/py38/lib/python3.8/site-packages (from wandb) (4.5.0)\n",
      "Requirement already satisfied: pathtools in /home/idies/miniconda3/envs/py38/lib/python3.8/site-packages (from wandb) (0.1.2)\n",
      "Requirement already satisfied: PyYAML in /home/idies/miniconda3/envs/py38/lib/python3.8/site-packages (from wandb) (5.3.1)\n",
      "Requirement already satisfied: docker-pycreds>=0.4.0 in /home/idies/miniconda3/envs/py38/lib/python3.8/site-packages (from wandb) (0.4.0)\n",
      "Requirement already satisfied: sentry-sdk>=1.0.0 in /home/idies/miniconda3/envs/py38/lib/python3.8/site-packages (from wandb) (1.15.0)\n",
      "Requirement already satisfied: psutil>=5.0.0 in /home/idies/miniconda3/envs/py38/lib/python3.8/site-packages (from wandb) (5.7.2)\n",
      "Requirement already satisfied: requests<3,>=2.0.0 in /home/idies/miniconda3/envs/py38/lib/python3.8/site-packages (from wandb) (2.24.0)\n",
      "Requirement already satisfied: gitdb<5,>=4.0.1 in /home/idies/miniconda3/envs/py38/lib/python3.8/site-packages (from GitPython>=1.0.0->wandb) (4.0.10)\n",
      "Requirement already satisfied: six>=1.9 in /home/idies/miniconda3/envs/py38/lib/python3.8/site-packages (from protobuf!=4.21.0,<5,>=3.12.0; python_version < \"3.9\" and sys_platform == \"linux\"->wandb) (1.15.0)\n",
      "Collecting urllib3>=1.26.11; python_version >= \"3.6\"\n",
      "  Using cached urllib3-1.26.14-py2.py3-none-any.whl (140 kB)\n",
      "Requirement already satisfied: certifi in /home/idies/miniconda3/envs/py38/lib/python3.8/site-packages (from sentry-sdk>=1.0.0->wandb) (2020.12.5)\n",
      "Requirement already satisfied: chardet<4,>=3.0.2 in /home/idies/miniconda3/envs/py38/lib/python3.8/site-packages (from requests<3,>=2.0.0->wandb) (3.0.4)\n",
      "Requirement already satisfied: idna<3,>=2.5 in /home/idies/miniconda3/envs/py38/lib/python3.8/site-packages (from requests<3,>=2.0.0->wandb) (2.10)\n",
      "Requirement already satisfied: smmap<6,>=3.0.1 in /home/idies/miniconda3/envs/py38/lib/python3.8/site-packages (from gitdb<5,>=4.0.1->GitPython>=1.0.0->wandb) (5.0.0)\n",
      "Installing collected packages: urllib3\n",
      "  Attempting uninstall: urllib3\n",
      "    Found existing installation: urllib3 1.25.11\n",
      "    Uninstalling urllib3-1.25.11:\n",
      "      Successfully uninstalled urllib3-1.25.11\n",
      "\u001b[31mERROR: After October 2020 you may experience errors when installing or updating packages. This is because pip will change the way that it resolves dependency conflicts.\n",
      "\n",
      "We recommend you use --use-feature=2020-resolver to test your packages with the new resolver before it becomes the default.\n",
      "\n",
      "requests 2.24.0 requires urllib3!=1.25.0,!=1.25.1,<1.26,>=1.21.1, but you'll have urllib3 1.26.14 which is incompatible.\n",
      "pysal 2.3.0 requires urllib3<1.25, but you'll have urllib3 1.26.14 which is incompatible.\u001b[0m\n",
      "Successfully installed urllib3-1.26.14\n"
     ]
    }
   ],
   "source": [
    " import sys\n",
    "!{sys.executable} -m pip install wandb"
   ]
  },
  {
   "cell_type": "code",
   "execution_count": 4,
   "metadata": {},
   "outputs": [],
   "source": [
    "import pandas as pd"
   ]
  },
  {
   "cell_type": "code",
   "execution_count": 5,
   "metadata": {},
   "outputs": [],
   "source": [
    "df = pd.read_csv('https://gitlab.com/mirsakhawathossain/exodata/-/raw/main/dataset/exodata.csv').sort_index(axis=0)"
   ]
  },
  {
   "cell_type": "code",
   "execution_count": 6,
   "metadata": {},
   "outputs": [
    {
     "data": {
      "text/html": [
       "<div>\n",
       "<style scoped>\n",
       "    .dataframe tbody tr th:only-of-type {\n",
       "        vertical-align: middle;\n",
       "    }\n",
       "\n",
       "    .dataframe tbody tr th {\n",
       "        vertical-align: top;\n",
       "    }\n",
       "\n",
       "    .dataframe thead th {\n",
       "        text-align: right;\n",
       "    }\n",
       "</style>\n",
       "<table border=\"1\" class=\"dataframe\">\n",
       "  <thead>\n",
       "    <tr style=\"text-align: right;\">\n",
       "      <th></th>\n",
       "      <th>PDCSAP_FLUX__variance_larger_than_standard_deviation</th>\n",
       "      <th>PDCSAP_FLUX__has_duplicate_max</th>\n",
       "      <th>PDCSAP_FLUX__has_duplicate_min</th>\n",
       "      <th>PDCSAP_FLUX__has_duplicate</th>\n",
       "      <th>PDCSAP_FLUX__sum_values</th>\n",
       "      <th>PDCSAP_FLUX__abs_energy</th>\n",
       "      <th>PDCSAP_FLUX__mean_abs_change</th>\n",
       "      <th>PDCSAP_FLUX__mean_change</th>\n",
       "      <th>PDCSAP_FLUX__mean_second_derivative_central</th>\n",
       "      <th>PDCSAP_FLUX__median</th>\n",
       "      <th>...</th>\n",
       "      <th>PDCSAP_FLUX__fourier_entropy__bins_10</th>\n",
       "      <th>PDCSAP_FLUX__fourier_entropy__bins_100</th>\n",
       "      <th>PDCSAP_FLUX__permutation_entropy__dimension_3__tau_1</th>\n",
       "      <th>PDCSAP_FLUX__permutation_entropy__dimension_4__tau_1</th>\n",
       "      <th>PDCSAP_FLUX__permutation_entropy__dimension_5__tau_1</th>\n",
       "      <th>PDCSAP_FLUX__permutation_entropy__dimension_6__tau_1</th>\n",
       "      <th>PDCSAP_FLUX__permutation_entropy__dimension_7__tau_1</th>\n",
       "      <th>PDCSAP_FLUX__query_similarity_count__query_None__threshold_0.0</th>\n",
       "      <th>PDCSAP_FLUX__mean_n_absolute_max__number_of_maxima_7</th>\n",
       "      <th>exoplanet</th>\n",
       "    </tr>\n",
       "  </thead>\n",
       "  <tbody>\n",
       "    <tr>\n",
       "      <th>count</th>\n",
       "      <td>75458.0</td>\n",
       "      <td>75458.000000</td>\n",
       "      <td>75458.000000</td>\n",
       "      <td>75458.000000</td>\n",
       "      <td>7.545800e+04</td>\n",
       "      <td>7.545800e+04</td>\n",
       "      <td>75458.000000</td>\n",
       "      <td>75458.000000</td>\n",
       "      <td>75458.000000</td>\n",
       "      <td>7.545800e+04</td>\n",
       "      <td>...</td>\n",
       "      <td>75458.000000</td>\n",
       "      <td>75458.000000</td>\n",
       "      <td>75458.000000</td>\n",
       "      <td>75458.000000</td>\n",
       "      <td>75458.000000</td>\n",
       "      <td>75458.000000</td>\n",
       "      <td>75458.000000</td>\n",
       "      <td>75458.0</td>\n",
       "      <td>7.545800e+04</td>\n",
       "      <td>75458.000000</td>\n",
       "    </tr>\n",
       "    <tr>\n",
       "      <th>mean</th>\n",
       "      <td>1.0</td>\n",
       "      <td>0.000146</td>\n",
       "      <td>0.000371</td>\n",
       "      <td>0.997562</td>\n",
       "      <td>1.709958e+09</td>\n",
       "      <td>5.631808e+15</td>\n",
       "      <td>90.307710</td>\n",
       "      <td>0.013612</td>\n",
       "      <td>0.003795</td>\n",
       "      <td>1.163383e+05</td>\n",
       "      <td>...</td>\n",
       "      <td>0.681890</td>\n",
       "      <td>1.895729</td>\n",
       "      <td>1.761456</td>\n",
       "      <td>3.090344</td>\n",
       "      <td>4.606910</td>\n",
       "      <td>6.207389</td>\n",
       "      <td>7.486532</td>\n",
       "      <td>0.0</td>\n",
       "      <td>1.171255e+05</td>\n",
       "      <td>0.531209</td>\n",
       "    </tr>\n",
       "    <tr>\n",
       "      <th>std</th>\n",
       "      <td>0.0</td>\n",
       "      <td>0.012073</td>\n",
       "      <td>0.019260</td>\n",
       "      <td>0.049321</td>\n",
       "      <td>1.447630e+10</td>\n",
       "      <td>1.215118e+17</td>\n",
       "      <td>968.105275</td>\n",
       "      <td>3.845197</td>\n",
       "      <td>1.112793</td>\n",
       "      <td>5.570220e+05</td>\n",
       "      <td>...</td>\n",
       "      <td>0.565107</td>\n",
       "      <td>1.226717</td>\n",
       "      <td>0.115400</td>\n",
       "      <td>0.291682</td>\n",
       "      <td>0.518263</td>\n",
       "      <td>0.787171</td>\n",
       "      <td>1.048846</td>\n",
       "      <td>0.0</td>\n",
       "      <td>5.606388e+05</td>\n",
       "      <td>0.499028</td>\n",
       "    </tr>\n",
       "    <tr>\n",
       "      <th>min</th>\n",
       "      <td>1.0</td>\n",
       "      <td>0.000000</td>\n",
       "      <td>0.000000</td>\n",
       "      <td>0.000000</td>\n",
       "      <td>-2.962910e+08</td>\n",
       "      <td>3.333535e+07</td>\n",
       "      <td>2.423306</td>\n",
       "      <td>-411.306624</td>\n",
       "      <td>-133.731019</td>\n",
       "      <td>-3.005774e+03</td>\n",
       "      <td>...</td>\n",
       "      <td>0.045395</td>\n",
       "      <td>0.090729</td>\n",
       "      <td>0.744813</td>\n",
       "      <td>0.857611</td>\n",
       "      <td>0.974465</td>\n",
       "      <td>1.091269</td>\n",
       "      <td>1.208008</td>\n",
       "      <td>0.0</td>\n",
       "      <td>1.282927e+02</td>\n",
       "      <td>0.000000</td>\n",
       "    </tr>\n",
       "    <tr>\n",
       "      <th>25%</th>\n",
       "      <td>1.0</td>\n",
       "      <td>0.000000</td>\n",
       "      <td>0.000000</td>\n",
       "      <td>1.000000</td>\n",
       "      <td>4.408755e+07</td>\n",
       "      <td>5.309241e+11</td>\n",
       "      <td>5.989023</td>\n",
       "      <td>-0.003456</td>\n",
       "      <td>-0.001271</td>\n",
       "      <td>1.150483e+04</td>\n",
       "      <td>...</td>\n",
       "      <td>0.136002</td>\n",
       "      <td>0.757998</td>\n",
       "      <td>1.789674</td>\n",
       "      <td>3.166876</td>\n",
       "      <td>4.739653</td>\n",
       "      <td>6.328348</td>\n",
       "      <td>7.504460</td>\n",
       "      <td>0.0</td>\n",
       "      <td>1.161397e+04</td>\n",
       "      <td>0.000000</td>\n",
       "    </tr>\n",
       "    <tr>\n",
       "      <th>50%</th>\n",
       "      <td>1.0</td>\n",
       "      <td>0.000000</td>\n",
       "      <td>0.000000</td>\n",
       "      <td>1.000000</td>\n",
       "      <td>1.016961e+08</td>\n",
       "      <td>2.765618e+12</td>\n",
       "      <td>8.852511</td>\n",
       "      <td>0.000061</td>\n",
       "      <td>0.000026</td>\n",
       "      <td>2.453357e+04</td>\n",
       "      <td>...</td>\n",
       "      <td>0.536581</td>\n",
       "      <td>1.877246</td>\n",
       "      <td>1.791188</td>\n",
       "      <td>3.174568</td>\n",
       "      <td>4.770144</td>\n",
       "      <td>6.479071</td>\n",
       "      <td>7.827975</td>\n",
       "      <td>0.0</td>\n",
       "      <td>2.473363e+04</td>\n",
       "      <td>1.000000</td>\n",
       "    </tr>\n",
       "    <tr>\n",
       "      <th>75%</th>\n",
       "      <td>1.0</td>\n",
       "      <td>0.000000</td>\n",
       "      <td>0.000000</td>\n",
       "      <td>1.000000</td>\n",
       "      <td>3.471303e+08</td>\n",
       "      <td>2.199537e+13</td>\n",
       "      <td>23.000707</td>\n",
       "      <td>0.003844</td>\n",
       "      <td>0.001369</td>\n",
       "      <td>6.659391e+04</td>\n",
       "      <td>...</td>\n",
       "      <td>1.086149</td>\n",
       "      <td>3.012982</td>\n",
       "      <td>1.791555</td>\n",
       "      <td>3.176062</td>\n",
       "      <td>4.774606</td>\n",
       "      <td>6.494694</td>\n",
       "      <td>7.874581</td>\n",
       "      <td>0.0</td>\n",
       "      <td>6.701624e+04</td>\n",
       "      <td>1.000000</td>\n",
       "    </tr>\n",
       "    <tr>\n",
       "      <th>max</th>\n",
       "      <td>1.0</td>\n",
       "      <td>1.000000</td>\n",
       "      <td>1.000000</td>\n",
       "      <td>1.000000</td>\n",
       "      <td>6.062456e+11</td>\n",
       "      <td>8.683659e+18</td>\n",
       "      <td>35850.447222</td>\n",
       "      <td>389.130081</td>\n",
       "      <td>143.474433</td>\n",
       "      <td>1.457850e+07</td>\n",
       "      <td>...</td>\n",
       "      <td>2.241817</td>\n",
       "      <td>4.294546</td>\n",
       "      <td>1.791759</td>\n",
       "      <td>3.178015</td>\n",
       "      <td>4.786843</td>\n",
       "      <td>6.575427</td>\n",
       "      <td>8.500995</td>\n",
       "      <td>0.0</td>\n",
       "      <td>1.469597e+07</td>\n",
       "      <td>1.000000</td>\n",
       "    </tr>\n",
       "  </tbody>\n",
       "</table>\n",
       "<p>8 rows × 778 columns</p>\n",
       "</div>"
      ],
      "text/plain": [
       "       PDCSAP_FLUX__variance_larger_than_standard_deviation  \\\n",
       "count                                            75458.0      \n",
       "mean                                                 1.0      \n",
       "std                                                  0.0      \n",
       "min                                                  1.0      \n",
       "25%                                                  1.0      \n",
       "50%                                                  1.0      \n",
       "75%                                                  1.0      \n",
       "max                                                  1.0      \n",
       "\n",
       "       PDCSAP_FLUX__has_duplicate_max  PDCSAP_FLUX__has_duplicate_min  \\\n",
       "count                    75458.000000                    75458.000000   \n",
       "mean                         0.000146                        0.000371   \n",
       "std                          0.012073                        0.019260   \n",
       "min                          0.000000                        0.000000   \n",
       "25%                          0.000000                        0.000000   \n",
       "50%                          0.000000                        0.000000   \n",
       "75%                          0.000000                        0.000000   \n",
       "max                          1.000000                        1.000000   \n",
       "\n",
       "       PDCSAP_FLUX__has_duplicate  PDCSAP_FLUX__sum_values  \\\n",
       "count                75458.000000             7.545800e+04   \n",
       "mean                     0.997562             1.709958e+09   \n",
       "std                      0.049321             1.447630e+10   \n",
       "min                      0.000000            -2.962910e+08   \n",
       "25%                      1.000000             4.408755e+07   \n",
       "50%                      1.000000             1.016961e+08   \n",
       "75%                      1.000000             3.471303e+08   \n",
       "max                      1.000000             6.062456e+11   \n",
       "\n",
       "       PDCSAP_FLUX__abs_energy  PDCSAP_FLUX__mean_abs_change  \\\n",
       "count             7.545800e+04                  75458.000000   \n",
       "mean              5.631808e+15                     90.307710   \n",
       "std               1.215118e+17                    968.105275   \n",
       "min               3.333535e+07                      2.423306   \n",
       "25%               5.309241e+11                      5.989023   \n",
       "50%               2.765618e+12                      8.852511   \n",
       "75%               2.199537e+13                     23.000707   \n",
       "max               8.683659e+18                  35850.447222   \n",
       "\n",
       "       PDCSAP_FLUX__mean_change  PDCSAP_FLUX__mean_second_derivative_central  \\\n",
       "count              75458.000000                                 75458.000000   \n",
       "mean                   0.013612                                     0.003795   \n",
       "std                    3.845197                                     1.112793   \n",
       "min                 -411.306624                                  -133.731019   \n",
       "25%                   -0.003456                                    -0.001271   \n",
       "50%                    0.000061                                     0.000026   \n",
       "75%                    0.003844                                     0.001369   \n",
       "max                  389.130081                                   143.474433   \n",
       "\n",
       "       PDCSAP_FLUX__median  ...  PDCSAP_FLUX__fourier_entropy__bins_10  \\\n",
       "count         7.545800e+04  ...                           75458.000000   \n",
       "mean          1.163383e+05  ...                               0.681890   \n",
       "std           5.570220e+05  ...                               0.565107   \n",
       "min          -3.005774e+03  ...                               0.045395   \n",
       "25%           1.150483e+04  ...                               0.136002   \n",
       "50%           2.453357e+04  ...                               0.536581   \n",
       "75%           6.659391e+04  ...                               1.086149   \n",
       "max           1.457850e+07  ...                               2.241817   \n",
       "\n",
       "       PDCSAP_FLUX__fourier_entropy__bins_100  \\\n",
       "count                            75458.000000   \n",
       "mean                                 1.895729   \n",
       "std                                  1.226717   \n",
       "min                                  0.090729   \n",
       "25%                                  0.757998   \n",
       "50%                                  1.877246   \n",
       "75%                                  3.012982   \n",
       "max                                  4.294546   \n",
       "\n",
       "       PDCSAP_FLUX__permutation_entropy__dimension_3__tau_1  \\\n",
       "count                                       75458.000000      \n",
       "mean                                            1.761456      \n",
       "std                                             0.115400      \n",
       "min                                             0.744813      \n",
       "25%                                             1.789674      \n",
       "50%                                             1.791188      \n",
       "75%                                             1.791555      \n",
       "max                                             1.791759      \n",
       "\n",
       "       PDCSAP_FLUX__permutation_entropy__dimension_4__tau_1  \\\n",
       "count                                       75458.000000      \n",
       "mean                                            3.090344      \n",
       "std                                             0.291682      \n",
       "min                                             0.857611      \n",
       "25%                                             3.166876      \n",
       "50%                                             3.174568      \n",
       "75%                                             3.176062      \n",
       "max                                             3.178015      \n",
       "\n",
       "       PDCSAP_FLUX__permutation_entropy__dimension_5__tau_1  \\\n",
       "count                                       75458.000000      \n",
       "mean                                            4.606910      \n",
       "std                                             0.518263      \n",
       "min                                             0.974465      \n",
       "25%                                             4.739653      \n",
       "50%                                             4.770144      \n",
       "75%                                             4.774606      \n",
       "max                                             4.786843      \n",
       "\n",
       "       PDCSAP_FLUX__permutation_entropy__dimension_6__tau_1  \\\n",
       "count                                       75458.000000      \n",
       "mean                                            6.207389      \n",
       "std                                             0.787171      \n",
       "min                                             1.091269      \n",
       "25%                                             6.328348      \n",
       "50%                                             6.479071      \n",
       "75%                                             6.494694      \n",
       "max                                             6.575427      \n",
       "\n",
       "       PDCSAP_FLUX__permutation_entropy__dimension_7__tau_1  \\\n",
       "count                                       75458.000000      \n",
       "mean                                            7.486532      \n",
       "std                                             1.048846      \n",
       "min                                             1.208008      \n",
       "25%                                             7.504460      \n",
       "50%                                             7.827975      \n",
       "75%                                             7.874581      \n",
       "max                                             8.500995      \n",
       "\n",
       "       PDCSAP_FLUX__query_similarity_count__query_None__threshold_0.0  \\\n",
       "count                                            75458.0                \n",
       "mean                                                 0.0                \n",
       "std                                                  0.0                \n",
       "min                                                  0.0                \n",
       "25%                                                  0.0                \n",
       "50%                                                  0.0                \n",
       "75%                                                  0.0                \n",
       "max                                                  0.0                \n",
       "\n",
       "       PDCSAP_FLUX__mean_n_absolute_max__number_of_maxima_7     exoplanet  \n",
       "count                                       7.545800e+04     75458.000000  \n",
       "mean                                        1.171255e+05         0.531209  \n",
       "std                                         5.606388e+05         0.499028  \n",
       "min                                         1.282927e+02         0.000000  \n",
       "25%                                         1.161397e+04         0.000000  \n",
       "50%                                         2.473363e+04         1.000000  \n",
       "75%                                         6.701624e+04         1.000000  \n",
       "max                                         1.469597e+07         1.000000  \n",
       "\n",
       "[8 rows x 778 columns]"
      ]
     },
     "execution_count": 6,
     "metadata": {},
     "output_type": "execute_result"
    }
   ],
   "source": [
    "df.describe(include='all')"
   ]
  },
  {
   "cell_type": "code",
   "execution_count": 7,
   "metadata": {},
   "outputs": [],
   "source": [
    "data = df.describe(include='all')"
   ]
  },
  {
   "cell_type": "code",
   "execution_count": 8,
   "metadata": {},
   "outputs": [],
   "source": [
    " import os\n",
    "os.environ['WANDB_API_KEY'] = 'b3c6dfb61d66930ee7d291c6b19c0ae0b5007c62'"
   ]
  },
  {
   "cell_type": "code",
   "execution_count": 9,
   "metadata": {},
   "outputs": [
    {
     "name": "stderr",
     "output_type": "stream",
     "text": [
      "\u001b[34m\u001b[1mwandb\u001b[0m: Currently logged in as: \u001b[33msakhawat\u001b[0m. Use \u001b[1m`wandb login --relogin`\u001b[0m to force relogin\n"
     ]
    },
    {
     "data": {
      "text/html": [
       "Tracking run with wandb version 0.13.10"
      ],
      "text/plain": [
       "<IPython.core.display.HTML object>"
      ]
     },
     "metadata": {},
     "output_type": "display_data"
    },
    {
     "data": {
      "text/html": [
       "Run data is saved locally in <code>/home/idies/workspace/Storage/s.hossain18/persistent/wandb/run-20230225_163717-ztz4vajw</code>"
      ],
      "text/plain": [
       "<IPython.core.display.HTML object>"
      ]
     },
     "metadata": {},
     "output_type": "display_data"
    },
    {
     "data": {
      "text/html": [
       "Syncing run <strong><a href='https://wandb.ai/sakhawat/exoplanetml/runs/ztz4vajw' target=\"_blank\">Data Description</a></strong> to <a href='https://wandb.ai/sakhawat/exoplanetml' target=\"_blank\">Weights & Biases</a> (<a href='https://wandb.me/run' target=\"_blank\">docs</a>)<br/>"
      ],
      "text/plain": [
       "<IPython.core.display.HTML object>"
      ]
     },
     "metadata": {},
     "output_type": "display_data"
    },
    {
     "data": {
      "text/html": [
       " View project at <a href='https://wandb.ai/sakhawat/exoplanetml' target=\"_blank\">https://wandb.ai/sakhawat/exoplanetml</a>"
      ],
      "text/plain": [
       "<IPython.core.display.HTML object>"
      ]
     },
     "metadata": {},
     "output_type": "display_data"
    },
    {
     "data": {
      "text/html": [
       " View run at <a href='https://wandb.ai/sakhawat/exoplanetml/runs/ztz4vajw' target=\"_blank\">https://wandb.ai/sakhawat/exoplanetml/runs/ztz4vajw</a>"
      ],
      "text/plain": [
       "<IPython.core.display.HTML object>"
      ]
     },
     "metadata": {},
     "output_type": "display_data"
    },
    {
     "data": {
      "text/html": [
       "<button onClick=\"this.nextSibling.style.display='block';this.style.display='none';\">Display W&B run</button><iframe src='https://wandb.ai/sakhawat/exoplanetml/runs/ztz4vajw?jupyter=true' style='border:none;width:100%;height:420px;display:none;'></iframe>"
      ],
      "text/plain": [
       "<wandb.sdk.wandb_run.Run at 0x7f593277e130>"
      ]
     },
     "execution_count": 9,
     "metadata": {},
     "output_type": "execute_result"
    }
   ],
   "source": [
    " import wandb\n",
    "\n",
    "wandb.init(project=\"exoplanetml\", entity=\"sakhawat\",save_code=True,name='Data Description',job_type='analysis',reinit=True)"
   ]
  },
  {
   "cell_type": "code",
   "execution_count": 11,
   "metadata": {},
   "outputs": [],
   "source": [
    "# Convert the DataFrame into a W&B Table\n",
    "data_description_table = wandb.Table(dataframe=data)"
   ]
  },
  {
   "cell_type": "code",
   "execution_count": 12,
   "metadata": {},
   "outputs": [
    {
     "data": {
      "text/plain": [
       "ArtifactManifestEntry(path='exoplanet_data_table.table.json', digest='ttiSyC2rFWHQS0I46DRdvw==', ref=None, birth_artifact_id=None, size=274150, extra={}, local_path='/home/idies/.local/share/wandb/artifacts/staging/tmpt9bsz3za')"
      ]
     },
     "execution_count": 12,
     "metadata": {},
     "output_type": "execute_result"
    }
   ],
   "source": [
    "# Add the table to an Artifact to increase the row limit to 200000 and make it easier to reuse!\n",
    "data_table_artifact = wandb.Artifact(\"exoplanet_data_artifact\", type=\"dataset description\")\n",
    "data_table_artifact.add(data_description_table, \"exoplanet_data_table\")"
   ]
  },
  {
   "cell_type": "code",
   "execution_count": 14,
   "metadata": {},
   "outputs": [
    {
     "data": {
      "text/plain": [
       "<wandb.sdk.wandb_artifacts.Artifact at 0x7f59305da670>"
      ]
     },
     "execution_count": 14,
     "metadata": {},
     "output_type": "execute_result"
    }
   ],
   "source": [
    "# Log the table to visualize with a run...\n",
    "wandb.log({\"exoplanet_data_artifact\": data_description_table})\n",
    "\n",
    "# and Log as an Artifact to increase the available row limit!\n",
    "wandb.log_artifact(data_table_artifact)"
   ]
  },
  {
   "cell_type": "code",
   "execution_count": 15,
   "metadata": {},
   "outputs": [
    {
     "data": {
      "text/html": [
       "Waiting for W&B process to finish... <strong style=\"color:green\">(success).</strong>"
      ],
      "text/plain": [
       "<IPython.core.display.HTML object>"
      ]
     },
     "metadata": {},
     "output_type": "display_data"
    },
    {
     "data": {
      "application/vnd.jupyter.widget-view+json": {
       "model_id": "7a3cbec648314629a1ee0714871f5c13",
       "version_major": 2,
       "version_minor": 0
      },
      "text/plain": [
       "VBox(children=(Label(value='0.672 MB of 0.678 MB uploaded (0.000 MB deduped)\\r'), FloatProgress(value=0.990260…"
      ]
     },
     "metadata": {},
     "output_type": "display_data"
    },
    {
     "data": {
      "text/html": [
       " View run <strong style=\"color:#cdcd00\">Data Description</strong> at: <a href='https://wandb.ai/sakhawat/exoplanetml/runs/ztz4vajw' target=\"_blank\">https://wandb.ai/sakhawat/exoplanetml/runs/ztz4vajw</a><br/>Synced 4 W&B file(s), 1 media file(s), 2 artifact file(s) and 1 other file(s)"
      ],
      "text/plain": [
       "<IPython.core.display.HTML object>"
      ]
     },
     "metadata": {},
     "output_type": "display_data"
    },
    {
     "data": {
      "text/html": [
       "Find logs at: <code>./wandb/run-20230225_163717-ztz4vajw/logs</code>"
      ],
      "text/plain": [
       "<IPython.core.display.HTML object>"
      ]
     },
     "metadata": {},
     "output_type": "display_data"
    }
   ],
   "source": [
    "wandb.finish()"
   ]
  },
  {
   "cell_type": "code",
   "execution_count": null,
   "metadata": {},
   "outputs": [],
   "source": []
  }
 ],
 "metadata": {
  "kernelspec": {
   "display_name": "Python 3.8 (py38)",
   "language": "python",
   "name": "py38"
  },
  "language_info": {
   "codemirror_mode": {
    "name": "ipython",
    "version": 3
   },
   "file_extension": ".py",
   "mimetype": "text/x-python",
   "name": "python",
   "nbconvert_exporter": "python",
   "pygments_lexer": "ipython3",
   "version": "3.8.5"
  }
 },
 "nbformat": 4,
 "nbformat_minor": 4
}

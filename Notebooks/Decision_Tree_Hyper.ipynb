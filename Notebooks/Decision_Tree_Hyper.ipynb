{
 "cells": [
  {
   "cell_type": "code",
   "execution_count": 1,
   "metadata": {
    "execution": {
     "iopub.execute_input": "2023-03-16T07:47:01.695614Z",
     "iopub.status.busy": "2023-03-16T07:47:01.693819Z",
     "iopub.status.idle": "2023-03-16T07:47:01.699497Z",
     "shell.execute_reply": "2023-03-16T07:47:01.698377Z"
    }
   },
   "outputs": [],
   "source": [
    "import warnings\n",
    "warnings.filterwarnings('ignore')"
   ]
  },
  {
   "cell_type": "code",
   "execution_count": 2,
   "metadata": {
    "execution": {
     "iopub.execute_input": "2023-03-16T07:47:01.708008Z",
     "iopub.status.busy": "2023-03-16T07:47:01.706467Z",
     "iopub.status.idle": "2023-03-16T07:47:28.428005Z",
     "shell.execute_reply": "2023-03-16T07:47:28.428926Z"
    }
   },
   "outputs": [
    {
     "name": "stdout",
     "output_type": "stream",
     "text": [
      "Collecting optuna\r\n",
      "  Downloading optuna-3.1.0-py3-none-any.whl (365 kB)\r\n",
      "\u001b[K     |████████████████████████████████| 365 kB 10.3 MB/s \r\n",
      "\u001b[?25hRequirement already satisfied: PyYAML in /home/idies/miniconda3/envs/py38/lib/python3.8/site-packages (from optuna) (5.3.1)\r\n",
      "Requirement already satisfied: numpy in /home/idies/miniconda3/envs/py38/lib/python3.8/site-packages (from optuna) (1.19.4)\r\n",
      "Requirement already satisfied: sqlalchemy>=1.3.0 in /home/idies/miniconda3/envs/py38/lib/python3.8/site-packages (from optuna) (1.3.20)\r\n",
      "Requirement already satisfied: tqdm in /home/idies/miniconda3/envs/py38/lib/python3.8/site-packages (from optuna) (4.50.2)\r\n",
      "Collecting colorlog\r\n",
      "  Downloading colorlog-6.7.0-py2.py3-none-any.whl (11 kB)\r\n",
      "Collecting alembic>=1.5.0\r\n",
      "  Downloading alembic-1.10.2-py3-none-any.whl (212 kB)\r\n",
      "\u001b[K     |████████████████████████████████| 212 kB 18.4 MB/s \r\n",
      "\u001b[?25hCollecting cmaes>=0.9.1\r\n",
      "  Downloading cmaes-0.9.1-py3-none-any.whl (21 kB)\r\n",
      "Requirement already satisfied: packaging>=20.0 in /home/idies/miniconda3/envs/py38/lib/python3.8/site-packages (from optuna) (20.4)\r\n",
      "Collecting typing-extensions>=4\r\n",
      "  Downloading typing_extensions-4.5.0-py3-none-any.whl (27 kB)\r\n",
      "Collecting importlib-resources; python_version < \"3.9\"\r\n",
      "  Downloading importlib_resources-5.12.0-py3-none-any.whl (36 kB)\r\n",
      "Requirement already satisfied: importlib-metadata; python_version < \"3.9\" in /home/idies/miniconda3/envs/py38/lib/python3.8/site-packages (from alembic>=1.5.0->optuna) (2.0.0)\r\n",
      "Collecting Mako\r\n",
      "  Downloading Mako-1.2.4-py3-none-any.whl (78 kB)\r\n",
      "\u001b[K     |████████████████████████████████| 78 kB 8.4 MB/s \r\n",
      "\u001b[?25hRequirement already satisfied: six in /home/idies/miniconda3/envs/py38/lib/python3.8/site-packages (from packaging>=20.0->optuna) (1.15.0)\r\n",
      "Requirement already satisfied: pyparsing>=2.0.2 in /home/idies/miniconda3/envs/py38/lib/python3.8/site-packages (from packaging>=20.0->optuna) (2.4.7)\r\n",
      "Requirement already satisfied: zipp>=3.1.0; python_version < \"3.10\" in /home/idies/miniconda3/envs/py38/lib/python3.8/site-packages (from importlib-resources; python_version < \"3.9\"->alembic>=1.5.0->optuna) (3.4.0)\r\n",
      "Requirement already satisfied: MarkupSafe>=0.9.2 in /home/idies/miniconda3/envs/py38/lib/python3.8/site-packages (from Mako->alembic>=1.5.0->optuna) (1.1.1)\r\n",
      "Installing collected packages: colorlog, typing-extensions, importlib-resources, Mako, alembic, cmaes, optuna\r\n",
      "  Attempting uninstall: typing-extensions\r\n",
      "    Found existing installation: typing-extensions 3.7.4.3\r\n",
      "    Uninstalling typing-extensions-3.7.4.3:\r\n",
      "      Successfully uninstalled typing-extensions-3.7.4.3\r\n",
      "Successfully installed Mako-1.2.4 alembic-1.10.2 cmaes-0.9.1 colorlog-6.7.0 importlib-resources-5.12.0 optuna-3.1.0 typing-extensions-4.5.0\r\n"
     ]
    }
   ],
   "source": [
    "import sys\n",
    "!{sys.executable} -m pip install optuna"
   ]
  },
  {
   "cell_type": "code",
   "execution_count": 3,
   "metadata": {
    "execution": {
     "iopub.execute_input": "2023-03-16T07:47:28.441848Z",
     "iopub.status.busy": "2023-03-16T07:47:28.440795Z",
     "iopub.status.idle": "2023-03-16T07:47:45.891266Z",
     "shell.execute_reply": "2023-03-16T07:47:45.890326Z"
    }
   },
   "outputs": [
    {
     "name": "stdout",
     "output_type": "stream",
     "text": [
      "Collecting scikit-learn-intelex\r\n",
      "  Downloading scikit_learn_intelex-2023.0.1-py38-none-manylinux1_x86_64.whl (83 kB)\r\n",
      "\u001b[K     |████████████████████████████████| 83 kB 1.3 MB/s \r\n",
      "\u001b[?25hCollecting daal4py==2023.0.1\r\n",
      "  Downloading daal4py-2023.0.1-py38-none-manylinux1_x86_64.whl (12.6 MB)\r\n",
      "\u001b[K     |████████████████████████████████| 12.6 MB 30.5 MB/s \r\n",
      "\u001b[?25hRequirement already satisfied: scikit-learn>=0.22 in /home/idies/miniconda3/envs/py38/lib/python3.8/site-packages (from scikit-learn-intelex) (0.23.2)\r\n",
      "Collecting daal==2023.0.1\r\n",
      "  Downloading daal-2023.0.1-py2.py3-none-manylinux1_x86_64.whl (85.5 MB)\r\n",
      "\u001b[K     |████████████████████████████████| 85.5 MB 120 kB/s \r\n",
      "\u001b[?25hRequirement already satisfied: numpy>=1.15 in /home/idies/miniconda3/envs/py38/lib/python3.8/site-packages (from daal4py==2023.0.1->scikit-learn-intelex) (1.19.4)\r\n",
      "Requirement already satisfied: scipy>=0.19.1 in /home/idies/miniconda3/envs/py38/lib/python3.8/site-packages (from scikit-learn>=0.22->scikit-learn-intelex) (1.6.0)\r\n",
      "Requirement already satisfied: threadpoolctl>=2.0.0 in /home/idies/miniconda3/envs/py38/lib/python3.8/site-packages (from scikit-learn>=0.22->scikit-learn-intelex) (2.1.0)\r\n",
      "Requirement already satisfied: joblib>=0.11 in /home/idies/miniconda3/envs/py38/lib/python3.8/site-packages (from scikit-learn>=0.22->scikit-learn-intelex) (0.17.0)\r\n",
      "Collecting tbb==2021.*\r\n",
      "  Downloading tbb-2021.8.0-py2.py3-none-manylinux1_x86_64.whl (4.0 MB)\r\n",
      "\u001b[K     |████████████████████████████████| 4.0 MB 24.0 MB/s \r\n",
      "\u001b[?25hInstalling collected packages: tbb, daal, daal4py, scikit-learn-intelex\r\n",
      "Successfully installed daal-2023.0.1 daal4py-2023.0.1 scikit-learn-intelex-2023.0.1 tbb-2021.8.0\r\n"
     ]
    }
   ],
   "source": [
    "import sys\n",
    "!{sys.executable} -m pip install scikit-learn-intelex"
   ]
  },
  {
   "cell_type": "code",
   "execution_count": 4,
   "metadata": {
    "execution": {
     "iopub.execute_input": "2023-03-16T07:47:45.900013Z",
     "iopub.status.busy": "2023-03-16T07:47:45.899016Z",
     "iopub.status.idle": "2023-03-16T07:47:50.731272Z",
     "shell.execute_reply": "2023-03-16T07:47:50.732383Z"
    }
   },
   "outputs": [
    {
     "name": "stdout",
     "output_type": "stream",
     "text": [
      "Scikit-learn was successfully globally patched by Intel(R) Extension for Scikit-learn\n"
     ]
    },
    {
     "name": "stderr",
     "output_type": "stream",
     "text": [
      "Intel(R) Extension for Scikit-learn* enabled (https://github.com/intel/scikit-learn-intelex)\n"
     ]
    }
   ],
   "source": [
    "from sklearnex import patch_sklearn\n",
    "patch_sklearn(global_patch=True)"
   ]
  },
  {
   "cell_type": "code",
   "execution_count": 5,
   "metadata": {
    "execution": {
     "iopub.execute_input": "2023-03-16T07:47:50.740781Z",
     "iopub.status.busy": "2023-03-16T07:47:50.739077Z",
     "iopub.status.idle": "2023-03-16T07:47:50.743973Z",
     "shell.execute_reply": "2023-03-16T07:47:50.744819Z"
    }
   },
   "outputs": [],
   "source": [
    "import pandas as pd\n",
    "import numpy as np"
   ]
  },
  {
   "cell_type": "code",
   "execution_count": 6,
   "metadata": {
    "execution": {
     "iopub.execute_input": "2023-03-16T07:47:50.755142Z",
     "iopub.status.busy": "2023-03-16T07:47:50.753427Z",
     "iopub.status.idle": "2023-03-16T07:48:29.276168Z",
     "shell.execute_reply": "2023-03-16T07:48:29.274373Z"
    }
   },
   "outputs": [],
   "source": [
    "df = pd.read_csv('https://gitlab.com/mirsakhawathossain/exodata/-/raw/main/dataset/exodata.csv').sort_index(axis=0)"
   ]
  },
  {
   "cell_type": "code",
   "execution_count": 7,
   "metadata": {
    "execution": {
     "iopub.execute_input": "2023-03-16T07:48:29.286272Z",
     "iopub.status.busy": "2023-03-16T07:48:29.284712Z",
     "iopub.status.idle": "2023-03-16T07:48:31.143287Z",
     "shell.execute_reply": "2023-03-16T07:48:31.141584Z"
    }
   },
   "outputs": [],
   "source": [
    "columns_1 = df.columns[df.mean()==1]\n",
    "columns_2 = df.columns[df.mean()==0]\n",
    "df = df.drop(columns=columns_1)\n",
    "df = df.drop(columns=columns_2)"
   ]
  },
  {
   "cell_type": "code",
   "execution_count": 8,
   "metadata": {
    "execution": {
     "iopub.execute_input": "2023-03-16T07:48:31.641052Z",
     "iopub.status.busy": "2023-03-16T07:48:31.639430Z",
     "iopub.status.idle": "2023-03-16T07:48:31.647065Z",
     "shell.execute_reply": "2023-03-16T07:48:31.645405Z"
    }
   },
   "outputs": [],
   "source": [
    "X = df.drop(['exoplanet'],axis=1)"
   ]
  },
  {
   "cell_type": "code",
   "execution_count": 9,
   "metadata": {
    "execution": {
     "iopub.execute_input": "2023-03-16T07:48:31.665655Z",
     "iopub.status.busy": "2023-03-16T07:48:31.664037Z",
     "iopub.status.idle": "2023-03-16T07:48:31.673974Z",
     "shell.execute_reply": "2023-03-16T07:48:31.672353Z"
    }
   },
   "outputs": [
    {
     "data": {
      "text/plain": [
       "(75458, 741)"
      ]
     },
     "execution_count": 1,
     "metadata": {},
     "output_type": "execute_result"
    }
   ],
   "source": [
    "X.shape"
   ]
  },
  {
   "cell_type": "code",
   "execution_count": 10,
   "metadata": {
    "execution": {
     "iopub.execute_input": "2023-03-16T07:48:31.688177Z",
     "iopub.status.busy": "2023-03-16T07:48:31.686560Z",
     "iopub.status.idle": "2023-03-16T07:48:31.693471Z",
     "shell.execute_reply": "2023-03-16T07:48:31.692113Z"
    }
   },
   "outputs": [],
   "source": [
    "y = df[['exoplanet']]"
   ]
  },
  {
   "cell_type": "code",
   "execution_count": 11,
   "metadata": {
    "execution": {
     "iopub.execute_input": "2023-03-16T07:48:31.705086Z",
     "iopub.status.busy": "2023-03-16T07:48:31.703530Z",
     "iopub.status.idle": "2023-03-16T07:48:31.727564Z",
     "shell.execute_reply": "2023-03-16T07:48:31.725929Z"
    }
   },
   "outputs": [
    {
     "data": {
      "text/plain": [
       "exoplanet\n",
       "1            40084\n",
       "0            35374\n",
       "dtype: int64"
      ]
     },
     "execution_count": 1,
     "metadata": {},
     "output_type": "execute_result"
    }
   ],
   "source": [
    "y.value_counts()"
   ]
  },
  {
   "cell_type": "code",
   "execution_count": 12,
   "metadata": {
    "execution": {
     "iopub.execute_input": "2023-03-16T07:48:31.735509Z",
     "iopub.status.busy": "2023-03-16T07:48:31.733986Z",
     "iopub.status.idle": "2023-03-16T07:48:31.743848Z",
     "shell.execute_reply": "2023-03-16T07:48:31.745094Z"
    }
   },
   "outputs": [],
   "source": [
    "from sklearn.model_selection import train_test_split"
   ]
  },
  {
   "cell_type": "code",
   "execution_count": 13,
   "metadata": {
    "execution": {
     "iopub.execute_input": "2023-03-16T07:48:31.798056Z",
     "iopub.status.busy": "2023-03-16T07:48:31.793666Z",
     "iopub.status.idle": "2023-03-16T07:48:33.089426Z",
     "shell.execute_reply": "2023-03-16T07:48:33.088034Z"
    }
   },
   "outputs": [],
   "source": [
    "X_train, X_test, y_train, y_test = train_test_split(X, y, test_size=0.4, random_state=43,stratify=y)"
   ]
  },
  {
   "cell_type": "code",
   "execution_count": 14,
   "metadata": {
    "execution": {
     "iopub.execute_input": "2023-03-16T07:48:33.099907Z",
     "iopub.status.busy": "2023-03-16T07:48:33.098448Z",
     "iopub.status.idle": "2023-03-16T07:48:33.107143Z",
     "shell.execute_reply": "2023-03-16T07:48:33.105822Z"
    }
   },
   "outputs": [
    {
     "name": "stdout",
     "output_type": "stream",
     "text": [
      "(45274, 741)\n",
      "(30184, 741)\n"
     ]
    }
   ],
   "source": [
    "print(X_train.shape)\n",
    "print(X_test.shape)"
   ]
  },
  {
   "cell_type": "code",
   "execution_count": 15,
   "metadata": {
    "execution": {
     "iopub.execute_input": "2023-03-16T07:48:33.115648Z",
     "iopub.status.busy": "2023-03-16T07:48:33.114639Z",
     "iopub.status.idle": "2023-03-16T07:48:33.121231Z",
     "shell.execute_reply": "2023-03-16T07:48:33.120404Z"
    }
   },
   "outputs": [],
   "source": [
    "from sklearn.preprocessing import QuantileTransformer\n",
    "qt = QuantileTransformer()"
   ]
  },
  {
   "cell_type": "code",
   "execution_count": 16,
   "metadata": {
    "execution": {
     "iopub.execute_input": "2023-03-16T07:48:33.236095Z",
     "iopub.status.busy": "2023-03-16T07:48:33.234555Z",
     "iopub.status.idle": "2023-03-16T07:48:53.444865Z",
     "shell.execute_reply": "2023-03-16T07:48:53.445801Z"
    }
   },
   "outputs": [],
   "source": [
    "X_train = qt.fit_transform(X_train)\n",
    "X_test = qt.transform(X_test)"
   ]
  },
  {
   "cell_type": "code",
   "execution_count": 17,
   "metadata": {
    "execution": {
     "iopub.execute_input": "2023-03-16T07:48:53.453455Z",
     "iopub.status.busy": "2023-03-16T07:48:53.452398Z",
     "iopub.status.idle": "2023-03-16T07:48:54.306900Z",
     "shell.execute_reply": "2023-03-16T07:48:54.304987Z"
    }
   },
   "outputs": [],
   "source": [
    "import optuna\n",
    "from sklearn.model_selection import cross_val_score, RepeatedKFold\n",
    "from sklearn.tree import DecisionTreeClassifier\n"
   ]
  },
  {
   "cell_type": "code",
   "execution_count": 18,
   "metadata": {
    "execution": {
     "iopub.execute_input": "2023-03-16T07:48:54.318660Z",
     "iopub.status.busy": "2023-03-16T07:48:54.316975Z",
     "iopub.status.idle": "2023-03-16T07:48:54.322431Z",
     "shell.execute_reply": "2023-03-16T07:48:54.321356Z"
    }
   },
   "outputs": [],
   "source": [
    "def objective(trial):\n",
    "    # Define the hyperparameter search space\n",
    "    max_depth = trial.suggest_int('max_depth', 1, 10)\n",
    "    min_samples_split = trial.suggest_int('min_samples_split', 2, 10)\n",
    "    min_samples_leaf = trial.suggest_int('min_samples_leaf', 1, 10)\n",
    "    max_features = trial.suggest_categorical('max_features', ['sqrt', 'log2', None])\n",
    "    criterion = trial.suggest_categorical('criterion', ['gini', 'entropy'])\n"
   ]
  },
  {
   "cell_type": "code",
   "execution_count": 19,
   "metadata": {
    "execution": {
     "iopub.execute_input": "2023-03-16T07:48:54.334587Z",
     "iopub.status.busy": "2023-03-16T07:48:54.332720Z",
     "iopub.status.idle": "2023-03-16T07:48:54.339377Z",
     "shell.execute_reply": "2023-03-16T07:48:54.338271Z"
    }
   },
   "outputs": [],
   "source": [
    "def objective(trial):\n",
    "    # Define the hyperparameter search space\n",
    "    max_depth = trial.suggest_int('max_depth', 1, 10)\n",
    "    min_samples_split = trial.suggest_int('min_samples_split', 2, 10)\n",
    "    min_samples_leaf = trial.suggest_int('min_samples_leaf', 1, 10)\n",
    "    max_features = trial.suggest_categorical('max_features', ['sqrt', 'log2', None])\n",
    "    criterion = trial.suggest_categorical('criterion', ['gini', 'entropy'])\n",
    "\n",
    "    # Train and evaluate the decision tree classifier with given hyperparameters\n",
    "    clf = DecisionTreeClassifier(max_depth=max_depth,\n",
    "                                  min_samples_split=min_samples_split,\n",
    "                                  min_samples_leaf=min_samples_leaf,\n",
    "                                  max_features=max_features,\n",
    "                                  criterion=criterion,\n",
    "                                  random_state=43)\n",
    "    \n",
    "    rskf = RepeatedKFold(n_splits=5, n_repeats=10, random_state=41)\n",
    "    accs = cross_val_score(clf, X_train, y_train, cv=rskf)\n",
    "    return 1 - np.mean(accs)"
   ]
  },
  {
   "cell_type": "code",
   "execution_count": 20,
   "metadata": {
    "execution": {
     "iopub.execute_input": "2023-03-16T07:48:54.347203Z",
     "iopub.status.busy": "2023-03-16T07:48:54.345851Z",
     "iopub.status.idle": "2023-03-16T07:48:54.354328Z",
     "shell.execute_reply": "2023-03-16T07:48:54.353208Z"
    }
   },
   "outputs": [
    {
     "name": "stderr",
     "output_type": "stream",
     "text": [
      "\u001b[32m[I 2023-03-16 07:48:54,343]\u001b[0m A new study created in memory with name: no-name-1f9d152b-f7c3-405b-adc6-241f2aff9bda\u001b[0m\n"
     ]
    }
   ],
   "source": [
    "# Define the study object to manage the optimization process\n",
    "study = optuna.create_study(direction='minimize')"
   ]
  },
  {
   "cell_type": "code",
   "execution_count": 21,
   "metadata": {
    "execution": {
     "iopub.execute_input": "2023-03-16T07:48:54.376579Z",
     "iopub.status.busy": "2023-03-16T07:48:54.375458Z",
     "iopub.status.idle": "2023-03-16T09:11:04.241084Z",
     "shell.execute_reply": "2023-03-16T09:11:04.240090Z"
    }
   },
   "outputs": [
    {
     "name": "stderr",
     "output_type": "stream",
     "text": [
      "\u001b[32m[I 2023-03-16 07:50:53,260]\u001b[0m Trial 13 finished with value: 0.42828336563842906 and parameters: {'max_depth': 2, 'min_samples_split': 7, 'min_samples_leaf': 3, 'max_features': 'log2', 'criterion': 'entropy'}. Best is trial 13 with value: 0.42828336563842906.\u001b[0m\n",
      "\u001b[32m[I 2023-03-16 07:51:03,084]\u001b[0m Trial 28 finished with value: 0.3288641935734511 and parameters: {'max_depth': 5, 'min_samples_split': 6, 'min_samples_leaf': 3, 'max_features': 'log2', 'criterion': 'gini'}. Best is trial 28 with value: 0.3288641935734511.\u001b[0m\n",
      "\u001b[32m[I 2023-03-16 07:51:03,332]\u001b[0m Trial 31 finished with value: 0.3800834626573951 and parameters: {'max_depth': 3, 'min_samples_split': 2, 'min_samples_leaf': 5, 'max_features': 'log2', 'criterion': 'entropy'}. Best is trial 28 with value: 0.3288641935734511.\u001b[0m\n",
      "\u001b[32m[I 2023-03-16 07:51:04,968]\u001b[0m Trial 17 finished with value: 0.32881560163529533 and parameters: {'max_depth': 5, 'min_samples_split': 7, 'min_samples_leaf': 8, 'max_features': 'log2', 'criterion': 'gini'}. Best is trial 17 with value: 0.32881560163529533.\u001b[0m\n",
      "\u001b[32m[I 2023-03-16 07:51:10,254]\u001b[0m Trial 7 finished with value: 0.30689580414317585 and parameters: {'max_depth': 6, 'min_samples_split': 10, 'min_samples_leaf': 6, 'max_features': 'log2', 'criterion': 'gini'}. Best is trial 7 with value: 0.30689580414317585.\u001b[0m\n",
      "\u001b[32m[I 2023-03-16 07:51:10,341]\u001b[0m Trial 1 finished with value: 0.30594602115511105 and parameters: {'max_depth': 6, 'min_samples_split': 9, 'min_samples_leaf': 5, 'max_features': 'log2', 'criterion': 'gini'}. Best is trial 1 with value: 0.30594602115511105.\u001b[0m\n",
      "\u001b[32m[I 2023-03-16 07:51:12,599]\u001b[0m Trial 23 finished with value: 0.3042276205946114 and parameters: {'max_depth': 7, 'min_samples_split': 8, 'min_samples_leaf': 10, 'max_features': 'log2', 'criterion': 'gini'}. Best is trial 23 with value: 0.3042276205946114.\u001b[0m\n",
      "\u001b[32m[I 2023-03-16 07:51:17,578]\u001b[0m Trial 15 finished with value: 0.3361222580462987 and parameters: {'max_depth': 4, 'min_samples_split': 2, 'min_samples_leaf': 3, 'max_features': 'log2', 'criterion': 'entropy'}. Best is trial 23 with value: 0.3042276205946114.\u001b[0m\n",
      "\u001b[32m[I 2023-03-16 07:51:22,185]\u001b[0m Trial 27 finished with value: 0.34238196784078634 and parameters: {'max_depth': 3, 'min_samples_split': 4, 'min_samples_leaf': 2, 'max_features': 'sqrt', 'criterion': 'gini'}. Best is trial 23 with value: 0.3042276205946114.\u001b[0m\n",
      "\u001b[32m[I 2023-03-16 07:51:22,310]\u001b[0m Trial 9 finished with value: 0.3361487637156386 and parameters: {'max_depth': 4, 'min_samples_split': 6, 'min_samples_leaf': 7, 'max_features': 'log2', 'criterion': 'entropy'}. Best is trial 23 with value: 0.3042276205946114.\u001b[0m\n",
      "\u001b[32m[I 2023-03-16 07:51:22,937]\u001b[0m Trial 20 finished with value: 0.31305823077365 and parameters: {'max_depth': 8, 'min_samples_split': 10, 'min_samples_leaf': 6, 'max_features': 'log2', 'criterion': 'gini'}. Best is trial 23 with value: 0.3042276205946114.\u001b[0m\n",
      "\u001b[32m[I 2023-03-16 07:51:25,571]\u001b[0m Trial 8 finished with value: 0.30782569934098103 and parameters: {'max_depth': 9, 'min_samples_split': 2, 'min_samples_leaf': 7, 'max_features': 'log2', 'criterion': 'gini'}. Best is trial 23 with value: 0.3042276205946114.\u001b[0m\n",
      "\u001b[32m[I 2023-03-16 07:51:31,596]\u001b[0m Trial 24 finished with value: 0.39717939738707453 and parameters: {'max_depth': 2, 'min_samples_split': 5, 'min_samples_leaf': 9, 'max_features': 'sqrt', 'criterion': 'entropy'}. Best is trial 23 with value: 0.3042276205946114.\u001b[0m\n",
      "\u001b[32m[I 2023-03-16 07:51:32,979]\u001b[0m Trial 19 finished with value: 0.30119053175883037 and parameters: {'max_depth': 10, 'min_samples_split': 6, 'min_samples_leaf': 2, 'max_features': 'log2', 'criterion': 'gini'}. Best is trial 19 with value: 0.30119053175883037.\u001b[0m\n",
      "\u001b[32m[I 2023-03-16 07:51:39,736]\u001b[0m Trial 30 finished with value: 0.3277885776939077 and parameters: {'max_depth': 4, 'min_samples_split': 2, 'min_samples_leaf': 4, 'max_features': 'sqrt', 'criterion': 'gini'}. Best is trial 19 with value: 0.30119053175883037.\u001b[0m\n",
      "\u001b[32m[I 2023-03-16 07:51:58,216]\u001b[0m Trial 0 finished with value: 0.3229138227875522 and parameters: {'max_depth': 5, 'min_samples_split': 9, 'min_samples_leaf': 3, 'max_features': 'sqrt', 'criterion': 'gini'}. Best is trial 19 with value: 0.30119053175883037.\u001b[0m\n",
      "\u001b[32m[I 2023-03-16 07:52:10,920]\u001b[0m Trial 11 finished with value: 0.3179286319020658 and parameters: {'max_depth': 6, 'min_samples_split': 7, 'min_samples_leaf': 4, 'max_features': 'sqrt', 'criterion': 'gini'}. Best is trial 19 with value: 0.30119053175883037.\u001b[0m\n",
      "\u001b[32m[I 2023-03-16 07:52:23,371]\u001b[0m Trial 29 finished with value: 0.3033175397580772 and parameters: {'max_depth': 7, 'min_samples_split': 2, 'min_samples_leaf': 9, 'max_features': 'sqrt', 'criterion': 'gini'}. Best is trial 19 with value: 0.30119053175883037.\u001b[0m\n",
      "\u001b[32m[I 2023-03-16 07:52:24,122]\u001b[0m Trial 4 finished with value: 0.30345227560948795 and parameters: {'max_depth': 7, 'min_samples_split': 7, 'min_samples_leaf': 10, 'max_features': 'sqrt', 'criterion': 'gini'}. Best is trial 19 with value: 0.30119053175883037.\u001b[0m\n",
      "\u001b[32m[I 2023-03-16 07:52:59,396]\u001b[0m Trial 21 finished with value: 0.285048822836952 and parameters: {'max_depth': 10, 'min_samples_split': 9, 'min_samples_leaf': 6, 'max_features': 'sqrt', 'criterion': 'gini'}. Best is trial 21 with value: 0.285048822836952.\u001b[0m\n",
      "\u001b[32m[I 2023-03-16 07:53:13,552]\u001b[0m Trial 34 finished with value: 0.39717939738707453 and parameters: {'max_depth': 2, 'min_samples_split': 8, 'min_samples_leaf': 10, 'max_features': 'sqrt', 'criterion': 'entropy'}. Best is trial 21 with value: 0.285048822836952.\u001b[0m\n",
      "\u001b[32m[I 2023-03-16 07:53:14,297]\u001b[0m Trial 40 finished with value: 0.3068869643663268 and parameters: {'max_depth': 9, 'min_samples_split': 2, 'min_samples_leaf': 10, 'max_features': 'log2', 'criterion': 'gini'}. Best is trial 21 with value: 0.285048822836952.\u001b[0m\n",
      "\u001b[32m[I 2023-03-16 07:53:22,354]\u001b[0m Trial 32 finished with value: 0.32271282959339487 and parameters: {'max_depth': 5, 'min_samples_split': 9, 'min_samples_leaf': 6, 'max_features': 'sqrt', 'criterion': 'gini'}. Best is trial 21 with value: 0.285048822836952.\u001b[0m\n",
      "\u001b[32m[I 2023-03-16 07:53:31,649]\u001b[0m Trial 35 finished with value: 0.3228055991921347 and parameters: {'max_depth': 5, 'min_samples_split': 2, 'min_samples_leaf': 7, 'max_features': 'sqrt', 'criterion': 'gini'}. Best is trial 21 with value: 0.285048822836952.\u001b[0m\n",
      "\u001b[32m[I 2023-03-16 07:53:33,040]\u001b[0m Trial 33 finished with value: 0.30845076324066767 and parameters: {'max_depth': 9, 'min_samples_split': 9, 'min_samples_leaf': 8, 'max_features': 'log2', 'criterion': 'entropy'}. Best is trial 21 with value: 0.285048822836952.\u001b[0m\n",
      "\u001b[32m[I 2023-03-16 07:53:47,470]\u001b[0m Trial 36 finished with value: 0.3180523204719168 and parameters: {'max_depth': 6, 'min_samples_split': 3, 'min_samples_leaf': 3, 'max_features': 'sqrt', 'criterion': 'gini'}. Best is trial 21 with value: 0.285048822836952.\u001b[0m\n",
      "\u001b[32m[I 2023-03-16 07:54:14,105]\u001b[0m Trial 37 finished with value: 0.29527324134217947 and parameters: {'max_depth': 8, 'min_samples_split': 10, 'min_samples_leaf': 5, 'max_features': 'sqrt', 'criterion': 'gini'}. Best is trial 21 with value: 0.285048822836952.\u001b[0m\n",
      "\u001b[32m[I 2023-03-16 07:54:38,616]\u001b[0m Trial 39 finished with value: 0.284244800782397 and parameters: {'max_depth': 10, 'min_samples_split': 6, 'min_samples_leaf': 1, 'max_features': 'sqrt', 'criterion': 'gini'}. Best is trial 39 with value: 0.284244800782397.\u001b[0m\n",
      "\u001b[32m[I 2023-03-16 07:54:44,791]\u001b[0m Trial 3 finished with value: 0.289161566828247 and parameters: {'max_depth': 10, 'min_samples_split': 9, 'min_samples_leaf': 3, 'max_features': 'sqrt', 'criterion': 'entropy'}. Best is trial 39 with value: 0.284244800782397.\u001b[0m\n",
      "\u001b[32m[I 2023-03-16 08:09:44,009]\u001b[0m Trial 26 finished with value: 0.30546894301410377 and parameters: {'max_depth': 3, 'min_samples_split': 9, 'min_samples_leaf': 8, 'max_features': None, 'criterion': 'gini'}. Best is trial 39 with value: 0.284244800782397.\u001b[0m\n",
      "\u001b[32m[I 2023-03-16 08:15:01,863]\u001b[0m Trial 38 finished with value: 0.307633542752321 and parameters: {'max_depth': 2, 'min_samples_split': 8, 'min_samples_leaf': 6, 'max_features': None, 'criterion': 'entropy'}. Best is trial 39 with value: 0.284244800782397.\u001b[0m\n",
      "\u001b[32m[I 2023-03-16 08:19:47,061]\u001b[0m Trial 12 finished with value: 0.2908004728241389 and parameters: {'max_depth': 5, 'min_samples_split': 7, 'min_samples_leaf': 5, 'max_features': None, 'criterion': 'gini'}. Best is trial 39 with value: 0.284244800782397.\u001b[0m\n",
      "\u001b[32m[I 2023-03-16 08:31:05,999]\u001b[0m Trial 43 finished with value: 0.27793876510249504 and parameters: {'max_depth': 7, 'min_samples_split': 8, 'min_samples_leaf': 10, 'max_features': None, 'criterion': 'gini'}. Best is trial 43 with value: 0.27793876510249504.\u001b[0m\n",
      "\u001b[32m[I 2023-03-16 08:31:41,917]\u001b[0m Trial 44 finished with value: 0.27793876510249504 and parameters: {'max_depth': 7, 'min_samples_split': 9, 'min_samples_leaf': 10, 'max_features': None, 'criterion': 'gini'}. Best is trial 43 with value: 0.27793876510249504.\u001b[0m\n",
      "\u001b[32m[I 2023-03-16 08:33:19,636]\u001b[0m Trial 2 finished with value: 0.29999117534805886 and parameters: {'max_depth': 4, 'min_samples_split': 9, 'min_samples_leaf': 1, 'max_features': None, 'criterion': 'entropy'}. Best is trial 43 with value: 0.27793876510249504.\u001b[0m\n",
      "\u001b[32m[I 2023-03-16 08:39:53,124]\u001b[0m Trial 41 finished with value: 0.2720391618019963 and parameters: {'max_depth': 9, 'min_samples_split': 9, 'min_samples_leaf': 10, 'max_features': None, 'criterion': 'gini'}. Best is trial 41 with value: 0.2720391618019963.\u001b[0m\n",
      "\u001b[32m[I 2023-03-16 08:40:21,719]\u001b[0m Trial 42 finished with value: 0.2720391618019963 and parameters: {'max_depth': 9, 'min_samples_split': 9, 'min_samples_leaf': 10, 'max_features': None, 'criterion': 'gini'}. Best is trial 41 with value: 0.2720391618019963.\u001b[0m\n",
      "\u001b[32m[I 2023-03-16 08:41:55,754]\u001b[0m Trial 16 finished with value: 0.2914012556357054 and parameters: {'max_depth': 5, 'min_samples_split': 10, 'min_samples_leaf': 2, 'max_features': None, 'criterion': 'entropy'}. Best is trial 41 with value: 0.2720391618019963.\u001b[0m\n",
      "\u001b[32m[I 2023-03-16 08:42:11,074]\u001b[0m Trial 14 finished with value: 0.2710010210532622 and parameters: {'max_depth': 10, 'min_samples_split': 5, 'min_samples_leaf': 3, 'max_features': None, 'criterion': 'gini'}. Best is trial 14 with value: 0.2710010210532622.\u001b[0m\n",
      "\u001b[32m[I 2023-03-16 08:42:35,547]\u001b[0m Trial 25 finished with value: 0.291385794564474 and parameters: {'max_depth': 5, 'min_samples_split': 5, 'min_samples_leaf': 3, 'max_features': None, 'criterion': 'entropy'}. Best is trial 14 with value: 0.2710010210532622.\u001b[0m\n",
      "\u001b[32m[I 2023-03-16 08:42:39,303]\u001b[0m Trial 22 finished with value: 0.27080222389815956 and parameters: {'max_depth': 10, 'min_samples_split': 6, 'min_samples_leaf': 9, 'max_features': None, 'criterion': 'gini'}. Best is trial 22 with value: 0.27080222389815956.\u001b[0m\n",
      "\u001b[32m[I 2023-03-16 08:43:16,970]\u001b[0m Trial 46 finished with value: 0.27074699944391567 and parameters: {'max_depth': 10, 'min_samples_split': 8, 'min_samples_leaf': 10, 'max_features': None, 'criterion': 'gini'}. Best is trial 46 with value: 0.27074699944391567.\u001b[0m\n",
      "\u001b[32m[I 2023-03-16 08:43:48,308]\u001b[0m Trial 47 finished with value: 0.27074699944391567 and parameters: {'max_depth': 10, 'min_samples_split': 8, 'min_samples_leaf': 10, 'max_features': None, 'criterion': 'gini'}. Best is trial 46 with value: 0.27074699944391567.\u001b[0m\n",
      "\u001b[32m[I 2023-03-16 08:44:02,626]\u001b[0m Trial 48 finished with value: 0.27074699944391567 and parameters: {'max_depth': 10, 'min_samples_split': 8, 'min_samples_leaf': 10, 'max_features': None, 'criterion': 'gini'}. Best is trial 46 with value: 0.27074699944391567.\u001b[0m\n",
      "\u001b[32m[I 2023-03-16 08:44:03,544]\u001b[0m Trial 45 finished with value: 0.27074699944391567 and parameters: {'max_depth': 10, 'min_samples_split': 8, 'min_samples_leaf': 10, 'max_features': None, 'criterion': 'gini'}. Best is trial 46 with value: 0.27074699944391567.\u001b[0m\n",
      "\u001b[32m[I 2023-03-16 08:44:25,528]\u001b[0m Trial 49 finished with value: 0.27074699944391567 and parameters: {'max_depth': 10, 'min_samples_split': 4, 'min_samples_leaf': 10, 'max_features': None, 'criterion': 'gini'}. Best is trial 46 with value: 0.27074699944391567.\u001b[0m\n",
      "\u001b[32m[I 2023-03-16 08:57:19,994]\u001b[0m Trial 6 finished with value: 0.27883995834795516 and parameters: {'max_depth': 7, 'min_samples_split': 10, 'min_samples_leaf': 7, 'max_features': None, 'criterion': 'entropy'}. Best is trial 46 with value: 0.27074699944391567.\u001b[0m\n",
      "\u001b[32m[I 2023-03-16 09:04:05,250]\u001b[0m Trial 18 finished with value: 0.27427663529833934 and parameters: {'max_depth': 8, 'min_samples_split': 5, 'min_samples_leaf': 1, 'max_features': None, 'criterion': 'entropy'}. Best is trial 46 with value: 0.27074699944391567.\u001b[0m\n",
      "\u001b[32m[I 2023-03-16 09:04:07,731]\u001b[0m Trial 10 finished with value: 0.274581441957495 and parameters: {'max_depth': 8, 'min_samples_split': 5, 'min_samples_leaf': 8, 'max_features': None, 'criterion': 'entropy'}. Best is trial 46 with value: 0.27074699944391567.\u001b[0m\n",
      "\u001b[32m[I 2023-03-16 09:11:04,228]\u001b[0m Trial 5 finished with value: 0.2738415595146222 and parameters: {'max_depth': 9, 'min_samples_split': 7, 'min_samples_leaf': 9, 'max_features': None, 'criterion': 'entropy'}. Best is trial 46 with value: 0.27074699944391567.\u001b[0m\n"
     ]
    }
   ],
   "source": [
    "# Run the hyperparameter optimization\n",
    "n_trials = 50\n",
    "n_jobs = -1\n",
    "study.optimize(objective, n_trials=n_trials, n_jobs=n_jobs)"
   ]
  },
  {
   "cell_type": "code",
   "execution_count": 22,
   "metadata": {
    "execution": {
     "iopub.execute_input": "2023-03-16T09:11:04.249257Z",
     "iopub.status.busy": "2023-03-16T09:11:04.248196Z",
     "iopub.status.idle": "2023-03-16T09:11:04.254103Z",
     "shell.execute_reply": "2023-03-16T09:11:04.255175Z"
    }
   },
   "outputs": [
    {
     "name": "stdout",
     "output_type": "stream",
     "text": [
      "Best hyperparameters:\n",
      "{'max_depth': 10, 'min_samples_split': 8, 'min_samples_leaf': 10, 'max_features': None, 'criterion': 'gini'}\n"
     ]
    }
   ],
   "source": [
    "# Print the best hyperparameters found\n",
    "print('Best hyperparameters:')\n",
    "print(study.best_params)"
   ]
  },
  {
   "cell_type": "code",
   "execution_count": null,
   "metadata": {},
   "outputs": [],
   "source": []
  }
 ],
 "metadata": {
  "kernelspec": {
   "display_name": "Python 3.8 (py38)",
   "language": "python",
   "name": "py38"
  },
  "language_info": {
   "codemirror_mode": {
    "name": "ipython",
    "version": 3
   },
   "file_extension": ".py",
   "mimetype": "text/x-python",
   "name": "python",
   "nbconvert_exporter": "python",
   "pygments_lexer": "ipython3",
   "version": "3.8.5"
  }
 },
 "nbformat": 4,
 "nbformat_minor": 4
}

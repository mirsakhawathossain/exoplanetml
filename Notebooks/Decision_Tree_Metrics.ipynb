{
 "cells": [
  {
   "cell_type": "code",
   "execution_count": 2,
   "metadata": {
    "execution": {
     "iopub.execute_input": "2023-03-16T07:47:01.695614Z",
     "iopub.status.busy": "2023-03-16T07:47:01.693819Z",
     "iopub.status.idle": "2023-03-16T07:47:01.699497Z",
     "shell.execute_reply": "2023-03-16T07:47:01.698377Z"
    }
   },
   "outputs": [],
   "source": [
    "import warnings\n",
    "warnings.filterwarnings('ignore')"
   ]
  },
  {
   "cell_type": "code",
   "execution_count": 3,
   "metadata": {
    "execution": {
     "iopub.execute_input": "2023-03-16T07:47:28.441848Z",
     "iopub.status.busy": "2023-03-16T07:47:28.440795Z",
     "iopub.status.idle": "2023-03-16T07:47:45.891266Z",
     "shell.execute_reply": "2023-03-16T07:47:45.890326Z"
    }
   },
   "outputs": [
    {
     "name": "stdout",
     "output_type": "stream",
     "text": [
      "Collecting scikit-learn-intelex\n",
      "  Downloading scikit_learn_intelex-2023.0.1-py38-none-manylinux1_x86_64.whl (83 kB)\n",
      "\u001b[K     |████████████████████████████████| 83 kB 1.0 MB/s  eta 0:00:01\n",
      "\u001b[?25hCollecting daal4py==2023.0.1\n",
      "  Downloading daal4py-2023.0.1-py38-none-manylinux1_x86_64.whl (12.6 MB)\n",
      "\u001b[K     |████████████████████████████████| 12.6 MB 12.3 MB/s eta 0:00:01 2.8 MB 12.3 MB/s eta 0:00:01/s eta 0:00:01█████▌                | 6.1 MB 12.3 MB/s eta 0:00:01        | 8.8 MB 12.3 MB/s eta 0:00:01  | 9.7 MB 12.3 MB/s eta 0:00:01��███████████████▍   | 11.2 MB 12.3 MB/s eta 0:00:01████████| 12.6 MB 12.3 MB/s eta 0:00:01\n",
      "\u001b[?25hRequirement already satisfied: scikit-learn>=0.22 in /home/idies/miniconda3/envs/py38/lib/python3.8/site-packages (from scikit-learn-intelex) (1.2.2)\n",
      "Requirement already satisfied: numpy>=1.15 in /home/idies/miniconda3/envs/py38/lib/python3.8/site-packages (from daal4py==2023.0.1->scikit-learn-intelex) (1.19.4)\n",
      "Collecting daal==2023.0.1\n",
      "  Downloading daal-2023.0.1-py2.py3-none-manylinux1_x86_64.whl (85.5 MB)\n",
      "\u001b[K     |████████████████████████████████| 85.5 MB 58 kB/s s eta 0:00:01           | 706 kB 20.4 MB/s eta 0:00:05                      | 5.2 MB 20.4 MB/s eta 0:00:046.3 MB 20.4 MB/s eta 0:00:047.9 MB 20.4 MB/s eta 0:00:04:04 |████▎                           | 11.4 MB 20.4 MB/s eta 0:00:044                | 19.5 MB 20.4 MB/s eta 0:00:04               | 24.7 MB 25.2 MB/s eta 0:00:03    |██████████▋                     | 28.4 MB 25.2 MB/s eta 0:00:03███████████                     | 29.6 MB 25.2 MB/s eta 0:00:03      | 32.3 MB 25.2 MB/s eta 0:00:03██▋                   | 33.6 MB 25.2 MB/s eta 0:00:03��█████████                   | 35.0 MB 25.2 MB/s eta 0:00:03     |█████████████▊                  | 36.6 MB 25.2 MB/s eta 0:00:02    |███████████████▎                | 40.8 MB 25.2 MB/s eta 0:00:02  | 44.7 MB 21.0 MB/s eta 0:00:02��███████▎              | 46.1 MB 21.0 MB/s eta 0:00:02    |█████████████████▉              | 47.6 MB 21.0 MB/s eta 0:00:02     |██████████████████▌             | 49.4 MB 21.0 MB/s eta 0:00:02��███████████████             | 50.9 MB 21.0 MB/s eta 0:00:02��█████▏           | 53.9 MB 21.0 MB/s eta 0:00:02�████████▋           | 55.0 MB 21.0 MB/s eta 0:00:02��█████████████████           | 56.1 MB 21.0 MB/s eta 0:00:02█████████▌          | 57.3 MB 21.0 MB/s eta 0:00:0200:02�█▍         | 59.8 MB 21.0 MB/s eta 0:00:02██████████████▎        | 62.2 MB 21.0 MB/s eta 0:00:02| 65.4 MB 24.6 MB/s eta 0:00:01.7 MB 24.6 MB/s eta 0:00:01    | 72.8 MB 24.6 MB/s eta 0:00:01��███████████████████▌   | 76.2 MB 24.6 MB/s eta 0:00:011 MB 24.6 MB/s eta 0:00:01███████████▎  | 78.2 MB 24.6 MB/s eta 0:00:01MB 24.6 MB/s eta 0:00:01 MB 24.6 MB/s eta 0:00:01██████ | 83.1 MB 24.6 MB/s eta 0:00:01███████▋| 84.6 MB 26.8 MB/s eta 0:00:01\n",
      "\u001b[?25hRequirement already satisfied: scipy>=1.3.2 in /home/idies/miniconda3/envs/py38/lib/python3.8/site-packages (from scikit-learn>=0.22->scikit-learn-intelex) (1.6.0)\n",
      "Requirement already satisfied: threadpoolctl>=2.0.0 in /home/idies/miniconda3/envs/py38/lib/python3.8/site-packages (from scikit-learn>=0.22->scikit-learn-intelex) (2.1.0)\n",
      "Requirement already satisfied: joblib>=1.1.1 in /home/idies/miniconda3/envs/py38/lib/python3.8/site-packages (from scikit-learn>=0.22->scikit-learn-intelex) (1.2.0)\n",
      "Collecting tbb==2021.*\n",
      "  Downloading tbb-2021.8.0-py2.py3-none-manylinux1_x86_64.whl (4.0 MB)\n",
      "\u001b[K     |████████████████████████████████| 4.0 MB 15.8 MB/s eta 0:00:018 MB/s eta 0:00:01��████████████████          | 2.7 MB 15.8 MB/s eta 0:00:01\n",
      "\u001b[?25hInstalling collected packages: tbb, daal, daal4py, scikit-learn-intelex\n",
      "Successfully installed daal-2023.0.1 daal4py-2023.0.1 scikit-learn-intelex-2023.0.1 tbb-2021.8.0\n"
     ]
    }
   ],
   "source": [
    "import sys\n",
    "!{sys.executable} -m pip install scikit-learn-intelex"
   ]
  },
  {
   "cell_type": "code",
   "execution_count": 4,
   "metadata": {},
   "outputs": [
    {
     "name": "stdout",
     "output_type": "stream",
     "text": [
      "Requirement already up-to-date: scikit-learn in /home/idies/miniconda3/envs/py38/lib/python3.8/site-packages (1.2.2)\n",
      "Requirement already satisfied, skipping upgrade: joblib>=1.1.1 in /home/idies/miniconda3/envs/py38/lib/python3.8/site-packages (from scikit-learn) (1.2.0)\n",
      "Requirement already satisfied, skipping upgrade: scipy>=1.3.2 in /home/idies/miniconda3/envs/py38/lib/python3.8/site-packages (from scikit-learn) (1.6.0)\n",
      "Requirement already satisfied, skipping upgrade: threadpoolctl>=2.0.0 in /home/idies/miniconda3/envs/py38/lib/python3.8/site-packages (from scikit-learn) (2.1.0)\n",
      "Requirement already satisfied, skipping upgrade: numpy>=1.17.3 in /home/idies/miniconda3/envs/py38/lib/python3.8/site-packages (from scikit-learn) (1.19.4)\n"
     ]
    }
   ],
   "source": [
    "import sys\n",
    "!{sys.executable} -m pip install scikit-learn --upgrade"
   ]
  },
  {
   "cell_type": "code",
   "execution_count": 5,
   "metadata": {
    "execution": {
     "iopub.execute_input": "2023-03-16T07:47:45.900013Z",
     "iopub.status.busy": "2023-03-16T07:47:45.899016Z",
     "iopub.status.idle": "2023-03-16T07:47:50.731272Z",
     "shell.execute_reply": "2023-03-16T07:47:50.732383Z"
    }
   },
   "outputs": [
    {
     "name": "stdout",
     "output_type": "stream",
     "text": [
      "Scikit-learn was successfully globally patched by Intel(R) Extension for Scikit-learn\n"
     ]
    },
    {
     "name": "stderr",
     "output_type": "stream",
     "text": [
      "Intel(R) Extension for Scikit-learn* enabled (https://github.com/intel/scikit-learn-intelex)\n"
     ]
    }
   ],
   "source": [
    "from sklearnex import patch_sklearn\n",
    "patch_sklearn(global_patch=True)"
   ]
  },
  {
   "cell_type": "code",
   "execution_count": 6,
   "metadata": {
    "execution": {
     "iopub.execute_input": "2023-03-16T07:47:50.740781Z",
     "iopub.status.busy": "2023-03-16T07:47:50.739077Z",
     "iopub.status.idle": "2023-03-16T07:47:50.743973Z",
     "shell.execute_reply": "2023-03-16T07:47:50.744819Z"
    }
   },
   "outputs": [],
   "source": [
    "import pandas as pd\n",
    "import numpy as np"
   ]
  },
  {
   "cell_type": "code",
   "execution_count": 7,
   "metadata": {
    "execution": {
     "iopub.execute_input": "2023-03-16T07:47:50.755142Z",
     "iopub.status.busy": "2023-03-16T07:47:50.753427Z",
     "iopub.status.idle": "2023-03-16T07:48:29.276168Z",
     "shell.execute_reply": "2023-03-16T07:48:29.274373Z"
    }
   },
   "outputs": [],
   "source": [
    "df = pd.read_csv('https://gitlab.com/mirsakhawathossain/exodata/-/raw/main/dataset/exodata.csv').sort_index(axis=0)"
   ]
  },
  {
   "cell_type": "code",
   "execution_count": 8,
   "metadata": {
    "execution": {
     "iopub.execute_input": "2023-03-16T07:48:29.286272Z",
     "iopub.status.busy": "2023-03-16T07:48:29.284712Z",
     "iopub.status.idle": "2023-03-16T07:48:31.143287Z",
     "shell.execute_reply": "2023-03-16T07:48:31.141584Z"
    }
   },
   "outputs": [],
   "source": [
    "columns_1 = df.columns[df.mean()==1]\n",
    "columns_2 = df.columns[df.mean()==0]\n",
    "df = df.drop(columns=columns_1)\n",
    "df = df.drop(columns=columns_2)"
   ]
  },
  {
   "cell_type": "code",
   "execution_count": 9,
   "metadata": {
    "execution": {
     "iopub.execute_input": "2023-03-16T07:48:31.641052Z",
     "iopub.status.busy": "2023-03-16T07:48:31.639430Z",
     "iopub.status.idle": "2023-03-16T07:48:31.647065Z",
     "shell.execute_reply": "2023-03-16T07:48:31.645405Z"
    }
   },
   "outputs": [],
   "source": [
    "X = df.drop(['exoplanet'],axis=1)"
   ]
  },
  {
   "cell_type": "code",
   "execution_count": 10,
   "metadata": {
    "execution": {
     "iopub.execute_input": "2023-03-16T07:48:31.665655Z",
     "iopub.status.busy": "2023-03-16T07:48:31.664037Z",
     "iopub.status.idle": "2023-03-16T07:48:31.673974Z",
     "shell.execute_reply": "2023-03-16T07:48:31.672353Z"
    }
   },
   "outputs": [
    {
     "data": {
      "text/plain": [
       "(75458, 741)"
      ]
     },
     "execution_count": 10,
     "metadata": {},
     "output_type": "execute_result"
    }
   ],
   "source": [
    "X.shape"
   ]
  },
  {
   "cell_type": "code",
   "execution_count": 11,
   "metadata": {
    "execution": {
     "iopub.execute_input": "2023-03-16T07:48:31.688177Z",
     "iopub.status.busy": "2023-03-16T07:48:31.686560Z",
     "iopub.status.idle": "2023-03-16T07:48:31.693471Z",
     "shell.execute_reply": "2023-03-16T07:48:31.692113Z"
    }
   },
   "outputs": [],
   "source": [
    "y = df[['exoplanet']]"
   ]
  },
  {
   "cell_type": "code",
   "execution_count": 12,
   "metadata": {
    "execution": {
     "iopub.execute_input": "2023-03-16T07:48:31.705086Z",
     "iopub.status.busy": "2023-03-16T07:48:31.703530Z",
     "iopub.status.idle": "2023-03-16T07:48:31.727564Z",
     "shell.execute_reply": "2023-03-16T07:48:31.725929Z"
    }
   },
   "outputs": [
    {
     "data": {
      "text/plain": [
       "exoplanet\n",
       "1            40084\n",
       "0            35374\n",
       "dtype: int64"
      ]
     },
     "execution_count": 12,
     "metadata": {},
     "output_type": "execute_result"
    }
   ],
   "source": [
    "y.value_counts()"
   ]
  },
  {
   "cell_type": "code",
   "execution_count": 13,
   "metadata": {
    "execution": {
     "iopub.execute_input": "2023-03-16T07:48:31.735509Z",
     "iopub.status.busy": "2023-03-16T07:48:31.733986Z",
     "iopub.status.idle": "2023-03-16T07:48:31.743848Z",
     "shell.execute_reply": "2023-03-16T07:48:31.745094Z"
    }
   },
   "outputs": [],
   "source": [
    "from sklearn.model_selection import train_test_split"
   ]
  },
  {
   "cell_type": "code",
   "execution_count": 14,
   "metadata": {
    "execution": {
     "iopub.execute_input": "2023-03-16T07:48:31.798056Z",
     "iopub.status.busy": "2023-03-16T07:48:31.793666Z",
     "iopub.status.idle": "2023-03-16T07:48:33.089426Z",
     "shell.execute_reply": "2023-03-16T07:48:33.088034Z"
    }
   },
   "outputs": [],
   "source": [
    "X_train, X_test, y_train, y_test = train_test_split(X, y, test_size=0.4, random_state=43,stratify=y)"
   ]
  },
  {
   "cell_type": "code",
   "execution_count": 15,
   "metadata": {
    "execution": {
     "iopub.execute_input": "2023-03-16T07:48:33.099907Z",
     "iopub.status.busy": "2023-03-16T07:48:33.098448Z",
     "iopub.status.idle": "2023-03-16T07:48:33.107143Z",
     "shell.execute_reply": "2023-03-16T07:48:33.105822Z"
    }
   },
   "outputs": [
    {
     "name": "stdout",
     "output_type": "stream",
     "text": [
      "(45274, 741)\n",
      "(30184, 741)\n"
     ]
    }
   ],
   "source": [
    "print(X_train.shape)\n",
    "print(X_test.shape)"
   ]
  },
  {
   "cell_type": "code",
   "execution_count": 16,
   "metadata": {
    "execution": {
     "iopub.execute_input": "2023-03-16T07:48:33.115648Z",
     "iopub.status.busy": "2023-03-16T07:48:33.114639Z",
     "iopub.status.idle": "2023-03-16T07:48:33.121231Z",
     "shell.execute_reply": "2023-03-16T07:48:33.120404Z"
    }
   },
   "outputs": [],
   "source": [
    "from sklearn.preprocessing import QuantileTransformer\n",
    "qt = QuantileTransformer()"
   ]
  },
  {
   "cell_type": "code",
   "execution_count": 17,
   "metadata": {
    "execution": {
     "iopub.execute_input": "2023-03-16T07:48:33.236095Z",
     "iopub.status.busy": "2023-03-16T07:48:33.234555Z",
     "iopub.status.idle": "2023-03-16T07:48:53.444865Z",
     "shell.execute_reply": "2023-03-16T07:48:53.445801Z"
    }
   },
   "outputs": [],
   "source": [
    "X_train = qt.fit_transform(X_train)\n",
    "X_test = qt.transform(X_test)"
   ]
  },
  {
   "cell_type": "code",
   "execution_count": 18,
   "metadata": {
    "execution": {
     "iopub.execute_input": "2023-03-16T07:48:53.453455Z",
     "iopub.status.busy": "2023-03-16T07:48:53.452398Z",
     "iopub.status.idle": "2023-03-16T07:48:54.306900Z",
     "shell.execute_reply": "2023-03-16T07:48:54.304987Z"
    }
   },
   "outputs": [],
   "source": [
    "from sklearn.model_selection import cross_val_score, RepeatedKFold\n",
    "from sklearn.tree import DecisionTreeClassifier\n",
    "from sklearn import metrics"
   ]
  },
  {
   "cell_type": "code",
   "execution_count": 19,
   "metadata": {
    "execution": {
     "iopub.execute_input": "2023-03-16T07:48:54.334587Z",
     "iopub.status.busy": "2023-03-16T07:48:54.332720Z",
     "iopub.status.idle": "2023-03-16T07:48:54.339377Z",
     "shell.execute_reply": "2023-03-16T07:48:54.338271Z"
    }
   },
   "outputs": [],
   "source": [
    "# Train and evaluate the decision tree classifier with given hyperparameters\n",
    "clf = DecisionTreeClassifier(max_depth=10,min_samples_split=8,min_samples_leaf=10,max_features=None,criterion='gini',random_state=43)"
   ]
  },
  {
   "cell_type": "code",
   "execution_count": 20,
   "metadata": {},
   "outputs": [
    {
     "data": {
      "text/html": [
       "<style>#sk-container-id-1 {color: black;background-color: white;}#sk-container-id-1 pre{padding: 0;}#sk-container-id-1 div.sk-toggleable {background-color: white;}#sk-container-id-1 label.sk-toggleable__label {cursor: pointer;display: block;width: 100%;margin-bottom: 0;padding: 0.3em;box-sizing: border-box;text-align: center;}#sk-container-id-1 label.sk-toggleable__label-arrow:before {content: \"▸\";float: left;margin-right: 0.25em;color: #696969;}#sk-container-id-1 label.sk-toggleable__label-arrow:hover:before {color: black;}#sk-container-id-1 div.sk-estimator:hover label.sk-toggleable__label-arrow:before {color: black;}#sk-container-id-1 div.sk-toggleable__content {max-height: 0;max-width: 0;overflow: hidden;text-align: left;background-color: #f0f8ff;}#sk-container-id-1 div.sk-toggleable__content pre {margin: 0.2em;color: black;border-radius: 0.25em;background-color: #f0f8ff;}#sk-container-id-1 input.sk-toggleable__control:checked~div.sk-toggleable__content {max-height: 200px;max-width: 100%;overflow: auto;}#sk-container-id-1 input.sk-toggleable__control:checked~label.sk-toggleable__label-arrow:before {content: \"▾\";}#sk-container-id-1 div.sk-estimator input.sk-toggleable__control:checked~label.sk-toggleable__label {background-color: #d4ebff;}#sk-container-id-1 div.sk-label input.sk-toggleable__control:checked~label.sk-toggleable__label {background-color: #d4ebff;}#sk-container-id-1 input.sk-hidden--visually {border: 0;clip: rect(1px 1px 1px 1px);clip: rect(1px, 1px, 1px, 1px);height: 1px;margin: -1px;overflow: hidden;padding: 0;position: absolute;width: 1px;}#sk-container-id-1 div.sk-estimator {font-family: monospace;background-color: #f0f8ff;border: 1px dotted black;border-radius: 0.25em;box-sizing: border-box;margin-bottom: 0.5em;}#sk-container-id-1 div.sk-estimator:hover {background-color: #d4ebff;}#sk-container-id-1 div.sk-parallel-item::after {content: \"\";width: 100%;border-bottom: 1px solid gray;flex-grow: 1;}#sk-container-id-1 div.sk-label:hover label.sk-toggleable__label {background-color: #d4ebff;}#sk-container-id-1 div.sk-serial::before {content: \"\";position: absolute;border-left: 1px solid gray;box-sizing: border-box;top: 0;bottom: 0;left: 50%;z-index: 0;}#sk-container-id-1 div.sk-serial {display: flex;flex-direction: column;align-items: center;background-color: white;padding-right: 0.2em;padding-left: 0.2em;position: relative;}#sk-container-id-1 div.sk-item {position: relative;z-index: 1;}#sk-container-id-1 div.sk-parallel {display: flex;align-items: stretch;justify-content: center;background-color: white;position: relative;}#sk-container-id-1 div.sk-item::before, #sk-container-id-1 div.sk-parallel-item::before {content: \"\";position: absolute;border-left: 1px solid gray;box-sizing: border-box;top: 0;bottom: 0;left: 50%;z-index: -1;}#sk-container-id-1 div.sk-parallel-item {display: flex;flex-direction: column;z-index: 1;position: relative;background-color: white;}#sk-container-id-1 div.sk-parallel-item:first-child::after {align-self: flex-end;width: 50%;}#sk-container-id-1 div.sk-parallel-item:last-child::after {align-self: flex-start;width: 50%;}#sk-container-id-1 div.sk-parallel-item:only-child::after {width: 0;}#sk-container-id-1 div.sk-dashed-wrapped {border: 1px dashed gray;margin: 0 0.4em 0.5em 0.4em;box-sizing: border-box;padding-bottom: 0.4em;background-color: white;}#sk-container-id-1 div.sk-label label {font-family: monospace;font-weight: bold;display: inline-block;line-height: 1.2em;}#sk-container-id-1 div.sk-label-container {text-align: center;}#sk-container-id-1 div.sk-container {/* jupyter's `normalize.less` sets `[hidden] { display: none; }` but bootstrap.min.css set `[hidden] { display: none !important; }` so we also need the `!important` here to be able to override the default hidden behavior on the sphinx rendered scikit-learn.org. See: https://github.com/scikit-learn/scikit-learn/issues/21755 */display: inline-block !important;position: relative;}#sk-container-id-1 div.sk-text-repr-fallback {display: none;}</style><div id=\"sk-container-id-1\" class=\"sk-top-container\"><div class=\"sk-text-repr-fallback\"><pre>DecisionTreeClassifier(max_depth=10, min_samples_leaf=10, min_samples_split=8,\n",
       "                       random_state=43)</pre><b>In a Jupyter environment, please rerun this cell to show the HTML representation or trust the notebook. <br />On GitHub, the HTML representation is unable to render, please try loading this page with nbviewer.org.</b></div><div class=\"sk-container\" hidden><div class=\"sk-item\"><div class=\"sk-estimator sk-toggleable\"><input class=\"sk-toggleable__control sk-hidden--visually\" id=\"sk-estimator-id-1\" type=\"checkbox\" checked><label for=\"sk-estimator-id-1\" class=\"sk-toggleable__label sk-toggleable__label-arrow\">DecisionTreeClassifier</label><div class=\"sk-toggleable__content\"><pre>DecisionTreeClassifier(max_depth=10, min_samples_leaf=10, min_samples_split=8,\n",
       "                       random_state=43)</pre></div></div></div></div></div>"
      ],
      "text/plain": [
       "DecisionTreeClassifier(max_depth=10, min_samples_leaf=10, min_samples_split=8,\n",
       "                       random_state=43)"
      ]
     },
     "execution_count": 20,
     "metadata": {},
     "output_type": "execute_result"
    }
   ],
   "source": [
    "clf.fit(X_train, y_train)"
   ]
  },
  {
   "cell_type": "code",
   "execution_count": 21,
   "metadata": {
    "execution": {
     "iopub.execute_input": "2023-03-16T09:11:04.249257Z",
     "iopub.status.busy": "2023-03-16T09:11:04.248196Z",
     "iopub.status.idle": "2023-03-16T09:11:04.254103Z",
     "shell.execute_reply": "2023-03-16T09:11:04.255175Z"
    }
   },
   "outputs": [],
   "source": [
    "#Best hyperparameters:\n",
    "#{'max_depth': 10, 'min_samples_split': 8, 'min_samples_leaf': 10, 'max_features': None, 'criterion': 'gini'}"
   ]
  },
  {
   "cell_type": "code",
   "execution_count": 22,
   "metadata": {},
   "outputs": [
    {
     "name": "stdout",
     "output_type": "stream",
     "text": [
      "0.7323085078187119\n"
     ]
    }
   ],
   "source": [
    "y_pred=clf.predict(X_test)\n",
    "print(metrics.accuracy_score(y_test,y_pred))"
   ]
  }
 ],
 "metadata": {
  "kernelspec": {
   "display_name": "Python 3.8 (py38)",
   "language": "python",
   "name": "py38"
  },
  "language_info": {
   "codemirror_mode": {
    "name": "ipython",
    "version": 3
   },
   "file_extension": ".py",
   "mimetype": "text/x-python",
   "name": "python",
   "nbconvert_exporter": "python",
   "pygments_lexer": "ipython3",
   "version": "3.8.5"
  }
 },
 "nbformat": 4,
 "nbformat_minor": 4
}

{
 "cells": [
  {
   "cell_type": "markdown",
   "metadata": {},
   "source": [
    "* https://www.databricks.com/blog/2019/10/17/managed-mlflow-now-available-on-databricks-community-edition.html"
   ]
  },
  {
   "cell_type": "code",
   "execution_count": 1,
   "metadata": {},
   "outputs": [
    {
     "name": "stdout",
     "output_type": "stream",
     "text": [
      "Requirement already satisfied: mlflow in /home/idies/miniconda3/envs/py38/lib/python3.8/site-packages (2.1.1)\n",
      "Requirement already satisfied: protobuf<5,>=3.12.0 in /home/idies/miniconda3/envs/py38/lib/python3.8/site-packages (from mlflow) (3.13.0)\n",
      "Requirement already satisfied: docker<7,>=4.0.0 in /home/idies/miniconda3/envs/py38/lib/python3.8/site-packages (from mlflow) (6.0.1)\n",
      "Requirement already satisfied: matplotlib<4 in /home/idies/miniconda3/envs/py38/lib/python3.8/site-packages (from mlflow) (3.3.2)\n",
      "Requirement already satisfied: entrypoints<1 in /home/idies/miniconda3/envs/py38/lib/python3.8/site-packages (from mlflow) (0.3)\n",
      "Requirement already satisfied: gitpython<4,>=2.1.0 in /home/idies/miniconda3/envs/py38/lib/python3.8/site-packages (from mlflow) (3.1.31)\n",
      "Requirement already satisfied: importlib-metadata!=4.7.0,<6,>=3.7.0 in /home/idies/miniconda3/envs/py38/lib/python3.8/site-packages (from mlflow) (5.2.0)\n",
      "Requirement already satisfied: pyarrow<11,>=4.0.0 in /home/idies/miniconda3/envs/py38/lib/python3.8/site-packages (from mlflow) (10.0.1)\n",
      "Requirement already satisfied: markdown<4,>=3.3 in /home/idies/miniconda3/envs/py38/lib/python3.8/site-packages (from mlflow) (3.3.3)\n",
      "Requirement already satisfied: alembic<2 in /home/idies/miniconda3/envs/py38/lib/python3.8/site-packages (from mlflow) (1.9.4)\n",
      "Requirement already satisfied: click<9,>=7.0 in /home/idies/miniconda3/envs/py38/lib/python3.8/site-packages (from mlflow) (7.1.2)\n",
      "Requirement already satisfied: databricks-cli<1,>=0.8.7 in /home/idies/miniconda3/envs/py38/lib/python3.8/site-packages (from mlflow) (0.17.4)\n",
      "Requirement already satisfied: scikit-learn<2 in /home/idies/miniconda3/envs/py38/lib/python3.8/site-packages (from mlflow) (0.23.2)\n",
      "Requirement already satisfied: numpy<2 in /home/idies/miniconda3/envs/py38/lib/python3.8/site-packages (from mlflow) (1.19.4)\n",
      "Requirement already satisfied: sqlalchemy<2,>=1.4.0 in /home/idies/miniconda3/envs/py38/lib/python3.8/site-packages (from mlflow) (1.4.46)\n",
      "Requirement already satisfied: pandas<2 in /home/idies/miniconda3/envs/py38/lib/python3.8/site-packages (from mlflow) (1.1.3)\n",
      "Requirement already satisfied: packaging<23 in /home/idies/miniconda3/envs/py38/lib/python3.8/site-packages (from mlflow) (20.4)\n",
      "Requirement already satisfied: shap<1,>=0.40 in /home/idies/miniconda3/envs/py38/lib/python3.8/site-packages (from mlflow) (0.41.0)\n",
      "Requirement already satisfied: sqlparse<1,>=0.4.0 in /home/idies/miniconda3/envs/py38/lib/python3.8/site-packages (from mlflow) (0.4.3)\n",
      "Requirement already satisfied: Flask<3 in /home/idies/miniconda3/envs/py38/lib/python3.8/site-packages (from mlflow) (1.1.2)\n",
      "Requirement already satisfied: pytz<2023 in /home/idies/miniconda3/envs/py38/lib/python3.8/site-packages (from mlflow) (2020.1)\n",
      "Requirement already satisfied: requests<3,>=2.17.3 in /home/idies/miniconda3/envs/py38/lib/python3.8/site-packages (from mlflow) (2.24.0)\n",
      "Requirement already satisfied: pyyaml<7,>=5.1 in /home/idies/miniconda3/envs/py38/lib/python3.8/site-packages (from mlflow) (5.3.1)\n",
      "Requirement already satisfied: Jinja2<4,>=2.11; platform_system != \"Windows\" in /home/idies/miniconda3/envs/py38/lib/python3.8/site-packages (from mlflow) (2.11.2)\n",
      "Requirement already satisfied: cloudpickle<3 in /home/idies/miniconda3/envs/py38/lib/python3.8/site-packages (from mlflow) (1.6.0)\n",
      "Requirement already satisfied: scipy<2 in /home/idies/miniconda3/envs/py38/lib/python3.8/site-packages (from mlflow) (1.6.0)\n",
      "Requirement already satisfied: gunicorn<21; platform_system != \"Windows\" in /home/idies/miniconda3/envs/py38/lib/python3.8/site-packages (from mlflow) (20.1.0)\n",
      "Requirement already satisfied: querystring-parser<2 in /home/idies/miniconda3/envs/py38/lib/python3.8/site-packages (from mlflow) (1.2.4)\n",
      "Requirement already satisfied: six>=1.9 in /home/idies/miniconda3/envs/py38/lib/python3.8/site-packages (from protobuf<5,>=3.12.0->mlflow) (1.15.0)\n",
      "Requirement already satisfied: setuptools in /home/idies/miniconda3/envs/py38/lib/python3.8/site-packages (from protobuf<5,>=3.12.0->mlflow) (50.3.1.post20201107)\n",
      "Requirement already satisfied: websocket-client>=0.32.0 in /home/idies/miniconda3/envs/py38/lib/python3.8/site-packages (from docker<7,>=4.0.0->mlflow) (1.5.1)\n",
      "Requirement already satisfied: urllib3>=1.26.0 in /home/idies/miniconda3/envs/py38/lib/python3.8/site-packages (from docker<7,>=4.0.0->mlflow) (1.26.14)\n",
      "Requirement already satisfied: pyparsing!=2.0.4,!=2.1.2,!=2.1.6,>=2.0.3 in /home/idies/miniconda3/envs/py38/lib/python3.8/site-packages (from matplotlib<4->mlflow) (2.4.7)\n",
      "Requirement already satisfied: certifi>=2020.06.20 in /home/idies/miniconda3/envs/py38/lib/python3.8/site-packages (from matplotlib<4->mlflow) (2020.12.5)\n",
      "Requirement already satisfied: pillow>=6.2.0 in /home/idies/miniconda3/envs/py38/lib/python3.8/site-packages (from matplotlib<4->mlflow) (8.0.1)\n",
      "Requirement already satisfied: cycler>=0.10 in /home/idies/miniconda3/envs/py38/lib/python3.8/site-packages (from matplotlib<4->mlflow) (0.10.0)\n",
      "Requirement already satisfied: python-dateutil>=2.1 in /home/idies/miniconda3/envs/py38/lib/python3.8/site-packages (from matplotlib<4->mlflow) (2.8.0)\n",
      "Requirement already satisfied: kiwisolver>=1.0.1 in /home/idies/miniconda3/envs/py38/lib/python3.8/site-packages (from matplotlib<4->mlflow) (1.3.0)\n",
      "Requirement already satisfied: gitdb<5,>=4.0.1 in /home/idies/miniconda3/envs/py38/lib/python3.8/site-packages (from gitpython<4,>=2.1.0->mlflow) (4.0.10)\n",
      "Requirement already satisfied: zipp>=0.5 in /home/idies/miniconda3/envs/py38/lib/python3.8/site-packages (from importlib-metadata!=4.7.0,<6,>=3.7.0->mlflow) (3.4.0)\n",
      "Requirement already satisfied: importlib-resources; python_version < \"3.9\" in /home/idies/miniconda3/envs/py38/lib/python3.8/site-packages (from alembic<2->mlflow) (5.12.0)\n",
      "Requirement already satisfied: Mako in /home/idies/miniconda3/envs/py38/lib/python3.8/site-packages (from alembic<2->mlflow) (1.2.4)\n",
      "Requirement already satisfied: oauthlib>=3.1.0 in /home/idies/miniconda3/envs/py38/lib/python3.8/site-packages (from databricks-cli<1,>=0.8.7->mlflow) (3.1.0)\n",
      "Requirement already satisfied: tabulate>=0.7.7 in /home/idies/miniconda3/envs/py38/lib/python3.8/site-packages (from databricks-cli<1,>=0.8.7->mlflow) (0.9.0)\n",
      "Requirement already satisfied: pyjwt>=1.7.0 in /home/idies/miniconda3/envs/py38/lib/python3.8/site-packages (from databricks-cli<1,>=0.8.7->mlflow) (1.7.1)\n",
      "Requirement already satisfied: joblib>=0.11 in /home/idies/miniconda3/envs/py38/lib/python3.8/site-packages (from scikit-learn<2->mlflow) (0.17.0)\n",
      "Requirement already satisfied: threadpoolctl>=2.0.0 in /home/idies/miniconda3/envs/py38/lib/python3.8/site-packages (from scikit-learn<2->mlflow) (2.1.0)\n",
      "Requirement already satisfied: greenlet!=0.4.17; python_version >= \"3\" and (platform_machine == \"aarch64\" or (platform_machine == \"ppc64le\" or (platform_machine == \"x86_64\" or (platform_machine == \"amd64\" or (platform_machine == \"AMD64\" or (platform_machine == \"win32\" or platform_machine == \"WIN32\")))))) in /home/idies/miniconda3/envs/py38/lib/python3.8/site-packages (from sqlalchemy<2,>=1.4.0->mlflow) (2.0.2)\n",
      "Requirement already satisfied: slicer==0.0.7 in /home/idies/miniconda3/envs/py38/lib/python3.8/site-packages (from shap<1,>=0.40->mlflow) (0.0.7)\n",
      "Requirement already satisfied: numba in /home/idies/miniconda3/envs/py38/lib/python3.8/site-packages (from shap<1,>=0.40->mlflow) (0.51.2)\n",
      "Requirement already satisfied: tqdm>4.25.0 in /home/idies/miniconda3/envs/py38/lib/python3.8/site-packages (from shap<1,>=0.40->mlflow) (4.50.2)\n",
      "Requirement already satisfied: itsdangerous>=0.24 in /home/idies/miniconda3/envs/py38/lib/python3.8/site-packages (from Flask<3->mlflow) (1.1.0)\n",
      "Requirement already satisfied: Werkzeug>=0.15 in /home/idies/miniconda3/envs/py38/lib/python3.8/site-packages (from Flask<3->mlflow) (1.0.1)\n",
      "Requirement already satisfied: idna<3,>=2.5 in /home/idies/miniconda3/envs/py38/lib/python3.8/site-packages (from requests<3,>=2.17.3->mlflow) (2.10)\n",
      "Requirement already satisfied: chardet<4,>=3.0.2 in /home/idies/miniconda3/envs/py38/lib/python3.8/site-packages (from requests<3,>=2.17.3->mlflow) (3.0.4)\n",
      "Requirement already satisfied: MarkupSafe>=0.23 in /home/idies/miniconda3/envs/py38/lib/python3.8/site-packages (from Jinja2<4,>=2.11; platform_system != \"Windows\"->mlflow) (1.1.1)\n",
      "Requirement already satisfied: smmap<6,>=3.0.1 in /home/idies/miniconda3/envs/py38/lib/python3.8/site-packages (from gitdb<5,>=4.0.1->gitpython<4,>=2.1.0->mlflow) (5.0.0)\n",
      "Requirement already satisfied: llvmlite<0.35,>=0.34.0.dev0 in /home/idies/miniconda3/envs/py38/lib/python3.8/site-packages (from numba->shap<1,>=0.40->mlflow) (0.34.0)\n"
     ]
    }
   ],
   "source": [
    "import sys\n",
    "!{sys.executable} -m pip install mlflow"
   ]
  },
  {
   "cell_type": "code",
   "execution_count": 10,
   "metadata": {},
   "outputs": [
    {
     "name": "stdout",
     "output_type": "stream",
     "text": [
      "  adding: mlrun/ (stored 0%)\n",
      "  adding: mlrun/0/ (stored 0%)\n",
      "  adding: mlrun/0/meta.yaml (deflated 23%)\n",
      "  adding: mlrun/.trash/ (stored 0%)\n",
      "  adding: mlrun/670784203709420855/ (stored 0%)\n",
      "  adding: mlrun/670784203709420855/meta.yaml (deflated 33%)\n",
      "  adding: mlrun/670784203709420855/ec86207ee3414f408b9929feba48baed/ (stored 0%)\n",
      "  adding: mlrun/670784203709420855/ec86207ee3414f408b9929feba48baed/meta.yaml (deflated 45%)\n",
      "  adding: mlrun/670784203709420855/ec86207ee3414f408b9929feba48baed/metrics/ (stored 0%)\n",
      "  adding: mlrun/670784203709420855/ec86207ee3414f408b9929feba48baed/params/ (stored 0%)\n",
      "  adding: mlrun/670784203709420855/ec86207ee3414f408b9929feba48baed/params/criterion (stored 0%)\n",
      "  adding: mlrun/670784203709420855/ec86207ee3414f408b9929feba48baed/params/splitter (stored 0%)\n",
      "  adding: mlrun/670784203709420855/ec86207ee3414f408b9929feba48baed/artifacts/ (stored 0%)\n",
      "  adding: mlrun/670784203709420855/ec86207ee3414f408b9929feba48baed/artifacts/sk_models/ (stored 0%)\n",
      "  adding: mlrun/670784203709420855/ec86207ee3414f408b9929feba48baed/artifacts/sk_models/requirements.txt (deflated 8%)\n",
      "  adding: mlrun/670784203709420855/ec86207ee3414f408b9929feba48baed/artifacts/sk_models/python_env.yaml (deflated 19%)\n",
      "  adding: mlrun/670784203709420855/ec86207ee3414f408b9929feba48baed/artifacts/sk_models/conda.yaml (deflated 27%)\n",
      "  adding: mlrun/670784203709420855/ec86207ee3414f408b9929feba48baed/artifacts/sk_models/model.pkl (deflated 62%)\n",
      "  adding: mlrun/670784203709420855/ec86207ee3414f408b9929feba48baed/artifacts/sk_models/MLmodel (deflated 43%)\n",
      "  adding: mlrun/670784203709420855/ec86207ee3414f408b9929feba48baed/tags/ (stored 0%)\n",
      "  adding: mlrun/670784203709420855/ec86207ee3414f408b9929feba48baed/tags/mlflow.user (stored 0%)\n",
      "  adding: mlrun/670784203709420855/ec86207ee3414f408b9929feba48baed/tags/mlflow.source.name (deflated 10%)\n",
      "  adding: mlrun/670784203709420855/ec86207ee3414f408b9929feba48baed/tags/mlflow.source.type (stored 0%)\n",
      "  adding: mlrun/670784203709420855/ec86207ee3414f408b9929feba48baed/tags/mlflow.runName (stored 0%)\n",
      "  adding: mlrun/670784203709420855/ec86207ee3414f408b9929feba48baed/tags/mlflow.log-model.history (deflated 43%)\n",
      "  adding: mlrun/670784203709420855/ec86207ee3414f408b9929feba48baed/.ipynb_checkpoints/ (stored 0%)\n",
      "  adding: mlrun/670784203709420855/ec86207ee3414f408b9929feba48baed/.ipynb_checkpoints/meta-checkpoint.yaml (deflated 45%)\n",
      "  adding: mlrun/670784203709420855/.ipynb_checkpoints/ (stored 0%)\n",
      "  adding: mlrun/670784203709420855/.ipynb_checkpoints/meta-checkpoint.yaml (deflated 33%)\n",
      "  adding: mlrun/670784203709420855/a5c8b43f2c7743eaa920b54a9a298a8e/ (stored 0%)\n",
      "  adding: mlrun/670784203709420855/a5c8b43f2c7743eaa920b54a9a298a8e/meta.yaml (deflated 45%)\n",
      "  adding: mlrun/670784203709420855/a5c8b43f2c7743eaa920b54a9a298a8e/metrics/ (stored 0%)\n",
      "  adding: mlrun/670784203709420855/a5c8b43f2c7743eaa920b54a9a298a8e/metrics/score (deflated 49%)\n",
      "  adding: mlrun/670784203709420855/a5c8b43f2c7743eaa920b54a9a298a8e/metrics/training_mean_squared_error (deflated 40%)\n",
      "  adding: mlrun/670784203709420855/a5c8b43f2c7743eaa920b54a9a298a8e/metrics/training_mean_absolute_error (deflated 42%)\n",
      "  adding: mlrun/670784203709420855/a5c8b43f2c7743eaa920b54a9a298a8e/metrics/training_r2_score (deflated 42%)\n",
      "  adding: mlrun/670784203709420855/a5c8b43f2c7743eaa920b54a9a298a8e/metrics/training_root_mean_squared_error (deflated 42%)\n",
      "  adding: mlrun/670784203709420855/a5c8b43f2c7743eaa920b54a9a298a8e/metrics/training_score (deflated 43%)\n",
      "  adding: mlrun/670784203709420855/a5c8b43f2c7743eaa920b54a9a298a8e/params/ (stored 0%)\n",
      "  adding: mlrun/670784203709420855/a5c8b43f2c7743eaa920b54a9a298a8e/params/criterion (stored 0%)\n",
      "  adding: mlrun/670784203709420855/a5c8b43f2c7743eaa920b54a9a298a8e/params/splitter (stored 0%)\n",
      "  adding: mlrun/670784203709420855/a5c8b43f2c7743eaa920b54a9a298a8e/params/bootstrap (stored 0%)\n",
      "  adding: mlrun/670784203709420855/a5c8b43f2c7743eaa920b54a9a298a8e/params/ccp_alpha (stored 0%)\n",
      "  adding: mlrun/670784203709420855/a5c8b43f2c7743eaa920b54a9a298a8e/artifacts/ (stored 0%)\n",
      "  adding: mlrun/670784203709420855/a5c8b43f2c7743eaa920b54a9a298a8e/artifacts/sk_models/ (stored 0%)\n",
      "  adding: mlrun/670784203709420855/a5c8b43f2c7743eaa920b54a9a298a8e/artifacts/sk_models/model.pkl (deflated 62%)\n",
      "  adding: mlrun/670784203709420855/a5c8b43f2c7743eaa920b54a9a298a8e/artifacts/sk_models/conda.yaml (deflated 27%)\n",
      "  adding: mlrun/670784203709420855/a5c8b43f2c7743eaa920b54a9a298a8e/artifacts/sk_models/MLmodel (deflated 43%)\n",
      "  adding: mlrun/670784203709420855/a5c8b43f2c7743eaa920b54a9a298a8e/artifacts/sk_models/requirements.txt (deflated 8%)\n",
      "  adding: mlrun/670784203709420855/a5c8b43f2c7743eaa920b54a9a298a8e/artifacts/sk_models/python_env.yaml (deflated 19%)\n",
      "  adding: mlrun/670784203709420855/a5c8b43f2c7743eaa920b54a9a298a8e/artifacts/model/ (stored 0%)\n",
      "  adding: mlrun/670784203709420855/a5c8b43f2c7743eaa920b54a9a298a8e/artifacts/model/conda.yaml (deflated 27%)\n",
      "  adding: mlrun/670784203709420855/a5c8b43f2c7743eaa920b54a9a298a8e/artifacts/model/requirements.txt (deflated 8%)\n",
      "  adding: mlrun/670784203709420855/a5c8b43f2c7743eaa920b54a9a298a8e/artifacts/model/model.pkl (deflated 74%)\n",
      "  adding: mlrun/670784203709420855/a5c8b43f2c7743eaa920b54a9a298a8e/artifacts/model/MLmodel (deflated 47%)\n",
      "  adding: mlrun/670784203709420855/a5c8b43f2c7743eaa920b54a9a298a8e/artifacts/model/python_env.yaml (deflated 19%)\n",
      "  adding: mlrun/670784203709420855/a5c8b43f2c7743eaa920b54a9a298a8e/artifacts/estimator.html (deflated 68%)\n",
      "  adding: mlrun/670784203709420855/a5c8b43f2c7743eaa920b54a9a298a8e/tags/ (stored 0%)\n",
      "  adding: mlrun/670784203709420855/a5c8b43f2c7743eaa920b54a9a298a8e/tags/mlflow.user (stored 0%)\n",
      "  adding: mlrun/670784203709420855/a5c8b43f2c7743eaa920b54a9a298a8e/tags/mlflow.source.name (deflated 10%)\n",
      "  adding: mlrun/670784203709420855/a5c8b43f2c7743eaa920b54a9a298a8e/tags/mlflow.source.type (stored 0%)\n",
      "  adding: mlrun/670784203709420855/a5c8b43f2c7743eaa920b54a9a298a8e/tags/mlflow.runName (stored 0%)\n",
      "  adding: mlrun/670784203709420855/a5c8b43f2c7743eaa920b54a9a298a8e/tags/mlflow.log-model.history (deflated 88%)\n",
      "  adding: mlrun/670784203709420855/12f7eabdcd054734872faf898177fdd8/ (stored 0%)\n",
      "  adding: mlrun/670784203709420855/12f7eabdcd054734872faf898177fdd8/meta.yaml (deflated 45%)\n",
      "  adding: mlrun/670784203709420855/12f7eabdcd054734872faf898177fdd8/metrics/ (stored 0%)\n",
      "  adding: mlrun/670784203709420855/12f7eabdcd054734872faf898177fdd8/metrics/training_mean_squared_error (stored 0%)\n",
      "  adding: mlrun/670784203709420855/12f7eabdcd054734872faf898177fdd8/metrics/training_mean_absolute_error (stored 0%)\n",
      "  adding: mlrun/670784203709420855/12f7eabdcd054734872faf898177fdd8/metrics/training_r2_score (stored 0%)\n",
      "  adding: mlrun/670784203709420855/12f7eabdcd054734872faf898177fdd8/metrics/training_root_mean_squared_error (stored 0%)\n",
      "  adding: mlrun/670784203709420855/12f7eabdcd054734872faf898177fdd8/metrics/training_score (stored 0%)\n",
      "  adding: mlrun/670784203709420855/12f7eabdcd054734872faf898177fdd8/params/ (stored 0%)\n",
      "  adding: mlrun/670784203709420855/12f7eabdcd054734872faf898177fdd8/params/copy_X (stored 0%)\n",
      "  adding: mlrun/670784203709420855/12f7eabdcd054734872faf898177fdd8/params/fit_intercept (stored 0%)\n",
      "  adding: mlrun/670784203709420855/12f7eabdcd054734872faf898177fdd8/params/n_jobs (stored 0%)\n",
      "  adding: mlrun/670784203709420855/12f7eabdcd054734872faf898177fdd8/params/normalize (stored 0%)\n",
      "  adding: mlrun/670784203709420855/12f7eabdcd054734872faf898177fdd8/artifacts/ (stored 0%)\n",
      "  adding: mlrun/670784203709420855/12f7eabdcd054734872faf898177fdd8/artifacts/estimator.html (deflated 68%)\n",
      "  adding: mlrun/670784203709420855/12f7eabdcd054734872faf898177fdd8/artifacts/model/ (stored 0%)\n",
      "  adding: mlrun/670784203709420855/12f7eabdcd054734872faf898177fdd8/artifacts/model/conda.yaml (deflated 27%)\n",
      "  adding: mlrun/670784203709420855/12f7eabdcd054734872faf898177fdd8/artifacts/model/MLmodel (deflated 46%)\n",
      "  adding: mlrun/670784203709420855/12f7eabdcd054734872faf898177fdd8/artifacts/model/python_env.yaml (deflated 19%)\n",
      "  adding: mlrun/670784203709420855/12f7eabdcd054734872faf898177fdd8/artifacts/model/model.pkl (deflated 21%)\n",
      "  adding: mlrun/670784203709420855/12f7eabdcd054734872faf898177fdd8/artifacts/model/requirements.txt (deflated 8%)\n",
      "  adding: mlrun/670784203709420855/12f7eabdcd054734872faf898177fdd8/tags/ (stored 0%)\n",
      "  adding: mlrun/670784203709420855/12f7eabdcd054734872faf898177fdd8/tags/mlflow.user (stored 0%)\n",
      "  adding: mlrun/670784203709420855/12f7eabdcd054734872faf898177fdd8/tags/mlflow.source.name (deflated 10%)\n",
      "  adding: mlrun/670784203709420855/12f7eabdcd054734872faf898177fdd8/tags/mlflow.source.type (stored 0%)\n",
      "  adding: mlrun/670784203709420855/12f7eabdcd054734872faf898177fdd8/tags/mlflow.runName (stored 0%)\n",
      "  adding: mlrun/670784203709420855/12f7eabdcd054734872faf898177fdd8/tags/estimator_name (stored 0%)\n",
      "  adding: mlrun/670784203709420855/12f7eabdcd054734872faf898177fdd8/tags/estimator_class (deflated 7%)\n",
      "  adding: mlrun/670784203709420855/12f7eabdcd054734872faf898177fdd8/tags/mlflow.log-model.history (deflated 49%)\n",
      "  adding: mlrun/994399490233305735/ (stored 0%)\n",
      "  adding: mlrun/994399490233305735/meta.yaml (deflated 24%)\n",
      "  adding: mlrun/994399490233305735/tags/ (stored 0%)\n",
      "  adding: mlrun/994399490233305735/tags/version (stored 0%)\n",
      "  adding: mlrun/994399490233305735/tags/priority (stored 0%)\n",
      "  adding: mlrun/616122901565242804/ (stored 0%)\n",
      "  adding: mlrun/616122901565242804/meta.yaml (deflated 26%)\n",
      "  adding: mlrun/616122901565242804/tags/ (stored 0%)\n",
      "  adding: mlrun/616122901565242804/tags/version (stored 0%)\n",
      "  adding: mlrun/616122901565242804/tags/priority (stored 0%)\n",
      "  adding: mlrun/588954011113052322/ (stored 0%)\n",
      "  adding: mlrun/588954011113052322/meta.yaml (deflated 25%)\n",
      "  adding: mlrun/588954011113052322/tags/ (stored 0%)\n",
      "  adding: mlrun/588954011113052322/tags/version (stored 0%)\n",
      "  adding: mlrun/588954011113052322/tags/priority (stored 0%)\n",
      "  adding: mlrun/238520571901926434/ (stored 0%)\n",
      "  adding: mlrun/238520571901926434/meta.yaml (deflated 25%)\n",
      "  adding: mlrun/238520571901926434/tags/ (stored 0%)\n",
      "  adding: mlrun/238520571901926434/tags/version (stored 0%)\n",
      "  adding: mlrun/238520571901926434/tags/priority (stored 0%)\n",
      "  adding: mlrun/810231498163636108/ (stored 0%)\n",
      "  adding: mlrun/810231498163636108/meta.yaml (deflated 25%)\n",
      "  adding: mlrun/810231498163636108/tags/ (stored 0%)\n",
      "  adding: mlrun/810231498163636108/tags/version (stored 0%)\n",
      "  adding: mlrun/810231498163636108/tags/priority (stored 0%)\n",
      "  adding: mlrun/965509654696018851/ (stored 0%)\n"
     ]
    },
    {
     "name": "stdout",
     "output_type": "stream",
     "text": [
      "  adding: mlrun/965509654696018851/meta.yaml (deflated 31%)\n",
      "  adding: mlrun/965509654696018851/105f228a35414b1eb1c231263547d1af/ (stored 0%)\n",
      "  adding: mlrun/965509654696018851/105f228a35414b1eb1c231263547d1af/meta.yaml (deflated 45%)\n",
      "  adding: mlrun/965509654696018851/105f228a35414b1eb1c231263547d1af/metrics/ (stored 0%)\n",
      "  adding: mlrun/965509654696018851/105f228a35414b1eb1c231263547d1af/metrics/training_mean_squared_error (stored 0%)\n",
      "  adding: mlrun/965509654696018851/105f228a35414b1eb1c231263547d1af/metrics/training_mean_absolute_error (stored 0%)\n",
      "  adding: mlrun/965509654696018851/105f228a35414b1eb1c231263547d1af/metrics/training_r2_score (stored 0%)\n",
      "  adding: mlrun/965509654696018851/105f228a35414b1eb1c231263547d1af/metrics/training_root_mean_squared_error (stored 0%)\n",
      "  adding: mlrun/965509654696018851/105f228a35414b1eb1c231263547d1af/metrics/training_score (stored 0%)\n",
      "  adding: mlrun/965509654696018851/105f228a35414b1eb1c231263547d1af/params/ (stored 0%)\n",
      "  adding: mlrun/965509654696018851/105f228a35414b1eb1c231263547d1af/params/copy_X (stored 0%)\n",
      "  adding: mlrun/965509654696018851/105f228a35414b1eb1c231263547d1af/params/fit_intercept (stored 0%)\n",
      "  adding: mlrun/965509654696018851/105f228a35414b1eb1c231263547d1af/params/n_jobs (stored 0%)\n",
      "  adding: mlrun/965509654696018851/105f228a35414b1eb1c231263547d1af/params/normalize (stored 0%)\n",
      "  adding: mlrun/965509654696018851/105f228a35414b1eb1c231263547d1af/artifacts/ (stored 0%)\n",
      "  adding: mlrun/965509654696018851/105f228a35414b1eb1c231263547d1af/artifacts/estimator.html (deflated 68%)\n",
      "  adding: mlrun/965509654696018851/105f228a35414b1eb1c231263547d1af/artifacts/model/ (stored 0%)\n",
      "  adding: mlrun/965509654696018851/105f228a35414b1eb1c231263547d1af/artifacts/model/python_env.yaml (deflated 19%)\n",
      "  adding: mlrun/965509654696018851/105f228a35414b1eb1c231263547d1af/artifacts/model/MLmodel (deflated 46%)\n",
      "  adding: mlrun/965509654696018851/105f228a35414b1eb1c231263547d1af/artifacts/model/requirements.txt (deflated 8%)\n",
      "  adding: mlrun/965509654696018851/105f228a35414b1eb1c231263547d1af/artifacts/model/model.pkl (deflated 21%)\n",
      "  adding: mlrun/965509654696018851/105f228a35414b1eb1c231263547d1af/artifacts/model/conda.yaml (deflated 27%)\n",
      "  adding: mlrun/965509654696018851/105f228a35414b1eb1c231263547d1af/tags/ (stored 0%)\n",
      "  adding: mlrun/965509654696018851/105f228a35414b1eb1c231263547d1af/tags/mlflow.user (stored 0%)\n",
      "  adding: mlrun/965509654696018851/105f228a35414b1eb1c231263547d1af/tags/mlflow.source.name (deflated 10%)\n",
      "  adding: mlrun/965509654696018851/105f228a35414b1eb1c231263547d1af/tags/mlflow.source.type (stored 0%)\n",
      "  adding: mlrun/965509654696018851/105f228a35414b1eb1c231263547d1af/tags/mlflow.runName (stored 0%)\n",
      "  adding: mlrun/965509654696018851/105f228a35414b1eb1c231263547d1af/tags/estimator_name (stored 0%)\n",
      "  adding: mlrun/965509654696018851/105f228a35414b1eb1c231263547d1af/tags/estimator_class (deflated 7%)\n",
      "  adding: mlrun/965509654696018851/105f228a35414b1eb1c231263547d1af/tags/mlflow.log-model.history (deflated 50%)\n",
      "  adding: mlrun/965509654696018851/6419df85485041cca3811513350bf8b8/ (stored 0%)\n",
      "  adding: mlrun/965509654696018851/6419df85485041cca3811513350bf8b8/meta.yaml (deflated 45%)\n",
      "  adding: mlrun/965509654696018851/6419df85485041cca3811513350bf8b8/metrics/ (stored 0%)\n",
      "  adding: mlrun/965509654696018851/6419df85485041cca3811513350bf8b8/metrics/training_mean_squared_error (stored 0%)\n",
      "  adding: mlrun/965509654696018851/6419df85485041cca3811513350bf8b8/metrics/training_mean_absolute_error (stored 0%)\n",
      "  adding: mlrun/965509654696018851/6419df85485041cca3811513350bf8b8/metrics/training_r2_score (stored 0%)\n",
      "  adding: mlrun/965509654696018851/6419df85485041cca3811513350bf8b8/metrics/training_root_mean_squared_error (stored 0%)\n",
      "  adding: mlrun/965509654696018851/6419df85485041cca3811513350bf8b8/metrics/training_score (stored 0%)\n",
      "  adding: mlrun/965509654696018851/6419df85485041cca3811513350bf8b8/params/ (stored 0%)\n",
      "  adding: mlrun/965509654696018851/6419df85485041cca3811513350bf8b8/params/copy_X (stored 0%)\n",
      "  adding: mlrun/965509654696018851/6419df85485041cca3811513350bf8b8/params/fit_intercept (stored 0%)\n",
      "  adding: mlrun/965509654696018851/6419df85485041cca3811513350bf8b8/params/n_jobs (stored 0%)\n",
      "  adding: mlrun/965509654696018851/6419df85485041cca3811513350bf8b8/params/normalize (stored 0%)\n",
      "  adding: mlrun/965509654696018851/6419df85485041cca3811513350bf8b8/artifacts/ (stored 0%)\n",
      "  adding: mlrun/965509654696018851/6419df85485041cca3811513350bf8b8/artifacts/estimator.html (deflated 68%)\n",
      "  adding: mlrun/965509654696018851/6419df85485041cca3811513350bf8b8/artifacts/model/ (stored 0%)\n",
      "  adding: mlrun/965509654696018851/6419df85485041cca3811513350bf8b8/artifacts/model/requirements.txt (deflated 8%)\n",
      "  adding: mlrun/965509654696018851/6419df85485041cca3811513350bf8b8/artifacts/model/model.pkl (deflated 21%)\n",
      "  adding: mlrun/965509654696018851/6419df85485041cca3811513350bf8b8/artifacts/model/MLmodel (deflated 46%)\n",
      "  adding: mlrun/965509654696018851/6419df85485041cca3811513350bf8b8/artifacts/model/python_env.yaml (deflated 19%)\n",
      "  adding: mlrun/965509654696018851/6419df85485041cca3811513350bf8b8/artifacts/model/conda.yaml (deflated 27%)\n",
      "  adding: mlrun/965509654696018851/6419df85485041cca3811513350bf8b8/tags/ (stored 0%)\n",
      "  adding: mlrun/965509654696018851/6419df85485041cca3811513350bf8b8/tags/mlflow.user (stored 0%)\n",
      "  adding: mlrun/965509654696018851/6419df85485041cca3811513350bf8b8/tags/mlflow.source.name (deflated 10%)\n",
      "  adding: mlrun/965509654696018851/6419df85485041cca3811513350bf8b8/tags/mlflow.source.type (stored 0%)\n",
      "  adding: mlrun/965509654696018851/6419df85485041cca3811513350bf8b8/tags/mlflow.runName (stored 0%)\n",
      "  adding: mlrun/965509654696018851/6419df85485041cca3811513350bf8b8/tags/estimator_name (stored 0%)\n",
      "  adding: mlrun/965509654696018851/6419df85485041cca3811513350bf8b8/tags/estimator_class (deflated 7%)\n",
      "  adding: mlrun/965509654696018851/6419df85485041cca3811513350bf8b8/tags/mlflow.log-model.history (deflated 50%)\n",
      "  adding: mlrun/965509654696018851/750ac8e9fb3c43b9b049638e49fb39af/ (stored 0%)\n",
      "  adding: mlrun/965509654696018851/750ac8e9fb3c43b9b049638e49fb39af/meta.yaml (deflated 46%)\n",
      "  adding: mlrun/965509654696018851/750ac8e9fb3c43b9b049638e49fb39af/metrics/ (stored 0%)\n",
      "  adding: mlrun/965509654696018851/750ac8e9fb3c43b9b049638e49fb39af/metrics/training_mean_squared_error (stored 0%)\n",
      "  adding: mlrun/965509654696018851/750ac8e9fb3c43b9b049638e49fb39af/metrics/training_mean_absolute_error (stored 0%)\n",
      "  adding: mlrun/965509654696018851/750ac8e9fb3c43b9b049638e49fb39af/metrics/training_r2_score (stored 0%)\n",
      "  adding: mlrun/965509654696018851/750ac8e9fb3c43b9b049638e49fb39af/metrics/training_root_mean_squared_error (stored 0%)\n",
      "  adding: mlrun/965509654696018851/750ac8e9fb3c43b9b049638e49fb39af/metrics/training_score (stored 0%)\n",
      "  adding: mlrun/965509654696018851/750ac8e9fb3c43b9b049638e49fb39af/params/ (stored 0%)\n",
      "  adding: mlrun/965509654696018851/750ac8e9fb3c43b9b049638e49fb39af/params/copy_X (stored 0%)\n",
      "  adding: mlrun/965509654696018851/750ac8e9fb3c43b9b049638e49fb39af/params/fit_intercept (stored 0%)\n",
      "  adding: mlrun/965509654696018851/750ac8e9fb3c43b9b049638e49fb39af/params/n_jobs (stored 0%)\n",
      "  adding: mlrun/965509654696018851/750ac8e9fb3c43b9b049638e49fb39af/params/normalize (stored 0%)\n",
      "  adding: mlrun/965509654696018851/750ac8e9fb3c43b9b049638e49fb39af/artifacts/ (stored 0%)\n",
      "  adding: mlrun/965509654696018851/750ac8e9fb3c43b9b049638e49fb39af/artifacts/estimator.html (deflated 68%)\n",
      "  adding: mlrun/965509654696018851/750ac8e9fb3c43b9b049638e49fb39af/artifacts/model/ (stored 0%)\n",
      "  adding: mlrun/965509654696018851/750ac8e9fb3c43b9b049638e49fb39af/artifacts/model/requirements.txt (deflated 8%)\n",
      "  adding: mlrun/965509654696018851/750ac8e9fb3c43b9b049638e49fb39af/artifacts/model/MLmodel (deflated 47%)\n",
      "  adding: mlrun/965509654696018851/750ac8e9fb3c43b9b049638e49fb39af/artifacts/model/model.pkl (deflated 21%)\n",
      "  adding: mlrun/965509654696018851/750ac8e9fb3c43b9b049638e49fb39af/artifacts/model/python_env.yaml (deflated 19%)\n",
      "  adding: mlrun/965509654696018851/750ac8e9fb3c43b9b049638e49fb39af/artifacts/model/conda.yaml (deflated 27%)\n",
      "  adding: mlrun/965509654696018851/750ac8e9fb3c43b9b049638e49fb39af/tags/ (stored 0%)\n",
      "  adding: mlrun/965509654696018851/750ac8e9fb3c43b9b049638e49fb39af/tags/mlflow.user (stored 0%)\n",
      "  adding: mlrun/965509654696018851/750ac8e9fb3c43b9b049638e49fb39af/tags/mlflow.source.name (deflated 10%)\n",
      "  adding: mlrun/965509654696018851/750ac8e9fb3c43b9b049638e49fb39af/tags/mlflow.source.type (stored 0%)\n",
      "  adding: mlrun/965509654696018851/750ac8e9fb3c43b9b049638e49fb39af/tags/mlflow.runName (stored 0%)\n",
      "  adding: mlrun/965509654696018851/750ac8e9fb3c43b9b049638e49fb39af/tags/estimator_name (stored 0%)\n",
      "  adding: mlrun/965509654696018851/750ac8e9fb3c43b9b049638e49fb39af/tags/estimator_class (deflated 7%)\n",
      "  adding: mlrun/965509654696018851/750ac8e9fb3c43b9b049638e49fb39af/tags/mlflow.log-model.history (deflated 50%)\n",
      "  adding: mlrun/705596998705988330/ (stored 0%)\n",
      "  adding: mlrun/705596998705988330/meta.yaml (deflated 25%)\n",
      "  adding: mlrun/705596998705988330/tags/ (stored 0%)\n",
      "  adding: mlrun/705596998705988330/tags/version (stored 0%)\n",
      "  adding: mlrun/705596998705988330/tags/priority (stored 0%)\n",
      "  adding: mlrun/598537333250926060/ (stored 0%)\n",
      "  adding: mlrun/598537333250926060/meta.yaml (deflated 25%)\n",
      "  adding: mlrun/598537333250926060/tags/ (stored 0%)\n",
      "  adding: mlrun/598537333250926060/tags/version (stored 0%)\n",
      "  adding: mlrun/598537333250926060/tags/priority (stored 0%)\n",
      "  adding: mlrun/598537333250926060/76f0424bce944703904f589b66934d40/ (stored 0%)\n",
      "  adding: mlrun/598537333250926060/76f0424bce944703904f589b66934d40/meta.yaml (deflated 42%)\n",
      "  adding: mlrun/598537333250926060/76f0424bce944703904f589b66934d40/metrics/ (stored 0%)\n",
      "  adding: mlrun/598537333250926060/76f0424bce944703904f589b66934d40/metrics/training_mean_squared_error (stored 0%)\n",
      "  adding: mlrun/598537333250926060/76f0424bce944703904f589b66934d40/metrics/training_mean_absolute_error (stored 0%)\n",
      "  adding: mlrun/598537333250926060/76f0424bce944703904f589b66934d40/metrics/training_r2_score (stored 0%)\n",
      "  adding: mlrun/598537333250926060/76f0424bce944703904f589b66934d40/metrics/training_root_mean_squared_error (stored 0%)\n",
      "  adding: mlrun/598537333250926060/76f0424bce944703904f589b66934d40/metrics/training_score (stored 0%)\n",
      "  adding: mlrun/598537333250926060/76f0424bce944703904f589b66934d40/params/ (stored 0%)\n",
      "  adding: mlrun/598537333250926060/76f0424bce944703904f589b66934d40/params/copy_X (stored 0%)\n",
      "  adding: mlrun/598537333250926060/76f0424bce944703904f589b66934d40/params/fit_intercept (stored 0%)\n",
      "  adding: mlrun/598537333250926060/76f0424bce944703904f589b66934d40/params/n_jobs (stored 0%)\n",
      "  adding: mlrun/598537333250926060/76f0424bce944703904f589b66934d40/params/normalize (stored 0%)\n",
      "  adding: mlrun/598537333250926060/76f0424bce944703904f589b66934d40/artifacts/ (stored 0%)\n",
      "  adding: mlrun/598537333250926060/76f0424bce944703904f589b66934d40/tags/ (stored 0%)\n",
      "  adding: mlrun/598537333250926060/76f0424bce944703904f589b66934d40/tags/mlflow.user (stored 0%)\n",
      "  adding: mlrun/598537333250926060/76f0424bce944703904f589b66934d40/tags/mlflow.source.name (deflated 10%)\n",
      "  adding: mlrun/598537333250926060/76f0424bce944703904f589b66934d40/tags/mlflow.source.type (stored 0%)\n",
      "  adding: mlrun/598537333250926060/76f0424bce944703904f589b66934d40/tags/mlflow.runName (stored 0%)\n",
      "  adding: mlrun/598537333250926060/76f0424bce944703904f589b66934d40/tags/estimator_name (stored 0%)\n",
      "  adding: mlrun/598537333250926060/76f0424bce944703904f589b66934d40/tags/estimator_class (deflated 7%)\n",
      "  adding: mlrun/598537333250926060/76f0424bce944703904f589b66934d40/tags/mlflow.log-model.history (deflated 50%)\n",
      "  adding: mlrun/76f0424bce944703904f589b66934d40/ (stored 0%)\n",
      "  adding: mlrun/76f0424bce944703904f589b66934d40/artifacts/ (stored 0%)\n",
      "  adding: mlrun/76f0424bce944703904f589b66934d40/artifacts/estimator.html (deflated 68%)\n",
      "  adding: mlrun/76f0424bce944703904f589b66934d40/artifacts/model/ (stored 0%)\n",
      "  adding: mlrun/76f0424bce944703904f589b66934d40/artifacts/model/python_env.yaml (deflated 19%)\n",
      "  adding: mlrun/76f0424bce944703904f589b66934d40/artifacts/model/requirements.txt (deflated 8%)\n",
      "  adding: mlrun/76f0424bce944703904f589b66934d40/artifacts/model/conda.yaml (deflated 27%)\n",
      "  adding: mlrun/76f0424bce944703904f589b66934d40/artifacts/model/MLmodel (deflated 46%)\n",
      "  adding: mlrun/76f0424bce944703904f589b66934d40/artifacts/model/model.pkl (deflated 21%)\n"
     ]
    }
   ],
   "source": [
    "#!zip -r mlruns.zip mlrun/"
   ]
  },
  {
   "cell_type": "code",
   "execution_count": 11,
   "metadata": {},
   "outputs": [
    {
     "name": "stderr",
     "output_type": "stream",
     "text": [
      "WARNING:root:Malformed experiment '76f0424bce944703904f589b66934d40'. Detailed error Yaml file 'mlrun/76f0424bce944703904f589b66934d40/meta.yaml' does not exist.\n",
      "Traceback (most recent call last):\n",
      "  File \"/home/idies/miniconda3/envs/py38/lib/python3.8/site-packages/mlflow/store/tracking/file_store.py\", line 285, in search_experiments\n",
      "    exp = self._get_experiment(exp_id, view_type)\n",
      "  File \"/home/idies/miniconda3/envs/py38/lib/python3.8/site-packages/mlflow/store/tracking/file_store.py\", line 378, in _get_experiment\n",
      "    meta = FileStore._read_yaml(experiment_dir, FileStore.META_DATA_FILE_NAME)\n",
      "  File \"/home/idies/miniconda3/envs/py38/lib/python3.8/site-packages/mlflow/store/tracking/file_store.py\", line 1082, in _read_yaml\n",
      "    return _read_helper(root, file_name, attempts_remaining=retries)\n",
      "  File \"/home/idies/miniconda3/envs/py38/lib/python3.8/site-packages/mlflow/store/tracking/file_store.py\", line 1075, in _read_helper\n",
      "    result = read_yaml(root, file_name)\n",
      "  File \"/home/idies/miniconda3/envs/py38/lib/python3.8/site-packages/mlflow/utils/file_utils.py\", line 213, in read_yaml\n",
      "    raise MissingConfigException(\"Yaml file '%s' does not exist.\" % file_path)\n",
      "mlflow.exceptions.MissingConfigException: Yaml file 'mlrun/76f0424bce944703904f589b66934d40/meta.yaml' does not exist.\n"
     ]
    },
    {
     "data": {
      "text/plain": [
       "<Experiment: artifact_location='mlrun/965509654696018851', creation_time=1677655352908, experiment_id='965509654696018851', last_update_time=1677655352908, lifecycle_stage='active', name='auto log test', tags={}>"
      ]
     },
     "execution_count": 11,
     "metadata": {},
     "output_type": "execute_result"
    }
   ],
   "source": [
    "import mlflow\n",
    "mlflow.set_tracking_uri(\"mlrun\")\n",
    "mlflow.set_experiment(\"auto log test\")"
   ]
  },
  {
   "cell_type": "code",
   "execution_count": 4,
   "metadata": {},
   "outputs": [
    {
     "name": "stdout",
     "output_type": "stream",
     "text": [
      "Name: auto log 3\n",
      "Experiment_id: 598537333250926060\n",
      "Artifact Location: file:///home/idies/workspace/Storage/s.hossain18/persistent/mlrun\n",
      "Tags: {'version': 'v1', 'priority': 'P1'}\n",
      "Lifecycle_stage: active\n",
      "Creation timestamp: 1677656867390\n"
     ]
    }
   ],
   "source": [
    "#import mlflow\n",
    "#from pathlib import Path\n",
    "\n",
    "# Create an experiment name, which must be unique and case sensitive\n",
    "#experiment_id = mlflow.create_experiment(\n",
    "#    \"auto log 3\",\n",
    "#    artifact_location=Path.cwd().joinpath(\"mlrun\").as_uri(),\n",
    "#    tags={\"version\": \"v1\", \"priority\": \"P1\"},\n",
    "#)\n",
    "#experiment = mlflow.get_experiment(experiment_id)\n",
    "#print(\"Name: {}\".format(experiment.name))\n",
    "#print(\"Experiment_id: {}\".format(experiment.experiment_id))\n",
    "#print(\"Artifact Location: {}\".format(experiment.artifact_location))\n",
    "#print(\"Tags: {}\".format(experiment.tags))\n",
    "#print(\"Lifecycle_stage: {}\".format(experiment.lifecycle_stage))\n",
    "#print(\"Creation timestamp: {}\".format(experiment.creation_time))"
   ]
  },
  {
   "cell_type": "code",
   "execution_count": 8,
   "metadata": {},
   "outputs": [
    {
     "data": {
      "text/plain": [
       "<Experiment: artifact_location='file:///home/idies/workspace/Storage/s.hossain18/persistent/mlrun', creation_time=1677656867390, experiment_id='598537333250926060', last_update_time=1677656867390, lifecycle_stage='active', name='auto log 3', tags={'priority': 'P1', 'version': 'v1'}>"
      ]
     },
     "execution_count": 8,
     "metadata": {},
     "output_type": "execute_result"
    }
   ],
   "source": [
    "#!zip -r foldername.zip folder/\n",
    "#mlflow.set_experiment(\"auto log 3\")"
   ]
  },
  {
   "cell_type": "code",
   "execution_count": 37,
   "metadata": {},
   "outputs": [
    {
     "name": "stdout",
     "output_type": "stream",
     "text": [
      "Current tracking uri: mlrun\n"
     ]
    }
   ],
   "source": [
    "tracking_uri = mlflow.get_tracking_uri()\n",
    "print(\"Current tracking uri: {}\".format(tracking_uri))"
   ]
  },
  {
   "cell_type": "code",
   "execution_count": 27,
   "metadata": {},
   "outputs": [
    {
     "data": {
      "text/plain": [
       "<mlflow.models.model.ModelInfo at 0x7f16f4ac5ac0>"
      ]
     },
     "execution_count": 27,
     "metadata": {},
     "output_type": "execute_result"
    }
   ],
   "source": [
    "import mlflow\n",
    "import mlflow.sklearn\n",
    "from sklearn.datasets import load_iris\n",
    "from sklearn import tree\n",
    "\n",
    "iris = load_iris()\n",
    "sk_model = tree.DecisionTreeClassifier()\n",
    "sk_model = sk_model.fit(iris.data, iris.target)\n",
    "# set the artifact_path to location where experiment artifacts will be saved\n",
    "\n",
    "#log model params\n",
    "mlflow.log_param(\"criterion\", sk_model.criterion)\n",
    "mlflow.log_param(\"splitter\", sk_model.splitter)\n",
    "\n",
    "# log model\n",
    "mlflow.sklearn.log_model(sk_model, \"sk_models\")"
   ]
  },
  {
   "cell_type": "code",
   "execution_count": 29,
   "metadata": {},
   "outputs": [
    {
     "name": "stdout",
     "output_type": "stream",
     "text": [
      "Score: 0.6666666666666666\n",
      "Model saved in run a5c8b43f2c7743eaa920b54a9a298a8e\n"
     ]
    }
   ],
   "source": [
    "import numpy as np\n",
    "\n",
    "from sklearn.linear_model import LogisticRegression\n",
    "\n",
    "import mlflow\n",
    "\n",
    "import mlflow.sklearn\n",
    "\n",
    "if __name__ == \"__main__\":\n",
    "\n",
    "    X = np.array([-2, -1, 0, 1, 2, 1]).reshape(-1, 1)\n",
    "\n",
    "    y = np.array([0, 0, 1, 1, 1, 0])\n",
    "\n",
    "    lr = LogisticRegression()\n",
    "\n",
    "    lr.fit(X, y)\n",
    "\n",
    "    score = lr.score(X, y)\n",
    "\n",
    "    print(\"Score: %s\" % score)\n",
    "\n",
    "    mlflow.log_metric(\"score\", score)\n",
    "\n",
    "    mlflow.sklearn.log_model(lr, \"model\")\n",
    "\n",
    "    print(\"Model saved in run %s\" % mlflow.active_run().info.run_uuid)\n"
   ]
  },
  {
   "cell_type": "code",
   "execution_count": 9,
   "metadata": {},
   "outputs": [
    {
     "name": "stderr",
     "output_type": "stream",
     "text": [
      "2023/03/01 07:51:10 INFO mlflow.tracking.fluent: Autologging successfully enabled for sklearn.\n"
     ]
    },
    {
     "name": "stdout",
     "output_type": "stream",
     "text": [
      "run_id: 76f0424bce944703904f589b66934d40\n",
      "artifacts: ['model/MLmodel', 'model/conda.yaml', 'model/model.pkl', 'model/python_env.yaml', 'model/requirements.txt']\n",
      "params: {'copy_X': 'True', 'fit_intercept': 'True', 'n_jobs': 'None', 'normalize': 'False'}\n",
      "metrics: {'training_mean_squared_error': 7.888609052210118e-31, 'training_mean_absolute_error': 4.440892098500626e-16, 'training_r2_score': 1.0, 'training_root_mean_squared_error': 8.881784197001252e-16, 'training_score': 1.0}\n",
      "tags: {'estimator_name': 'LinearRegression', 'estimator_class': 'sklearn.linear_model._base.LinearRegression'}\n"
     ]
    }
   ],
   "source": [
    "# Autolog process\n",
    "import numpy as np\n",
    "import mlflow.sklearn\n",
    "from mlflow import MlflowClient\n",
    "from sklearn.linear_model import LinearRegression\n",
    "\n",
    "def print_auto_logged_info(r):\n",
    "    tags = {k: v for k, v in r.data.tags.items() if not k.startswith(\"mlflow.\")}\n",
    "    artifacts = [f.path for f in MlflowClient().list_artifacts(r.info.run_id, \"model\")]\n",
    "    print(\"run_id: {}\".format(r.info.run_id))\n",
    "    print(\"artifacts: {}\".format(artifacts))\n",
    "    print(\"params: {}\".format(r.data.params))\n",
    "    print(\"metrics: {}\".format(r.data.metrics))\n",
    "    print(\"tags: {}\".format(tags))\n",
    "\n",
    "# prepare training data\n",
    "X = np.array([[1, 1], [1, 2], [2, 2], [2, 3]])\n",
    "y = np.dot(X, np.array([1, 2])) + 3\n",
    "\n",
    "# Auto log all the parameters, metrics, and artifacts\n",
    "mlflow.autolog()\n",
    "model = LinearRegression()\n",
    "#mlflow.end_run()\n",
    "with mlflow.start_run() as run:\n",
    "    model.fit(X, y)\n",
    "\n",
    "# fetch the auto logged parameters and metrics for ended run\n",
    "print_auto_logged_info(mlflow.get_run(run_id=run.info.run_id))"
   ]
  },
  {
   "cell_type": "code",
   "execution_count": null,
   "metadata": {},
   "outputs": [],
   "source": []
  }
 ],
 "metadata": {
  "kernelspec": {
   "display_name": "Python 3.8 (py38)",
   "language": "python",
   "name": "py38"
  },
  "language_info": {
   "codemirror_mode": {
    "name": "ipython",
    "version": 3
   },
   "file_extension": ".py",
   "mimetype": "text/x-python",
   "name": "python",
   "nbconvert_exporter": "python",
   "pygments_lexer": "ipython3",
   "version": "3.8.5"
  }
 },
 "nbformat": 4,
 "nbformat_minor": 4
}

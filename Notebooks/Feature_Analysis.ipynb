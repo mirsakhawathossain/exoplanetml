{
 "cells": [
  {
   "cell_type": "code",
   "execution_count": 1,
   "metadata": {},
   "outputs": [],
   "source": [
    "import warnings\n",
    "warnings.filterwarnings('ignore')"
   ]
  },
  {
   "cell_type": "code",
   "execution_count": 2,
   "metadata": {},
   "outputs": [],
   "source": [
    "import pandas as pd"
   ]
  },
  {
   "cell_type": "code",
   "execution_count": 3,
   "metadata": {},
   "outputs": [],
   "source": [
    "blackhole_data = pd.read_csv('https://www.scidrive.org/vospace-2.0/data/e9ff9441-5489-4de8-b981-c36093fbe700').sort_index(axis=0)"
   ]
  },
  {
   "cell_type": "code",
   "execution_count": 4,
   "metadata": {},
   "outputs": [
    {
     "data": {
      "text/html": [
       "<div>\n",
       "<style scoped>\n",
       "    .dataframe tbody tr th:only-of-type {\n",
       "        vertical-align: middle;\n",
       "    }\n",
       "\n",
       "    .dataframe tbody tr th {\n",
       "        vertical-align: top;\n",
       "    }\n",
       "\n",
       "    .dataframe thead th {\n",
       "        text-align: right;\n",
       "    }\n",
       "</style>\n",
       "<table border=\"1\" class=\"dataframe\">\n",
       "  <thead>\n",
       "    <tr style=\"text-align: right;\">\n",
       "      <th></th>\n",
       "      <th>Total_Stellar_Mass</th>\n",
       "      <th>Bulge_Stellar_Mass</th>\n",
       "      <th>Black_Hole_Mass</th>\n",
       "      <th>Cold_Gas_Mass</th>\n",
       "      <th>Hot_Gas_Mass</th>\n",
       "      <th>Ejected_Gas_Mass</th>\n",
       "      <th>Intracluster_Stars_Mass</th>\n",
       "      <th>Disk_Scale_Radius</th>\n",
       "      <th>Total_Star_Formation_Rate</th>\n",
       "      <th>Hot_Gas_Cooling_Rate</th>\n",
       "      <th>...</th>\n",
       "      <th>SDSS_u_Absolute</th>\n",
       "      <th>SDSS_u_Apparent</th>\n",
       "      <th>SDSS_g_Absolute</th>\n",
       "      <th>SDSS_g_Apparent</th>\n",
       "      <th>SDSS_r_Absolute</th>\n",
       "      <th>SDSS_r_Apparent</th>\n",
       "      <th>SDSS_i_Absolute</th>\n",
       "      <th>SDSS_i_Apparent</th>\n",
       "      <th>SDSS_z_Absolute</th>\n",
       "      <th>SDSS_z_Apparent</th>\n",
       "    </tr>\n",
       "  </thead>\n",
       "  <tbody>\n",
       "    <tr>\n",
       "      <th>0</th>\n",
       "      <td>0.387174</td>\n",
       "      <td>0.385160</td>\n",
       "      <td>0.001336</td>\n",
       "      <td>0.048123</td>\n",
       "      <td>5.19501</td>\n",
       "      <td>0.000000</td>\n",
       "      <td>0.00000</td>\n",
       "      <td>0.001348</td>\n",
       "      <td>0.000000</td>\n",
       "      <td>0.0000</td>\n",
       "      <td>...</td>\n",
       "      <td>-15.5459</td>\n",
       "      <td>-15.5459</td>\n",
       "      <td>-17.1477</td>\n",
       "      <td>-17.1477</td>\n",
       "      <td>-17.8345</td>\n",
       "      <td>-17.8345</td>\n",
       "      <td>-18.1590</td>\n",
       "      <td>-18.1590</td>\n",
       "      <td>-18.3906</td>\n",
       "      <td>-18.3906</td>\n",
       "    </tr>\n",
       "    <tr>\n",
       "      <th>1</th>\n",
       "      <td>0.846767</td>\n",
       "      <td>0.433929</td>\n",
       "      <td>0.001186</td>\n",
       "      <td>0.137686</td>\n",
       "      <td>66.12800</td>\n",
       "      <td>0.003088</td>\n",
       "      <td>7.13868</td>\n",
       "      <td>0.006409</td>\n",
       "      <td>0.000000</td>\n",
       "      <td>0.0000</td>\n",
       "      <td>...</td>\n",
       "      <td>-16.9576</td>\n",
       "      <td>-16.9576</td>\n",
       "      <td>-18.6827</td>\n",
       "      <td>-18.6827</td>\n",
       "      <td>-19.4239</td>\n",
       "      <td>-19.4239</td>\n",
       "      <td>-19.7875</td>\n",
       "      <td>-19.7875</td>\n",
       "      <td>-20.0660</td>\n",
       "      <td>-20.0660</td>\n",
       "    </tr>\n",
       "    <tr>\n",
       "      <th>2</th>\n",
       "      <td>7.126350</td>\n",
       "      <td>1.604110</td>\n",
       "      <td>0.002302</td>\n",
       "      <td>1.188430</td>\n",
       "      <td>26.53040</td>\n",
       "      <td>0.000085</td>\n",
       "      <td>7.96940</td>\n",
       "      <td>0.009066</td>\n",
       "      <td>0.079265</td>\n",
       "      <td>0.0000</td>\n",
       "      <td>...</td>\n",
       "      <td>-19.5330</td>\n",
       "      <td>-19.5330</td>\n",
       "      <td>-21.2105</td>\n",
       "      <td>-21.2105</td>\n",
       "      <td>-21.9265</td>\n",
       "      <td>-21.9265</td>\n",
       "      <td>-22.2808</td>\n",
       "      <td>-22.2808</td>\n",
       "      <td>-22.5680</td>\n",
       "      <td>-22.5680</td>\n",
       "    </tr>\n",
       "    <tr>\n",
       "      <th>3</th>\n",
       "      <td>3.070790</td>\n",
       "      <td>1.558470</td>\n",
       "      <td>0.002598</td>\n",
       "      <td>0.306917</td>\n",
       "      <td>18.74110</td>\n",
       "      <td>0.000000</td>\n",
       "      <td>1.30453</td>\n",
       "      <td>0.003364</td>\n",
       "      <td>0.000000</td>\n",
       "      <td>36.9508</td>\n",
       "      <td>...</td>\n",
       "      <td>-18.3343</td>\n",
       "      <td>-18.3343</td>\n",
       "      <td>-20.1066</td>\n",
       "      <td>-20.1066</td>\n",
       "      <td>-20.8614</td>\n",
       "      <td>-20.8614</td>\n",
       "      <td>-21.2333</td>\n",
       "      <td>-21.2333</td>\n",
       "      <td>-21.5355</td>\n",
       "      <td>-21.5355</td>\n",
       "    </tr>\n",
       "    <tr>\n",
       "      <th>4</th>\n",
       "      <td>10.361900</td>\n",
       "      <td>6.639080</td>\n",
       "      <td>0.008644</td>\n",
       "      <td>0.008921</td>\n",
       "      <td>15.85170</td>\n",
       "      <td>0.000000</td>\n",
       "      <td>1.64459</td>\n",
       "      <td>0.002928</td>\n",
       "      <td>0.000000</td>\n",
       "      <td>0.0000</td>\n",
       "      <td>...</td>\n",
       "      <td>-20.1827</td>\n",
       "      <td>-20.1827</td>\n",
       "      <td>-21.8739</td>\n",
       "      <td>-21.8739</td>\n",
       "      <td>-22.5845</td>\n",
       "      <td>-22.5845</td>\n",
       "      <td>-22.9369</td>\n",
       "      <td>-22.9369</td>\n",
       "      <td>-23.2389</td>\n",
       "      <td>-23.2389</td>\n",
       "    </tr>\n",
       "  </tbody>\n",
       "</table>\n",
       "<p>5 rows × 34 columns</p>\n",
       "</div>"
      ],
      "text/plain": [
       "   Total_Stellar_Mass  Bulge_Stellar_Mass  Black_Hole_Mass  Cold_Gas_Mass  \\\n",
       "0            0.387174            0.385160         0.001336       0.048123   \n",
       "1            0.846767            0.433929         0.001186       0.137686   \n",
       "2            7.126350            1.604110         0.002302       1.188430   \n",
       "3            3.070790            1.558470         0.002598       0.306917   \n",
       "4           10.361900            6.639080         0.008644       0.008921   \n",
       "\n",
       "   Hot_Gas_Mass  Ejected_Gas_Mass  Intracluster_Stars_Mass  Disk_Scale_Radius  \\\n",
       "0       5.19501          0.000000                  0.00000           0.001348   \n",
       "1      66.12800          0.003088                  7.13868           0.006409   \n",
       "2      26.53040          0.000085                  7.96940           0.009066   \n",
       "3      18.74110          0.000000                  1.30453           0.003364   \n",
       "4      15.85170          0.000000                  1.64459           0.002928   \n",
       "\n",
       "   Total_Star_Formation_Rate  Hot_Gas_Cooling_Rate  ...  SDSS_u_Absolute  \\\n",
       "0                   0.000000                0.0000  ...         -15.5459   \n",
       "1                   0.000000                0.0000  ...         -16.9576   \n",
       "2                   0.079265                0.0000  ...         -19.5330   \n",
       "3                   0.000000               36.9508  ...         -18.3343   \n",
       "4                   0.000000                0.0000  ...         -20.1827   \n",
       "\n",
       "   SDSS_u_Apparent  SDSS_g_Absolute  SDSS_g_Apparent  SDSS_r_Absolute  \\\n",
       "0         -15.5459         -17.1477         -17.1477         -17.8345   \n",
       "1         -16.9576         -18.6827         -18.6827         -19.4239   \n",
       "2         -19.5330         -21.2105         -21.2105         -21.9265   \n",
       "3         -18.3343         -20.1066         -20.1066         -20.8614   \n",
       "4         -20.1827         -21.8739         -21.8739         -22.5845   \n",
       "\n",
       "   SDSS_r_Apparent  SDSS_i_Absolute  SDSS_i_Apparent  SDSS_z_Absolute  \\\n",
       "0         -17.8345         -18.1590         -18.1590         -18.3906   \n",
       "1         -19.4239         -19.7875         -19.7875         -20.0660   \n",
       "2         -21.9265         -22.2808         -22.2808         -22.5680   \n",
       "3         -20.8614         -21.2333         -21.2333         -21.5355   \n",
       "4         -22.5845         -22.9369         -22.9369         -23.2389   \n",
       "\n",
       "   SDSS_z_Apparent  \n",
       "0         -18.3906  \n",
       "1         -20.0660  \n",
       "2         -22.5680  \n",
       "3         -21.5355  \n",
       "4         -23.2389  \n",
       "\n",
       "[5 rows x 34 columns]"
      ]
     },
     "execution_count": 4,
     "metadata": {},
     "output_type": "execute_result"
    }
   ],
   "source": [
    " blackhole_data.head(5)"
   ]
  },
  {
   "cell_type": "code",
   "execution_count": 5,
   "metadata": {},
   "outputs": [
    {
     "data": {
      "text/plain": [
       "Total_Stellar_Mass                       0\n",
       "Bulge_Stellar_Mass                       0\n",
       "Black_Hole_Mass                          0\n",
       "Cold_Gas_Mass                            0\n",
       "Hot_Gas_Mass                             0\n",
       "Ejected_Gas_Mass                         0\n",
       "Intracluster_Stars_Mass                  0\n",
       "Disk_Scale_Radius                        0\n",
       "Total_Star_Formation_Rate                0\n",
       "Hot_Gas_Cooling_Rate                     0\n",
       "AGN_Heating_Rate                         0\n",
       "Quasar_BH_Accretion_Mass                 0\n",
       "Supernova_Cold_Gas_Outflow_Rate          0\n",
       "Mean_Age_of_Stars                        0\n",
       "Mvir                                     0\n",
       "Rvir                                     0\n",
       "Vvir                                     0\n",
       "Vmax                                     0\n",
       "Velocity_Dispersion                      0\n",
       "Central_Galaxy_Mvir                      0\n",
       "Subhalo_Mvir_at_Infall                   0\n",
       "Subhalo_Vvir_at_Infall                   0\n",
       "Subhalo_Vmax_at_Infall                   0\n",
       "Maximum_circular_velocity_of_the_halo    0\n",
       "SDSS_u_Absolute                          0\n",
       "SDSS_u_Apparent                          0\n",
       "SDSS_g_Absolute                          0\n",
       "SDSS_g_Apparent                          0\n",
       "SDSS_r_Absolute                          0\n",
       "SDSS_r_Apparent                          0\n",
       "SDSS_i_Absolute                          0\n",
       "SDSS_i_Apparent                          0\n",
       "SDSS_z_Absolute                          0\n",
       "SDSS_z_Apparent                          0\n",
       "dtype: int64"
      ]
     },
     "execution_count": 5,
     "metadata": {},
     "output_type": "execute_result"
    }
   ],
   "source": [
    "blackhole_data.isnull().sum()"
   ]
  },
  {
   "cell_type": "code",
   "execution_count": 6,
   "metadata": {},
   "outputs": [
    {
     "data": {
      "text/plain": [
       "(5582544, 34)"
      ]
     },
     "execution_count": 6,
     "metadata": {},
     "output_type": "execute_result"
    }
   ],
   "source": [
    "blackhole_data.shape"
   ]
  },
  {
   "cell_type": "code",
   "execution_count": 7,
   "metadata": {},
   "outputs": [
    {
     "name": "stdout",
     "output_type": "stream",
     "text": [
      "<class 'pandas.core.frame.DataFrame'>\n",
      "RangeIndex: 5582544 entries, 0 to 5582543\n",
      "Data columns (total 34 columns):\n",
      " #   Column                                 Dtype  \n",
      "---  ------                                 -----  \n",
      " 0   Total_Stellar_Mass                     float64\n",
      " 1   Bulge_Stellar_Mass                     float64\n",
      " 2   Black_Hole_Mass                        float64\n",
      " 3   Cold_Gas_Mass                          float64\n",
      " 4   Hot_Gas_Mass                           float64\n",
      " 5   Ejected_Gas_Mass                       float64\n",
      " 6   Intracluster_Stars_Mass                float64\n",
      " 7   Disk_Scale_Radius                      float64\n",
      " 8   Total_Star_Formation_Rate              float64\n",
      " 9   Hot_Gas_Cooling_Rate                   float64\n",
      " 10  AGN_Heating_Rate                       float64\n",
      " 11  Quasar_BH_Accretion_Mass               float64\n",
      " 12  Supernova_Cold_Gas_Outflow_Rate        float64\n",
      " 13  Mean_Age_of_Stars                      float64\n",
      " 14  Mvir                                   float64\n",
      " 15  Rvir                                   float64\n",
      " 16  Vvir                                   float64\n",
      " 17  Vmax                                   float64\n",
      " 18  Velocity_Dispersion                    float64\n",
      " 19  Central_Galaxy_Mvir                    float64\n",
      " 20  Subhalo_Mvir_at_Infall                 float64\n",
      " 21  Subhalo_Vvir_at_Infall                 float64\n",
      " 22  Subhalo_Vmax_at_Infall                 float64\n",
      " 23  Maximum_circular_velocity_of_the_halo  float64\n",
      " 24  SDSS_u_Absolute                        float64\n",
      " 25  SDSS_u_Apparent                        float64\n",
      " 26  SDSS_g_Absolute                        float64\n",
      " 27  SDSS_g_Apparent                        float64\n",
      " 28  SDSS_r_Absolute                        float64\n",
      " 29  SDSS_r_Apparent                        float64\n",
      " 30  SDSS_i_Absolute                        float64\n",
      " 31  SDSS_i_Apparent                        float64\n",
      " 32  SDSS_z_Absolute                        float64\n",
      " 33  SDSS_z_Apparent                        float64\n",
      "dtypes: float64(34)\n",
      "memory usage: 1.4 GB\n"
     ]
    }
   ],
   "source": [
    " blackhole_data.info()"
   ]
  },
  {
   "cell_type": "code",
   "execution_count": 10,
   "metadata": {},
   "outputs": [],
   "source": [
    "import matplotlib.pyplot as plt\n",
    "%matplotlib inline\n",
    "import seaborn as sns\n",
    "sns.set()\n",
    "import matplotlib as mpl\n",
    "mpl.rcParams['figure.figsize'] = (30, 30)\n",
    "mpl.rcParams['axes.grid'] = True"
   ]
  },
  {
   "cell_type": "code",
   "execution_count": null,
   "metadata": {},
   "outputs": [],
   "source": [
    "corr=blackhole_data.corr()\n",
    "corr.style.background_gradient(cmap='PuBu')"
   ]
  },
  {
   "cell_type": "code",
   "execution_count": null,
   "metadata": {},
   "outputs": [],
   "source": [
    "sns.heatmap(blackhole_data.corr(),cmap='coolwarm',annot=True)"
   ]
  },
  {
   "cell_type": "code",
   "execution_count": null,
   "metadata": {},
   "outputs": [],
   "source": [
    " blackhole_data.describe()"
   ]
  },
  {
   "cell_type": "code",
   "execution_count": null,
   "metadata": {},
   "outputs": [],
   "source": [
    "dataframe = blackhole_data.drop(columns=['SDSS_u_Absolute','SDSS_u_Apparent','SDSS_g_Absolute','SDSS_g_Apparent','SDSS_r_Absolute','SDSS_r_Apparent','SDSS_i_Absolute','SDSS_i_Apparent','SDSS_z_Absolute','SDSS_z_Apparent'])"
   ]
  },
  {
   "cell_type": "code",
   "execution_count": null,
   "metadata": {},
   "outputs": [],
   "source": [
    " dataframe.head()"
   ]
  },
  {
   "cell_type": "code",
   "execution_count": null,
   "metadata": {},
   "outputs": [],
   "source": [
    " #Divide the features into Independent and Dependent Variable\n",
    "X = dataframe.drop('Black_Hole_Mass' , axis =1)\n",
    "y = dataframe['Black_Hole_Mass']"
   ]
  },
  {
   "cell_type": "code",
   "execution_count": null,
   "metadata": {},
   "outputs": [],
   "source": [
    "from sklearn.feature_selection import SelectKBest, f_regression"
   ]
  },
  {
   "cell_type": "code",
   "execution_count": null,
   "metadata": {},
   "outputs": [],
   "source": [
    "bestfeatures = SelectKBest(score_func=f_regression, k='all')\n",
    "fit = bestfeatures.fit(X,y)\n",
    "dfscores = pd.DataFrame(fit.scores_)\n",
    "dfcolumns = pd.DataFrame(X.columns)\n",
    "#concat two dataframes for better visualization \n",
    "featureScores = pd.concat([dfcolumns,dfscores],axis=1)\n",
    "featureScores.columns = ['Specs','Score']  #naming the dataframe columns\n",
    "print(featureScores.nlargest(23,'Score'))  #print 10 best features"
   ]
  },
  {
   "cell_type": "code",
   "execution_count": null,
   "metadata": {},
   "outputs": [],
   "source": [
    "from sklearn.ensemble import ExtraTreesRegressor\n",
    "import matplotlib.pyplot as plt\n",
    "model = ExtraTreesRegressor()\n",
    "model.fit(X,y)\n",
    "print(model.feature_importances_) #use inbuilt class feature_importances of tree based classifiers\n",
    "#plot graph of feature importances for better visualization\n",
    "feat_importances = pd.Series(model.feature_importances_, index=X.columns)\n",
    "feat_importances.nlargest(23).plot(kind='barh')\n",
    "plt.show()"
   ]
  }
 ],
 "metadata": {
  "kernelspec": {
   "display_name": "Python 3.8 (py38)",
   "language": "python",
   "name": "py38"
  },
  "language_info": {
   "codemirror_mode": {
    "name": "ipython",
    "version": 3
   },
   "file_extension": ".py",
   "mimetype": "text/x-python",
   "name": "python",
   "nbconvert_exporter": "python",
   "pygments_lexer": "ipython3",
   "version": "3.8.5"
  }
 },
 "nbformat": 4,
 "nbformat_minor": 4
}

{
 "cells": [
  {
   "cell_type": "code",
   "execution_count": 1,
   "metadata": {},
   "outputs": [],
   "source": [
    "import warnings\n",
    "warnings.filterwarnings('ignore')"
   ]
  },
  {
   "cell_type": "code",
   "execution_count": 2,
   "metadata": {},
   "outputs": [],
   "source": [
    "import pandas as pd"
   ]
  },
  {
   "cell_type": "code",
   "execution_count": 3,
   "metadata": {},
   "outputs": [],
   "source": [
    "multi_co = pd.read_csv('https://gitlab.com/mirsakhawathossain/exodata/-/raw/main/dataset/multi_col_total.csv').sort_index(axis=0)"
   ]
  },
  {
   "cell_type": "code",
   "execution_count": 4,
   "metadata": {},
   "outputs": [],
   "source": [
    "t= multi_co['VIF Factor']>5"
   ]
  },
  {
   "cell_type": "code",
   "execution_count": 5,
   "metadata": {},
   "outputs": [
    {
     "data": {
      "text/plain": [
       "True     505\n",
       "False    236\n",
       "Name: VIF Factor, dtype: int64"
      ]
     },
     "execution_count": 5,
     "metadata": {},
     "output_type": "execute_result"
    }
   ],
   "source": [
    "t.value_counts()"
   ]
  },
  {
   "cell_type": "code",
   "execution_count": 7,
   "metadata": {},
   "outputs": [],
   "source": [
    "drop_colmn = multi_co[multi_co['VIF Factor']>5]['Features'].to_list()"
   ]
  },
  {
   "cell_type": "code",
   "execution_count": 8,
   "metadata": {},
   "outputs": [],
   "source": [
    "df = pd.read_csv('https://gitlab.com/mirsakhawathossain/exodata/-/raw/main/dataset/exodata.csv').sort_index(axis=0)"
   ]
  },
  {
   "cell_type": "code",
   "execution_count": 9,
   "metadata": {},
   "outputs": [],
   "source": [
    "columns_1 = df.columns[df.mean()==1]"
   ]
  },
  {
   "cell_type": "code",
   "execution_count": 10,
   "metadata": {},
   "outputs": [],
   "source": [
    "columns_2 = df.columns[df.mean()==0]"
   ]
  },
  {
   "cell_type": "code",
   "execution_count": 11,
   "metadata": {},
   "outputs": [],
   "source": [
    "df = df.drop(columns=columns_1)"
   ]
  },
  {
   "cell_type": "code",
   "execution_count": 12,
   "metadata": {},
   "outputs": [],
   "source": [
    "df = df.drop(columns=columns_2)"
   ]
  },
  {
   "cell_type": "code",
   "execution_count": 13,
   "metadata": {},
   "outputs": [],
   "source": [
    "df = df.drop(columns=drop_colmn)"
   ]
  },
  {
   "cell_type": "code",
   "execution_count": 14,
   "metadata": {},
   "outputs": [
    {
     "data": {
      "text/html": [
       "<div>\n",
       "<style scoped>\n",
       "    .dataframe tbody tr th:only-of-type {\n",
       "        vertical-align: middle;\n",
       "    }\n",
       "\n",
       "    .dataframe tbody tr th {\n",
       "        vertical-align: top;\n",
       "    }\n",
       "\n",
       "    .dataframe thead th {\n",
       "        text-align: right;\n",
       "    }\n",
       "</style>\n",
       "<table border=\"1\" class=\"dataframe\">\n",
       "  <thead>\n",
       "    <tr style=\"text-align: right;\">\n",
       "      <th></th>\n",
       "      <th>PDCSAP_FLUX__has_duplicate_max</th>\n",
       "      <th>PDCSAP_FLUX__has_duplicate_min</th>\n",
       "      <th>PDCSAP_FLUX__has_duplicate</th>\n",
       "      <th>PDCSAP_FLUX__mean_change</th>\n",
       "      <th>PDCSAP_FLUX__mean_second_derivative_central</th>\n",
       "      <th>PDCSAP_FLUX__length</th>\n",
       "      <th>PDCSAP_FLUX__variation_coefficient</th>\n",
       "      <th>PDCSAP_FLUX__skewness</th>\n",
       "      <th>PDCSAP_FLUX__kurtosis</th>\n",
       "      <th>PDCSAP_FLUX__longest_strike_below_mean</th>\n",
       "      <th>...</th>\n",
       "      <th>PDCSAP_FLUX__energy_ratio_by_chunks__num_segments_10__segment_focus_9</th>\n",
       "      <th>PDCSAP_FLUX__ratio_beyond_r_sigma__r_5</th>\n",
       "      <th>PDCSAP_FLUX__ratio_beyond_r_sigma__r_6</th>\n",
       "      <th>PDCSAP_FLUX__ratio_beyond_r_sigma__r_7</th>\n",
       "      <th>PDCSAP_FLUX__ratio_beyond_r_sigma__r_10</th>\n",
       "      <th>PDCSAP_FLUX__count_below__t_0</th>\n",
       "      <th>PDCSAP_FLUX__lempel_ziv_complexity__bins_2</th>\n",
       "      <th>PDCSAP_FLUX__lempel_ziv_complexity__bins_3</th>\n",
       "      <th>PDCSAP_FLUX__fourier_entropy__bins_2</th>\n",
       "      <th>exoplanet</th>\n",
       "    </tr>\n",
       "  </thead>\n",
       "  <tbody>\n",
       "    <tr>\n",
       "      <th>0</th>\n",
       "      <td>0.0</td>\n",
       "      <td>0.0</td>\n",
       "      <td>0.0</td>\n",
       "      <td>0.800615</td>\n",
       "      <td>0.149376</td>\n",
       "      <td>1624.0</td>\n",
       "      <td>0.043621</td>\n",
       "      <td>-1.412370</td>\n",
       "      <td>4.858332</td>\n",
       "      <td>61.0</td>\n",
       "      <td>...</td>\n",
       "      <td>0.098669</td>\n",
       "      <td>0.000000</td>\n",
       "      <td>0.000000</td>\n",
       "      <td>0.0</td>\n",
       "      <td>0.0</td>\n",
       "      <td>0.0</td>\n",
       "      <td>0.048645</td>\n",
       "      <td>0.074507</td>\n",
       "      <td>0.079983</td>\n",
       "      <td>0</td>\n",
       "    </tr>\n",
       "    <tr>\n",
       "      <th>1</th>\n",
       "      <td>0.0</td>\n",
       "      <td>0.0</td>\n",
       "      <td>1.0</td>\n",
       "      <td>-1.089670</td>\n",
       "      <td>0.186553</td>\n",
       "      <td>4070.0</td>\n",
       "      <td>0.047863</td>\n",
       "      <td>-2.748000</td>\n",
       "      <td>10.487121</td>\n",
       "      <td>63.0</td>\n",
       "      <td>...</td>\n",
       "      <td>0.100337</td>\n",
       "      <td>0.004423</td>\n",
       "      <td>0.000000</td>\n",
       "      <td>0.0</td>\n",
       "      <td>0.0</td>\n",
       "      <td>0.0</td>\n",
       "      <td>0.035381</td>\n",
       "      <td>0.037838</td>\n",
       "      <td>0.079983</td>\n",
       "      <td>0</td>\n",
       "    </tr>\n",
       "    <tr>\n",
       "      <th>2</th>\n",
       "      <td>0.0</td>\n",
       "      <td>0.0</td>\n",
       "      <td>1.0</td>\n",
       "      <td>0.197467</td>\n",
       "      <td>0.007730</td>\n",
       "      <td>4134.0</td>\n",
       "      <td>0.040428</td>\n",
       "      <td>-4.036781</td>\n",
       "      <td>17.620781</td>\n",
       "      <td>67.0</td>\n",
       "      <td>...</td>\n",
       "      <td>0.100325</td>\n",
       "      <td>0.016207</td>\n",
       "      <td>0.000000</td>\n",
       "      <td>0.0</td>\n",
       "      <td>0.0</td>\n",
       "      <td>0.0</td>\n",
       "      <td>0.035559</td>\n",
       "      <td>0.036284</td>\n",
       "      <td>0.163982</td>\n",
       "      <td>0</td>\n",
       "    </tr>\n",
       "    <tr>\n",
       "      <th>3</th>\n",
       "      <td>0.0</td>\n",
       "      <td>0.0</td>\n",
       "      <td>1.0</td>\n",
       "      <td>-0.217077</td>\n",
       "      <td>-0.045048</td>\n",
       "      <td>4108.0</td>\n",
       "      <td>0.041607</td>\n",
       "      <td>-4.062527</td>\n",
       "      <td>18.218002</td>\n",
       "      <td>43.0</td>\n",
       "      <td>...</td>\n",
       "      <td>0.101506</td>\n",
       "      <td>0.016796</td>\n",
       "      <td>0.000974</td>\n",
       "      <td>0.0</td>\n",
       "      <td>0.0</td>\n",
       "      <td>0.0</td>\n",
       "      <td>0.034567</td>\n",
       "      <td>0.036271</td>\n",
       "      <td>0.079983</td>\n",
       "      <td>0</td>\n",
       "    </tr>\n",
       "    <tr>\n",
       "      <th>4</th>\n",
       "      <td>0.0</td>\n",
       "      <td>0.0</td>\n",
       "      <td>1.0</td>\n",
       "      <td>0.066043</td>\n",
       "      <td>-0.023373</td>\n",
       "      <td>4486.0</td>\n",
       "      <td>0.039050</td>\n",
       "      <td>-3.504369</td>\n",
       "      <td>14.686383</td>\n",
       "      <td>59.0</td>\n",
       "      <td>...</td>\n",
       "      <td>0.099357</td>\n",
       "      <td>0.012260</td>\n",
       "      <td>0.000446</td>\n",
       "      <td>0.0</td>\n",
       "      <td>0.0</td>\n",
       "      <td>0.0</td>\n",
       "      <td>0.034552</td>\n",
       "      <td>0.040571</td>\n",
       "      <td>0.138228</td>\n",
       "      <td>0</td>\n",
       "    </tr>\n",
       "  </tbody>\n",
       "</table>\n",
       "<p>5 rows × 237 columns</p>\n",
       "</div>"
      ],
      "text/plain": [
       "   PDCSAP_FLUX__has_duplicate_max  PDCSAP_FLUX__has_duplicate_min  \\\n",
       "0                             0.0                             0.0   \n",
       "1                             0.0                             0.0   \n",
       "2                             0.0                             0.0   \n",
       "3                             0.0                             0.0   \n",
       "4                             0.0                             0.0   \n",
       "\n",
       "   PDCSAP_FLUX__has_duplicate  PDCSAP_FLUX__mean_change  \\\n",
       "0                         0.0                  0.800615   \n",
       "1                         1.0                 -1.089670   \n",
       "2                         1.0                  0.197467   \n",
       "3                         1.0                 -0.217077   \n",
       "4                         1.0                  0.066043   \n",
       "\n",
       "   PDCSAP_FLUX__mean_second_derivative_central  PDCSAP_FLUX__length  \\\n",
       "0                                     0.149376               1624.0   \n",
       "1                                     0.186553               4070.0   \n",
       "2                                     0.007730               4134.0   \n",
       "3                                    -0.045048               4108.0   \n",
       "4                                    -0.023373               4486.0   \n",
       "\n",
       "   PDCSAP_FLUX__variation_coefficient  PDCSAP_FLUX__skewness  \\\n",
       "0                            0.043621              -1.412370   \n",
       "1                            0.047863              -2.748000   \n",
       "2                            0.040428              -4.036781   \n",
       "3                            0.041607              -4.062527   \n",
       "4                            0.039050              -3.504369   \n",
       "\n",
       "   PDCSAP_FLUX__kurtosis  PDCSAP_FLUX__longest_strike_below_mean  ...  \\\n",
       "0               4.858332                                    61.0  ...   \n",
       "1              10.487121                                    63.0  ...   \n",
       "2              17.620781                                    67.0  ...   \n",
       "3              18.218002                                    43.0  ...   \n",
       "4              14.686383                                    59.0  ...   \n",
       "\n",
       "   PDCSAP_FLUX__energy_ratio_by_chunks__num_segments_10__segment_focus_9  \\\n",
       "0                                           0.098669                       \n",
       "1                                           0.100337                       \n",
       "2                                           0.100325                       \n",
       "3                                           0.101506                       \n",
       "4                                           0.099357                       \n",
       "\n",
       "   PDCSAP_FLUX__ratio_beyond_r_sigma__r_5  \\\n",
       "0                                0.000000   \n",
       "1                                0.004423   \n",
       "2                                0.016207   \n",
       "3                                0.016796   \n",
       "4                                0.012260   \n",
       "\n",
       "   PDCSAP_FLUX__ratio_beyond_r_sigma__r_6  \\\n",
       "0                                0.000000   \n",
       "1                                0.000000   \n",
       "2                                0.000000   \n",
       "3                                0.000974   \n",
       "4                                0.000446   \n",
       "\n",
       "   PDCSAP_FLUX__ratio_beyond_r_sigma__r_7  \\\n",
       "0                                     0.0   \n",
       "1                                     0.0   \n",
       "2                                     0.0   \n",
       "3                                     0.0   \n",
       "4                                     0.0   \n",
       "\n",
       "   PDCSAP_FLUX__ratio_beyond_r_sigma__r_10  PDCSAP_FLUX__count_below__t_0  \\\n",
       "0                                      0.0                            0.0   \n",
       "1                                      0.0                            0.0   \n",
       "2                                      0.0                            0.0   \n",
       "3                                      0.0                            0.0   \n",
       "4                                      0.0                            0.0   \n",
       "\n",
       "   PDCSAP_FLUX__lempel_ziv_complexity__bins_2  \\\n",
       "0                                    0.048645   \n",
       "1                                    0.035381   \n",
       "2                                    0.035559   \n",
       "3                                    0.034567   \n",
       "4                                    0.034552   \n",
       "\n",
       "   PDCSAP_FLUX__lempel_ziv_complexity__bins_3  \\\n",
       "0                                    0.074507   \n",
       "1                                    0.037838   \n",
       "2                                    0.036284   \n",
       "3                                    0.036271   \n",
       "4                                    0.040571   \n",
       "\n",
       "   PDCSAP_FLUX__fourier_entropy__bins_2  exoplanet  \n",
       "0                              0.079983          0  \n",
       "1                              0.079983          0  \n",
       "2                              0.163982          0  \n",
       "3                              0.079983          0  \n",
       "4                              0.138228          0  \n",
       "\n",
       "[5 rows x 237 columns]"
      ]
     },
     "execution_count": 14,
     "metadata": {},
     "output_type": "execute_result"
    }
   ],
   "source": [
    "df.head(5)"
   ]
  },
  {
   "cell_type": "code",
   "execution_count": 15,
   "metadata": {},
   "outputs": [
    {
     "name": "stdout",
     "output_type": "stream",
     "text": [
      "Collecting scikit-learn-intelex\n",
      "  Downloading scikit_learn_intelex-2023.0.1-py38-none-manylinux1_x86_64.whl (83 kB)\n",
      "\u001b[K     |████████████████████████████████| 83 kB 831 kB/s eta 0:00:01\n",
      "\u001b[?25hCollecting daal4py==2023.0.1\n",
      "  Downloading daal4py-2023.0.1-py38-none-manylinux1_x86_64.whl (12.6 MB)\n",
      "\u001b[K     |████████████████████████████████| 12.6 MB 17.4 MB/s eta 0:00:01                     | 1.3 MB 17.4 MB/s eta 0:00:01███                         | 2.8 MB 17.4 MB/s eta 0:00:01MB 17.4 MB/s eta 0:00:01████▊                   | 5.0 MB 17.4 MB/s eta 0:00:01██████████▍               | 6.5 MB 17.4 MB/s eta 0:00:01   |███████████████████▎            | 7.6 MB 17.4 MB/s eta 0:00:01��███████████████████▉   | 11.4 MB 17.4 MB/s eta 0:00:01\n",
      "\u001b[?25hRequirement already satisfied: scikit-learn>=0.22 in /home/idies/miniconda3/envs/py38/lib/python3.8/site-packages (from scikit-learn-intelex) (0.23.2)\n",
      "Requirement already satisfied: numpy>=1.15 in /home/idies/miniconda3/envs/py38/lib/python3.8/site-packages (from daal4py==2023.0.1->scikit-learn-intelex) (1.19.4)\n",
      "Collecting daal==2023.0.1\n",
      "  Downloading daal-2023.0.1-py2.py3-none-manylinux1_x86_64.whl (85.5 MB)\n",
      "\u001b[K     |████████████████████████████████| 85.5 MB 43 kB/s s eta 0:00:01                         | 778 kB 15.9 MB/s eta 0:00:06[K     |█                               | 2.7 MB 15.9 MB/s eta 0:00:06                      | 4.1 MB 15.9 MB/s eta 0:00:065.5 MB 15.9 MB/s eta 0:00:066.5 MB 15.9 MB/s eta 0:00:05                          | 7.6 MB 15.9 MB/s eta 0:00:05 |████▉                           | 12.8 MB 15.9 MB/s eta 0:00:055                | 20.2 MB 15.9 MB/s eta 0:00:05                | 21.5 MB 22.2 MB/s eta 0:00:030303              | 25.2 MB 22.2 MB/s eta 0:00:03               | 26.5 MB 22.2 MB/s eta 0:00:03    |██████████▌                     | 28.1 MB 22.2 MB/s eta 0:00:03███████████                     | 29.6 MB 22.2 MB/s eta 0:00:03| 32.9 MB 22.2 MB/s eta 0:00:03██▉                   | 34.2 MB 22.2 MB/s eta 0:00:032.2 MB/s eta 0:00:03�██▋                | 41.8 MB 6.2 MB/s eta 0:00:08              | 43.1 MB 6.2 MB/s eta 0:00:0744.3 MB 6.2 MB/s eta 0:00:07/s eta 0:00:07��█▋              | 47.1 MB 6.2 MB/s eta 0:00:07████████▍             | 49.0 MB 6.2 MB/s eta 0:00:06█▍            | 51.8 MB 6.2 MB/s eta 0:00:06��████████████            | 53.4 MB 6.2 MB/s eta 0:00:06███████████████▊          | 57.9 MB 3.8 MB/s eta 0:00:08██████████████        | 64.1 MB 3.8 MB/s eta 0:00:06.4 MB 3.8 MB/s eta 0:00:06.6 MB 3.8 MB/s eta 0:00:05███████████████████████▍      | 67.9 MB 3.8 MB/s eta 0:00:05��█████████████████▉      | 68.9 MB 3.8 MB/s eta 0:00:05�█████████████████▏     | 69.8 MB 3.8 MB/s eta 0:00:0570.5 MB 3.8 MB/s eta 0:00:04MB/s eta 0:00:04��███▍    | 73.2 MB 3.8 MB/s eta 0:00:04��███████████████████▉    | 74.4 MB 3.8 MB/s eta 0:00:03��██████████████▍   | 75.7 MB 3.8 MB/s eta 0:00:03��███████████████   | 77.7 MB 3.8 MB/s eta 0:00:03    |█████████████████████████████▋  | 79.2 MB 26.7 MB/s eta 0:00:01�█████████████████████████▌| 84.2 MB 26.7 MB/s eta 0:00:01�██████████████████████████| 85.3 MB 26.7 MB/s eta 0:00:01\n",
      "\u001b[?25hRequirement already satisfied: joblib>=0.11 in /home/idies/miniconda3/envs/py38/lib/python3.8/site-packages (from scikit-learn>=0.22->scikit-learn-intelex) (0.17.0)\n",
      "Requirement already satisfied: threadpoolctl>=2.0.0 in /home/idies/miniconda3/envs/py38/lib/python3.8/site-packages (from scikit-learn>=0.22->scikit-learn-intelex) (2.1.0)\n",
      "Requirement already satisfied: scipy>=0.19.1 in /home/idies/miniconda3/envs/py38/lib/python3.8/site-packages (from scikit-learn>=0.22->scikit-learn-intelex) (1.6.0)\n",
      "Collecting tbb==2021.*\n",
      "  Downloading tbb-2021.8.0-py2.py3-none-manylinux1_x86_64.whl (4.0 MB)\n",
      "\u001b[K     |████████████████████████████████| 4.0 MB 25.4 MB/s eta 0:00:011.0 MB 25.4 MB/s eta 0:00:01ta 0:00:01:00:01\n",
      "\u001b[?25hInstalling collected packages: tbb, daal, daal4py, scikit-learn-intelex\n",
      "Successfully installed daal-2023.0.1 daal4py-2023.0.1 scikit-learn-intelex-2023.0.1 tbb-2021.8.0\n"
     ]
    }
   ],
   "source": [
    "import sys\n",
    "!{sys.executable} -m pip install scikit-learn-intelex"
   ]
  },
  {
   "cell_type": "code",
   "execution_count": 16,
   "metadata": {},
   "outputs": [
    {
     "name": "stdout",
     "output_type": "stream",
     "text": [
      "Scikit-learn was successfully globally patched by Intel(R) Extension for Scikit-learn\n"
     ]
    },
    {
     "name": "stderr",
     "output_type": "stream",
     "text": [
      "Intel(R) Extension for Scikit-learn* enabled (https://github.com/intel/scikit-learn-intelex)\n"
     ]
    }
   ],
   "source": [
    "from sklearnex import patch_sklearn\n",
    "patch_sklearn(global_patch=True)"
   ]
  },
  {
   "cell_type": "code",
   "execution_count": 17,
   "metadata": {},
   "outputs": [],
   "source": [
    "X = df.drop(['exoplanet'],axis=1)"
   ]
  },
  {
   "cell_type": "code",
   "execution_count": 18,
   "metadata": {},
   "outputs": [
    {
     "data": {
      "text/plain": [
       "(75458, 236)"
      ]
     },
     "execution_count": 18,
     "metadata": {},
     "output_type": "execute_result"
    }
   ],
   "source": [
    "X.shape"
   ]
  },
  {
   "cell_type": "code",
   "execution_count": 20,
   "metadata": {},
   "outputs": [],
   "source": [
    "y = df[['exoplanet']]"
   ]
  },
  {
   "cell_type": "code",
   "execution_count": 29,
   "metadata": {},
   "outputs": [
    {
     "data": {
      "text/plain": [
       "exoplanet\n",
       "1            40084\n",
       "0            35374\n",
       "dtype: int64"
      ]
     },
     "execution_count": 29,
     "metadata": {},
     "output_type": "execute_result"
    }
   ],
   "source": [
    "y.value_counts()"
   ]
  },
  {
   "cell_type": "code",
   "execution_count": 22,
   "metadata": {},
   "outputs": [],
   "source": [
    "from sklearn.model_selection import train_test_split"
   ]
  },
  {
   "cell_type": "code",
   "execution_count": 23,
   "metadata": {},
   "outputs": [],
   "source": [
    "from sklearn import preprocessing\n",
    "scaler = preprocessing.StandardScaler().fit(X)\n",
    "X_new = scaler.transform(X)"
   ]
  },
  {
   "cell_type": "code",
   "execution_count": 24,
   "metadata": {},
   "outputs": [],
   "source": [
    "X_train, X_test, y_train, y_test = train_test_split(X_new, y, test_size=0.4, random_state=42)"
   ]
  },
  {
   "cell_type": "code",
   "execution_count": 25,
   "metadata": {},
   "outputs": [
    {
     "name": "stdout",
     "output_type": "stream",
     "text": [
      "(45274, 236)\n",
      "(30184, 236)\n"
     ]
    }
   ],
   "source": [
    "print(X_train.shape)\n",
    "print(X_test.shape)"
   ]
  },
  {
   "cell_type": "code",
   "execution_count": 26,
   "metadata": {},
   "outputs": [],
   "source": [
    "from sklearn.neighbors import KNeighborsClassifier\n",
    "from sklearn import metrics"
   ]
  },
  {
   "cell_type": "code",
   "execution_count": 27,
   "metadata": {},
   "outputs": [
    {
     "data": {
      "text/plain": [
       "KNeighborsClassifier(n_jobs=-1, n_neighbors=25)"
      ]
     },
     "execution_count": 27,
     "metadata": {},
     "output_type": "execute_result"
    }
   ],
   "source": [
    "knn = KNeighborsClassifier(n_neighbors=25,n_jobs=-1)\n",
    "knn.fit(X_train,y_train)"
   ]
  },
  {
   "cell_type": "code",
   "execution_count": 28,
   "metadata": {},
   "outputs": [
    {
     "name": "stdout",
     "output_type": "stream",
     "text": [
      "0.6825801749271136\n"
     ]
    }
   ],
   "source": [
    "y_pred = knn.predict(X_test)\n",
    "print(metrics.accuracy_score(y_test,y_pred))"
   ]
  },
  {
   "cell_type": "code",
   "execution_count": 30,
   "metadata": {},
   "outputs": [
    {
     "name": "stdout",
     "output_type": "stream",
     "text": [
      "Selected Features: ['CHAS' 'NOX' 'RM' 'DIS' 'PTRATIO']\n"
     ]
    }
   ],
   "source": [
    "from sklearn.datasets import load_boston\n",
    "from sklearn.feature_selection import RFE\n",
    "from sklearn.linear_model import LinearRegression\n",
    "\n",
    "# Load the Boston Housing dataset\n",
    "boston = load_boston()\n",
    "X, y = boston.data, boston.target\n",
    "\n",
    "# Create a linear regression object\n",
    "lr = LinearRegression()\n",
    "\n",
    "# Create the RFE object and select 5 features\n",
    "rfe = RFE(lr, n_features_to_select=5)\n",
    "\n",
    "# Fit the RFE model and transform the data\n",
    "X_rfe = rfe.fit_transform(X, y)\n",
    "\n",
    "# Print the features selected by RFE\n",
    "print(\"Selected Features:\", boston.feature_names[rfe.support_])\n"
   ]
  },
  {
   "cell_type": "code",
   "execution_count": 2,
   "metadata": {},
   "outputs": [
    {
     "name": "stderr",
     "output_type": "stream",
     "text": [
      "\u001b[32m[I 2023-03-03 14:51:25,518]\u001b[0m A new study created in memory with name: no-name-7186cc7c-282b-4a67-a54c-508cb60d80a9\u001b[0m\n",
      "\u001b[32m[I 2023-03-03 14:51:25,868]\u001b[0m Trial 0 finished with value: 0.01754385964912286 and parameters: {'n_estimators': 51, 'max_depth': 5, 'min_samples_split': 2, 'min_samples_leaf': 4, 'max_features': 21}. Best is trial 0 with value: 0.01754385964912286.\u001b[0m\n",
      "\u001b[32m[I 2023-03-03 14:51:26,776]\u001b[0m Trial 1 finished with value: 0.01754385964912286 and parameters: {'n_estimators': 141, 'max_depth': 7, 'min_samples_split': 5, 'min_samples_leaf': 5, 'max_features': 23}. Best is trial 0 with value: 0.01754385964912286.\u001b[0m\n",
      "\u001b[32m[I 2023-03-03 14:51:27,505]\u001b[0m Trial 2 finished with value: 0.02631578947368418 and parameters: {'n_estimators': 111, 'max_depth': 5, 'min_samples_split': 9, 'min_samples_leaf': 3, 'max_features': 19}. Best is trial 0 with value: 0.01754385964912286.\u001b[0m\n",
      "\u001b[32m[I 2023-03-03 14:51:27,881]\u001b[0m Trial 3 finished with value: 0.03508771929824561 and parameters: {'n_estimators': 59, 'max_depth': 9, 'min_samples_split': 10, 'min_samples_leaf': 3, 'max_features': 24}. Best is trial 0 with value: 0.01754385964912286.\u001b[0m\n",
      "\u001b[32m[I 2023-03-03 14:51:28,707]\u001b[0m Trial 4 finished with value: 0.02631578947368418 and parameters: {'n_estimators': 133, 'max_depth': 2, 'min_samples_split': 2, 'min_samples_leaf': 1, 'max_features': 27}. Best is trial 0 with value: 0.01754385964912286.\u001b[0m\n",
      "\u001b[32m[I 2023-03-03 14:51:29,868]\u001b[0m Trial 5 finished with value: 0.01754385964912286 and parameters: {'n_estimators': 189, 'max_depth': 8, 'min_samples_split': 4, 'min_samples_leaf': 4, 'max_features': 13}. Best is trial 0 with value: 0.01754385964912286.\u001b[0m\n",
      "\u001b[32m[I 2023-03-03 14:51:30,356]\u001b[0m Trial 6 finished with value: 0.02631578947368418 and parameters: {'n_estimators': 68, 'max_depth': 5, 'min_samples_split': 4, 'min_samples_leaf': 4, 'max_features': 28}. Best is trial 0 with value: 0.01754385964912286.\u001b[0m\n",
      "\u001b[32m[I 2023-03-03 14:51:31,236]\u001b[0m Trial 7 finished with value: 0.03508771929824561 and parameters: {'n_estimators': 133, 'max_depth': 6, 'min_samples_split': 8, 'min_samples_leaf': 2, 'max_features': 19}. Best is trial 0 with value: 0.01754385964912286.\u001b[0m\n",
      "\u001b[32m[I 2023-03-03 14:51:32,450]\u001b[0m Trial 8 finished with value: 0.01754385964912286 and parameters: {'n_estimators': 195, 'max_depth': 7, 'min_samples_split': 6, 'min_samples_leaf': 5, 'max_features': 15}. Best is trial 0 with value: 0.01754385964912286.\u001b[0m\n",
      "\u001b[32m[I 2023-03-03 14:51:32,841]\u001b[0m Trial 9 finished with value: 0.03508771929824561 and parameters: {'n_estimators': 64, 'max_depth': 10, 'min_samples_split': 10, 'min_samples_leaf': 1, 'max_features': 8}. Best is trial 0 with value: 0.01754385964912286.\u001b[0m\n",
      "\u001b[32m[I 2023-03-03 14:51:33,493]\u001b[0m Trial 10 finished with value: 0.07017543859649122 and parameters: {'n_estimators': 92, 'max_depth': 2, 'min_samples_split': 2, 'min_samples_leaf': 4, 'max_features': 1}. Best is trial 0 with value: 0.01754385964912286.\u001b[0m\n",
      "\u001b[32m[I 2023-03-03 14:51:34,568]\u001b[0m Trial 11 finished with value: 0.01754385964912286 and parameters: {'n_estimators': 161, 'max_depth': 4, 'min_samples_split': 5, 'min_samples_leaf': 5, 'max_features': 22}. Best is trial 0 with value: 0.01754385964912286.\u001b[0m\n",
      "\u001b[32m[I 2023-03-03 14:51:35,632]\u001b[0m Trial 12 finished with value: 0.01754385964912286 and parameters: {'n_estimators': 157, 'max_depth': 7, 'min_samples_split': 7, 'min_samples_leaf': 5, 'max_features': 30}. Best is trial 0 with value: 0.01754385964912286.\u001b[0m\n",
      "\u001b[32m[I 2023-03-03 14:51:36,375]\u001b[0m Trial 13 finished with value: 0.01754385964912286 and parameters: {'n_estimators': 101, 'max_depth': 4, 'min_samples_split': 3, 'min_samples_leaf': 4, 'max_features': 23}. Best is trial 0 with value: 0.01754385964912286.\u001b[0m\n",
      "\u001b[32m[I 2023-03-03 14:51:37,463]\u001b[0m Trial 14 finished with value: 0.01754385964912286 and parameters: {'n_estimators': 157, 'max_depth': 7, 'min_samples_split': 6, 'min_samples_leaf': 5, 'max_features': 11}. Best is trial 0 with value: 0.01754385964912286.\u001b[0m\n",
      "\u001b[32m[I 2023-03-03 14:51:37,991]\u001b[0m Trial 15 finished with value: 0.01754385964912286 and parameters: {'n_estimators': 79, 'max_depth': 4, 'min_samples_split': 4, 'min_samples_leaf': 4, 'max_features': 19}. Best is trial 0 with value: 0.01754385964912286.\u001b[0m\n",
      "\u001b[32m[I 2023-03-03 14:51:38,835]\u001b[0m Trial 16 finished with value: 0.02631578947368418 and parameters: {'n_estimators': 122, 'max_depth': 6, 'min_samples_split': 3, 'min_samples_leaf': 3, 'max_features': 26}. Best is trial 0 with value: 0.01754385964912286.\u001b[0m\n",
      "\u001b[32m[I 2023-03-03 14:51:39,942]\u001b[0m Trial 17 finished with value: 0.02631578947368418 and parameters: {'n_estimators': 174, 'max_depth': 8, 'min_samples_split': 5, 'min_samples_leaf': 2, 'max_features': 20}. Best is trial 0 with value: 0.01754385964912286.\u001b[0m\n",
      "\u001b[32m[I 2023-03-03 14:51:40,347]\u001b[0m Trial 18 finished with value: 0.03508771929824561 and parameters: {'n_estimators': 50, 'max_depth': 3, 'min_samples_split': 7, 'min_samples_leaf': 5, 'max_features': 16}. Best is trial 0 with value: 0.01754385964912286.\u001b[0m\n",
      "\u001b[32m[I 2023-03-03 14:51:40,907]\u001b[0m Trial 19 finished with value: 0.02631578947368418 and parameters: {'n_estimators': 84, 'max_depth': 5, 'min_samples_split': 3, 'min_samples_leaf': 3, 'max_features': 7}. Best is trial 0 with value: 0.01754385964912286.\u001b[0m\n",
      "\u001b[32m[I 2023-03-03 14:51:41,883]\u001b[0m Trial 20 finished with value: 0.01754385964912286 and parameters: {'n_estimators': 148, 'max_depth': 10, 'min_samples_split': 2, 'min_samples_leaf': 4, 'max_features': 16}. Best is trial 0 with value: 0.01754385964912286.\u001b[0m\n",
      "\u001b[32m[I 2023-03-03 14:51:43,157]\u001b[0m Trial 21 finished with value: 0.01754385964912286 and parameters: {'n_estimators': 196, 'max_depth': 8, 'min_samples_split': 4, 'min_samples_leaf': 4, 'max_features': 13}. Best is trial 0 with value: 0.01754385964912286.\u001b[0m\n",
      "\u001b[32m[I 2023-03-03 14:51:44,338]\u001b[0m Trial 22 finished with value: 0.02631578947368418 and parameters: {'n_estimators': 179, 'max_depth': 8, 'min_samples_split': 5, 'min_samples_leaf': 5, 'max_features': 10}. Best is trial 0 with value: 0.01754385964912286.\u001b[0m\n",
      "\u001b[32m[I 2023-03-03 14:51:45,513]\u001b[0m Trial 23 finished with value: 0.02631578947368418 and parameters: {'n_estimators': 180, 'max_depth': 9, 'min_samples_split': 4, 'min_samples_leaf': 4, 'max_features': 5}. Best is trial 0 with value: 0.01754385964912286.\u001b[0m\n",
      "\u001b[32m[I 2023-03-03 14:51:46,476]\u001b[0m Trial 24 finished with value: 0.01754385964912286 and parameters: {'n_estimators': 143, 'max_depth': 6, 'min_samples_split': 3, 'min_samples_leaf': 5, 'max_features': 21}. Best is trial 0 with value: 0.01754385964912286.\u001b[0m\n",
      "\u001b[32m[I 2023-03-03 14:51:47,230]\u001b[0m Trial 25 finished with value: 0.02631578947368418 and parameters: {'n_estimators': 111, 'max_depth': 9, 'min_samples_split': 6, 'min_samples_leaf': 4, 'max_features': 25}. Best is trial 0 with value: 0.01754385964912286.\u001b[0m\n",
      "\u001b[32m[I 2023-03-03 14:51:48,004]\u001b[0m Trial 26 finished with value: 0.01754385964912286 and parameters: {'n_estimators': 120, 'max_depth': 7, 'min_samples_split': 5, 'min_samples_leaf': 3, 'max_features': 17}. Best is trial 0 with value: 0.01754385964912286.\u001b[0m\n",
      "\u001b[32m[I 2023-03-03 14:51:49,122]\u001b[0m Trial 27 finished with value: 0.01754385964912286 and parameters: {'n_estimators': 166, 'max_depth': 8, 'min_samples_split': 2, 'min_samples_leaf': 4, 'max_features': 13}. Best is trial 0 with value: 0.01754385964912286.\u001b[0m\n",
      "\u001b[32m[I 2023-03-03 14:51:50,342]\u001b[0m Trial 28 finished with value: 0.03508771929824561 and parameters: {'n_estimators': 185, 'max_depth': 5, 'min_samples_split': 3, 'min_samples_leaf': 5, 'max_features': 23}. Best is trial 0 with value: 0.01754385964912286.\u001b[0m\n",
      "\u001b[32m[I 2023-03-03 14:51:51,022]\u001b[0m Trial 29 finished with value: 0.01754385964912286 and parameters: {'n_estimators': 100, 'max_depth': 6, 'min_samples_split': 7, 'min_samples_leaf': 2, 'max_features': 18}. Best is trial 0 with value: 0.01754385964912286.\u001b[0m\n",
      "\u001b[32m[I 2023-03-03 14:51:51,995]\u001b[0m Trial 30 finished with value: 0.01754385964912286 and parameters: {'n_estimators': 142, 'max_depth': 7, 'min_samples_split': 4, 'min_samples_leaf': 3, 'max_features': 13}. Best is trial 0 with value: 0.01754385964912286.\u001b[0m\n"
     ]
    },
    {
     "name": "stderr",
     "output_type": "stream",
     "text": [
      "\u001b[32m[I 2023-03-03 14:51:53,352]\u001b[0m Trial 31 finished with value: 0.04385964912280704 and parameters: {'n_estimators': 199, 'max_depth': 7, 'min_samples_split': 6, 'min_samples_leaf': 5, 'max_features': 14}. Best is trial 0 with value: 0.01754385964912286.\u001b[0m\n",
      "\u001b[32m[I 2023-03-03 14:51:54,624]\u001b[0m Trial 32 finished with value: 0.02631578947368418 and parameters: {'n_estimators': 191, 'max_depth': 9, 'min_samples_split': 8, 'min_samples_leaf': 5, 'max_features': 15}. Best is trial 0 with value: 0.01754385964912286.\u001b[0m\n",
      "\u001b[32m[I 2023-03-03 14:51:55,740]\u001b[0m Trial 33 finished with value: 0.01754385964912286 and parameters: {'n_estimators': 170, 'max_depth': 5, 'min_samples_split': 5, 'min_samples_leaf': 5, 'max_features': 11}. Best is trial 0 with value: 0.01754385964912286.\u001b[0m\n",
      "\u001b[32m[I 2023-03-03 14:51:56,971]\u001b[0m Trial 34 finished with value: 0.01754385964912286 and parameters: {'n_estimators': 188, 'max_depth': 6, 'min_samples_split': 6, 'min_samples_leaf': 4, 'max_features': 21}. Best is trial 0 with value: 0.01754385964912286.\u001b[0m\n",
      "\u001b[32m[I 2023-03-03 14:51:57,883]\u001b[0m Trial 35 finished with value: 0.01754385964912286 and parameters: {'n_estimators': 132, 'max_depth': 8, 'min_samples_split': 6, 'min_samples_leaf': 5, 'max_features': 28}. Best is trial 0 with value: 0.01754385964912286.\u001b[0m\n",
      "\u001b[32m[I 2023-03-03 14:51:59,253]\u001b[0m Trial 36 finished with value: 0.02631578947368418 and parameters: {'n_estimators': 199, 'max_depth': 7, 'min_samples_split': 8, 'min_samples_leaf': 4, 'max_features': 24}. Best is trial 0 with value: 0.01754385964912286.\u001b[0m\n",
      "\u001b[32m[I 2023-03-03 14:51:59,747]\u001b[0m Trial 37 finished with value: 0.01754385964912286 and parameters: {'n_estimators': 71, 'max_depth': 6, 'min_samples_split': 4, 'min_samples_leaf': 4, 'max_features': 17}. Best is trial 0 with value: 0.01754385964912286.\u001b[0m\n",
      "\u001b[32m[I 2023-03-03 14:52:00,918]\u001b[0m Trial 38 finished with value: 0.02631578947368418 and parameters: {'n_estimators': 179, 'max_depth': 9, 'min_samples_split': 2, 'min_samples_leaf': 2, 'max_features': 19}. Best is trial 0 with value: 0.01754385964912286.\u001b[0m\n",
      "\u001b[32m[I 2023-03-03 14:52:01,676]\u001b[0m Trial 39 finished with value: 0.02631578947368418 and parameters: {'n_estimators': 112, 'max_depth': 3, 'min_samples_split': 5, 'min_samples_leaf': 5, 'max_features': 10}. Best is trial 0 with value: 0.01754385964912286.\u001b[0m\n",
      "\u001b[32m[I 2023-03-03 14:52:02,654]\u001b[0m Trial 40 finished with value: 0.04385964912280704 and parameters: {'n_estimators': 149, 'max_depth': 8, 'min_samples_split': 9, 'min_samples_leaf': 1, 'max_features': 4}. Best is trial 0 with value: 0.01754385964912286.\u001b[0m\n",
      "\u001b[32m[I 2023-03-03 14:52:03,862]\u001b[0m Trial 41 finished with value: 0.01754385964912286 and parameters: {'n_estimators': 163, 'max_depth': 4, 'min_samples_split': 5, 'min_samples_leaf': 5, 'max_features': 23}. Best is trial 0 with value: 0.01754385964912286.\u001b[0m\n",
      "\u001b[32m[I 2023-03-03 14:52:04,882]\u001b[0m Trial 42 finished with value: 0.02631578947368418 and parameters: {'n_estimators': 158, 'max_depth': 3, 'min_samples_split': 7, 'min_samples_leaf': 5, 'max_features': 21}. Best is trial 0 with value: 0.01754385964912286.\u001b[0m\n",
      "\u001b[32m[I 2023-03-03 14:52:06,221]\u001b[0m Trial 43 finished with value: 0.01754385964912286 and parameters: {'n_estimators': 191, 'max_depth': 4, 'min_samples_split': 6, 'min_samples_leaf': 5, 'max_features': 27}. Best is trial 0 with value: 0.01754385964912286.\u001b[0m\n",
      "\u001b[32m[I 2023-03-03 14:52:07,115]\u001b[0m Trial 44 finished with value: 0.01754385964912286 and parameters: {'n_estimators': 129, 'max_depth': 5, 'min_samples_split': 5, 'min_samples_leaf': 4, 'max_features': 22}. Best is trial 0 with value: 0.01754385964912286.\u001b[0m\n",
      "\u001b[32m[I 2023-03-03 14:52:08,048]\u001b[0m Trial 45 finished with value: 0.02631578947368418 and parameters: {'n_estimators': 141, 'max_depth': 4, 'min_samples_split': 4, 'min_samples_leaf': 5, 'max_features': 18}. Best is trial 0 with value: 0.01754385964912286.\u001b[0m\n",
      "\u001b[32m[I 2023-03-03 14:52:09,262]\u001b[0m Trial 46 finished with value: 0.01754385964912286 and parameters: {'n_estimators': 172, 'max_depth': 7, 'min_samples_split': 4, 'min_samples_leaf': 3, 'max_features': 30}. Best is trial 0 with value: 0.01754385964912286.\u001b[0m\n",
      "\u001b[32m[I 2023-03-03 14:52:10,295]\u001b[0m Trial 47 finished with value: 0.01754385964912286 and parameters: {'n_estimators': 152, 'max_depth': 5, 'min_samples_split': 3, 'min_samples_leaf': 4, 'max_features': 25}. Best is trial 0 with value: 0.01754385964912286.\u001b[0m\n",
      "\u001b[32m[I 2023-03-03 14:52:11,332]\u001b[0m Trial 48 finished with value: 0.02631578947368418 and parameters: {'n_estimators': 164, 'max_depth': 2, 'min_samples_split': 5, 'min_samples_leaf': 5, 'max_features': 15}. Best is trial 0 with value: 0.01754385964912286.\u001b[0m\n",
      "\u001b[32m[I 2023-03-03 14:52:11,741]\u001b[0m Trial 49 finished with value: 0.01754385964912286 and parameters: {'n_estimators': 54, 'max_depth': 6, 'min_samples_split': 6, 'min_samples_leaf': 4, 'max_features': 20}. Best is trial 0 with value: 0.01754385964912286.\u001b[0m\n"
     ]
    },
    {
     "name": "stdout",
     "output_type": "stream",
     "text": [
      "Best hyperparameters: {'n_estimators': 51, 'max_depth': 5, 'min_samples_split': 2, 'min_samples_leaf': 4, 'max_features': 21}\n"
     ]
    }
   ],
   "source": [
    "import numpy as np\n",
    "from sklearn.datasets import load_breast_cancer\n",
    "from sklearn.model_selection import train_test_split\n",
    "from sklearn.metrics import accuracy_score\n",
    "import optuna\n",
    "from sklearn.ensemble import RandomForestClassifier\n",
    "\n",
    "# Load the Breast Cancer dataset\n",
    "data = load_breast_cancer()\n",
    "X, y = data.data, data.target\n",
    "\n",
    "# Split the data into training and testing sets\n",
    "X_train, X_test, y_train, y_test = train_test_split(X, y, test_size=0.2, random_state=0)\n",
    "\n",
    "# Define the objective function to minimize\n",
    "def objective(trial):\n",
    "    n_estimators = trial.suggest_int('n_estimators', 50, 200)\n",
    "    max_depth = trial.suggest_int('max_depth', 2, 10)\n",
    "    min_samples_split = trial.suggest_int('min_samples_split', 2, 10)\n",
    "    min_samples_leaf = trial.suggest_int('min_samples_leaf', 1, 5)\n",
    "    max_features = trial.suggest_int('max_features', 1, 30)\n",
    "\n",
    "    clf = RandomForestClassifier(n_estimators=n_estimators, max_depth=max_depth,\n",
    "                                 min_samples_split=min_samples_split, min_samples_leaf=min_samples_leaf,\n",
    "                                 max_features=max_features,n_jobs=-1)\n",
    "\n",
    "    clf.fit(X_train, y_train)\n",
    "    y_pred = clf.predict(X_test)\n",
    "    score = accuracy_score(y_test, y_pred)\n",
    "    return 1 - score\n",
    "\n",
    "# Create a study object and run the optimization\n",
    "study = optuna.create_study(direction='minimize')\n",
    "study.optimize(objective, n_trials=50)\n",
    "\n",
    "# Print the best hyperparameters\n",
    "print(\"Best hyperparameters:\", study.best_params)\n",
    "\n"
   ]
  },
  {
   "cell_type": "code",
   "execution_count": null,
   "metadata": {},
   "outputs": [
    {
     "name": "stdout",
     "output_type": "stream",
     "text": [
      "Requirement already satisfied: optuna in /home/idies/miniconda3/envs/py38/lib/python3.8/site-packages (3.1.0)\r\n"
     ]
    }
   ],
   "source": [
    "import sys\n",
    "!{sys.executable} -m pip install optuna"
   ]
  },
  {
   "cell_type": "code",
   "execution_count": 1,
   "metadata": {},
   "outputs": [
    {
     "name": "stdout",
     "output_type": "stream",
     "text": [
      "Collecting hyperopt\n",
      "  Downloading hyperopt-0.2.7-py2.py3-none-any.whl (1.6 MB)\n",
      "\u001b[K     |████████████████████████████████| 1.6 MB 9.4 MB/s eta 0:00:01\n",
      "\u001b[?25hRequirement already satisfied: scipy in /home/idies/miniconda3/envs/py38/lib/python3.8/site-packages (from hyperopt) (1.6.0)\n",
      "Requirement already satisfied: tqdm in /home/idies/miniconda3/envs/py38/lib/python3.8/site-packages (from hyperopt) (4.50.2)\n",
      "Requirement already satisfied: networkx>=2.2 in /home/idies/miniconda3/envs/py38/lib/python3.8/site-packages (from hyperopt) (2.5)\n",
      "Requirement already satisfied: cloudpickle in /home/idies/miniconda3/envs/py38/lib/python3.8/site-packages (from hyperopt) (1.6.0)\n",
      "Collecting py4j\n",
      "  Downloading py4j-0.10.9.7-py2.py3-none-any.whl (200 kB)\n",
      "\u001b[K     |████████████████████████████████| 200 kB 18.6 MB/s eta 0:00:01█████████ | 194 kB 18.6 MB/s eta 0:00:01\n",
      "\u001b[?25hRequirement already satisfied: six in /home/idies/miniconda3/envs/py38/lib/python3.8/site-packages (from hyperopt) (1.15.0)\n",
      "Requirement already satisfied: numpy in /home/idies/miniconda3/envs/py38/lib/python3.8/site-packages (from hyperopt) (1.19.4)\n",
      "Requirement already satisfied: future in /home/idies/miniconda3/envs/py38/lib/python3.8/site-packages (from hyperopt) (0.18.2)\n",
      "Requirement already satisfied: decorator>=4.3.0 in /home/idies/miniconda3/envs/py38/lib/python3.8/site-packages (from networkx>=2.2->hyperopt) (4.4.2)\n",
      "Installing collected packages: py4j, hyperopt\n",
      "Successfully installed hyperopt-0.2.7 py4j-0.10.9.7\n"
     ]
    }
   ],
   "source": [
    "import sys\n",
    "!{sys.executable} -m pip install hyperopt"
   ]
  },
  {
   "cell_type": "code",
   "execution_count": 6,
   "metadata": {},
   "outputs": [
    {
     "name": "stdout",
     "output_type": "stream",
     "text": [
      "100%|██████████| 50/50 [00:36<00:00,  1.36trial/s, best loss: 0.02631578947368418]\n",
      "Best hyperparameters: {'max_depth': 10.0, 'max_features': 22.0, 'min_samples_leaf': 0.13, 'min_samples_split': 0.6, 'n_estimators': 83.0}\n"
     ]
    }
   ],
   "source": [
    "import numpy as np\n",
    "from sklearn.datasets import load_breast_cancer\n",
    "from sklearn.model_selection import train_test_split\n",
    "from sklearn.metrics import accuracy_score\n",
    "from hyperopt import fmin, tpe, hp, Trials\n",
    "from sklearn.ensemble import RandomForestClassifier\n",
    "from hyperopt.pyll import scope as ho_scope\n",
    "# Load the Breast Cancer dataset\n",
    "data = load_breast_cancer()\n",
    "X, y = data.data, data.target\n",
    "\n",
    "# Split the data into training and testing sets\n",
    "X_train, X_test, y_train, y_test = train_test_split(X, y, test_size=0.2, random_state=0)\n",
    "\n",
    "# Define the search space for hyperparameters\n",
    "space = {\n",
    "    'n_estimators': ho_scope.int(hp.quniform('n_estimators', 50, 200, 1)),\n",
    "    'max_depth': hp.quniform('max_depth', 2, 10, 1),\n",
    "    'min_samples_split': hp.quniform('min_samples_split', 0.1, 1, 0.01),\n",
    "    'min_samples_leaf': hp.quniform('min_samples_leaf', 0.1, 0.5, 0.01),\n",
    "    'max_features': ho_scope.int(hp.quniform('max_features', 1, 30, 1))\n",
    "}\n",
    "\n",
    "# Define the objective function to minimize\n",
    "def objective(params):\n",
    "    clf = RandomForestClassifier(**params,n_jobs=-1)\n",
    "    clf.fit(X_train, y_train)\n",
    "    y_pred = clf.predict(X_test)\n",
    "    score = accuracy_score(y_test, y_pred)\n",
    "    return 1 - score\n",
    "\n",
    "# Define the Trials object to keep track of the optimization process\n",
    "trials = Trials()\n",
    "\n",
    "# Run the hyperparameter optimization using Tree-structured Parzen Estimator (TPE) algorithm\n",
    "best_params = fmin(objective, space, algo=tpe.suggest, max_evals=50, trials=trials)\n",
    "\n",
    "# Print the best hyperparameters\n",
    "print(\"Best hyperparameters:\", best_params)\n"
   ]
  },
  {
   "cell_type": "code",
   "execution_count": 29,
   "metadata": {},
   "outputs": [
    {
     "name": "stdout",
     "output_type": "stream",
     "text": [
      "{'n_estimators': <hyperopt.pyll.base.Apply object at 0x7fb41caf5ee0>, 'max_depth': <hyperopt.pyll.base.Apply object at 0x7fb41c78c880>, 'min_samples_split': <hyperopt.pyll.base.Apply object at 0x7fb41c78ca00>, 'min_samples_leaf': <hyperopt.pyll.base.Apply object at 0x7fb41c78cb50>, 'max_features': <hyperopt.pyll.base.Apply object at 0x7fb41c78c9a0>}\n"
     ]
    }
   ],
   "source": [
    "import numpy as np\n",
    "from sklearn.datasets import load_breast_cancer\n",
    "from sklearn.model_selection import train_test_split\n",
    "from sklearn.metrics import accuracy_score\n",
    "from hyperopt import fmin, tpe, hp, Trials\n",
    "from sklearn.ensemble import RandomForestClassifier\n",
    "\n",
    "\n",
    "data = load_breast_cancer()\n",
    "X, y = data.data, data.target\n",
    "\n",
    "\n",
    "X_train, X_test, y_train, y_test = train_test_split(X, y, test_size=0.2, random_state=0)\n",
    "\n",
    "\n",
    "space = {\n",
    "    'n_estimators': hp.choice('n_estimators', range(50, 200)),\n",
    "    'max_depth': hp.quniform('max_depth', 2, 10, 1),\n",
    "    'min_samples_split': hp.quniform('min_samples_split', 0.1, 1, 0.01),\n",
    "    'min_samples_leaf': hp.uniform('min_samples_leaf', 1, 10, 2),\n",
    "    'max_features': hp.quniform('max_features', 1, 30, 1)\n",
    "}\n",
    "\n",
    "\n",
    "print(space)"
   ]
  },
  {
   "cell_type": "code",
   "execution_count": 30,
   "metadata": {},
   "outputs": [
    {
     "name": "stdout",
     "output_type": "stream",
     "text": [
      "  0%|          | 0/50 [00:00<?, ?trial/s, best loss=?]\n"
     ]
    },
    {
     "ename": "TypeError",
     "evalue": "ap_uniform_sampler() got multiple values for argument 'size'",
     "output_type": "error",
     "traceback": [
      "\u001b[0;31m\u001b[0m",
      "\u001b[0;31mTypeError\u001b[0mTraceback (most recent call last)",
      "\u001b[0;32m<ipython-input-30-52dca74c92cf>\u001b[0m in \u001b[0;36m<module>\u001b[0;34m\u001b[0m\n\u001b[1;32m     10\u001b[0m \u001b[0;34m\u001b[0m\u001b[0m\n\u001b[1;32m     11\u001b[0m \u001b[0;34m\u001b[0m\u001b[0m\n\u001b[0;32m---> 12\u001b[0;31m \u001b[0mbest_params\u001b[0m \u001b[0;34m=\u001b[0m \u001b[0mfmin\u001b[0m\u001b[0;34m(\u001b[0m\u001b[0mobjective\u001b[0m\u001b[0;34m,\u001b[0m \u001b[0mspace\u001b[0m\u001b[0;34m,\u001b[0m \u001b[0malgo\u001b[0m\u001b[0;34m=\u001b[0m\u001b[0mtpe\u001b[0m\u001b[0;34m.\u001b[0m\u001b[0msuggest\u001b[0m\u001b[0;34m,\u001b[0m \u001b[0mmax_evals\u001b[0m\u001b[0;34m=\u001b[0m\u001b[0;36m50\u001b[0m\u001b[0;34m,\u001b[0m \u001b[0mtrials\u001b[0m\u001b[0;34m=\u001b[0m\u001b[0mtrials\u001b[0m\u001b[0;34m)\u001b[0m\u001b[0;34m\u001b[0m\u001b[0;34m\u001b[0m\u001b[0m\n\u001b[0m\u001b[1;32m     13\u001b[0m \u001b[0;34m\u001b[0m\u001b[0m\n\u001b[1;32m     14\u001b[0m \u001b[0;34m\u001b[0m\u001b[0m\n",
      "\u001b[0;32m~/miniconda3/envs/py38/lib/python3.8/site-packages/hyperopt/fmin.py\u001b[0m in \u001b[0;36mfmin\u001b[0;34m(fn, space, algo, max_evals, timeout, loss_threshold, trials, rstate, allow_trials_fmin, pass_expr_memo_ctrl, catch_eval_exceptions, verbose, return_argmin, points_to_evaluate, max_queue_len, show_progressbar, early_stop_fn, trials_save_file)\u001b[0m\n\u001b[1;32m    538\u001b[0m \u001b[0;34m\u001b[0m\u001b[0m\n\u001b[1;32m    539\u001b[0m     \u001b[0;32mif\u001b[0m \u001b[0mallow_trials_fmin\u001b[0m \u001b[0;32mand\u001b[0m \u001b[0mhasattr\u001b[0m\u001b[0;34m(\u001b[0m\u001b[0mtrials\u001b[0m\u001b[0;34m,\u001b[0m \u001b[0;34m\"fmin\"\u001b[0m\u001b[0;34m)\u001b[0m\u001b[0;34m:\u001b[0m\u001b[0;34m\u001b[0m\u001b[0;34m\u001b[0m\u001b[0m\n\u001b[0;32m--> 540\u001b[0;31m         return trials.fmin(\n\u001b[0m\u001b[1;32m    541\u001b[0m             \u001b[0mfn\u001b[0m\u001b[0;34m,\u001b[0m\u001b[0;34m\u001b[0m\u001b[0;34m\u001b[0m\u001b[0m\n\u001b[1;32m    542\u001b[0m             \u001b[0mspace\u001b[0m\u001b[0;34m,\u001b[0m\u001b[0;34m\u001b[0m\u001b[0;34m\u001b[0m\u001b[0m\n",
      "\u001b[0;32m~/miniconda3/envs/py38/lib/python3.8/site-packages/hyperopt/base.py\u001b[0m in \u001b[0;36mfmin\u001b[0;34m(self, fn, space, algo, max_evals, timeout, loss_threshold, max_queue_len, rstate, verbose, pass_expr_memo_ctrl, catch_eval_exceptions, return_argmin, show_progressbar, early_stop_fn, trials_save_file)\u001b[0m\n\u001b[1;32m    669\u001b[0m         \u001b[0;32mfrom\u001b[0m \u001b[0;34m.\u001b[0m\u001b[0mfmin\u001b[0m \u001b[0;32mimport\u001b[0m \u001b[0mfmin\u001b[0m\u001b[0;34m\u001b[0m\u001b[0;34m\u001b[0m\u001b[0m\n\u001b[1;32m    670\u001b[0m \u001b[0;34m\u001b[0m\u001b[0m\n\u001b[0;32m--> 671\u001b[0;31m         return fmin(\n\u001b[0m\u001b[1;32m    672\u001b[0m             \u001b[0mfn\u001b[0m\u001b[0;34m,\u001b[0m\u001b[0;34m\u001b[0m\u001b[0;34m\u001b[0m\u001b[0m\n\u001b[1;32m    673\u001b[0m             \u001b[0mspace\u001b[0m\u001b[0;34m,\u001b[0m\u001b[0;34m\u001b[0m\u001b[0;34m\u001b[0m\u001b[0m\n",
      "\u001b[0;32m~/miniconda3/envs/py38/lib/python3.8/site-packages/hyperopt/fmin.py\u001b[0m in \u001b[0;36mfmin\u001b[0;34m(fn, space, algo, max_evals, timeout, loss_threshold, trials, rstate, allow_trials_fmin, pass_expr_memo_ctrl, catch_eval_exceptions, verbose, return_argmin, points_to_evaluate, max_queue_len, show_progressbar, early_stop_fn, trials_save_file)\u001b[0m\n\u001b[1;32m    584\u001b[0m \u001b[0;34m\u001b[0m\u001b[0m\n\u001b[1;32m    585\u001b[0m     \u001b[0;31m# next line is where the fmin is actually executed\u001b[0m\u001b[0;34m\u001b[0m\u001b[0;34m\u001b[0m\u001b[0;34m\u001b[0m\u001b[0m\n\u001b[0;32m--> 586\u001b[0;31m     \u001b[0mrval\u001b[0m\u001b[0;34m.\u001b[0m\u001b[0mexhaust\u001b[0m\u001b[0;34m(\u001b[0m\u001b[0;34m)\u001b[0m\u001b[0;34m\u001b[0m\u001b[0;34m\u001b[0m\u001b[0m\n\u001b[0m\u001b[1;32m    587\u001b[0m \u001b[0;34m\u001b[0m\u001b[0m\n\u001b[1;32m    588\u001b[0m     \u001b[0;32mif\u001b[0m \u001b[0mreturn_argmin\u001b[0m\u001b[0;34m:\u001b[0m\u001b[0;34m\u001b[0m\u001b[0;34m\u001b[0m\u001b[0m\n",
      "\u001b[0;32m~/miniconda3/envs/py38/lib/python3.8/site-packages/hyperopt/fmin.py\u001b[0m in \u001b[0;36mexhaust\u001b[0;34m(self)\u001b[0m\n\u001b[1;32m    362\u001b[0m     \u001b[0;32mdef\u001b[0m \u001b[0mexhaust\u001b[0m\u001b[0;34m(\u001b[0m\u001b[0mself\u001b[0m\u001b[0;34m)\u001b[0m\u001b[0;34m:\u001b[0m\u001b[0;34m\u001b[0m\u001b[0;34m\u001b[0m\u001b[0m\n\u001b[1;32m    363\u001b[0m         \u001b[0mn_done\u001b[0m \u001b[0;34m=\u001b[0m \u001b[0mlen\u001b[0m\u001b[0;34m(\u001b[0m\u001b[0mself\u001b[0m\u001b[0;34m.\u001b[0m\u001b[0mtrials\u001b[0m\u001b[0;34m)\u001b[0m\u001b[0;34m\u001b[0m\u001b[0;34m\u001b[0m\u001b[0m\n\u001b[0;32m--> 364\u001b[0;31m         \u001b[0mself\u001b[0m\u001b[0;34m.\u001b[0m\u001b[0mrun\u001b[0m\u001b[0;34m(\u001b[0m\u001b[0mself\u001b[0m\u001b[0;34m.\u001b[0m\u001b[0mmax_evals\u001b[0m \u001b[0;34m-\u001b[0m \u001b[0mn_done\u001b[0m\u001b[0;34m,\u001b[0m \u001b[0mblock_until_done\u001b[0m\u001b[0;34m=\u001b[0m\u001b[0mself\u001b[0m\u001b[0;34m.\u001b[0m\u001b[0masynchronous\u001b[0m\u001b[0;34m)\u001b[0m\u001b[0;34m\u001b[0m\u001b[0;34m\u001b[0m\u001b[0m\n\u001b[0m\u001b[1;32m    365\u001b[0m         \u001b[0mself\u001b[0m\u001b[0;34m.\u001b[0m\u001b[0mtrials\u001b[0m\u001b[0;34m.\u001b[0m\u001b[0mrefresh\u001b[0m\u001b[0;34m(\u001b[0m\u001b[0;34m)\u001b[0m\u001b[0;34m\u001b[0m\u001b[0;34m\u001b[0m\u001b[0m\n\u001b[1;32m    366\u001b[0m         \u001b[0;32mreturn\u001b[0m \u001b[0mself\u001b[0m\u001b[0;34m\u001b[0m\u001b[0;34m\u001b[0m\u001b[0m\n",
      "\u001b[0;32m~/miniconda3/envs/py38/lib/python3.8/site-packages/hyperopt/fmin.py\u001b[0m in \u001b[0;36mrun\u001b[0;34m(self, N, block_until_done)\u001b[0m\n\u001b[1;32m    276\u001b[0m                     \u001b[0;31m# `new_trials`. This is the core of `run`, all the rest is just\u001b[0m\u001b[0;34m\u001b[0m\u001b[0;34m\u001b[0m\u001b[0;34m\u001b[0m\u001b[0m\n\u001b[1;32m    277\u001b[0m                     \u001b[0;31m# processes orchestration\u001b[0m\u001b[0;34m\u001b[0m\u001b[0;34m\u001b[0m\u001b[0;34m\u001b[0m\u001b[0m\n\u001b[0;32m--> 278\u001b[0;31m                     new_trials = algo(\n\u001b[0m\u001b[1;32m    279\u001b[0m                         \u001b[0mnew_ids\u001b[0m\u001b[0;34m,\u001b[0m \u001b[0mself\u001b[0m\u001b[0;34m.\u001b[0m\u001b[0mdomain\u001b[0m\u001b[0;34m,\u001b[0m \u001b[0mtrials\u001b[0m\u001b[0;34m,\u001b[0m \u001b[0mself\u001b[0m\u001b[0;34m.\u001b[0m\u001b[0mrstate\u001b[0m\u001b[0;34m.\u001b[0m\u001b[0mintegers\u001b[0m\u001b[0;34m(\u001b[0m\u001b[0;36m2\u001b[0m \u001b[0;34m**\u001b[0m \u001b[0;36m31\u001b[0m \u001b[0;34m-\u001b[0m \u001b[0;36m1\u001b[0m\u001b[0;34m)\u001b[0m\u001b[0;34m\u001b[0m\u001b[0;34m\u001b[0m\u001b[0m\n\u001b[1;32m    280\u001b[0m                     )\n",
      "\u001b[0;32m~/miniconda3/envs/py38/lib/python3.8/site-packages/hyperopt/tpe.py\u001b[0m in \u001b[0;36msuggest\u001b[0;34m(new_ids, domain, trials, seed, prior_weight, n_startup_jobs, n_EI_candidates, gamma, verbose)\u001b[0m\n\u001b[1;32m    857\u001b[0m     \u001b[0mt0\u001b[0m \u001b[0;34m=\u001b[0m \u001b[0mtime\u001b[0m\u001b[0;34m.\u001b[0m\u001b[0mtime\u001b[0m\u001b[0;34m(\u001b[0m\u001b[0;34m)\u001b[0m\u001b[0;34m\u001b[0m\u001b[0;34m\u001b[0m\u001b[0m\n\u001b[1;32m    858\u001b[0m     \u001b[0;31m# use build_posterior_wrapper to create the pyll nodes\u001b[0m\u001b[0;34m\u001b[0m\u001b[0;34m\u001b[0m\u001b[0;34m\u001b[0m\u001b[0m\n\u001b[0;32m--> 859\u001b[0;31m     observed, observed_loss, posterior = build_posterior_wrapper(\n\u001b[0m\u001b[1;32m    860\u001b[0m         \u001b[0mdomain\u001b[0m\u001b[0;34m,\u001b[0m \u001b[0mprior_weight\u001b[0m\u001b[0;34m,\u001b[0m \u001b[0mgamma\u001b[0m\u001b[0;34m\u001b[0m\u001b[0;34m\u001b[0m\u001b[0m\n\u001b[1;32m    861\u001b[0m     )\n",
      "\u001b[0;32m~/miniconda3/envs/py38/lib/python3.8/site-packages/hyperopt/tpe.py\u001b[0m in \u001b[0;36mbuild_posterior_wrapper\u001b[0;34m(domain, prior_weight, gamma)\u001b[0m\n\u001b[1;32m    811\u001b[0m     \u001b[0mobserved_loss\u001b[0m \u001b[0;34m=\u001b[0m \u001b[0;34m{\u001b[0m\u001b[0;34m\"idxs\"\u001b[0m\u001b[0;34m:\u001b[0m \u001b[0mpyll\u001b[0m\u001b[0;34m.\u001b[0m\u001b[0mLiteral\u001b[0m\u001b[0;34m(\u001b[0m\u001b[0;34m)\u001b[0m\u001b[0;34m,\u001b[0m \u001b[0;34m\"vals\"\u001b[0m\u001b[0;34m:\u001b[0m \u001b[0mpyll\u001b[0m\u001b[0;34m.\u001b[0m\u001b[0mLiteral\u001b[0m\u001b[0;34m(\u001b[0m\u001b[0;34m)\u001b[0m\u001b[0;34m}\u001b[0m\u001b[0;34m\u001b[0m\u001b[0;34m\u001b[0m\u001b[0m\n\u001b[1;32m    812\u001b[0m \u001b[0;34m\u001b[0m\u001b[0m\n\u001b[0;32m--> 813\u001b[0;31m     posterior = build_posterior(\n\u001b[0m\u001b[1;32m    814\u001b[0m         \u001b[0;31m# -- vectorized clone of bandit template\u001b[0m\u001b[0;34m\u001b[0m\u001b[0;34m\u001b[0m\u001b[0;34m\u001b[0m\u001b[0m\n\u001b[1;32m    815\u001b[0m         \u001b[0mdomain\u001b[0m\u001b[0;34m.\u001b[0m\u001b[0mvh\u001b[0m\u001b[0;34m.\u001b[0m\u001b[0mv_expr\u001b[0m\u001b[0;34m,\u001b[0m\u001b[0;34m\u001b[0m\u001b[0;34m\u001b[0m\u001b[0m\n",
      "\u001b[0;32m~/miniconda3/envs/py38/lib/python3.8/site-packages/hyperopt/tpe.py\u001b[0m in \u001b[0;36mbuild_posterior\u001b[0;34m(specs, prior_idxs, prior_vals, obs_idxs, obs_vals, obs_loss_idxs, obs_loss_vals, oloss_gamma, prior_weight)\u001b[0m\n\u001b[1;32m    703\u001b[0m                 \u001b[0mb_args\u001b[0m \u001b[0;34m=\u001b[0m \u001b[0;34m[\u001b[0m\u001b[0mobs_below\u001b[0m\u001b[0;34m,\u001b[0m \u001b[0mprior_weight\u001b[0m\u001b[0;34m]\u001b[0m \u001b[0;34m+\u001b[0m \u001b[0maa\u001b[0m\u001b[0;34m\u001b[0m\u001b[0;34m\u001b[0m\u001b[0m\n\u001b[1;32m    704\u001b[0m                 \u001b[0mnamed_args\u001b[0m \u001b[0;34m=\u001b[0m \u001b[0;34m{\u001b[0m\u001b[0mkw\u001b[0m\u001b[0;34m:\u001b[0m \u001b[0mmemo\u001b[0m\u001b[0;34m[\u001b[0m\u001b[0marg\u001b[0m\u001b[0;34m]\u001b[0m \u001b[0;32mfor\u001b[0m \u001b[0;34m(\u001b[0m\u001b[0mkw\u001b[0m\u001b[0;34m,\u001b[0m \u001b[0marg\u001b[0m\u001b[0;34m)\u001b[0m \u001b[0;32min\u001b[0m \u001b[0mnode\u001b[0m\u001b[0;34m.\u001b[0m\u001b[0mnamed_args\u001b[0m\u001b[0;34m}\u001b[0m\u001b[0;34m\u001b[0m\u001b[0;34m\u001b[0m\u001b[0m\n\u001b[0;32m--> 705\u001b[0;31m                 \u001b[0mb_post\u001b[0m \u001b[0;34m=\u001b[0m \u001b[0mfn\u001b[0m\u001b[0;34m(\u001b[0m\u001b[0;34m*\u001b[0m\u001b[0mb_args\u001b[0m\u001b[0;34m,\u001b[0m \u001b[0;34m**\u001b[0m\u001b[0mnamed_args\u001b[0m\u001b[0;34m)\u001b[0m\u001b[0;34m\u001b[0m\u001b[0;34m\u001b[0m\u001b[0m\n\u001b[0m\u001b[1;32m    706\u001b[0m                 \u001b[0ma_args\u001b[0m \u001b[0;34m=\u001b[0m \u001b[0;34m[\u001b[0m\u001b[0mobs_above\u001b[0m\u001b[0;34m,\u001b[0m \u001b[0mprior_weight\u001b[0m\u001b[0;34m]\u001b[0m \u001b[0;34m+\u001b[0m \u001b[0maa\u001b[0m\u001b[0;34m\u001b[0m\u001b[0;34m\u001b[0m\u001b[0m\n\u001b[1;32m    707\u001b[0m                 \u001b[0ma_post\u001b[0m \u001b[0;34m=\u001b[0m \u001b[0mfn\u001b[0m\u001b[0;34m(\u001b[0m\u001b[0;34m*\u001b[0m\u001b[0ma_args\u001b[0m\u001b[0;34m,\u001b[0m \u001b[0;34m**\u001b[0m\u001b[0mnamed_args\u001b[0m\u001b[0;34m)\u001b[0m\u001b[0;34m\u001b[0m\u001b[0;34m\u001b[0m\u001b[0m\n",
      "\u001b[0;31mTypeError\u001b[0m: ap_uniform_sampler() got multiple values for argument 'size'"
     ]
    }
   ],
   "source": [
    "def objective(params):\n",
    "    clf = RandomForestClassifier(**params)\n",
    "    clf.fit(X_train, y_train)\n",
    "    y_pred = clf.predict(X_test)\n",
    "    score = accuracy_score(y_test, y_pred)\n",
    "    return 1 - score\n",
    "\n",
    "\n",
    "trials = Trials()\n",
    "\n",
    "\n",
    "best_params = fmin(objective, space, algo=tpe.suggest, max_evals=50, trials=trials)\n",
    "\n",
    "\n",
    "print(\"Best hyperparameters:\", best_params)"
   ]
  },
  {
   "cell_type": "code",
   "execution_count": null,
   "metadata": {},
   "outputs": [
    {
     "name": "stdout",
     "output_type": "stream",
     "text": [
      " 52%|█████▏    | 26/50 [02:58<02:42,  6.78s/trial, best loss: 0.04222222222222216]"
     ]
    }
   ],
   "source": [
    "import numpy as np\n",
    "import pandas as pd\n",
    "from sklearn.datasets import load_iris\n",
    "from sklearn.model_selection import cross_val_score, RepeatedKFold\n",
    "from sklearn.ensemble import RandomForestClassifier\n",
    "from hyperopt import fmin, tpe, hp, Trials\n",
    "from hyperopt.pyll import scope as ho_scope\n",
    "# Load the Iris dataset\n",
    "iris = load_iris()\n",
    "X = iris.data\n",
    "y = iris.target\n",
    "\n",
    "# Define the search space for hyperparameters\n",
    "space = {\n",
    "    'n_estimators': ho_scope.int(hp.quniform('n_estimators', 50, 200, 10)),\n",
    "    'max_depth': hp.quniform('max_depth', 1, 10, 1),\n",
    "    'min_samples_split': hp.uniform('min_samples_split', 0, 1),\n",
    "    'min_samples_leaf': hp.uniform('min_samples_leaf', 0, 0.5),\n",
    "}\n",
    "\n",
    "# Define the objective function to be minimized\n",
    "def objective(params):\n",
    "    clf = RandomForestClassifier(**params)\n",
    "    cv = RepeatedKFold(n_splits=5, n_repeats=3, random_state=42)\n",
    "    accs = cross_val_score(clf, X, y, cv=cv)\n",
    "    return 1 - np.mean(accs)\n",
    "\n",
    "# Define the algorithm for optimization\n",
    "algo = tpe.suggest\n",
    "\n",
    "# Define the trials object to store intermediate results\n",
    "trials = Trials()\n",
    "\n",
    "# Run the hyperparameter optimization\n",
    "best = fmin(fn=objective, space=space, algo=algo, trials=trials, max_evals=50, verbose=1)\n",
    "\n",
    "# Print the best hyperparameters found\n",
    "print('Best hyperparameters:')\n",
    "print(best)\n"
   ]
  },
  {
   "cell_type": "code",
   "execution_count": null,
   "metadata": {},
   "outputs": [],
   "source": []
  }
 ],
 "metadata": {
  "kernelspec": {
   "display_name": "Python 3.8 (py38)",
   "language": "python",
   "name": "py38"
  },
  "language_info": {
   "codemirror_mode": {
    "name": "ipython",
    "version": 3
   },
   "file_extension": ".py",
   "mimetype": "text/x-python",
   "name": "python",
   "nbconvert_exporter": "python",
   "pygments_lexer": "ipython3",
   "version": "3.8.5"
  }
 },
 "nbformat": 4,
 "nbformat_minor": 4
}

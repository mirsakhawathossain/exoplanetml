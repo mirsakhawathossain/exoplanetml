{
 "cells": [
  {
   "cell_type": "code",
   "execution_count": 1,
   "metadata": {
    "execution": {
     "iopub.execute_input": "2023-01-19T03:15:55.200871Z",
     "iopub.status.busy": "2023-01-19T03:15:55.199249Z",
     "iopub.status.idle": "2023-01-19T03:15:55.204218Z",
     "shell.execute_reply": "2023-01-19T03:15:55.205436Z"
    }
   },
   "outputs": [],
   "source": [
    "import warnings\n",
    "warnings.filterwarnings('ignore')"
   ]
  },
  {
   "cell_type": "code",
   "execution_count": 2,
   "metadata": {
    "execution": {
     "iopub.execute_input": "2023-01-19T03:15:55.214662Z",
     "iopub.status.busy": "2023-01-19T03:15:55.213443Z",
     "iopub.status.idle": "2023-01-19T03:15:56.202358Z",
     "shell.execute_reply": "2023-01-19T03:15:56.201218Z"
    }
   },
   "outputs": [],
   "source": [
    " import pandas as pd"
   ]
  },
  {
   "cell_type": "code",
   "execution_count": 3,
   "metadata": {
    "execution": {
     "iopub.execute_input": "2023-01-19T03:15:56.213686Z",
     "iopub.status.busy": "2023-01-19T03:15:56.212466Z",
     "iopub.status.idle": "2023-01-19T03:17:12.677258Z",
     "shell.execute_reply": "2023-01-19T03:17:12.675711Z"
    }
   },
   "outputs": [],
   "source": [
    "exoplanet_data = pd.read_csv('https://gitlab.com/mirsakhawathossain/exodata/-/raw/main/dataset/exodata.csv').sort_index(axis=0)"
   ]
  },
  {
   "cell_type": "code",
   "execution_count": 4,
   "metadata": {
    "execution": {
     "iopub.execute_input": "2023-01-19T03:17:12.695050Z",
     "iopub.status.busy": "2023-01-19T03:17:12.693839Z",
     "iopub.status.idle": "2023-01-19T03:17:12.760737Z",
     "shell.execute_reply": "2023-01-19T03:17:12.759513Z"
    }
   },
   "outputs": [
    {
     "data": {
      "text/html": [
       "<div>\n",
       "<style scoped>\n",
       "    .dataframe tbody tr th:only-of-type {\n",
       "        vertical-align: middle;\n",
       "    }\n",
       "\n",
       "    .dataframe tbody tr th {\n",
       "        vertical-align: top;\n",
       "    }\n",
       "\n",
       "    .dataframe thead th {\n",
       "        text-align: right;\n",
       "    }\n",
       "</style>\n",
       "<table border=\"1\" class=\"dataframe\">\n",
       "  <thead>\n",
       "    <tr style=\"text-align: right;\">\n",
       "      <th></th>\n",
       "      <th>PDCSAP_FLUX__variance_larger_than_standard_deviation</th>\n",
       "      <th>PDCSAP_FLUX__has_duplicate_max</th>\n",
       "      <th>PDCSAP_FLUX__has_duplicate_min</th>\n",
       "      <th>PDCSAP_FLUX__has_duplicate</th>\n",
       "      <th>PDCSAP_FLUX__sum_values</th>\n",
       "      <th>PDCSAP_FLUX__abs_energy</th>\n",
       "      <th>PDCSAP_FLUX__mean_abs_change</th>\n",
       "      <th>PDCSAP_FLUX__mean_change</th>\n",
       "      <th>PDCSAP_FLUX__mean_second_derivative_central</th>\n",
       "      <th>PDCSAP_FLUX__median</th>\n",
       "      <th>...</th>\n",
       "      <th>PDCSAP_FLUX__fourier_entropy__bins_10</th>\n",
       "      <th>PDCSAP_FLUX__fourier_entropy__bins_100</th>\n",
       "      <th>PDCSAP_FLUX__permutation_entropy__dimension_3__tau_1</th>\n",
       "      <th>PDCSAP_FLUX__permutation_entropy__dimension_4__tau_1</th>\n",
       "      <th>PDCSAP_FLUX__permutation_entropy__dimension_5__tau_1</th>\n",
       "      <th>PDCSAP_FLUX__permutation_entropy__dimension_6__tau_1</th>\n",
       "      <th>PDCSAP_FLUX__permutation_entropy__dimension_7__tau_1</th>\n",
       "      <th>PDCSAP_FLUX__query_similarity_count__query_None__threshold_0.0</th>\n",
       "      <th>PDCSAP_FLUX__mean_n_absolute_max__number_of_maxima_7</th>\n",
       "      <th>exoplanet</th>\n",
       "    </tr>\n",
       "  </thead>\n",
       "  <tbody>\n",
       "    <tr>\n",
       "      <th>0</th>\n",
       "      <td>1.0</td>\n",
       "      <td>0.0</td>\n",
       "      <td>0.0</td>\n",
       "      <td>0.0</td>\n",
       "      <td>3.938986e+07</td>\n",
       "      <td>9.572128e+11</td>\n",
       "      <td>153.255300</td>\n",
       "      <td>0.800615</td>\n",
       "      <td>0.149376</td>\n",
       "      <td>24147.1310</td>\n",
       "      <td>...</td>\n",
       "      <td>0.485093</td>\n",
       "      <td>1.680648</td>\n",
       "      <td>1.202957</td>\n",
       "      <td>1.721831</td>\n",
       "      <td>2.243674</td>\n",
       "      <td>2.712962</td>\n",
       "      <td>3.118483</td>\n",
       "      <td>0.0</td>\n",
       "      <td>25867.303714</td>\n",
       "      <td>0</td>\n",
       "    </tr>\n",
       "    <tr>\n",
       "      <th>1</th>\n",
       "      <td>1.0</td>\n",
       "      <td>0.0</td>\n",
       "      <td>0.0</td>\n",
       "      <td>1.0</td>\n",
       "      <td>1.010017e+08</td>\n",
       "      <td>2.512213e+12</td>\n",
       "      <td>148.745688</td>\n",
       "      <td>-1.089670</td>\n",
       "      <td>0.186553</td>\n",
       "      <td>24878.2540</td>\n",
       "      <td>...</td>\n",
       "      <td>0.300740</td>\n",
       "      <td>1.459540</td>\n",
       "      <td>1.229355</td>\n",
       "      <td>1.768802</td>\n",
       "      <td>2.320843</td>\n",
       "      <td>2.843847</td>\n",
       "      <td>3.322916</td>\n",
       "      <td>0.0</td>\n",
       "      <td>26293.361286</td>\n",
       "      <td>0</td>\n",
       "    </tr>\n",
       "    <tr>\n",
       "      <th>2</th>\n",
       "      <td>1.0</td>\n",
       "      <td>0.0</td>\n",
       "      <td>0.0</td>\n",
       "      <td>1.0</td>\n",
       "      <td>9.922578e+07</td>\n",
       "      <td>2.385546e+12</td>\n",
       "      <td>131.771522</td>\n",
       "      <td>0.197467</td>\n",
       "      <td>0.007730</td>\n",
       "      <td>24192.3595</td>\n",
       "      <td>...</td>\n",
       "      <td>0.884632</td>\n",
       "      <td>1.845882</td>\n",
       "      <td>1.372956</td>\n",
       "      <td>2.074437</td>\n",
       "      <td>2.790229</td>\n",
       "      <td>3.472608</td>\n",
       "      <td>4.076345</td>\n",
       "      <td>0.0</td>\n",
       "      <td>24832.829429</td>\n",
       "      <td>0</td>\n",
       "    </tr>\n",
       "    <tr>\n",
       "      <th>3</th>\n",
       "      <td>1.0</td>\n",
       "      <td>0.0</td>\n",
       "      <td>0.0</td>\n",
       "      <td>1.0</td>\n",
       "      <td>9.451435e+07</td>\n",
       "      <td>2.178293e+12</td>\n",
       "      <td>133.917359</td>\n",
       "      <td>-0.217077</td>\n",
       "      <td>-0.045048</td>\n",
       "      <td>23166.6560</td>\n",
       "      <td>...</td>\n",
       "      <td>0.779689</td>\n",
       "      <td>1.813868</td>\n",
       "      <td>1.709158</td>\n",
       "      <td>2.899154</td>\n",
       "      <td>4.034073</td>\n",
       "      <td>5.119587</td>\n",
       "      <td>5.996514</td>\n",
       "      <td>0.0</td>\n",
       "      <td>24121.541571</td>\n",
       "      <td>0</td>\n",
       "    </tr>\n",
       "    <tr>\n",
       "      <th>4</th>\n",
       "      <td>1.0</td>\n",
       "      <td>0.0</td>\n",
       "      <td>0.0</td>\n",
       "      <td>1.0</td>\n",
       "      <td>1.073113e+08</td>\n",
       "      <td>2.570948e+12</td>\n",
       "      <td>141.468006</td>\n",
       "      <td>0.066043</td>\n",
       "      <td>-0.023373</td>\n",
       "      <td>24086.9815</td>\n",
       "      <td>...</td>\n",
       "      <td>0.878414</td>\n",
       "      <td>1.836681</td>\n",
       "      <td>1.638988</td>\n",
       "      <td>2.603741</td>\n",
       "      <td>3.570002</td>\n",
       "      <td>4.483830</td>\n",
       "      <td>5.222974</td>\n",
       "      <td>0.0</td>\n",
       "      <td>24901.026857</td>\n",
       "      <td>0</td>\n",
       "    </tr>\n",
       "  </tbody>\n",
       "</table>\n",
       "<p>5 rows × 778 columns</p>\n",
       "</div>"
      ],
      "text/plain": [
       "   PDCSAP_FLUX__variance_larger_than_standard_deviation  \\\n",
       "0                                                1.0      \n",
       "1                                                1.0      \n",
       "2                                                1.0      \n",
       "3                                                1.0      \n",
       "4                                                1.0      \n",
       "\n",
       "   PDCSAP_FLUX__has_duplicate_max  PDCSAP_FLUX__has_duplicate_min  \\\n",
       "0                             0.0                             0.0   \n",
       "1                             0.0                             0.0   \n",
       "2                             0.0                             0.0   \n",
       "3                             0.0                             0.0   \n",
       "4                             0.0                             0.0   \n",
       "\n",
       "   PDCSAP_FLUX__has_duplicate  PDCSAP_FLUX__sum_values  \\\n",
       "0                         0.0             3.938986e+07   \n",
       "1                         1.0             1.010017e+08   \n",
       "2                         1.0             9.922578e+07   \n",
       "3                         1.0             9.451435e+07   \n",
       "4                         1.0             1.073113e+08   \n",
       "\n",
       "   PDCSAP_FLUX__abs_energy  PDCSAP_FLUX__mean_abs_change  \\\n",
       "0             9.572128e+11                    153.255300   \n",
       "1             2.512213e+12                    148.745688   \n",
       "2             2.385546e+12                    131.771522   \n",
       "3             2.178293e+12                    133.917359   \n",
       "4             2.570948e+12                    141.468006   \n",
       "\n",
       "   PDCSAP_FLUX__mean_change  PDCSAP_FLUX__mean_second_derivative_central  \\\n",
       "0                  0.800615                                     0.149376   \n",
       "1                 -1.089670                                     0.186553   \n",
       "2                  0.197467                                     0.007730   \n",
       "3                 -0.217077                                    -0.045048   \n",
       "4                  0.066043                                    -0.023373   \n",
       "\n",
       "   PDCSAP_FLUX__median  ...  PDCSAP_FLUX__fourier_entropy__bins_10  \\\n",
       "0           24147.1310  ...                               0.485093   \n",
       "1           24878.2540  ...                               0.300740   \n",
       "2           24192.3595  ...                               0.884632   \n",
       "3           23166.6560  ...                               0.779689   \n",
       "4           24086.9815  ...                               0.878414   \n",
       "\n",
       "   PDCSAP_FLUX__fourier_entropy__bins_100  \\\n",
       "0                                1.680648   \n",
       "1                                1.459540   \n",
       "2                                1.845882   \n",
       "3                                1.813868   \n",
       "4                                1.836681   \n",
       "\n",
       "   PDCSAP_FLUX__permutation_entropy__dimension_3__tau_1  \\\n",
       "0                                           1.202957      \n",
       "1                                           1.229355      \n",
       "2                                           1.372956      \n",
       "3                                           1.709158      \n",
       "4                                           1.638988      \n",
       "\n",
       "   PDCSAP_FLUX__permutation_entropy__dimension_4__tau_1  \\\n",
       "0                                           1.721831      \n",
       "1                                           1.768802      \n",
       "2                                           2.074437      \n",
       "3                                           2.899154      \n",
       "4                                           2.603741      \n",
       "\n",
       "   PDCSAP_FLUX__permutation_entropy__dimension_5__tau_1  \\\n",
       "0                                           2.243674      \n",
       "1                                           2.320843      \n",
       "2                                           2.790229      \n",
       "3                                           4.034073      \n",
       "4                                           3.570002      \n",
       "\n",
       "   PDCSAP_FLUX__permutation_entropy__dimension_6__tau_1  \\\n",
       "0                                           2.712962      \n",
       "1                                           2.843847      \n",
       "2                                           3.472608      \n",
       "3                                           5.119587      \n",
       "4                                           4.483830      \n",
       "\n",
       "   PDCSAP_FLUX__permutation_entropy__dimension_7__tau_1  \\\n",
       "0                                           3.118483      \n",
       "1                                           3.322916      \n",
       "2                                           4.076345      \n",
       "3                                           5.996514      \n",
       "4                                           5.222974      \n",
       "\n",
       "   PDCSAP_FLUX__query_similarity_count__query_None__threshold_0.0  \\\n",
       "0                                                0.0                \n",
       "1                                                0.0                \n",
       "2                                                0.0                \n",
       "3                                                0.0                \n",
       "4                                                0.0                \n",
       "\n",
       "   PDCSAP_FLUX__mean_n_absolute_max__number_of_maxima_7  exoplanet  \n",
       "0                                       25867.303714             0  \n",
       "1                                       26293.361286             0  \n",
       "2                                       24832.829429             0  \n",
       "3                                       24121.541571             0  \n",
       "4                                       24901.026857             0  \n",
       "\n",
       "[5 rows x 778 columns]"
      ]
     },
     "execution_count": 4,
     "metadata": {},
     "output_type": "execute_result"
    }
   ],
   "source": [
    "exoplanet_data.head(5)"
   ]
  },
  {
   "cell_type": "code",
   "execution_count": 5,
   "metadata": {
    "execution": {
     "iopub.execute_input": "2023-01-19T03:17:12.781423Z",
     "iopub.status.busy": "2023-01-19T03:17:12.776231Z",
     "iopub.status.idle": "2023-01-19T03:17:12.818140Z",
     "shell.execute_reply": "2023-01-19T03:17:12.819340Z"
    }
   },
   "outputs": [
    {
     "data": {
      "text/html": [
       "<div>\n",
       "<style scoped>\n",
       "    .dataframe tbody tr th:only-of-type {\n",
       "        vertical-align: middle;\n",
       "    }\n",
       "\n",
       "    .dataframe tbody tr th {\n",
       "        vertical-align: top;\n",
       "    }\n",
       "\n",
       "    .dataframe thead th {\n",
       "        text-align: right;\n",
       "    }\n",
       "</style>\n",
       "<table border=\"1\" class=\"dataframe\">\n",
       "  <thead>\n",
       "    <tr style=\"text-align: right;\">\n",
       "      <th></th>\n",
       "      <th>PDCSAP_FLUX__variance_larger_than_standard_deviation</th>\n",
       "      <th>PDCSAP_FLUX__has_duplicate_max</th>\n",
       "      <th>PDCSAP_FLUX__has_duplicate_min</th>\n",
       "      <th>PDCSAP_FLUX__has_duplicate</th>\n",
       "      <th>PDCSAP_FLUX__sum_values</th>\n",
       "      <th>PDCSAP_FLUX__abs_energy</th>\n",
       "      <th>PDCSAP_FLUX__mean_abs_change</th>\n",
       "      <th>PDCSAP_FLUX__mean_change</th>\n",
       "      <th>PDCSAP_FLUX__mean_second_derivative_central</th>\n",
       "      <th>PDCSAP_FLUX__median</th>\n",
       "      <th>...</th>\n",
       "      <th>PDCSAP_FLUX__fourier_entropy__bins_10</th>\n",
       "      <th>PDCSAP_FLUX__fourier_entropy__bins_100</th>\n",
       "      <th>PDCSAP_FLUX__permutation_entropy__dimension_3__tau_1</th>\n",
       "      <th>PDCSAP_FLUX__permutation_entropy__dimension_4__tau_1</th>\n",
       "      <th>PDCSAP_FLUX__permutation_entropy__dimension_5__tau_1</th>\n",
       "      <th>PDCSAP_FLUX__permutation_entropy__dimension_6__tau_1</th>\n",
       "      <th>PDCSAP_FLUX__permutation_entropy__dimension_7__tau_1</th>\n",
       "      <th>PDCSAP_FLUX__query_similarity_count__query_None__threshold_0.0</th>\n",
       "      <th>PDCSAP_FLUX__mean_n_absolute_max__number_of_maxima_7</th>\n",
       "      <th>exoplanet</th>\n",
       "    </tr>\n",
       "  </thead>\n",
       "  <tbody>\n",
       "    <tr>\n",
       "      <th>75453</th>\n",
       "      <td>1.0</td>\n",
       "      <td>0.0</td>\n",
       "      <td>0.0</td>\n",
       "      <td>1.0</td>\n",
       "      <td>4.711356e+07</td>\n",
       "      <td>5.233879e+11</td>\n",
       "      <td>4.916917</td>\n",
       "      <td>-0.000924</td>\n",
       "      <td>0.000256</td>\n",
       "      <td>11109.1560</td>\n",
       "      <td>...</td>\n",
       "      <td>0.245901</td>\n",
       "      <td>2.090807</td>\n",
       "      <td>1.791645</td>\n",
       "      <td>3.176436</td>\n",
       "      <td>4.773906</td>\n",
       "      <td>6.488361</td>\n",
       "      <td>7.851226</td>\n",
       "      <td>0.0</td>\n",
       "      <td>11135.958143</td>\n",
       "      <td>1</td>\n",
       "    </tr>\n",
       "    <tr>\n",
       "      <th>75454</th>\n",
       "      <td>1.0</td>\n",
       "      <td>0.0</td>\n",
       "      <td>0.0</td>\n",
       "      <td>1.0</td>\n",
       "      <td>4.569457e+07</td>\n",
       "      <td>4.892209e+11</td>\n",
       "      <td>4.580461</td>\n",
       "      <td>-0.001654</td>\n",
       "      <td>-0.001213</td>\n",
       "      <td>10706.1080</td>\n",
       "      <td>...</td>\n",
       "      <td>1.738595</td>\n",
       "      <td>3.661195</td>\n",
       "      <td>1.789769</td>\n",
       "      <td>3.171699</td>\n",
       "      <td>4.768713</td>\n",
       "      <td>6.479898</td>\n",
       "      <td>7.852670</td>\n",
       "      <td>0.0</td>\n",
       "      <td>10753.584286</td>\n",
       "      <td>1</td>\n",
       "    </tr>\n",
       "    <tr>\n",
       "      <th>75455</th>\n",
       "      <td>1.0</td>\n",
       "      <td>0.0</td>\n",
       "      <td>0.0</td>\n",
       "      <td>1.0</td>\n",
       "      <td>4.555065e+07</td>\n",
       "      <td>4.752317e+11</td>\n",
       "      <td>4.801451</td>\n",
       "      <td>-0.001487</td>\n",
       "      <td>0.001492</td>\n",
       "      <td>10432.9675</td>\n",
       "      <td>...</td>\n",
       "      <td>1.769405</td>\n",
       "      <td>3.770656</td>\n",
       "      <td>1.791324</td>\n",
       "      <td>3.175705</td>\n",
       "      <td>4.773828</td>\n",
       "      <td>6.494530</td>\n",
       "      <td>7.878245</td>\n",
       "      <td>0.0</td>\n",
       "      <td>10452.424143</td>\n",
       "      <td>1</td>\n",
       "    </tr>\n",
       "    <tr>\n",
       "      <th>75456</th>\n",
       "      <td>1.0</td>\n",
       "      <td>0.0</td>\n",
       "      <td>0.0</td>\n",
       "      <td>1.0</td>\n",
       "      <td>3.821517e+07</td>\n",
       "      <td>4.132426e+11</td>\n",
       "      <td>4.856287</td>\n",
       "      <td>0.000755</td>\n",
       "      <td>-0.001577</td>\n",
       "      <td>10813.3170</td>\n",
       "      <td>...</td>\n",
       "      <td>1.734660</td>\n",
       "      <td>3.707686</td>\n",
       "      <td>1.791595</td>\n",
       "      <td>3.176271</td>\n",
       "      <td>4.773713</td>\n",
       "      <td>6.477202</td>\n",
       "      <td>7.756732</td>\n",
       "      <td>0.0</td>\n",
       "      <td>10875.174000</td>\n",
       "      <td>1</td>\n",
       "    </tr>\n",
       "    <tr>\n",
       "      <th>75457</th>\n",
       "      <td>1.0</td>\n",
       "      <td>0.0</td>\n",
       "      <td>0.0</td>\n",
       "      <td>1.0</td>\n",
       "      <td>1.396021e+07</td>\n",
       "      <td>1.517816e+11</td>\n",
       "      <td>5.087767</td>\n",
       "      <td>0.003940</td>\n",
       "      <td>-0.001079</td>\n",
       "      <td>10872.6055</td>\n",
       "      <td>...</td>\n",
       "      <td>0.714270</td>\n",
       "      <td>2.748078</td>\n",
       "      <td>1.791619</td>\n",
       "      <td>3.174327</td>\n",
       "      <td>4.760262</td>\n",
       "      <td>6.295181</td>\n",
       "      <td>7.010111</td>\n",
       "      <td>0.0</td>\n",
       "      <td>10893.778857</td>\n",
       "      <td>1</td>\n",
       "    </tr>\n",
       "  </tbody>\n",
       "</table>\n",
       "<p>5 rows × 778 columns</p>\n",
       "</div>"
      ],
      "text/plain": [
       "       PDCSAP_FLUX__variance_larger_than_standard_deviation  \\\n",
       "75453                                                1.0      \n",
       "75454                                                1.0      \n",
       "75455                                                1.0      \n",
       "75456                                                1.0      \n",
       "75457                                                1.0      \n",
       "\n",
       "       PDCSAP_FLUX__has_duplicate_max  PDCSAP_FLUX__has_duplicate_min  \\\n",
       "75453                             0.0                             0.0   \n",
       "75454                             0.0                             0.0   \n",
       "75455                             0.0                             0.0   \n",
       "75456                             0.0                             0.0   \n",
       "75457                             0.0                             0.0   \n",
       "\n",
       "       PDCSAP_FLUX__has_duplicate  PDCSAP_FLUX__sum_values  \\\n",
       "75453                         1.0             4.711356e+07   \n",
       "75454                         1.0             4.569457e+07   \n",
       "75455                         1.0             4.555065e+07   \n",
       "75456                         1.0             3.821517e+07   \n",
       "75457                         1.0             1.396021e+07   \n",
       "\n",
       "       PDCSAP_FLUX__abs_energy  PDCSAP_FLUX__mean_abs_change  \\\n",
       "75453             5.233879e+11                      4.916917   \n",
       "75454             4.892209e+11                      4.580461   \n",
       "75455             4.752317e+11                      4.801451   \n",
       "75456             4.132426e+11                      4.856287   \n",
       "75457             1.517816e+11                      5.087767   \n",
       "\n",
       "       PDCSAP_FLUX__mean_change  PDCSAP_FLUX__mean_second_derivative_central  \\\n",
       "75453                 -0.000924                                     0.000256   \n",
       "75454                 -0.001654                                    -0.001213   \n",
       "75455                 -0.001487                                     0.001492   \n",
       "75456                  0.000755                                    -0.001577   \n",
       "75457                  0.003940                                    -0.001079   \n",
       "\n",
       "       PDCSAP_FLUX__median  ...  PDCSAP_FLUX__fourier_entropy__bins_10  \\\n",
       "75453           11109.1560  ...                               0.245901   \n",
       "75454           10706.1080  ...                               1.738595   \n",
       "75455           10432.9675  ...                               1.769405   \n",
       "75456           10813.3170  ...                               1.734660   \n",
       "75457           10872.6055  ...                               0.714270   \n",
       "\n",
       "       PDCSAP_FLUX__fourier_entropy__bins_100  \\\n",
       "75453                                2.090807   \n",
       "75454                                3.661195   \n",
       "75455                                3.770656   \n",
       "75456                                3.707686   \n",
       "75457                                2.748078   \n",
       "\n",
       "       PDCSAP_FLUX__permutation_entropy__dimension_3__tau_1  \\\n",
       "75453                                           1.791645      \n",
       "75454                                           1.789769      \n",
       "75455                                           1.791324      \n",
       "75456                                           1.791595      \n",
       "75457                                           1.791619      \n",
       "\n",
       "       PDCSAP_FLUX__permutation_entropy__dimension_4__tau_1  \\\n",
       "75453                                           3.176436      \n",
       "75454                                           3.171699      \n",
       "75455                                           3.175705      \n",
       "75456                                           3.176271      \n",
       "75457                                           3.174327      \n",
       "\n",
       "       PDCSAP_FLUX__permutation_entropy__dimension_5__tau_1  \\\n",
       "75453                                           4.773906      \n",
       "75454                                           4.768713      \n",
       "75455                                           4.773828      \n",
       "75456                                           4.773713      \n",
       "75457                                           4.760262      \n",
       "\n",
       "       PDCSAP_FLUX__permutation_entropy__dimension_6__tau_1  \\\n",
       "75453                                           6.488361      \n",
       "75454                                           6.479898      \n",
       "75455                                           6.494530      \n",
       "75456                                           6.477202      \n",
       "75457                                           6.295181      \n",
       "\n",
       "       PDCSAP_FLUX__permutation_entropy__dimension_7__tau_1  \\\n",
       "75453                                           7.851226      \n",
       "75454                                           7.852670      \n",
       "75455                                           7.878245      \n",
       "75456                                           7.756732      \n",
       "75457                                           7.010111      \n",
       "\n",
       "       PDCSAP_FLUX__query_similarity_count__query_None__threshold_0.0  \\\n",
       "75453                                                0.0                \n",
       "75454                                                0.0                \n",
       "75455                                                0.0                \n",
       "75456                                                0.0                \n",
       "75457                                                0.0                \n",
       "\n",
       "       PDCSAP_FLUX__mean_n_absolute_max__number_of_maxima_7  exoplanet  \n",
       "75453                                       11135.958143             1  \n",
       "75454                                       10753.584286             1  \n",
       "75455                                       10452.424143             1  \n",
       "75456                                       10875.174000             1  \n",
       "75457                                       10893.778857             1  \n",
       "\n",
       "[5 rows x 778 columns]"
      ]
     },
     "execution_count": 5,
     "metadata": {},
     "output_type": "execute_result"
    }
   ],
   "source": [
    "exoplanet_data.tail(5)"
   ]
  },
  {
   "cell_type": "code",
   "execution_count": 6,
   "metadata": {
    "execution": {
     "iopub.execute_input": "2023-01-19T03:17:12.827813Z",
     "iopub.status.busy": "2023-01-19T03:17:12.826561Z",
     "iopub.status.idle": "2023-01-19T03:17:13.299692Z",
     "shell.execute_reply": "2023-01-19T03:17:13.298474Z"
    }
   },
   "outputs": [
    {
     "data": {
      "text/plain": [
       "PDCSAP_FLUX__variance_larger_than_standard_deviation              0\n",
       "PDCSAP_FLUX__has_duplicate_max                                    0\n",
       "PDCSAP_FLUX__has_duplicate_min                                    0\n",
       "PDCSAP_FLUX__has_duplicate                                        0\n",
       "PDCSAP_FLUX__sum_values                                           0\n",
       "                                                                 ..\n",
       "PDCSAP_FLUX__permutation_entropy__dimension_6__tau_1              0\n",
       "PDCSAP_FLUX__permutation_entropy__dimension_7__tau_1              0\n",
       "PDCSAP_FLUX__query_similarity_count__query_None__threshold_0.0    0\n",
       "PDCSAP_FLUX__mean_n_absolute_max__number_of_maxima_7              0\n",
       "exoplanet                                                         0\n",
       "Length: 778, dtype: int64"
      ]
     },
     "execution_count": 6,
     "metadata": {},
     "output_type": "execute_result"
    }
   ],
   "source": [
    "exoplanet_data.isnull().sum()"
   ]
  },
  {
   "cell_type": "code",
   "execution_count": 7,
   "metadata": {
    "execution": {
     "iopub.execute_input": "2023-01-19T03:17:13.309022Z",
     "iopub.status.busy": "2023-01-19T03:17:13.307840Z",
     "iopub.status.idle": "2023-01-19T03:17:13.316344Z",
     "shell.execute_reply": "2023-01-19T03:17:13.315163Z"
    }
   },
   "outputs": [
    {
     "data": {
      "text/plain": [
       "(75458, 778)"
      ]
     },
     "execution_count": 7,
     "metadata": {},
     "output_type": "execute_result"
    }
   ],
   "source": [
    "exoplanet_data.shape"
   ]
  },
  {
   "cell_type": "code",
   "execution_count": 8,
   "metadata": {
    "execution": {
     "iopub.execute_input": "2023-01-19T03:17:13.324927Z",
     "iopub.status.busy": "2023-01-19T03:17:13.323805Z",
     "iopub.status.idle": "2023-01-19T03:17:13.336604Z",
     "shell.execute_reply": "2023-01-19T03:17:13.335360Z"
    }
   },
   "outputs": [
    {
     "data": {
      "text/plain": [
       "1    40084\n",
       "0    35374\n",
       "Name: exoplanet, dtype: int64"
      ]
     },
     "execution_count": 8,
     "metadata": {},
     "output_type": "execute_result"
    }
   ],
   "source": [
    "exoplanet_data['exoplanet'].value_counts()"
   ]
  },
  {
   "cell_type": "code",
   "execution_count": 9,
   "metadata": {
    "execution": {
     "iopub.execute_input": "2023-01-19T03:17:13.361025Z",
     "iopub.status.busy": "2023-01-19T03:17:13.355811Z",
     "iopub.status.idle": "2023-01-19T03:17:13.441429Z",
     "shell.execute_reply": "2023-01-19T03:17:13.440365Z"
    }
   },
   "outputs": [
    {
     "name": "stdout",
     "output_type": "stream",
     "text": [
      "<class 'pandas.core.frame.DataFrame'>\n",
      "RangeIndex: 75458 entries, 0 to 75457\n",
      "Columns: 778 entries, PDCSAP_FLUX__variance_larger_than_standard_deviation to exoplanet\n",
      "dtypes: float64(777), int64(1)\n",
      "memory usage: 447.9 MB\n"
     ]
    }
   ],
   "source": [
    "exoplanet_data.info()"
   ]
  },
  {
   "cell_type": "code",
   "execution_count": 10,
   "metadata": {
    "execution": {
     "iopub.execute_input": "2023-01-19T03:17:13.454490Z",
     "iopub.status.busy": "2023-01-19T03:17:13.452205Z",
     "iopub.status.idle": "2023-01-19T03:17:15.275181Z",
     "shell.execute_reply": "2023-01-19T03:17:15.273700Z"
    }
   },
   "outputs": [],
   "source": [
    "import numpy as np   \n",
    "#import tensorflow as tf\n",
    "#from statsmodels.tsa.seasonal import seasonal_decompose \n",
    "import matplotlib as mpl\n",
    "import matplotlib.pyplot as plt\n",
    "%matplotlib inline\n",
    "import seaborn as sns\n",
    "sns.set()\n",
    "mpl.rcParams['figure.figsize'] = (30, 30)\n",
    "mpl.rcParams['axes.grid'] = True"
   ]
  },
  {
   "cell_type": "code",
   "execution_count": 11,
   "metadata": {
    "execution": {
     "iopub.execute_input": "2023-01-19T03:17:15.283340Z",
     "iopub.status.busy": "2023-01-19T03:17:15.282084Z",
     "iopub.status.idle": "2023-01-19T03:17:15.287141Z",
     "shell.execute_reply": "2023-01-19T03:17:15.288336Z"
    }
   },
   "outputs": [],
   "source": [
    "#correlation=exoplanet_data.corr()"
   ]
  },
  {
   "cell_type": "code",
   "execution_count": 12,
   "metadata": {
    "execution": {
     "iopub.execute_input": "2023-01-19T03:17:15.295498Z",
     "iopub.status.busy": "2023-01-19T03:17:15.294333Z",
     "iopub.status.idle": "2023-01-19T03:17:15.300210Z",
     "shell.execute_reply": "2023-01-19T03:17:15.298930Z"
    }
   },
   "outputs": [],
   "source": [
    "#sns.heatmap(exoplanet_data.corr(),cmap='coolwarm',annot=True)"
   ]
  },
  {
   "cell_type": "code",
   "execution_count": 13,
   "metadata": {
    "execution": {
     "iopub.execute_input": "2023-01-19T03:17:15.308876Z",
     "iopub.status.busy": "2023-01-19T03:17:15.307622Z",
     "iopub.status.idle": "2023-01-19T03:21:27.425093Z",
     "shell.execute_reply": "2023-01-19T03:21:27.423716Z"
    }
   },
   "outputs": [],
   "source": [
    "#exoplanet_data.corr()>0.70"
   ]
  },
  {
   "cell_type": "code",
   "execution_count": 14,
   "metadata": {
    "execution": {
     "iopub.execute_input": "2023-01-19T03:21:27.436058Z",
     "iopub.status.busy": "2023-01-19T03:21:27.434864Z",
     "iopub.status.idle": "2023-01-19T03:21:27.443175Z",
     "shell.execute_reply": "2023-01-19T03:21:27.441921Z"
    }
   },
   "outputs": [
    {
     "data": {
      "text/plain": [
       "Index(['PDCSAP_FLUX__variance_larger_than_standard_deviation',\n",
       "       'PDCSAP_FLUX__has_duplicate_max', 'PDCSAP_FLUX__has_duplicate_min',\n",
       "       'PDCSAP_FLUX__has_duplicate', 'PDCSAP_FLUX__sum_values',\n",
       "       'PDCSAP_FLUX__abs_energy', 'PDCSAP_FLUX__mean_abs_change',\n",
       "       'PDCSAP_FLUX__mean_change',\n",
       "       'PDCSAP_FLUX__mean_second_derivative_central', 'PDCSAP_FLUX__median',\n",
       "       ...\n",
       "       'PDCSAP_FLUX__fourier_entropy__bins_10',\n",
       "       'PDCSAP_FLUX__fourier_entropy__bins_100',\n",
       "       'PDCSAP_FLUX__permutation_entropy__dimension_3__tau_1',\n",
       "       'PDCSAP_FLUX__permutation_entropy__dimension_4__tau_1',\n",
       "       'PDCSAP_FLUX__permutation_entropy__dimension_5__tau_1',\n",
       "       'PDCSAP_FLUX__permutation_entropy__dimension_6__tau_1',\n",
       "       'PDCSAP_FLUX__permutation_entropy__dimension_7__tau_1',\n",
       "       'PDCSAP_FLUX__query_similarity_count__query_None__threshold_0.0',\n",
       "       'PDCSAP_FLUX__mean_n_absolute_max__number_of_maxima_7', 'exoplanet'],\n",
       "      dtype='object', length=778)"
      ]
     },
     "execution_count": 14,
     "metadata": {},
     "output_type": "execute_result"
    }
   ],
   "source": [
    "exoplanet_data.columns"
   ]
  },
  {
   "cell_type": "code",
   "execution_count": 16,
   "metadata": {},
   "outputs": [],
   "source": [
    "columns_1 = exoplanet_data.columns[exoplanet_data.mean()==1]"
   ]
  },
  {
   "cell_type": "code",
   "execution_count": 17,
   "metadata": {},
   "outputs": [],
   "source": [
    "columns_2 = exoplanet_data.columns[exoplanet_data.mean()==0]"
   ]
  },
  {
   "cell_type": "code",
   "execution_count": 18,
   "metadata": {},
   "outputs": [],
   "source": [
    "exoplanet_data = exoplanet_data.drop(columns=columns_1)"
   ]
  },
  {
   "cell_type": "code",
   "execution_count": 19,
   "metadata": {},
   "outputs": [],
   "source": [
    "exoplanet_data = exoplanet_data.drop(columns=columns_2)"
   ]
  },
  {
   "cell_type": "markdown",
   "metadata": {},
   "source": [
    "# Multi Colinearity Remove"
   ]
  },
  {
   "cell_type": "code",
   "execution_count": 26,
   "metadata": {},
   "outputs": [],
   "source": [
    "df = exoplanet_data.drop(['exoplanet'],axis=1)"
   ]
  },
  {
   "cell_type": "code",
   "execution_count": 27,
   "metadata": {
    "execution": {
     "iopub.execute_input": "2023-01-19T03:21:31.444971Z",
     "iopub.status.busy": "2023-01-19T03:21:31.266509Z",
     "iopub.status.idle": "2023-01-19T03:21:31.451667Z",
     "shell.execute_reply": "2023-01-19T03:21:31.450443Z"
    }
   },
   "outputs": [],
   "source": [
    "X = df.loc[:, df.columns[600:]]"
   ]
  },
  {
   "cell_type": "code",
   "execution_count": 17,
   "metadata": {
    "execution": {
     "iopub.execute_input": "2023-01-19T03:21:31.460866Z",
     "iopub.status.busy": "2023-01-19T03:21:31.459571Z",
     "iopub.status.idle": "2023-01-19T03:21:31.707994Z",
     "shell.execute_reply": "2023-01-19T03:21:31.706990Z"
    }
   },
   "outputs": [],
   "source": [
    "from statsmodels.stats.outliers_influence import variance_inflation_factor"
   ]
  },
  {
   "cell_type": "code",
   "execution_count": 18,
   "metadata": {
    "execution": {
     "iopub.execute_input": "2023-01-19T03:21:31.718667Z",
     "iopub.status.busy": "2023-01-19T03:21:31.717483Z",
     "iopub.status.idle": "2023-01-19T06:38:48.985675Z",
     "shell.execute_reply": "2023-01-19T06:38:48.983622Z"
    }
   },
   "outputs": [],
   "source": [
    "vif = pd.DataFrame()\n",
    "vif['VIF Factor'] = [variance_inflation_factor(X.values,i) for i in range(X.shape[1])]"
   ]
  },
  {
   "cell_type": "code",
   "execution_count": 19,
   "metadata": {
    "execution": {
     "iopub.execute_input": "2023-01-19T06:38:49.002906Z",
     "iopub.status.busy": "2023-01-19T06:38:49.001097Z",
     "iopub.status.idle": "2023-01-19T06:38:49.008480Z",
     "shell.execute_reply": "2023-01-19T06:38:49.006641Z"
    }
   },
   "outputs": [],
   "source": [
    "vif['Features'] = X.columns"
   ]
  },
  {
   "cell_type": "code",
   "execution_count": 20,
   "metadata": {
    "execution": {
     "iopub.execute_input": "2023-01-19T06:38:49.026260Z",
     "iopub.status.busy": "2023-01-19T06:38:49.024262Z",
     "iopub.status.idle": "2023-01-19T06:38:49.072352Z",
     "shell.execute_reply": "2023-01-19T06:38:49.070951Z"
    }
   },
   "outputs": [
    {
     "data": {
      "text/html": [
       "<div>\n",
       "<style scoped>\n",
       "    .dataframe tbody tr th:only-of-type {\n",
       "        vertical-align: middle;\n",
       "    }\n",
       "\n",
       "    .dataframe tbody tr th {\n",
       "        vertical-align: top;\n",
       "    }\n",
       "\n",
       "    .dataframe thead th {\n",
       "        text-align: right;\n",
       "    }\n",
       "</style>\n",
       "<table border=\"1\" class=\"dataframe\">\n",
       "  <thead>\n",
       "    <tr style=\"text-align: right;\">\n",
       "      <th></th>\n",
       "      <th>VIF Factor</th>\n",
       "      <th>Features</th>\n",
       "    </tr>\n",
       "  </thead>\n",
       "  <tbody>\n",
       "    <tr>\n",
       "      <th>0</th>\n",
       "      <td>0.00</td>\n",
       "      <td>PDCSAP_FLUX__variance_larger_than_standard_dev...</td>\n",
       "    </tr>\n",
       "    <tr>\n",
       "      <th>1</th>\n",
       "      <td>1.00</td>\n",
       "      <td>PDCSAP_FLUX__has_duplicate_max</td>\n",
       "    </tr>\n",
       "    <tr>\n",
       "      <th>2</th>\n",
       "      <td>1.00</td>\n",
       "      <td>PDCSAP_FLUX__has_duplicate_min</td>\n",
       "    </tr>\n",
       "    <tr>\n",
       "      <th>3</th>\n",
       "      <td>0.00</td>\n",
       "      <td>PDCSAP_FLUX__has_duplicate</td>\n",
       "    </tr>\n",
       "    <tr>\n",
       "      <th>4</th>\n",
       "      <td>43.23</td>\n",
       "      <td>PDCSAP_FLUX__sum_values</td>\n",
       "    </tr>\n",
       "    <tr>\n",
       "      <th>...</th>\n",
       "      <td>...</td>\n",
       "      <td>...</td>\n",
       "    </tr>\n",
       "    <tr>\n",
       "      <th>195</th>\n",
       "      <td>1.03</td>\n",
       "      <td>PDCSAP_FLUX__ar_coefficient__coeff_2__k_10</td>\n",
       "    </tr>\n",
       "    <tr>\n",
       "      <th>196</th>\n",
       "      <td>0.86</td>\n",
       "      <td>PDCSAP_FLUX__ar_coefficient__coeff_3__k_10</td>\n",
       "    </tr>\n",
       "    <tr>\n",
       "      <th>197</th>\n",
       "      <td>0.89</td>\n",
       "      <td>PDCSAP_FLUX__ar_coefficient__coeff_4__k_10</td>\n",
       "    </tr>\n",
       "    <tr>\n",
       "      <th>198</th>\n",
       "      <td>0.85</td>\n",
       "      <td>PDCSAP_FLUX__ar_coefficient__coeff_5__k_10</td>\n",
       "    </tr>\n",
       "    <tr>\n",
       "      <th>199</th>\n",
       "      <td>0.89</td>\n",
       "      <td>PDCSAP_FLUX__ar_coefficient__coeff_6__k_10</td>\n",
       "    </tr>\n",
       "  </tbody>\n",
       "</table>\n",
       "<p>200 rows × 2 columns</p>\n",
       "</div>"
      ],
      "text/plain": [
       "     VIF Factor                                           Features\n",
       "0          0.00  PDCSAP_FLUX__variance_larger_than_standard_dev...\n",
       "1          1.00                     PDCSAP_FLUX__has_duplicate_max\n",
       "2          1.00                     PDCSAP_FLUX__has_duplicate_min\n",
       "3          0.00                         PDCSAP_FLUX__has_duplicate\n",
       "4         43.23                            PDCSAP_FLUX__sum_values\n",
       "..          ...                                                ...\n",
       "195        1.03         PDCSAP_FLUX__ar_coefficient__coeff_2__k_10\n",
       "196        0.86         PDCSAP_FLUX__ar_coefficient__coeff_3__k_10\n",
       "197        0.89         PDCSAP_FLUX__ar_coefficient__coeff_4__k_10\n",
       "198        0.85         PDCSAP_FLUX__ar_coefficient__coeff_5__k_10\n",
       "199        0.89         PDCSAP_FLUX__ar_coefficient__coeff_6__k_10\n",
       "\n",
       "[200 rows x 2 columns]"
      ]
     },
     "execution_count": 1,
     "metadata": {},
     "output_type": "execute_result"
    }
   ],
   "source": [
    "vif.round(2)"
   ]
  },
  {
   "cell_type": "code",
   "execution_count": null,
   "metadata": {},
   "outputs": [],
   "source": [
    "# saving the dataframe\n",
    "vif.to_csv('/home/idies/workspace/Storage/s.hossain18/persistent/multi_col_4.csv', index=False)"
   ]
  }
 ],
 "metadata": {
  "kernelspec": {
   "display_name": "Python 3.8 (py38)",
   "language": "python",
   "name": "py38"
  },
  "language_info": {
   "codemirror_mode": {
    "name": "ipython",
    "version": 3
   },
   "file_extension": ".py",
   "mimetype": "text/x-python",
   "name": "python",
   "nbconvert_exporter": "python",
   "pygments_lexer": "ipython3",
   "version": "3.8.5"
  }
 },
 "nbformat": 4,
 "nbformat_minor": 4
}

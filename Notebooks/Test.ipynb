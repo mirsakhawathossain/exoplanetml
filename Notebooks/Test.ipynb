{
 "cells": [
  {
   "cell_type": "code",
   "execution_count": 36,
   "id": "c66a3300-c6e2-4da4-910d-550d89755c2c",
   "metadata": {},
   "outputs": [],
   "source": [
    "from astropy.table import Table\n",
    "t = Table.read('KIC-10525077.tbl', format='ascii.ipac')\n",
    "t.write('KIC-10525077.csv', overwrite=True)"
   ]
  },
  {
   "cell_type": "code",
   "execution_count": 30,
   "id": "df8cd51d-ca34-4e13-bcec-a03d5bbc541b",
   "metadata": {},
   "outputs": [
    {
     "ename": "SyntaxError",
     "evalue": "Generator expression must be parenthesized (2334292115.py, line 13)",
     "output_type": "error",
     "traceback": [
      "\u001b[1;36m  File \u001b[1;32m\"C:\\Users\\USER\\AppData\\Local\\Temp\\ipykernel_11184\\2334292115.py\"\u001b[1;36m, line \u001b[1;32m13\u001b[0m\n\u001b[1;33m    read = Table.read(f for f in import_filenames, format='ascii.ipac')\u001b[0m\n\u001b[1;37m                      ^\u001b[0m\n\u001b[1;31mSyntaxError\u001b[0m\u001b[1;31m:\u001b[0m Generator expression must be parenthesized\n"
     ]
    }
   ],
   "source": [
    "import os\n",
    "import glob\n",
    "\n",
    "# Set the working directory\n",
    "os.chdir(r\"E:/WPy64-39100/notebooks/Test/\")\n",
    "# Find all files with a certain extension\n",
    "extension = 'tbl'\n",
    "import_filenames = [i for i in glob.glob('*.{}'.format(extension))]\n",
    "\n",
    "extension_2 = 'csv'\n",
    "export_filenames = [i for i in glob.glob('*.{}'.format(extension_2))]\n",
    "\n",
    "read = Table.read(f for f in import_filenames, format='ascii.ipac')\n",
    "\n",
    "write = Table.write(f, overwrite=True) for f in export_filenames"
   ]
  },
  {
   "cell_type": "code",
   "execution_count": 39,
   "id": "98817688-c4f4-41f4-9e3a-79f237eb104a",
   "metadata": {},
   "outputs": [],
   "source": [
    "import os\n",
    "import glob\n",
    "from astropy.table import Table\n",
    "\n",
    "# Set the working directory\n",
    "os.chdir(r\"E:/WPy64-39100/notebooks/Test/\")\n",
    "# Find all files with a certain extension\n",
    "extension_1 = 'tbl'\n",
    "import_filenames = [i for i in glob.glob('*.{}'.format(extension_1))]\n",
    "\n",
    "extension_2 = 'csv'\n",
    "export_filenames = [i for i in glob.glob('*.{}'.format(extension_2))]\n",
    "\n",
    "for f in import_filenames:\n",
    "    read = Table.read(f, format='ascii.ipac') \n",
    "    for e in export_filenames:\n",
    "        write = Table.write(e, overwrite=True)"
   ]
  },
  {
   "cell_type": "code",
   "execution_count": 8,
   "id": "a3a174f9-7b80-472c-9151-644d9a988234",
   "metadata": {},
   "outputs": [],
   "source": [
    "import pandas as pd\n",
    "data = pd.read_csv('KIC-10525077.csv')"
   ]
  },
  {
   "cell_type": "code",
   "execution_count": 9,
   "id": "3e3b0789-8da8-439b-99ff-dcaf2db0d191",
   "metadata": {},
   "outputs": [
    {
     "data": {
      "text/html": [
       "<div>\n",
       "<style scoped>\n",
       "    .dataframe tbody tr th:only-of-type {\n",
       "        vertical-align: middle;\n",
       "    }\n",
       "\n",
       "    .dataframe tbody tr th {\n",
       "        vertical-align: top;\n",
       "    }\n",
       "\n",
       "    .dataframe thead th {\n",
       "        text-align: right;\n",
       "    }\n",
       "</style>\n",
       "<table border=\"1\" class=\"dataframe\">\n",
       "  <thead>\n",
       "    <tr style=\"text-align: right;\">\n",
       "      <th></th>\n",
       "      <th>set</th>\n",
       "      <th>TIME</th>\n",
       "      <th>PDCSAP_FLUX</th>\n",
       "    </tr>\n",
       "  </thead>\n",
       "  <tbody>\n",
       "    <tr>\n",
       "      <th>0</th>\n",
       "      <td>0</td>\n",
       "      <td>131.512345</td>\n",
       "      <td>11374.487</td>\n",
       "    </tr>\n",
       "    <tr>\n",
       "      <th>1</th>\n",
       "      <td>0</td>\n",
       "      <td>131.532779</td>\n",
       "      <td>11376.578</td>\n",
       "    </tr>\n",
       "    <tr>\n",
       "      <th>2</th>\n",
       "      <td>0</td>\n",
       "      <td>131.553213</td>\n",
       "      <td>11380.824</td>\n",
       "    </tr>\n",
       "    <tr>\n",
       "      <th>3</th>\n",
       "      <td>0</td>\n",
       "      <td>131.573647</td>\n",
       "      <td>11374.834</td>\n",
       "    </tr>\n",
       "    <tr>\n",
       "      <th>4</th>\n",
       "      <td>0</td>\n",
       "      <td>131.594082</td>\n",
       "      <td>11374.062</td>\n",
       "    </tr>\n",
       "  </tbody>\n",
       "</table>\n",
       "</div>"
      ],
      "text/plain": [
       "   set        TIME  PDCSAP_FLUX\n",
       "0    0  131.512345    11374.487\n",
       "1    0  131.532779    11376.578\n",
       "2    0  131.553213    11380.824\n",
       "3    0  131.573647    11374.834\n",
       "4    0  131.594082    11374.062"
      ]
     },
     "execution_count": 9,
     "metadata": {},
     "output_type": "execute_result"
    }
   ],
   "source": [
    "data.head(5)"
   ]
  },
  {
   "cell_type": "code",
   "execution_count": 10,
   "id": "ebd65491-ee55-48ec-aa34-4f180c0dfd8c",
   "metadata": {},
   "outputs": [],
   "source": [
    "from io import BytesIO\n",
    "from astropy.table import Table"
   ]
  },
  {
   "cell_type": "code",
   "execution_count": 17,
   "id": "eb2851a9-5956-49c9-8120-b108ad4ecbac",
   "metadata": {},
   "outputs": [],
   "source": [
    "# Import Module\n",
    "import os\n",
    "  \n",
    "# Folder Path\n",
    "path = \"E:/WPy64-39100/notebooks/Test\"\n",
    "  \n",
    "# Change the directory\n",
    "os.chdir(path)"
   ]
  },
  {
   "cell_type": "code",
   "execution_count": 18,
   "id": "8a73e53b-2d15-421b-b02a-9da0f09ecd90",
   "metadata": {},
   "outputs": [
    {
     "data": {
      "text/plain": [
       "['KIC-10525077.tbl', 'KIC-3558849.tbl']"
      ]
     },
     "execution_count": 18,
     "metadata": {},
     "output_type": "execute_result"
    }
   ],
   "source": [
    "os.listdir(path)"
   ]
  },
  {
   "cell_type": "code",
   "execution_count": 27,
   "id": "afed9627-5682-4ef6-bad4-5f85518376e5",
   "metadata": {},
   "outputs": [
    {
     "ename": "AttributeError",
     "evalue": "__enter__",
     "output_type": "error",
     "traceback": [
      "\u001b[1;31m---------------------------------------------------------------------------\u001b[0m",
      "\u001b[1;31mAttributeError\u001b[0m                            Traceback (most recent call last)",
      "\u001b[1;32m~\\AppData\\Local\\Temp\\ipykernel_11184\\3042271592.py\u001b[0m in \u001b[0;36m<module>\u001b[1;34m\u001b[0m\n\u001b[0;32m     16\u001b[0m         \u001b[0mfile_path\u001b[0m \u001b[1;33m=\u001b[0m \u001b[1;34mf\"{path}\\{file}\"\u001b[0m\u001b[1;33m\u001b[0m\u001b[1;33m\u001b[0m\u001b[0m\n\u001b[0;32m     17\u001b[0m \u001b[1;31m# call read text file function\u001b[0m\u001b[1;33m\u001b[0m\u001b[1;33m\u001b[0m\u001b[0m\n\u001b[1;32m---> 18\u001b[1;33m         \u001b[0mconvert_file\u001b[0m\u001b[1;33m(\u001b[0m\u001b[0mfile_path\u001b[0m\u001b[1;33m)\u001b[0m\u001b[1;33m\u001b[0m\u001b[1;33m\u001b[0m\u001b[0m\n\u001b[0m",
      "\u001b[1;32m~\\AppData\\Local\\Temp\\ipykernel_11184\\3042271592.py\u001b[0m in \u001b[0;36mconvert_file\u001b[1;34m(file_path)\u001b[0m\n\u001b[0;32m      8\u001b[0m \u001b[0mos\u001b[0m\u001b[1;33m.\u001b[0m\u001b[0mchdir\u001b[0m\u001b[1;33m(\u001b[0m\u001b[0mpath\u001b[0m\u001b[1;33m)\u001b[0m\u001b[1;33m\u001b[0m\u001b[1;33m\u001b[0m\u001b[0m\n\u001b[0;32m      9\u001b[0m \u001b[1;32mdef\u001b[0m \u001b[0mconvert_file\u001b[0m\u001b[1;33m(\u001b[0m\u001b[0mfile_path\u001b[0m\u001b[1;33m)\u001b[0m\u001b[1;33m:\u001b[0m\u001b[1;33m\u001b[0m\u001b[1;33m\u001b[0m\u001b[0m\n\u001b[1;32m---> 10\u001b[1;33m     \u001b[1;32mwith\u001b[0m \u001b[0mTable\u001b[0m\u001b[1;33m.\u001b[0m\u001b[0mread\u001b[0m\u001b[1;33m(\u001b[0m\u001b[0mfile_path\u001b[0m\u001b[1;33m,\u001b[0m \u001b[0mformat\u001b[0m\u001b[1;33m=\u001b[0m\u001b[1;34m'ascii.ipac'\u001b[0m\u001b[1;33m)\u001b[0m \u001b[1;32mas\u001b[0m \u001b[0mf\u001b[0m\u001b[1;33m:\u001b[0m\u001b[1;33m\u001b[0m\u001b[1;33m\u001b[0m\u001b[0m\n\u001b[0m\u001b[0;32m     11\u001b[0m         \u001b[0mf\u001b[0m\u001b[1;33m.\u001b[0m\u001b[0mwrite\u001b[0m\u001b[1;33m(\u001b[0m\u001b[0mfile_path\u001b[0m\u001b[1;33m+\u001b[0m\u001b[1;34m'.'\u001b[0m\u001b[1;33m+\u001b[0m\u001b[0mstr\u001b[0m\u001b[1;33m(\u001b[0m\u001b[0mcsv\u001b[0m\u001b[1;33m)\u001b[0m\u001b[1;33m,\u001b[0m \u001b[0moverwrite\u001b[0m\u001b[1;33m=\u001b[0m\u001b[1;32mTrue\u001b[0m\u001b[1;33m)\u001b[0m\u001b[1;33m\u001b[0m\u001b[1;33m\u001b[0m\u001b[0m\n\u001b[0;32m     12\u001b[0m \u001b[1;31m# iterate through all file\u001b[0m\u001b[1;33m\u001b[0m\u001b[1;33m\u001b[0m\u001b[0m\n",
      "\u001b[1;31mAttributeError\u001b[0m: __enter__"
     ]
    }
   ],
   "source": [
    "# Import Module\n",
    "import os\n",
    "  \n",
    "# Folder Path\n",
    "path = r\"E:/WPy64-39100/notebooks/Test\"\n",
    "  \n",
    "# Change the directory\n",
    "os.chdir(path)\n",
    "def convert_file(path):\n",
    "    with Table.read(path, format='ascii.ipac') as f:\n",
    "        f.write(path+'.'+str(csv), overwrite=True)\n",
    "# iterate through all file\n",
    "for file in os.listdir():\n",
    "    # Check whether file is in text format or not\n",
    "    if file.endswith(\".tbl\"):\n",
    "        file_path = f\"{path}\\{file}\"\n",
    "# call read text file function\n",
    "        convert_file(file_path)"
   ]
  },
  {
   "cell_type": "code",
   "execution_count": null,
   "id": "cae53618-b21f-41a2-8482-09f48f870193",
   "metadata": {},
   "outputs": [],
   "source": [
    "import glob\n",
    "# Find all files with a certain extension\n",
    "extension = 'csv'\n",
    "all_filenames = [i for i in glob.glob('*.{}'.format(extension))]\n"
   ]
  },
  {
   "cell_type": "code",
   "execution_count": 19,
   "id": "fa298225-d5d3-4bc5-8345-28fcd326f646",
   "metadata": {},
   "outputs": [
    {
     "name": "stdout",
     "output_type": "stream",
     "text": [
      "file\n"
     ]
    }
   ],
   "source": [
    "from pathlib import Path\n",
    "\n",
    "print(Path('/root/file.ext').stem)"
   ]
  },
  {
   "cell_type": "code",
   "execution_count": 22,
   "id": "c1038727-7b72-410f-943b-1ce42c4453f7",
   "metadata": {},
   "outputs": [
    {
     "data": {
      "text/plain": [
       "[WindowsPath('E:/WPy64-39100/notebooks/Test/KIC-10525077.tbl'),\n",
       " WindowsPath('E:/WPy64-39100/notebooks/Test/KIC-3558849.tbl')]"
      ]
     },
     "execution_count": 22,
     "metadata": {},
     "output_type": "execute_result"
    }
   ],
   "source": [
    "from pathlib import Path\n",
    "p = Path('E:/WPy64-39100/notebooks/Test')\n",
    "[x for x in p.iterdir() if x.is_dir()]\n",
    "list(p.glob('**/*.tbl'))"
   ]
  },
  {
   "cell_type": "code",
   "execution_count": null,
   "id": "9718010c-b741-42c2-9e57-1183a4fb84f5",
   "metadata": {},
   "outputs": [],
   "source": [
    "# Import Modules\n",
    "import os\n",
    "import glob\n",
    "import pandas as pd\n",
    "\n",
    "# Set the working directory\n",
    "os.chdir(r\"E:/WPy64-39100/notebooks/Test/\")\n",
    "\n",
    "# Find all files with a certain extension\n",
    "extension = 'csv'\n",
    "all_filenames = [i for i in glob.glob('*.{}'.format(extension))]\n",
    "\n",
    "# Combine all files in the list\n",
    "combined_csv = pd.concat([pd.read_csv(f) for f in all_filenames ])\n",
    "\n",
    "# Export to csv\n",
    "combined_csv.to_csv( \"combined_csv.csv\", index=False, encoding='utf-8-sig')\n"
   ]
  }
 ],
 "metadata": {
  "kernelspec": {
   "display_name": "Python 3 (ipykernel)",
   "language": "python",
   "name": "python3"
  },
  "language_info": {
   "codemirror_mode": {
    "name": "ipython",
    "version": 3
   },
   "file_extension": ".py",
   "mimetype": "text/x-python",
   "name": "python",
   "nbconvert_exporter": "python",
   "pygments_lexer": "ipython3",
   "version": "3.9.10"
  }
 },
 "nbformat": 4,
 "nbformat_minor": 5
}

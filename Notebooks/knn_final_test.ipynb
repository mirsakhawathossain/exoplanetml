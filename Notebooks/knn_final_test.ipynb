{
 "cells": [
  {
   "cell_type": "code",
   "execution_count": 1,
   "metadata": {},
   "outputs": [],
   "source": [
    "import warnings\n",
    "warnings.filterwarnings('ignore')"
   ]
  },
  {
   "cell_type": "code",
   "execution_count": 2,
   "metadata": {},
   "outputs": [],
   "source": [
    "import pandas as pd"
   ]
  },
  {
   "cell_type": "code",
   "execution_count": 3,
   "metadata": {},
   "outputs": [],
   "source": [
    "df = pd.read_csv('https://gitlab.com/mirsakhawathossain/exodata/-/raw/main/dataset/exodata.csv').sort_index(axis=0)"
   ]
  },
  {
   "cell_type": "code",
   "execution_count": 4,
   "metadata": {},
   "outputs": [],
   "source": [
    "columns_1 = df.columns[df.mean()==1]\n",
    "columns_2 = df.columns[df.mean()==0]\n",
    "df = df.drop(columns=columns_1)\n",
    "df = df.drop(columns=columns_2)"
   ]
  },
  {
   "cell_type": "code",
   "execution_count": 5,
   "metadata": {
    "scrolled": true
   },
   "outputs": [
    {
     "name": "stdout",
     "output_type": "stream",
     "text": [
      "Collecting scikit-learn-intelex\n",
      "  Downloading scikit_learn_intelex-2023.0.1-py38-none-manylinux1_x86_64.whl (83 kB)\n",
      "\u001b[K     |████████████████████████████████| 83 kB 1.1 MB/s eta 0:00:01\n",
      "\u001b[?25hRequirement already satisfied: scikit-learn>=0.22 in /home/idies/miniconda3/envs/py38/lib/python3.8/site-packages (from scikit-learn-intelex) (0.23.2)\n",
      "Collecting daal4py==2023.0.1\n",
      "  Downloading daal4py-2023.0.1-py38-none-manylinux1_x86_64.whl (12.6 MB)\n",
      "\u001b[K     |████████████████████████████████| 12.6 MB 16.6 MB/s eta 0:00:01K     |█████████▋                      | 3.8 MB 16.6 MB/s eta 0:00:01███▏                  | 5.2 MB 16.6 MB/s eta 0:00:01/s eta 0:00:01�           | 8.1 MB 16.6 MB/s eta 0:00:01��████████▌    | 10.9 MB 16.6 MB/s eta 0:00:013 MB 16.6 MB/s eta 0:00:01\n",
      "\u001b[?25hRequirement already satisfied: scipy>=0.19.1 in /home/idies/miniconda3/envs/py38/lib/python3.8/site-packages (from scikit-learn>=0.22->scikit-learn-intelex) (1.6.0)\n",
      "Requirement already satisfied: numpy>=1.13.3 in /home/idies/miniconda3/envs/py38/lib/python3.8/site-packages (from scikit-learn>=0.22->scikit-learn-intelex) (1.19.4)\n",
      "Requirement already satisfied: joblib>=0.11 in /home/idies/miniconda3/envs/py38/lib/python3.8/site-packages (from scikit-learn>=0.22->scikit-learn-intelex) (0.17.0)\n",
      "Requirement already satisfied: threadpoolctl>=2.0.0 in /home/idies/miniconda3/envs/py38/lib/python3.8/site-packages (from scikit-learn>=0.22->scikit-learn-intelex) (2.1.0)\n",
      "Collecting daal==2023.0.1\n",
      "  Downloading daal-2023.0.1-py2.py3-none-manylinux1_x86_64.whl (85.5 MB)\n",
      "\u001b[K     |████████████████████████████████| 85.5 MB 50 kB/s s eta 0:00:01         | 409 kB 17.5 MB/s eta 0:00:05[K     |▊                               | 1.9 MB 17.5 MB/s eta 0:00:057.1 MB 17.5 MB/s eta 0:00:05                   | 10.7 MB 17.5 MB/s eta 0:00:05                  | 19.7 MB 1.6 MB/s eta 0:00:42 MB 1.6 MB/s eta 0:00:42MB/s eta 0:00:41█████████▏                      | 24.4 MB 1.6 MB/s eta 0:00:39                  | 25.2 MB 1.6 MB/s eta 0:00:39 0:00:38MB/s eta 0:00:36MB/s eta 0:00:35▏                 | 38.0 MB 3.3 MB/s eta 0:00:1538.4 MB 3.3 MB/s eta 0:00:15��████▉                 | 39.6 MB 3.3 MB/s eta 0:00:14�██████████▍                | 41.2 MB 3.3 MB/s eta 0:00:14 0:00:13/s eta 0:00:13  | 45.7 MB 3.3 MB/s eta 0:00:13�███████████▋             | 49.8 MB 3.3 MB/s eta 0:00:11MB/s eta 0:00:11   | 52.9 MB 27.5 MB/s eta 0:00:0200:02    | 55.2 MB 27.5 MB/s eta 0:00:02�████████████▏          | 56.5 MB 27.5 MB/s eta 0:00:02█████████████████████▏         | 59.2 MB 27.5 MB/s eta 0:00:01█▋         | 60.5 MB 27.5 MB/s eta 0:00:01��████████████████▊       | 66.2 MB 27.5 MB/s eta 0:00:017.5 MB/s eta 0:00:01███████████████████▍     | 70.7 MB 27.5 MB/s eta 0:00:01█████████▉     | 71.8 MB 27.5 MB/s eta 0:00:01��████████▌    | 73.4 MB 24.8 MB/s eta 0:00:01�█████████    | 74.6 MB 24.8 MB/s eta 0:00:01�███████████████████████▏  | 77.8 MB 24.8 MB/s eta 0:00:01██████████████████████████████  | 80.5 MB 24.8 MB/s eta 0:00:01█████▌ | 81.5 MB 24.8 MB/s eta 0:00:01███████████████████████████████ | 82.7 MB 24.8 MB/s eta 0:00:01�█████████████████| 85.4 MB 24.8 MB/s eta 0:00:01\n",
      "\u001b[?25hCollecting tbb==2021.*\n",
      "  Downloading tbb-2021.8.0-py2.py3-none-manylinux1_x86_64.whl (4.0 MB)\n",
      "\u001b[K     |████████████████████████████████| 4.0 MB 17.4 MB/s eta 0:00:01██████████▉       | 3.1 MB 17.4 MB/s eta 0:00:01\n",
      "\u001b[?25hInstalling collected packages: tbb, daal, daal4py, scikit-learn-intelex\n",
      "Successfully installed daal-2023.0.1 daal4py-2023.0.1 scikit-learn-intelex-2023.0.1 tbb-2021.8.0\n"
     ]
    }
   ],
   "source": [
    "import sys\n",
    "!{sys.executable} -m pip install scikit-learn-intelex"
   ]
  },
  {
   "cell_type": "code",
   "execution_count": 6,
   "metadata": {},
   "outputs": [
    {
     "name": "stdout",
     "output_type": "stream",
     "text": [
      "Scikit-learn was successfully globally patched by Intel(R) Extension for Scikit-learn\n"
     ]
    },
    {
     "name": "stderr",
     "output_type": "stream",
     "text": [
      "Intel(R) Extension for Scikit-learn* enabled (https://github.com/intel/scikit-learn-intelex)\n"
     ]
    }
   ],
   "source": [
    "from sklearnex import patch_sklearn\n",
    "patch_sklearn(global_patch=True)"
   ]
  },
  {
   "cell_type": "code",
   "execution_count": 7,
   "metadata": {},
   "outputs": [],
   "source": [
    "X = df.drop(['exoplanet'],axis=1)"
   ]
  },
  {
   "cell_type": "code",
   "execution_count": 8,
   "metadata": {},
   "outputs": [
    {
     "data": {
      "text/plain": [
       "(75458, 741)"
      ]
     },
     "execution_count": 8,
     "metadata": {},
     "output_type": "execute_result"
    }
   ],
   "source": [
    "X.shape"
   ]
  },
  {
   "cell_type": "code",
   "execution_count": 9,
   "metadata": {},
   "outputs": [],
   "source": [
    "y = df[['exoplanet']]"
   ]
  },
  {
   "cell_type": "code",
   "execution_count": 10,
   "metadata": {},
   "outputs": [],
   "source": [
    "from sklearn.model_selection import train_test_split"
   ]
  },
  {
   "cell_type": "code",
   "execution_count": 11,
   "metadata": {},
   "outputs": [],
   "source": [
    "X_train, X_test, y_train, y_test = train_test_split(X, y, test_size=0.4, random_state=43)"
   ]
  },
  {
   "cell_type": "code",
   "execution_count": 12,
   "metadata": {},
   "outputs": [
    {
     "name": "stdout",
     "output_type": "stream",
     "text": [
      "(45274, 741)\n",
      "(30184, 741)\n"
     ]
    }
   ],
   "source": [
    "print(X_train.shape)\n",
    "print(X_test.shape)"
   ]
  },
  {
   "cell_type": "code",
   "execution_count": 13,
   "metadata": {},
   "outputs": [],
   "source": [
    "from sklearn.preprocessing import StandardScaler\n",
    "st = StandardScaler()\n",
    "X_train = st.fit_transform(X_train)\n",
    "X_test = st.transform(X_test)"
   ]
  },
  {
   "cell_type": "code",
   "execution_count": 14,
   "metadata": {},
   "outputs": [],
   "source": [
    "from sklearn.neighbors import KNeighborsClassifier\n",
    "from sklearn import metrics"
   ]
  },
  {
   "cell_type": "code",
   "execution_count": 15,
   "metadata": {},
   "outputs": [
    {
     "data": {
      "text/plain": [
       "KNeighborsClassifier(n_jobs=-1, n_neighbors=25)"
      ]
     },
     "execution_count": 15,
     "metadata": {},
     "output_type": "execute_result"
    }
   ],
   "source": [
    "knn = KNeighborsClassifier(n_neighbors=25,n_jobs=-1)\n",
    "knn.fit(X_train,y_train)"
   ]
  },
  {
   "cell_type": "code",
   "execution_count": 16,
   "metadata": {},
   "outputs": [
    {
     "name": "stdout",
     "output_type": "stream",
     "text": [
      "0.6861582295255765\n"
     ]
    }
   ],
   "source": [
    "y_pred = knn.predict(X_test)\n",
    "print(metrics.accuracy_score(y_test,y_pred))"
   ]
  }
 ],
 "metadata": {
  "kernelspec": {
   "display_name": "Python 3.8 (py38)",
   "language": "python",
   "name": "py38"
  },
  "language_info": {
   "codemirror_mode": {
    "name": "ipython",
    "version": 3
   },
   "file_extension": ".py",
   "mimetype": "text/x-python",
   "name": "python",
   "nbconvert_exporter": "python",
   "pygments_lexer": "ipython3",
   "version": "3.8.5"
  }
 },
 "nbformat": 4,
 "nbformat_minor": 4
}

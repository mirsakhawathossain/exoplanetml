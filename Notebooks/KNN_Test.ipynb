{
 "cells": [
  {
   "cell_type": "code",
   "execution_count": 24,
   "metadata": {
    "execution": {
     "iopub.execute_input": "2023-02-25T06:42:33.690109Z",
     "iopub.status.busy": "2023-02-25T06:42:33.689357Z",
     "iopub.status.idle": "2023-02-25T06:42:33.709152Z",
     "shell.execute_reply": "2023-02-25T06:42:33.707479Z",
     "shell.execute_reply.started": "2023-02-25T06:42:33.689948Z"
    }
   },
   "outputs": [],
   "source": [
    "import warnings\n",
    "warnings.filterwarnings('ignore')"
   ]
  },
  {
   "cell_type": "code",
   "execution_count": 25,
   "metadata": {
    "execution": {
     "iopub.execute_input": "2023-02-25T06:42:36.152379Z",
     "iopub.status.busy": "2023-02-25T06:42:36.151661Z",
     "iopub.status.idle": "2023-02-25T06:42:37.131430Z",
     "shell.execute_reply": "2023-02-25T06:42:37.129090Z",
     "shell.execute_reply.started": "2023-02-25T06:42:36.152327Z"
    }
   },
   "outputs": [],
   "source": [
    "import pandas as pd"
   ]
  },
  {
   "cell_type": "code",
   "execution_count": 26,
   "metadata": {
    "execution": {
     "iopub.execute_input": "2023-02-25T06:42:39.475598Z",
     "iopub.status.busy": "2023-02-25T06:42:39.474969Z",
     "iopub.status.idle": "2023-02-25T06:43:52.128834Z",
     "shell.execute_reply": "2023-02-25T06:43:52.125596Z",
     "shell.execute_reply.started": "2023-02-25T06:42:39.475545Z"
    }
   },
   "outputs": [],
   "source": [
    "df = pd.read_csv('https://gitlab.com/mirsakhawathossain/exodata/-/raw/main/dataset/exodata.csv').sort_index(axis=0)"
   ]
  },
  {
   "cell_type": "code",
   "execution_count": 27,
   "metadata": {
    "execution": {
     "iopub.execute_input": "2023-02-25T06:47:27.401013Z",
     "iopub.status.busy": "2023-02-25T06:47:27.399689Z",
     "iopub.status.idle": "2023-02-25T06:47:28.290962Z",
     "shell.execute_reply": "2023-02-25T06:47:28.289092Z",
     "shell.execute_reply.started": "2023-02-25T06:47:27.400953Z"
    },
    "tags": []
   },
   "outputs": [],
   "source": [
    "columns_1 = df.columns[df.mean()==1]"
   ]
  },
  {
   "cell_type": "code",
   "execution_count": 28,
   "metadata": {
    "execution": {
     "iopub.execute_input": "2023-02-25T06:47:29.848352Z",
     "iopub.status.busy": "2023-02-25T06:47:29.847678Z",
     "iopub.status.idle": "2023-02-25T06:47:30.138777Z",
     "shell.execute_reply": "2023-02-25T06:47:30.136634Z",
     "shell.execute_reply.started": "2023-02-25T06:47:29.848299Z"
    },
    "tags": []
   },
   "outputs": [],
   "source": [
    "columns_2 = df.columns[df.mean()==0]"
   ]
  },
  {
   "cell_type": "code",
   "execution_count": 29,
   "metadata": {
    "execution": {
     "iopub.execute_input": "2023-02-25T06:47:32.654844Z",
     "iopub.status.busy": "2023-02-25T06:47:32.653943Z",
     "iopub.status.idle": "2023-02-25T06:47:34.725151Z",
     "shell.execute_reply": "2023-02-25T06:47:34.723095Z",
     "shell.execute_reply.started": "2023-02-25T06:47:32.654724Z"
    },
    "tags": []
   },
   "outputs": [],
   "source": [
    "df = df.drop(columns=columns_1)"
   ]
  },
  {
   "cell_type": "code",
   "execution_count": 30,
   "metadata": {
    "execution": {
     "iopub.execute_input": "2023-02-25T06:47:39.671954Z",
     "iopub.status.busy": "2023-02-25T06:47:39.671175Z",
     "iopub.status.idle": "2023-02-25T06:47:40.828693Z",
     "shell.execute_reply": "2023-02-25T06:47:40.826540Z",
     "shell.execute_reply.started": "2023-02-25T06:47:39.671863Z"
    },
    "tags": []
   },
   "outputs": [],
   "source": [
    "df = df.drop(columns=columns_2)"
   ]
  },
  {
   "cell_type": "code",
   "execution_count": 31,
   "metadata": {},
   "outputs": [
    {
     "name": "stdout",
     "output_type": "stream",
     "text": [
      "Requirement already satisfied: scikit-learn-intelex in /home/idies/miniconda3/envs/py38/lib/python3.8/site-packages (2023.0.1)\n",
      "Requirement already satisfied: daal4py==2023.0.1 in /home/idies/miniconda3/envs/py38/lib/python3.8/site-packages (from scikit-learn-intelex) (2023.0.1)\n",
      "Requirement already satisfied: scikit-learn>=0.22 in /home/idies/miniconda3/envs/py38/lib/python3.8/site-packages (from scikit-learn-intelex) (0.23.2)\n",
      "Requirement already satisfied: daal==2023.0.1 in /home/idies/miniconda3/envs/py38/lib/python3.8/site-packages (from daal4py==2023.0.1->scikit-learn-intelex) (2023.0.1)\n",
      "Requirement already satisfied: numpy>=1.15 in /home/idies/miniconda3/envs/py38/lib/python3.8/site-packages (from daal4py==2023.0.1->scikit-learn-intelex) (1.19.4)\n",
      "Requirement already satisfied: scipy>=0.19.1 in /home/idies/miniconda3/envs/py38/lib/python3.8/site-packages (from scikit-learn>=0.22->scikit-learn-intelex) (1.6.0)\n",
      "Requirement already satisfied: threadpoolctl>=2.0.0 in /home/idies/miniconda3/envs/py38/lib/python3.8/site-packages (from scikit-learn>=0.22->scikit-learn-intelex) (2.1.0)\n",
      "Requirement already satisfied: joblib>=0.11 in /home/idies/miniconda3/envs/py38/lib/python3.8/site-packages (from scikit-learn>=0.22->scikit-learn-intelex) (0.17.0)\n",
      "Requirement already satisfied: tbb==2021.* in /home/idies/miniconda3/envs/py38/lib/python3.8/site-packages (from daal==2023.0.1->daal4py==2023.0.1->scikit-learn-intelex) (2021.8.0)\n"
     ]
    }
   ],
   "source": [
    " import sys\n",
    "!{sys.executable} -m pip install scikit-learn-intelex"
   ]
  },
  {
   "cell_type": "code",
   "execution_count": 32,
   "metadata": {
    "execution": {
     "iopub.execute_input": "2023-02-25T06:51:00.786858Z",
     "iopub.status.busy": "2023-02-25T06:51:00.785798Z",
     "iopub.status.idle": "2023-02-25T06:51:07.324800Z",
     "shell.execute_reply": "2023-02-25T06:51:07.322666Z",
     "shell.execute_reply.started": "2023-02-25T06:51:00.786716Z"
    }
   },
   "outputs": [
    {
     "name": "stdout",
     "output_type": "stream",
     "text": [
      "Scikit-learn was successfully globally patched by Intel(R) Extension for Scikit-learn\n"
     ]
    },
    {
     "name": "stderr",
     "output_type": "stream",
     "text": [
      "Intel(R) Extension for Scikit-learn* enabled (https://github.com/intel/scikit-learn-intelex)\n"
     ]
    }
   ],
   "source": [
    "from sklearnex import patch_sklearn\n",
    "patch_sklearn(global_patch=True)"
   ]
  },
  {
   "cell_type": "code",
   "execution_count": 33,
   "metadata": {
    "execution": {
     "iopub.execute_input": "2023-02-25T06:52:39.508502Z",
     "iopub.status.busy": "2023-02-25T06:52:39.507664Z",
     "iopub.status.idle": "2023-02-25T06:52:41.949220Z",
     "shell.execute_reply": "2023-02-25T06:52:41.946827Z",
     "shell.execute_reply.started": "2023-02-25T06:52:39.508429Z"
    }
   },
   "outputs": [],
   "source": [
    "X = df.drop(['exoplanet'],axis=1)"
   ]
  },
  {
   "cell_type": "code",
   "execution_count": 34,
   "metadata": {
    "execution": {
     "iopub.execute_input": "2023-02-25T06:52:41.953445Z",
     "iopub.status.busy": "2023-02-25T06:52:41.952977Z",
     "iopub.status.idle": "2023-02-25T06:52:41.986851Z",
     "shell.execute_reply": "2023-02-25T06:52:41.984348Z",
     "shell.execute_reply.started": "2023-02-25T06:52:41.953397Z"
    }
   },
   "outputs": [
    {
     "data": {
      "text/plain": [
       "(75458, 741)"
      ]
     },
     "execution_count": 34,
     "metadata": {},
     "output_type": "execute_result"
    }
   ],
   "source": [
    "X.shape"
   ]
  },
  {
   "cell_type": "code",
   "execution_count": 35,
   "metadata": {},
   "outputs": [],
   "source": [
    "mul_col = pd.read_csv('https://gitlab.com/mirsakhawathossain/exodata/-/raw/main/dataset/multi_col_skl.csv').sort_index(axis=0)"
   ]
  },
  {
   "cell_type": "code",
   "execution_count": 36,
   "metadata": {
    "execution": {
     "iopub.execute_input": "2023-02-25T06:52:45.937703Z",
     "iopub.status.busy": "2023-02-25T06:52:45.937081Z",
     "iopub.status.idle": "2023-02-25T06:52:45.964804Z",
     "shell.execute_reply": "2023-02-25T06:52:45.962964Z",
     "shell.execute_reply.started": "2023-02-25T06:52:45.937650Z"
    }
   },
   "outputs": [],
   "source": [
    "X = X.drop(columns=mul_col[mul_col['VIF']>5]['feature'].to_list())"
   ]
  },
  {
   "cell_type": "code",
   "execution_count": 37,
   "metadata": {},
   "outputs": [
    {
     "data": {
      "text/html": [
       "<div>\n",
       "<style scoped>\n",
       "    .dataframe tbody tr th:only-of-type {\n",
       "        vertical-align: middle;\n",
       "    }\n",
       "\n",
       "    .dataframe tbody tr th {\n",
       "        vertical-align: top;\n",
       "    }\n",
       "\n",
       "    .dataframe thead th {\n",
       "        text-align: right;\n",
       "    }\n",
       "</style>\n",
       "<table border=\"1\" class=\"dataframe\">\n",
       "  <thead>\n",
       "    <tr style=\"text-align: right;\">\n",
       "      <th></th>\n",
       "      <th>PDCSAP_FLUX__has_duplicate_max</th>\n",
       "      <th>PDCSAP_FLUX__has_duplicate_min</th>\n",
       "      <th>PDCSAP_FLUX__has_duplicate</th>\n",
       "      <th>PDCSAP_FLUX__kurtosis</th>\n",
       "      <th>PDCSAP_FLUX__longest_strike_below_mean</th>\n",
       "      <th>PDCSAP_FLUX__longest_strike_above_mean</th>\n",
       "      <th>PDCSAP_FLUX__benford_correlation</th>\n",
       "      <th>PDCSAP_FLUX__symmetry_looking__r_0.05</th>\n",
       "      <th>PDCSAP_FLUX__symmetry_looking__r_0.1</th>\n",
       "      <th>PDCSAP_FLUX__symmetry_looking__r_0.15000000000000002</th>\n",
       "      <th>...</th>\n",
       "      <th>PDCSAP_FLUX__friedrich_coefficients__coeff_3__m_3__r_30</th>\n",
       "      <th>PDCSAP_FLUX__linear_trend__attr_\"pvalue\"</th>\n",
       "      <th>PDCSAP_FLUX__agg_linear_trend__attr_\"rvalue\"__chunk_len_50__f_agg_\"var\"</th>\n",
       "      <th>PDCSAP_FLUX__augmented_dickey_fuller__attr_\"teststat\"__autolag_\"AIC\"</th>\n",
       "      <th>PDCSAP_FLUX__augmented_dickey_fuller__attr_\"pvalue\"__autolag_\"AIC\"</th>\n",
       "      <th>PDCSAP_FLUX__augmented_dickey_fuller__attr_\"usedlag\"__autolag_\"AIC\"</th>\n",
       "      <th>PDCSAP_FLUX__ratio_beyond_r_sigma__r_10</th>\n",
       "      <th>PDCSAP_FLUX__lempel_ziv_complexity__bins_2</th>\n",
       "      <th>PDCSAP_FLUX__lempel_ziv_complexity__bins_3</th>\n",
       "      <th>PDCSAP_FLUX__fourier_entropy__bins_2</th>\n",
       "    </tr>\n",
       "  </thead>\n",
       "  <tbody>\n",
       "    <tr>\n",
       "      <th>0</th>\n",
       "      <td>0.0</td>\n",
       "      <td>0.0</td>\n",
       "      <td>0.0</td>\n",
       "      <td>4.858332</td>\n",
       "      <td>61.0</td>\n",
       "      <td>47.0</td>\n",
       "      <td>0.310307</td>\n",
       "      <td>1.0</td>\n",
       "      <td>1.0</td>\n",
       "      <td>1.0</td>\n",
       "      <td>...</td>\n",
       "      <td>46447.590934</td>\n",
       "      <td>0.636100</td>\n",
       "      <td>0.017144</td>\n",
       "      <td>-8.280057</td>\n",
       "      <td>4.545216e-13</td>\n",
       "      <td>10.0</td>\n",
       "      <td>0.0</td>\n",
       "      <td>0.048645</td>\n",
       "      <td>0.074507</td>\n",
       "      <td>0.079983</td>\n",
       "    </tr>\n",
       "    <tr>\n",
       "      <th>1</th>\n",
       "      <td>0.0</td>\n",
       "      <td>0.0</td>\n",
       "      <td>1.0</td>\n",
       "      <td>10.487121</td>\n",
       "      <td>63.0</td>\n",
       "      <td>72.0</td>\n",
       "      <td>0.314397</td>\n",
       "      <td>1.0</td>\n",
       "      <td>1.0</td>\n",
       "      <td>1.0</td>\n",
       "      <td>...</td>\n",
       "      <td>190599.014820</td>\n",
       "      <td>0.045399</td>\n",
       "      <td>-0.052609</td>\n",
       "      <td>-11.689064</td>\n",
       "      <td>1.669660e-21</td>\n",
       "      <td>31.0</td>\n",
       "      <td>0.0</td>\n",
       "      <td>0.035381</td>\n",
       "      <td>0.037838</td>\n",
       "      <td>0.079983</td>\n",
       "    </tr>\n",
       "    <tr>\n",
       "      <th>2</th>\n",
       "      <td>0.0</td>\n",
       "      <td>0.0</td>\n",
       "      <td>1.0</td>\n",
       "      <td>17.620781</td>\n",
       "      <td>67.0</td>\n",
       "      <td>54.0</td>\n",
       "      <td>0.319338</td>\n",
       "      <td>1.0</td>\n",
       "      <td>1.0</td>\n",
       "      <td>1.0</td>\n",
       "      <td>...</td>\n",
       "      <td>347758.899396</td>\n",
       "      <td>0.000004</td>\n",
       "      <td>-0.014944</td>\n",
       "      <td>-12.397776</td>\n",
       "      <td>4.633508e-23</td>\n",
       "      <td>28.0</td>\n",
       "      <td>0.0</td>\n",
       "      <td>0.035559</td>\n",
       "      <td>0.036284</td>\n",
       "      <td>0.163982</td>\n",
       "    </tr>\n",
       "    <tr>\n",
       "      <th>3</th>\n",
       "      <td>0.0</td>\n",
       "      <td>0.0</td>\n",
       "      <td>1.0</td>\n",
       "      <td>18.218002</td>\n",
       "      <td>43.0</td>\n",
       "      <td>53.0</td>\n",
       "      <td>0.325985</td>\n",
       "      <td>1.0</td>\n",
       "      <td>1.0</td>\n",
       "      <td>1.0</td>\n",
       "      <td>...</td>\n",
       "      <td>364894.193719</td>\n",
       "      <td>0.000084</td>\n",
       "      <td>-0.051514</td>\n",
       "      <td>-11.781362</td>\n",
       "      <td>1.033023e-21</td>\n",
       "      <td>28.0</td>\n",
       "      <td>0.0</td>\n",
       "      <td>0.034567</td>\n",
       "      <td>0.036271</td>\n",
       "      <td>0.079983</td>\n",
       "    </tr>\n",
       "    <tr>\n",
       "      <th>4</th>\n",
       "      <td>0.0</td>\n",
       "      <td>0.0</td>\n",
       "      <td>1.0</td>\n",
       "      <td>14.686383</td>\n",
       "      <td>59.0</td>\n",
       "      <td>50.0</td>\n",
       "      <td>0.315969</td>\n",
       "      <td>1.0</td>\n",
       "      <td>1.0</td>\n",
       "      <td>1.0</td>\n",
       "      <td>...</td>\n",
       "      <td>138844.647429</td>\n",
       "      <td>0.715877</td>\n",
       "      <td>-0.061092</td>\n",
       "      <td>-17.544972</td>\n",
       "      <td>4.170601e-30</td>\n",
       "      <td>32.0</td>\n",
       "      <td>0.0</td>\n",
       "      <td>0.034552</td>\n",
       "      <td>0.040571</td>\n",
       "      <td>0.138228</td>\n",
       "    </tr>\n",
       "  </tbody>\n",
       "</table>\n",
       "<p>5 rows × 148 columns</p>\n",
       "</div>"
      ],
      "text/plain": [
       "   PDCSAP_FLUX__has_duplicate_max  PDCSAP_FLUX__has_duplicate_min  \\\n",
       "0                             0.0                             0.0   \n",
       "1                             0.0                             0.0   \n",
       "2                             0.0                             0.0   \n",
       "3                             0.0                             0.0   \n",
       "4                             0.0                             0.0   \n",
       "\n",
       "   PDCSAP_FLUX__has_duplicate  PDCSAP_FLUX__kurtosis  \\\n",
       "0                         0.0               4.858332   \n",
       "1                         1.0              10.487121   \n",
       "2                         1.0              17.620781   \n",
       "3                         1.0              18.218002   \n",
       "4                         1.0              14.686383   \n",
       "\n",
       "   PDCSAP_FLUX__longest_strike_below_mean  \\\n",
       "0                                    61.0   \n",
       "1                                    63.0   \n",
       "2                                    67.0   \n",
       "3                                    43.0   \n",
       "4                                    59.0   \n",
       "\n",
       "   PDCSAP_FLUX__longest_strike_above_mean  PDCSAP_FLUX__benford_correlation  \\\n",
       "0                                    47.0                          0.310307   \n",
       "1                                    72.0                          0.314397   \n",
       "2                                    54.0                          0.319338   \n",
       "3                                    53.0                          0.325985   \n",
       "4                                    50.0                          0.315969   \n",
       "\n",
       "   PDCSAP_FLUX__symmetry_looking__r_0.05  \\\n",
       "0                                    1.0   \n",
       "1                                    1.0   \n",
       "2                                    1.0   \n",
       "3                                    1.0   \n",
       "4                                    1.0   \n",
       "\n",
       "   PDCSAP_FLUX__symmetry_looking__r_0.1  \\\n",
       "0                                   1.0   \n",
       "1                                   1.0   \n",
       "2                                   1.0   \n",
       "3                                   1.0   \n",
       "4                                   1.0   \n",
       "\n",
       "   PDCSAP_FLUX__symmetry_looking__r_0.15000000000000002  ...  \\\n",
       "0                                                1.0     ...   \n",
       "1                                                1.0     ...   \n",
       "2                                                1.0     ...   \n",
       "3                                                1.0     ...   \n",
       "4                                                1.0     ...   \n",
       "\n",
       "   PDCSAP_FLUX__friedrich_coefficients__coeff_3__m_3__r_30  \\\n",
       "0                                       46447.590934         \n",
       "1                                      190599.014820         \n",
       "2                                      347758.899396         \n",
       "3                                      364894.193719         \n",
       "4                                      138844.647429         \n",
       "\n",
       "   PDCSAP_FLUX__linear_trend__attr_\"pvalue\"  \\\n",
       "0                                  0.636100   \n",
       "1                                  0.045399   \n",
       "2                                  0.000004   \n",
       "3                                  0.000084   \n",
       "4                                  0.715877   \n",
       "\n",
       "   PDCSAP_FLUX__agg_linear_trend__attr_\"rvalue\"__chunk_len_50__f_agg_\"var\"  \\\n",
       "0                                           0.017144                         \n",
       "1                                          -0.052609                         \n",
       "2                                          -0.014944                         \n",
       "3                                          -0.051514                         \n",
       "4                                          -0.061092                         \n",
       "\n",
       "   PDCSAP_FLUX__augmented_dickey_fuller__attr_\"teststat\"__autolag_\"AIC\"  \\\n",
       "0                                          -8.280057                      \n",
       "1                                         -11.689064                      \n",
       "2                                         -12.397776                      \n",
       "3                                         -11.781362                      \n",
       "4                                         -17.544972                      \n",
       "\n",
       "   PDCSAP_FLUX__augmented_dickey_fuller__attr_\"pvalue\"__autolag_\"AIC\"  \\\n",
       "0                                       4.545216e-13                    \n",
       "1                                       1.669660e-21                    \n",
       "2                                       4.633508e-23                    \n",
       "3                                       1.033023e-21                    \n",
       "4                                       4.170601e-30                    \n",
       "\n",
       "   PDCSAP_FLUX__augmented_dickey_fuller__attr_\"usedlag\"__autolag_\"AIC\"  \\\n",
       "0                                               10.0                     \n",
       "1                                               31.0                     \n",
       "2                                               28.0                     \n",
       "3                                               28.0                     \n",
       "4                                               32.0                     \n",
       "\n",
       "   PDCSAP_FLUX__ratio_beyond_r_sigma__r_10  \\\n",
       "0                                      0.0   \n",
       "1                                      0.0   \n",
       "2                                      0.0   \n",
       "3                                      0.0   \n",
       "4                                      0.0   \n",
       "\n",
       "   PDCSAP_FLUX__lempel_ziv_complexity__bins_2  \\\n",
       "0                                    0.048645   \n",
       "1                                    0.035381   \n",
       "2                                    0.035559   \n",
       "3                                    0.034567   \n",
       "4                                    0.034552   \n",
       "\n",
       "   PDCSAP_FLUX__lempel_ziv_complexity__bins_3  \\\n",
       "0                                    0.074507   \n",
       "1                                    0.037838   \n",
       "2                                    0.036284   \n",
       "3                                    0.036271   \n",
       "4                                    0.040571   \n",
       "\n",
       "   PDCSAP_FLUX__fourier_entropy__bins_2  \n",
       "0                              0.079983  \n",
       "1                              0.079983  \n",
       "2                              0.163982  \n",
       "3                              0.079983  \n",
       "4                              0.138228  \n",
       "\n",
       "[5 rows x 148 columns]"
      ]
     },
     "execution_count": 37,
     "metadata": {},
     "output_type": "execute_result"
    }
   ],
   "source": [
    "X.head(5)"
   ]
  },
  {
   "cell_type": "code",
   "execution_count": 38,
   "metadata": {},
   "outputs": [],
   "source": [
    "y = df[['exoplanet']]"
   ]
  },
  {
   "cell_type": "code",
   "execution_count": 39,
   "metadata": {},
   "outputs": [
    {
     "data": {
      "text/html": [
       "<div>\n",
       "<style scoped>\n",
       "    .dataframe tbody tr th:only-of-type {\n",
       "        vertical-align: middle;\n",
       "    }\n",
       "\n",
       "    .dataframe tbody tr th {\n",
       "        vertical-align: top;\n",
       "    }\n",
       "\n",
       "    .dataframe thead th {\n",
       "        text-align: right;\n",
       "    }\n",
       "</style>\n",
       "<table border=\"1\" class=\"dataframe\">\n",
       "  <thead>\n",
       "    <tr style=\"text-align: right;\">\n",
       "      <th></th>\n",
       "      <th>exoplanet</th>\n",
       "    </tr>\n",
       "  </thead>\n",
       "  <tbody>\n",
       "    <tr>\n",
       "      <th>0</th>\n",
       "      <td>0</td>\n",
       "    </tr>\n",
       "    <tr>\n",
       "      <th>1</th>\n",
       "      <td>0</td>\n",
       "    </tr>\n",
       "    <tr>\n",
       "      <th>2</th>\n",
       "      <td>0</td>\n",
       "    </tr>\n",
       "    <tr>\n",
       "      <th>3</th>\n",
       "      <td>0</td>\n",
       "    </tr>\n",
       "    <tr>\n",
       "      <th>4</th>\n",
       "      <td>0</td>\n",
       "    </tr>\n",
       "    <tr>\n",
       "      <th>...</th>\n",
       "      <td>...</td>\n",
       "    </tr>\n",
       "    <tr>\n",
       "      <th>75453</th>\n",
       "      <td>1</td>\n",
       "    </tr>\n",
       "    <tr>\n",
       "      <th>75454</th>\n",
       "      <td>1</td>\n",
       "    </tr>\n",
       "    <tr>\n",
       "      <th>75455</th>\n",
       "      <td>1</td>\n",
       "    </tr>\n",
       "    <tr>\n",
       "      <th>75456</th>\n",
       "      <td>1</td>\n",
       "    </tr>\n",
       "    <tr>\n",
       "      <th>75457</th>\n",
       "      <td>1</td>\n",
       "    </tr>\n",
       "  </tbody>\n",
       "</table>\n",
       "<p>75458 rows × 1 columns</p>\n",
       "</div>"
      ],
      "text/plain": [
       "       exoplanet\n",
       "0              0\n",
       "1              0\n",
       "2              0\n",
       "3              0\n",
       "4              0\n",
       "...          ...\n",
       "75453          1\n",
       "75454          1\n",
       "75455          1\n",
       "75456          1\n",
       "75457          1\n",
       "\n",
       "[75458 rows x 1 columns]"
      ]
     },
     "execution_count": 39,
     "metadata": {},
     "output_type": "execute_result"
    }
   ],
   "source": [
    "y"
   ]
  },
  {
   "cell_type": "code",
   "execution_count": 40,
   "metadata": {},
   "outputs": [],
   "source": [
    "from sklearn.model_selection import train_test_split"
   ]
  },
  {
   "cell_type": "code",
   "execution_count": 41,
   "metadata": {},
   "outputs": [],
   "source": [
    " from sklearn import preprocessing\n",
    "scaler = preprocessing.StandardScaler().fit(X)\n",
    "X_new = scaler.transform(X)"
   ]
  },
  {
   "cell_type": "code",
   "execution_count": 42,
   "metadata": {},
   "outputs": [],
   "source": [
    "X_train, X_test, y_train, y_test = train_test_split(X_new, y, test_size=0.4, random_state=42)"
   ]
  },
  {
   "cell_type": "code",
   "execution_count": 43,
   "metadata": {},
   "outputs": [
    {
     "name": "stdout",
     "output_type": "stream",
     "text": [
      "(45274, 148)\n",
      "(30184, 148)\n"
     ]
    }
   ],
   "source": [
    "print(X_train.shape)\n",
    "print(X_test.shape)"
   ]
  },
  {
   "cell_type": "code",
   "execution_count": 44,
   "metadata": {},
   "outputs": [],
   "source": [
    "from sklearn.neighbors import KNeighborsClassifier\n",
    "from sklearn import metrics"
   ]
  },
  {
   "cell_type": "code",
   "execution_count": 45,
   "metadata": {},
   "outputs": [
    {
     "data": {
      "text/plain": [
       "KNeighborsClassifier(n_jobs=-1, n_neighbors=25)"
      ]
     },
     "execution_count": 45,
     "metadata": {},
     "output_type": "execute_result"
    }
   ],
   "source": [
    "knn = KNeighborsClassifier(n_neighbors=25,n_jobs=-1)\n",
    "knn.fit(X_train,y_train)"
   ]
  },
  {
   "cell_type": "code",
   "execution_count": 46,
   "metadata": {},
   "outputs": [
    {
     "name": "stdout",
     "output_type": "stream",
     "text": [
      "0.6383183143387225\n"
     ]
    }
   ],
   "source": [
    "y_pred = knn.predict(X_test)\n",
    "print(metrics.accuracy_score(y_test,y_pred))"
   ]
  },
  {
   "cell_type": "code",
   "execution_count": null,
   "metadata": {},
   "outputs": [],
   "source": []
  }
 ],
 "metadata": {
  "kernelspec": {
   "display_name": "Python 3.8 (py38)",
   "language": "python",
   "name": "py38"
  },
  "language_info": {
   "codemirror_mode": {
    "name": "ipython",
    "version": 3
   },
   "file_extension": ".py",
   "mimetype": "text/x-python",
   "name": "python",
   "nbconvert_exporter": "python",
   "pygments_lexer": "ipython3",
   "version": "3.8.5"
  }
 },
 "nbformat": 4,
 "nbformat_minor": 4
}

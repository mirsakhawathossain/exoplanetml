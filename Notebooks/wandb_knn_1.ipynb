{
 "cells": [
  {
   "cell_type": "markdown",
   "metadata": {},
   "source": [
    "* https://wandb.ai/lavanyashukla/visualize-sklearn/reports/Visualize-Scikit-Learn-Models-with-Weights-Biases--Vmlldzo0ODIzNg\n",
    "* https://www.geeksforgeeks.org/how-to-create-a-residual-plot-in-python/\n",
    "* https://scikit-learn.org/stable/glossary.html#term-predict_proba"
   ]
  },
  {
   "cell_type": "code",
   "execution_count": 1,
   "metadata": {},
   "outputs": [
    {
     "name": "stdout",
     "output_type": "stream",
     "text": [
      "Requirement already satisfied: wandb in /home/idies/miniconda3/envs/py38/lib/python3.8/site-packages (0.13.10)\n",
      "Requirement already satisfied: scikit-learn-intelex in /home/idies/miniconda3/envs/py38/lib/python3.8/site-packages (2023.0.1)\n",
      "Requirement already satisfied: psutil>=5.0.0 in /home/idies/miniconda3/envs/py38/lib/python3.8/site-packages (from wandb) (5.7.2)\n",
      "Requirement already satisfied: appdirs>=1.4.3 in /home/idies/miniconda3/envs/py38/lib/python3.8/site-packages (from wandb) (1.4.4)\n",
      "Requirement already satisfied: protobuf!=4.21.0,<5,>=3.12.0; python_version < \"3.9\" and sys_platform == \"linux\" in /home/idies/miniconda3/envs/py38/lib/python3.8/site-packages (from wandb) (3.13.0)\n",
      "Requirement already satisfied: pathtools in /home/idies/miniconda3/envs/py38/lib/python3.8/site-packages (from wandb) (0.1.2)\n",
      "Requirement already satisfied: setuptools in /home/idies/miniconda3/envs/py38/lib/python3.8/site-packages (from wandb) (50.3.1.post20201107)\n",
      "Requirement already satisfied: setproctitle in /home/idies/miniconda3/envs/py38/lib/python3.8/site-packages (from wandb) (1.3.2)\n",
      "Requirement already satisfied: Click!=8.0.0,>=7.0 in /home/idies/miniconda3/envs/py38/lib/python3.8/site-packages (from wandb) (7.1.2)\n",
      "Requirement already satisfied: PyYAML in /home/idies/miniconda3/envs/py38/lib/python3.8/site-packages (from wandb) (5.3.1)\n",
      "Requirement already satisfied: requests<3,>=2.0.0 in /home/idies/miniconda3/envs/py38/lib/python3.8/site-packages (from wandb) (2.24.0)\n",
      "Requirement already satisfied: typing-extensions; python_version < \"3.10\" in /home/idies/miniconda3/envs/py38/lib/python3.8/site-packages (from wandb) (3.7.4.3)\n",
      "Requirement already satisfied: sentry-sdk>=1.0.0 in /home/idies/miniconda3/envs/py38/lib/python3.8/site-packages (from wandb) (1.15.0)\n",
      "Requirement already satisfied: GitPython>=1.0.0 in /home/idies/miniconda3/envs/py38/lib/python3.8/site-packages (from wandb) (3.1.31)\n",
      "Requirement already satisfied: docker-pycreds>=0.4.0 in /home/idies/miniconda3/envs/py38/lib/python3.8/site-packages (from wandb) (0.4.0)\n",
      "Requirement already satisfied: daal4py==2023.0.1 in /home/idies/miniconda3/envs/py38/lib/python3.8/site-packages (from scikit-learn-intelex) (2023.0.1)\n",
      "Requirement already satisfied: scikit-learn>=0.22 in /home/idies/miniconda3/envs/py38/lib/python3.8/site-packages (from scikit-learn-intelex) (0.23.2)\n",
      "Requirement already satisfied: six>=1.9 in /home/idies/miniconda3/envs/py38/lib/python3.8/site-packages (from protobuf!=4.21.0,<5,>=3.12.0; python_version < \"3.9\" and sys_platform == \"linux\"->wandb) (1.15.0)\n",
      "Requirement already satisfied: urllib3!=1.25.0,!=1.25.1,<1.26,>=1.21.1 in /home/idies/miniconda3/envs/py38/lib/python3.8/site-packages (from requests<3,>=2.0.0->wandb) (1.25.11)\n",
      "Requirement already satisfied: idna<3,>=2.5 in /home/idies/miniconda3/envs/py38/lib/python3.8/site-packages (from requests<3,>=2.0.0->wandb) (2.10)\n",
      "Requirement already satisfied: chardet<4,>=3.0.2 in /home/idies/miniconda3/envs/py38/lib/python3.8/site-packages (from requests<3,>=2.0.0->wandb) (3.0.4)\n",
      "Requirement already satisfied: certifi>=2017.4.17 in /home/idies/miniconda3/envs/py38/lib/python3.8/site-packages (from requests<3,>=2.0.0->wandb) (2020.12.5)\n",
      "Requirement already satisfied: gitdb<5,>=4.0.1 in /home/idies/miniconda3/envs/py38/lib/python3.8/site-packages (from GitPython>=1.0.0->wandb) (4.0.10)\n",
      "Requirement already satisfied: daal==2023.0.1 in /home/idies/miniconda3/envs/py38/lib/python3.8/site-packages (from daal4py==2023.0.1->scikit-learn-intelex) (2023.0.1)\n",
      "Requirement already satisfied: numpy>=1.15 in /home/idies/miniconda3/envs/py38/lib/python3.8/site-packages (from daal4py==2023.0.1->scikit-learn-intelex) (1.19.4)\n",
      "Requirement already satisfied: threadpoolctl>=2.0.0 in /home/idies/miniconda3/envs/py38/lib/python3.8/site-packages (from scikit-learn>=0.22->scikit-learn-intelex) (2.1.0)\n",
      "Requirement already satisfied: joblib>=0.11 in /home/idies/miniconda3/envs/py38/lib/python3.8/site-packages (from scikit-learn>=0.22->scikit-learn-intelex) (0.17.0)\n",
      "Requirement already satisfied: scipy>=0.19.1 in /home/idies/miniconda3/envs/py38/lib/python3.8/site-packages (from scikit-learn>=0.22->scikit-learn-intelex) (1.6.0)\n",
      "Requirement already satisfied: smmap<6,>=3.0.1 in /home/idies/miniconda3/envs/py38/lib/python3.8/site-packages (from gitdb<5,>=4.0.1->GitPython>=1.0.0->wandb) (5.0.0)\n",
      "Requirement already satisfied: tbb==2021.* in /home/idies/miniconda3/envs/py38/lib/python3.8/site-packages (from daal==2023.0.1->daal4py==2023.0.1->scikit-learn-intelex) (2021.8.0)\n"
     ]
    }
   ],
   "source": [
    " import sys\n",
    "!{sys.executable} -m pip install wandb scikit-learn-intelex"
   ]
  },
  {
   "cell_type": "code",
   "execution_count": 2,
   "metadata": {},
   "outputs": [],
   "source": [
    "import warnings\n",
    "warnings.filterwarnings('ignore')"
   ]
  },
  {
   "cell_type": "code",
   "execution_count": 3,
   "metadata": {},
   "outputs": [
    {
     "name": "stdout",
     "output_type": "stream",
     "text": [
      "Scikit-learn was successfully globally patched by Intel(R) Extension for Scikit-learn\n"
     ]
    },
    {
     "name": "stderr",
     "output_type": "stream",
     "text": [
      "Intel(R) Extension for Scikit-learn* enabled (https://github.com/intel/scikit-learn-intelex)\n"
     ]
    }
   ],
   "source": [
    "from sklearnex import patch_sklearn\n",
    "patch_sklearn(global_patch=True)"
   ]
  },
  {
   "cell_type": "code",
   "execution_count": 4,
   "metadata": {},
   "outputs": [],
   "source": [
    "import os\n",
    "os.environ['WANDB_API_KEY'] = 'b3c6dfb61d66930ee7d291c6b19c0ae0b5007c62'"
   ]
  },
  {
   "cell_type": "code",
   "execution_count": 5,
   "metadata": {},
   "outputs": [
    {
     "name": "stderr",
     "output_type": "stream",
     "text": [
      "\u001b[34m\u001b[1mwandb\u001b[0m: Currently logged in as: \u001b[33msakhawat\u001b[0m. Use \u001b[1m`wandb login --relogin`\u001b[0m to force relogin\n"
     ]
    },
    {
     "data": {
      "text/html": [
       "Tracking run with wandb version 0.13.10"
      ],
      "text/plain": [
       "<IPython.core.display.HTML object>"
      ]
     },
     "metadata": {},
     "output_type": "display_data"
    },
    {
     "data": {
      "text/html": [
       "Run data is saved locally in <code>/home/idies/workspace/Storage/s.hossain18/persistent/wandb/run-20230226_064700-6bgmgh04</code>"
      ],
      "text/plain": [
       "<IPython.core.display.HTML object>"
      ]
     },
     "metadata": {},
     "output_type": "display_data"
    },
    {
     "data": {
      "text/html": [
       "Syncing run <strong><a href='https://wandb.ai/sakhawat/exoplanetml/runs/6bgmgh04' target=\"_blank\">KNN Exp-1</a></strong> to <a href='https://wandb.ai/sakhawat/exoplanetml' target=\"_blank\">Weights & Biases</a> (<a href='https://wandb.me/run' target=\"_blank\">docs</a>)<br/>"
      ],
      "text/plain": [
       "<IPython.core.display.HTML object>"
      ]
     },
     "metadata": {},
     "output_type": "display_data"
    },
    {
     "data": {
      "text/html": [
       " View project at <a href='https://wandb.ai/sakhawat/exoplanetml' target=\"_blank\">https://wandb.ai/sakhawat/exoplanetml</a>"
      ],
      "text/plain": [
       "<IPython.core.display.HTML object>"
      ]
     },
     "metadata": {},
     "output_type": "display_data"
    },
    {
     "data": {
      "text/html": [
       " View run at <a href='https://wandb.ai/sakhawat/exoplanetml/runs/6bgmgh04' target=\"_blank\">https://wandb.ai/sakhawat/exoplanetml/runs/6bgmgh04</a>"
      ],
      "text/plain": [
       "<IPython.core.display.HTML object>"
      ]
     },
     "metadata": {},
     "output_type": "display_data"
    },
    {
     "data": {
      "text/html": [
       "<button onClick=\"this.nextSibling.style.display='block';this.style.display='none';\">Display W&B run</button><iframe src='https://wandb.ai/sakhawat/exoplanetml/runs/6bgmgh04?jupyter=true' style='border:none;width:100%;height:420px;display:none;'></iframe>"
      ],
      "text/plain": [
       "<wandb.sdk.wandb_run.Run at 0x7f373269ea90>"
      ]
     },
     "execution_count": 5,
     "metadata": {},
     "output_type": "execute_result"
    }
   ],
   "source": [
    "import wandb\n",
    "\n",
    "wandb.init(project=\"exoplanetml\", entity=\"sakhawat\",save_code=True,name='KNN Exp-1',job_type='analysis',reinit=True)"
   ]
  },
  {
   "cell_type": "code",
   "execution_count": 6,
   "metadata": {},
   "outputs": [],
   "source": [
    "import pandas as pd"
   ]
  },
  {
   "cell_type": "code",
   "execution_count": 7,
   "metadata": {},
   "outputs": [],
   "source": [
    "df = pd.read_csv('https://gitlab.com/mirsakhawathossain/exodata/-/raw/main/dataset/exodata.csv').sort_index(axis=0)"
   ]
  },
  {
   "cell_type": "code",
   "execution_count": 8,
   "metadata": {},
   "outputs": [],
   "source": [
    "columns_1 = df.columns[df.mean()==1]"
   ]
  },
  {
   "cell_type": "code",
   "execution_count": 9,
   "metadata": {},
   "outputs": [],
   "source": [
    "columns_2 = df.columns[df.mean()==0]"
   ]
  },
  {
   "cell_type": "code",
   "execution_count": 10,
   "metadata": {},
   "outputs": [],
   "source": [
    "df = df.drop(columns=columns_1)"
   ]
  },
  {
   "cell_type": "code",
   "execution_count": 11,
   "metadata": {},
   "outputs": [],
   "source": [
    "df = df.drop(columns=columns_2)"
   ]
  },
  {
   "cell_type": "code",
   "execution_count": 12,
   "metadata": {},
   "outputs": [],
   "source": [
    "X = df.drop(['exoplanet'],axis=1)"
   ]
  },
  {
   "cell_type": "code",
   "execution_count": 13,
   "metadata": {},
   "outputs": [
    {
     "data": {
      "text/plain": [
       "(75458, 741)"
      ]
     },
     "execution_count": 13,
     "metadata": {},
     "output_type": "execute_result"
    }
   ],
   "source": [
    "X.shape"
   ]
  },
  {
   "cell_type": "code",
   "execution_count": 14,
   "metadata": {},
   "outputs": [],
   "source": [
    "y = df[['exoplanet']]"
   ]
  },
  {
   "cell_type": "code",
   "execution_count": 15,
   "metadata": {},
   "outputs": [],
   "source": [
    "from sklearn.model_selection import train_test_split"
   ]
  },
  {
   "cell_type": "code",
   "execution_count": 16,
   "metadata": {},
   "outputs": [],
   "source": [
    "from sklearn import preprocessing\n",
    "scaler = preprocessing.StandardScaler().fit(X)\n",
    "X_new = scaler.transform(X)"
   ]
  },
  {
   "cell_type": "code",
   "execution_count": 17,
   "metadata": {},
   "outputs": [],
   "source": [
    "X_train, X_test, y_train, y_test = train_test_split(X_new, y, test_size=0.4, random_state=42)"
   ]
  },
  {
   "cell_type": "code",
   "execution_count": 18,
   "metadata": {},
   "outputs": [
    {
     "name": "stdout",
     "output_type": "stream",
     "text": [
      "(45274, 741)\n",
      "(30184, 741)\n"
     ]
    }
   ],
   "source": [
    "print(X_train.shape)\n",
    "print(X_test.shape)"
   ]
  },
  {
   "cell_type": "code",
   "execution_count": 19,
   "metadata": {},
   "outputs": [],
   "source": [
    "from sklearn.neighbors import KNeighborsClassifier\n",
    "from sklearn import metrics"
   ]
  },
  {
   "cell_type": "code",
   "execution_count": 20,
   "metadata": {},
   "outputs": [
    {
     "data": {
      "text/plain": [
       "KNeighborsClassifier(n_jobs=-1)"
      ]
     },
     "execution_count": 20,
     "metadata": {},
     "output_type": "execute_result"
    }
   ],
   "source": [
    "knn = KNeighborsClassifier(n_neighbors=5,n_jobs=-1)\n",
    "knn.fit(X_train,y_train)"
   ]
  },
  {
   "cell_type": "code",
   "execution_count": 21,
   "metadata": {},
   "outputs": [
    {
     "name": "stdout",
     "output_type": "stream",
     "text": [
      "0.6762523191094619\n"
     ]
    }
   ],
   "source": [
    "y_pred = knn.predict(X_test)\n",
    "print(metrics.accuracy_score(y_test,y_pred))"
   ]
  },
  {
   "cell_type": "code",
   "execution_count": 22,
   "metadata": {},
   "outputs": [],
   "source": [
    "#wandb.sklearn.plot_residuals(knn, X_train, y_train) # This is for regression problem only"
   ]
  },
  {
   "cell_type": "code",
   "execution_count": 23,
   "metadata": {},
   "outputs": [],
   "source": [
    "# wandb.sklearn.plot_outlier_candidates(knn, X_train, y_train) # This is for regression problem only"
   ]
  },
  {
   "cell_type": "code",
   "execution_count": null,
   "metadata": {},
   "outputs": [],
   "source": [
    "# wandb.sklearn.plot_learning_curve(knn, X, y) Takes more time"
   ]
  },
  {
   "cell_type": "code",
   "execution_count": 25,
   "metadata": {},
   "outputs": [
    {
     "name": "stdout",
     "output_type": "stream",
     "text": [
      "\n",
      "Results\n",
      "Confusion matrix \n",
      " [[ 7906  6183]\n",
      " [ 3589 12506]]\n"
     ]
    }
   ],
   "source": [
    "print(\"\\nResults\\nConfusion matrix \\n {}\".format(metrics.confusion_matrix(y_test, y_pred)))"
   ]
  },
  {
   "cell_type": "code",
   "execution_count": 45,
   "metadata": {},
   "outputs": [
    {
     "name": "stdout",
     "output_type": "stream",
     "text": [
      "\n",
      "F1 Score \n",
      " 0.7190662373505061\n",
      "\n",
      "Precision Score \n",
      " 0.669163679169565\n",
      "\n",
      "Recall Score \n",
      " 0.7770114942528735\n"
     ]
    }
   ],
   "source": [
    "print('\\nF1 Score \\n {}'.format(metrics.f1_score(y_test, y_pred)))\n",
    "print('\\nPrecision Score \\n {}'.format(metrics.precision_score(y_test, y_pred)))\n",
    "print('\\nRecall Score \\n {}'.format(metrics.recall_score(y_test, y_pred)))\n",
    "#precision = precision_score(y_test, y_pred)\n",
    "#recall = recall_score(y_test, y_pred)"
   ]
  },
  {
   "cell_type": "code",
   "execution_count": 29,
   "metadata": {},
   "outputs": [],
   "source": [
    "y_probas = knn.predict_proba(X_test)"
   ]
  },
  {
   "cell_type": "code",
   "execution_count": 33,
   "metadata": {},
   "outputs": [],
   "source": [
    "wandb.sklearn.plot_roc(y_test, y_probas, ['0','1'])"
   ]
  },
  {
   "cell_type": "code",
   "execution_count": 34,
   "metadata": {},
   "outputs": [],
   "source": [
    "wandb.sklearn.plot_precision_recall(y_test, y_probas, ['0','1'])"
   ]
  },
  {
   "cell_type": "code",
   "execution_count": 36,
   "metadata": {},
   "outputs": [],
   "source": [
    "# wandb.sklearn.plot_feature_importances(knn, df.columns.values.tolist()) Only those clf or reg where feature importance can be found"
   ]
  },
  {
   "cell_type": "code",
   "execution_count": 49,
   "metadata": {},
   "outputs": [],
   "source": [
    "#wandb.sklearn.plot_calibration_curve(knn, X_test, y_test, 'RandomForestClassifier') #Unknown cause"
   ]
  },
  {
   "cell_type": "code",
   "execution_count": 53,
   "metadata": {},
   "outputs": [],
   "source": [
    "#wandb.sklearn.plot_summary_metrics(knn, X_train, X_test, y_train, y_test) #Unknown cause\n"
   ]
  },
  {
   "cell_type": "code",
   "execution_count": null,
   "metadata": {},
   "outputs": [
    {
     "name": "stderr",
     "output_type": "stream",
     "text": [
      "\u001b[34m\u001b[1mwandb\u001b[0m: \n",
      "\u001b[34m\u001b[1mwandb\u001b[0m: Plotting KNN.\n",
      "\u001b[34m\u001b[1mwandb\u001b[0m: \u001b[33mWARNING\u001b[0m could not find any of attributes feature_importances_, feature_log_prob_, coef_ on classifier. Cannot plot feature importances.\n",
      "\u001b[34m\u001b[1mwandb\u001b[0m: Logged feature importances.\n",
      "\u001b[34m\u001b[1mwandb\u001b[0m: Logged confusion matrix.\n"
     ]
    }
   ],
   "source": [
    "wandb.sklearn.plot_classifier(knn, X_train, X_test, y_train, y_test, y_pred, y_probas, labels=df.columns.values.tolist(),\n",
    "                                                         model_name='KNN', feature_names=None)\n",
    "\n",
    "\n"
   ]
  },
  {
   "cell_type": "code",
   "execution_count": null,
   "metadata": {},
   "outputs": [],
   "source": []
  }
 ],
 "metadata": {
  "kernelspec": {
   "display_name": "Python 3.8 (py38)",
   "language": "python",
   "name": "py38"
  },
  "language_info": {
   "codemirror_mode": {
    "name": "ipython",
    "version": 3
   },
   "file_extension": ".py",
   "mimetype": "text/x-python",
   "name": "python",
   "nbconvert_exporter": "python",
   "pygments_lexer": "ipython3",
   "version": "3.8.5"
  }
 },
 "nbformat": 4,
 "nbformat_minor": 4
}
